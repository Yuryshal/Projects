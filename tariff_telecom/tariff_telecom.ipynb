{
  "cells": [
    {
      "cell_type": "markdown",
      "metadata": {
        "id": "pdJ-24RLG0Wx"
      },
      "source": [
        "# Анализ тарифов Сотовой компании\n",
        "\n",
        "В нашем распоряжении данные 500 пользователей Оператора: кто они, откуда, каким тарифом пользуются, сколько звонков и сообщений каждый отправил за 2018 год. Нужно проанализировать поведение клиентов и сделать вывод — какой тариф лучше. Клиентам предлагается два тарифных плана: «Смарт» и «Ультра».\n",
        "\n",
        "**Цель исследования** \n",
        "\n",
        "Необходимо сделать предварительный анализ тарифов и проверить гипотезы на небольшой выборке клиентов, чтобы понять, какой тариф приносит больше денег. Результаты исследования будут переданы в коммерческий департамент, чтобы скорректировать рекламный бюджет.\n",
        "\n",
        "Проверка гипотез:\n",
        "- средняя выручка пользователей тарифов «Ультра» и «Смарт» различаются;\n",
        "- средняя выручка пользователей из Москвы отличается от выручки пользователей из других регионов.\n",
        "\n",
        "**Ход исследования**\n",
        "\n",
        "Входные данные — архив данных компании. О качестве данных ничего не известно. Поэтому перед нашим исследованием понадобится обзор данных. Необходимо проверить данные на ошибки и оценить их влияние. Затем, на этапе предобработки нужно поискать возможность исправить самые критичные ошибки и подготовить данные к анализу. \n",
        "\n",
        "Таким образом, исследование пройдёт в три этапа:\n",
        " 1. Обзор данных.\n",
        " 2. Предобработка данных.\n",
        " 3. Исследование данных.\n",
        " 4. Проверка гипотез.\n",
        "\n",
        "**Тариф «Смарт»**\n",
        "1. Ежемесячная плата: 550 рублей\n",
        "2. Включено 500 минут разговора, 50 сообщений и 15 Гб интернет-трафика\n",
        "3. Стоимость услуг сверх тарифного пакета:\n",
        "- минута разговора: 3 рубля\n",
        "- сообщение: 3 рубля\n",
        "- 1 Гб интернет-трафика: 200 рублей\n",
        "\n",
        "**Тариф «Ультра»**\n",
        "1. Ежемесячная плата: 1950 рублей\n",
        "2. Включено 3000 минут разговора, 1000 сообщений и 30 Гб интернет-трафика\n",
        "3. Стоимость услуг сверх тарифного пакета:\n",
        "- минута разговора: 1 рубль\n",
        "- сообщение: 1 рубль\n",
        "- 1 Гб интернет-трафика: 150 рублей\n",
        "\n",
        "**Примечание:**\n",
        "Оператор всегда округляет секунды до минут, а мегабайты — до гигабайт. Каждый звонок округляется отдельно: даже если он длился всего 1 секунду, будет засчитан как 1 минута.\n",
        "Для веб-трафика отдельные сессии не считаются. Вместо этого общая сумма за месяц округляется в бо́льшую сторону. Если абонент использует 1025 мегабайт в этом месяце, с него возьмут плату за 2 гигабайта."
      ]
    },
    {
      "cell_type": "markdown",
      "metadata": {
        "id": "41tTP-7JG0W1"
      },
      "source": [
        "## Обзор данных"
      ]
    },
    {
      "cell_type": "markdown",
      "metadata": {
        "id": "qqV4rgrFG0W2"
      },
      "source": [
        "### Открытие файлов. Общее предоставление"
      ]
    },
    {
      "cell_type": "markdown",
      "metadata": {
        "id": "FSh3TJxhG0W3"
      },
      "source": [
        "Импортируем библиотеки для работы в Питоне."
      ]
    },
    {
      "cell_type": "code",
      "execution_count": null,
      "metadata": {
        "id": "PD29ar6nG0W4",
        "scrolled": false
      },
      "outputs": [],
      "source": [
        "import pandas as pd\n",
        "import numpy as np\n",
        "import seaborn as sns\n",
        "import matplotlib.pyplot as plt\n",
        "from scipy import stats as st\n",
        "from scipy.stats import levene"
      ]
    },
    {
      "cell_type": "markdown",
      "metadata": {
        "id": "pCdhSkLXG0W7"
      },
      "source": [
        "Нам предоставили 5 файлов с записями о самих клиентах, их звонках, пользованием интернета, сообщениях, тарифах. Откроем эти таблицы и изучим общую информацию о данных. Прочитаем файлы и сохраним их в переменных `u, calls, i, m, t` соответственно.\n",
        "\n",
        "Изучим информацию о клиентах."
      ]
    },
    {
      "cell_type": "code",
      "execution_count": null,
      "metadata": {
        "id": "0F3_YFhgG0W-",
        "scrolled": false
      },
      "outputs": [],
      "source": [
        "u = pd.read_csv('users.csv') \n",
        "u.head() "
      ]
    },
    {
      "cell_type": "markdown",
      "metadata": {
        "id": "8ZI1PFZbG0W_"
      },
      "source": [
        "**Описание данных.**\n",
        "\n",
        "Согласно документации к данным:\n",
        "\n",
        "Таблица users (информация о пользователях):\n",
        "- user_id — уникальный идентификатор пользователя\n",
        "- first_name — имя пользователя\n",
        "- last_name — фамилия пользователя\n",
        "- age — возраст пользователя (годы)\n",
        "- reg_date — дата подключения тарифа (день, месяц, год)\n",
        "- churn_date — дата прекращения пользования тарифом (если значение пропущено, то тариф ещё действовал на момент выгрузки данных)\n",
        "- city — город проживания пользователя\n",
        "- tarif — название тарифного плана"
      ]
    },
    {
      "cell_type": "code",
      "execution_count": null,
      "metadata": {
        "id": "Ntv2bW9QG0XA",
        "scrolled": false
      },
      "outputs": [],
      "source": [
        "u.info()"
      ]
    },
    {
      "cell_type": "markdown",
      "metadata": {
        "id": "Nx7fVGqEG0XB"
      },
      "source": [
        "В предоставленном файле информация о 500 клиентах. Столбец `churn_date` — дата прекращения пользования тарифом, заполнено только для 38 случаев, если значение пропущено, то тариф ещё действовал на момент выгрузки данных.\n",
        "\n",
        "Подробнее изучим распределение значений методом `describe()`, а также найдем количество явных дубликатов - `duplicated().sum()`."
      ]
    },
    {
      "cell_type": "code",
      "execution_count": null,
      "metadata": {
        "id": "vPoSibH-G0XB"
      },
      "outputs": [],
      "source": [
        "print('Количество явных дубликатов:', u.duplicated().sum())"
      ]
    },
    {
      "cell_type": "code",
      "execution_count": null,
      "metadata": {
        "id": "j9iRKnqFG0XC",
        "scrolled": true
      },
      "outputs": [],
      "source": [
        "# distribution of data values\n",
        "u.describe() "
      ]
    },
    {
      "cell_type": "markdown",
      "metadata": {
        "id": "T6P7lFP5G0XC"
      },
      "source": [
        "Отрицательные значения отсутствуют. Средний возраст клиента 46 лет. Разница медианы и среднего значения составляет всего полгода, что говорит о минимальных выбросах в данных."
      ]
    },
    {
      "cell_type": "code",
      "execution_count": null,
      "metadata": {
        "id": "V9Yb7wvIG0XD",
        "scrolled": true
      },
      "outputs": [],
      "source": [
        "u['tariff'].value_counts() "
      ]
    },
    {
      "cell_type": "code",
      "execution_count": null,
      "metadata": {
        "id": "MvmGosfFG0XE",
        "scrolled": true
      },
      "outputs": [],
      "source": [
        "# share of clients 'smart'\n",
        "share_smart = u[u['tariff']=='smart']['tariff'].copy()\n",
        "share_smart = share_smart.shape[0] / u.shape[0]\n",
        "print(f'Доля клиентов Смарт составляет {share_smart:.1%}')"
      ]
    },
    {
      "cell_type": "markdown",
      "metadata": {
        "id": "TSF5vGfWG0XE"
      },
      "source": [
        "Клиенты в основном подключены к тарифу \"Смарт\"."
      ]
    },
    {
      "cell_type": "markdown",
      "metadata": {
        "id": "GfZkyhkSG0XF"
      },
      "source": [
        "Теперь откроем файл `calls.csv`."
      ]
    },
    {
      "cell_type": "code",
      "execution_count": null,
      "metadata": {
        "id": "0CrBxusHG0XF",
        "scrolled": false
      },
      "outputs": [],
      "source": [
        "calls = pd.read_csv('calls.csv') \n",
        "calls.head() "
      ]
    },
    {
      "cell_type": "markdown",
      "metadata": {
        "id": "o5HVE3YgG0XG"
      },
      "source": [
        "**Описание данных.**\n",
        "\n",
        "Согласно документации к данным:\n",
        "\n",
        "Таблица calls (информация о звонках):\n",
        "- id — уникальный номер звонка\n",
        "- call_date — дата звонка\n",
        "- duration — длительность звонка в минутах\n",
        "- user_id — идентификатор пользователя, сделавшего звонок"
      ]
    },
    {
      "cell_type": "code",
      "execution_count": null,
      "metadata": {
        "id": "7yy0kt2yG0XH",
        "scrolled": true
      },
      "outputs": [],
      "source": [
        "calls.info()"
      ]
    },
    {
      "cell_type": "markdown",
      "metadata": {
        "id": "DGVpfclqG0XH"
      },
      "source": [
        "В предоставленном файле регистрация 202607 звонков. Столбец `call_date` - дата звонка, переведем эти данные в формат месяца в разделе 2. Столбец `duration` - длительность звонка тип `float`, округлим эти данные до большего целого в разделе 2. \n",
        "\n",
        "Подробнее изучим распределение значений методом `describe()`, а также найдем количество явных дубликатов - `duplicated().sum()`."
      ]
    },
    {
      "cell_type": "code",
      "execution_count": null,
      "metadata": {
        "id": "M2w6CM1KG0XI"
      },
      "outputs": [],
      "source": [
        "print('Количество явных дубликатов:', calls.duplicated().sum())"
      ]
    },
    {
      "cell_type": "code",
      "execution_count": null,
      "metadata": {
        "id": "xX5iZ34AG0XJ",
        "scrolled": true
      },
      "outputs": [],
      "source": [
        "# distribution of data values\n",
        "calls.describe() "
      ]
    },
    {
      "cell_type": "markdown",
      "metadata": {
        "id": "sKnmj41NG0XJ"
      },
      "source": [
        "Отрицательные значения отсутствуют. Звонок в среднем длился 6.8 минут. Разница медианы и среднего значения составляет всего 0.8 минуты, что говорит о минимальных выбросах в данных. Максимальное значение 38 минут похоже на выброс - аномальное значение. Имеются звонки с нулевой продолжительностью. Это не ошибка: нулями обозначены пропущенные звонки, поэтому их не нужно удалять."
      ]
    },
    {
      "cell_type": "markdown",
      "metadata": {
        "id": "uRwlAzgfG0XK"
      },
      "source": [
        "Теперь откроем файл `internet.csv`."
      ]
    },
    {
      "cell_type": "code",
      "execution_count": null,
      "metadata": {
        "id": "xAyARH74G0XL",
        "scrolled": false
      },
      "outputs": [],
      "source": [
        "i = pd.read_csv('internet.csv') \n",
        "i.head() "
      ]
    },
    {
      "cell_type": "markdown",
      "metadata": {
        "id": "8YV0lIqFG0XL"
      },
      "source": [
        "**Описание данных.**\n",
        "\n",
        "Согласно документации к данным:\n",
        "\n",
        "Таблица internet (информация об интернет-сессиях):\n",
        "- id — уникальный номер сессии\n",
        "- mb_used — объём потраченного за сессию интернет-трафика (в мегабайтах)\n",
        "- session_date — дата интернет-сессии\n",
        "- user_id — идентификатор пользователя"
      ]
    },
    {
      "cell_type": "code",
      "execution_count": null,
      "metadata": {
        "id": "i_MkEaW2G0XM",
        "scrolled": false
      },
      "outputs": [],
      "source": [
        "i.info()"
      ]
    },
    {
      "cell_type": "markdown",
      "metadata": {
        "id": "uaYfOd3OG0XN"
      },
      "source": [
        "В предоставленном файле регистрация 149396 случаев использования интернет-трафика. Столбец `session_date` - дата сессии, переведем эти данные в формат месяца в разделе 2. Столбец `mb_used` - объем потраченного трафика в мегабайтах тип `float`, округлим эти данные до большего целого и переведем в гигабайты в разделе 2. Столбец `Unnamed: 0` дублирует индекс датасета - это лишняя информация, можем его удалить.\n",
        "\n",
        "Подробнее изучим распределение значений методом `describe()`, а также найдем количество явных дубликатов - `duplicated().sum()`."
      ]
    },
    {
      "cell_type": "code",
      "execution_count": null,
      "metadata": {
        "id": "oSrn4IBCG0XN"
      },
      "outputs": [],
      "source": [
        "print('Количество явных дубликатов:', i.duplicated().sum())"
      ]
    },
    {
      "cell_type": "code",
      "execution_count": null,
      "metadata": {
        "id": "IgiJnSo1G0XO"
      },
      "outputs": [],
      "source": [
        "# remove column 'Unnamed: 0'\n",
        "i = i.drop(columns = 'Unnamed: 0',  axis=1) \n",
        "\n",
        "# distribution of data values\n",
        "i.describe() "
      ]
    },
    {
      "cell_type": "markdown",
      "metadata": {
        "id": "oWvwG3-sG0XO"
      },
      "source": [
        "Отрицательные значения отсутствуют. Сессия среднего пользователя использует 370 Мб. Разница медианы и среднего значения составляет 22 Мб, что говорит о выбросах в данных. Максимальное значение 1724.83 Мб похоже на выброс - уникальное значение. Имеются сессии с нулевым трафиком, обозначим их как пропуски для заполнения (см. раздел 2)."
      ]
    },
    {
      "cell_type": "markdown",
      "metadata": {
        "id": "Xsrox3x3G0XP"
      },
      "source": [
        "Теперь откроем файл `messages.csv`."
      ]
    },
    {
      "cell_type": "code",
      "execution_count": null,
      "metadata": {
        "id": "5QfnFNMjG0XQ",
        "scrolled": true
      },
      "outputs": [],
      "source": [
        "m = pd.read_csv('messages.csv') \n",
        "m.head() "
      ]
    },
    {
      "cell_type": "markdown",
      "metadata": {
        "id": "CKm9W_YMG0XQ"
      },
      "source": [
        "**Описание данных.**\n",
        "\n",
        "Согласно документации к данным:\n",
        "\n",
        "Таблица messages (информация о сообщениях):\n",
        "- id — уникальный номер сообщения\n",
        "- message_date — дата сообщения\n",
        "- user_id — идентификатор пользователя, отправившего сообщение"
      ]
    },
    {
      "cell_type": "code",
      "execution_count": null,
      "metadata": {
        "id": "9JHpaDMQG0XR",
        "scrolled": false
      },
      "outputs": [],
      "source": [
        "m.info()"
      ]
    },
    {
      "cell_type": "markdown",
      "metadata": {
        "id": "njFgoJ0FG0XR"
      },
      "source": [
        "В предоставленном файле регистрация 123036 сообщений. Столбец `message_date` - дата сообщения, переведем эти данные в формат месяца в разделе 2. Найдем количество явных дубликатов - `duplicated().sum()`."
      ]
    },
    {
      "cell_type": "code",
      "execution_count": null,
      "metadata": {
        "id": "18NM-sq7G0XS"
      },
      "outputs": [],
      "source": [
        "print('Количество явных дубликатов:', m.duplicated().sum())"
      ]
    },
    {
      "cell_type": "markdown",
      "metadata": {
        "id": "Rme-EWuLG0XS"
      },
      "source": [
        "Теперь откроем файл `tariffs.csv`."
      ]
    },
    {
      "cell_type": "code",
      "execution_count": null,
      "metadata": {
        "id": "Ixmo-oBpG0XS"
      },
      "outputs": [],
      "source": [
        "t = pd.read_csv('tariffs.csv') \n",
        "t"
      ]
    },
    {
      "cell_type": "markdown",
      "metadata": {
        "id": "SWOSpaAaG0XT"
      },
      "source": [
        "**Описание данных.**\n",
        "\n",
        "Согласно документации к данным:\n",
        "\n",
        "Таблица tariffs (информация о тарифах):\n",
        "- tariff_name — название тарифа\n",
        "- rub_monthly_fee — ежемесячная абонентская плата в рублях\n",
        "- minutes_included — количество минут разговора в месяц, включённых в абонентскую плату\n",
        "- messages_included — количество сообщений в месяц, включённых в абонентскую плату\n",
        "- mb_per_month_included — объём интернет-трафика, включённого в абонентскую плату (в мегабайтах)\n",
        "- rub_per_minute — стоимость минуты разговора сверх тарифного пакета (например, если в тарифе 100 минут разговора в месяц, то со 101 минуты будет взиматься плата)\n",
        "- rub_per_message — стоимость отправки сообщения сверх тарифного пакета\n",
        "- rub_per_gb — стоимость дополнительного гигабайта интернет-трафика сверх тарифного пакета (1 гигабайт = 1024 мегабайта)\n",
        "\n",
        "Необходимо перевести Мб в Гб. Сделаем это преобразование в разделе 2."
      ]
    },
    {
      "cell_type": "markdown",
      "metadata": {
        "id": "B-uabO4jG0XU"
      },
      "source": [
        "### Вывод"
      ]
    },
    {
      "cell_type": "markdown",
      "metadata": {
        "id": "xVIZzLaUG0XU"
      },
      "source": [
        "Мы получили общее представление о данных. В выборке имеется информация о 500 клиентах за 2018 год: архив звонков, сообщений и интернет сессий, а также общие данные о пользователях и тарифах. Клиенты в основном подключены к тарифу \"Смарт\", доля составляет 70.2%. \n",
        "\n",
        "В данных были обнаружены проблемы. Некоторые из них необходимо преобразовать, чтобы привести информацию в форму более удобную для анализа:\n",
        "\n",
        "- Столбец \"churn_date\" содержит пропуски. На исследование не влияет, можем оставить.\n",
        "- Даты в столбцах переведем в формат месяца.\n",
        "- Нулевые значения для звонков и интернет сессий можем оставить. Это либо пропущенные звонки, либо сессия с нулевым интернет-трафиком.\n",
        "- Значения длительности звонков округлить до целых в большую сторону.\n",
        "- Столбец \"Unnamed: 0\" был удален, как дублирующий.\n",
        "- Значения интернет-трафика округлить до целых в большую сторону. \n",
        "- Перевести мегабайты в гигабайты."
      ]
    },
    {
      "cell_type": "markdown",
      "metadata": {
        "id": "r0biJvhBG0XV"
      },
      "source": [
        "## Предобработка данных"
      ]
    },
    {
      "cell_type": "markdown",
      "metadata": {
        "id": "tqSwaKn9G0XV"
      },
      "source": [
        "### Клиенты"
      ]
    },
    {
      "cell_type": "markdown",
      "metadata": {
        "id": "V5_tQtY8G0XW"
      },
      "source": [
        "Информация в таблице избыточна, не все данные нужны нам для анализа. Перенесем данные столбцов `user_id, city, tariff` в новую таблицу."
      ]
    },
    {
      "cell_type": "code",
      "execution_count": null,
      "metadata": {
        "id": "XGV17jp3G0XW",
        "scrolled": false
      },
      "outputs": [],
      "source": [
        "# copy of data 'user_id', 'city', 'tariff'\n",
        "ua = u[['user_id', 'city', 'tariff']].copy() \n",
        "ua.head()"
      ]
    },
    {
      "cell_type": "markdown",
      "metadata": {
        "id": "OfJS08vaG0XX"
      },
      "source": [
        "### Сообщения"
      ]
    },
    {
      "cell_type": "markdown",
      "metadata": {
        "id": "oRV1nTnkG0XX"
      },
      "source": [
        "Информация в таблице требует доработки. Добавим указание месяца для каждой строки с помощью метода `DatetimeIndex`. Соберем данные в сводную таблицу с группировкой по месяцам и пользователям для определения количества сообщений. "
      ]
    },
    {
      "cell_type": "code",
      "execution_count": null,
      "metadata": {
        "id": "JAaH5ALBG0XY",
        "scrolled": true
      },
      "outputs": [],
      "source": [
        "# set month for dates\n",
        "m['month'] = pd.DatetimeIndex(m['message_date']).month \n",
        "\n",
        "# pivot table for data of messages\n",
        "ma = m.pivot_table(index=['user_id', 'month'], values='id', aggfunc='count')\n",
        "\n",
        "# change the column name\n",
        "ma.columns = ['sms_count'] \n",
        "\n",
        "# reset multi-index\n",
        "ma = ma.reset_index() \n",
        "ma.head()"
      ]
    },
    {
      "cell_type": "markdown",
      "metadata": {
        "id": "4666ad7ZG0XY"
      },
      "source": [
        "### Звонки"
      ]
    },
    {
      "cell_type": "markdown",
      "metadata": {
        "id": "6xOPXtj1G0XY"
      },
      "source": [
        "«Мегалайн» всегда округляет секунды до минут. Округлим в данных продолжительность звонков до большего целого. Результат запишем в новый столбец. Воспользуемся методом `ceil` из библиотеки `numpy`."
      ]
    },
    {
      "cell_type": "code",
      "execution_count": null,
      "metadata": {
        "id": "M2Hijk1cG0XY"
      },
      "outputs": [],
      "source": [
        "# round of calls duration to the nearest greater integer\n",
        "calls['dur_round'] = calls['duration'].apply(np.ceil) \n",
        "calls.head()"
      ]
    },
    {
      "cell_type": "markdown",
      "metadata": {
        "id": "yzL0IqsvG0XZ"
      },
      "source": [
        "Информация в таблице требует доработки. Добавим указание месяца для каждой строки с помощью метода `DatetimeIndex`. Соберем данные в сводную таблицу с группировкой по месяцам и пользователям для определения количества и длительности звонков. "
      ]
    },
    {
      "cell_type": "code",
      "execution_count": null,
      "metadata": {
        "id": "vo-oGfEpG0XZ",
        "scrolled": true
      },
      "outputs": [],
      "source": [
        "# set month for dates\n",
        "calls['month'] = pd.DatetimeIndex(calls['call_date']).month \n",
        "\n",
        "# pivot table for data of calls\n",
        "ca = calls.pivot_table(index=['user_id', 'month'], values='dur_round', \n",
        "                       aggfunc=['sum','count']) \n",
        "\n",
        "# change the column name\n",
        "ca.columns = ['calls_sum', 'calls_count'] \n",
        "\n",
        "# reset multi-index\n",
        "ca = ca.reset_index() \n",
        "ca.head()"
      ]
    },
    {
      "cell_type": "markdown",
      "metadata": {
        "id": "2XuEJs7eG0Xa"
      },
      "source": [
        "### Интернет"
      ]
    },
    {
      "cell_type": "markdown",
      "metadata": {
        "id": "EF2cR2k1G0Xa"
      },
      "source": [
        "Информация в таблице требует доработки. «Мегалайн» всегда округляет общую сумму за месяц в бо́льшую сторону. Округлим в данных количество трафика до большего целого. Воспользуемся методом `ceil` из библиотеки `numpy`. Добавим указание месяца для каждой строки с помощью метода `DatetimeIndex`. Соберем данные в сводную таблицу с группировкой по месяцам и пользователям для определения количества трафика. "
      ]
    },
    {
      "cell_type": "code",
      "execution_count": null,
      "metadata": {
        "id": "yhRjPQzVG0Xa"
      },
      "outputs": [],
      "source": [
        "# round of mb_used to the nearest greater integer\n",
        "i['mb_used_round'] = i['mb_used'].apply(np.ceil) \n",
        "\n",
        "# set month for dates\n",
        "i['month'] = pd.DatetimeIndex(i['session_date']).month \n",
        "\n",
        "# pivot table for data of web-traffic\n",
        "ia = i.pivot_table(index=['user_id', 'month'], values='mb_used_round', \n",
        "                   aggfunc='sum')\n",
        "\n",
        "# change the column name\n",
        "ia.columns = ['mb_sum'] \n",
        "\n",
        "# reset multi-index\n",
        "ia = ia.reset_index() \n",
        "ia.head()"
      ]
    },
    {
      "cell_type": "markdown",
      "metadata": {
        "id": "rfabde_8G0Xb"
      },
      "source": [
        "Тарифы используют значения трафика в гигабайтах для расчета стоимости. Переведем мегабайты соответственно, результат запишем в новый столбец."
      ]
    },
    {
      "cell_type": "code",
      "execution_count": null,
      "metadata": {
        "id": "VvKmTsiBG0Xc"
      },
      "outputs": [],
      "source": [
        "# transfer Mb to Gb\n",
        "ia['gb_used'] = ia['mb_sum']/1024 \n",
        "ia.head()"
      ]
    },
    {
      "cell_type": "markdown",
      "metadata": {
        "id": "LCtSI3pjG0Xc"
      },
      "source": [
        "Округлим в данных количество трафика до большего целого. Удалим столбец `mb_sum`."
      ]
    },
    {
      "cell_type": "code",
      "execution_count": null,
      "metadata": {
        "id": "lPFlQyT7G0Xc",
        "scrolled": false
      },
      "outputs": [],
      "source": [
        "# round of gb_used to the nearest greater integer\n",
        "ia['gb_used'] = ia['gb_used'].apply(np.ceil) \n",
        "ia = ia.drop(columns = 'mb_sum',axis = 1)\n",
        "ia.head()"
      ]
    },
    {
      "cell_type": "markdown",
      "metadata": {
        "id": "CwIcZaeAG0Xe"
      },
      "source": [
        "### Тариф"
      ]
    },
    {
      "cell_type": "markdown",
      "metadata": {
        "id": "BHfchmkSG0Xe"
      },
      "source": [
        "Тарифы используют значения трафика в гигабайтах для расчета стоимости. Запишем новый столбец для Гб."
      ]
    },
    {
      "cell_type": "code",
      "execution_count": null,
      "metadata": {
        "id": "1srbDHRAG0Xf"
      },
      "outputs": [],
      "source": [
        "t['gb_incl'] = t['mb_per_month_included']/1024"
      ]
    },
    {
      "cell_type": "markdown",
      "metadata": {
        "id": "Q36cYEyZG0Xf"
      },
      "source": [
        "Информация в таблице избыточна, не все данные нужны нам для анализа. Удалим столбец `mb_per_month_included`. Запишем названия столбцов более кратко."
      ]
    },
    {
      "cell_type": "code",
      "execution_count": null,
      "metadata": {
        "id": "KKKz-g_JG0Xg"
      },
      "outputs": [],
      "source": [
        "# remove column\n",
        "t = t.drop(columns = 'mb_per_month_included',axis = 1) \n",
        "\n",
        "# change columns name\n",
        "t.columns = ['sms_incl', 'minut_incl', 'rub_fee',\n",
        "       'rub_gb', 'rub_sms', 'rub_minut', 'tariff',\n",
        "       'gb_incl']\n",
        "t"
      ]
    },
    {
      "cell_type": "markdown",
      "metadata": {
        "id": "nSK7_xa_G0Xh"
      },
      "source": [
        "### Общие данные"
      ]
    },
    {
      "cell_type": "markdown",
      "metadata": {
        "id": "1yGXFlQmG0Xh"
      },
      "source": [
        "Соберем все данные о клиентах в общий датасет `df`. Воспользуемся методом `merge` для объединения данных. Сводные таблицы звонков, сообщений и трафика пользователей объединим по столбцам `user_id, month`."
      ]
    },
    {
      "cell_type": "code",
      "execution_count": null,
      "metadata": {
        "id": "upuwjK8qG0Xi"
      },
      "outputs": [],
      "source": [
        "# merge data of calls with sms and web-traffic\n",
        "df = ma.merge(ca, on=['user_id', 'month'], how='outer')\n",
        "df = df.merge(ia, on=['user_id', 'month'], how='outer')"
      ]
    },
    {
      "cell_type": "markdown",
      "metadata": {
        "id": "3Y2ytSv4G0Xi"
      },
      "source": [
        "Присоединим информацию о клиентах и тарифе. Объединим общие данные по столбцам `user_id, tariff` соответственно."
      ]
    },
    {
      "cell_type": "code",
      "execution_count": null,
      "metadata": {
        "id": "cUlgVJhgG0Xj"
      },
      "outputs": [],
      "source": [
        "# merge data of clients and tariff\n",
        "df = df.merge(ua, on='user_id')\n",
        "df = df.merge(t, on='tariff')\n",
        "\n",
        "df.head()"
      ]
    },
    {
      "cell_type": "markdown",
      "metadata": {
        "id": "dVORzgqhG0Xl"
      },
      "source": [
        "Проверим, сколько пользователей представлено в результирующей таблице и какие пропущены."
      ]
    },
    {
      "cell_type": "code",
      "execution_count": null,
      "metadata": {
        "id": "Lw8vDn_2G0Xl",
        "scrolled": true
      },
      "outputs": [],
      "source": [
        "len(df['user_id'].unique())"
      ]
    },
    {
      "cell_type": "code",
      "execution_count": null,
      "metadata": {
        "id": "oGL_zC01G0Xm",
        "scrolled": true
      },
      "outputs": [],
      "source": [
        "u.query('user_id not in @df.user_id')"
      ]
    },
    {
      "cell_type": "markdown",
      "metadata": {
        "id": "0BTe79ILG0Xm"
      },
      "source": [
        "Обратим внимание, что таблица представлена только для 498 клиентов из 500. В предоставленной выборке не было информации о клиентах с user_id 1128 и 1371. Клиенты, отсутствующие в итоговой таблице, даже не пользовались тарифными планами, о чем свидетельствует подключение и отключение тарифных планов в один месяц. Отсутствие этих данных не повлияет на анализ.\n",
        "\n",
        "Выведем информацию о полученном df."
      ]
    },
    {
      "cell_type": "code",
      "execution_count": null,
      "metadata": {
        "id": "lkp3Gh_bG0Xo",
        "scrolled": true
      },
      "outputs": [],
      "source": [
        "df.info()"
      ]
    },
    {
      "cell_type": "markdown",
      "metadata": {
        "id": "t6x9iHXqG0Xp"
      },
      "source": [
        "В результирующей таблице появились пропущенные значения. Пользователи не всегда одновременно пользовались всеми услугами мобильного оператора. Оставлять пропуски тоже не очень удобно, значения `NaN` могут технически помешать выполнению методов в Python. Выполним замену в этих столбцах на \"0\", это будет логично. Округлим данные в столбцах `'sms_count', 'calls_sum', 'calls_count', 'gb_used', 'gb_incl'` до целых."
      ]
    },
    {
      "cell_type": "code",
      "execution_count": null,
      "metadata": {
        "id": "zcsxs5SrG0Xr",
        "scrolled": true
      },
      "outputs": [],
      "source": [
        "# filling NaN with \"0\"\n",
        "df = df.fillna(0) \n",
        "\n",
        "# list of columns are transfered to integer\n",
        "columns_int = ['sms_count', 'calls_sum', 'calls_count', 'gb_used', 'gb_incl']\n",
        "\n",
        "# transfer to integer\n",
        "df[columns_int] = df[columns_int].astype(int) \n",
        "df.info()"
      ]
    },
    {
      "cell_type": "markdown",
      "metadata": {
        "id": "WEgca7u2G0Xr"
      },
      "source": [
        "Пропуски в данных отсутствуют."
      ]
    },
    {
      "cell_type": "markdown",
      "metadata": {
        "id": "eaYIWw5MG0Xs"
      },
      "source": [
        "### Помесячная выручка"
      ]
    },
    {
      "cell_type": "markdown",
      "metadata": {
        "id": "1Q3TRFvMG0Xs"
      },
      "source": [
        "Посчитаем помесячную выручку с каждого пользователя (вычтем бесплатный лимит из суммарного количества звонков, сообщений и интернет-трафика; остаток умножим на значение из тарифного плана; прибавим абонентскую плату, соответствующую тарифному плану). Функция `profit` выполнит эти расчеты для каждой строки. Запишем результат в новый столбец."
      ]
    },
    {
      "cell_type": "code",
      "execution_count": null,
      "metadata": {
        "id": "kpoWWOAxG0Xt",
        "scrolled": true
      },
      "outputs": [],
      "source": [
        "# function of profit calculation\n",
        "def profit(row):\n",
        "    \n",
        "    sms = row['sms_incl']-row['sms_count']\n",
        "    calls = row['minut_incl']-row['calls_sum']\n",
        "    traffic = row['gb_incl']-row['gb_used']\n",
        "    profit_sms = 0\n",
        "    profit_calls = 0\n",
        "    profit_traffic = 0\n",
        "    \n",
        "    if sms < 0:\n",
        "        profit_sms = abs(sms)*row['rub_sms']\n",
        "    if calls < 0:\n",
        "        profit_calls = abs(calls)*row['rub_minut']\n",
        "    if traffic < 0:\n",
        "        profit_traffic = abs(traffic)*row['rub_gb']\n",
        "    profit = row['rub_fee'] + profit_sms + profit_calls + profit_traffic\n",
        "    \n",
        "    return profit"
      ]
    },
    {
      "cell_type": "code",
      "execution_count": null,
      "metadata": {
        "id": "ZyZZ3LL71aUi"
      },
      "outputs": [],
      "source": [
        "# apply function into new column 'profit'\n",
        "df['profit'] = df.apply(profit, axis=1) \n",
        "\n",
        "df.head()"
      ]
    },
    {
      "cell_type": "markdown",
      "metadata": {
        "id": "7br8Ds9D2CkQ"
      },
      "source": [
        "Посмотрим какие значения принимает столбец profit для разных тарифов."
      ]
    },
    {
      "cell_type": "code",
      "execution_count": null,
      "metadata": {
        "id": "YswgK5AYG0Xv"
      },
      "outputs": [],
      "source": [
        "# describe values of Ultra profit\n",
        "df.query('tariff==\"ultra\"')['profit'].describe()"
      ]
    },
    {
      "cell_type": "code",
      "execution_count": null,
      "metadata": {
        "id": "GwmGLUiSG0Xv"
      },
      "outputs": [],
      "source": [
        "# describe values of Smart profit\n",
        "df.query('tariff==\"smart\"')['profit'].describe()"
      ]
    },
    {
      "cell_type": "markdown",
      "metadata": {
        "id": "bCanq5AXG0Xw"
      },
      "source": [
        "Некоторые пользователи перерасходовали лимиты по тарифу и заплатили сумму больше абонентской платы. Пользователи Смарт, в общем случае, переплачивают (медиана - 1038 руб), пользователи Ультра остаются в пределах абонентской платы (медиана - 1950 руб)."
      ]
    },
    {
      "cell_type": "markdown",
      "metadata": {
        "id": "4pJqM3_gG0Xx"
      },
      "source": [
        "### Вывод"
      ]
    },
    {
      "cell_type": "markdown",
      "metadata": {
        "id": "MO4U_JpOG0Xy"
      },
      "source": [
        "Полученные датасеты содержали избыточную информацию, мы взяли только те особенности клиентов, которые могли повлиять на наше исследование. На этапе подготовки данных были выполнены следующие шаги:\n",
        "- даты перевели в формат месяца;\n",
        "- значения в минутах округлили до большего целого;\n",
        "- объем интернет-трафика округлили до большего целого и перевели в гигабайты;\n",
        "- была создана сводная таблица с данными каждого пользователя, где отражено помесячно количество и длительность звонков, объем интернет-трафика и количество сообщений;\n",
        "- посчитали помесячную выручку с каждого пользователя и добавили результат в таблицу;\n",
        "- все числовые значения округлили до целых.\n",
        "\n",
        "Пользователи Смарт, в общем случае, переплачивают (медиана - 1038 руб), пользователи Ультра остаются в пределах абонентской платы (медиана - 1950 руб).\n",
        "\n",
        "Отметим, что в предоставленной выборке не было информации только для двух клиентов. Отсутствие этих данных не повлияет на анализ.\n",
        "\n",
        "Итоговая таблица поможет лучше ориентироваться в полученной выборке пользователей и выполнить точнее наше исследование."
      ]
    },
    {
      "cell_type": "markdown",
      "metadata": {
        "id": "t16Lbt94G0Xz"
      },
      "source": [
        "## Исследование данных"
      ]
    },
    {
      "cell_type": "markdown",
      "metadata": {
        "id": "WAKrL7aMG0Xz"
      },
      "source": [
        "### Общий анализ данных"
      ]
    },
    {
      "cell_type": "markdown",
      "metadata": {
        "id": "YUxCvHhuG0X0"
      },
      "source": [
        "Опишем поведение клиентов оператора, исходя из выборки. Выделим стоблцы с данными о минутах разговора, сообщениях, объёмах интернет-трафика и выручки в датасет `df_pivot_month`. Найдем средние значения: сколько минут разговора, сколько сообщений и какой объём интернет-трафика требуется пользователям каждого тарифа в месяц. Добавим также данные по выручке."
      ]
    },
    {
      "cell_type": "code",
      "execution_count": null,
      "metadata": {
        "id": "sEjgEfTGG0X0",
        "scrolled": false
      },
      "outputs": [],
      "source": [
        "# data for clients communication per month\n",
        "df_pivot_month = df[['user_id','tariff','calls_sum', 'sms_count', \n",
        "                     'gb_used', 'profit' ]].copy()\n",
        "\n",
        "# pivot_table for tarriff with mean\n",
        "df_pivot_month.groupby('tariff').mean()"
      ]
    },
    {
      "cell_type": "markdown",
      "metadata": {
        "id": "jXFFLNCJG0X2"
      },
      "source": [
        "Рассмотрим полученные данные. Будем ориентироваться на медиану и сделаем анализ значений в общем случае:\n",
        "- пользователи тарифа Ультра говорят больше, 527 минут против 418 у Смарт;\n",
        "- пользователи тарифа Ультра пользуется интернетом в большем объеме, 20 Гб против 17 у Смарт;\n",
        "- пользователи тарифа Ультра отправляют сообщения чаще, 50 смс против 34 у Смарт.\n",
        "- пользователи тарифа Ультра платят за услуги сотового оператора больше, 2072 руб. против 1295 у Смарт.\n",
        "\n",
        "Клиенты тарифа Ультра в общем случае чаще пользуются услугами сотового оператора Мегалайн, чем пользователи Смарт. Вероятно, это обусловлено большим лимитом для звонков, смс и объемом интернет-трафика в рамках тарифа Ультра, который редко нарушается. Средний пользователь тарифа Смарт превышает лимит по интернет трафику и платит в среднем дополнительные 400 рублей в месяц за услуги оператора. Но все равно тариф Ультра приносит компании больше денег за счет высокой абонентской платы."
      ]
    },
    {
      "cell_type": "markdown",
      "metadata": {
        "id": "Sj1Aw9yFG0X3"
      },
      "source": [
        "Посчитаем дисперсию и стандартное отклонение для каждого тарифа. Если известно, что датасет — не вся совокупность, а выборка из неё, вместо дисперсии считают её оценку по имеющейся выборке, для этого в методе `var() и std()` указывают параметр `ddof=1`."
      ]
    },
    {
      "cell_type": "code",
      "execution_count": null,
      "metadata": {
        "id": "ymI0VUgPG0X3",
        "scrolled": true
      },
      "outputs": [],
      "source": [
        "# variance for Ultra\n",
        "np.var(df_pivot_month.query('tariff==\"ultra\"'), ddof=1)"
      ]
    },
    {
      "cell_type": "code",
      "execution_count": null,
      "metadata": {
        "id": "BFKzg3JyG0X4",
        "scrolled": true
      },
      "outputs": [],
      "source": [
        "# variance for Smart\n",
        "np.var(df_pivot_month.query('tariff==\"smart\"'), ddof=1)"
      ]
    },
    {
      "cell_type": "markdown",
      "metadata": {
        "id": "E9zzwyAsG0X4"
      },
      "source": [
        "Дисперсия значений для тарифа Ультра больше, чем у Смарт, кроме дисперсий выручки. Разница значений выручки у тарифа Смарт больше."
      ]
    },
    {
      "cell_type": "code",
      "execution_count": null,
      "metadata": {
        "id": "FSWjcUNnG0X5",
        "scrolled": false
      },
      "outputs": [],
      "source": [
        "# standard deviation for Ultra\n",
        "np.std(df_pivot_month.query('tariff==\"ultra\"'), ddof=1)"
      ]
    },
    {
      "cell_type": "code",
      "execution_count": null,
      "metadata": {
        "id": "Za11cwRdG0X5",
        "scrolled": true
      },
      "outputs": [],
      "source": [
        "# standard deviation for Smart\n",
        "np.std(df_pivot_month.query('tariff==\"smart\"'), ddof=1)"
      ]
    },
    {
      "cell_type": "markdown",
      "metadata": {
        "id": "QD8LSnd_G0X6"
      },
      "source": [
        "Разница значений выручки у тарифа Смарт также больше. Пользователям тарифа Смарт не всегда получается оставаться в рамках тарифа.\n",
        "\n",
        "Во всем остальном, что касается минут разговора, сообщений и объёма интернет-трафика, стандартное отклонение для тарифа Ультра больше, чем у Смарт. Вероятно, это также обусловлено высокими лимитами в рамках тарифа, по сравнению со Смарт. Значения в общем случае колеблются около лимита, чем больше лимит - тем больше дисперсия и стандартное отклонение. "
      ]
    },
    {
      "cell_type": "markdown",
      "metadata": {
        "id": "dLaTb_MJG0X8"
      },
      "source": [
        "### Гистограммы"
      ]
    },
    {
      "cell_type": "markdown",
      "metadata": {
        "id": "jiiyF9StG0X9"
      },
      "source": [
        "Построим гистограммы и диаграммы размаха для звонков, сообщений и объема интернет-трафика в рамках каждого тарифа."
      ]
    },
    {
      "cell_type": "code",
      "execution_count": null,
      "metadata": {
        "id": "esRXV5lyG0X-",
        "scrolled": false
      },
      "outputs": [],
      "source": [
        "plt.style.use('dark_background')\n",
        "\n",
        "\n",
        "# histogram for Ultra calls\n",
        "df_pivot_month.query('tariff==\"ultra\"')['calls_sum'].hist(figsize=(9,6))\n",
        "\n",
        "# histogram for Smart calls\n",
        "df_pivot_month.query('tariff==\"smart\"')['calls_sum'].hist(alpha=0.5, \n",
        "                                                          figsize=(9,6))\n",
        "\n",
        "plt.legend(['ultra', 'smart'])\n",
        "plt.xlabel('Длительность звонка, мин.')\n",
        "plt.grid(color = 'green', linestyle = '--', linewidth = 0.5);"
      ]
    },
    {
      "cell_type": "code",
      "execution_count": null,
      "metadata": {
        "id": "4xZzPZiqG0X-"
      },
      "outputs": [],
      "source": [
        "# boxplot for tariff and calls\n",
        "sns.boxplot(x=\"tariff\", y=\"calls_sum\", data=df_pivot_month);\n",
        "plt.ylabel('Длительность звонка, мин.');"
      ]
    },
    {
      "cell_type": "markdown",
      "metadata": {
        "id": "aT2VxzfzG0X_"
      },
      "source": [
        "Распределение продолжительности звонков у тарифов похожи на нормальное распределение. \n",
        "\n",
        "Графики показывают: \n",
        "- гистограмма для тарифа Ультра (синий цвет) более сглаженная, что говорит о меньшем количестве выбросов;\n",
        "- распределение значений для тарифа Смарт находится около тарифного лимита - 500 минут;\n",
        "- дисперсия и размах значений больше для тарифа Ультра; \n",
        "- медиана меньше среднего для тарифа Ультра, что говорит о скошенности вправо в большей степени, чем для тарифа Смарт."
      ]
    },
    {
      "cell_type": "code",
      "execution_count": null,
      "metadata": {
        "id": "T51y_GbeG0X_",
        "scrolled": true
      },
      "outputs": [],
      "source": [
        "# histogram for Ultra sms\n",
        "df_pivot_month.query('tariff==\"ultra\"')['sms_count'].hist(figsize=(9,6))\n",
        "\n",
        "# histogram for Smart sms\n",
        "df_pivot_month.query('tariff==\"smart\"')['sms_count'].hist(alpha=0.5,\n",
        "                                                          figsize=(9,6))\n",
        "\n",
        "plt.legend(['ultra', 'smart'])\n",
        "plt.xlabel('Количество отправленных сообщений')\n",
        "plt.grid(color = 'green', linestyle = '--', linewidth = 0.5);"
      ]
    },
    {
      "cell_type": "code",
      "execution_count": null,
      "metadata": {
        "id": "hIgKC8XzG0YA",
        "scrolled": true
      },
      "outputs": [],
      "source": [
        "# boxplot for tariff and sms\n",
        "sns.boxplot(x=\"tariff\", y=\"sms_count\", data=df_pivot_month);\n",
        "plt.ylabel('Количество отправленных сообщений');"
      ]
    },
    {
      "cell_type": "markdown",
      "metadata": {
        "id": "qM7WFEDCG0YB"
      },
      "source": [
        "Графики показывают: \n",
        "- гистограмма тарифов имеет пик при нулевом количестве сообщений. Отправка сообщений не так актуальна у пользователей в эпоху социальных сетей и различных мессенджеров;\n",
        "\n",
        "- дисперсия и размах значений больше для тарифа Ультра; \n",
        "\n",
        "- пользователи тарифа Смарт стараются уложиться в лимит 50ти сообщений. Это видно на диаграмме размаха, 75% значений меньше 50.\n",
        "\n",
        "- медиана у тарифов сильно меньше среднего, что говорит о скошенности вправо для распределения значений."
      ]
    },
    {
      "cell_type": "code",
      "execution_count": null,
      "metadata": {
        "id": "CIy3zb3BG0YB",
        "scrolled": false
      },
      "outputs": [],
      "source": [
        "# histogram for Ultra internet traffic\n",
        "df_pivot_month.query('tariff==\"ultra\"')['gb_used'].hist(figsize=(9,6))\n",
        "\n",
        "# histogram for Smart internet traffic\n",
        "df_pivot_month.query('tariff==\"smart\"')['gb_used'].hist(alpha=0.5,\n",
        "                                                        figsize=(9,6))\n",
        "\n",
        "plt.legend(['ultra', 'smart'])\n",
        "plt.xlabel('Объем интернет-трафика, Гб')\n",
        "plt.grid(color = 'green', linestyle = '--', linewidth = 0.5);"
      ]
    },
    {
      "cell_type": "code",
      "execution_count": null,
      "metadata": {
        "colab": {
          "background_save": true
        },
        "id": "LmfRjQIoG0YC",
        "scrolled": false,
        "outputId": "21b001d9-5abc-4f07-8a78-dc11bbbfcb3a"
      },
      "outputs": [
        {
          "data": {
            "image/png": "[encoded data removed]",
            "text/plain": [
              "<Figure size 432x288 with 1 Axes>"
            ]
          },
          "metadata": {},
          "output_type": "display_data"
        }
      ],
      "source": [
        "# boxplot for tariff and internet traffic\n",
        "sns.boxplot(x=\"tariff\", y=\"gb_used\", data=df_pivot_month);\n",
        "plt.ylabel('Объем интернет-трафика, Гб');"
      ]
    },
    {
      "cell_type": "markdown",
      "metadata": {
        "id": "PrbzcostG0YK"
      },
      "source": [
        "Распределение объема интернет-трафика у тарифов похожи на нормальное распределение. \n",
        "\n",
        "Графики показывают: \n",
        "- гистограмма для тарифа Ультра (синий цвет) более сглаженная, что говорит о меньшем количестве выбросов;\n",
        "- распределение значений для тарифа Смарт находится около тарифного лимита - 15 гигабайт;\n",
        "- распределение значений для тарифа Ультра находится около тарифного лимита - 20 гигабайт;\n",
        "- дисперсия и размах значений больше для тарифа Ультра; \n",
        "- медиана меньше среднего для тарифа Ультра, что говорит о скошенности вправо в большей степени, чем для тарифа Смарт."
      ]
    },
    {
      "cell_type": "code",
      "execution_count": null,
      "metadata": {
        "colab": {
          "background_save": true
        },
        "id": "cxXfWtPRG0YL",
        "scrolled": false,
        "outputId": "51a8ca18-16b7-4ca5-fae2-cf85c601f970"
      },
      "outputs": [
        {
          "data": {
            "image/png": "[encoded data removed]",
            "text/plain": [
              "<Figure size 648x432 with 1 Axes>"
            ]
          },
          "metadata": {},
          "output_type": "display_data"
        }
      ],
      "source": [
        "# histogram for Ultra profit\n",
        "df_pivot_month.query('tariff==\"ultra\"')['profit'].hist(bins=20, \n",
        "                                                       figsize=(9,6))\n",
        "\n",
        "# histogram for Smart profit\n",
        "df_pivot_month.query('tariff==\"smart\"')['profit'].hist(bins=20, alpha=0.5,\n",
        "                                                       figsize=(9,6))\n",
        "\n",
        "plt.legend(['ultra', 'smart'])\n",
        "plt.xlabel('Оплата ежемесячно, руб.')\n",
        "plt.grid(color = 'green', linestyle = '--', linewidth = 0.5);"
      ]
    },
    {
      "cell_type": "code",
      "execution_count": null,
      "metadata": {
        "colab": {
          "background_save": true
        },
        "id": "hv2VoJ3EG0YL",
        "scrolled": false,
        "outputId": "a15cee4b-1a31-4dd0-e479-1802bbeac33d"
      },
      "outputs": [
        {
          "data": {
            "image/png": "[encoded data removed]",
            "text/plain": [
              "<Figure size 432x288 with 1 Axes>"
            ]
          },
          "metadata": {},
          "output_type": "display_data"
        }
      ],
      "source": [
        "# boxplot for tariff and profit\n",
        "sns.boxplot(x=\"tariff\", y=\"profit\", data=df_pivot_month, showfliers=0);\n",
        "plt.ylabel('Оплата ежемесячно, руб.');"
      ]
    },
    {
      "cell_type": "code",
      "execution_count": null,
      "metadata": {
        "colab": {
          "background_save": true
        },
        "id": "vNxAQVC1G0YM",
        "scrolled": true,
        "outputId": "b13e2ad4-cbcd-4ce5-98ca-529544762f17"
      },
      "outputs": [
        {
          "data": {
            "text/plain": [
              "count    2229.000000\n",
              "mean     1294.639300\n",
              "std       820.933202\n",
              "min       550.000000\n",
              "25%       550.000000\n",
              "50%      1038.000000\n",
              "75%      1750.000000\n",
              "max      6770.000000\n",
              "Name: profit, dtype: float64"
            ]
          },
          "execution_count": 53,
          "metadata": {},
          "output_type": "execute_result"
        }
      ],
      "source": [
        "# distribution of profit values for Smart\n",
        "df_pivot_month.query('tariff==\"smart\"')['profit'].describe()"
      ]
    },
    {
      "cell_type": "code",
      "execution_count": null,
      "metadata": {
        "colab": {
          "background_save": true
        },
        "id": "vpt8y59KG0YM",
        "scrolled": true,
        "outputId": "02d8d456-b1ce-4127-8143-3c1ee1bd7efc"
      },
      "outputs": [
        {
          "data": {
            "text/plain": [
              "count     985.000000\n",
              "mean     2071.065990\n",
              "std       378.802377\n",
              "min      1950.000000\n",
              "25%      1950.000000\n",
              "50%      1950.000000\n",
              "75%      1950.000000\n",
              "max      4800.000000\n",
              "Name: profit, dtype: float64"
            ]
          },
          "execution_count": 54,
          "metadata": {},
          "output_type": "execute_result"
        }
      ],
      "source": [
        "# distribution of profit values for Ultra\n",
        "df_pivot_month.query('tariff==\"ultra\"')['profit'].describe()"
      ]
    },
    {
      "cell_type": "markdown",
      "metadata": {
        "id": "-QhoAjmtG0YM"
      },
      "source": [
        "Графики и распределение значений показывают:\n",
        "- гистограмма тарифов имеет пик в значениях, соответствующих абонентской плате. Много клиентов старается не превышать лимитов по тарифу;\n",
        "- медиана у тарифов сильно меньше среднего, что говорит о скошенности вправо для распределения значений.\n",
        "- дисперсия и размах значений больше для тарифа Смарт;\n",
        "- большое количество клиентов тарифа Смарт в общем случае платит больше абонентской платы (75% значений распределены до 1750 руб.). При нормальном распределение выручки до 3500 руб. в месяц, имеются аномальные значения оплаты до 6770 руб. Пользователям тарифа тяжело уложиться в тарифный лимит.\n",
        "- большинство клиентов тарифа Ультра платят только абонентскую плату. Нормальное распределение значений выручки до 1950 руб. в месяц.\n"
      ]
    },
    {
      "cell_type": "markdown",
      "metadata": {
        "id": "5BtWiLKnG0YN"
      },
      "source": [
        "### Вывод"
      ]
    },
    {
      "cell_type": "markdown",
      "metadata": {
        "id": "33hPdaiqG0YN"
      },
      "source": [
        "Анализ полученной выборки выявил закономерности и определенные результаты:\n",
        "- пользователи тарифа Ультра говорят больше, 527 минут против 418 у Смарт;\n",
        "- пользователи тарифа Ультра пользуется интернетом в большем объеме, 20 Гб против 17 у Смарт;\n",
        "- пользователи тарифа Ультра отправляют сообщения чаще, 50 смс против 34 у Смарт.\n",
        "- пользователи тарифа Ультра платят за услуги сотового оператора больше, 2072 руб. против 1295 у Смарт.\n",
        "\n",
        "Визуализация данных на этом этапе также подтверждает полученные результаты, кроме значений по оплате. Клиенты тарифа Ультра чаще пользуются услугами сотового оператора Мегалайн, чем пользователи Смарт. Несмотря на такое поведение клиентов и средние значения выручки, пользователи тарифа Смарт чаще платят больше. Количество выбросов у тарифа Смарт больше, что говорит о выборе пользователей в пользу низкой стоимости абонентской платы. Возможно каким-то клиентам выгоднее перейти на тариф Ультра. \n",
        "\n",
        "Пользователи выбирают тариф под свои нужды, но не всегда у них получается оставаться в рамках тарифа. Например, средний пользователь тарифа Смарт превышает лимит по интернет-трафику и платит в среднем дополнительные 400 рублей в месяц за услуги оператора."
      ]
    },
    {
      "cell_type": "markdown",
      "metadata": {
        "id": "GAD8a9NUG0YN"
      },
      "source": [
        "## Проверка гипотез"
      ]
    },
    {
      "cell_type": "markdown",
      "metadata": {
        "id": "fOrUR_HR0tlB"
      },
      "source": [
        "Была получена выборка от Сотовой компании, данные за 2018 год. Мы можем лишь сделать предположение о генеральной совокупности и при условии того, что оно верно, посчитать, насколько вероятно увидеть в выборке полученные значения. Если эта вероятность относительно высока — данные не дают основания отвергнуть это предположение. Если низка — по наблюдаемым данным можно сделать вывод, что, скорее всего, предположение всё-таки неверно (но не опровергнуть его и не доказать обратное)."
      ]
    },
    {
      "cell_type": "markdown",
      "metadata": {
        "id": "WQ06YK-OG0YO"
      },
      "source": [
        "### Средняя выручка тарифов"
      ]
    },
    {
      "cell_type": "markdown",
      "metadata": {
        "id": "t8GIRhn6G0YO"
      },
      "source": [
        "Проверим гипотезу - средняя выручка пользователей тарифов Ультра и Смарт различаются. Создадим датасеты для анализа выручки каждого из тарифов."
      ]
    },
    {
      "cell_type": "code",
      "execution_count": null,
      "metadata": {
        "colab": {
          "background_save": true
        },
        "id": "TbVbYUntG0YP",
        "scrolled": true,
        "outputId": "cffd4ee3-8d4a-4c17-9490-747cd5c1009a"
      },
      "outputs": [
        {
          "data": {
            "text/html": [
              "\n",
              "  <div id=\"df-7e9176f9-55bd-4fed-b6c8-3bcceea8f3fb\">\n",
              "    <div class=\"colab-df-container\">\n",
              "      <div>\n",
              "<style scoped>\n",
              "    .dataframe tbody tr th:only-of-type {\n",
              "        vertical-align: middle;\n",
              "    }\n",
              "\n",
              "    .dataframe tbody tr th {\n",
              "        vertical-align: top;\n",
              "    }\n",
              "\n",
              "    .dataframe thead th {\n",
              "        text-align: right;\n",
              "    }\n",
              "</style>\n",
              "<table border=\"1\" class=\"dataframe\">\n",
              "  <thead>\n",
              "    <tr style=\"text-align: right;\">\n",
              "      <th></th>\n",
              "      <th>profit</th>\n",
              "    </tr>\n",
              "  </thead>\n",
              "  <tbody>\n",
              "    <tr>\n",
              "      <th>0</th>\n",
              "      <td>550</td>\n",
              "    </tr>\n",
              "    <tr>\n",
              "      <th>1</th>\n",
              "      <td>1150</td>\n",
              "    </tr>\n",
              "    <tr>\n",
              "      <th>2</th>\n",
              "      <td>1550</td>\n",
              "    </tr>\n",
              "    <tr>\n",
              "      <th>3</th>\n",
              "      <td>950</td>\n",
              "    </tr>\n",
              "    <tr>\n",
              "      <th>4</th>\n",
              "      <td>550</td>\n",
              "    </tr>\n",
              "  </tbody>\n",
              "</table>\n",
              "</div>\n",
              "      <button class=\"colab-df-convert\" onclick=\"convertToInteractive('df-7e9176f9-55bd-4fed-b6c8-3bcceea8f3fb')\"\n",
              "              title=\"Convert this dataframe to an interactive table.\"\n",
              "              style=\"display:none;\">\n",
              "        \n",
              "  <svg xmlns=\"http://www.w3.org/2000/svg\" height=\"24px\"viewBox=\"0 0 24 24\"\n",
              "       width=\"24px\">\n",
              "    <path d=\"M0 0h24v24H0V0z\" fill=\"none\"/>\n",
              "    <path d=\"M18.56 5.44l.94 2.06.94-2.06 2.06-.94-2.06-.94-.94-2.06-.94 2.06-2.06.94zm-11 1L8.5 8.5l.94-2.06 2.06-.94-2.06-.94L8.5 2.5l-.94 2.06-2.06.94zm10 10l.94 2.06.94-2.06 2.06-.94-2.06-.94-.94-2.06-.94 2.06-2.06.94z\"/><path d=\"M17.41 7.96l-1.37-1.37c-.4-.4-.92-.59-1.43-.59-.52 0-1.04.2-1.43.59L10.3 9.45l-7.72 7.72c-.78.78-.78 2.05 0 2.83L4 21.41c.39.39.9.59 1.41.59.51 0 1.02-.2 1.41-.59l7.78-7.78 2.81-2.81c.8-.78.8-2.07 0-2.86zM5.41 20L4 18.59l7.72-7.72 1.47 1.35L5.41 20z\"/>\n",
              "  </svg>\n",
              "      </button>\n",
              "      \n",
              "  <style>\n",
              "    .colab-df-container {\n",
              "      display:flex;\n",
              "      flex-wrap:wrap;\n",
              "      gap: 12px;\n",
              "    }\n",
              "\n",
              "    .colab-df-convert {\n",
              "      background-color: #E8F0FE;\n",
              "      border: none;\n",
              "      border-radius: 50%;\n",
              "      cursor: pointer;\n",
              "      display: none;\n",
              "      fill: #1967D2;\n",
              "      height: 32px;\n",
              "      padding: 0 0 0 0;\n",
              "      width: 32px;\n",
              "    }\n",
              "\n",
              "    .colab-df-convert:hover {\n",
              "      background-color: #E2EBFA;\n",
              "      box-shadow: 0px 1px 2px rgba(60, 64, 67, 0.3), 0px 1px 3px 1px rgba(60, 64, 67, 0.15);\n",
              "      fill: #174EA6;\n",
              "    }\n",
              "\n",
              "    [theme=dark] .colab-df-convert {\n",
              "      background-color: #3B4455;\n",
              "      fill: #D2E3FC;\n",
              "    }\n",
              "\n",
              "    [theme=dark] .colab-df-convert:hover {\n",
              "      background-color: #434B5C;\n",
              "      box-shadow: 0px 1px 3px 1px rgba(0, 0, 0, 0.15);\n",
              "      filter: drop-shadow(0px 1px 2px rgba(0, 0, 0, 0.3));\n",
              "      fill: #FFFFFF;\n",
              "    }\n",
              "  </style>\n",
              "\n",
              "      <script>\n",
              "        const buttonEl =\n",
              "          document.querySelector('#df-7e9176f9-55bd-4fed-b6c8-3bcceea8f3fb button.colab-df-convert');\n",
              "        buttonEl.style.display =\n",
              "          google.colab.kernel.accessAllowed ? 'block' : 'none';\n",
              "\n",
              "        async function convertToInteractive(key) {\n",
              "          const element = document.querySelector('#df-7e9176f9-55bd-4fed-b6c8-3bcceea8f3fb');\n",
              "          const dataTable =\n",
              "            await google.colab.kernel.invokeFunction('convertToInteractive',\n",
              "                                                     [key], {});\n",
              "          if (!dataTable) return;\n",
              "\n",
              "          const docLinkHtml = 'Like what you see? Visit the ' +\n",
              "            '<a target=\"_blank\" href=https://colab.research.google.com/notebooks/data_table.ipynb>data table notebook</a>'\n",
              "            + ' to learn more about interactive tables.';\n",
              "          element.innerHTML = '';\n",
              "          dataTable['output_type'] = 'display_data';\n",
              "          await google.colab.output.renderOutput(dataTable, element);\n",
              "          const docLink = document.createElement('div');\n",
              "          docLink.innerHTML = docLinkHtml;\n",
              "          element.appendChild(docLink);\n",
              "        }\n",
              "      </script>\n",
              "    </div>\n",
              "  </div>\n",
              "  "
            ],
            "text/plain": [
              "   profit\n",
              "0     550\n",
              "1    1150\n",
              "2    1550\n",
              "3     950\n",
              "4     550"
            ]
          },
          "metadata": {},
          "output_type": "display_data"
        },
        {
          "name": "stdout",
          "output_type": "stream",
          "text": [
            "Количество строк 2229\n"
          ]
        }
      ],
      "source": [
        "# dataset for Smart profit\n",
        "\n",
        "smart = df.query('tariff==\"smart\"')['profit'].copy()\n",
        "smart = smart.reset_index()\n",
        "smart = smart.drop(columns = ['index'],axis = 1)\n",
        "display(smart.head())\n",
        "print('Количество строк', smart.shape[0])"
      ]
    },
    {
      "cell_type": "code",
      "execution_count": null,
      "metadata": {
        "colab": {
          "background_save": true
        },
        "id": "ZXiE8ukZG0YQ",
        "outputId": "fa5fb6f2-80d5-4af2-9654-1d10fbde5e73"
      },
      "outputs": [
        {
          "data": {
            "text/html": [
              "\n",
              "  <div id=\"df-fb8765a4-9cc0-4fba-8c5c-3e452df5b60a\">\n",
              "    <div class=\"colab-df-container\">\n",
              "      <div>\n",
              "<style scoped>\n",
              "    .dataframe tbody tr th:only-of-type {\n",
              "        vertical-align: middle;\n",
              "    }\n",
              "\n",
              "    .dataframe tbody tr th {\n",
              "        vertical-align: top;\n",
              "    }\n",
              "\n",
              "    .dataframe thead th {\n",
              "        text-align: right;\n",
              "    }\n",
              "</style>\n",
              "<table border=\"1\" class=\"dataframe\">\n",
              "  <thead>\n",
              "    <tr style=\"text-align: right;\">\n",
              "      <th></th>\n",
              "      <th>profit</th>\n",
              "    </tr>\n",
              "  </thead>\n",
              "  <tbody>\n",
              "    <tr>\n",
              "      <th>0</th>\n",
              "      <td>1950</td>\n",
              "    </tr>\n",
              "    <tr>\n",
              "      <th>1</th>\n",
              "      <td>1950</td>\n",
              "    </tr>\n",
              "    <tr>\n",
              "      <th>2</th>\n",
              "      <td>1950</td>\n",
              "    </tr>\n",
              "    <tr>\n",
              "      <th>3</th>\n",
              "      <td>1950</td>\n",
              "    </tr>\n",
              "    <tr>\n",
              "      <th>4</th>\n",
              "      <td>1950</td>\n",
              "    </tr>\n",
              "  </tbody>\n",
              "</table>\n",
              "</div>\n",
              "      <button class=\"colab-df-convert\" onclick=\"convertToInteractive('df-fb8765a4-9cc0-4fba-8c5c-3e452df5b60a')\"\n",
              "              title=\"Convert this dataframe to an interactive table.\"\n",
              "              style=\"display:none;\">\n",
              "        \n",
              "  <svg xmlns=\"http://www.w3.org/2000/svg\" height=\"24px\"viewBox=\"0 0 24 24\"\n",
              "       width=\"24px\">\n",
              "    <path d=\"M0 0h24v24H0V0z\" fill=\"none\"/>\n",
              "    <path d=\"M18.56 5.44l.94 2.06.94-2.06 2.06-.94-2.06-.94-.94-2.06-.94 2.06-2.06.94zm-11 1L8.5 8.5l.94-2.06 2.06-.94-2.06-.94L8.5 2.5l-.94 2.06-2.06.94zm10 10l.94 2.06.94-2.06 2.06-.94-2.06-.94-.94-2.06-.94 2.06-2.06.94z\"/><path d=\"M17.41 7.96l-1.37-1.37c-.4-.4-.92-.59-1.43-.59-.52 0-1.04.2-1.43.59L10.3 9.45l-7.72 7.72c-.78.78-.78 2.05 0 2.83L4 21.41c.39.39.9.59 1.41.59.51 0 1.02-.2 1.41-.59l7.78-7.78 2.81-2.81c.8-.78.8-2.07 0-2.86zM5.41 20L4 18.59l7.72-7.72 1.47 1.35L5.41 20z\"/>\n",
              "  </svg>\n",
              "      </button>\n",
              "      \n",
              "  <style>\n",
              "    .colab-df-container {\n",
              "      display:flex;\n",
              "      flex-wrap:wrap;\n",
              "      gap: 12px;\n",
              "    }\n",
              "\n",
              "    .colab-df-convert {\n",
              "      background-color: #E8F0FE;\n",
              "      border: none;\n",
              "      border-radius: 50%;\n",
              "      cursor: pointer;\n",
              "      display: none;\n",
              "      fill: #1967D2;\n",
              "      height: 32px;\n",
              "      padding: 0 0 0 0;\n",
              "      width: 32px;\n",
              "    }\n",
              "\n",
              "    .colab-df-convert:hover {\n",
              "      background-color: #E2EBFA;\n",
              "      box-shadow: 0px 1px 2px rgba(60, 64, 67, 0.3), 0px 1px 3px 1px rgba(60, 64, 67, 0.15);\n",
              "      fill: #174EA6;\n",
              "    }\n",
              "\n",
              "    [theme=dark] .colab-df-convert {\n",
              "      background-color: #3B4455;\n",
              "      fill: #D2E3FC;\n",
              "    }\n",
              "\n",
              "    [theme=dark] .colab-df-convert:hover {\n",
              "      background-color: #434B5C;\n",
              "      box-shadow: 0px 1px 3px 1px rgba(0, 0, 0, 0.15);\n",
              "      filter: drop-shadow(0px 1px 2px rgba(0, 0, 0, 0.3));\n",
              "      fill: #FFFFFF;\n",
              "    }\n",
              "  </style>\n",
              "\n",
              "      <script>\n",
              "        const buttonEl =\n",
              "          document.querySelector('#df-fb8765a4-9cc0-4fba-8c5c-3e452df5b60a button.colab-df-convert');\n",
              "        buttonEl.style.display =\n",
              "          google.colab.kernel.accessAllowed ? 'block' : 'none';\n",
              "\n",
              "        async function convertToInteractive(key) {\n",
              "          const element = document.querySelector('#df-fb8765a4-9cc0-4fba-8c5c-3e452df5b60a');\n",
              "          const dataTable =\n",
              "            await google.colab.kernel.invokeFunction('convertToInteractive',\n",
              "                                                     [key], {});\n",
              "          if (!dataTable) return;\n",
              "\n",
              "          const docLinkHtml = 'Like what you see? Visit the ' +\n",
              "            '<a target=\"_blank\" href=https://colab.research.google.com/notebooks/data_table.ipynb>data table notebook</a>'\n",
              "            + ' to learn more about interactive tables.';\n",
              "          element.innerHTML = '';\n",
              "          dataTable['output_type'] = 'display_data';\n",
              "          await google.colab.output.renderOutput(dataTable, element);\n",
              "          const docLink = document.createElement('div');\n",
              "          docLink.innerHTML = docLinkHtml;\n",
              "          element.appendChild(docLink);\n",
              "        }\n",
              "      </script>\n",
              "    </div>\n",
              "  </div>\n",
              "  "
            ],
            "text/plain": [
              "   profit\n",
              "0    1950\n",
              "1    1950\n",
              "2    1950\n",
              "3    1950\n",
              "4    1950"
            ]
          },
          "metadata": {},
          "output_type": "display_data"
        },
        {
          "name": "stdout",
          "output_type": "stream",
          "text": [
            "Количество строк 985\n"
          ]
        }
      ],
      "source": [
        "# dataset for Ultra profit\n",
        "\n",
        "ultra = df.query('tariff==\"ultra\"')['profit'].copy()\n",
        "ultra = ultra.reset_index()\n",
        "ultra = ultra.drop(columns = ['index'],axis = 1)\n",
        "display(ultra.head())\n",
        "print('Количество строк', ultra.shape[0])"
      ]
    },
    {
      "cell_type": "markdown",
      "metadata": {
        "id": "fl6JAdfDG0YR"
      },
      "source": [
        "Сформулируем нулевую гипотезу: средняя выручка от пользователей тарифов Ультра и Смарт не различается. Альтернативная гипотеза будет звучать противоположно: средняя выручка пользователей тарифов различаются. В исследовании необходимо доказать, что различия в выборке не случайны. \n",
        "\n",
        "В Python есть специальный метод `scipy.stats.ttest_ind()` для проверки гипотезы о равенстве среднего двух совокупностей, он выдает значение `p-value`. Выборки по тарифам имеют разный размер, найдем дисперсию для каждого тарифа. Датасеты — не вся совокупность, а выборка из неё, вместо дисперсии считают её оценку по имеющейся выборке, для этого в методе `var()` указываем параметр `ddof=1`."
      ]
    },
    {
      "cell_type": "code",
      "execution_count": null,
      "metadata": {
        "colab": {
          "background_save": true
        },
        "id": "m6HHTAUcG0YR",
        "outputId": "e4d85fb4-a692-4af3-c727-ee3f266d23ed"
      },
      "outputs": [
        {
          "data": {
            "text/plain": [
              "profit    673931.321363\n",
              "dtype: float64"
            ]
          },
          "execution_count": 57,
          "metadata": {},
          "output_type": "execute_result"
        }
      ],
      "source": [
        "# variance for Smart\n",
        "smart.var(ddof=1)"
      ]
    },
    {
      "cell_type": "code",
      "execution_count": null,
      "metadata": {
        "colab": {
          "background_save": true
        },
        "id": "0mtBPZY1G0YS",
        "outputId": "ecad5748-892e-449e-8e23-e325b363564b"
      },
      "outputs": [
        {
          "data": {
            "text/plain": [
              "profit    143491.24056\n",
              "dtype: float64"
            ]
          },
          "execution_count": 58,
          "metadata": {},
          "output_type": "execute_result"
        }
      ],
      "source": [
        "# variance for Ultra\n",
        "ultra.var(ddof=1)"
      ]
    },
    {
      "cell_type": "markdown",
      "metadata": {
        "id": "Yrzk42dIIldJ"
      },
      "source": [
        "Для проверки равны ли дисперсии можно также воспользоваться статистическим тестами Левене. Выполним данные тест."
      ]
    },
    {
      "cell_type": "code",
      "execution_count": null,
      "metadata": {
        "colab": {
          "background_save": true
        },
        "id": "tj_FmB2kG0YU",
        "outputId": "215c47c9-d21c-44e8-cbda-332d312d66f8"
      },
      "outputs": [
        {
          "data": {
            "text/plain": [
              "LeveneResult(statistic=615.7061337306674, pvalue=1.6855369377883898e-124)"
            ]
          },
          "execution_count": 59,
          "metadata": {},
          "output_type": "execute_result"
        }
      ],
      "source": [
        "st.levene(smart['profit'], ultra['profit'])"
      ]
    },
    {
      "cell_type": "markdown",
      "metadata": {
        "id": "LY1a-1ckG0YT"
      },
      "source": [
        "Значение pvalue критически малое и меньше 0.05. Результат вычислений - дисперсии выборок разные. Выполним проверку нулевой гипотезы выручки для совокупностей по тарифу:\n",
        "- выборки разного размера и дисперсии у этих совокупностей разные, укажем `equal_var = False` при вызове метода `scipy.stats.ttest_ind()`.\n",
        "- критический уровень статистической значимости примем 5%, как `alpha = .05`. Такое значение является стандартным, у нас отсутствуют какие-либо условия, чтобы его скорректировать. \n",
        "- если `p-value` окажется меньше альфа - отвергнем гипотезу."
      ]
    },
    {
      "cell_type": "code",
      "execution_count": null,
      "metadata": {
        "colab": {
          "background_save": true
        },
        "id": "47P7UklkG0YV",
        "outputId": "2ba9a8a8-a68c-4c75-bbfe-aee4ba25cea4"
      },
      "outputs": [
        {
          "name": "stdout",
          "output_type": "stream",
          "text": [
            "p-значение:  [2.7240947e-246]\n",
            "Отвергаем нулевую гипотезу\n"
          ]
        }
      ],
      "source": [
        "# t-test for smart and ultra\n",
        "\n",
        "alpha = 0.05\n",
        "\n",
        "results = st.ttest_ind(\n",
        "    smart, \n",
        "    ultra,\n",
        "    equal_var=False)\n",
        "\n",
        "print('p-значение: ', results.pvalue)\n",
        "\n",
        "if results.pvalue < alpha:\n",
        "    print(\"Отвергаем нулевую гипотезу\")\n",
        "else:\n",
        "    print(\"Не получилось отвергнуть нулевую гипотезу\") "
      ]
    },
    {
      "cell_type": "markdown",
      "metadata": {
        "id": "unauVIt7G0YW"
      },
      "source": [
        "Можем убедиться, что p-значение принимает экстремально малое значение. Критерий проверки альфа можно выбрать намного меньше и все равно нулевая гипотеза будет отвергнута. Действительно средняя выручка тарифа Ультра больше, чем у Смарт почти в 1.6 раза. \n",
        "\n",
        "Полученные выборки подтверждают гипотезу, что средняя выручка от пользователей тарифов Ультра и Смарт различаются."
      ]
    },
    {
      "cell_type": "markdown",
      "metadata": {
        "id": "ZJ7FrrnaG0YW"
      },
      "source": [
        "Распределение значений из п.3.2 показывает, что у тарифа Смарт имеются множество пользователей, которые платят ежемесячно больше абонентской платы. Найдем долю таких клиентов внутри тарифа."
      ]
    },
    {
      "cell_type": "code",
      "execution_count": null,
      "metadata": {
        "id": "J7xkqvN7G0YW"
      },
      "outputs": [],
      "source": [
        "smart_month = len(smart.query('profit>550'))/len(smart)\n",
        "print(f'Доля клиентов Смарт составляет {smart_month:.1%}')"
      ]
    },
    {
      "cell_type": "markdown",
      "metadata": {
        "id": "Hgt8eq42G0YX"
      },
      "source": [
        "Большинство пользователей у тарифа Смарт не укладывается в тарифные лимиты и покупает дополнительные услуги. "
      ]
    },
    {
      "cell_type": "markdown",
      "metadata": {
        "id": "Mz_5whSeG0YX"
      },
      "source": [
        "Также у тарифа Смарт имеются пользователи, которые платят ежемесячно больше абонентской платы Ультра. Найдем долю клиентов внутри тарифов, которые платят больше 1950 руб."
      ]
    },
    {
      "cell_type": "code",
      "execution_count": null,
      "metadata": {
        "id": "8uArEkcEG0YY"
      },
      "outputs": [],
      "source": [
        "share_smart = len(smart.query('profit>1950'))/len(smart)\n",
        "print(f'Доля клиентов Смарт составляет {share_smart:.1%}')"
      ]
    },
    {
      "cell_type": "code",
      "execution_count": null,
      "metadata": {
        "id": "omWpGanLG0YY"
      },
      "outputs": [],
      "source": [
        "share_ultra = len(ultra.query('profit>1950'))/len(ultra)\n",
        "print(f'Доля клиентов Ультра составляет {share_ultra:.1%}')"
      ]
    },
    {
      "cell_type": "markdown",
      "metadata": {
        "id": "olxOsg-zG0YZ"
      },
      "source": [
        "Доля таких пользователей у тарифа Смарт больше на 5.3%. "
      ]
    },
    {
      "cell_type": "markdown",
      "metadata": {
        "id": "R_PoX5HCG0Ya"
      },
      "source": [
        "### Выручка пользователей из Москвы"
      ]
    },
    {
      "cell_type": "markdown",
      "metadata": {
        "id": "ZKbB-AoBG0Yb"
      },
      "source": [
        "Проверим гипотезу - средняя выручка пользователей из Москвы отличается от выручки пользователей из других регионов. Создадим датасеты для анализа выручки каждого из регионов."
      ]
    },
    {
      "cell_type": "code",
      "execution_count": null,
      "metadata": {
        "id": "4m2fSyQpG0Yb"
      },
      "outputs": [],
      "source": [
        "# dataset for clients from Moscow\n",
        "\n",
        "msc = df.query('city==\"Москва\"')['profit'].copy()\n",
        "msc = msc.reset_index()\n",
        "msc = msc.drop(columns = ['index'],axis = 1)\n",
        "\n",
        "display(msc.head())\n",
        "print('Количество строк', msc.shape[0])"
      ]
    },
    {
      "cell_type": "code",
      "execution_count": null,
      "metadata": {
        "id": "WZ3Mp-RvG0Yc"
      },
      "outputs": [],
      "source": [
        "# dataset for clients from regions\n",
        "\n",
        "regions = df.query('city!=\"Москва\"')['profit'].copy()\n",
        "regions = regions.reset_index()\n",
        "regions = regions.drop(columns = ['index'],axis = 1)\n",
        "\n",
        "display(regions.head())\n",
        "print('Количество строк', regions.shape[0])"
      ]
    },
    {
      "cell_type": "code",
      "execution_count": null,
      "metadata": {
        "id": "5bw9Q2TCG0Yc"
      },
      "outputs": [],
      "source": [
        "# quantity of clients from Moscow\n",
        "\n",
        "print('Количество клиентов из Москвы -', u.query('city==\"Москва\"').shape[0])"
      ]
    },
    {
      "cell_type": "markdown",
      "metadata": {
        "id": "ti_Oh0tTG0Yd"
      },
      "source": [
        "Клиенты из Москвы составляют 20% в полученной выборке.\n",
        "\n",
        "Сформулируем нулевую гипотезу: средняя выручка пользователей из Москвы такая же, как у пользователей из других регионов. Альтернативная гипотеза будет звучать противоположно: средняя выручка пользователей из Москвы отличается от регионов. \n",
        "\n",
        "Применим метод `scipy.stats.ttest_ind()` для проверки гипотезы о равенстве среднего двух совокупностей. Выборки по тарифам имеют разный размер, найдем дисперсию для каждого тарифа. Датасеты — не вся совокупность, а выборка из неё, вместо дисперсии считают её оценку по имеющейся выборке, для этого в методе `var()` указываем параметр `ddof=1`."
      ]
    },
    {
      "cell_type": "code",
      "execution_count": null,
      "metadata": {
        "id": "4EHN1xtxG0Yd"
      },
      "outputs": [],
      "source": [
        "# variance for clients from Moscow\n",
        "msc.var(ddof=1)"
      ]
    },
    {
      "cell_type": "code",
      "execution_count": null,
      "metadata": {
        "id": "EWDYox4eG0Ye"
      },
      "outputs": [],
      "source": [
        "# variance for clients from regions\n",
        "regions.var(ddof=1)"
      ]
    },
    {
      "cell_type": "markdown",
      "metadata": {
        "id": "oTnoSKKcKfK6"
      },
      "source": [
        "Для проверки равны ли дисперсии можно также воспользоваться статистическим тестами Левене. Выполним данные тест."
      ]
    },
    {
      "cell_type": "code",
      "execution_count": null,
      "metadata": {
        "id": "Zj0EhoJAKfK6"
      },
      "outputs": [],
      "source": [
        "st.levene(msc['profit'], regions['profit'])"
      ]
    },
    {
      "cell_type": "markdown",
      "metadata": {
        "id": "2CnhZa-4G0Yf"
      },
      "source": [
        "Значение pvalue меньше 0.05. Дисперсии выборок разные. Выполним проверку нулевой гипотезы выручки для совокупностей по тарифу:\n",
        "- выборки разного размера и дисперсии у этих совокупностей разные, укажем `equal_var = False` при вызове метода `scipy.stats.ttest_ind()`.\n",
        "- критический уровень статистической значимости примем 5%, как `alpha = .05`. Такое значение является стандартным, у нас отсутствуют какие-либо условия, чтобы его скорректировать. \n",
        "- если `p-value` окажется меньше альфа - отвергнем гипотезу."
      ]
    },
    {
      "cell_type": "code",
      "execution_count": null,
      "metadata": {
        "id": "As3-HHqDG0Yf"
      },
      "outputs": [],
      "source": [
        "# t-test for clients from Moscow and from regions\n",
        "\n",
        "alpha = 0.05\n",
        "\n",
        "results = st.ttest_ind(\n",
        "    msc, \n",
        "    regions,\n",
        "    equal_var=False)\n",
        "\n",
        "print('p-значение: ', results.pvalue)\n",
        "\n",
        "if results.pvalue < alpha:\n",
        "    print(\"Отвергаем нулевую гипотезу\")\n",
        "else:\n",
        "    print(\"Не получилось отвергнуть нулевую гипотезу\") "
      ]
    },
    {
      "cell_type": "markdown",
      "metadata": {
        "id": "PcV-1i8VG0Yg"
      },
      "source": [
        "Нулевая гипотеза принимается, отсюда следует, что средняя выручка пользователей из Москвы не отличается от выручки пользователей из других регионов. Проверим этот результат, посчитаем среднюю выручку для каждой группы пользователей."
      ]
    },
    {
      "cell_type": "code",
      "execution_count": null,
      "metadata": {
        "id": "LnuYKS3xG0Yh"
      },
      "outputs": [],
      "source": [
        "# mean for clients from Moscow\n",
        "msc.mean()"
      ]
    },
    {
      "cell_type": "code",
      "execution_count": null,
      "metadata": {
        "id": "1H50YDQNG0Yh"
      },
      "outputs": [],
      "source": [
        "# mean for clients from regions\n",
        "regions.mean()"
      ]
    },
    {
      "cell_type": "markdown",
      "metadata": {
        "id": "4O6XmNarG0Yi"
      },
      "source": [
        "Действительно средняя выручка от пользователей из Москвы почти не отличается от выручки из других регионов, разница всего 1.5%. \n",
        "\n",
        "Полученные выборки опровергают гипотезу, что средняя выручка пользователей из Москвы отличается от выручки пользователей из других регионов."
      ]
    },
    {
      "cell_type": "markdown",
      "metadata": {
        "id": "BLvDwVQyG0Yi"
      },
      "source": [
        "### Вывод"
      ]
    },
    {
      "cell_type": "markdown",
      "metadata": {
        "id": "cJKBcniEG0Yj"
      },
      "source": [
        "Мы проверили гипотезы при помощи статистического теста с пороговым значением альфа 0.05%:\n",
        "1. Средняя выручка пользователей тарифов «Ультра» и «Смарт» различаются.\n",
        "2. Средняя выручка пользователей из Москвы отличается от выручки пользователей из других регионов.\n",
        "\n",
        "Первую гипотезу не получилось отвергнуть. Полученное значение p-value говорит о том, что вероятность случайно получить такое различие выручки от тарифов менее 0.001%. Средняя выручка статистически значимо отличается в зависимости от тарифа. Исследование полученной выборки пользователей с большой вероятностью говорит в пользу гипотезы.\n",
        "\n",
        "Вторая гипотеза была опровергнута. Полученное значение p-value говорит о том, что вероятность случайно получить такое различие между пользователями почти 51.3%, хотя и пользователи из разных регионов. Это явно слишком большая вероятность случайности, чтобы делать вывод о значимом различии регионов."
      ]
    },
    {
      "cell_type": "markdown",
      "metadata": {
        "id": "TaXrQxHkG0Yj"
      },
      "source": [
        "## Общий вывод"
      ]
    },
    {
      "cell_type": "markdown",
      "metadata": {
        "id": "k7lsbByUG0Yj"
      },
      "source": [
        "Анализ был проведен для выборки с информацией о 500 клиентах тарифов Ультра и Смарт сотового оператора «Мегалайна» за 2018 год: архив звонков, сообщений и интернет сессий, а также общие данные о пользователях и тарифах. Клиенты в основном представлены для тарифа \"Смарт\", доля составляет 70.2%. Отметим, что в предоставленной выборке не было архива услуг связи для двух клиентов.\n",
        "\n",
        "На этапе подготовки данных были выполнены следующие шаги:\n",
        "- даты перевели в формат месяца;\n",
        "- значения в минутах округлили до большего целого;\n",
        "- объем интернет-трафика округлили до большего целого и перевели в гигабайты;\n",
        "- была создана сводная таблица с данными каждого пользователя, где отражено помесячно количество и длительность звонков, объем интернет-трафика и количество сообщений;\n",
        "- посчитали помесячную выручку с каждого пользователя и добавили результат в таблицу;\n",
        "- все числовые значения округлили до целых.\n",
        "\n",
        "Анализ полученной выборки выявил закономерности и определенные результаты для общего случая:\n",
        "- пользователи тарифа Ультра говорят больше на 20.7%;\n",
        "- пользователи тарифа Ультра пользуется интернетом в большем объеме на 15%;\n",
        "- пользователи тарифа Ультра отправляют сообщения чаще на 32%;\n",
        "- пользователи тарифа Ультра платят за услуги оператора на 37.5% больше;\n",
        "- дисперсия и размах значений больше для тарифа Ультра, кроме значений для выручки - они больше для тарифа Смарт;\n",
        "\n",
        "Статистический анализ представленной совокупности данных проверил выдвинутые гипотезы:\n",
        "1. Средняя выручка пользователей тарифов «Ультра» и «Смарт» различаются.\n",
        "\n",
        "Гипотезу не получилось отвергнуть. Статистический тест выборок определил, что средняя выручка значимо отличается (вероятность более 99,9%) в зависимости от тарифа. Полученные средние также говорят в пользу гипотезы: средняя выручка тарифа Ультра больше, чем у Смарт почти в 1.6 раза.\n",
        "\n",
        "2. Средняя выручка пользователей из Москвы отличается от выручки пользователей из других регионов.\n",
        "\n",
        "Вторая гипотеза была опровергнута. Статистический тест определил, что имеется слишком большая вероятность случайности, почти 52.6%, чтобы делать вывод о значимом различии регионов. Полученные средние также говорят не в пользу гипотезы: средняя выручка клиентов из Москвы больше, чем у других регионов всего на 1.5%. \n",
        "\n",
        "Коммерческому департаменту необходимо сообщить, что тариф Ультра в средних значениях приносит компании больше денег. Полученная выборка пользователей указывает на превосходство средней выручки тарифа Ультра в 1.6 раза по сравнению со Смарт. Такие показатели установились, благодаря более высокой абонентской платы в размере 1950 руб. Несмотря на это, также обращаем внимание на статистическое описание данных и графики распределений значений для выручки тарифов, которые говорят в пользу тарифа Смарт. Имеется большое число клиентов тарифа, которые платят ежемесячно больше заявленных 1950 руб. Доля таких клиентов у тарифа Смарт больше на 5.3%, чем у Ультра. В выборках имеются также клиенты Смарт, которые платят в 3 раза больше абонентской платы, установленный в тарифе Ультра. Такие высокие показатели по выручке обусловлены более дорогим тарифом на дополнительные услуги у Смарт, только 25.3% клиентов остается в рамках тарифа и не платят больше своей абонентской платы.\n",
        "\n",
        "Можно сделать вывод, что в общем случае, пользователи тарифа Ультра платят ежемесячно больше, но определенные клиенты тарифа Смарт обладают перспективой в плане выручки для компании. На них тоже следует обратить внимание, ведь доля клиентов, кто платит больше абонентской платы (1950 руб. в месяц) у тарифа Смарт несколько больше."
      ]
    }
  ],
  "metadata": {
    "ExecuteTimeLog": [
      {
        "duration": 962,
        "start_time": "2022-03-13T16:16:37.056Z"
      },
      {
        "duration": 868,
        "start_time": "2022-03-13T16:17:08.943Z"
      },
      {
        "duration": 250,
        "start_time": "2022-03-13T16:17:15.891Z"
      },
      {
        "duration": 65,
        "start_time": "2022-03-13T16:17:29.925Z"
      },
      {
        "duration": 289,
        "start_time": "2022-03-13T16:20:06.079Z"
      },
      {
        "duration": 188,
        "start_time": "2022-03-13T16:26:44.045Z"
      },
      {
        "duration": 487,
        "start_time": "2022-03-13T16:28:07.187Z"
      },
      {
        "duration": 137,
        "start_time": "2022-03-13T16:28:12.348Z"
      },
      {
        "duration": 29,
        "start_time": "2022-03-13T16:29:31.542Z"
      },
      {
        "duration": 26,
        "start_time": "2022-03-13T16:30:21.577Z"
      },
      {
        "duration": 219,
        "start_time": "2022-03-13T16:41:25.806Z"
      },
      {
        "duration": 222,
        "start_time": "2022-03-13T16:41:33.677Z"
      },
      {
        "duration": 19,
        "start_time": "2022-03-13T16:48:57.568Z"
      },
      {
        "duration": 18,
        "start_time": "2022-03-13T16:49:05.333Z"
      },
      {
        "duration": 16,
        "start_time": "2022-03-13T16:59:12.871Z"
      },
      {
        "duration": 11,
        "start_time": "2022-03-13T17:02:56.190Z"
      },
      {
        "duration": 135,
        "start_time": "2022-03-13T17:03:12.462Z"
      },
      {
        "duration": 104,
        "start_time": "2022-03-13T17:03:31.407Z"
      },
      {
        "duration": 77,
        "start_time": "2022-03-13T17:03:43.655Z"
      },
      {
        "duration": 15,
        "start_time": "2022-03-13T18:51:45.761Z"
      },
      {
        "duration": 16,
        "start_time": "2022-03-13T18:53:06.620Z"
      },
      {
        "duration": 328,
        "start_time": "2022-03-13T18:57:51.936Z"
      },
      {
        "duration": 366,
        "start_time": "2022-03-13T19:02:47.413Z"
      },
      {
        "duration": 67,
        "start_time": "2022-03-13T19:02:58.017Z"
      },
      {
        "duration": 10,
        "start_time": "2022-03-13T19:02:58.087Z"
      },
      {
        "duration": 773,
        "start_time": "2022-03-13T19:02:58.100Z"
      },
      {
        "duration": 16,
        "start_time": "2022-03-13T19:02:58.877Z"
      },
      {
        "duration": 623,
        "start_time": "2022-03-13T19:02:58.896Z"
      },
      {
        "duration": 15,
        "start_time": "2022-03-13T19:02:59.521Z"
      },
      {
        "duration": 430,
        "start_time": "2022-03-13T19:02:59.538Z"
      },
      {
        "duration": 12,
        "start_time": "2022-03-13T19:02:59.971Z"
      },
      {
        "duration": 60,
        "start_time": "2022-03-13T19:02:59.985Z"
      },
      {
        "duration": 364,
        "start_time": "2022-03-13T19:03:00.047Z"
      },
      {
        "duration": 12,
        "start_time": "2022-03-13T19:04:25.705Z"
      },
      {
        "duration": 12,
        "start_time": "2022-03-13T19:04:46.788Z"
      },
      {
        "duration": 396,
        "start_time": "2022-03-13T19:18:05.783Z"
      },
      {
        "duration": 49,
        "start_time": "2022-03-13T19:18:42.832Z"
      },
      {
        "duration": 41,
        "start_time": "2022-03-13T19:19:39.334Z"
      },
      {
        "duration": 220,
        "start_time": "2022-03-13T19:19:51.459Z"
      },
      {
        "duration": 232,
        "start_time": "2022-03-13T19:20:10.952Z"
      },
      {
        "duration": 41,
        "start_time": "2022-03-13T19:29:18.097Z"
      },
      {
        "duration": 60,
        "start_time": "2022-03-13T19:29:23.754Z"
      },
      {
        "duration": 17,
        "start_time": "2022-03-13T19:29:54.956Z"
      },
      {
        "duration": 19,
        "start_time": "2022-03-13T19:30:02.486Z"
      },
      {
        "duration": 50,
        "start_time": "2022-03-13T19:31:40.135Z"
      },
      {
        "duration": 880,
        "start_time": "2022-03-13T19:40:32.153Z"
      },
      {
        "duration": 15,
        "start_time": "2022-03-13T19:40:33.036Z"
      },
      {
        "duration": 782,
        "start_time": "2022-03-13T19:40:33.055Z"
      },
      {
        "duration": 20,
        "start_time": "2022-03-13T19:40:33.840Z"
      },
      {
        "duration": 594,
        "start_time": "2022-03-13T19:40:33.863Z"
      },
      {
        "duration": 15,
        "start_time": "2022-03-13T19:40:34.459Z"
      },
      {
        "duration": 463,
        "start_time": "2022-03-13T19:40:34.476Z"
      },
      {
        "duration": 13,
        "start_time": "2022-03-13T19:40:34.942Z"
      },
      {
        "duration": 59,
        "start_time": "2022-03-13T19:40:34.959Z"
      },
      {
        "duration": 64,
        "start_time": "2022-03-13T19:40:35.020Z"
      },
      {
        "duration": 512,
        "start_time": "2022-03-13T19:40:35.086Z"
      },
      {
        "duration": 12,
        "start_time": "2022-03-13T19:42:39.830Z"
      },
      {
        "duration": 16,
        "start_time": "2022-03-13T19:42:49.525Z"
      },
      {
        "duration": 73,
        "start_time": "2022-03-13T19:45:42.277Z"
      },
      {
        "duration": 17,
        "start_time": "2022-03-13T19:45:53.730Z"
      },
      {
        "duration": 88,
        "start_time": "2022-03-13T19:46:00.498Z"
      },
      {
        "duration": 87,
        "start_time": "2022-03-13T19:46:26.732Z"
      },
      {
        "duration": 92,
        "start_time": "2022-03-13T19:53:30.873Z"
      },
      {
        "duration": 84,
        "start_time": "2022-03-13T19:54:05.793Z"
      },
      {
        "duration": 79,
        "start_time": "2022-03-13T19:55:57.603Z"
      },
      {
        "duration": 85,
        "start_time": "2022-03-13T19:56:06.639Z"
      },
      {
        "duration": 316,
        "start_time": "2022-03-13T19:57:22.933Z"
      },
      {
        "duration": 10,
        "start_time": "2022-03-13T19:58:01.825Z"
      },
      {
        "duration": 53,
        "start_time": "2022-03-13T19:59:32.707Z"
      },
      {
        "duration": 16,
        "start_time": "2022-03-13T19:59:32.763Z"
      },
      {
        "duration": 222,
        "start_time": "2022-03-13T19:59:32.783Z"
      },
      {
        "duration": 100,
        "start_time": "2022-03-13T19:59:33.008Z"
      },
      {
        "duration": 22,
        "start_time": "2022-03-13T19:59:33.111Z"
      },
      {
        "duration": 312,
        "start_time": "2022-03-13T19:59:33.136Z"
      },
      {
        "duration": 59,
        "start_time": "2022-03-13T20:00:14.498Z"
      },
      {
        "duration": 330,
        "start_time": "2022-03-13T20:00:19.621Z"
      },
      {
        "duration": 43,
        "start_time": "2022-03-13T20:00:31.065Z"
      },
      {
        "duration": 31,
        "start_time": "2022-03-13T20:00:31.111Z"
      },
      {
        "duration": 226,
        "start_time": "2022-03-13T20:00:31.145Z"
      },
      {
        "duration": 92,
        "start_time": "2022-03-13T20:00:31.373Z"
      },
      {
        "duration": 8,
        "start_time": "2022-03-13T20:00:31.467Z"
      },
      {
        "duration": 102,
        "start_time": "2022-03-13T20:00:31.478Z"
      },
      {
        "duration": 315,
        "start_time": "2022-03-13T20:01:38.865Z"
      },
      {
        "duration": 50,
        "start_time": "2022-03-13T20:01:44.188Z"
      },
      {
        "duration": 23,
        "start_time": "2022-03-13T20:01:44.242Z"
      },
      {
        "duration": 237,
        "start_time": "2022-03-13T20:01:44.269Z"
      },
      {
        "duration": 92,
        "start_time": "2022-03-13T20:01:44.509Z"
      },
      {
        "duration": 35,
        "start_time": "2022-03-13T20:01:44.604Z"
      },
      {
        "duration": 71,
        "start_time": "2022-03-13T20:01:44.642Z"
      },
      {
        "duration": 52,
        "start_time": "2022-03-13T20:01:59.843Z"
      },
      {
        "duration": 16,
        "start_time": "2022-03-13T20:01:59.898Z"
      },
      {
        "duration": 230,
        "start_time": "2022-03-13T20:01:59.918Z"
      },
      {
        "duration": 139,
        "start_time": "2022-03-13T20:02:00.151Z"
      },
      {
        "duration": 10,
        "start_time": "2022-03-13T20:02:00.293Z"
      },
      {
        "duration": 96,
        "start_time": "2022-03-13T20:02:00.306Z"
      },
      {
        "duration": 315,
        "start_time": "2022-03-13T20:02:34.671Z"
      },
      {
        "duration": 49,
        "start_time": "2022-03-13T20:02:39.095Z"
      },
      {
        "duration": 25,
        "start_time": "2022-03-13T20:02:39.146Z"
      },
      {
        "duration": 220,
        "start_time": "2022-03-13T20:02:39.174Z"
      },
      {
        "duration": 92,
        "start_time": "2022-03-13T20:02:39.397Z"
      },
      {
        "duration": 9,
        "start_time": "2022-03-13T20:02:39.492Z"
      },
      {
        "duration": 95,
        "start_time": "2022-03-13T20:02:39.503Z"
      },
      {
        "duration": 391,
        "start_time": "2022-03-13T20:03:14.878Z"
      },
      {
        "duration": 52,
        "start_time": "2022-03-13T20:03:23.988Z"
      },
      {
        "duration": 19,
        "start_time": "2022-03-13T20:03:24.044Z"
      },
      {
        "duration": 309,
        "start_time": "2022-03-13T20:03:24.066Z"
      },
      {
        "duration": 94,
        "start_time": "2022-03-13T20:03:24.378Z"
      },
      {
        "duration": 8,
        "start_time": "2022-03-13T20:03:24.475Z"
      },
      {
        "duration": 85,
        "start_time": "2022-03-13T20:03:24.486Z"
      },
      {
        "duration": 42,
        "start_time": "2022-03-13T20:03:33.490Z"
      },
      {
        "duration": 14,
        "start_time": "2022-03-13T20:03:33.534Z"
      },
      {
        "duration": 214,
        "start_time": "2022-03-13T20:03:33.551Z"
      },
      {
        "duration": 92,
        "start_time": "2022-03-13T20:03:33.767Z"
      },
      {
        "duration": 9,
        "start_time": "2022-03-13T20:03:33.862Z"
      },
      {
        "duration": 95,
        "start_time": "2022-03-13T20:03:33.874Z"
      },
      {
        "duration": 43,
        "start_time": "2022-03-13T20:04:21.960Z"
      },
      {
        "duration": 15,
        "start_time": "2022-03-13T20:04:22.005Z"
      },
      {
        "duration": 217,
        "start_time": "2022-03-13T20:04:22.023Z"
      },
      {
        "duration": 92,
        "start_time": "2022-03-13T20:04:22.242Z"
      },
      {
        "duration": 9,
        "start_time": "2022-03-13T20:04:22.336Z"
      },
      {
        "duration": 387,
        "start_time": "2022-03-13T20:04:22.348Z"
      },
      {
        "duration": 44,
        "start_time": "2022-03-13T20:04:57.421Z"
      },
      {
        "duration": 17,
        "start_time": "2022-03-13T20:04:57.468Z"
      },
      {
        "duration": 221,
        "start_time": "2022-03-13T20:04:57.487Z"
      },
      {
        "duration": 93,
        "start_time": "2022-03-13T20:04:57.710Z"
      },
      {
        "duration": 9,
        "start_time": "2022-03-13T20:04:57.805Z"
      },
      {
        "duration": 75,
        "start_time": "2022-03-13T20:04:57.833Z"
      },
      {
        "duration": 297,
        "start_time": "2022-03-14T06:47:19.214Z"
      },
      {
        "duration": 946,
        "start_time": "2022-03-14T06:47:45.454Z"
      },
      {
        "duration": 11,
        "start_time": "2022-03-14T06:47:46.403Z"
      },
      {
        "duration": 19,
        "start_time": "2022-03-14T06:47:46.423Z"
      },
      {
        "duration": 287,
        "start_time": "2022-03-14T06:47:46.445Z"
      },
      {
        "duration": 96,
        "start_time": "2022-03-14T06:47:46.734Z"
      },
      {
        "duration": 95,
        "start_time": "2022-03-14T06:47:46.832Z"
      },
      {
        "duration": 201,
        "start_time": "2022-03-14T06:47:46.930Z"
      },
      {
        "duration": 14,
        "start_time": "2022-03-14T06:47:47.133Z"
      },
      {
        "duration": 152,
        "start_time": "2022-03-14T06:47:47.149Z"
      },
      {
        "duration": 16,
        "start_time": "2022-03-14T06:47:47.304Z"
      },
      {
        "duration": 23,
        "start_time": "2022-03-14T06:47:47.323Z"
      },
      {
        "duration": 57,
        "start_time": "2022-03-14T06:47:47.349Z"
      },
      {
        "duration": 3,
        "start_time": "2022-03-14T06:47:47.408Z"
      },
      {
        "duration": 27,
        "start_time": "2022-03-14T06:53:59.314Z"
      },
      {
        "duration": 22,
        "start_time": "2022-03-14T06:54:40.179Z"
      },
      {
        "duration": 20,
        "start_time": "2022-03-14T06:55:07.218Z"
      },
      {
        "duration": 11,
        "start_time": "2022-03-14T07:24:23.434Z"
      },
      {
        "duration": 26,
        "start_time": "2022-03-14T07:29:23.225Z"
      },
      {
        "duration": 16,
        "start_time": "2022-03-14T09:32:50.852Z"
      },
      {
        "duration": 81,
        "start_time": "2022-03-14T09:53:09.352Z"
      },
      {
        "duration": 30,
        "start_time": "2022-03-14T09:53:16.815Z"
      },
      {
        "duration": 198,
        "start_time": "2022-03-14T09:53:16.847Z"
      },
      {
        "duration": 178,
        "start_time": "2022-03-14T09:53:17.048Z"
      },
      {
        "duration": 130,
        "start_time": "2022-03-14T09:53:17.229Z"
      },
      {
        "duration": 25,
        "start_time": "2022-03-14T09:53:17.362Z"
      },
      {
        "duration": 11,
        "start_time": "2022-03-14T09:53:17.389Z"
      },
      {
        "duration": 102,
        "start_time": "2022-03-14T09:53:17.402Z"
      },
      {
        "duration": 14,
        "start_time": "2022-03-14T10:38:58.366Z"
      },
      {
        "duration": 30,
        "start_time": "2022-03-14T11:21:57.301Z"
      },
      {
        "duration": 193,
        "start_time": "2022-03-14T11:21:57.333Z"
      },
      {
        "duration": 176,
        "start_time": "2022-03-14T11:21:57.529Z"
      },
      {
        "duration": 118,
        "start_time": "2022-03-14T11:21:57.707Z"
      },
      {
        "duration": 20,
        "start_time": "2022-03-14T11:21:57.828Z"
      },
      {
        "duration": 19,
        "start_time": "2022-03-14T11:21:57.851Z"
      },
      {
        "duration": 93,
        "start_time": "2022-03-14T11:21:57.872Z"
      },
      {
        "duration": 80,
        "start_time": "2022-03-14T11:22:13.343Z"
      },
      {
        "duration": 85,
        "start_time": "2022-03-14T11:22:33.416Z"
      },
      {
        "duration": 321,
        "start_time": "2022-03-14T11:25:44.073Z"
      },
      {
        "duration": 30,
        "start_time": "2022-03-14T11:25:49.954Z"
      },
      {
        "duration": 193,
        "start_time": "2022-03-14T11:25:49.987Z"
      },
      {
        "duration": 241,
        "start_time": "2022-03-14T11:25:50.182Z"
      },
      {
        "duration": 231,
        "start_time": "2022-03-14T11:26:12.768Z"
      },
      {
        "duration": 235,
        "start_time": "2022-03-14T11:26:25.088Z"
      },
      {
        "duration": 32,
        "start_time": "2022-03-14T11:26:39.897Z"
      },
      {
        "duration": 6050,
        "start_time": "2022-03-14T11:27:08.643Z"
      },
      {
        "duration": 30,
        "start_time": "2022-03-14T11:27:29.018Z"
      },
      {
        "duration": 6000,
        "start_time": "2022-03-14T11:27:29.051Z"
      },
      {
        "duration": 15,
        "start_time": "2022-03-14T11:30:57.522Z"
      },
      {
        "duration": 806,
        "start_time": "2022-03-14T11:37:42.200Z"
      },
      {
        "duration": 247,
        "start_time": "2022-03-14T11:37:43.009Z"
      },
      {
        "duration": 250,
        "start_time": "2022-03-14T11:37:43.262Z"
      },
      {
        "duration": 119,
        "start_time": "2022-03-14T11:37:43.515Z"
      },
      {
        "duration": 24,
        "start_time": "2022-03-14T11:37:43.636Z"
      },
      {
        "duration": 29,
        "start_time": "2022-03-14T11:37:43.663Z"
      },
      {
        "duration": 114,
        "start_time": "2022-03-14T11:37:43.696Z"
      },
      {
        "duration": 88,
        "start_time": "2022-03-14T11:37:43.813Z"
      },
      {
        "duration": 1182,
        "start_time": "2022-03-14T11:37:43.904Z"
      },
      {
        "duration": -21,
        "start_time": "2022-03-14T11:37:45.111Z"
      },
      {
        "duration": -26,
        "start_time": "2022-03-14T11:37:45.118Z"
      },
      {
        "duration": -30,
        "start_time": "2022-03-14T11:37:45.124Z"
      },
      {
        "duration": -31,
        "start_time": "2022-03-14T11:37:45.127Z"
      },
      {
        "duration": -33,
        "start_time": "2022-03-14T11:37:45.131Z"
      },
      {
        "duration": -36,
        "start_time": "2022-03-14T11:37:45.135Z"
      },
      {
        "duration": 82,
        "start_time": "2022-03-14T11:38:21.655Z"
      },
      {
        "duration": 5,
        "start_time": "2022-03-14T11:38:36.135Z"
      },
      {
        "duration": 5,
        "start_time": "2022-03-14T11:38:41.151Z"
      },
      {
        "duration": 5,
        "start_time": "2022-03-14T11:46:37.922Z"
      },
      {
        "duration": 30,
        "start_time": "2022-03-14T11:46:49.309Z"
      },
      {
        "duration": 197,
        "start_time": "2022-03-14T11:46:49.341Z"
      },
      {
        "duration": 174,
        "start_time": "2022-03-14T11:46:49.540Z"
      },
      {
        "duration": 122,
        "start_time": "2022-03-14T11:46:49.716Z"
      },
      {
        "duration": 19,
        "start_time": "2022-03-14T11:46:49.841Z"
      },
      {
        "duration": 29,
        "start_time": "2022-03-14T11:46:49.863Z"
      },
      {
        "duration": 96,
        "start_time": "2022-03-14T11:46:49.894Z"
      },
      {
        "duration": 99,
        "start_time": "2022-03-14T11:46:49.993Z"
      },
      {
        "duration": 5,
        "start_time": "2022-03-14T11:46:50.095Z"
      },
      {
        "duration": 6,
        "start_time": "2022-03-14T11:47:06.091Z"
      },
      {
        "duration": 259,
        "start_time": "2022-03-14T11:51:10.629Z"
      },
      {
        "duration": 205,
        "start_time": "2022-03-14T11:51:44.644Z"
      },
      {
        "duration": 87,
        "start_time": "2022-03-14T11:52:04.093Z"
      },
      {
        "duration": 264,
        "start_time": "2022-03-14T11:52:27.861Z"
      },
      {
        "duration": 30,
        "start_time": "2022-03-14T11:52:47.174Z"
      },
      {
        "duration": 221,
        "start_time": "2022-03-14T11:52:47.207Z"
      },
      {
        "duration": 181,
        "start_time": "2022-03-14T11:52:47.430Z"
      },
      {
        "duration": 124,
        "start_time": "2022-03-14T11:52:47.614Z"
      },
      {
        "duration": 22,
        "start_time": "2022-03-14T11:52:47.740Z"
      },
      {
        "duration": 30,
        "start_time": "2022-03-14T11:52:47.765Z"
      },
      {
        "duration": 158,
        "start_time": "2022-03-14T11:52:47.798Z"
      },
      {
        "duration": 100,
        "start_time": "2022-03-14T11:52:47.960Z"
      },
      {
        "duration": 271,
        "start_time": "2022-03-14T11:52:48.063Z"
      },
      {
        "duration": 100,
        "start_time": "2022-03-14T11:53:51.141Z"
      },
      {
        "duration": 283,
        "start_time": "2022-03-14T11:54:59.927Z"
      },
      {
        "duration": 7,
        "start_time": "2022-03-14T11:59:34.439Z"
      },
      {
        "duration": 3541,
        "start_time": "2022-03-14T12:00:04.423Z"
      },
      {
        "duration": 258,
        "start_time": "2022-03-14T12:02:27.568Z"
      },
      {
        "duration": 272,
        "start_time": "2022-03-14T12:05:17.640Z"
      },
      {
        "duration": 242,
        "start_time": "2022-03-14T12:05:31.441Z"
      },
      {
        "duration": 268,
        "start_time": "2022-03-14T12:05:38.713Z"
      },
      {
        "duration": 259,
        "start_time": "2022-03-14T12:05:44.905Z"
      },
      {
        "duration": 7,
        "start_time": "2022-03-14T12:08:07.786Z"
      },
      {
        "duration": 32,
        "start_time": "2022-03-14T12:08:14.577Z"
      },
      {
        "duration": 15,
        "start_time": "2022-03-14T12:13:41.483Z"
      },
      {
        "duration": 83,
        "start_time": "2022-03-14T12:13:57.403Z"
      },
      {
        "duration": 36,
        "start_time": "2022-03-14T12:22:41.113Z"
      },
      {
        "duration": 234,
        "start_time": "2022-03-14T12:22:41.152Z"
      },
      {
        "duration": 182,
        "start_time": "2022-03-14T12:22:41.389Z"
      },
      {
        "duration": 127,
        "start_time": "2022-03-14T12:22:41.574Z"
      },
      {
        "duration": 22,
        "start_time": "2022-03-14T12:22:41.704Z"
      },
      {
        "duration": 14,
        "start_time": "2022-03-14T12:22:41.729Z"
      },
      {
        "duration": 114,
        "start_time": "2022-03-14T12:22:41.745Z"
      },
      {
        "duration": 27,
        "start_time": "2022-03-14T12:22:41.862Z"
      },
      {
        "duration": 73,
        "start_time": "2022-03-14T12:22:41.892Z"
      },
      {
        "duration": 22,
        "start_time": "2022-03-14T12:26:02.335Z"
      },
      {
        "duration": 151,
        "start_time": "2022-03-14T12:26:19.494Z"
      },
      {
        "duration": 18,
        "start_time": "2022-03-14T12:27:09.536Z"
      },
      {
        "duration": 136,
        "start_time": "2022-03-14T12:27:54.560Z"
      },
      {
        "duration": 125,
        "start_time": "2022-03-14T12:28:15.112Z"
      },
      {
        "duration": 14,
        "start_time": "2022-03-14T12:33:29.362Z"
      },
      {
        "duration": 6485,
        "start_time": "2022-03-14T12:33:53.738Z"
      },
      {
        "duration": 23,
        "start_time": "2022-03-14T12:34:03.058Z"
      },
      {
        "duration": 17,
        "start_time": "2022-03-14T12:35:39.203Z"
      },
      {
        "duration": 25,
        "start_time": "2022-03-14T12:35:44.547Z"
      },
      {
        "duration": 26,
        "start_time": "2022-03-14T12:36:32.644Z"
      },
      {
        "duration": 18,
        "start_time": "2022-03-14T12:48:31.663Z"
      },
      {
        "duration": 15,
        "start_time": "2022-03-14T12:54:29.017Z"
      },
      {
        "duration": 125,
        "start_time": "2022-03-14T12:56:07.713Z"
      },
      {
        "duration": 27,
        "start_time": "2022-03-14T13:03:56.076Z"
      },
      {
        "duration": 44,
        "start_time": "2022-03-14T13:04:04.734Z"
      },
      {
        "duration": 298,
        "start_time": "2022-03-14T13:04:04.781Z"
      },
      {
        "duration": 214,
        "start_time": "2022-03-14T13:04:05.083Z"
      },
      {
        "duration": 171,
        "start_time": "2022-03-14T13:04:05.301Z"
      },
      {
        "duration": 29,
        "start_time": "2022-03-14T13:04:05.474Z"
      },
      {
        "duration": 19,
        "start_time": "2022-03-14T13:04:05.506Z"
      },
      {
        "duration": 112,
        "start_time": "2022-03-14T13:04:05.528Z"
      },
      {
        "duration": 17,
        "start_time": "2022-03-14T13:04:05.644Z"
      },
      {
        "duration": 32,
        "start_time": "2022-03-14T13:09:28.615Z"
      },
      {
        "duration": 199,
        "start_time": "2022-03-14T13:09:28.650Z"
      },
      {
        "duration": 247,
        "start_time": "2022-03-14T13:09:28.853Z"
      },
      {
        "duration": 171,
        "start_time": "2022-03-14T13:09:29.104Z"
      },
      {
        "duration": 25,
        "start_time": "2022-03-14T13:09:29.278Z"
      },
      {
        "duration": 18,
        "start_time": "2022-03-14T13:09:29.306Z"
      },
      {
        "duration": 123,
        "start_time": "2022-03-14T13:09:29.327Z"
      },
      {
        "duration": 47,
        "start_time": "2022-03-14T13:09:29.453Z"
      },
      {
        "duration": 147,
        "start_time": "2022-03-14T13:09:29.503Z"
      },
      {
        "duration": 6,
        "start_time": "2022-03-14T13:09:29.653Z"
      },
      {
        "duration": 24,
        "start_time": "2022-03-14T13:09:35.052Z"
      },
      {
        "duration": 6,
        "start_time": "2022-03-14T13:09:53.421Z"
      },
      {
        "duration": 14,
        "start_time": "2022-03-14T13:11:18.141Z"
      },
      {
        "duration": 14,
        "start_time": "2022-03-14T13:11:27.565Z"
      },
      {
        "duration": 15,
        "start_time": "2022-03-14T13:12:15.613Z"
      },
      {
        "duration": 35,
        "start_time": "2022-03-14T13:12:22.467Z"
      },
      {
        "duration": 216,
        "start_time": "2022-03-14T13:12:22.505Z"
      },
      {
        "duration": 174,
        "start_time": "2022-03-14T13:12:22.725Z"
      },
      {
        "duration": 126,
        "start_time": "2022-03-14T13:12:22.901Z"
      },
      {
        "duration": 21,
        "start_time": "2022-03-14T13:12:23.029Z"
      },
      {
        "duration": 15,
        "start_time": "2022-03-14T13:12:23.052Z"
      },
      {
        "duration": 100,
        "start_time": "2022-03-14T13:12:23.069Z"
      },
      {
        "duration": 29,
        "start_time": "2022-03-14T13:12:23.173Z"
      },
      {
        "duration": 157,
        "start_time": "2022-03-14T13:12:23.205Z"
      },
      {
        "duration": 27,
        "start_time": "2022-03-14T13:12:23.365Z"
      },
      {
        "duration": 18,
        "start_time": "2022-03-14T13:12:23.394Z"
      },
      {
        "duration": 15,
        "start_time": "2022-03-14T13:12:35.822Z"
      },
      {
        "duration": 30,
        "start_time": "2022-03-14T13:15:10.355Z"
      },
      {
        "duration": 199,
        "start_time": "2022-03-14T13:15:10.388Z"
      },
      {
        "duration": 173,
        "start_time": "2022-03-14T13:15:10.590Z"
      },
      {
        "duration": 122,
        "start_time": "2022-03-14T13:15:10.766Z"
      },
      {
        "duration": 21,
        "start_time": "2022-03-14T13:15:10.891Z"
      },
      {
        "duration": 23,
        "start_time": "2022-03-14T13:15:10.914Z"
      },
      {
        "duration": 92,
        "start_time": "2022-03-14T13:15:10.940Z"
      },
      {
        "duration": 16,
        "start_time": "2022-03-14T13:15:11.035Z"
      },
      {
        "duration": 157,
        "start_time": "2022-03-14T13:15:11.053Z"
      },
      {
        "duration": 1090,
        "start_time": "2022-03-14T13:15:11.212Z"
      },
      {
        "duration": 31,
        "start_time": "2022-03-14T13:15:37.279Z"
      },
      {
        "duration": 201,
        "start_time": "2022-03-14T13:15:37.312Z"
      },
      {
        "duration": 177,
        "start_time": "2022-03-14T13:15:37.516Z"
      },
      {
        "duration": 122,
        "start_time": "2022-03-14T13:15:37.696Z"
      },
      {
        "duration": 21,
        "start_time": "2022-03-14T13:15:37.820Z"
      },
      {
        "duration": 17,
        "start_time": "2022-03-14T13:15:37.844Z"
      },
      {
        "duration": 103,
        "start_time": "2022-03-14T13:15:37.863Z"
      },
      {
        "duration": 28,
        "start_time": "2022-03-14T13:15:37.969Z"
      },
      {
        "duration": 149,
        "start_time": "2022-03-14T13:15:38.000Z"
      },
      {
        "duration": 95,
        "start_time": "2022-03-14T13:15:38.151Z"
      },
      {
        "duration": 12,
        "start_time": "2022-03-14T13:17:58.471Z"
      },
      {
        "duration": 13,
        "start_time": "2022-03-14T13:18:28.559Z"
      },
      {
        "duration": 37,
        "start_time": "2022-03-14T13:19:29.139Z"
      },
      {
        "duration": 208,
        "start_time": "2022-03-14T13:19:29.180Z"
      },
      {
        "duration": 234,
        "start_time": "2022-03-14T13:19:29.391Z"
      },
      {
        "duration": 123,
        "start_time": "2022-03-14T13:19:29.628Z"
      },
      {
        "duration": 21,
        "start_time": "2022-03-14T13:19:29.754Z"
      },
      {
        "duration": 12,
        "start_time": "2022-03-14T13:19:29.787Z"
      },
      {
        "duration": 106,
        "start_time": "2022-03-14T13:19:29.801Z"
      },
      {
        "duration": 15,
        "start_time": "2022-03-14T13:19:29.910Z"
      },
      {
        "duration": 163,
        "start_time": "2022-03-14T13:19:29.928Z"
      },
      {
        "duration": 101,
        "start_time": "2022-03-14T13:19:30.094Z"
      },
      {
        "duration": 14,
        "start_time": "2022-03-14T13:19:30.197Z"
      },
      {
        "duration": 22,
        "start_time": "2022-03-14T13:19:30.213Z"
      },
      {
        "duration": 19,
        "start_time": "2022-03-14T13:23:00.441Z"
      },
      {
        "duration": 29,
        "start_time": "2022-03-14T13:27:38.174Z"
      },
      {
        "duration": 210,
        "start_time": "2022-03-14T13:27:38.205Z"
      },
      {
        "duration": 179,
        "start_time": "2022-03-14T13:27:38.418Z"
      },
      {
        "duration": 120,
        "start_time": "2022-03-14T13:27:38.600Z"
      },
      {
        "duration": 20,
        "start_time": "2022-03-14T13:27:38.723Z"
      },
      {
        "duration": 12,
        "start_time": "2022-03-14T13:27:38.746Z"
      },
      {
        "duration": 104,
        "start_time": "2022-03-14T13:27:38.761Z"
      },
      {
        "duration": 29,
        "start_time": "2022-03-14T13:27:38.868Z"
      },
      {
        "duration": 152,
        "start_time": "2022-03-14T13:27:38.899Z"
      },
      {
        "duration": 88,
        "start_time": "2022-03-14T13:27:39.053Z"
      },
      {
        "duration": 12,
        "start_time": "2022-03-14T13:27:39.143Z"
      },
      {
        "duration": 34,
        "start_time": "2022-03-14T13:27:39.157Z"
      },
      {
        "duration": 25,
        "start_time": "2022-03-14T13:27:39.194Z"
      },
      {
        "duration": 14,
        "start_time": "2022-03-14T13:28:19.745Z"
      },
      {
        "duration": 12,
        "start_time": "2022-03-14T13:28:25.920Z"
      },
      {
        "duration": 27,
        "start_time": "2022-03-14T13:29:15.505Z"
      },
      {
        "duration": 255,
        "start_time": "2022-03-14T13:32:34.883Z"
      },
      {
        "duration": 37,
        "start_time": "2022-03-14T13:32:51.490Z"
      },
      {
        "duration": 198,
        "start_time": "2022-03-14T13:32:51.529Z"
      },
      {
        "duration": 180,
        "start_time": "2022-03-14T13:32:51.730Z"
      },
      {
        "duration": 122,
        "start_time": "2022-03-14T13:32:51.912Z"
      },
      {
        "duration": 21,
        "start_time": "2022-03-14T13:32:52.036Z"
      },
      {
        "duration": 29,
        "start_time": "2022-03-14T13:32:52.059Z"
      },
      {
        "duration": 98,
        "start_time": "2022-03-14T13:32:52.091Z"
      },
      {
        "duration": 18,
        "start_time": "2022-03-14T13:32:52.192Z"
      },
      {
        "duration": 243,
        "start_time": "2022-03-14T13:32:52.214Z"
      },
      {
        "duration": 101,
        "start_time": "2022-03-14T13:32:52.461Z"
      },
      {
        "duration": 27,
        "start_time": "2022-03-14T13:32:52.564Z"
      },
      {
        "duration": 14,
        "start_time": "2022-03-14T13:32:52.594Z"
      },
      {
        "duration": 22,
        "start_time": "2022-03-14T13:32:52.611Z"
      },
      {
        "duration": 63,
        "start_time": "2022-03-14T13:32:52.636Z"
      },
      {
        "duration": 240,
        "start_time": "2022-03-14T13:33:16.601Z"
      },
      {
        "duration": 26,
        "start_time": "2022-03-14T13:33:30.161Z"
      },
      {
        "duration": 36,
        "start_time": "2022-03-14T13:33:43.507Z"
      },
      {
        "duration": 203,
        "start_time": "2022-03-14T13:33:43.547Z"
      },
      {
        "duration": 173,
        "start_time": "2022-03-14T13:33:43.753Z"
      },
      {
        "duration": 119,
        "start_time": "2022-03-14T13:33:43.928Z"
      },
      {
        "duration": 22,
        "start_time": "2022-03-14T13:33:44.049Z"
      },
      {
        "duration": 23,
        "start_time": "2022-03-14T13:33:44.073Z"
      },
      {
        "duration": 98,
        "start_time": "2022-03-14T13:33:44.098Z"
      },
      {
        "duration": 17,
        "start_time": "2022-03-14T13:33:44.200Z"
      },
      {
        "duration": 169,
        "start_time": "2022-03-14T13:33:44.219Z"
      },
      {
        "duration": 109,
        "start_time": "2022-03-14T13:33:44.391Z"
      },
      {
        "duration": 12,
        "start_time": "2022-03-14T13:33:44.502Z"
      },
      {
        "duration": 13,
        "start_time": "2022-03-14T13:33:44.517Z"
      },
      {
        "duration": 57,
        "start_time": "2022-03-14T13:33:44.532Z"
      },
      {
        "duration": 22,
        "start_time": "2022-03-14T13:33:44.591Z"
      },
      {
        "duration": 13,
        "start_time": "2022-03-14T13:34:20.034Z"
      },
      {
        "duration": 13,
        "start_time": "2022-03-14T13:35:35.522Z"
      },
      {
        "duration": 29,
        "start_time": "2022-03-14T13:35:50.538Z"
      },
      {
        "duration": 195,
        "start_time": "2022-03-14T13:35:50.570Z"
      },
      {
        "duration": 174,
        "start_time": "2022-03-14T13:35:50.768Z"
      },
      {
        "duration": 117,
        "start_time": "2022-03-14T13:35:50.945Z"
      },
      {
        "duration": 19,
        "start_time": "2022-03-14T13:35:51.064Z"
      },
      {
        "duration": 27,
        "start_time": "2022-03-14T13:35:51.088Z"
      },
      {
        "duration": 104,
        "start_time": "2022-03-14T13:35:51.117Z"
      },
      {
        "duration": 18,
        "start_time": "2022-03-14T13:35:51.224Z"
      },
      {
        "duration": 153,
        "start_time": "2022-03-14T13:35:51.244Z"
      },
      {
        "duration": 96,
        "start_time": "2022-03-14T13:35:51.399Z"
      },
      {
        "duration": 12,
        "start_time": "2022-03-14T13:35:51.498Z"
      },
      {
        "duration": 33,
        "start_time": "2022-03-14T13:35:51.512Z"
      },
      {
        "duration": 27,
        "start_time": "2022-03-14T13:35:51.547Z"
      },
      {
        "duration": 33,
        "start_time": "2022-03-14T13:35:51.576Z"
      },
      {
        "duration": 34,
        "start_time": "2022-03-14T13:36:35.539Z"
      },
      {
        "duration": 32,
        "start_time": "2022-03-14T13:36:42.308Z"
      },
      {
        "duration": 199,
        "start_time": "2022-03-14T13:36:42.343Z"
      },
      {
        "duration": 176,
        "start_time": "2022-03-14T13:36:42.544Z"
      },
      {
        "duration": 116,
        "start_time": "2022-03-14T13:36:42.722Z"
      },
      {
        "duration": 20,
        "start_time": "2022-03-14T13:36:42.840Z"
      },
      {
        "duration": 26,
        "start_time": "2022-03-14T13:36:42.862Z"
      },
      {
        "duration": 98,
        "start_time": "2022-03-14T13:36:42.890Z"
      },
      {
        "duration": 16,
        "start_time": "2022-03-14T13:36:42.992Z"
      },
      {
        "duration": 158,
        "start_time": "2022-03-14T13:36:43.010Z"
      },
      {
        "duration": 95,
        "start_time": "2022-03-14T13:36:43.170Z"
      },
      {
        "duration": 24,
        "start_time": "2022-03-14T13:36:43.268Z"
      },
      {
        "duration": 21,
        "start_time": "2022-03-14T13:36:43.294Z"
      },
      {
        "duration": 23,
        "start_time": "2022-03-14T13:36:43.317Z"
      },
      {
        "duration": 56,
        "start_time": "2022-03-14T13:36:43.343Z"
      },
      {
        "duration": 32,
        "start_time": "2022-03-14T13:37:42.484Z"
      },
      {
        "duration": 202,
        "start_time": "2022-03-14T13:37:42.519Z"
      },
      {
        "duration": 179,
        "start_time": "2022-03-14T13:37:42.724Z"
      },
      {
        "duration": 115,
        "start_time": "2022-03-14T13:37:42.906Z"
      },
      {
        "duration": 19,
        "start_time": "2022-03-14T13:37:43.023Z"
      },
      {
        "duration": 12,
        "start_time": "2022-03-14T13:37:43.044Z"
      },
      {
        "duration": 109,
        "start_time": "2022-03-14T13:37:43.058Z"
      },
      {
        "duration": 25,
        "start_time": "2022-03-14T13:37:43.171Z"
      },
      {
        "duration": 157,
        "start_time": "2022-03-14T13:37:43.198Z"
      },
      {
        "duration": 91,
        "start_time": "2022-03-14T13:37:43.357Z"
      },
      {
        "duration": 14,
        "start_time": "2022-03-14T13:37:43.450Z"
      },
      {
        "duration": 32,
        "start_time": "2022-03-14T13:37:43.466Z"
      },
      {
        "duration": 41,
        "start_time": "2022-03-14T13:37:43.500Z"
      },
      {
        "duration": 776,
        "start_time": "2022-03-14T13:37:59.431Z"
      },
      {
        "duration": 215,
        "start_time": "2022-03-14T13:38:00.210Z"
      },
      {
        "duration": 192,
        "start_time": "2022-03-14T13:38:00.428Z"
      },
      {
        "duration": 128,
        "start_time": "2022-03-14T13:38:00.623Z"
      },
      {
        "duration": 20,
        "start_time": "2022-03-14T13:38:00.753Z"
      },
      {
        "duration": 21,
        "start_time": "2022-03-14T13:38:00.775Z"
      },
      {
        "duration": 113,
        "start_time": "2022-03-14T13:38:00.798Z"
      },
      {
        "duration": 18,
        "start_time": "2022-03-14T13:38:00.915Z"
      },
      {
        "duration": 178,
        "start_time": "2022-03-14T13:38:00.936Z"
      },
      {
        "duration": 111,
        "start_time": "2022-03-14T13:38:01.116Z"
      },
      {
        "duration": 18,
        "start_time": "2022-03-14T13:38:01.230Z"
      },
      {
        "duration": 37,
        "start_time": "2022-03-14T13:38:01.250Z"
      },
      {
        "duration": 327,
        "start_time": "2022-03-14T13:38:01.290Z"
      },
      {
        "duration": -13,
        "start_time": "2022-03-14T13:38:01.633Z"
      },
      {
        "duration": -31,
        "start_time": "2022-03-14T13:38:01.652Z"
      },
      {
        "duration": -38,
        "start_time": "2022-03-14T13:38:01.660Z"
      },
      {
        "duration": 27,
        "start_time": "2022-03-14T13:38:17.839Z"
      },
      {
        "duration": 31,
        "start_time": "2022-03-14T13:39:35.467Z"
      },
      {
        "duration": 209,
        "start_time": "2022-03-14T13:39:35.500Z"
      },
      {
        "duration": 184,
        "start_time": "2022-03-14T13:39:35.712Z"
      },
      {
        "duration": 128,
        "start_time": "2022-03-14T13:39:35.899Z"
      },
      {
        "duration": 22,
        "start_time": "2022-03-14T13:39:36.031Z"
      },
      {
        "duration": 33,
        "start_time": "2022-03-14T13:39:36.055Z"
      },
      {
        "duration": 96,
        "start_time": "2022-03-14T13:39:36.091Z"
      },
      {
        "duration": 15,
        "start_time": "2022-03-14T13:39:36.190Z"
      },
      {
        "duration": 152,
        "start_time": "2022-03-14T13:39:36.208Z"
      },
      {
        "duration": 89,
        "start_time": "2022-03-14T13:39:36.363Z"
      },
      {
        "duration": 31,
        "start_time": "2022-03-14T13:39:36.455Z"
      },
      {
        "duration": 14,
        "start_time": "2022-03-14T13:39:36.488Z"
      },
      {
        "duration": 28,
        "start_time": "2022-03-14T13:39:36.504Z"
      },
      {
        "duration": 57,
        "start_time": "2022-03-14T13:39:36.534Z"
      },
      {
        "duration": 23,
        "start_time": "2022-03-14T13:41:21.000Z"
      },
      {
        "duration": 28,
        "start_time": "2022-03-14T13:41:36.745Z"
      },
      {
        "duration": 38,
        "start_time": "2022-03-14T13:41:43.935Z"
      },
      {
        "duration": 199,
        "start_time": "2022-03-14T13:41:43.976Z"
      },
      {
        "duration": 172,
        "start_time": "2022-03-14T13:41:44.178Z"
      },
      {
        "duration": 143,
        "start_time": "2022-03-14T13:41:44.354Z"
      },
      {
        "duration": 21,
        "start_time": "2022-03-14T13:41:44.499Z"
      },
      {
        "duration": 22,
        "start_time": "2022-03-14T13:41:44.523Z"
      },
      {
        "duration": 150,
        "start_time": "2022-03-14T13:41:44.548Z"
      },
      {
        "duration": 15,
        "start_time": "2022-03-14T13:41:44.701Z"
      },
      {
        "duration": 152,
        "start_time": "2022-03-14T13:41:44.719Z"
      },
      {
        "duration": 88,
        "start_time": "2022-03-14T13:41:44.873Z"
      },
      {
        "duration": 34,
        "start_time": "2022-03-14T13:41:44.964Z"
      },
      {
        "duration": 45,
        "start_time": "2022-03-14T13:41:45.001Z"
      },
      {
        "duration": 30,
        "start_time": "2022-03-14T13:41:45.049Z"
      },
      {
        "duration": 26,
        "start_time": "2022-03-14T13:41:45.081Z"
      },
      {
        "duration": 26,
        "start_time": "2022-03-14T13:41:45.110Z"
      },
      {
        "duration": 744,
        "start_time": "2022-03-14T13:43:00.935Z"
      },
      {
        "duration": 212,
        "start_time": "2022-03-14T13:43:01.682Z"
      },
      {
        "duration": 191,
        "start_time": "2022-03-14T13:43:01.897Z"
      },
      {
        "duration": 123,
        "start_time": "2022-03-14T13:43:02.090Z"
      },
      {
        "duration": 20,
        "start_time": "2022-03-14T13:43:02.216Z"
      },
      {
        "duration": 14,
        "start_time": "2022-03-14T13:43:02.238Z"
      },
      {
        "duration": 110,
        "start_time": "2022-03-14T13:43:02.254Z"
      },
      {
        "duration": 24,
        "start_time": "2022-03-14T13:43:02.368Z"
      },
      {
        "duration": 165,
        "start_time": "2022-03-14T13:43:02.394Z"
      },
      {
        "duration": 105,
        "start_time": "2022-03-14T13:43:02.562Z"
      },
      {
        "duration": 25,
        "start_time": "2022-03-14T13:43:02.669Z"
      },
      {
        "duration": 13,
        "start_time": "2022-03-14T13:43:02.696Z"
      },
      {
        "duration": 26,
        "start_time": "2022-03-14T13:43:02.711Z"
      },
      {
        "duration": 60,
        "start_time": "2022-03-14T13:43:02.740Z"
      },
      {
        "duration": 29,
        "start_time": "2022-03-14T13:43:02.803Z"
      },
      {
        "duration": 4,
        "start_time": "2022-03-14T13:43:02.835Z"
      },
      {
        "duration": 12,
        "start_time": "2022-03-14T13:43:18.752Z"
      },
      {
        "duration": 410,
        "start_time": "2022-03-14T13:46:15.474Z"
      },
      {
        "duration": 37,
        "start_time": "2022-03-14T13:46:23.951Z"
      },
      {
        "duration": 204,
        "start_time": "2022-03-14T13:46:23.990Z"
      },
      {
        "duration": 174,
        "start_time": "2022-03-14T13:46:24.197Z"
      },
      {
        "duration": 121,
        "start_time": "2022-03-14T13:46:24.374Z"
      },
      {
        "duration": 21,
        "start_time": "2022-03-14T13:46:24.498Z"
      },
      {
        "duration": 13,
        "start_time": "2022-03-14T13:46:24.522Z"
      },
      {
        "duration": 108,
        "start_time": "2022-03-14T13:46:24.537Z"
      },
      {
        "duration": 17,
        "start_time": "2022-03-14T13:46:24.649Z"
      },
      {
        "duration": 160,
        "start_time": "2022-03-14T13:46:24.669Z"
      },
      {
        "duration": 96,
        "start_time": "2022-03-14T13:46:24.832Z"
      },
      {
        "duration": 13,
        "start_time": "2022-03-14T13:46:24.930Z"
      },
      {
        "duration": 14,
        "start_time": "2022-03-14T13:46:24.945Z"
      },
      {
        "duration": 278,
        "start_time": "2022-03-14T13:46:24.987Z"
      },
      {
        "duration": 25,
        "start_time": "2022-03-14T13:46:43.882Z"
      },
      {
        "duration": 16,
        "start_time": "2022-03-14T13:48:12.937Z"
      },
      {
        "duration": 18,
        "start_time": "2022-03-14T13:48:26.962Z"
      },
      {
        "duration": 4,
        "start_time": "2022-03-14T13:58:00.284Z"
      },
      {
        "duration": 433,
        "start_time": "2022-03-14T13:58:37.132Z"
      },
      {
        "duration": 41,
        "start_time": "2022-03-14T13:58:52.602Z"
      },
      {
        "duration": 192,
        "start_time": "2022-03-14T13:58:52.645Z"
      },
      {
        "duration": 178,
        "start_time": "2022-03-14T13:58:52.841Z"
      },
      {
        "duration": 122,
        "start_time": "2022-03-14T13:58:53.022Z"
      },
      {
        "duration": 20,
        "start_time": "2022-03-14T13:58:53.147Z"
      },
      {
        "duration": 39,
        "start_time": "2022-03-14T13:58:53.170Z"
      },
      {
        "duration": 83,
        "start_time": "2022-03-14T13:58:53.211Z"
      },
      {
        "duration": 15,
        "start_time": "2022-03-14T13:58:53.297Z"
      },
      {
        "duration": 148,
        "start_time": "2022-03-14T13:58:53.315Z"
      },
      {
        "duration": 99,
        "start_time": "2022-03-14T13:58:53.466Z"
      },
      {
        "duration": 26,
        "start_time": "2022-03-14T13:58:53.568Z"
      },
      {
        "duration": 16,
        "start_time": "2022-03-14T13:58:53.597Z"
      },
      {
        "duration": 25,
        "start_time": "2022-03-14T13:58:53.616Z"
      },
      {
        "duration": 59,
        "start_time": "2022-03-14T13:58:53.644Z"
      },
      {
        "duration": 28,
        "start_time": "2022-03-14T13:58:53.705Z"
      },
      {
        "duration": 418,
        "start_time": "2022-03-14T13:58:53.736Z"
      },
      {
        "duration": 428,
        "start_time": "2022-03-14T13:59:48.805Z"
      },
      {
        "duration": 36,
        "start_time": "2022-03-14T13:59:55.674Z"
      },
      {
        "duration": 239,
        "start_time": "2022-03-14T13:59:55.713Z"
      },
      {
        "duration": 176,
        "start_time": "2022-03-14T13:59:55.955Z"
      },
      {
        "duration": 124,
        "start_time": "2022-03-14T13:59:56.133Z"
      },
      {
        "duration": 20,
        "start_time": "2022-03-14T13:59:56.260Z"
      },
      {
        "duration": 16,
        "start_time": "2022-03-14T13:59:56.288Z"
      },
      {
        "duration": 133,
        "start_time": "2022-03-14T13:59:56.306Z"
      },
      {
        "duration": 16,
        "start_time": "2022-03-14T13:59:56.443Z"
      },
      {
        "duration": 161,
        "start_time": "2022-03-14T13:59:56.461Z"
      },
      {
        "duration": 99,
        "start_time": "2022-03-14T13:59:56.625Z"
      },
      {
        "duration": 12,
        "start_time": "2022-03-14T13:59:56.726Z"
      },
      {
        "duration": 23,
        "start_time": "2022-03-14T13:59:56.740Z"
      },
      {
        "duration": 28,
        "start_time": "2022-03-14T13:59:56.786Z"
      },
      {
        "duration": 31,
        "start_time": "2022-03-14T13:59:56.817Z"
      },
      {
        "duration": 55,
        "start_time": "2022-03-14T13:59:56.850Z"
      },
      {
        "duration": 447,
        "start_time": "2022-03-14T13:59:56.908Z"
      },
      {
        "duration": 8,
        "start_time": "2022-03-14T14:04:18.478Z"
      },
      {
        "duration": 23,
        "start_time": "2022-03-14T14:04:22.989Z"
      },
      {
        "duration": 31,
        "start_time": "2022-03-14T14:04:39.662Z"
      },
      {
        "duration": 219,
        "start_time": "2022-03-14T14:04:39.695Z"
      },
      {
        "duration": 176,
        "start_time": "2022-03-14T14:04:39.917Z"
      },
      {
        "duration": 122,
        "start_time": "2022-03-14T14:04:40.096Z"
      },
      {
        "duration": 20,
        "start_time": "2022-03-14T14:04:40.221Z"
      },
      {
        "duration": 13,
        "start_time": "2022-03-14T14:04:40.244Z"
      },
      {
        "duration": 104,
        "start_time": "2022-03-14T14:04:40.259Z"
      },
      {
        "duration": 30,
        "start_time": "2022-03-14T14:04:40.366Z"
      },
      {
        "duration": 158,
        "start_time": "2022-03-14T14:04:40.399Z"
      },
      {
        "duration": 93,
        "start_time": "2022-03-14T14:04:40.560Z"
      },
      {
        "duration": 12,
        "start_time": "2022-03-14T14:04:40.655Z"
      },
      {
        "duration": 31,
        "start_time": "2022-03-14T14:04:40.669Z"
      },
      {
        "duration": 26,
        "start_time": "2022-03-14T14:04:40.702Z"
      },
      {
        "duration": 57,
        "start_time": "2022-03-14T14:04:40.731Z"
      },
      {
        "duration": 27,
        "start_time": "2022-03-14T14:04:40.791Z"
      },
      {
        "duration": 23,
        "start_time": "2022-03-14T14:04:40.821Z"
      },
      {
        "duration": 12,
        "start_time": "2022-03-14T14:07:29.982Z"
      },
      {
        "duration": 5,
        "start_time": "2022-03-14T14:15:17.832Z"
      },
      {
        "duration": 13,
        "start_time": "2022-03-14T14:15:20.472Z"
      },
      {
        "duration": 5,
        "start_time": "2022-03-14T14:15:57.393Z"
      },
      {
        "duration": 13,
        "start_time": "2022-03-14T14:16:01.760Z"
      },
      {
        "duration": 34,
        "start_time": "2022-03-14T14:16:08.787Z"
      },
      {
        "duration": 199,
        "start_time": "2022-03-14T14:16:08.823Z"
      },
      {
        "duration": 174,
        "start_time": "2022-03-14T14:16:09.025Z"
      },
      {
        "duration": 123,
        "start_time": "2022-03-14T14:16:09.202Z"
      },
      {
        "duration": 20,
        "start_time": "2022-03-14T14:16:09.327Z"
      },
      {
        "duration": 29,
        "start_time": "2022-03-14T14:16:09.349Z"
      },
      {
        "duration": 94,
        "start_time": "2022-03-14T14:16:09.380Z"
      },
      {
        "duration": 15,
        "start_time": "2022-03-14T14:16:09.477Z"
      },
      {
        "duration": 144,
        "start_time": "2022-03-14T14:16:09.495Z"
      },
      {
        "duration": 97,
        "start_time": "2022-03-14T14:16:09.642Z"
      },
      {
        "duration": 14,
        "start_time": "2022-03-14T14:16:09.743Z"
      },
      {
        "duration": 42,
        "start_time": "2022-03-14T14:16:09.760Z"
      },
      {
        "duration": 20,
        "start_time": "2022-03-14T14:16:09.804Z"
      },
      {
        "duration": 19,
        "start_time": "2022-03-14T14:16:09.827Z"
      },
      {
        "duration": 6,
        "start_time": "2022-03-14T14:27:35.636Z"
      },
      {
        "duration": 276,
        "start_time": "2022-03-14T14:28:05.501Z"
      },
      {
        "duration": 5,
        "start_time": "2022-03-14T14:28:16.571Z"
      },
      {
        "duration": 280,
        "start_time": "2022-03-14T14:30:54.445Z"
      },
      {
        "duration": 31,
        "start_time": "2022-03-14T14:31:12.232Z"
      },
      {
        "duration": 195,
        "start_time": "2022-03-14T14:31:12.266Z"
      },
      {
        "duration": 178,
        "start_time": "2022-03-14T14:31:12.464Z"
      },
      {
        "duration": 115,
        "start_time": "2022-03-14T14:31:12.645Z"
      },
      {
        "duration": 26,
        "start_time": "2022-03-14T14:31:12.762Z"
      },
      {
        "duration": 12,
        "start_time": "2022-03-14T14:31:12.790Z"
      },
      {
        "duration": 100,
        "start_time": "2022-03-14T14:31:12.804Z"
      },
      {
        "duration": 15,
        "start_time": "2022-03-14T14:31:12.907Z"
      },
      {
        "duration": 149,
        "start_time": "2022-03-14T14:31:12.924Z"
      },
      {
        "duration": 86,
        "start_time": "2022-03-14T14:31:13.086Z"
      },
      {
        "duration": 22,
        "start_time": "2022-03-14T14:31:13.174Z"
      },
      {
        "duration": 14,
        "start_time": "2022-03-14T14:31:13.198Z"
      },
      {
        "duration": 4,
        "start_time": "2022-03-14T14:31:13.215Z"
      },
      {
        "duration": 7,
        "start_time": "2022-03-14T14:31:13.222Z"
      },
      {
        "duration": 287,
        "start_time": "2022-03-14T14:31:31.437Z"
      },
      {
        "duration": 30,
        "start_time": "2022-03-14T14:31:37.244Z"
      },
      {
        "duration": 201,
        "start_time": "2022-03-14T14:31:37.277Z"
      },
      {
        "duration": 168,
        "start_time": "2022-03-14T14:31:37.489Z"
      },
      {
        "duration": 110,
        "start_time": "2022-03-14T14:31:37.660Z"
      },
      {
        "duration": 24,
        "start_time": "2022-03-14T14:31:37.772Z"
      },
      {
        "duration": 12,
        "start_time": "2022-03-14T14:31:37.798Z"
      },
      {
        "duration": 105,
        "start_time": "2022-03-14T14:31:37.812Z"
      },
      {
        "duration": 16,
        "start_time": "2022-03-14T14:31:37.921Z"
      },
      {
        "duration": 153,
        "start_time": "2022-03-14T14:31:37.940Z"
      },
      {
        "duration": 98,
        "start_time": "2022-03-14T14:31:38.096Z"
      },
      {
        "duration": 13,
        "start_time": "2022-03-14T14:31:38.197Z"
      },
      {
        "duration": 18,
        "start_time": "2022-03-14T14:31:38.212Z"
      },
      {
        "duration": 14,
        "start_time": "2022-03-14T14:31:38.232Z"
      },
      {
        "duration": 43,
        "start_time": "2022-03-14T14:31:38.248Z"
      },
      {
        "duration": 251,
        "start_time": "2022-03-14T14:31:51.725Z"
      },
      {
        "duration": 35,
        "start_time": "2022-03-14T14:31:57.175Z"
      },
      {
        "duration": 212,
        "start_time": "2022-03-14T14:31:57.213Z"
      },
      {
        "duration": 179,
        "start_time": "2022-03-14T14:31:57.428Z"
      },
      {
        "duration": 121,
        "start_time": "2022-03-14T14:31:57.610Z"
      },
      {
        "duration": 20,
        "start_time": "2022-03-14T14:31:57.733Z"
      },
      {
        "duration": 14,
        "start_time": "2022-03-14T14:31:57.756Z"
      },
      {
        "duration": 81,
        "start_time": "2022-03-14T14:31:57.786Z"
      },
      {
        "duration": 29,
        "start_time": "2022-03-14T14:31:57.871Z"
      },
      {
        "duration": 151,
        "start_time": "2022-03-14T14:31:57.902Z"
      },
      {
        "duration": 98,
        "start_time": "2022-03-14T14:31:58.056Z"
      },
      {
        "duration": 33,
        "start_time": "2022-03-14T14:31:58.156Z"
      },
      {
        "duration": 15,
        "start_time": "2022-03-14T14:31:58.191Z"
      },
      {
        "duration": 8,
        "start_time": "2022-03-14T14:31:58.208Z"
      },
      {
        "duration": 25,
        "start_time": "2022-03-14T14:31:58.218Z"
      },
      {
        "duration": 18,
        "start_time": "2022-03-14T14:32:56.684Z"
      },
      {
        "duration": 151,
        "start_time": "2022-03-14T14:33:14.309Z"
      },
      {
        "duration": 283,
        "start_time": "2022-03-14T14:33:39.253Z"
      },
      {
        "duration": 36,
        "start_time": "2022-03-14T14:33:48.632Z"
      },
      {
        "duration": 234,
        "start_time": "2022-03-14T14:33:48.671Z"
      },
      {
        "duration": 227,
        "start_time": "2022-03-14T14:33:48.909Z"
      },
      {
        "duration": 144,
        "start_time": "2022-03-14T14:33:49.139Z"
      },
      {
        "duration": 28,
        "start_time": "2022-03-14T14:33:49.287Z"
      },
      {
        "duration": 20,
        "start_time": "2022-03-14T14:33:49.320Z"
      },
      {
        "duration": 109,
        "start_time": "2022-03-14T14:33:49.342Z"
      },
      {
        "duration": 34,
        "start_time": "2022-03-14T14:33:49.455Z"
      },
      {
        "duration": 181,
        "start_time": "2022-03-14T14:33:49.492Z"
      },
      {
        "duration": 112,
        "start_time": "2022-03-14T14:33:49.676Z"
      },
      {
        "duration": 19,
        "start_time": "2022-03-14T14:33:49.792Z"
      },
      {
        "duration": 23,
        "start_time": "2022-03-14T14:33:49.814Z"
      },
      {
        "duration": 29,
        "start_time": "2022-03-14T14:35:27.781Z"
      },
      {
        "duration": 207,
        "start_time": "2022-03-14T14:35:27.812Z"
      },
      {
        "duration": 178,
        "start_time": "2022-03-14T14:35:28.022Z"
      },
      {
        "duration": 122,
        "start_time": "2022-03-14T14:35:28.203Z"
      },
      {
        "duration": 20,
        "start_time": "2022-03-14T14:35:28.328Z"
      },
      {
        "duration": 42,
        "start_time": "2022-03-14T14:35:28.351Z"
      },
      {
        "duration": 108,
        "start_time": "2022-03-14T14:35:28.395Z"
      },
      {
        "duration": 14,
        "start_time": "2022-03-14T14:35:28.507Z"
      },
      {
        "duration": 171,
        "start_time": "2022-03-14T14:35:28.524Z"
      },
      {
        "duration": 106,
        "start_time": "2022-03-14T14:35:28.697Z"
      },
      {
        "duration": 13,
        "start_time": "2022-03-14T14:35:28.805Z"
      },
      {
        "duration": 59,
        "start_time": "2022-03-14T14:35:28.820Z"
      },
      {
        "duration": 32,
        "start_time": "2022-03-14T14:35:28.881Z"
      },
      {
        "duration": 49,
        "start_time": "2022-03-14T14:35:28.915Z"
      },
      {
        "duration": 66,
        "start_time": "2022-03-14T14:35:28.966Z"
      },
      {
        "duration": 33,
        "start_time": "2022-03-14T14:35:29.035Z"
      },
      {
        "duration": 31,
        "start_time": "2022-03-14T14:35:29.071Z"
      },
      {
        "duration": 46,
        "start_time": "2022-03-14T14:35:29.104Z"
      },
      {
        "duration": 36,
        "start_time": "2022-03-14T14:37:56.257Z"
      },
      {
        "duration": 214,
        "start_time": "2022-03-14T14:37:56.296Z"
      },
      {
        "duration": 178,
        "start_time": "2022-03-14T14:37:56.513Z"
      },
      {
        "duration": 124,
        "start_time": "2022-03-14T14:37:56.694Z"
      },
      {
        "duration": 23,
        "start_time": "2022-03-14T14:37:56.821Z"
      },
      {
        "duration": 16,
        "start_time": "2022-03-14T14:37:56.847Z"
      },
      {
        "duration": 85,
        "start_time": "2022-03-14T14:37:56.886Z"
      },
      {
        "duration": 17,
        "start_time": "2022-03-14T14:37:56.988Z"
      },
      {
        "duration": 175,
        "start_time": "2022-03-14T14:37:57.007Z"
      },
      {
        "duration": 107,
        "start_time": "2022-03-14T14:37:57.187Z"
      },
      {
        "duration": 14,
        "start_time": "2022-03-14T14:37:57.298Z"
      },
      {
        "duration": 18,
        "start_time": "2022-03-14T14:37:57.314Z"
      },
      {
        "duration": 5,
        "start_time": "2022-03-14T14:37:57.334Z"
      },
      {
        "duration": 48,
        "start_time": "2022-03-14T14:37:57.341Z"
      },
      {
        "duration": 30,
        "start_time": "2022-03-14T14:37:57.391Z"
      },
      {
        "duration": 29,
        "start_time": "2022-03-14T14:37:57.423Z"
      },
      {
        "duration": 53,
        "start_time": "2022-03-14T14:37:57.454Z"
      },
      {
        "duration": 37,
        "start_time": "2022-03-14T14:37:57.510Z"
      },
      {
        "duration": 279,
        "start_time": "2022-03-14T14:37:57.550Z"
      },
      {
        "duration": 12,
        "start_time": "2022-03-14T14:38:08.717Z"
      },
      {
        "duration": 30,
        "start_time": "2022-03-14T14:38:14.182Z"
      },
      {
        "duration": 816,
        "start_time": "2022-03-14T14:38:57.654Z"
      },
      {
        "duration": 216,
        "start_time": "2022-03-14T14:38:58.472Z"
      },
      {
        "duration": 206,
        "start_time": "2022-03-14T14:38:58.691Z"
      },
      {
        "duration": 133,
        "start_time": "2022-03-14T14:38:58.900Z"
      },
      {
        "duration": 24,
        "start_time": "2022-03-14T14:38:59.035Z"
      },
      {
        "duration": 30,
        "start_time": "2022-03-14T14:38:59.061Z"
      },
      {
        "duration": 102,
        "start_time": "2022-03-14T14:38:59.093Z"
      },
      {
        "duration": 16,
        "start_time": "2022-03-14T14:38:59.200Z"
      },
      {
        "duration": 193,
        "start_time": "2022-03-14T14:38:59.219Z"
      },
      {
        "duration": 130,
        "start_time": "2022-03-14T14:38:59.414Z"
      },
      {
        "duration": 17,
        "start_time": "2022-03-14T14:38:59.548Z"
      },
      {
        "duration": 30,
        "start_time": "2022-03-14T14:38:59.568Z"
      },
      {
        "duration": 5,
        "start_time": "2022-03-14T14:38:59.601Z"
      },
      {
        "duration": 15,
        "start_time": "2022-03-14T14:38:59.609Z"
      },
      {
        "duration": 65,
        "start_time": "2022-03-14T14:38:59.626Z"
      },
      {
        "duration": 28,
        "start_time": "2022-03-14T14:38:59.694Z"
      },
      {
        "duration": 25,
        "start_time": "2022-03-14T14:38:59.724Z"
      },
      {
        "duration": 70,
        "start_time": "2022-03-14T14:38:59.752Z"
      },
      {
        "duration": 10,
        "start_time": "2022-03-14T14:38:59.825Z"
      },
      {
        "duration": 869,
        "start_time": "2022-03-14T14:39:30.819Z"
      },
      {
        "duration": 227,
        "start_time": "2022-03-14T14:39:31.691Z"
      },
      {
        "duration": 217,
        "start_time": "2022-03-14T14:39:31.922Z"
      },
      {
        "duration": 173,
        "start_time": "2022-03-14T14:39:32.142Z"
      },
      {
        "duration": 28,
        "start_time": "2022-03-14T14:39:32.318Z"
      },
      {
        "duration": 38,
        "start_time": "2022-03-14T14:39:32.349Z"
      },
      {
        "duration": 150,
        "start_time": "2022-03-14T14:39:32.391Z"
      },
      {
        "duration": 19,
        "start_time": "2022-03-14T14:39:32.545Z"
      },
      {
        "duration": 197,
        "start_time": "2022-03-14T14:39:32.567Z"
      },
      {
        "duration": 110,
        "start_time": "2022-03-14T14:39:32.766Z"
      },
      {
        "duration": 18,
        "start_time": "2022-03-14T14:39:32.887Z"
      },
      {
        "duration": 15,
        "start_time": "2022-03-14T14:39:32.908Z"
      },
      {
        "duration": 5,
        "start_time": "2022-03-14T14:39:32.926Z"
      },
      {
        "duration": 17,
        "start_time": "2022-03-14T14:39:32.933Z"
      },
      {
        "duration": 46,
        "start_time": "2022-03-14T14:39:32.953Z"
      },
      {
        "duration": 14,
        "start_time": "2022-03-14T14:39:33.002Z"
      },
      {
        "duration": 11,
        "start_time": "2022-03-14T14:39:33.019Z"
      },
      {
        "duration": 79,
        "start_time": "2022-03-14T14:39:33.034Z"
      },
      {
        "duration": 13,
        "start_time": "2022-03-14T14:39:33.116Z"
      },
      {
        "duration": 28,
        "start_time": "2022-03-14T14:40:27.951Z"
      },
      {
        "duration": 12,
        "start_time": "2022-03-14T14:40:30.695Z"
      },
      {
        "duration": 453,
        "start_time": "2022-03-18T11:08:29.748Z"
      },
      {
        "duration": 2,
        "start_time": "2022-03-18T11:08:44.975Z"
      },
      {
        "duration": 2737,
        "start_time": "2022-03-18T11:08:44.979Z"
      },
      {
        "duration": 4104,
        "start_time": "2022-03-18T11:08:47.717Z"
      },
      {
        "duration": 2369,
        "start_time": "2022-03-18T11:08:51.823Z"
      },
      {
        "duration": 1567,
        "start_time": "2022-03-18T11:08:54.194Z"
      },
      {
        "duration": 725,
        "start_time": "2022-03-18T11:08:55.762Z"
      },
      {
        "duration": 1710,
        "start_time": "2022-03-18T11:08:56.489Z"
      },
      {
        "duration": 1884,
        "start_time": "2022-03-18T11:08:58.201Z"
      },
      {
        "duration": 2897,
        "start_time": "2022-03-18T11:09:00.087Z"
      },
      {
        "duration": 2710,
        "start_time": "2022-03-18T11:09:02.986Z"
      },
      {
        "duration": 2030,
        "start_time": "2022-03-18T11:09:05.698Z"
      },
      {
        "duration": 986,
        "start_time": "2022-03-18T11:09:07.729Z"
      },
      {
        "duration": 817,
        "start_time": "2022-03-18T11:09:08.717Z"
      },
      {
        "duration": 1552,
        "start_time": "2022-03-18T11:09:09.535Z"
      },
      {
        "duration": 1558,
        "start_time": "2022-03-18T11:09:11.088Z"
      },
      {
        "duration": 2659,
        "start_time": "2022-03-18T11:09:12.648Z"
      },
      {
        "duration": 4642,
        "start_time": "2022-03-18T11:09:15.309Z"
      },
      {
        "duration": 2899,
        "start_time": "2022-03-18T11:09:19.953Z"
      },
      {
        "duration": 9,
        "start_time": "2022-03-18T13:03:37.915Z"
      },
      {
        "duration": 45,
        "start_time": "2022-03-18T13:36:51.393Z"
      },
      {
        "duration": 52,
        "start_time": "2022-03-18T13:43:21.477Z"
      },
      {
        "duration": 198,
        "start_time": "2022-03-18T13:58:03.760Z"
      },
      {
        "duration": 205,
        "start_time": "2022-03-18T13:58:17.450Z"
      },
      {
        "duration": 67,
        "start_time": "2022-03-18T13:58:45.189Z"
      },
      {
        "duration": 17,
        "start_time": "2022-03-18T13:59:30.216Z"
      },
      {
        "duration": 16,
        "start_time": "2022-03-18T13:59:51.811Z"
      },
      {
        "duration": 15,
        "start_time": "2022-03-18T14:00:31.003Z"
      },
      {
        "duration": 84,
        "start_time": "2022-03-18T14:00:41.839Z"
      },
      {
        "duration": 84,
        "start_time": "2022-03-18T14:01:09.394Z"
      },
      {
        "duration": 91,
        "start_time": "2022-03-18T14:01:15.689Z"
      },
      {
        "duration": 123,
        "start_time": "2022-03-18T14:04:30.846Z"
      },
      {
        "duration": 89,
        "start_time": "2022-03-18T14:04:49.457Z"
      },
      {
        "duration": 85,
        "start_time": "2022-03-18T14:13:25.620Z"
      },
      {
        "duration": 134,
        "start_time": "2022-03-18T14:20:41.409Z"
      },
      {
        "duration": 100,
        "start_time": "2022-03-18T16:16:45.240Z"
      },
      {
        "duration": 749,
        "start_time": "2022-03-18T16:17:02.548Z"
      },
      {
        "duration": 90,
        "start_time": "2022-03-18T16:17:03.301Z"
      },
      {
        "duration": 331,
        "start_time": "2022-03-18T16:17:03.399Z"
      },
      {
        "duration": 291,
        "start_time": "2022-03-18T16:17:03.734Z"
      },
      {
        "duration": 187,
        "start_time": "2022-03-18T16:17:04.029Z"
      },
      {
        "duration": 32,
        "start_time": "2022-03-18T16:17:04.219Z"
      },
      {
        "duration": 15,
        "start_time": "2022-03-18T16:17:04.254Z"
      },
      {
        "duration": 168,
        "start_time": "2022-03-18T16:17:04.272Z"
      },
      {
        "duration": 21,
        "start_time": "2022-03-18T16:17:04.443Z"
      },
      {
        "duration": 371,
        "start_time": "2022-03-18T16:17:04.484Z"
      },
      {
        "duration": 165,
        "start_time": "2022-03-18T16:17:04.859Z"
      },
      {
        "duration": 21,
        "start_time": "2022-03-18T16:17:05.027Z"
      },
      {
        "duration": 51,
        "start_time": "2022-03-18T16:17:05.052Z"
      },
      {
        "duration": 88,
        "start_time": "2022-03-18T16:17:05.127Z"
      },
      {
        "duration": 138,
        "start_time": "2022-03-18T16:17:05.218Z"
      },
      {
        "duration": 66,
        "start_time": "2022-03-18T16:17:05.359Z"
      },
      {
        "duration": 43,
        "start_time": "2022-03-18T16:17:05.430Z"
      },
      {
        "duration": 100,
        "start_time": "2022-03-18T16:17:05.476Z"
      },
      {
        "duration": 295,
        "start_time": "2022-03-18T16:17:05.579Z"
      },
      {
        "duration": 38,
        "start_time": "2022-03-18T16:17:53.209Z"
      },
      {
        "duration": 27,
        "start_time": "2022-03-18T16:22:19.920Z"
      },
      {
        "duration": 58,
        "start_time": "2022-03-18T17:15:47.802Z"
      },
      {
        "duration": 21,
        "start_time": "2022-03-18T17:19:06.519Z"
      },
      {
        "duration": 23,
        "start_time": "2022-03-18T17:35:18.445Z"
      },
      {
        "duration": 10,
        "start_time": "2022-03-18T17:40:46.018Z"
      },
      {
        "duration": 24,
        "start_time": "2022-03-18T17:42:20.303Z"
      },
      {
        "duration": 7,
        "start_time": "2022-03-18T17:43:24.847Z"
      },
      {
        "duration": 9,
        "start_time": "2022-03-18T17:43:28.729Z"
      },
      {
        "duration": 7,
        "start_time": "2022-03-18T17:43:52.949Z"
      },
      {
        "duration": 10,
        "start_time": "2022-03-18T17:52:39.105Z"
      },
      {
        "duration": 11,
        "start_time": "2022-03-18T17:52:48.350Z"
      },
      {
        "duration": 194,
        "start_time": "2022-03-18T18:00:09.179Z"
      },
      {
        "duration": 66,
        "start_time": "2022-03-18T18:00:17.818Z"
      },
      {
        "duration": 6,
        "start_time": "2022-03-18T18:00:27.789Z"
      },
      {
        "duration": 80,
        "start_time": "2022-03-18T18:00:27.801Z"
      },
      {
        "duration": 25,
        "start_time": "2022-03-18T18:00:27.898Z"
      },
      {
        "duration": 25,
        "start_time": "2022-03-18T18:00:27.926Z"
      },
      {
        "duration": 52,
        "start_time": "2022-03-18T18:00:27.955Z"
      },
      {
        "duration": 19,
        "start_time": "2022-03-18T18:00:28.013Z"
      },
      {
        "duration": 396,
        "start_time": "2022-03-18T18:00:28.036Z"
      },
      {
        "duration": 69,
        "start_time": "2022-03-18T18:00:28.442Z"
      },
      {
        "duration": 229,
        "start_time": "2022-03-18T18:00:28.521Z"
      },
      {
        "duration": 55,
        "start_time": "2022-03-18T18:00:28.753Z"
      },
      {
        "duration": 4,
        "start_time": "2022-03-18T18:04:47.996Z"
      },
      {
        "duration": 71,
        "start_time": "2022-03-18T18:04:48.004Z"
      },
      {
        "duration": 33,
        "start_time": "2022-03-18T18:04:48.078Z"
      },
      {
        "duration": 13,
        "start_time": "2022-03-18T18:04:48.119Z"
      },
      {
        "duration": 26,
        "start_time": "2022-03-18T18:04:48.135Z"
      },
      {
        "duration": 34,
        "start_time": "2022-03-18T18:04:48.164Z"
      },
      {
        "duration": 374,
        "start_time": "2022-03-18T18:04:48.200Z"
      },
      {
        "duration": 60,
        "start_time": "2022-03-18T18:04:48.577Z"
      },
      {
        "duration": 181,
        "start_time": "2022-03-18T18:04:48.641Z"
      },
      {
        "duration": 64,
        "start_time": "2022-03-18T18:04:48.828Z"
      },
      {
        "duration": 197,
        "start_time": "2022-03-18T18:04:48.895Z"
      },
      {
        "duration": 145,
        "start_time": "2022-03-18T18:04:49.094Z"
      },
      {
        "duration": 21,
        "start_time": "2022-03-18T18:04:49.241Z"
      },
      {
        "duration": 27,
        "start_time": "2022-03-18T18:04:49.277Z"
      },
      {
        "duration": 111,
        "start_time": "2022-03-18T18:04:49.308Z"
      },
      {
        "duration": 17,
        "start_time": "2022-03-18T18:04:49.422Z"
      },
      {
        "duration": 42,
        "start_time": "2022-03-18T18:40:01.854Z"
      },
      {
        "duration": 4,
        "start_time": "2022-03-18T18:40:08.884Z"
      },
      {
        "duration": 49,
        "start_time": "2022-03-18T18:40:08.897Z"
      },
      {
        "duration": 16,
        "start_time": "2022-03-18T18:40:08.949Z"
      },
      {
        "duration": 20,
        "start_time": "2022-03-18T18:40:08.968Z"
      },
      {
        "duration": 45,
        "start_time": "2022-03-18T18:40:08.991Z"
      },
      {
        "duration": 12,
        "start_time": "2022-03-18T18:40:09.040Z"
      },
      {
        "duration": 239,
        "start_time": "2022-03-18T18:40:09.054Z"
      },
      {
        "duration": 42,
        "start_time": "2022-03-18T18:40:09.298Z"
      },
      {
        "duration": 173,
        "start_time": "2022-03-18T18:40:09.342Z"
      },
      {
        "duration": 36,
        "start_time": "2022-03-18T18:40:09.517Z"
      },
      {
        "duration": 216,
        "start_time": "2022-03-18T18:40:09.555Z"
      },
      {
        "duration": 52,
        "start_time": "2022-03-18T18:40:09.773Z"
      },
      {
        "duration": 131,
        "start_time": "2022-03-18T18:55:42.340Z"
      },
      {
        "duration": 53,
        "start_time": "2022-03-18T18:55:52.279Z"
      },
      {
        "duration": 163,
        "start_time": "2022-03-18T19:01:26.100Z"
      },
      {
        "duration": 28,
        "start_time": "2022-03-18T19:01:58.893Z"
      },
      {
        "duration": 62,
        "start_time": "2022-03-18T19:04:52.008Z"
      },
      {
        "duration": 36,
        "start_time": "2022-03-18T19:11:09.377Z"
      },
      {
        "duration": 4,
        "start_time": "2022-03-18T19:11:16.500Z"
      },
      {
        "duration": 48,
        "start_time": "2022-03-18T19:11:16.507Z"
      },
      {
        "duration": 20,
        "start_time": "2022-03-18T19:11:16.558Z"
      },
      {
        "duration": 23,
        "start_time": "2022-03-18T19:11:16.580Z"
      },
      {
        "duration": 30,
        "start_time": "2022-03-18T19:11:16.608Z"
      },
      {
        "duration": 7,
        "start_time": "2022-03-18T19:11:16.641Z"
      },
      {
        "duration": 268,
        "start_time": "2022-03-18T19:11:16.651Z"
      },
      {
        "duration": 55,
        "start_time": "2022-03-18T19:11:16.922Z"
      },
      {
        "duration": 180,
        "start_time": "2022-03-18T19:11:16.980Z"
      },
      {
        "duration": 56,
        "start_time": "2022-03-18T19:11:17.163Z"
      },
      {
        "duration": 260,
        "start_time": "2022-03-18T19:11:17.223Z"
      },
      {
        "duration": 44,
        "start_time": "2022-03-18T19:11:17.486Z"
      },
      {
        "duration": 158,
        "start_time": "2022-03-18T19:11:17.534Z"
      },
      {
        "duration": 45,
        "start_time": "2022-03-18T19:11:17.696Z"
      },
      {
        "duration": 175,
        "start_time": "2022-03-18T19:11:17.744Z"
      },
      {
        "duration": 32,
        "start_time": "2022-03-18T19:11:17.921Z"
      },
      {
        "duration": 101,
        "start_time": "2022-03-18T19:13:23.594Z"
      },
      {
        "duration": 31,
        "start_time": "2022-03-18T19:13:27.859Z"
      },
      {
        "duration": 5,
        "start_time": "2022-03-18T19:21:56.319Z"
      },
      {
        "duration": 44,
        "start_time": "2022-03-18T19:21:56.327Z"
      },
      {
        "duration": 19,
        "start_time": "2022-03-18T19:21:56.373Z"
      },
      {
        "duration": 14,
        "start_time": "2022-03-18T19:21:56.396Z"
      },
      {
        "duration": 29,
        "start_time": "2022-03-18T19:21:56.414Z"
      },
      {
        "duration": 17,
        "start_time": "2022-03-18T19:21:56.447Z"
      },
      {
        "duration": 266,
        "start_time": "2022-03-18T19:21:56.466Z"
      },
      {
        "duration": 34,
        "start_time": "2022-03-18T19:21:56.735Z"
      },
      {
        "duration": 197,
        "start_time": "2022-03-18T19:21:56.772Z"
      },
      {
        "duration": 53,
        "start_time": "2022-03-18T19:21:56.974Z"
      },
      {
        "duration": 216,
        "start_time": "2022-03-18T19:21:57.030Z"
      },
      {
        "duration": 47,
        "start_time": "2022-03-18T19:21:57.249Z"
      },
      {
        "duration": 136,
        "start_time": "2022-03-18T19:21:57.301Z"
      },
      {
        "duration": 67,
        "start_time": "2022-03-18T19:21:57.440Z"
      },
      {
        "duration": 143,
        "start_time": "2022-03-18T19:21:57.511Z"
      },
      {
        "duration": 45,
        "start_time": "2022-03-18T19:21:57.657Z"
      },
      {
        "duration": 85,
        "start_time": "2022-03-18T19:21:57.705Z"
      },
      {
        "duration": 25,
        "start_time": "2022-03-18T19:21:57.795Z"
      },
      {
        "duration": 52,
        "start_time": "2022-03-19T16:25:01.561Z"
      },
      {
        "duration": 418,
        "start_time": "2022-03-19T16:25:04.993Z"
      },
      {
        "duration": 38,
        "start_time": "2022-03-19T16:25:05.414Z"
      },
      {
        "duration": 12,
        "start_time": "2022-03-19T16:25:05.453Z"
      },
      {
        "duration": 11,
        "start_time": "2022-03-19T16:25:05.467Z"
      },
      {
        "duration": 15,
        "start_time": "2022-03-19T16:25:05.480Z"
      },
      {
        "duration": 19,
        "start_time": "2022-03-19T16:25:05.497Z"
      },
      {
        "duration": 177,
        "start_time": "2022-03-19T16:25:05.518Z"
      },
      {
        "duration": 45,
        "start_time": "2022-03-19T16:25:05.697Z"
      },
      {
        "duration": 122,
        "start_time": "2022-03-19T16:25:05.744Z"
      },
      {
        "duration": 27,
        "start_time": "2022-03-19T16:25:05.867Z"
      },
      {
        "duration": 149,
        "start_time": "2022-03-19T16:25:05.908Z"
      },
      {
        "duration": 25,
        "start_time": "2022-03-19T16:25:06.058Z"
      },
      {
        "duration": 93,
        "start_time": "2022-03-19T16:25:06.085Z"
      },
      {
        "duration": 28,
        "start_time": "2022-03-19T16:25:06.181Z"
      },
      {
        "duration": 23,
        "start_time": "2022-03-19T16:25:06.211Z"
      },
      {
        "duration": 16,
        "start_time": "2022-03-19T16:50:40.875Z"
      },
      {
        "duration": 2,
        "start_time": "2022-03-19T16:51:05.906Z"
      },
      {
        "duration": 29,
        "start_time": "2022-03-19T16:51:05.911Z"
      },
      {
        "duration": 9,
        "start_time": "2022-03-19T16:51:05.942Z"
      },
      {
        "duration": 10,
        "start_time": "2022-03-19T16:51:05.953Z"
      },
      {
        "duration": 14,
        "start_time": "2022-03-19T16:51:05.966Z"
      },
      {
        "duration": 28,
        "start_time": "2022-03-19T16:51:05.982Z"
      },
      {
        "duration": 158,
        "start_time": "2022-03-19T16:51:06.011Z"
      },
      {
        "duration": 38,
        "start_time": "2022-03-19T16:51:06.171Z"
      },
      {
        "duration": 114,
        "start_time": "2022-03-19T16:51:06.211Z"
      },
      {
        "duration": 27,
        "start_time": "2022-03-19T16:51:06.327Z"
      },
      {
        "duration": 150,
        "start_time": "2022-03-19T16:51:06.356Z"
      },
      {
        "duration": 19,
        "start_time": "2022-03-19T16:51:06.509Z"
      },
      {
        "duration": 3,
        "start_time": "2022-03-19T16:54:31.103Z"
      },
      {
        "duration": 43,
        "start_time": "2022-03-19T16:54:31.108Z"
      },
      {
        "duration": 11,
        "start_time": "2022-03-19T16:54:31.153Z"
      },
      {
        "duration": 5,
        "start_time": "2022-03-19T16:54:31.166Z"
      },
      {
        "duration": 27,
        "start_time": "2022-03-19T16:54:31.174Z"
      },
      {
        "duration": 6,
        "start_time": "2022-03-19T16:54:31.203Z"
      },
      {
        "duration": 162,
        "start_time": "2022-03-19T16:54:31.211Z"
      },
      {
        "duration": 41,
        "start_time": "2022-03-19T16:54:31.375Z"
      },
      {
        "duration": 113,
        "start_time": "2022-03-19T16:54:31.418Z"
      },
      {
        "duration": 27,
        "start_time": "2022-03-19T16:54:31.533Z"
      },
      {
        "duration": 152,
        "start_time": "2022-03-19T16:54:31.564Z"
      },
      {
        "duration": 26,
        "start_time": "2022-03-19T16:54:31.718Z"
      },
      {
        "duration": 75,
        "start_time": "2022-03-19T16:54:31.746Z"
      },
      {
        "duration": 27,
        "start_time": "2022-03-19T16:54:31.823Z"
      },
      {
        "duration": 109,
        "start_time": "2022-03-19T16:54:31.852Z"
      },
      {
        "duration": 20,
        "start_time": "2022-03-19T16:54:31.963Z"
      },
      {
        "duration": 63,
        "start_time": "2022-03-19T16:54:31.985Z"
      },
      {
        "duration": 15,
        "start_time": "2022-03-19T16:54:32.050Z"
      },
      {
        "duration": 11,
        "start_time": "2022-03-19T16:54:32.067Z"
      },
      {
        "duration": 118,
        "start_time": "2022-03-19T16:54:32.080Z"
      },
      {
        "duration": 13,
        "start_time": "2022-03-19T16:54:32.208Z"
      },
      {
        "duration": 135,
        "start_time": "2022-03-19T16:54:32.223Z"
      },
      {
        "duration": 79,
        "start_time": "2022-03-19T16:54:32.360Z"
      },
      {
        "duration": 9,
        "start_time": "2022-03-19T16:54:32.440Z"
      },
      {
        "duration": 10,
        "start_time": "2022-03-19T16:54:32.451Z"
      },
      {
        "duration": 50,
        "start_time": "2022-03-19T16:54:32.463Z"
      },
      {
        "duration": 5,
        "start_time": "2022-03-19T16:56:38.059Z"
      },
      {
        "duration": 9,
        "start_time": "2022-03-19T16:56:46.300Z"
      },
      {
        "duration": 497,
        "start_time": "2022-03-20T09:15:23.322Z"
      },
      {
        "duration": 38,
        "start_time": "2022-03-20T09:15:23.822Z"
      },
      {
        "duration": 21,
        "start_time": "2022-03-20T09:15:23.862Z"
      },
      {
        "duration": 9,
        "start_time": "2022-03-20T09:15:23.886Z"
      },
      {
        "duration": 20,
        "start_time": "2022-03-20T09:15:23.898Z"
      },
      {
        "duration": 10,
        "start_time": "2022-03-20T09:15:23.920Z"
      },
      {
        "duration": 53,
        "start_time": "2022-03-20T09:15:23.932Z"
      },
      {
        "duration": 97,
        "start_time": "2022-03-20T09:15:47.987Z"
      },
      {
        "duration": 11,
        "start_time": "2022-03-20T09:17:44.935Z"
      },
      {
        "duration": 14,
        "start_time": "2022-03-20T09:18:15.407Z"
      },
      {
        "duration": 7,
        "start_time": "2022-03-20T09:19:42.315Z"
      },
      {
        "duration": 7,
        "start_time": "2022-03-20T09:20:31.281Z"
      },
      {
        "duration": 6,
        "start_time": "2022-03-20T09:21:43.466Z"
      },
      {
        "duration": 7,
        "start_time": "2022-03-20T09:25:53.687Z"
      },
      {
        "duration": 7,
        "start_time": "2022-03-20T09:26:41.947Z"
      },
      {
        "duration": 7,
        "start_time": "2022-03-20T09:33:02.709Z"
      },
      {
        "duration": 7,
        "start_time": "2022-03-20T09:33:10.346Z"
      },
      {
        "duration": 6,
        "start_time": "2022-03-20T09:33:15.537Z"
      },
      {
        "duration": 7,
        "start_time": "2022-03-20T09:33:23.438Z"
      },
      {
        "duration": 7,
        "start_time": "2022-03-20T09:33:30.007Z"
      },
      {
        "duration": 7,
        "start_time": "2022-03-20T09:33:44.659Z"
      },
      {
        "duration": 7,
        "start_time": "2022-03-20T09:33:51.726Z"
      },
      {
        "duration": 7,
        "start_time": "2022-03-20T09:35:46.932Z"
      },
      {
        "duration": 6,
        "start_time": "2022-03-20T09:35:51.993Z"
      },
      {
        "duration": 7,
        "start_time": "2022-03-20T09:36:05.232Z"
      },
      {
        "duration": 7,
        "start_time": "2022-03-20T09:36:14.363Z"
      },
      {
        "duration": 6,
        "start_time": "2022-03-20T09:36:18.599Z"
      },
      {
        "duration": 4,
        "start_time": "2022-03-20T10:38:28.828Z"
      },
      {
        "duration": 37,
        "start_time": "2022-03-20T10:38:28.835Z"
      },
      {
        "duration": 21,
        "start_time": "2022-03-20T10:38:28.875Z"
      },
      {
        "duration": 9,
        "start_time": "2022-03-20T10:38:28.898Z"
      },
      {
        "duration": 21,
        "start_time": "2022-03-20T10:38:28.910Z"
      },
      {
        "duration": 8,
        "start_time": "2022-03-20T10:38:28.974Z"
      },
      {
        "duration": 8,
        "start_time": "2022-03-20T10:38:28.984Z"
      },
      {
        "duration": 246,
        "start_time": "2022-03-20T10:38:28.995Z"
      },
      {
        "duration": 45,
        "start_time": "2022-03-20T10:38:29.243Z"
      },
      {
        "duration": 177,
        "start_time": "2022-03-20T10:38:29.291Z"
      },
      {
        "duration": 42,
        "start_time": "2022-03-20T10:38:29.480Z"
      },
      {
        "duration": 196,
        "start_time": "2022-03-20T10:38:29.524Z"
      },
      {
        "duration": 33,
        "start_time": "2022-03-20T10:38:29.722Z"
      },
      {
        "duration": 144,
        "start_time": "2022-03-20T10:38:29.774Z"
      },
      {
        "duration": 63,
        "start_time": "2022-03-20T10:38:29.921Z"
      },
      {
        "duration": 131,
        "start_time": "2022-03-20T10:38:29.987Z"
      },
      {
        "duration": 27,
        "start_time": "2022-03-20T10:38:30.120Z"
      },
      {
        "duration": 86,
        "start_time": "2022-03-20T10:38:30.149Z"
      },
      {
        "duration": 19,
        "start_time": "2022-03-20T10:38:30.238Z"
      },
      {
        "duration": 13,
        "start_time": "2022-03-20T10:38:30.273Z"
      },
      {
        "duration": 106,
        "start_time": "2022-03-20T10:38:30.288Z"
      },
      {
        "duration": 16,
        "start_time": "2022-03-20T10:38:30.396Z"
      },
      {
        "duration": 178,
        "start_time": "2022-03-20T10:38:30.414Z"
      },
      {
        "duration": 111,
        "start_time": "2022-03-20T10:38:30.594Z"
      },
      {
        "duration": 12,
        "start_time": "2022-03-20T10:38:30.707Z"
      },
      {
        "duration": 23,
        "start_time": "2022-03-20T10:38:30.721Z"
      },
      {
        "duration": 28,
        "start_time": "2022-03-20T10:38:30.746Z"
      },
      {
        "duration": 24,
        "start_time": "2022-03-20T10:38:30.776Z"
      },
      {
        "duration": 27,
        "start_time": "2022-03-20T10:38:30.804Z"
      },
      {
        "duration": 17,
        "start_time": "2022-03-20T10:38:30.833Z"
      },
      {
        "duration": 30,
        "start_time": "2022-03-20T10:38:30.874Z"
      },
      {
        "duration": 190,
        "start_time": "2022-03-20T10:38:30.906Z"
      },
      {
        "duration": 544,
        "start_time": "2022-03-21T07:04:24.132Z"
      },
      {
        "duration": 71,
        "start_time": "2022-03-21T07:04:24.679Z"
      },
      {
        "duration": 17,
        "start_time": "2022-03-21T07:04:24.752Z"
      },
      {
        "duration": 9,
        "start_time": "2022-03-21T07:04:24.774Z"
      },
      {
        "duration": 20,
        "start_time": "2022-03-21T07:04:24.785Z"
      },
      {
        "duration": 38,
        "start_time": "2022-03-21T07:04:24.807Z"
      },
      {
        "duration": 7,
        "start_time": "2022-03-21T07:04:24.847Z"
      },
      {
        "duration": 223,
        "start_time": "2022-03-21T07:04:24.856Z"
      },
      {
        "duration": 33,
        "start_time": "2022-03-21T07:04:25.081Z"
      },
      {
        "duration": 164,
        "start_time": "2022-03-21T07:04:25.121Z"
      },
      {
        "duration": 36,
        "start_time": "2022-03-21T07:04:25.288Z"
      },
      {
        "duration": 280,
        "start_time": "2022-03-21T07:04:25.342Z"
      },
      {
        "duration": 39,
        "start_time": "2022-03-21T07:04:25.624Z"
      },
      {
        "duration": 115,
        "start_time": "2022-03-21T07:04:25.665Z"
      },
      {
        "duration": 35,
        "start_time": "2022-03-21T07:04:25.782Z"
      },
      {
        "duration": 133,
        "start_time": "2022-03-21T07:04:25.819Z"
      },
      {
        "duration": 26,
        "start_time": "2022-03-21T07:04:25.954Z"
      },
      {
        "duration": 98,
        "start_time": "2022-03-21T07:04:25.983Z"
      },
      {
        "duration": 25,
        "start_time": "2022-03-21T07:04:26.083Z"
      },
      {
        "duration": 11,
        "start_time": "2022-03-21T07:04:26.111Z"
      },
      {
        "duration": 111,
        "start_time": "2022-03-21T07:04:26.125Z"
      },
      {
        "duration": 16,
        "start_time": "2022-03-21T07:04:26.238Z"
      },
      {
        "duration": 177,
        "start_time": "2022-03-21T07:04:26.256Z"
      },
      {
        "duration": 93,
        "start_time": "2022-03-21T07:04:26.435Z"
      },
      {
        "duration": 22,
        "start_time": "2022-03-21T07:04:26.530Z"
      },
      {
        "duration": 16,
        "start_time": "2022-03-21T07:04:26.555Z"
      },
      {
        "duration": 5,
        "start_time": "2022-03-21T07:04:26.573Z"
      },
      {
        "duration": 16,
        "start_time": "2022-03-21T07:04:26.582Z"
      },
      {
        "duration": 60,
        "start_time": "2022-03-21T07:04:26.600Z"
      },
      {
        "duration": 15,
        "start_time": "2022-03-21T07:04:26.662Z"
      },
      {
        "duration": 29,
        "start_time": "2022-03-21T07:04:26.679Z"
      },
      {
        "duration": 191,
        "start_time": "2022-03-21T07:04:26.710Z"
      },
      {
        "duration": 110,
        "start_time": "2022-03-21T07:04:26.903Z"
      },
      {
        "duration": 18,
        "start_time": "2022-03-21T07:04:49.203Z"
      },
      {
        "duration": 29,
        "start_time": "2022-03-21T07:04:57.306Z"
      },
      {
        "duration": 26,
        "start_time": "2022-03-21T07:20:44.686Z"
      },
      {
        "duration": 43,
        "start_time": "2022-03-21T07:20:52.022Z"
      },
      {
        "duration": 3,
        "start_time": "2022-03-21T07:39:47.198Z"
      },
      {
        "duration": 58,
        "start_time": "2022-03-21T07:39:47.203Z"
      },
      {
        "duration": 17,
        "start_time": "2022-03-21T07:39:47.263Z"
      },
      {
        "duration": 9,
        "start_time": "2022-03-21T07:39:47.282Z"
      },
      {
        "duration": 58,
        "start_time": "2022-03-21T07:39:47.294Z"
      },
      {
        "duration": 10,
        "start_time": "2022-03-21T07:39:47.355Z"
      },
      {
        "duration": 9,
        "start_time": "2022-03-21T07:39:47.368Z"
      },
      {
        "duration": 252,
        "start_time": "2022-03-21T07:39:47.379Z"
      },
      {
        "duration": 42,
        "start_time": "2022-03-21T07:39:47.634Z"
      },
      {
        "duration": 157,
        "start_time": "2022-03-21T07:39:47.678Z"
      },
      {
        "duration": 36,
        "start_time": "2022-03-21T07:39:47.839Z"
      },
      {
        "duration": 181,
        "start_time": "2022-03-21T07:39:47.877Z"
      },
      {
        "duration": 28,
        "start_time": "2022-03-21T07:39:48.061Z"
      },
      {
        "duration": 124,
        "start_time": "2022-03-21T07:39:48.092Z"
      },
      {
        "duration": 48,
        "start_time": "2022-03-21T07:39:48.219Z"
      },
      {
        "duration": 129,
        "start_time": "2022-03-21T07:39:48.269Z"
      },
      {
        "duration": 25,
        "start_time": "2022-03-21T07:39:48.401Z"
      },
      {
        "duration": 80,
        "start_time": "2022-03-21T07:39:48.429Z"
      },
      {
        "duration": 36,
        "start_time": "2022-03-21T07:39:48.511Z"
      },
      {
        "duration": 14,
        "start_time": "2022-03-21T07:39:48.550Z"
      },
      {
        "duration": 108,
        "start_time": "2022-03-21T07:39:48.566Z"
      },
      {
        "duration": 15,
        "start_time": "2022-03-21T07:39:48.677Z"
      },
      {
        "duration": 175,
        "start_time": "2022-03-21T07:39:48.695Z"
      },
      {
        "duration": 100,
        "start_time": "2022-03-21T07:39:48.873Z"
      },
      {
        "duration": 13,
        "start_time": "2022-03-21T07:39:48.976Z"
      },
      {
        "duration": 15,
        "start_time": "2022-03-21T07:39:48.992Z"
      },
      {
        "duration": 34,
        "start_time": "2022-03-21T07:39:49.009Z"
      },
      {
        "duration": 15,
        "start_time": "2022-03-21T07:39:49.045Z"
      },
      {
        "duration": 18,
        "start_time": "2022-03-21T07:39:49.064Z"
      },
      {
        "duration": 14,
        "start_time": "2022-03-21T07:39:49.084Z"
      },
      {
        "duration": 65,
        "start_time": "2022-03-21T07:39:49.100Z"
      },
      {
        "duration": 10,
        "start_time": "2022-03-21T07:39:49.167Z"
      },
      {
        "duration": 33,
        "start_time": "2022-03-21T07:40:50.578Z"
      },
      {
        "duration": 12,
        "start_time": "2022-03-21T07:44:41.908Z"
      },
      {
        "duration": 17,
        "start_time": "2022-03-21T07:45:19.139Z"
      },
      {
        "duration": 17,
        "start_time": "2022-03-21T07:47:33.989Z"
      },
      {
        "duration": 13,
        "start_time": "2022-03-21T07:48:11.468Z"
      },
      {
        "duration": 13,
        "start_time": "2022-03-21T07:50:41.261Z"
      },
      {
        "duration": 10,
        "start_time": "2022-03-21T07:50:56.254Z"
      },
      {
        "duration": 215,
        "start_time": "2022-03-21T07:51:22.253Z"
      },
      {
        "duration": 16,
        "start_time": "2022-03-21T07:51:29.054Z"
      },
      {
        "duration": 12,
        "start_time": "2022-03-21T07:51:38.853Z"
      },
      {
        "duration": 11,
        "start_time": "2022-03-21T07:51:44.204Z"
      },
      {
        "duration": 13,
        "start_time": "2022-03-21T07:52:07.174Z"
      },
      {
        "duration": 9,
        "start_time": "2022-03-21T07:55:10.677Z"
      },
      {
        "duration": 19,
        "start_time": "2022-03-21T07:55:38.990Z"
      },
      {
        "duration": 13,
        "start_time": "2022-03-21T07:55:47.333Z"
      },
      {
        "duration": 18,
        "start_time": "2022-03-21T07:57:05.247Z"
      },
      {
        "duration": 12,
        "start_time": "2022-03-21T07:57:14.025Z"
      },
      {
        "duration": 15,
        "start_time": "2022-03-21T07:57:55.295Z"
      },
      {
        "duration": 15,
        "start_time": "2022-03-21T07:58:06.279Z"
      },
      {
        "duration": 14,
        "start_time": "2022-03-21T07:58:54.536Z"
      },
      {
        "duration": 22,
        "start_time": "2022-03-21T07:58:58.990Z"
      },
      {
        "duration": 14,
        "start_time": "2022-03-21T07:59:07.119Z"
      },
      {
        "duration": 4,
        "start_time": "2022-03-21T08:01:46.444Z"
      },
      {
        "duration": 77,
        "start_time": "2022-03-21T08:01:46.451Z"
      },
      {
        "duration": 15,
        "start_time": "2022-03-21T08:01:46.531Z"
      },
      {
        "duration": 9,
        "start_time": "2022-03-21T08:01:46.548Z"
      },
      {
        "duration": 22,
        "start_time": "2022-03-21T08:01:46.560Z"
      },
      {
        "duration": 7,
        "start_time": "2022-03-21T08:01:46.584Z"
      },
      {
        "duration": 6,
        "start_time": "2022-03-21T08:01:46.593Z"
      },
      {
        "duration": 209,
        "start_time": "2022-03-21T08:01:46.642Z"
      },
      {
        "duration": 35,
        "start_time": "2022-03-21T08:01:46.854Z"
      },
      {
        "duration": 153,
        "start_time": "2022-03-21T08:01:46.891Z"
      },
      {
        "duration": 34,
        "start_time": "2022-03-21T08:01:47.047Z"
      },
      {
        "duration": 184,
        "start_time": "2022-03-21T08:01:47.084Z"
      },
      {
        "duration": 29,
        "start_time": "2022-03-21T08:01:47.271Z"
      },
      {
        "duration": 126,
        "start_time": "2022-03-21T08:01:47.303Z"
      },
      {
        "duration": 43,
        "start_time": "2022-03-21T08:01:47.432Z"
      },
      {
        "duration": 120,
        "start_time": "2022-03-21T08:01:47.477Z"
      },
      {
        "duration": 25,
        "start_time": "2022-03-21T08:01:47.599Z"
      },
      {
        "duration": 70,
        "start_time": "2022-03-21T08:01:47.627Z"
      },
      {
        "duration": 25,
        "start_time": "2022-03-21T08:01:47.699Z"
      },
      {
        "duration": 24,
        "start_time": "2022-03-21T08:01:47.726Z"
      },
      {
        "duration": 92,
        "start_time": "2022-03-21T08:01:47.752Z"
      },
      {
        "duration": 14,
        "start_time": "2022-03-21T08:01:47.846Z"
      },
      {
        "duration": 163,
        "start_time": "2022-03-21T08:01:47.862Z"
      },
      {
        "duration": 91,
        "start_time": "2022-03-21T08:01:48.027Z"
      },
      {
        "duration": 25,
        "start_time": "2022-03-21T08:01:48.120Z"
      },
      {
        "duration": 15,
        "start_time": "2022-03-21T08:01:48.147Z"
      },
      {
        "duration": 4,
        "start_time": "2022-03-21T08:01:48.164Z"
      },
      {
        "duration": 16,
        "start_time": "2022-03-21T08:01:48.170Z"
      },
      {
        "duration": 60,
        "start_time": "2022-03-21T08:01:48.192Z"
      },
      {
        "duration": 17,
        "start_time": "2022-03-21T08:01:48.255Z"
      },
      {
        "duration": 30,
        "start_time": "2022-03-21T08:01:48.275Z"
      },
      {
        "duration": 192,
        "start_time": "2022-03-21T08:01:48.308Z"
      },
      {
        "duration": 45,
        "start_time": "2022-03-21T08:01:48.503Z"
      },
      {
        "duration": 14,
        "start_time": "2022-03-21T08:01:48.551Z"
      },
      {
        "duration": 35,
        "start_time": "2022-03-21T08:05:39.921Z"
      },
      {
        "duration": 14,
        "start_time": "2022-03-21T08:05:52.288Z"
      },
      {
        "duration": 3,
        "start_time": "2022-03-21T08:11:42.523Z"
      },
      {
        "duration": 69,
        "start_time": "2022-03-21T08:11:42.530Z"
      },
      {
        "duration": 15,
        "start_time": "2022-03-21T08:11:42.602Z"
      },
      {
        "duration": 22,
        "start_time": "2022-03-21T08:11:42.619Z"
      },
      {
        "duration": 42,
        "start_time": "2022-03-21T08:11:42.644Z"
      },
      {
        "duration": 29,
        "start_time": "2022-03-21T08:11:42.688Z"
      },
      {
        "duration": 11,
        "start_time": "2022-03-21T08:11:42.719Z"
      },
      {
        "duration": 221,
        "start_time": "2022-03-21T08:11:42.732Z"
      },
      {
        "duration": 32,
        "start_time": "2022-03-21T08:11:42.955Z"
      },
      {
        "duration": 152,
        "start_time": "2022-03-21T08:11:42.989Z"
      },
      {
        "duration": 32,
        "start_time": "2022-03-21T08:11:43.145Z"
      },
      {
        "duration": 182,
        "start_time": "2022-03-21T08:11:43.179Z"
      },
      {
        "duration": 29,
        "start_time": "2022-03-21T08:11:43.363Z"
      },
      {
        "duration": 124,
        "start_time": "2022-03-21T08:11:43.394Z"
      },
      {
        "duration": 49,
        "start_time": "2022-03-21T08:11:43.520Z"
      },
      {
        "duration": 127,
        "start_time": "2022-03-21T08:11:43.572Z"
      },
      {
        "duration": 43,
        "start_time": "2022-03-21T08:11:43.701Z"
      },
      {
        "duration": 60,
        "start_time": "2022-03-21T08:11:43.746Z"
      },
      {
        "duration": 36,
        "start_time": "2022-03-21T08:11:43.808Z"
      },
      {
        "duration": 13,
        "start_time": "2022-03-21T08:11:43.846Z"
      },
      {
        "duration": 100,
        "start_time": "2022-03-21T08:11:43.861Z"
      },
      {
        "duration": 17,
        "start_time": "2022-03-21T08:11:43.964Z"
      },
      {
        "duration": 217,
        "start_time": "2022-03-21T08:11:43.983Z"
      },
      {
        "duration": 98,
        "start_time": "2022-03-21T08:11:44.202Z"
      },
      {
        "duration": 13,
        "start_time": "2022-03-21T08:11:44.302Z"
      },
      {
        "duration": 35,
        "start_time": "2022-03-21T08:11:44.317Z"
      },
      {
        "duration": 6,
        "start_time": "2022-03-21T08:11:44.355Z"
      },
      {
        "duration": 33,
        "start_time": "2022-03-21T08:11:44.363Z"
      },
      {
        "duration": 52,
        "start_time": "2022-03-21T08:11:44.400Z"
      },
      {
        "duration": 15,
        "start_time": "2022-03-21T08:11:44.454Z"
      },
      {
        "duration": 44,
        "start_time": "2022-03-21T08:11:44.471Z"
      },
      {
        "duration": 29,
        "start_time": "2022-03-21T08:11:44.517Z"
      },
      {
        "duration": 12,
        "start_time": "2022-03-21T08:19:49.754Z"
      },
      {
        "duration": 65,
        "start_time": "2022-03-21T08:20:00.026Z"
      },
      {
        "duration": 19,
        "start_time": "2022-03-21T08:20:53.787Z"
      },
      {
        "duration": 32,
        "start_time": "2022-03-21T08:21:57.531Z"
      },
      {
        "duration": 19,
        "start_time": "2022-03-21T08:22:03.379Z"
      },
      {
        "duration": 4,
        "start_time": "2022-03-21T08:22:10.742Z"
      },
      {
        "duration": 61,
        "start_time": "2022-03-21T08:22:10.749Z"
      },
      {
        "duration": 16,
        "start_time": "2022-03-21T08:22:10.813Z"
      },
      {
        "duration": 17,
        "start_time": "2022-03-21T08:22:10.831Z"
      },
      {
        "duration": 23,
        "start_time": "2022-03-21T08:22:10.852Z"
      },
      {
        "duration": 8,
        "start_time": "2022-03-21T08:22:10.878Z"
      },
      {
        "duration": 32,
        "start_time": "2022-03-21T08:22:10.888Z"
      },
      {
        "duration": 225,
        "start_time": "2022-03-21T08:22:10.943Z"
      },
      {
        "duration": 32,
        "start_time": "2022-03-21T08:22:11.170Z"
      },
      {
        "duration": 152,
        "start_time": "2022-03-21T08:22:11.205Z"
      },
      {
        "duration": 33,
        "start_time": "2022-03-21T08:22:11.361Z"
      },
      {
        "duration": 192,
        "start_time": "2022-03-21T08:22:11.396Z"
      },
      {
        "duration": 33,
        "start_time": "2022-03-21T08:22:11.590Z"
      },
      {
        "duration": 136,
        "start_time": "2022-03-21T08:22:11.625Z"
      },
      {
        "duration": 38,
        "start_time": "2022-03-21T08:22:11.764Z"
      },
      {
        "duration": 140,
        "start_time": "2022-03-21T08:22:11.804Z"
      },
      {
        "duration": 26,
        "start_time": "2022-03-21T08:22:11.946Z"
      },
      {
        "duration": 86,
        "start_time": "2022-03-21T08:22:11.975Z"
      },
      {
        "duration": 24,
        "start_time": "2022-03-21T08:22:12.064Z"
      },
      {
        "duration": 12,
        "start_time": "2022-03-21T08:22:12.091Z"
      },
      {
        "duration": 99,
        "start_time": "2022-03-21T08:22:12.105Z"
      },
      {
        "duration": 16,
        "start_time": "2022-03-21T08:22:12.206Z"
      },
      {
        "duration": 184,
        "start_time": "2022-03-21T08:22:12.224Z"
      },
      {
        "duration": 114,
        "start_time": "2022-03-21T08:22:12.410Z"
      },
      {
        "duration": 31,
        "start_time": "2022-03-21T08:22:12.526Z"
      },
      {
        "duration": 16,
        "start_time": "2022-03-21T08:22:12.560Z"
      },
      {
        "duration": 5,
        "start_time": "2022-03-21T08:22:12.579Z"
      },
      {
        "duration": 19,
        "start_time": "2022-03-21T08:22:12.586Z"
      },
      {
        "duration": 47,
        "start_time": "2022-03-21T08:22:12.610Z"
      },
      {
        "duration": 15,
        "start_time": "2022-03-21T08:22:12.659Z"
      },
      {
        "duration": 66,
        "start_time": "2022-03-21T08:22:12.676Z"
      },
      {
        "duration": 17,
        "start_time": "2022-03-21T08:22:12.744Z"
      },
      {
        "duration": 206,
        "start_time": "2022-03-21T08:22:12.763Z"
      },
      {
        "duration": 32,
        "start_time": "2022-03-21T08:22:12.972Z"
      },
      {
        "duration": 46,
        "start_time": "2022-03-21T08:22:13.007Z"
      },
      {
        "duration": 25,
        "start_time": "2022-03-21T08:22:52.475Z"
      },
      {
        "duration": 30,
        "start_time": "2022-03-21T08:23:34.514Z"
      },
      {
        "duration": 4,
        "start_time": "2022-03-21T08:23:42.720Z"
      },
      {
        "duration": 63,
        "start_time": "2022-03-21T08:23:42.726Z"
      },
      {
        "duration": 15,
        "start_time": "2022-03-21T08:23:42.792Z"
      },
      {
        "duration": 7,
        "start_time": "2022-03-21T08:23:42.809Z"
      },
      {
        "duration": 32,
        "start_time": "2022-03-21T08:23:42.819Z"
      },
      {
        "duration": 10,
        "start_time": "2022-03-21T08:23:42.853Z"
      },
      {
        "duration": 7,
        "start_time": "2022-03-21T08:23:42.865Z"
      },
      {
        "duration": 225,
        "start_time": "2022-03-21T08:23:42.874Z"
      },
      {
        "duration": 49,
        "start_time": "2022-03-21T08:23:43.101Z"
      },
      {
        "duration": 137,
        "start_time": "2022-03-21T08:23:43.152Z"
      },
      {
        "duration": 32,
        "start_time": "2022-03-21T08:23:43.293Z"
      },
      {
        "duration": 171,
        "start_time": "2022-03-21T08:23:43.342Z"
      },
      {
        "duration": 38,
        "start_time": "2022-03-21T08:23:43.515Z"
      },
      {
        "duration": 111,
        "start_time": "2022-03-21T08:23:43.555Z"
      },
      {
        "duration": 35,
        "start_time": "2022-03-21T08:23:43.668Z"
      },
      {
        "duration": 123,
        "start_time": "2022-03-21T08:23:43.706Z"
      },
      {
        "duration": 28,
        "start_time": "2022-03-21T08:23:43.832Z"
      },
      {
        "duration": 79,
        "start_time": "2022-03-21T08:23:43.863Z"
      },
      {
        "duration": 24,
        "start_time": "2022-03-21T08:23:43.945Z"
      },
      {
        "duration": 12,
        "start_time": "2022-03-21T08:23:43.972Z"
      },
      {
        "duration": 101,
        "start_time": "2022-03-21T08:23:43.987Z"
      },
      {
        "duration": 15,
        "start_time": "2022-03-21T08:23:44.090Z"
      },
      {
        "duration": 159,
        "start_time": "2022-03-21T08:23:44.108Z"
      },
      {
        "duration": 100,
        "start_time": "2022-03-21T08:23:44.269Z"
      },
      {
        "duration": 13,
        "start_time": "2022-03-21T08:23:44.371Z"
      },
      {
        "duration": 14,
        "start_time": "2022-03-21T08:23:44.386Z"
      },
      {
        "duration": 18,
        "start_time": "2022-03-21T08:23:44.403Z"
      },
      {
        "duration": 27,
        "start_time": "2022-03-21T08:23:44.424Z"
      },
      {
        "duration": 19,
        "start_time": "2022-03-21T08:23:44.456Z"
      },
      {
        "duration": 15,
        "start_time": "2022-03-21T08:23:44.477Z"
      },
      {
        "duration": 66,
        "start_time": "2022-03-21T08:23:44.494Z"
      },
      {
        "duration": 13,
        "start_time": "2022-03-21T08:23:44.562Z"
      },
      {
        "duration": 189,
        "start_time": "2022-03-21T08:23:44.577Z"
      },
      {
        "duration": 33,
        "start_time": "2022-03-21T08:23:44.768Z"
      },
      {
        "duration": 49,
        "start_time": "2022-03-21T08:23:44.803Z"
      },
      {
        "duration": 29,
        "start_time": "2022-03-21T08:24:15.523Z"
      },
      {
        "duration": 4,
        "start_time": "2022-03-21T08:24:26.024Z"
      },
      {
        "duration": 52,
        "start_time": "2022-03-21T08:24:26.031Z"
      },
      {
        "duration": 14,
        "start_time": "2022-03-21T08:24:26.086Z"
      },
      {
        "duration": 10,
        "start_time": "2022-03-21T08:24:26.103Z"
      },
      {
        "duration": 38,
        "start_time": "2022-03-21T08:24:26.116Z"
      },
      {
        "duration": 8,
        "start_time": "2022-03-21T08:24:26.157Z"
      },
      {
        "duration": 9,
        "start_time": "2022-03-21T08:24:26.168Z"
      },
      {
        "duration": 233,
        "start_time": "2022-03-21T08:24:26.180Z"
      },
      {
        "duration": 47,
        "start_time": "2022-03-21T08:24:26.416Z"
      },
      {
        "duration": 159,
        "start_time": "2022-03-21T08:24:26.466Z"
      },
      {
        "duration": 53,
        "start_time": "2022-03-21T08:24:26.629Z"
      },
      {
        "duration": 203,
        "start_time": "2022-03-21T08:24:26.685Z"
      },
      {
        "duration": 30,
        "start_time": "2022-03-21T08:24:26.891Z"
      },
      {
        "duration": 125,
        "start_time": "2022-03-21T08:24:26.923Z"
      },
      {
        "duration": 40,
        "start_time": "2022-03-21T08:24:27.050Z"
      },
      {
        "duration": 158,
        "start_time": "2022-03-21T08:24:27.093Z"
      },
      {
        "duration": 25,
        "start_time": "2022-03-21T08:24:27.254Z"
      },
      {
        "duration": 82,
        "start_time": "2022-03-21T08:24:27.281Z"
      },
      {
        "duration": 26,
        "start_time": "2022-03-21T08:24:27.366Z"
      },
      {
        "duration": 17,
        "start_time": "2022-03-21T08:24:27.395Z"
      },
      {
        "duration": 100,
        "start_time": "2022-03-21T08:24:27.415Z"
      },
      {
        "duration": 27,
        "start_time": "2022-03-21T08:24:27.518Z"
      },
      {
        "duration": 235,
        "start_time": "2022-03-21T08:24:27.548Z"
      },
      {
        "duration": 147,
        "start_time": "2022-03-21T08:24:27.786Z"
      },
      {
        "duration": 18,
        "start_time": "2022-03-21T08:24:27.944Z"
      },
      {
        "duration": 20,
        "start_time": "2022-03-21T08:24:27.964Z"
      },
      {
        "duration": 7,
        "start_time": "2022-03-21T08:24:27.986Z"
      },
      {
        "duration": 16,
        "start_time": "2022-03-21T08:24:27.995Z"
      },
      {
        "duration": 21,
        "start_time": "2022-03-21T08:24:28.046Z"
      },
      {
        "duration": 17,
        "start_time": "2022-03-21T08:24:28.070Z"
      },
      {
        "duration": 65,
        "start_time": "2022-03-21T08:24:28.089Z"
      },
      {
        "duration": 15,
        "start_time": "2022-03-21T08:24:28.156Z"
      },
      {
        "duration": 292,
        "start_time": "2022-03-21T08:24:28.174Z"
      },
      {
        "duration": 29,
        "start_time": "2022-03-21T08:24:28.469Z"
      },
      {
        "duration": 48,
        "start_time": "2022-03-21T08:24:28.501Z"
      },
      {
        "duration": 212,
        "start_time": "2022-03-21T08:25:26.716Z"
      },
      {
        "duration": 45,
        "start_time": "2022-03-21T08:25:33.594Z"
      },
      {
        "duration": 30,
        "start_time": "2022-03-21T08:25:47.027Z"
      },
      {
        "duration": 21,
        "start_time": "2022-03-21T08:29:53.044Z"
      },
      {
        "duration": 18,
        "start_time": "2022-03-21T08:30:17.013Z"
      },
      {
        "duration": 24,
        "start_time": "2022-03-21T08:30:56.669Z"
      },
      {
        "duration": 29,
        "start_time": "2022-03-21T08:31:43.301Z"
      },
      {
        "duration": 4,
        "start_time": "2022-03-21T08:31:51.491Z"
      },
      {
        "duration": 59,
        "start_time": "2022-03-21T08:31:51.497Z"
      },
      {
        "duration": 16,
        "start_time": "2022-03-21T08:31:51.559Z"
      },
      {
        "duration": 21,
        "start_time": "2022-03-21T08:31:51.577Z"
      },
      {
        "duration": 51,
        "start_time": "2022-03-21T08:31:51.603Z"
      },
      {
        "duration": 9,
        "start_time": "2022-03-21T08:31:51.657Z"
      },
      {
        "duration": 8,
        "start_time": "2022-03-21T08:31:51.668Z"
      },
      {
        "duration": 233,
        "start_time": "2022-03-21T08:31:51.678Z"
      },
      {
        "duration": 42,
        "start_time": "2022-03-21T08:31:51.913Z"
      },
      {
        "duration": 145,
        "start_time": "2022-03-21T08:31:51.957Z"
      },
      {
        "duration": 44,
        "start_time": "2022-03-21T08:31:52.108Z"
      },
      {
        "duration": 173,
        "start_time": "2022-03-21T08:31:52.154Z"
      },
      {
        "duration": 36,
        "start_time": "2022-03-21T08:31:52.329Z"
      },
      {
        "duration": 121,
        "start_time": "2022-03-21T08:31:52.368Z"
      },
      {
        "duration": 53,
        "start_time": "2022-03-21T08:31:52.491Z"
      },
      {
        "duration": 129,
        "start_time": "2022-03-21T08:31:52.546Z"
      },
      {
        "duration": 28,
        "start_time": "2022-03-21T08:31:52.677Z"
      },
      {
        "duration": 82,
        "start_time": "2022-03-21T08:31:52.708Z"
      },
      {
        "duration": 27,
        "start_time": "2022-03-21T08:31:52.793Z"
      },
      {
        "duration": 26,
        "start_time": "2022-03-21T08:31:52.822Z"
      },
      {
        "duration": 93,
        "start_time": "2022-03-21T08:31:52.850Z"
      },
      {
        "duration": 16,
        "start_time": "2022-03-21T08:31:52.945Z"
      },
      {
        "duration": 172,
        "start_time": "2022-03-21T08:31:52.963Z"
      },
      {
        "duration": 102,
        "start_time": "2022-03-21T08:31:53.142Z"
      },
      {
        "duration": 13,
        "start_time": "2022-03-21T08:31:53.246Z"
      },
      {
        "duration": 21,
        "start_time": "2022-03-21T08:31:53.261Z"
      },
      {
        "duration": 12,
        "start_time": "2022-03-21T08:31:53.285Z"
      },
      {
        "duration": 30,
        "start_time": "2022-03-21T08:31:53.299Z"
      },
      {
        "duration": 31,
        "start_time": "2022-03-21T08:31:53.342Z"
      },
      {
        "duration": 14,
        "start_time": "2022-03-21T08:31:53.375Z"
      },
      {
        "duration": 32,
        "start_time": "2022-03-21T08:31:53.391Z"
      },
      {
        "duration": 26,
        "start_time": "2022-03-21T08:31:53.425Z"
      },
      {
        "duration": 185,
        "start_time": "2022-03-21T08:31:53.453Z"
      },
      {
        "duration": 31,
        "start_time": "2022-03-21T08:31:53.643Z"
      },
      {
        "duration": 24,
        "start_time": "2022-03-21T08:31:53.676Z"
      },
      {
        "duration": 22,
        "start_time": "2022-03-21T08:48:39.312Z"
      },
      {
        "duration": 31,
        "start_time": "2022-03-21T08:48:57.842Z"
      },
      {
        "duration": 31,
        "start_time": "2022-03-21T08:49:04.145Z"
      },
      {
        "duration": 31,
        "start_time": "2022-03-21T08:49:31.585Z"
      },
      {
        "duration": 4,
        "start_time": "2022-03-21T08:55:16.663Z"
      },
      {
        "duration": 83,
        "start_time": "2022-03-21T08:55:16.669Z"
      },
      {
        "duration": 17,
        "start_time": "2022-03-21T08:55:16.754Z"
      },
      {
        "duration": 9,
        "start_time": "2022-03-21T08:55:16.773Z"
      },
      {
        "duration": 60,
        "start_time": "2022-03-21T08:55:16.785Z"
      },
      {
        "duration": 8,
        "start_time": "2022-03-21T08:55:16.847Z"
      },
      {
        "duration": 9,
        "start_time": "2022-03-21T08:55:16.857Z"
      },
      {
        "duration": 229,
        "start_time": "2022-03-21T08:55:16.868Z"
      },
      {
        "duration": 51,
        "start_time": "2022-03-21T08:55:17.100Z"
      },
      {
        "duration": 137,
        "start_time": "2022-03-21T08:55:17.154Z"
      },
      {
        "duration": 33,
        "start_time": "2022-03-21T08:55:17.295Z"
      },
      {
        "duration": 179,
        "start_time": "2022-03-21T08:55:17.343Z"
      },
      {
        "duration": 34,
        "start_time": "2022-03-21T08:55:17.525Z"
      },
      {
        "duration": 114,
        "start_time": "2022-03-21T08:55:17.561Z"
      },
      {
        "duration": 35,
        "start_time": "2022-03-21T08:55:17.677Z"
      },
      {
        "duration": 131,
        "start_time": "2022-03-21T08:55:17.715Z"
      },
      {
        "duration": 24,
        "start_time": "2022-03-21T08:55:17.849Z"
      },
      {
        "duration": 87,
        "start_time": "2022-03-21T08:55:17.876Z"
      },
      {
        "duration": 27,
        "start_time": "2022-03-21T08:55:17.965Z"
      },
      {
        "duration": 13,
        "start_time": "2022-03-21T08:55:17.995Z"
      },
      {
        "duration": 97,
        "start_time": "2022-03-21T08:55:18.010Z"
      },
      {
        "duration": 15,
        "start_time": "2022-03-21T08:55:18.109Z"
      },
      {
        "duration": 157,
        "start_time": "2022-03-21T08:55:18.143Z"
      },
      {
        "duration": 112,
        "start_time": "2022-03-21T08:55:18.302Z"
      },
      {
        "duration": 27,
        "start_time": "2022-03-21T08:55:18.416Z"
      },
      {
        "duration": 14,
        "start_time": "2022-03-21T08:55:18.445Z"
      },
      {
        "duration": 4,
        "start_time": "2022-03-21T08:55:18.461Z"
      },
      {
        "duration": 18,
        "start_time": "2022-03-21T08:55:18.468Z"
      },
      {
        "duration": 59,
        "start_time": "2022-03-21T08:55:18.491Z"
      },
      {
        "duration": 18,
        "start_time": "2022-03-21T08:55:18.552Z"
      },
      {
        "duration": 34,
        "start_time": "2022-03-21T08:55:18.572Z"
      },
      {
        "duration": 39,
        "start_time": "2022-03-21T08:55:18.608Z"
      },
      {
        "duration": 180,
        "start_time": "2022-03-21T08:55:18.649Z"
      },
      {
        "duration": 34,
        "start_time": "2022-03-21T08:55:18.831Z"
      },
      {
        "duration": 24,
        "start_time": "2022-03-21T08:55:18.867Z"
      },
      {
        "duration": 57,
        "start_time": "2022-03-21T08:55:18.893Z"
      },
      {
        "duration": 39,
        "start_time": "2022-03-21T08:58:27.218Z"
      },
      {
        "duration": 21,
        "start_time": "2022-03-21T08:58:59.650Z"
      },
      {
        "duration": 4,
        "start_time": "2022-03-21T08:59:06.802Z"
      },
      {
        "duration": 60,
        "start_time": "2022-03-21T08:59:06.809Z"
      },
      {
        "duration": 18,
        "start_time": "2022-03-21T08:59:06.872Z"
      },
      {
        "duration": 8,
        "start_time": "2022-03-21T08:59:06.893Z"
      },
      {
        "duration": 52,
        "start_time": "2022-03-21T08:59:06.905Z"
      },
      {
        "duration": 8,
        "start_time": "2022-03-21T08:59:06.960Z"
      },
      {
        "duration": 8,
        "start_time": "2022-03-21T08:59:06.969Z"
      },
      {
        "duration": 234,
        "start_time": "2022-03-21T08:59:06.979Z"
      },
      {
        "duration": 40,
        "start_time": "2022-03-21T08:59:07.215Z"
      },
      {
        "duration": 142,
        "start_time": "2022-03-21T08:59:07.257Z"
      },
      {
        "duration": 41,
        "start_time": "2022-03-21T08:59:07.403Z"
      },
      {
        "duration": 175,
        "start_time": "2022-03-21T08:59:07.446Z"
      },
      {
        "duration": 37,
        "start_time": "2022-03-21T08:59:07.624Z"
      },
      {
        "duration": 115,
        "start_time": "2022-03-21T08:59:07.663Z"
      },
      {
        "duration": 37,
        "start_time": "2022-03-21T08:59:07.780Z"
      },
      {
        "duration": 130,
        "start_time": "2022-03-21T08:59:07.819Z"
      },
      {
        "duration": 27,
        "start_time": "2022-03-21T08:59:07.951Z"
      },
      {
        "duration": 88,
        "start_time": "2022-03-21T08:59:07.980Z"
      },
      {
        "duration": 25,
        "start_time": "2022-03-21T08:59:08.070Z"
      },
      {
        "duration": 13,
        "start_time": "2022-03-21T08:59:08.098Z"
      },
      {
        "duration": 97,
        "start_time": "2022-03-21T08:59:08.113Z"
      },
      {
        "duration": 31,
        "start_time": "2022-03-21T08:59:08.212Z"
      },
      {
        "duration": 153,
        "start_time": "2022-03-21T08:59:08.245Z"
      },
      {
        "duration": 96,
        "start_time": "2022-03-21T08:59:08.400Z"
      },
      {
        "duration": 12,
        "start_time": "2022-03-21T08:59:08.498Z"
      },
      {
        "duration": 34,
        "start_time": "2022-03-21T08:59:08.512Z"
      },
      {
        "duration": 5,
        "start_time": "2022-03-21T08:59:08.548Z"
      },
      {
        "duration": 17,
        "start_time": "2022-03-21T08:59:08.554Z"
      },
      {
        "duration": 18,
        "start_time": "2022-03-21T08:59:08.575Z"
      },
      {
        "duration": 50,
        "start_time": "2022-03-21T08:59:08.595Z"
      },
      {
        "duration": 31,
        "start_time": "2022-03-21T08:59:08.647Z"
      },
      {
        "duration": 13,
        "start_time": "2022-03-21T08:59:08.680Z"
      },
      {
        "duration": 191,
        "start_time": "2022-03-21T08:59:08.695Z"
      },
      {
        "duration": 29,
        "start_time": "2022-03-21T08:59:08.888Z"
      },
      {
        "duration": 44,
        "start_time": "2022-03-21T08:59:08.919Z"
      },
      {
        "duration": 22,
        "start_time": "2022-03-21T08:59:08.965Z"
      },
      {
        "duration": 6,
        "start_time": "2022-03-21T09:00:20.643Z"
      },
      {
        "duration": 23,
        "start_time": "2022-03-21T09:00:26.578Z"
      },
      {
        "duration": 47,
        "start_time": "2022-03-21T09:01:03.430Z"
      },
      {
        "duration": 48,
        "start_time": "2022-03-21T09:02:47.500Z"
      },
      {
        "duration": 4,
        "start_time": "2022-03-21T09:03:43.394Z"
      },
      {
        "duration": 76,
        "start_time": "2022-03-21T09:03:43.400Z"
      },
      {
        "duration": 15,
        "start_time": "2022-03-21T09:03:43.480Z"
      },
      {
        "duration": 10,
        "start_time": "2022-03-21T09:03:43.497Z"
      },
      {
        "duration": 45,
        "start_time": "2022-03-21T09:03:43.510Z"
      },
      {
        "duration": 8,
        "start_time": "2022-03-21T09:03:43.557Z"
      },
      {
        "duration": 6,
        "start_time": "2022-03-21T09:03:43.567Z"
      },
      {
        "duration": 222,
        "start_time": "2022-03-21T09:03:43.575Z"
      },
      {
        "duration": 32,
        "start_time": "2022-03-21T09:03:43.800Z"
      },
      {
        "duration": 135,
        "start_time": "2022-03-21T09:03:43.843Z"
      },
      {
        "duration": 34,
        "start_time": "2022-03-21T09:03:43.982Z"
      },
      {
        "duration": 187,
        "start_time": "2022-03-21T09:03:44.018Z"
      },
      {
        "duration": 37,
        "start_time": "2022-03-21T09:03:44.207Z"
      },
      {
        "duration": 115,
        "start_time": "2022-03-21T09:03:44.246Z"
      },
      {
        "duration": 36,
        "start_time": "2022-03-21T09:03:44.363Z"
      },
      {
        "duration": 125,
        "start_time": "2022-03-21T09:03:44.401Z"
      },
      {
        "duration": 35,
        "start_time": "2022-03-21T09:03:44.528Z"
      },
      {
        "duration": 59,
        "start_time": "2022-03-21T09:03:44.565Z"
      },
      {
        "duration": 25,
        "start_time": "2022-03-21T09:03:44.643Z"
      },
      {
        "duration": 12,
        "start_time": "2022-03-21T09:03:44.670Z"
      },
      {
        "duration": 95,
        "start_time": "2022-03-21T09:03:44.684Z"
      },
      {
        "duration": 15,
        "start_time": "2022-03-21T09:03:44.781Z"
      },
      {
        "duration": 171,
        "start_time": "2022-03-21T09:03:44.798Z"
      },
      {
        "duration": 107,
        "start_time": "2022-03-21T09:03:44.972Z"
      },
      {
        "duration": 11,
        "start_time": "2022-03-21T09:03:45.082Z"
      },
      {
        "duration": 16,
        "start_time": "2022-03-21T09:03:45.095Z"
      },
      {
        "duration": 30,
        "start_time": "2022-03-21T09:03:45.113Z"
      },
      {
        "duration": 14,
        "start_time": "2022-03-21T09:03:45.145Z"
      },
      {
        "duration": 18,
        "start_time": "2022-03-21T09:03:45.164Z"
      },
      {
        "duration": 14,
        "start_time": "2022-03-21T09:03:45.184Z"
      },
      {
        "duration": 64,
        "start_time": "2022-03-21T09:03:45.201Z"
      },
      {
        "duration": 14,
        "start_time": "2022-03-21T09:03:45.268Z"
      },
      {
        "duration": 187,
        "start_time": "2022-03-21T09:03:45.284Z"
      },
      {
        "duration": 32,
        "start_time": "2022-03-21T09:03:45.473Z"
      },
      {
        "duration": 52,
        "start_time": "2022-03-21T09:03:45.508Z"
      },
      {
        "duration": 49,
        "start_time": "2022-03-21T09:03:45.563Z"
      },
      {
        "duration": 14,
        "start_time": "2022-03-21T09:05:23.627Z"
      },
      {
        "duration": 49,
        "start_time": "2022-03-21T09:05:34.267Z"
      },
      {
        "duration": 11,
        "start_time": "2022-03-21T09:25:23.865Z"
      },
      {
        "duration": 23,
        "start_time": "2022-03-21T09:26:17.759Z"
      },
      {
        "duration": 4,
        "start_time": "2022-03-21T09:26:26.310Z"
      },
      {
        "duration": 58,
        "start_time": "2022-03-21T09:26:26.317Z"
      },
      {
        "duration": 16,
        "start_time": "2022-03-21T09:26:26.378Z"
      },
      {
        "duration": 10,
        "start_time": "2022-03-21T09:26:26.396Z"
      },
      {
        "duration": 45,
        "start_time": "2022-03-21T09:26:26.409Z"
      },
      {
        "duration": 8,
        "start_time": "2022-03-21T09:26:26.457Z"
      },
      {
        "duration": 14,
        "start_time": "2022-03-21T09:26:26.467Z"
      },
      {
        "duration": 226,
        "start_time": "2022-03-21T09:26:26.483Z"
      },
      {
        "duration": 46,
        "start_time": "2022-03-21T09:26:26.712Z"
      },
      {
        "duration": 156,
        "start_time": "2022-03-21T09:26:26.761Z"
      },
      {
        "duration": 46,
        "start_time": "2022-03-21T09:26:26.923Z"
      },
      {
        "duration": 200,
        "start_time": "2022-03-21T09:26:26.971Z"
      },
      {
        "duration": 28,
        "start_time": "2022-03-21T09:26:27.173Z"
      },
      {
        "duration": 134,
        "start_time": "2022-03-21T09:26:27.204Z"
      },
      {
        "duration": 36,
        "start_time": "2022-03-21T09:26:27.343Z"
      },
      {
        "duration": 135,
        "start_time": "2022-03-21T09:26:27.382Z"
      },
      {
        "duration": 35,
        "start_time": "2022-03-21T09:26:27.519Z"
      },
      {
        "duration": 87,
        "start_time": "2022-03-21T09:26:27.557Z"
      },
      {
        "duration": 25,
        "start_time": "2022-03-21T09:26:27.647Z"
      },
      {
        "duration": 12,
        "start_time": "2022-03-21T09:26:27.674Z"
      },
      {
        "duration": 100,
        "start_time": "2022-03-21T09:26:27.688Z"
      },
      {
        "duration": 15,
        "start_time": "2022-03-21T09:26:27.791Z"
      },
      {
        "duration": 175,
        "start_time": "2022-03-21T09:26:27.808Z"
      },
      {
        "duration": 110,
        "start_time": "2022-03-21T09:26:27.985Z"
      },
      {
        "duration": 13,
        "start_time": "2022-03-21T09:26:28.097Z"
      },
      {
        "duration": 35,
        "start_time": "2022-03-21T09:26:28.112Z"
      },
      {
        "duration": 5,
        "start_time": "2022-03-21T09:26:28.149Z"
      },
      {
        "duration": 16,
        "start_time": "2022-03-21T09:26:28.156Z"
      },
      {
        "duration": 21,
        "start_time": "2022-03-21T09:26:28.179Z"
      },
      {
        "duration": 53,
        "start_time": "2022-03-21T09:26:28.202Z"
      },
      {
        "duration": 32,
        "start_time": "2022-03-21T09:26:28.258Z"
      },
      {
        "duration": 14,
        "start_time": "2022-03-21T09:26:28.293Z"
      },
      {
        "duration": 206,
        "start_time": "2022-03-21T09:26:28.309Z"
      },
      {
        "duration": 42,
        "start_time": "2022-03-21T09:26:28.517Z"
      },
      {
        "duration": 21,
        "start_time": "2022-03-21T09:26:28.561Z"
      },
      {
        "duration": 4,
        "start_time": "2022-03-21T09:31:51.436Z"
      },
      {
        "duration": 57,
        "start_time": "2022-03-21T09:31:51.443Z"
      },
      {
        "duration": 16,
        "start_time": "2022-03-21T09:31:51.502Z"
      },
      {
        "duration": 25,
        "start_time": "2022-03-21T09:31:51.522Z"
      },
      {
        "duration": 21,
        "start_time": "2022-03-21T09:31:51.550Z"
      },
      {
        "duration": 11,
        "start_time": "2022-03-21T09:31:51.573Z"
      },
      {
        "duration": 7,
        "start_time": "2022-03-21T09:31:51.586Z"
      },
      {
        "duration": 233,
        "start_time": "2022-03-21T09:31:51.595Z"
      },
      {
        "duration": 43,
        "start_time": "2022-03-21T09:31:51.830Z"
      },
      {
        "duration": 152,
        "start_time": "2022-03-21T09:31:51.875Z"
      },
      {
        "duration": 38,
        "start_time": "2022-03-21T09:31:52.031Z"
      },
      {
        "duration": 186,
        "start_time": "2022-03-21T09:31:52.071Z"
      },
      {
        "duration": 30,
        "start_time": "2022-03-21T09:31:52.260Z"
      },
      {
        "duration": 124,
        "start_time": "2022-03-21T09:31:52.292Z"
      },
      {
        "duration": 45,
        "start_time": "2022-03-21T09:31:52.418Z"
      },
      {
        "duration": 134,
        "start_time": "2022-03-21T09:31:52.465Z"
      },
      {
        "duration": 41,
        "start_time": "2022-03-21T09:31:52.602Z"
      },
      {
        "duration": 62,
        "start_time": "2022-03-21T09:31:52.645Z"
      },
      {
        "duration": 36,
        "start_time": "2022-03-21T09:31:52.710Z"
      },
      {
        "duration": 14,
        "start_time": "2022-03-21T09:31:52.749Z"
      },
      {
        "duration": 106,
        "start_time": "2022-03-21T09:31:52.765Z"
      },
      {
        "duration": 14,
        "start_time": "2022-03-21T09:31:52.874Z"
      },
      {
        "duration": 172,
        "start_time": "2022-03-21T09:31:52.890Z"
      },
      {
        "duration": 97,
        "start_time": "2022-03-21T09:31:53.065Z"
      },
      {
        "duration": 12,
        "start_time": "2022-03-21T09:31:53.165Z"
      },
      {
        "duration": 13,
        "start_time": "2022-03-21T09:31:53.180Z"
      },
      {
        "duration": 5,
        "start_time": "2022-03-21T09:31:53.196Z"
      },
      {
        "duration": 49,
        "start_time": "2022-03-21T09:31:53.203Z"
      },
      {
        "duration": 20,
        "start_time": "2022-03-21T09:31:53.256Z"
      },
      {
        "duration": 15,
        "start_time": "2022-03-21T09:31:53.278Z"
      },
      {
        "duration": 63,
        "start_time": "2022-03-21T09:31:53.295Z"
      },
      {
        "duration": 15,
        "start_time": "2022-03-21T09:31:53.360Z"
      },
      {
        "duration": 187,
        "start_time": "2022-03-21T09:31:53.377Z"
      },
      {
        "duration": 32,
        "start_time": "2022-03-21T09:31:53.567Z"
      },
      {
        "duration": 46,
        "start_time": "2022-03-21T09:31:53.602Z"
      },
      {
        "duration": 305,
        "start_time": "2022-03-21T09:31:53.651Z"
      },
      {
        "duration": 4,
        "start_time": "2022-03-21T09:32:37.150Z"
      },
      {
        "duration": 57,
        "start_time": "2022-03-21T09:32:37.156Z"
      },
      {
        "duration": 19,
        "start_time": "2022-03-21T09:32:37.217Z"
      },
      {
        "duration": 12,
        "start_time": "2022-03-21T09:32:37.242Z"
      },
      {
        "duration": 25,
        "start_time": "2022-03-21T09:32:37.258Z"
      },
      {
        "duration": 10,
        "start_time": "2022-03-21T09:32:37.286Z"
      },
      {
        "duration": 50,
        "start_time": "2022-03-21T09:32:37.298Z"
      },
      {
        "duration": 220,
        "start_time": "2022-03-21T09:32:37.351Z"
      },
      {
        "duration": 34,
        "start_time": "2022-03-21T09:32:37.573Z"
      },
      {
        "duration": 157,
        "start_time": "2022-03-21T09:32:37.609Z"
      },
      {
        "duration": 35,
        "start_time": "2022-03-21T09:32:37.771Z"
      },
      {
        "duration": 198,
        "start_time": "2022-03-21T09:32:37.808Z"
      },
      {
        "duration": 45,
        "start_time": "2022-03-21T09:32:38.008Z"
      },
      {
        "duration": 115,
        "start_time": "2022-03-21T09:32:38.056Z"
      },
      {
        "duration": 37,
        "start_time": "2022-03-21T09:32:38.174Z"
      },
      {
        "duration": 149,
        "start_time": "2022-03-21T09:32:38.214Z"
      },
      {
        "duration": 26,
        "start_time": "2022-03-21T09:32:38.366Z"
      },
      {
        "duration": 85,
        "start_time": "2022-03-21T09:32:38.394Z"
      },
      {
        "duration": 26,
        "start_time": "2022-03-21T09:32:38.481Z"
      },
      {
        "duration": 12,
        "start_time": "2022-03-21T09:32:38.509Z"
      },
      {
        "duration": 105,
        "start_time": "2022-03-21T09:32:38.523Z"
      },
      {
        "duration": 16,
        "start_time": "2022-03-21T09:32:38.642Z"
      },
      {
        "duration": 172,
        "start_time": "2022-03-21T09:32:38.660Z"
      },
      {
        "duration": 95,
        "start_time": "2022-03-21T09:32:38.834Z"
      },
      {
        "duration": 13,
        "start_time": "2022-03-21T09:32:38.942Z"
      },
      {
        "duration": 17,
        "start_time": "2022-03-21T09:32:38.957Z"
      },
      {
        "duration": 6,
        "start_time": "2022-03-21T09:32:38.976Z"
      },
      {
        "duration": 58,
        "start_time": "2022-03-21T09:32:38.985Z"
      },
      {
        "duration": 23,
        "start_time": "2022-03-21T09:32:39.050Z"
      },
      {
        "duration": 15,
        "start_time": "2022-03-21T09:32:39.076Z"
      },
      {
        "duration": 65,
        "start_time": "2022-03-21T09:32:39.093Z"
      },
      {
        "duration": 15,
        "start_time": "2022-03-21T09:32:39.160Z"
      },
      {
        "duration": 236,
        "start_time": "2022-03-21T09:32:39.177Z"
      },
      {
        "duration": 44,
        "start_time": "2022-03-21T09:32:39.416Z"
      },
      {
        "duration": 21,
        "start_time": "2022-03-21T09:32:39.462Z"
      },
      {
        "duration": 13,
        "start_time": "2022-03-21T09:32:39.485Z"
      },
      {
        "duration": 4,
        "start_time": "2022-03-21T09:33:18.967Z"
      },
      {
        "duration": 63,
        "start_time": "2022-03-21T09:33:18.974Z"
      },
      {
        "duration": 17,
        "start_time": "2022-03-21T09:33:19.040Z"
      },
      {
        "duration": 18,
        "start_time": "2022-03-21T09:33:19.059Z"
      },
      {
        "duration": 39,
        "start_time": "2022-03-21T09:33:19.080Z"
      },
      {
        "duration": 27,
        "start_time": "2022-03-21T09:33:19.121Z"
      },
      {
        "duration": 15,
        "start_time": "2022-03-21T09:33:19.151Z"
      },
      {
        "duration": 225,
        "start_time": "2022-03-21T09:33:19.168Z"
      },
      {
        "duration": 47,
        "start_time": "2022-03-21T09:33:19.396Z"
      },
      {
        "duration": 144,
        "start_time": "2022-03-21T09:33:19.445Z"
      },
      {
        "duration": 34,
        "start_time": "2022-03-21T09:33:19.593Z"
      },
      {
        "duration": 189,
        "start_time": "2022-03-21T09:33:19.629Z"
      },
      {
        "duration": 36,
        "start_time": "2022-03-21T09:33:19.821Z"
      },
      {
        "duration": 117,
        "start_time": "2022-03-21T09:33:19.860Z"
      },
      {
        "duration": 37,
        "start_time": "2022-03-21T09:33:19.980Z"
      },
      {
        "duration": 118,
        "start_time": "2022-03-21T09:33:20.044Z"
      },
      {
        "duration": 25,
        "start_time": "2022-03-21T09:33:20.165Z"
      },
      {
        "duration": 93,
        "start_time": "2022-03-21T09:33:20.193Z"
      },
      {
        "duration": 25,
        "start_time": "2022-03-21T09:33:20.289Z"
      },
      {
        "duration": 14,
        "start_time": "2022-03-21T09:33:20.316Z"
      },
      {
        "duration": 102,
        "start_time": "2022-03-21T09:33:20.344Z"
      },
      {
        "duration": 17,
        "start_time": "2022-03-21T09:33:20.449Z"
      },
      {
        "duration": 179,
        "start_time": "2022-03-21T09:33:20.468Z"
      },
      {
        "duration": 104,
        "start_time": "2022-03-21T09:33:20.650Z"
      },
      {
        "duration": 13,
        "start_time": "2022-03-21T09:33:20.756Z"
      },
      {
        "duration": 15,
        "start_time": "2022-03-21T09:33:20.772Z"
      },
      {
        "duration": 5,
        "start_time": "2022-03-21T09:33:20.789Z"
      },
      {
        "duration": 54,
        "start_time": "2022-03-21T09:33:20.797Z"
      },
      {
        "duration": 20,
        "start_time": "2022-03-21T09:33:20.856Z"
      },
      {
        "duration": 17,
        "start_time": "2022-03-21T09:33:20.878Z"
      },
      {
        "duration": 58,
        "start_time": "2022-03-21T09:33:20.897Z"
      },
      {
        "duration": 13,
        "start_time": "2022-03-21T09:33:20.957Z"
      },
      {
        "duration": 184,
        "start_time": "2022-03-21T09:33:20.972Z"
      },
      {
        "duration": 30,
        "start_time": "2022-03-21T09:33:21.158Z"
      },
      {
        "duration": 19,
        "start_time": "2022-03-21T09:33:21.190Z"
      },
      {
        "duration": 276,
        "start_time": "2022-03-21T09:33:21.211Z"
      },
      {
        "duration": 15,
        "start_time": "2022-03-21T09:33:52.569Z"
      },
      {
        "duration": 54,
        "start_time": "2022-03-21T09:34:15.453Z"
      },
      {
        "duration": 9,
        "start_time": "2022-03-21T09:36:15.633Z"
      },
      {
        "duration": 23,
        "start_time": "2022-03-21T09:37:26.010Z"
      },
      {
        "duration": 13,
        "start_time": "2022-03-21T09:37:32.546Z"
      },
      {
        "duration": 37,
        "start_time": "2022-03-21T09:39:15.082Z"
      },
      {
        "duration": 11,
        "start_time": "2022-03-21T09:43:23.530Z"
      },
      {
        "duration": 12,
        "start_time": "2022-03-21T09:43:43.393Z"
      },
      {
        "duration": 674,
        "start_time": "2022-03-21T10:55:25.473Z"
      },
      {
        "duration": 83,
        "start_time": "2022-03-21T10:55:26.150Z"
      },
      {
        "duration": 17,
        "start_time": "2022-03-21T10:55:26.236Z"
      },
      {
        "duration": 10,
        "start_time": "2022-03-21T10:55:26.256Z"
      },
      {
        "duration": 20,
        "start_time": "2022-03-21T10:55:26.268Z"
      },
      {
        "duration": 8,
        "start_time": "2022-03-21T10:55:26.290Z"
      },
      {
        "duration": 47,
        "start_time": "2022-03-21T10:55:26.300Z"
      },
      {
        "duration": 236,
        "start_time": "2022-03-21T10:55:26.349Z"
      },
      {
        "duration": 36,
        "start_time": "2022-03-21T10:55:26.587Z"
      },
      {
        "duration": 155,
        "start_time": "2022-03-21T10:55:26.645Z"
      },
      {
        "duration": 46,
        "start_time": "2022-03-21T10:55:26.802Z"
      },
      {
        "duration": 181,
        "start_time": "2022-03-21T10:55:26.850Z"
      },
      {
        "duration": 35,
        "start_time": "2022-03-21T10:55:27.033Z"
      },
      {
        "duration": 132,
        "start_time": "2022-03-21T10:55:27.072Z"
      },
      {
        "duration": 52,
        "start_time": "2022-03-21T10:55:27.206Z"
      },
      {
        "duration": 128,
        "start_time": "2022-03-21T10:55:27.261Z"
      },
      {
        "duration": 55,
        "start_time": "2022-03-21T10:55:27.392Z"
      },
      {
        "duration": 97,
        "start_time": "2022-03-21T10:55:27.451Z"
      },
      {
        "duration": 26,
        "start_time": "2022-03-21T10:55:27.551Z"
      },
      {
        "duration": 12,
        "start_time": "2022-03-21T10:55:27.580Z"
      },
      {
        "duration": 106,
        "start_time": "2022-03-21T10:55:27.594Z"
      },
      {
        "duration": 14,
        "start_time": "2022-03-21T10:55:27.702Z"
      },
      {
        "duration": 179,
        "start_time": "2022-03-21T10:55:27.719Z"
      },
      {
        "duration": 100,
        "start_time": "2022-03-21T10:55:27.900Z"
      },
      {
        "duration": 14,
        "start_time": "2022-03-21T10:55:28.002Z"
      },
      {
        "duration": 34,
        "start_time": "2022-03-21T10:55:28.019Z"
      },
      {
        "duration": 5,
        "start_time": "2022-03-21T10:55:28.055Z"
      },
      {
        "duration": 15,
        "start_time": "2022-03-21T10:55:28.065Z"
      },
      {
        "duration": 19,
        "start_time": "2022-03-21T10:55:28.082Z"
      },
      {
        "duration": 16,
        "start_time": "2022-03-21T10:55:28.144Z"
      },
      {
        "duration": 29,
        "start_time": "2022-03-21T10:55:28.162Z"
      },
      {
        "duration": 14,
        "start_time": "2022-03-21T10:55:28.193Z"
      },
      {
        "duration": 201,
        "start_time": "2022-03-21T10:55:28.209Z"
      },
      {
        "duration": 46,
        "start_time": "2022-03-21T10:55:28.413Z"
      },
      {
        "duration": 20,
        "start_time": "2022-03-21T10:55:28.461Z"
      },
      {
        "duration": 35,
        "start_time": "2022-03-21T10:55:28.484Z"
      },
      {
        "duration": 12,
        "start_time": "2022-03-21T10:55:28.543Z"
      },
      {
        "duration": 13,
        "start_time": "2022-03-21T10:56:15.301Z"
      },
      {
        "duration": 12,
        "start_time": "2022-03-21T11:09:55.970Z"
      },
      {
        "duration": 13,
        "start_time": "2022-03-21T11:10:30.028Z"
      },
      {
        "duration": 31,
        "start_time": "2022-03-21T12:05:39.701Z"
      },
      {
        "duration": 92,
        "start_time": "2022-03-21T12:09:57.740Z"
      },
      {
        "duration": 1285,
        "start_time": "2022-03-21T12:10:03.258Z"
      },
      {
        "duration": 45,
        "start_time": "2022-03-21T12:10:04.545Z"
      },
      {
        "duration": 16,
        "start_time": "2022-03-21T12:10:04.593Z"
      },
      {
        "duration": 11,
        "start_time": "2022-03-21T12:10:04.613Z"
      },
      {
        "duration": 30,
        "start_time": "2022-03-21T12:10:04.626Z"
      },
      {
        "duration": 10,
        "start_time": "2022-03-21T12:10:04.658Z"
      },
      {
        "duration": 9,
        "start_time": "2022-03-21T12:10:04.670Z"
      },
      {
        "duration": 230,
        "start_time": "2022-03-21T12:10:04.681Z"
      },
      {
        "duration": 50,
        "start_time": "2022-03-21T12:10:04.914Z"
      },
      {
        "duration": 158,
        "start_time": "2022-03-21T12:10:04.970Z"
      },
      {
        "duration": 57,
        "start_time": "2022-03-21T12:10:05.131Z"
      },
      {
        "duration": 181,
        "start_time": "2022-03-21T12:10:05.190Z"
      },
      {
        "duration": 31,
        "start_time": "2022-03-21T12:10:05.373Z"
      },
      {
        "duration": 129,
        "start_time": "2022-03-21T12:10:05.406Z"
      },
      {
        "duration": 38,
        "start_time": "2022-03-21T12:10:05.542Z"
      },
      {
        "duration": 138,
        "start_time": "2022-03-21T12:10:05.583Z"
      },
      {
        "duration": 34,
        "start_time": "2022-03-21T12:10:05.723Z"
      },
      {
        "duration": 63,
        "start_time": "2022-03-21T12:10:05.759Z"
      },
      {
        "duration": 26,
        "start_time": "2022-03-21T12:10:05.843Z"
      },
      {
        "duration": 12,
        "start_time": "2022-03-21T12:10:05.871Z"
      },
      {
        "duration": 97,
        "start_time": "2022-03-21T12:10:05.886Z"
      },
      {
        "duration": 17,
        "start_time": "2022-03-21T12:10:05.986Z"
      },
      {
        "duration": 172,
        "start_time": "2022-03-21T12:10:06.005Z"
      },
      {
        "duration": 105,
        "start_time": "2022-03-21T12:10:06.180Z"
      },
      {
        "duration": 13,
        "start_time": "2022-03-21T12:10:06.287Z"
      },
      {
        "duration": 13,
        "start_time": "2022-03-21T12:10:06.302Z"
      },
      {
        "duration": 7,
        "start_time": "2022-03-21T12:10:06.342Z"
      },
      {
        "duration": 15,
        "start_time": "2022-03-21T12:10:06.353Z"
      },
      {
        "duration": 22,
        "start_time": "2022-03-21T12:10:06.370Z"
      },
      {
        "duration": 51,
        "start_time": "2022-03-21T12:10:06.394Z"
      },
      {
        "duration": 30,
        "start_time": "2022-03-21T12:10:06.448Z"
      },
      {
        "duration": 13,
        "start_time": "2022-03-21T12:10:06.481Z"
      },
      {
        "duration": 192,
        "start_time": "2022-03-21T12:10:06.496Z"
      },
      {
        "duration": 26,
        "start_time": "2022-03-21T12:10:06.690Z"
      },
      {
        "duration": 39,
        "start_time": "2022-03-21T12:10:06.718Z"
      },
      {
        "duration": 35,
        "start_time": "2022-03-21T12:10:06.759Z"
      },
      {
        "duration": 11,
        "start_time": "2022-03-21T12:10:06.796Z"
      },
      {
        "duration": 43,
        "start_time": "2022-03-21T12:10:06.809Z"
      },
      {
        "duration": 13,
        "start_time": "2022-03-21T12:10:06.854Z"
      },
      {
        "duration": 13,
        "start_time": "2022-03-21T12:10:06.870Z"
      },
      {
        "duration": 109,
        "start_time": "2022-03-21T12:10:06.886Z"
      },
      {
        "duration": 197,
        "start_time": "2022-03-21T12:10:17.156Z"
      },
      {
        "duration": 181,
        "start_time": "2022-03-21T12:11:39.836Z"
      },
      {
        "duration": 181,
        "start_time": "2022-03-21T12:13:44.664Z"
      },
      {
        "duration": 189,
        "start_time": "2022-03-21T12:14:28.873Z"
      },
      {
        "duration": 293,
        "start_time": "2022-03-21T12:19:10.792Z"
      },
      {
        "duration": 862,
        "start_time": "2022-03-21T12:19:35.222Z"
      },
      {
        "duration": 237,
        "start_time": "2022-03-21T12:26:21.153Z"
      },
      {
        "duration": 239,
        "start_time": "2022-03-21T12:26:37.737Z"
      },
      {
        "duration": 331,
        "start_time": "2022-03-21T12:26:58.489Z"
      },
      {
        "duration": 260,
        "start_time": "2022-03-21T12:27:36.073Z"
      },
      {
        "duration": 265,
        "start_time": "2022-03-21T12:27:41.912Z"
      },
      {
        "duration": 277,
        "start_time": "2022-03-21T12:28:02.232Z"
      },
      {
        "duration": 340,
        "start_time": "2022-03-21T12:28:12.697Z"
      },
      {
        "duration": 21,
        "start_time": "2022-03-21T12:33:57.670Z"
      },
      {
        "duration": 255,
        "start_time": "2022-03-21T12:34:12.412Z"
      },
      {
        "duration": 20,
        "start_time": "2022-03-21T12:36:10.933Z"
      },
      {
        "duration": 349,
        "start_time": "2022-03-21T12:36:51.466Z"
      },
      {
        "duration": 420,
        "start_time": "2022-03-21T12:37:06.179Z"
      },
      {
        "duration": 244,
        "start_time": "2022-03-21T12:37:55.309Z"
      },
      {
        "duration": 429,
        "start_time": "2022-03-21T13:05:35.056Z"
      },
      {
        "duration": 300,
        "start_time": "2022-03-21T13:05:46.417Z"
      },
      {
        "duration": 401,
        "start_time": "2022-03-21T13:06:20.657Z"
      },
      {
        "duration": 279,
        "start_time": "2022-03-21T13:06:44.642Z"
      },
      {
        "duration": 285,
        "start_time": "2022-03-21T13:10:06.926Z"
      },
      {
        "duration": 321,
        "start_time": "2022-03-21T13:10:28.408Z"
      },
      {
        "duration": 301,
        "start_time": "2022-03-21T13:14:54.835Z"
      },
      {
        "duration": 303,
        "start_time": "2022-03-21T13:15:08.171Z"
      },
      {
        "duration": 267,
        "start_time": "2022-03-21T13:16:03.615Z"
      },
      {
        "duration": 245,
        "start_time": "2022-03-21T13:16:13.540Z"
      },
      {
        "duration": 257,
        "start_time": "2022-03-21T13:16:25.292Z"
      },
      {
        "duration": 300,
        "start_time": "2022-03-21T13:16:30.852Z"
      },
      {
        "duration": 244,
        "start_time": "2022-03-21T13:16:39.307Z"
      },
      {
        "duration": 48,
        "start_time": "2022-03-23T07:21:24.026Z"
      },
      {
        "duration": 1276,
        "start_time": "2022-03-23T07:21:30.683Z"
      },
      {
        "duration": 33,
        "start_time": "2022-03-23T07:21:31.962Z"
      },
      {
        "duration": 12,
        "start_time": "2022-03-23T07:21:31.996Z"
      },
      {
        "duration": 8,
        "start_time": "2022-03-23T07:21:32.010Z"
      },
      {
        "duration": 18,
        "start_time": "2022-03-23T07:21:32.019Z"
      },
      {
        "duration": 5,
        "start_time": "2022-03-23T07:21:32.039Z"
      },
      {
        "duration": 7,
        "start_time": "2022-03-23T07:21:32.045Z"
      },
      {
        "duration": 162,
        "start_time": "2022-03-23T07:21:32.062Z"
      },
      {
        "duration": 25,
        "start_time": "2022-03-23T07:21:32.225Z"
      },
      {
        "duration": 101,
        "start_time": "2022-03-23T07:21:32.262Z"
      },
      {
        "duration": 24,
        "start_time": "2022-03-23T07:21:32.364Z"
      },
      {
        "duration": 128,
        "start_time": "2022-03-23T07:21:32.389Z"
      },
      {
        "duration": 21,
        "start_time": "2022-03-23T07:21:32.519Z"
      },
      {
        "duration": 71,
        "start_time": "2022-03-23T07:21:32.542Z"
      },
      {
        "duration": 27,
        "start_time": "2022-03-23T07:21:32.614Z"
      },
      {
        "duration": 93,
        "start_time": "2022-03-23T07:21:32.643Z"
      },
      {
        "duration": 32,
        "start_time": "2022-03-23T07:21:32.737Z"
      },
      {
        "duration": 49,
        "start_time": "2022-03-23T07:21:32.771Z"
      },
      {
        "duration": 14,
        "start_time": "2022-03-23T07:21:32.822Z"
      },
      {
        "duration": 27,
        "start_time": "2022-03-23T07:21:32.837Z"
      },
      {
        "duration": 69,
        "start_time": "2022-03-23T07:21:32.865Z"
      },
      {
        "duration": 9,
        "start_time": "2022-03-23T07:21:32.935Z"
      },
      {
        "duration": 112,
        "start_time": "2022-03-23T07:21:32.945Z"
      },
      {
        "duration": 59,
        "start_time": "2022-03-23T07:21:33.059Z"
      },
      {
        "duration": 9,
        "start_time": "2022-03-23T07:21:33.119Z"
      },
      {
        "duration": 31,
        "start_time": "2022-03-23T07:21:33.129Z"
      },
      {
        "duration": 10,
        "start_time": "2022-03-23T07:21:33.162Z"
      },
      {
        "duration": 33,
        "start_time": "2022-03-23T07:21:33.176Z"
      },
      {
        "duration": 49,
        "start_time": "2022-03-23T07:21:33.211Z"
      },
      {
        "duration": 15,
        "start_time": "2022-03-23T07:21:33.262Z"
      },
      {
        "duration": 40,
        "start_time": "2022-03-23T07:21:33.279Z"
      },
      {
        "duration": 17,
        "start_time": "2022-03-23T07:21:33.321Z"
      },
      {
        "duration": 112,
        "start_time": "2022-03-23T07:21:33.340Z"
      },
      {
        "duration": 20,
        "start_time": "2022-03-23T07:21:33.454Z"
      },
      {
        "duration": 39,
        "start_time": "2022-03-23T07:21:33.476Z"
      },
      {
        "duration": 31,
        "start_time": "2022-03-23T07:21:33.516Z"
      },
      {
        "duration": 27,
        "start_time": "2022-03-23T07:21:33.548Z"
      },
      {
        "duration": 29,
        "start_time": "2022-03-23T07:21:33.576Z"
      },
      {
        "duration": 22,
        "start_time": "2022-03-23T07:21:33.607Z"
      },
      {
        "duration": 20,
        "start_time": "2022-03-23T07:21:33.631Z"
      },
      {
        "duration": 180,
        "start_time": "2022-03-23T07:21:33.653Z"
      },
      {
        "duration": 143,
        "start_time": "2022-03-23T07:22:09.368Z"
      },
      {
        "duration": 150,
        "start_time": "2022-03-23T07:22:35.368Z"
      },
      {
        "duration": 134,
        "start_time": "2022-03-23T07:22:54.770Z"
      },
      {
        "duration": 3,
        "start_time": "2022-03-23T07:27:40.804Z"
      },
      {
        "duration": 31,
        "start_time": "2022-03-23T07:27:40.808Z"
      },
      {
        "duration": 11,
        "start_time": "2022-03-23T07:27:40.840Z"
      },
      {
        "duration": 7,
        "start_time": "2022-03-23T07:27:40.852Z"
      },
      {
        "duration": 27,
        "start_time": "2022-03-23T07:27:40.861Z"
      },
      {
        "duration": 6,
        "start_time": "2022-03-23T07:27:40.890Z"
      },
      {
        "duration": 6,
        "start_time": "2022-03-23T07:27:40.898Z"
      },
      {
        "duration": 187,
        "start_time": "2022-03-23T07:27:40.906Z"
      },
      {
        "duration": 24,
        "start_time": "2022-03-23T07:27:41.095Z"
      },
      {
        "duration": 113,
        "start_time": "2022-03-23T07:27:41.120Z"
      },
      {
        "duration": 40,
        "start_time": "2022-03-23T07:27:41.237Z"
      },
      {
        "duration": 139,
        "start_time": "2022-03-23T07:27:41.278Z"
      },
      {
        "duration": 22,
        "start_time": "2022-03-23T07:27:41.418Z"
      },
      {
        "duration": 81,
        "start_time": "2022-03-23T07:27:41.441Z"
      },
      {
        "duration": 26,
        "start_time": "2022-03-23T07:27:41.524Z"
      },
      {
        "duration": 93,
        "start_time": "2022-03-23T07:27:41.552Z"
      },
      {
        "duration": 36,
        "start_time": "2022-03-23T07:27:41.646Z"
      },
      {
        "duration": 42,
        "start_time": "2022-03-23T07:27:41.684Z"
      },
      {
        "duration": 15,
        "start_time": "2022-03-23T07:27:41.727Z"
      },
      {
        "duration": 34,
        "start_time": "2022-03-23T07:27:41.743Z"
      },
      {
        "duration": 60,
        "start_time": "2022-03-23T07:27:41.779Z"
      },
      {
        "duration": 10,
        "start_time": "2022-03-23T07:27:41.840Z"
      },
      {
        "duration": 123,
        "start_time": "2022-03-23T07:27:41.864Z"
      },
      {
        "duration": 82,
        "start_time": "2022-03-23T07:27:41.989Z"
      },
      {
        "duration": 12,
        "start_time": "2022-03-23T07:27:42.073Z"
      },
      {
        "duration": 16,
        "start_time": "2022-03-23T07:27:42.087Z"
      },
      {
        "duration": 8,
        "start_time": "2022-03-23T07:27:42.105Z"
      },
      {
        "duration": 18,
        "start_time": "2022-03-23T07:27:42.114Z"
      },
      {
        "duration": 15,
        "start_time": "2022-03-23T07:27:42.136Z"
      },
      {
        "duration": 24,
        "start_time": "2022-03-23T07:27:42.152Z"
      },
      {
        "duration": 27,
        "start_time": "2022-03-23T07:27:42.177Z"
      },
      {
        "duration": 9,
        "start_time": "2022-03-23T07:27:42.205Z"
      },
      {
        "duration": 114,
        "start_time": "2022-03-23T07:27:42.216Z"
      },
      {
        "duration": 18,
        "start_time": "2022-03-23T07:27:42.332Z"
      },
      {
        "duration": 28,
        "start_time": "2022-03-23T07:27:42.351Z"
      },
      {
        "duration": 23,
        "start_time": "2022-03-23T07:27:42.381Z"
      },
      {
        "duration": 16,
        "start_time": "2022-03-23T07:27:42.406Z"
      },
      {
        "duration": 9,
        "start_time": "2022-03-23T07:27:42.424Z"
      },
      {
        "duration": 32,
        "start_time": "2022-03-23T07:27:42.435Z"
      },
      {
        "duration": 12,
        "start_time": "2022-03-23T07:27:42.470Z"
      },
      {
        "duration": 156,
        "start_time": "2022-03-23T07:27:42.484Z"
      },
      {
        "duration": 111,
        "start_time": "2022-03-23T07:27:42.642Z"
      },
      {
        "duration": 108,
        "start_time": "2022-03-23T07:41:36.030Z"
      },
      {
        "duration": 104,
        "start_time": "2022-03-23T07:41:50.806Z"
      },
      {
        "duration": 102,
        "start_time": "2022-03-23T07:42:05.128Z"
      },
      {
        "duration": 235,
        "start_time": "2022-03-23T07:57:39.817Z"
      },
      {
        "duration": 1377,
        "start_time": "2022-03-23T10:00:04.598Z"
      },
      {
        "duration": 27,
        "start_time": "2022-03-23T10:00:05.977Z"
      },
      {
        "duration": 12,
        "start_time": "2022-03-23T10:00:06.006Z"
      },
      {
        "duration": 45,
        "start_time": "2022-03-23T10:00:06.020Z"
      },
      {
        "duration": 18,
        "start_time": "2022-03-23T10:00:06.067Z"
      },
      {
        "duration": 24,
        "start_time": "2022-03-23T10:00:06.086Z"
      },
      {
        "duration": 24,
        "start_time": "2022-03-23T10:00:06.111Z"
      },
      {
        "duration": 190,
        "start_time": "2022-03-23T10:00:06.136Z"
      },
      {
        "duration": 25,
        "start_time": "2022-03-23T10:00:06.328Z"
      },
      {
        "duration": 110,
        "start_time": "2022-03-23T10:00:06.363Z"
      },
      {
        "duration": 25,
        "start_time": "2022-03-23T10:00:06.474Z"
      },
      {
        "duration": 136,
        "start_time": "2022-03-23T10:00:06.501Z"
      },
      {
        "duration": 30,
        "start_time": "2022-03-23T10:00:06.638Z"
      },
      {
        "duration": 74,
        "start_time": "2022-03-23T10:00:06.670Z"
      },
      {
        "duration": 34,
        "start_time": "2022-03-23T10:00:06.746Z"
      },
      {
        "duration": 95,
        "start_time": "2022-03-23T10:00:06.782Z"
      },
      {
        "duration": 20,
        "start_time": "2022-03-23T10:00:06.879Z"
      },
      {
        "duration": 66,
        "start_time": "2022-03-23T10:00:06.900Z"
      },
      {
        "duration": 15,
        "start_time": "2022-03-23T10:00:06.967Z"
      },
      {
        "duration": 38,
        "start_time": "2022-03-23T10:00:06.984Z"
      },
      {
        "duration": 91,
        "start_time": "2022-03-23T10:00:07.023Z"
      },
      {
        "duration": 11,
        "start_time": "2022-03-23T10:00:07.116Z"
      },
      {
        "duration": 130,
        "start_time": "2022-03-23T10:00:07.129Z"
      },
      {
        "duration": 62,
        "start_time": "2022-03-23T10:00:07.261Z"
      },
      {
        "duration": 8,
        "start_time": "2022-03-23T10:00:07.325Z"
      },
      {
        "duration": 53,
        "start_time": "2022-03-23T10:00:07.334Z"
      },
      {
        "duration": 20,
        "start_time": "2022-03-23T10:00:07.389Z"
      },
      {
        "duration": 54,
        "start_time": "2022-03-23T10:00:07.412Z"
      },
      {
        "duration": 52,
        "start_time": "2022-03-23T10:00:07.468Z"
      },
      {
        "duration": 39,
        "start_time": "2022-03-23T10:00:07.522Z"
      },
      {
        "duration": 43,
        "start_time": "2022-03-23T10:00:07.563Z"
      },
      {
        "duration": 22,
        "start_time": "2022-03-23T10:00:07.608Z"
      },
      {
        "duration": 109,
        "start_time": "2022-03-23T10:00:07.632Z"
      },
      {
        "duration": 22,
        "start_time": "2022-03-23T10:00:07.743Z"
      },
      {
        "duration": 38,
        "start_time": "2022-03-23T10:00:07.767Z"
      },
      {
        "duration": 52,
        "start_time": "2022-03-23T10:00:07.807Z"
      },
      {
        "duration": 17,
        "start_time": "2022-03-23T10:00:07.862Z"
      },
      {
        "duration": 38,
        "start_time": "2022-03-23T10:00:07.881Z"
      },
      {
        "duration": 38,
        "start_time": "2022-03-23T10:00:07.921Z"
      },
      {
        "duration": 38,
        "start_time": "2022-03-23T10:00:07.962Z"
      },
      {
        "duration": 264,
        "start_time": "2022-03-23T10:00:08.002Z"
      },
      {
        "duration": 168,
        "start_time": "2022-03-23T10:01:43.953Z"
      },
      {
        "duration": 211,
        "start_time": "2022-03-23T10:02:23.268Z"
      },
      {
        "duration": 167,
        "start_time": "2022-03-23T10:05:41.866Z"
      },
      {
        "duration": 3,
        "start_time": "2022-03-23T10:08:37.613Z"
      },
      {
        "duration": 3,
        "start_time": "2022-03-23T10:09:49.079Z"
      },
      {
        "duration": 33,
        "start_time": "2022-03-23T10:09:49.083Z"
      },
      {
        "duration": 10,
        "start_time": "2022-03-23T10:09:49.118Z"
      },
      {
        "duration": 9,
        "start_time": "2022-03-23T10:09:49.130Z"
      },
      {
        "duration": 22,
        "start_time": "2022-03-23T10:09:49.142Z"
      },
      {
        "duration": 6,
        "start_time": "2022-03-23T10:09:49.165Z"
      },
      {
        "duration": 7,
        "start_time": "2022-03-23T10:09:49.172Z"
      },
      {
        "duration": 173,
        "start_time": "2022-03-23T10:09:49.180Z"
      },
      {
        "duration": 33,
        "start_time": "2022-03-23T10:09:49.354Z"
      },
      {
        "duration": 112,
        "start_time": "2022-03-23T10:09:49.389Z"
      },
      {
        "duration": 25,
        "start_time": "2022-03-23T10:09:49.503Z"
      },
      {
        "duration": 139,
        "start_time": "2022-03-23T10:09:49.529Z"
      },
      {
        "duration": 21,
        "start_time": "2022-03-23T10:09:49.669Z"
      },
      {
        "duration": 74,
        "start_time": "2022-03-23T10:09:49.693Z"
      },
      {
        "duration": 26,
        "start_time": "2022-03-23T10:09:49.770Z"
      },
      {
        "duration": 95,
        "start_time": "2022-03-23T10:09:49.798Z"
      },
      {
        "duration": 19,
        "start_time": "2022-03-23T10:09:49.895Z"
      },
      {
        "duration": 64,
        "start_time": "2022-03-23T10:09:49.916Z"
      },
      {
        "duration": 14,
        "start_time": "2022-03-23T10:09:49.982Z"
      },
      {
        "duration": 9,
        "start_time": "2022-03-23T10:09:49.998Z"
      },
      {
        "duration": 82,
        "start_time": "2022-03-23T10:09:50.009Z"
      },
      {
        "duration": 11,
        "start_time": "2022-03-23T10:09:50.093Z"
      },
      {
        "duration": 123,
        "start_time": "2022-03-23T10:09:50.105Z"
      },
      {
        "duration": 69,
        "start_time": "2022-03-23T10:09:50.230Z"
      },
      {
        "duration": 8,
        "start_time": "2022-03-23T10:09:50.300Z"
      },
      {
        "duration": 12,
        "start_time": "2022-03-23T10:09:50.309Z"
      },
      {
        "duration": 3,
        "start_time": "2022-03-23T10:09:50.323Z"
      },
      {
        "duration": 42,
        "start_time": "2022-03-23T10:09:50.327Z"
      },
      {
        "duration": 12,
        "start_time": "2022-03-23T10:09:50.371Z"
      },
      {
        "duration": 9,
        "start_time": "2022-03-23T10:09:50.385Z"
      },
      {
        "duration": 18,
        "start_time": "2022-03-23T10:09:50.395Z"
      },
      {
        "duration": 54,
        "start_time": "2022-03-23T10:09:50.415Z"
      },
      {
        "duration": 95,
        "start_time": "2022-03-23T10:09:50.471Z"
      },
      {
        "duration": 19,
        "start_time": "2022-03-23T10:09:50.568Z"
      },
      {
        "duration": 13,
        "start_time": "2022-03-23T10:09:50.589Z"
      },
      {
        "duration": 30,
        "start_time": "2022-03-23T10:09:50.604Z"
      },
      {
        "duration": 33,
        "start_time": "2022-03-23T10:09:50.636Z"
      },
      {
        "duration": 19,
        "start_time": "2022-03-23T10:09:50.671Z"
      },
      {
        "duration": 15,
        "start_time": "2022-03-23T10:09:50.692Z"
      },
      {
        "duration": 25,
        "start_time": "2022-03-23T10:09:50.709Z"
      },
      {
        "duration": 157,
        "start_time": "2022-03-23T10:09:50.738Z"
      },
      {
        "duration": 160,
        "start_time": "2022-03-23T10:10:02.661Z"
      },
      {
        "duration": 3,
        "start_time": "2022-03-23T10:10:54.155Z"
      },
      {
        "duration": 143,
        "start_time": "2022-03-23T10:18:50.912Z"
      },
      {
        "duration": 4,
        "start_time": "2022-03-23T10:18:59.655Z"
      },
      {
        "duration": 42,
        "start_time": "2022-03-23T10:18:59.661Z"
      },
      {
        "duration": 14,
        "start_time": "2022-03-23T10:18:59.705Z"
      },
      {
        "duration": 22,
        "start_time": "2022-03-23T10:18:59.721Z"
      },
      {
        "duration": 27,
        "start_time": "2022-03-23T10:18:59.746Z"
      },
      {
        "duration": 18,
        "start_time": "2022-03-23T10:18:59.775Z"
      },
      {
        "duration": 27,
        "start_time": "2022-03-23T10:18:59.794Z"
      },
      {
        "duration": 185,
        "start_time": "2022-03-23T10:18:59.823Z"
      },
      {
        "duration": 29,
        "start_time": "2022-03-23T10:19:00.010Z"
      },
      {
        "duration": 113,
        "start_time": "2022-03-23T10:19:00.041Z"
      },
      {
        "duration": 26,
        "start_time": "2022-03-23T10:19:00.163Z"
      },
      {
        "duration": 138,
        "start_time": "2022-03-23T10:19:00.191Z"
      },
      {
        "duration": 32,
        "start_time": "2022-03-23T10:19:00.331Z"
      },
      {
        "duration": 60,
        "start_time": "2022-03-23T10:19:00.366Z"
      },
      {
        "duration": 44,
        "start_time": "2022-03-23T10:19:00.427Z"
      },
      {
        "duration": 91,
        "start_time": "2022-03-23T10:19:00.473Z"
      },
      {
        "duration": 19,
        "start_time": "2022-03-23T10:19:00.566Z"
      },
      {
        "duration": 51,
        "start_time": "2022-03-23T10:19:00.587Z"
      },
      {
        "duration": 29,
        "start_time": "2022-03-23T10:19:00.639Z"
      },
      {
        "duration": 8,
        "start_time": "2022-03-23T10:19:00.670Z"
      },
      {
        "duration": 62,
        "start_time": "2022-03-23T10:19:00.679Z"
      },
      {
        "duration": 22,
        "start_time": "2022-03-23T10:19:00.743Z"
      },
      {
        "duration": 124,
        "start_time": "2022-03-23T10:19:00.767Z"
      },
      {
        "duration": 72,
        "start_time": "2022-03-23T10:19:00.892Z"
      },
      {
        "duration": 9,
        "start_time": "2022-03-23T10:19:00.965Z"
      },
      {
        "duration": 25,
        "start_time": "2022-03-23T10:19:00.976Z"
      },
      {
        "duration": 9,
        "start_time": "2022-03-23T10:19:01.003Z"
      },
      {
        "duration": 25,
        "start_time": "2022-03-23T10:19:01.014Z"
      },
      {
        "duration": 21,
        "start_time": "2022-03-23T10:19:01.042Z"
      },
      {
        "duration": 13,
        "start_time": "2022-03-23T10:19:01.065Z"
      },
      {
        "duration": 20,
        "start_time": "2022-03-23T10:19:01.080Z"
      },
      {
        "duration": 10,
        "start_time": "2022-03-23T10:19:01.102Z"
      },
      {
        "duration": 121,
        "start_time": "2022-03-23T10:19:01.114Z"
      },
      {
        "duration": 17,
        "start_time": "2022-03-23T10:19:01.237Z"
      },
      {
        "duration": 14,
        "start_time": "2022-03-23T10:19:01.263Z"
      },
      {
        "duration": 24,
        "start_time": "2022-03-23T10:19:01.279Z"
      },
      {
        "duration": 10,
        "start_time": "2022-03-23T10:19:01.305Z"
      },
      {
        "duration": 48,
        "start_time": "2022-03-23T10:19:01.317Z"
      },
      {
        "duration": 11,
        "start_time": "2022-03-23T10:19:01.367Z"
      },
      {
        "duration": 21,
        "start_time": "2022-03-23T10:19:01.381Z"
      },
      {
        "duration": 186,
        "start_time": "2022-03-23T10:19:01.407Z"
      },
      {
        "duration": 162,
        "start_time": "2022-03-23T10:19:13.465Z"
      },
      {
        "duration": 265,
        "start_time": "2022-03-23T10:55:18.791Z"
      },
      {
        "duration": 173,
        "start_time": "2022-03-23T10:55:31.259Z"
      },
      {
        "duration": 161,
        "start_time": "2022-03-23T10:56:02.508Z"
      },
      {
        "duration": 166,
        "start_time": "2022-03-23T10:56:14.521Z"
      },
      {
        "duration": 171,
        "start_time": "2022-03-23T11:03:28.050Z"
      },
      {
        "duration": 163,
        "start_time": "2022-03-23T12:26:23.002Z"
      },
      {
        "duration": 175,
        "start_time": "2022-03-23T12:26:53.453Z"
      },
      {
        "duration": 168,
        "start_time": "2022-03-23T12:27:11.070Z"
      },
      {
        "duration": 111,
        "start_time": "2022-03-23T12:28:14.510Z"
      },
      {
        "duration": 102,
        "start_time": "2022-03-23T12:28:51.085Z"
      },
      {
        "duration": 108,
        "start_time": "2022-03-23T12:29:02.340Z"
      },
      {
        "duration": 228,
        "start_time": "2022-03-23T12:29:38.862Z"
      },
      {
        "duration": 108,
        "start_time": "2022-03-23T12:37:06.139Z"
      },
      {
        "duration": 1612,
        "start_time": "2022-03-24T09:52:12.249Z"
      },
      {
        "duration": 34,
        "start_time": "2022-03-24T09:52:13.864Z"
      },
      {
        "duration": 13,
        "start_time": "2022-03-24T09:52:13.901Z"
      },
      {
        "duration": 12,
        "start_time": "2022-03-24T09:52:13.916Z"
      },
      {
        "duration": 18,
        "start_time": "2022-03-24T09:52:13.931Z"
      },
      {
        "duration": 21,
        "start_time": "2022-03-24T09:52:13.952Z"
      },
      {
        "duration": 33,
        "start_time": "2022-03-24T09:52:13.975Z"
      },
      {
        "duration": 251,
        "start_time": "2022-03-24T09:52:14.011Z"
      },
      {
        "duration": 43,
        "start_time": "2022-03-24T09:52:14.264Z"
      },
      {
        "duration": 120,
        "start_time": "2022-03-24T09:52:14.310Z"
      },
      {
        "duration": 27,
        "start_time": "2022-03-24T09:52:14.432Z"
      },
      {
        "duration": 154,
        "start_time": "2022-03-24T09:52:14.461Z"
      },
      {
        "duration": 24,
        "start_time": "2022-03-24T09:52:14.617Z"
      },
      {
        "duration": 90,
        "start_time": "2022-03-24T09:52:14.645Z"
      },
      {
        "duration": 28,
        "start_time": "2022-03-24T09:52:14.736Z"
      },
      {
        "duration": 125,
        "start_time": "2022-03-24T09:52:14.766Z"
      },
      {
        "duration": 21,
        "start_time": "2022-03-24T09:52:14.901Z"
      },
      {
        "duration": 78,
        "start_time": "2022-03-24T09:52:14.924Z"
      },
      {
        "duration": 19,
        "start_time": "2022-03-24T09:52:15.004Z"
      },
      {
        "duration": 45,
        "start_time": "2022-03-24T09:52:15.025Z"
      },
      {
        "duration": 100,
        "start_time": "2022-03-24T09:52:15.072Z"
      },
      {
        "duration": 12,
        "start_time": "2022-03-24T09:52:15.173Z"
      },
      {
        "duration": 144,
        "start_time": "2022-03-24T09:52:15.186Z"
      },
      {
        "duration": 84,
        "start_time": "2022-03-24T09:52:15.331Z"
      },
      {
        "duration": 10,
        "start_time": "2022-03-24T09:52:15.417Z"
      },
      {
        "duration": 48,
        "start_time": "2022-03-24T09:52:15.428Z"
      },
      {
        "duration": 30,
        "start_time": "2022-03-24T09:52:15.478Z"
      },
      {
        "duration": 39,
        "start_time": "2022-03-24T09:52:15.511Z"
      },
      {
        "duration": 46,
        "start_time": "2022-03-24T09:52:15.552Z"
      },
      {
        "duration": 15,
        "start_time": "2022-03-24T09:52:15.601Z"
      },
      {
        "duration": 39,
        "start_time": "2022-03-24T09:52:15.618Z"
      },
      {
        "duration": 14,
        "start_time": "2022-03-24T09:52:15.659Z"
      },
      {
        "duration": 136,
        "start_time": "2022-03-24T09:52:15.675Z"
      },
      {
        "duration": 21,
        "start_time": "2022-03-24T09:52:15.813Z"
      },
      {
        "duration": 21,
        "start_time": "2022-03-24T09:52:15.837Z"
      },
      {
        "duration": 70,
        "start_time": "2022-03-24T09:52:15.860Z"
      },
      {
        "duration": 12,
        "start_time": "2022-03-24T09:52:15.932Z"
      },
      {
        "duration": 16,
        "start_time": "2022-03-24T09:52:15.946Z"
      },
      {
        "duration": 42,
        "start_time": "2022-03-24T09:52:15.964Z"
      },
      {
        "duration": 13,
        "start_time": "2022-03-24T09:52:16.009Z"
      },
      {
        "duration": 228,
        "start_time": "2022-03-24T09:52:16.027Z"
      },
      {
        "duration": 130,
        "start_time": "2022-03-24T09:52:16.257Z"
      },
      {
        "duration": 214,
        "start_time": "2022-03-24T09:52:16.389Z"
      },
      {
        "duration": 145,
        "start_time": "2022-03-24T09:52:16.605Z"
      },
      {
        "duration": 196,
        "start_time": "2022-03-24T09:52:16.752Z"
      },
      {
        "duration": 141,
        "start_time": "2022-03-24T09:52:16.950Z"
      },
      {
        "duration": 13,
        "start_time": "2022-03-24T09:52:17.100Z"
      },
      {
        "duration": 12,
        "start_time": "2022-03-24T09:52:45.327Z"
      },
      {
        "duration": 14,
        "start_time": "2022-03-24T09:53:16.020Z"
      },
      {
        "duration": 9,
        "start_time": "2022-03-24T09:53:26.641Z"
      },
      {
        "duration": 13,
        "start_time": "2022-03-24T09:54:25.076Z"
      },
      {
        "duration": 4,
        "start_time": "2022-03-24T09:54:30.130Z"
      },
      {
        "duration": 179,
        "start_time": "2022-03-24T09:54:30.136Z"
      },
      {
        "duration": 160,
        "start_time": "2022-03-24T09:54:30.317Z"
      },
      {
        "duration": 47,
        "start_time": "2022-03-24T09:54:30.479Z"
      },
      {
        "duration": 50,
        "start_time": "2022-03-24T09:54:30.529Z"
      },
      {
        "duration": 45,
        "start_time": "2022-03-24T09:54:30.581Z"
      },
      {
        "duration": 45,
        "start_time": "2022-03-24T09:54:30.627Z"
      },
      {
        "duration": 196,
        "start_time": "2022-03-24T09:54:30.674Z"
      },
      {
        "duration": 38,
        "start_time": "2022-03-24T09:54:30.872Z"
      },
      {
        "duration": 137,
        "start_time": "2022-03-24T09:54:30.912Z"
      },
      {
        "duration": 37,
        "start_time": "2022-03-24T09:54:31.054Z"
      },
      {
        "duration": 147,
        "start_time": "2022-03-24T09:54:31.100Z"
      },
      {
        "duration": 27,
        "start_time": "2022-03-24T09:54:31.250Z"
      },
      {
        "duration": 99,
        "start_time": "2022-03-24T09:54:31.279Z"
      },
      {
        "duration": 39,
        "start_time": "2022-03-24T09:54:31.380Z"
      },
      {
        "duration": 255,
        "start_time": "2022-03-24T09:54:31.422Z"
      },
      {
        "duration": 26,
        "start_time": "2022-03-24T09:54:31.679Z"
      },
      {
        "duration": 69,
        "start_time": "2022-03-24T09:54:31.707Z"
      },
      {
        "duration": 16,
        "start_time": "2022-03-24T09:54:31.778Z"
      },
      {
        "duration": 12,
        "start_time": "2022-03-24T09:54:31.796Z"
      },
      {
        "duration": 72,
        "start_time": "2022-03-24T09:54:31.810Z"
      },
      {
        "duration": 25,
        "start_time": "2022-03-24T09:54:31.883Z"
      },
      {
        "duration": 128,
        "start_time": "2022-03-24T09:54:31.910Z"
      },
      {
        "duration": 81,
        "start_time": "2022-03-24T09:54:32.040Z"
      },
      {
        "duration": 13,
        "start_time": "2022-03-24T09:54:32.123Z"
      },
      {
        "duration": 30,
        "start_time": "2022-03-24T09:54:32.138Z"
      },
      {
        "duration": 47,
        "start_time": "2022-03-24T09:54:32.170Z"
      },
      {
        "duration": 41,
        "start_time": "2022-03-24T09:54:32.219Z"
      },
      {
        "duration": 60,
        "start_time": "2022-03-24T09:54:32.265Z"
      },
      {
        "duration": 27,
        "start_time": "2022-03-24T09:54:32.327Z"
      },
      {
        "duration": 99,
        "start_time": "2022-03-24T09:54:32.356Z"
      },
      {
        "duration": 11,
        "start_time": "2022-03-24T09:54:32.457Z"
      },
      {
        "duration": 120,
        "start_time": "2022-03-24T09:54:32.470Z"
      },
      {
        "duration": 24,
        "start_time": "2022-03-24T09:54:32.592Z"
      },
      {
        "duration": 16,
        "start_time": "2022-03-24T09:54:32.618Z"
      },
      {
        "duration": 26,
        "start_time": "2022-03-24T09:54:32.635Z"
      },
      {
        "duration": 42,
        "start_time": "2022-03-24T09:54:32.664Z"
      },
      {
        "duration": 30,
        "start_time": "2022-03-24T09:54:32.709Z"
      },
      {
        "duration": 15,
        "start_time": "2022-03-24T09:54:32.741Z"
      },
      {
        "duration": 15,
        "start_time": "2022-03-24T09:54:32.759Z"
      },
      {
        "duration": 217,
        "start_time": "2022-03-24T09:54:32.776Z"
      },
      {
        "duration": 227,
        "start_time": "2022-03-24T09:54:33.000Z"
      },
      {
        "duration": 209,
        "start_time": "2022-03-24T09:54:33.229Z"
      },
      {
        "duration": 144,
        "start_time": "2022-03-24T09:54:33.440Z"
      },
      {
        "duration": 207,
        "start_time": "2022-03-24T09:54:33.586Z"
      },
      {
        "duration": 139,
        "start_time": "2022-03-24T09:54:33.795Z"
      },
      {
        "duration": 15,
        "start_time": "2022-03-24T09:54:33.936Z"
      },
      {
        "duration": 17,
        "start_time": "2022-03-24T09:54:47.833Z"
      },
      {
        "duration": 15,
        "start_time": "2022-03-24T09:54:53.666Z"
      },
      {
        "duration": 21,
        "start_time": "2022-03-24T10:06:07.042Z"
      },
      {
        "duration": 20,
        "start_time": "2022-03-24T10:06:12.190Z"
      },
      {
        "duration": 4,
        "start_time": "2022-03-24T10:06:16.954Z"
      },
      {
        "duration": 50,
        "start_time": "2022-03-24T10:06:16.960Z"
      },
      {
        "duration": 12,
        "start_time": "2022-03-24T10:06:17.012Z"
      },
      {
        "duration": 10,
        "start_time": "2022-03-24T10:06:17.026Z"
      },
      {
        "duration": 36,
        "start_time": "2022-03-24T10:06:17.038Z"
      },
      {
        "duration": 26,
        "start_time": "2022-03-24T10:06:17.076Z"
      },
      {
        "duration": 16,
        "start_time": "2022-03-24T10:06:17.104Z"
      },
      {
        "duration": 185,
        "start_time": "2022-03-24T10:06:17.122Z"
      },
      {
        "duration": 27,
        "start_time": "2022-03-24T10:06:17.310Z"
      },
      {
        "duration": 118,
        "start_time": "2022-03-24T10:06:17.339Z"
      },
      {
        "duration": 42,
        "start_time": "2022-03-24T10:06:17.459Z"
      },
      {
        "duration": 141,
        "start_time": "2022-03-24T10:06:17.503Z"
      },
      {
        "duration": 24,
        "start_time": "2022-03-24T10:06:17.645Z"
      },
      {
        "duration": 97,
        "start_time": "2022-03-24T10:06:17.671Z"
      },
      {
        "duration": 33,
        "start_time": "2022-03-24T10:06:17.770Z"
      },
      {
        "duration": 99,
        "start_time": "2022-03-24T10:06:17.805Z"
      },
      {
        "duration": 24,
        "start_time": "2022-03-24T10:06:17.906Z"
      },
      {
        "duration": 77,
        "start_time": "2022-03-24T10:06:17.933Z"
      },
      {
        "duration": 18,
        "start_time": "2022-03-24T10:06:18.012Z"
      },
      {
        "duration": 10,
        "start_time": "2022-03-24T10:06:18.032Z"
      },
      {
        "duration": 86,
        "start_time": "2022-03-24T10:06:18.044Z"
      },
      {
        "duration": 12,
        "start_time": "2022-03-24T10:06:18.132Z"
      },
      {
        "duration": 134,
        "start_time": "2022-03-24T10:06:18.145Z"
      },
      {
        "duration": 77,
        "start_time": "2022-03-24T10:06:18.284Z"
      },
      {
        "duration": 10,
        "start_time": "2022-03-24T10:06:18.363Z"
      },
      {
        "duration": 33,
        "start_time": "2022-03-24T10:06:18.375Z"
      },
      {
        "duration": 23,
        "start_time": "2022-03-24T10:06:18.410Z"
      },
      {
        "duration": 33,
        "start_time": "2022-03-24T10:06:18.435Z"
      },
      {
        "duration": 50,
        "start_time": "2022-03-24T10:06:18.469Z"
      },
      {
        "duration": 23,
        "start_time": "2022-03-24T10:06:18.521Z"
      },
      {
        "duration": 35,
        "start_time": "2022-03-24T10:06:18.546Z"
      },
      {
        "duration": 8,
        "start_time": "2022-03-24T10:06:44.327Z"
      },
      {
        "duration": 23,
        "start_time": "2022-03-24T10:06:48.966Z"
      },
      {
        "duration": 3,
        "start_time": "2022-03-24T10:06:56.469Z"
      },
      {
        "duration": 31,
        "start_time": "2022-03-24T10:06:56.474Z"
      },
      {
        "duration": 11,
        "start_time": "2022-03-24T10:06:56.506Z"
      },
      {
        "duration": 10,
        "start_time": "2022-03-24T10:06:56.520Z"
      },
      {
        "duration": 18,
        "start_time": "2022-03-24T10:06:56.531Z"
      },
      {
        "duration": 6,
        "start_time": "2022-03-24T10:06:56.551Z"
      },
      {
        "duration": 45,
        "start_time": "2022-03-24T10:06:56.559Z"
      },
      {
        "duration": 168,
        "start_time": "2022-03-24T10:06:56.605Z"
      },
      {
        "duration": 34,
        "start_time": "2022-03-24T10:06:56.776Z"
      },
      {
        "duration": 115,
        "start_time": "2022-03-24T10:06:56.812Z"
      },
      {
        "duration": 29,
        "start_time": "2022-03-24T10:06:56.929Z"
      },
      {
        "duration": 153,
        "start_time": "2022-03-24T10:06:56.960Z"
      },
      {
        "duration": 22,
        "start_time": "2022-03-24T10:06:57.116Z"
      },
      {
        "duration": 86,
        "start_time": "2022-03-24T10:06:57.140Z"
      },
      {
        "duration": 27,
        "start_time": "2022-03-24T10:06:57.228Z"
      },
      {
        "duration": 114,
        "start_time": "2022-03-24T10:06:57.257Z"
      },
      {
        "duration": 34,
        "start_time": "2022-03-24T10:06:57.373Z"
      },
      {
        "duration": 57,
        "start_time": "2022-03-24T10:06:57.410Z"
      },
      {
        "duration": 15,
        "start_time": "2022-03-24T10:06:57.469Z"
      },
      {
        "duration": 20,
        "start_time": "2022-03-24T10:06:57.487Z"
      },
      {
        "duration": 71,
        "start_time": "2022-03-24T10:06:57.510Z"
      },
      {
        "duration": 13,
        "start_time": "2022-03-24T10:06:57.602Z"
      },
      {
        "duration": 133,
        "start_time": "2022-03-24T10:06:57.618Z"
      },
      {
        "duration": 85,
        "start_time": "2022-03-24T10:06:57.755Z"
      },
      {
        "duration": 10,
        "start_time": "2022-03-24T10:06:57.842Z"
      },
      {
        "duration": 15,
        "start_time": "2022-03-24T10:06:57.853Z"
      },
      {
        "duration": 8,
        "start_time": "2022-03-24T10:06:57.869Z"
      },
      {
        "duration": 11,
        "start_time": "2022-03-24T10:06:57.902Z"
      },
      {
        "duration": 22,
        "start_time": "2022-03-24T10:06:57.915Z"
      },
      {
        "duration": 11,
        "start_time": "2022-03-24T10:06:57.940Z"
      },
      {
        "duration": 47,
        "start_time": "2022-03-24T10:06:57.953Z"
      },
      {
        "duration": 22,
        "start_time": "2022-03-24T10:07:09.865Z"
      },
      {
        "duration": 4,
        "start_time": "2022-03-24T10:07:14.233Z"
      },
      {
        "duration": 34,
        "start_time": "2022-03-24T10:07:14.240Z"
      },
      {
        "duration": 13,
        "start_time": "2022-03-24T10:07:14.276Z"
      },
      {
        "duration": 17,
        "start_time": "2022-03-24T10:07:14.292Z"
      },
      {
        "duration": 19,
        "start_time": "2022-03-24T10:07:14.311Z"
      },
      {
        "duration": 13,
        "start_time": "2022-03-24T10:07:14.332Z"
      },
      {
        "duration": 13,
        "start_time": "2022-03-24T10:07:14.347Z"
      },
      {
        "duration": 168,
        "start_time": "2022-03-24T10:07:14.362Z"
      },
      {
        "duration": 27,
        "start_time": "2022-03-24T10:07:14.532Z"
      },
      {
        "duration": 126,
        "start_time": "2022-03-24T10:07:14.561Z"
      },
      {
        "duration": 28,
        "start_time": "2022-03-24T10:07:14.701Z"
      },
      {
        "duration": 150,
        "start_time": "2022-03-24T10:07:14.731Z"
      },
      {
        "duration": 33,
        "start_time": "2022-03-24T10:07:14.884Z"
      },
      {
        "duration": 84,
        "start_time": "2022-03-24T10:07:14.919Z"
      },
      {
        "duration": 32,
        "start_time": "2022-03-24T10:07:15.005Z"
      },
      {
        "duration": 112,
        "start_time": "2022-03-24T10:07:15.039Z"
      },
      {
        "duration": 21,
        "start_time": "2022-03-24T10:07:15.153Z"
      },
      {
        "duration": 71,
        "start_time": "2022-03-24T10:07:15.177Z"
      },
      {
        "duration": 16,
        "start_time": "2022-03-24T10:07:15.250Z"
      },
      {
        "duration": 9,
        "start_time": "2022-03-24T10:07:15.269Z"
      },
      {
        "duration": 85,
        "start_time": "2022-03-24T10:07:15.280Z"
      },
      {
        "duration": 38,
        "start_time": "2022-03-24T10:07:15.368Z"
      },
      {
        "duration": 123,
        "start_time": "2022-03-24T10:07:15.408Z"
      },
      {
        "duration": 78,
        "start_time": "2022-03-24T10:07:15.533Z"
      },
      {
        "duration": 10,
        "start_time": "2022-03-24T10:07:15.613Z"
      },
      {
        "duration": 13,
        "start_time": "2022-03-24T10:07:15.625Z"
      },
      {
        "duration": 11,
        "start_time": "2022-03-24T10:07:15.640Z"
      },
      {
        "duration": 17,
        "start_time": "2022-03-24T10:07:15.653Z"
      },
      {
        "duration": 38,
        "start_time": "2022-03-24T10:07:15.672Z"
      },
      {
        "duration": 10,
        "start_time": "2022-03-24T10:07:15.712Z"
      },
      {
        "duration": 22,
        "start_time": "2022-03-24T10:07:15.724Z"
      },
      {
        "duration": 2844,
        "start_time": "2022-03-24T10:08:19.784Z"
      },
      {
        "duration": 3,
        "start_time": "2022-03-24T10:08:31.036Z"
      },
      {
        "duration": 40,
        "start_time": "2022-03-24T10:08:31.042Z"
      },
      {
        "duration": 19,
        "start_time": "2022-03-24T10:08:31.085Z"
      },
      {
        "duration": 48,
        "start_time": "2022-03-24T10:08:31.106Z"
      },
      {
        "duration": 37,
        "start_time": "2022-03-24T10:08:31.157Z"
      },
      {
        "duration": 23,
        "start_time": "2022-03-24T10:08:31.198Z"
      },
      {
        "duration": 23,
        "start_time": "2022-03-24T10:08:31.223Z"
      },
      {
        "duration": 192,
        "start_time": "2022-03-24T10:08:31.249Z"
      },
      {
        "duration": 30,
        "start_time": "2022-03-24T10:08:31.443Z"
      },
      {
        "duration": 197,
        "start_time": "2022-03-24T10:08:31.475Z"
      },
      {
        "duration": 44,
        "start_time": "2022-03-24T10:08:31.673Z"
      },
      {
        "duration": 146,
        "start_time": "2022-03-24T10:08:31.719Z"
      },
      {
        "duration": 38,
        "start_time": "2022-03-24T10:08:31.868Z"
      },
      {
        "duration": 75,
        "start_time": "2022-03-24T10:08:31.908Z"
      },
      {
        "duration": 45,
        "start_time": "2022-03-24T10:08:31.986Z"
      },
      {
        "duration": 114,
        "start_time": "2022-03-24T10:08:32.034Z"
      },
      {
        "duration": 23,
        "start_time": "2022-03-24T10:08:32.150Z"
      },
      {
        "duration": 67,
        "start_time": "2022-03-24T10:08:32.175Z"
      },
      {
        "duration": 17,
        "start_time": "2022-03-24T10:08:32.245Z"
      },
      {
        "duration": 38,
        "start_time": "2022-03-24T10:08:32.264Z"
      },
      {
        "duration": 64,
        "start_time": "2022-03-24T10:08:32.305Z"
      },
      {
        "duration": 38,
        "start_time": "2022-03-24T10:08:32.371Z"
      },
      {
        "duration": 126,
        "start_time": "2022-03-24T10:08:32.412Z"
      },
      {
        "duration": 85,
        "start_time": "2022-03-24T10:08:32.540Z"
      },
      {
        "duration": 10,
        "start_time": "2022-03-24T10:08:32.627Z"
      },
      {
        "duration": 33,
        "start_time": "2022-03-24T10:08:32.640Z"
      },
      {
        "duration": 32,
        "start_time": "2022-03-24T10:08:32.674Z"
      },
      {
        "duration": 21,
        "start_time": "2022-03-24T10:08:32.708Z"
      },
      {
        "duration": 25,
        "start_time": "2022-03-24T10:08:32.731Z"
      },
      {
        "duration": 43,
        "start_time": "2022-03-24T10:08:32.758Z"
      },
      {
        "duration": 55,
        "start_time": "2022-03-24T10:08:32.803Z"
      },
      {
        "duration": 11,
        "start_time": "2022-03-24T10:08:32.860Z"
      },
      {
        "duration": 123,
        "start_time": "2022-03-24T10:08:32.873Z"
      },
      {
        "duration": 22,
        "start_time": "2022-03-24T10:08:32.998Z"
      },
      {
        "duration": 17,
        "start_time": "2022-03-24T10:08:33.023Z"
      },
      {
        "duration": 60,
        "start_time": "2022-03-24T10:08:33.043Z"
      },
      {
        "duration": 10,
        "start_time": "2022-03-24T10:08:33.109Z"
      },
      {
        "duration": 32,
        "start_time": "2022-03-24T10:08:33.121Z"
      },
      {
        "duration": 18,
        "start_time": "2022-03-24T10:08:33.155Z"
      },
      {
        "duration": 26,
        "start_time": "2022-03-24T10:08:33.176Z"
      },
      {
        "duration": 217,
        "start_time": "2022-03-24T10:08:33.205Z"
      },
      {
        "duration": 171,
        "start_time": "2022-03-24T10:08:33.425Z"
      },
      {
        "duration": 209,
        "start_time": "2022-03-24T10:08:33.598Z"
      },
      {
        "duration": 148,
        "start_time": "2022-03-24T10:08:33.809Z"
      },
      {
        "duration": 203,
        "start_time": "2022-03-24T10:08:33.959Z"
      },
      {
        "duration": 232,
        "start_time": "2022-03-24T10:08:34.164Z"
      },
      {
        "duration": 10,
        "start_time": "2022-03-24T10:08:34.400Z"
      },
      {
        "duration": 14,
        "start_time": "2022-03-24T10:09:21.611Z"
      },
      {
        "duration": 9,
        "start_time": "2022-03-24T10:11:08.378Z"
      },
      {
        "duration": 13,
        "start_time": "2022-03-24T10:11:13.237Z"
      },
      {
        "duration": 9,
        "start_time": "2022-03-24T10:11:44.245Z"
      },
      {
        "duration": 3,
        "start_time": "2022-03-24T10:11:49.870Z"
      },
      {
        "duration": 35,
        "start_time": "2022-03-24T10:11:49.875Z"
      },
      {
        "duration": 11,
        "start_time": "2022-03-24T10:11:49.912Z"
      },
      {
        "duration": 15,
        "start_time": "2022-03-24T10:11:49.926Z"
      },
      {
        "duration": 19,
        "start_time": "2022-03-24T10:11:49.943Z"
      },
      {
        "duration": 39,
        "start_time": "2022-03-24T10:11:49.964Z"
      },
      {
        "duration": 16,
        "start_time": "2022-03-24T10:11:50.005Z"
      },
      {
        "duration": 182,
        "start_time": "2022-03-24T10:11:50.023Z"
      },
      {
        "duration": 30,
        "start_time": "2022-03-24T10:11:50.208Z"
      },
      {
        "duration": 128,
        "start_time": "2022-03-24T10:11:50.239Z"
      },
      {
        "duration": 42,
        "start_time": "2022-03-24T10:11:50.368Z"
      },
      {
        "duration": 145,
        "start_time": "2022-03-24T10:11:50.412Z"
      },
      {
        "duration": 24,
        "start_time": "2022-03-24T10:11:50.559Z"
      },
      {
        "duration": 107,
        "start_time": "2022-03-24T10:11:50.585Z"
      },
      {
        "duration": 28,
        "start_time": "2022-03-24T10:11:50.694Z"
      },
      {
        "duration": 101,
        "start_time": "2022-03-24T10:11:50.724Z"
      },
      {
        "duration": 21,
        "start_time": "2022-03-24T10:11:50.827Z"
      },
      {
        "duration": 74,
        "start_time": "2022-03-24T10:11:50.850Z"
      },
      {
        "duration": 17,
        "start_time": "2022-03-24T10:11:50.926Z"
      },
      {
        "duration": 10,
        "start_time": "2022-03-24T10:11:50.944Z"
      },
      {
        "duration": 87,
        "start_time": "2022-03-24T10:11:50.955Z"
      },
      {
        "duration": 34,
        "start_time": "2022-03-24T10:11:51.044Z"
      },
      {
        "duration": 113,
        "start_time": "2022-03-24T10:11:51.079Z"
      },
      {
        "duration": 66,
        "start_time": "2022-03-24T10:11:51.200Z"
      },
      {
        "duration": 10,
        "start_time": "2022-03-24T10:11:51.268Z"
      },
      {
        "duration": 30,
        "start_time": "2022-03-24T10:11:51.280Z"
      },
      {
        "duration": 9,
        "start_time": "2022-03-24T10:11:51.311Z"
      },
      {
        "duration": 14,
        "start_time": "2022-03-24T10:11:51.322Z"
      },
      {
        "duration": 26,
        "start_time": "2022-03-24T10:11:51.338Z"
      },
      {
        "duration": 12,
        "start_time": "2022-03-24T10:11:51.366Z"
      },
      {
        "duration": 22,
        "start_time": "2022-03-24T10:11:51.402Z"
      },
      {
        "duration": 11,
        "start_time": "2022-03-24T10:11:51.426Z"
      },
      {
        "duration": 129,
        "start_time": "2022-03-24T10:11:51.439Z"
      },
      {
        "duration": 34,
        "start_time": "2022-03-24T10:11:51.571Z"
      },
      {
        "duration": 15,
        "start_time": "2022-03-24T10:11:51.606Z"
      },
      {
        "duration": 25,
        "start_time": "2022-03-24T10:11:51.623Z"
      },
      {
        "duration": 10,
        "start_time": "2022-03-24T10:11:51.650Z"
      },
      {
        "duration": 43,
        "start_time": "2022-03-24T10:11:51.662Z"
      },
      {
        "duration": 40,
        "start_time": "2022-03-24T10:11:51.707Z"
      },
      {
        "duration": 32,
        "start_time": "2022-03-24T10:11:51.749Z"
      },
      {
        "duration": 195,
        "start_time": "2022-03-24T10:11:51.783Z"
      },
      {
        "duration": 133,
        "start_time": "2022-03-24T10:11:51.979Z"
      },
      {
        "duration": 193,
        "start_time": "2022-03-24T10:11:52.115Z"
      },
      {
        "duration": 153,
        "start_time": "2022-03-24T10:11:52.310Z"
      },
      {
        "duration": 197,
        "start_time": "2022-03-24T10:11:52.465Z"
      },
      {
        "duration": 138,
        "start_time": "2022-03-24T10:11:52.664Z"
      },
      {
        "duration": 10,
        "start_time": "2022-03-24T10:11:52.804Z"
      },
      {
        "duration": 13,
        "start_time": "2022-03-24T10:11:58.334Z"
      },
      {
        "duration": 18,
        "start_time": "2022-03-24T10:12:12.797Z"
      },
      {
        "duration": 16,
        "start_time": "2022-03-24T10:12:20.116Z"
      },
      {
        "duration": 13,
        "start_time": "2022-03-24T10:13:12.186Z"
      },
      {
        "duration": 12,
        "start_time": "2022-03-24T10:15:15.459Z"
      },
      {
        "duration": 23,
        "start_time": "2022-03-24T10:35:45.302Z"
      },
      {
        "duration": 19,
        "start_time": "2022-03-24T10:35:51.754Z"
      },
      {
        "duration": 9,
        "start_time": "2022-03-24T10:42:48.098Z"
      },
      {
        "duration": 7,
        "start_time": "2022-03-24T10:43:58.853Z"
      },
      {
        "duration": 8,
        "start_time": "2022-03-24T10:44:08.334Z"
      },
      {
        "duration": 4,
        "start_time": "2022-03-24T11:05:51.511Z"
      },
      {
        "duration": 27,
        "start_time": "2022-03-24T11:05:51.517Z"
      },
      {
        "duration": 12,
        "start_time": "2022-03-24T11:05:51.546Z"
      },
      {
        "duration": 19,
        "start_time": "2022-03-24T11:05:51.560Z"
      },
      {
        "duration": 16,
        "start_time": "2022-03-24T11:05:51.601Z"
      },
      {
        "duration": 10,
        "start_time": "2022-03-24T11:05:51.619Z"
      },
      {
        "duration": 8,
        "start_time": "2022-03-24T11:05:51.631Z"
      },
      {
        "duration": 205,
        "start_time": "2022-03-24T11:05:51.641Z"
      },
      {
        "duration": 29,
        "start_time": "2022-03-24T11:05:51.849Z"
      },
      {
        "duration": 115,
        "start_time": "2022-03-24T11:05:51.901Z"
      },
      {
        "duration": 32,
        "start_time": "2022-03-24T11:05:52.019Z"
      },
      {
        "duration": 170,
        "start_time": "2022-03-24T11:05:52.054Z"
      },
      {
        "duration": 28,
        "start_time": "2022-03-24T11:05:52.226Z"
      },
      {
        "duration": 99,
        "start_time": "2022-03-24T11:05:52.256Z"
      },
      {
        "duration": 44,
        "start_time": "2022-03-24T11:05:52.358Z"
      },
      {
        "duration": 102,
        "start_time": "2022-03-24T11:05:52.404Z"
      },
      {
        "duration": 22,
        "start_time": "2022-03-24T11:05:52.508Z"
      },
      {
        "duration": 79,
        "start_time": "2022-03-24T11:05:52.532Z"
      },
      {
        "duration": 17,
        "start_time": "2022-03-24T11:05:52.613Z"
      },
      {
        "duration": 49,
        "start_time": "2022-03-24T11:05:52.632Z"
      },
      {
        "duration": 68,
        "start_time": "2022-03-24T11:05:52.682Z"
      },
      {
        "duration": 12,
        "start_time": "2022-03-24T11:05:52.752Z"
      },
      {
        "duration": 125,
        "start_time": "2022-03-24T11:05:52.766Z"
      },
      {
        "duration": 69,
        "start_time": "2022-03-24T11:05:52.903Z"
      },
      {
        "duration": 29,
        "start_time": "2022-03-24T11:05:52.974Z"
      },
      {
        "duration": 14,
        "start_time": "2022-03-24T11:05:53.005Z"
      },
      {
        "duration": 5,
        "start_time": "2022-03-24T11:05:53.022Z"
      },
      {
        "duration": 19,
        "start_time": "2022-03-24T11:05:53.029Z"
      },
      {
        "duration": 58,
        "start_time": "2022-03-24T11:05:53.050Z"
      },
      {
        "duration": 13,
        "start_time": "2022-03-24T11:05:53.110Z"
      },
      {
        "duration": 23,
        "start_time": "2022-03-24T11:05:53.125Z"
      },
      {
        "duration": 11,
        "start_time": "2022-03-24T11:05:53.150Z"
      },
      {
        "duration": 148,
        "start_time": "2022-03-24T11:05:53.163Z"
      },
      {
        "duration": 23,
        "start_time": "2022-03-24T11:05:53.313Z"
      },
      {
        "duration": 16,
        "start_time": "2022-03-24T11:05:53.338Z"
      },
      {
        "duration": 60,
        "start_time": "2022-03-24T11:05:53.356Z"
      },
      {
        "duration": 11,
        "start_time": "2022-03-24T11:05:53.418Z"
      },
      {
        "duration": 22,
        "start_time": "2022-03-24T11:05:53.431Z"
      },
      {
        "duration": 29,
        "start_time": "2022-03-24T11:05:53.455Z"
      },
      {
        "duration": 22,
        "start_time": "2022-03-24T11:05:53.486Z"
      },
      {
        "duration": 206,
        "start_time": "2022-03-24T11:05:53.510Z"
      },
      {
        "duration": 132,
        "start_time": "2022-03-24T11:05:53.718Z"
      },
      {
        "duration": 311,
        "start_time": "2022-03-24T11:05:53.852Z"
      },
      {
        "duration": 147,
        "start_time": "2022-03-24T11:05:54.166Z"
      },
      {
        "duration": 194,
        "start_time": "2022-03-24T11:05:54.315Z"
      },
      {
        "duration": 136,
        "start_time": "2022-03-24T11:05:54.511Z"
      },
      {
        "duration": 15,
        "start_time": "2022-03-24T11:05:54.649Z"
      },
      {
        "duration": 36,
        "start_time": "2022-03-24T11:05:54.666Z"
      },
      {
        "duration": 6,
        "start_time": "2022-03-24T11:05:54.704Z"
      },
      {
        "duration": 15,
        "start_time": "2022-03-24T11:05:54.712Z"
      },
      {
        "duration": 14,
        "start_time": "2022-03-24T11:05:54.729Z"
      },
      {
        "duration": 6,
        "start_time": "2022-03-24T11:20:37.555Z"
      },
      {
        "duration": 6,
        "start_time": "2022-03-24T11:24:28.470Z"
      },
      {
        "duration": 6,
        "start_time": "2022-03-24T11:24:34.563Z"
      },
      {
        "duration": 9,
        "start_time": "2022-03-24T11:35:21.690Z"
      },
      {
        "duration": 3,
        "start_time": "2022-03-24T11:36:26.625Z"
      },
      {
        "duration": 34,
        "start_time": "2022-03-24T11:36:26.630Z"
      },
      {
        "duration": 12,
        "start_time": "2022-03-24T11:36:26.666Z"
      },
      {
        "duration": 22,
        "start_time": "2022-03-24T11:36:26.680Z"
      },
      {
        "duration": 24,
        "start_time": "2022-03-24T11:36:26.705Z"
      },
      {
        "duration": 25,
        "start_time": "2022-03-24T11:36:26.731Z"
      },
      {
        "duration": 15,
        "start_time": "2022-03-24T11:36:26.758Z"
      },
      {
        "duration": 198,
        "start_time": "2022-03-24T11:36:26.774Z"
      },
      {
        "duration": 47,
        "start_time": "2022-03-24T11:36:26.974Z"
      },
      {
        "duration": 192,
        "start_time": "2022-03-24T11:36:27.024Z"
      },
      {
        "duration": 43,
        "start_time": "2022-03-24T11:36:27.221Z"
      },
      {
        "duration": 161,
        "start_time": "2022-03-24T11:36:27.267Z"
      },
      {
        "duration": 24,
        "start_time": "2022-03-24T11:36:27.431Z"
      },
      {
        "duration": 92,
        "start_time": "2022-03-24T11:36:27.457Z"
      },
      {
        "duration": 29,
        "start_time": "2022-03-24T11:36:27.551Z"
      },
      {
        "duration": 114,
        "start_time": "2022-03-24T11:36:27.582Z"
      },
      {
        "duration": 21,
        "start_time": "2022-03-24T11:36:27.699Z"
      },
      {
        "duration": 79,
        "start_time": "2022-03-24T11:36:27.722Z"
      },
      {
        "duration": 21,
        "start_time": "2022-03-24T11:36:27.804Z"
      },
      {
        "duration": 13,
        "start_time": "2022-03-24T11:36:27.828Z"
      },
      {
        "duration": 119,
        "start_time": "2022-03-24T11:36:27.843Z"
      },
      {
        "duration": 16,
        "start_time": "2022-03-24T11:36:27.964Z"
      },
      {
        "duration": 186,
        "start_time": "2022-03-24T11:36:27.983Z"
      },
      {
        "duration": 89,
        "start_time": "2022-03-24T11:36:28.172Z"
      },
      {
        "duration": 10,
        "start_time": "2022-03-24T11:36:28.263Z"
      },
      {
        "duration": 33,
        "start_time": "2022-03-24T11:36:28.275Z"
      },
      {
        "duration": 6,
        "start_time": "2022-03-24T11:36:28.310Z"
      },
      {
        "duration": 27,
        "start_time": "2022-03-24T11:36:28.318Z"
      },
      {
        "duration": 17,
        "start_time": "2022-03-24T11:36:28.349Z"
      },
      {
        "duration": 38,
        "start_time": "2022-03-24T11:36:28.368Z"
      },
      {
        "duration": 28,
        "start_time": "2022-03-24T11:36:28.408Z"
      },
      {
        "duration": 14,
        "start_time": "2022-03-24T11:36:28.439Z"
      },
      {
        "duration": 203,
        "start_time": "2022-03-24T11:36:28.456Z"
      },
      {
        "duration": 43,
        "start_time": "2022-03-24T11:36:28.662Z"
      },
      {
        "duration": 16,
        "start_time": "2022-03-24T11:36:28.707Z"
      },
      {
        "duration": 27,
        "start_time": "2022-03-24T11:36:28.725Z"
      },
      {
        "duration": 48,
        "start_time": "2022-03-24T11:36:28.754Z"
      },
      {
        "duration": 15,
        "start_time": "2022-03-24T11:36:28.804Z"
      },
      {
        "duration": 13,
        "start_time": "2022-03-24T11:36:28.821Z"
      },
      {
        "duration": 15,
        "start_time": "2022-03-24T11:36:28.836Z"
      },
      {
        "duration": 229,
        "start_time": "2022-03-24T11:36:28.853Z"
      },
      {
        "duration": 135,
        "start_time": "2022-03-24T11:36:29.084Z"
      },
      {
        "duration": 318,
        "start_time": "2022-03-24T11:36:29.220Z"
      },
      {
        "duration": 244,
        "start_time": "2022-03-24T11:36:29.541Z"
      },
      {
        "duration": 205,
        "start_time": "2022-03-24T11:36:29.788Z"
      },
      {
        "duration": 153,
        "start_time": "2022-03-24T11:36:29.995Z"
      },
      {
        "duration": 18,
        "start_time": "2022-03-24T11:36:30.150Z"
      },
      {
        "duration": 33,
        "start_time": "2022-03-24T11:36:30.182Z"
      },
      {
        "duration": 40,
        "start_time": "2022-03-24T11:36:30.217Z"
      },
      {
        "duration": 47,
        "start_time": "2022-03-24T11:36:30.260Z"
      },
      {
        "duration": 42,
        "start_time": "2022-03-24T11:36:30.309Z"
      },
      {
        "duration": 51,
        "start_time": "2022-03-24T11:36:30.353Z"
      },
      {
        "duration": 39,
        "start_time": "2022-03-24T11:36:30.406Z"
      },
      {
        "duration": 1387,
        "start_time": "2022-03-24T11:53:49.313Z"
      },
      {
        "duration": 30,
        "start_time": "2022-03-24T11:53:50.702Z"
      },
      {
        "duration": 14,
        "start_time": "2022-03-24T11:53:50.734Z"
      },
      {
        "duration": 12,
        "start_time": "2022-03-24T11:53:50.750Z"
      },
      {
        "duration": 51,
        "start_time": "2022-03-24T11:53:50.764Z"
      },
      {
        "duration": 46,
        "start_time": "2022-03-24T11:53:50.817Z"
      },
      {
        "duration": 13,
        "start_time": "2022-03-24T11:53:50.866Z"
      },
      {
        "duration": 190,
        "start_time": "2022-03-24T11:53:50.881Z"
      },
      {
        "duration": 34,
        "start_time": "2022-03-24T11:53:51.073Z"
      },
      {
        "duration": 129,
        "start_time": "2022-03-24T11:53:51.111Z"
      },
      {
        "duration": 31,
        "start_time": "2022-03-24T11:53:51.241Z"
      },
      {
        "duration": 161,
        "start_time": "2022-03-24T11:53:51.274Z"
      },
      {
        "duration": 25,
        "start_time": "2022-03-24T11:53:51.437Z"
      },
      {
        "duration": 97,
        "start_time": "2022-03-24T11:53:51.465Z"
      },
      {
        "duration": 43,
        "start_time": "2022-03-24T11:53:51.564Z"
      },
      {
        "duration": 107,
        "start_time": "2022-03-24T11:53:51.609Z"
      },
      {
        "duration": 22,
        "start_time": "2022-03-24T11:53:51.718Z"
      },
      {
        "duration": 79,
        "start_time": "2022-03-24T11:53:51.742Z"
      },
      {
        "duration": 17,
        "start_time": "2022-03-24T11:53:51.823Z"
      },
      {
        "duration": 11,
        "start_time": "2022-03-24T11:53:51.842Z"
      },
      {
        "duration": 125,
        "start_time": "2022-03-24T11:53:51.855Z"
      },
      {
        "duration": 30,
        "start_time": "2022-03-24T11:53:51.983Z"
      },
      {
        "duration": 137,
        "start_time": "2022-03-24T11:53:52.015Z"
      },
      {
        "duration": 79,
        "start_time": "2022-03-24T11:53:52.154Z"
      },
      {
        "duration": 11,
        "start_time": "2022-03-24T11:53:52.235Z"
      },
      {
        "duration": 16,
        "start_time": "2022-03-24T11:53:52.248Z"
      },
      {
        "duration": 36,
        "start_time": "2022-03-24T11:53:52.266Z"
      },
      {
        "duration": 14,
        "start_time": "2022-03-24T11:53:52.306Z"
      },
      {
        "duration": 24,
        "start_time": "2022-03-24T11:53:52.322Z"
      },
      {
        "duration": 11,
        "start_time": "2022-03-24T11:53:52.348Z"
      },
      {
        "duration": 49,
        "start_time": "2022-03-24T11:53:52.360Z"
      },
      {
        "duration": 11,
        "start_time": "2022-03-24T11:53:52.411Z"
      },
      {
        "duration": 200,
        "start_time": "2022-03-24T11:53:52.424Z"
      },
      {
        "duration": 30,
        "start_time": "2022-03-24T11:53:52.626Z"
      },
      {
        "duration": 48,
        "start_time": "2022-03-24T11:53:52.659Z"
      },
      {
        "duration": 42,
        "start_time": "2022-03-24T11:53:52.710Z"
      },
      {
        "duration": 10,
        "start_time": "2022-03-24T11:53:52.754Z"
      },
      {
        "duration": 39,
        "start_time": "2022-03-24T11:53:52.765Z"
      },
      {
        "duration": 16,
        "start_time": "2022-03-24T11:53:52.806Z"
      },
      {
        "duration": 16,
        "start_time": "2022-03-24T11:53:52.824Z"
      },
      {
        "duration": 250,
        "start_time": "2022-03-24T11:53:52.842Z"
      },
      {
        "duration": 137,
        "start_time": "2022-03-24T11:53:53.094Z"
      },
      {
        "duration": 217,
        "start_time": "2022-03-24T11:53:53.232Z"
      },
      {
        "duration": 162,
        "start_time": "2022-03-24T11:53:53.452Z"
      },
      {
        "duration": 200,
        "start_time": "2022-03-24T11:53:53.616Z"
      },
      {
        "duration": 226,
        "start_time": "2022-03-24T11:53:53.818Z"
      },
      {
        "duration": 21,
        "start_time": "2022-03-24T11:53:54.047Z"
      },
      {
        "duration": 44,
        "start_time": "2022-03-24T11:53:54.071Z"
      },
      {
        "duration": 8,
        "start_time": "2022-03-24T11:53:54.118Z"
      },
      {
        "duration": 11,
        "start_time": "2022-03-24T11:53:54.129Z"
      },
      {
        "duration": 6,
        "start_time": "2022-03-24T11:53:54.142Z"
      },
      {
        "duration": 52,
        "start_time": "2022-03-24T11:53:54.151Z"
      },
      {
        "duration": 16,
        "start_time": "2022-03-24T11:53:54.205Z"
      },
      {
        "duration": 1958,
        "start_time": "2022-03-24T17:15:39.736Z"
      },
      {
        "duration": 77,
        "start_time": "2022-03-24T17:15:41.697Z"
      },
      {
        "duration": 18,
        "start_time": "2022-03-24T17:15:41.778Z"
      },
      {
        "duration": 10,
        "start_time": "2022-03-24T17:15:41.800Z"
      },
      {
        "duration": 49,
        "start_time": "2022-03-24T17:15:41.813Z"
      },
      {
        "duration": 13,
        "start_time": "2022-03-24T17:15:41.864Z"
      },
      {
        "duration": 14,
        "start_time": "2022-03-24T17:15:41.880Z"
      },
      {
        "duration": 335,
        "start_time": "2022-03-24T17:15:41.897Z"
      },
      {
        "duration": 41,
        "start_time": "2022-03-24T17:15:42.234Z"
      },
      {
        "duration": 182,
        "start_time": "2022-03-24T17:15:42.280Z"
      },
      {
        "duration": 47,
        "start_time": "2022-03-24T17:15:42.465Z"
      },
      {
        "duration": 192,
        "start_time": "2022-03-24T17:15:42.516Z"
      },
      {
        "duration": 46,
        "start_time": "2022-03-24T17:15:42.710Z"
      },
      {
        "duration": 135,
        "start_time": "2022-03-24T17:15:42.758Z"
      },
      {
        "duration": 49,
        "start_time": "2022-03-24T17:15:42.895Z"
      },
      {
        "duration": 128,
        "start_time": "2022-03-24T17:15:42.947Z"
      },
      {
        "duration": 26,
        "start_time": "2022-03-24T17:15:43.077Z"
      },
      {
        "duration": 89,
        "start_time": "2022-03-24T17:15:43.105Z"
      },
      {
        "duration": 26,
        "start_time": "2022-03-24T17:15:43.196Z"
      },
      {
        "duration": 28,
        "start_time": "2022-03-24T17:15:43.225Z"
      },
      {
        "duration": 108,
        "start_time": "2022-03-24T17:15:43.256Z"
      },
      {
        "duration": 16,
        "start_time": "2022-03-24T17:15:43.366Z"
      },
      {
        "duration": 173,
        "start_time": "2022-03-24T17:15:43.386Z"
      },
      {
        "duration": 102,
        "start_time": "2022-03-24T17:15:43.561Z"
      },
      {
        "duration": 16,
        "start_time": "2022-03-24T17:15:43.665Z"
      },
      {
        "duration": 15,
        "start_time": "2022-03-24T17:15:43.684Z"
      },
      {
        "duration": 8,
        "start_time": "2022-03-24T17:15:43.701Z"
      },
      {
        "duration": 16,
        "start_time": "2022-03-24T17:15:43.744Z"
      },
      {
        "duration": 21,
        "start_time": "2022-03-24T17:15:43.762Z"
      },
      {
        "duration": 15,
        "start_time": "2022-03-24T17:15:43.786Z"
      },
      {
        "duration": 65,
        "start_time": "2022-03-24T17:15:43.803Z"
      },
      {
        "duration": 13,
        "start_time": "2022-03-24T17:15:43.870Z"
      },
      {
        "duration": 197,
        "start_time": "2022-03-24T17:15:43.886Z"
      },
      {
        "duration": 28,
        "start_time": "2022-03-24T17:15:44.085Z"
      },
      {
        "duration": 42,
        "start_time": "2022-03-24T17:15:44.118Z"
      },
      {
        "duration": 43,
        "start_time": "2022-03-24T17:15:44.163Z"
      },
      {
        "duration": 45,
        "start_time": "2022-03-24T17:15:44.209Z"
      },
      {
        "duration": 12,
        "start_time": "2022-03-24T17:15:44.257Z"
      },
      {
        "duration": 15,
        "start_time": "2022-03-24T17:15:44.272Z"
      },
      {
        "duration": 14,
        "start_time": "2022-03-24T17:15:44.290Z"
      },
      {
        "duration": 346,
        "start_time": "2022-03-24T17:15:44.306Z"
      },
      {
        "duration": 261,
        "start_time": "2022-03-24T17:15:44.655Z"
      },
      {
        "duration": 301,
        "start_time": "2022-03-24T17:15:44.919Z"
      },
      {
        "duration": 221,
        "start_time": "2022-03-24T17:15:45.222Z"
      },
      {
        "duration": 299,
        "start_time": "2022-03-24T17:15:45.446Z"
      },
      {
        "duration": 206,
        "start_time": "2022-03-24T17:15:45.748Z"
      },
      {
        "duration": 22,
        "start_time": "2022-03-24T17:15:45.956Z"
      },
      {
        "duration": 33,
        "start_time": "2022-03-24T17:15:45.981Z"
      },
      {
        "duration": 32,
        "start_time": "2022-03-24T17:15:46.016Z"
      },
      {
        "duration": 13,
        "start_time": "2022-03-24T17:15:46.051Z"
      },
      {
        "duration": 10,
        "start_time": "2022-03-24T17:15:46.067Z"
      },
      {
        "duration": 15,
        "start_time": "2022-03-24T17:15:46.080Z"
      },
      {
        "duration": 9,
        "start_time": "2022-03-24T17:15:46.097Z"
      },
      {
        "duration": 16,
        "start_time": "2022-03-24T17:15:46.143Z"
      },
      {
        "duration": 21,
        "start_time": "2022-03-24T17:16:02.371Z"
      },
      {
        "duration": 20,
        "start_time": "2022-03-24T17:17:12.613Z"
      },
      {
        "duration": 11,
        "start_time": "2022-03-24T17:40:47.453Z"
      },
      {
        "duration": 23,
        "start_time": "2022-03-24T17:41:36.452Z"
      },
      {
        "duration": 8,
        "start_time": "2022-03-24T17:41:49.225Z"
      },
      {
        "duration": 9,
        "start_time": "2022-03-24T17:44:39.849Z"
      },
      {
        "duration": 8,
        "start_time": "2022-03-24T17:52:27.361Z"
      },
      {
        "duration": 8,
        "start_time": "2022-03-24T17:52:43.059Z"
      },
      {
        "duration": 174,
        "start_time": "2022-03-24T17:59:33.835Z"
      },
      {
        "duration": 8,
        "start_time": "2022-03-24T17:59:54.382Z"
      },
      {
        "duration": 8,
        "start_time": "2022-03-24T18:00:14.993Z"
      },
      {
        "duration": 1684,
        "start_time": "2022-03-24T18:05:51.189Z"
      },
      {
        "duration": 103,
        "start_time": "2022-03-24T18:05:52.876Z"
      },
      {
        "duration": 16,
        "start_time": "2022-03-24T18:05:52.982Z"
      },
      {
        "duration": 10,
        "start_time": "2022-03-24T18:05:53.002Z"
      },
      {
        "duration": 38,
        "start_time": "2022-03-24T18:05:53.014Z"
      },
      {
        "duration": 9,
        "start_time": "2022-03-24T18:05:53.054Z"
      },
      {
        "duration": 9,
        "start_time": "2022-03-24T18:05:53.067Z"
      },
      {
        "duration": 256,
        "start_time": "2022-03-24T18:05:53.079Z"
      },
      {
        "duration": 66,
        "start_time": "2022-03-24T18:05:53.342Z"
      },
      {
        "duration": 180,
        "start_time": "2022-03-24T18:05:53.414Z"
      },
      {
        "duration": 56,
        "start_time": "2022-03-24T18:05:53.598Z"
      },
      {
        "duration": 196,
        "start_time": "2022-03-24T18:05:53.659Z"
      },
      {
        "duration": 35,
        "start_time": "2022-03-24T18:05:53.858Z"
      },
      {
        "duration": 149,
        "start_time": "2022-03-24T18:05:53.896Z"
      },
      {
        "duration": 40,
        "start_time": "2022-03-24T18:05:54.047Z"
      },
      {
        "duration": 190,
        "start_time": "2022-03-24T18:05:54.090Z"
      },
      {
        "duration": 26,
        "start_time": "2022-03-24T18:05:54.282Z"
      },
      {
        "duration": 106,
        "start_time": "2022-03-24T18:05:54.310Z"
      },
      {
        "duration": 39,
        "start_time": "2022-03-24T18:05:54.419Z"
      },
      {
        "duration": 16,
        "start_time": "2022-03-24T18:05:54.461Z"
      },
      {
        "duration": 115,
        "start_time": "2022-03-24T18:05:54.480Z"
      },
      {
        "duration": 16,
        "start_time": "2022-03-24T18:05:54.598Z"
      },
      {
        "duration": 252,
        "start_time": "2022-03-24T18:05:54.617Z"
      },
      {
        "duration": 114,
        "start_time": "2022-03-24T18:05:54.872Z"
      },
      {
        "duration": 12,
        "start_time": "2022-03-24T18:05:54.989Z"
      },
      {
        "duration": 21,
        "start_time": "2022-03-24T18:05:55.006Z"
      },
      {
        "duration": 17,
        "start_time": "2022-03-24T18:05:55.045Z"
      },
      {
        "duration": 22,
        "start_time": "2022-03-24T18:05:55.069Z"
      },
      {
        "duration": 23,
        "start_time": "2022-03-24T18:05:55.095Z"
      },
      {
        "duration": 33,
        "start_time": "2022-03-24T18:05:55.121Z"
      },
      {
        "duration": 33,
        "start_time": "2022-03-24T18:05:55.159Z"
      },
      {
        "duration": 14,
        "start_time": "2022-03-24T18:05:55.195Z"
      },
      {
        "duration": 208,
        "start_time": "2022-03-24T18:05:55.212Z"
      },
      {
        "duration": 42,
        "start_time": "2022-03-24T18:05:55.422Z"
      },
      {
        "duration": 22,
        "start_time": "2022-03-24T18:05:55.466Z"
      },
      {
        "duration": 71,
        "start_time": "2022-03-24T18:05:55.492Z"
      },
      {
        "duration": 11,
        "start_time": "2022-03-24T18:05:55.566Z"
      },
      {
        "duration": 15,
        "start_time": "2022-03-24T18:05:55.580Z"
      },
      {
        "duration": 13,
        "start_time": "2022-03-24T18:05:55.598Z"
      },
      {
        "duration": 18,
        "start_time": "2022-03-24T18:05:55.650Z"
      },
      {
        "duration": 364,
        "start_time": "2022-03-24T18:05:55.671Z"
      },
      {
        "duration": 196,
        "start_time": "2022-03-24T18:05:56.038Z"
      },
      {
        "duration": 315,
        "start_time": "2022-03-24T18:05:56.236Z"
      },
      {
        "duration": 218,
        "start_time": "2022-03-24T18:05:56.553Z"
      },
      {
        "duration": 316,
        "start_time": "2022-03-24T18:05:56.774Z"
      },
      {
        "duration": 218,
        "start_time": "2022-03-24T18:05:57.093Z"
      },
      {
        "duration": 30,
        "start_time": "2022-03-24T18:05:57.313Z"
      },
      {
        "duration": 24,
        "start_time": "2022-03-24T18:05:57.346Z"
      },
      {
        "duration": 8,
        "start_time": "2022-03-24T18:05:57.372Z"
      },
      {
        "duration": 14,
        "start_time": "2022-03-24T18:05:57.383Z"
      },
      {
        "duration": 50,
        "start_time": "2022-03-24T18:05:57.400Z"
      },
      {
        "duration": 19,
        "start_time": "2022-03-24T18:05:57.453Z"
      },
      {
        "duration": 12,
        "start_time": "2022-03-24T18:05:57.475Z"
      },
      {
        "duration": 28,
        "start_time": "2022-03-24T18:05:57.489Z"
      },
      {
        "duration": 50,
        "start_time": "2022-03-24T18:05:57.520Z"
      },
      {
        "duration": 11,
        "start_time": "2022-03-24T18:05:57.573Z"
      },
      {
        "duration": 21,
        "start_time": "2022-03-24T18:05:57.585Z"
      },
      {
        "duration": 10,
        "start_time": "2022-03-24T18:05:57.609Z"
      },
      {
        "duration": 31,
        "start_time": "2022-03-24T18:05:57.621Z"
      },
      {
        "duration": 26,
        "start_time": "2022-03-24T18:05:57.655Z"
      },
      {
        "duration": 1381,
        "start_time": "2022-03-25T08:27:10.475Z"
      },
      {
        "duration": 27,
        "start_time": "2022-03-25T08:27:11.858Z"
      },
      {
        "duration": 10,
        "start_time": "2022-03-25T08:27:11.887Z"
      },
      {
        "duration": 10,
        "start_time": "2022-03-25T08:27:11.899Z"
      },
      {
        "duration": 14,
        "start_time": "2022-03-25T08:27:11.910Z"
      },
      {
        "duration": 5,
        "start_time": "2022-03-25T08:27:11.925Z"
      },
      {
        "duration": 6,
        "start_time": "2022-03-25T08:27:11.932Z"
      },
      {
        "duration": 164,
        "start_time": "2022-03-25T08:27:11.939Z"
      },
      {
        "duration": 24,
        "start_time": "2022-03-25T08:27:12.104Z"
      },
      {
        "duration": 122,
        "start_time": "2022-03-25T08:27:12.131Z"
      },
      {
        "duration": 29,
        "start_time": "2022-03-25T08:27:12.254Z"
      },
      {
        "duration": 149,
        "start_time": "2022-03-25T08:27:12.285Z"
      },
      {
        "duration": 32,
        "start_time": "2022-03-25T08:27:12.436Z"
      },
      {
        "duration": 70,
        "start_time": "2022-03-25T08:27:12.471Z"
      },
      {
        "duration": 40,
        "start_time": "2022-03-25T08:27:12.543Z"
      },
      {
        "duration": 98,
        "start_time": "2022-03-25T08:27:12.585Z"
      },
      {
        "duration": 20,
        "start_time": "2022-03-25T08:27:12.685Z"
      },
      {
        "duration": 58,
        "start_time": "2022-03-25T08:27:12.706Z"
      },
      {
        "duration": 14,
        "start_time": "2022-03-25T08:27:12.766Z"
      },
      {
        "duration": 9,
        "start_time": "2022-03-25T08:27:12.782Z"
      },
      {
        "duration": 82,
        "start_time": "2022-03-25T08:27:12.793Z"
      },
      {
        "duration": 12,
        "start_time": "2022-03-25T08:27:12.877Z"
      },
      {
        "duration": 142,
        "start_time": "2022-03-25T08:27:12.890Z"
      },
      {
        "duration": 78,
        "start_time": "2022-03-25T08:27:13.034Z"
      },
      {
        "duration": 9,
        "start_time": "2022-03-25T08:27:13.113Z"
      },
      {
        "duration": 12,
        "start_time": "2022-03-25T08:27:13.123Z"
      },
      {
        "duration": 4,
        "start_time": "2022-03-25T08:27:13.137Z"
      },
      {
        "duration": 12,
        "start_time": "2022-03-25T08:27:13.165Z"
      },
      {
        "duration": 17,
        "start_time": "2022-03-25T08:27:13.178Z"
      },
      {
        "duration": 11,
        "start_time": "2022-03-25T08:27:13.197Z"
      },
      {
        "duration": 20,
        "start_time": "2022-03-25T08:27:13.210Z"
      },
      {
        "duration": 39,
        "start_time": "2022-03-25T08:27:13.233Z"
      },
      {
        "duration": 109,
        "start_time": "2022-03-25T08:27:13.274Z"
      },
      {
        "duration": 19,
        "start_time": "2022-03-25T08:27:13.385Z"
      },
      {
        "duration": 15,
        "start_time": "2022-03-25T08:27:13.405Z"
      },
      {
        "duration": 52,
        "start_time": "2022-03-25T08:27:13.422Z"
      },
      {
        "duration": 15,
        "start_time": "2022-03-25T08:27:13.476Z"
      },
      {
        "duration": 9,
        "start_time": "2022-03-25T08:27:13.493Z"
      },
      {
        "duration": 8,
        "start_time": "2022-03-25T08:27:13.504Z"
      },
      {
        "duration": 8,
        "start_time": "2022-03-25T08:27:13.514Z"
      },
      {
        "duration": 202,
        "start_time": "2022-03-25T08:27:13.524Z"
      },
      {
        "duration": 113,
        "start_time": "2022-03-25T08:27:13.728Z"
      },
      {
        "duration": 163,
        "start_time": "2022-03-25T08:27:13.843Z"
      },
      {
        "duration": 115,
        "start_time": "2022-03-25T08:27:14.007Z"
      },
      {
        "duration": 178,
        "start_time": "2022-03-25T08:27:14.124Z"
      },
      {
        "duration": 119,
        "start_time": "2022-03-25T08:27:14.304Z"
      },
      {
        "duration": 13,
        "start_time": "2022-03-25T08:27:14.425Z"
      },
      {
        "duration": 25,
        "start_time": "2022-03-25T08:27:14.440Z"
      },
      {
        "duration": 9,
        "start_time": "2022-03-25T08:27:14.466Z"
      },
      {
        "duration": 9,
        "start_time": "2022-03-25T08:27:14.476Z"
      },
      {
        "duration": 7,
        "start_time": "2022-03-25T08:27:14.486Z"
      },
      {
        "duration": 9,
        "start_time": "2022-03-25T08:27:14.495Z"
      },
      {
        "duration": 8,
        "start_time": "2022-03-25T08:27:14.505Z"
      },
      {
        "duration": 13,
        "start_time": "2022-03-25T08:27:14.514Z"
      },
      {
        "duration": 36,
        "start_time": "2022-03-25T08:27:14.528Z"
      },
      {
        "duration": 136,
        "start_time": "2022-03-25T08:27:14.565Z"
      },
      {
        "duration": 7,
        "start_time": "2022-03-25T08:27:22.671Z"
      },
      {
        "duration": 5,
        "start_time": "2022-03-25T08:27:43.515Z"
      },
      {
        "duration": 1163,
        "start_time": "2022-03-25T09:17:39.322Z"
      },
      {
        "duration": 25,
        "start_time": "2022-03-25T09:17:40.487Z"
      },
      {
        "duration": 10,
        "start_time": "2022-03-25T09:17:40.514Z"
      },
      {
        "duration": 6,
        "start_time": "2022-03-25T09:17:40.526Z"
      },
      {
        "duration": 29,
        "start_time": "2022-03-25T09:17:40.534Z"
      },
      {
        "duration": 5,
        "start_time": "2022-03-25T09:17:40.564Z"
      },
      {
        "duration": 6,
        "start_time": "2022-03-25T09:17:40.571Z"
      },
      {
        "duration": 153,
        "start_time": "2022-03-25T09:17:40.578Z"
      },
      {
        "duration": 33,
        "start_time": "2022-03-25T09:17:40.733Z"
      },
      {
        "duration": 104,
        "start_time": "2022-03-25T09:17:40.769Z"
      },
      {
        "duration": 24,
        "start_time": "2022-03-25T09:17:40.874Z"
      },
      {
        "duration": 124,
        "start_time": "2022-03-25T09:17:40.899Z"
      },
      {
        "duration": 21,
        "start_time": "2022-03-25T09:17:41.024Z"
      },
      {
        "duration": 71,
        "start_time": "2022-03-25T09:17:41.046Z"
      },
      {
        "duration": 24,
        "start_time": "2022-03-25T09:17:41.119Z"
      },
      {
        "duration": 94,
        "start_time": "2022-03-25T09:17:41.144Z"
      },
      {
        "duration": 27,
        "start_time": "2022-03-25T09:17:41.239Z"
      },
      {
        "duration": 44,
        "start_time": "2022-03-25T09:17:41.267Z"
      },
      {
        "duration": 15,
        "start_time": "2022-03-25T09:17:41.312Z"
      },
      {
        "duration": 7,
        "start_time": "2022-03-25T09:17:41.328Z"
      },
      {
        "duration": 76,
        "start_time": "2022-03-25T09:17:41.337Z"
      },
      {
        "duration": 9,
        "start_time": "2022-03-25T09:17:41.415Z"
      },
      {
        "duration": 111,
        "start_time": "2022-03-25T09:17:41.426Z"
      },
      {
        "duration": 63,
        "start_time": "2022-03-25T09:17:41.538Z"
      },
      {
        "duration": 9,
        "start_time": "2022-03-25T09:17:41.603Z"
      },
      {
        "duration": 11,
        "start_time": "2022-03-25T09:17:41.613Z"
      },
      {
        "duration": 4,
        "start_time": "2022-03-25T09:17:41.625Z"
      },
      {
        "duration": 33,
        "start_time": "2022-03-25T09:17:41.633Z"
      },
      {
        "duration": 13,
        "start_time": "2022-03-25T09:17:41.667Z"
      },
      {
        "duration": 10,
        "start_time": "2022-03-25T09:17:41.681Z"
      },
      {
        "duration": 18,
        "start_time": "2022-03-25T09:17:41.692Z"
      },
      {
        "duration": 9,
        "start_time": "2022-03-25T09:17:41.711Z"
      },
      {
        "duration": 119,
        "start_time": "2022-03-25T09:17:41.722Z"
      },
      {
        "duration": 25,
        "start_time": "2022-03-25T09:17:41.843Z"
      },
      {
        "duration": 12,
        "start_time": "2022-03-25T09:17:41.869Z"
      },
      {
        "duration": 21,
        "start_time": "2022-03-25T09:17:41.882Z"
      },
      {
        "duration": 17,
        "start_time": "2022-03-25T09:17:41.904Z"
      },
      {
        "duration": 9,
        "start_time": "2022-03-25T09:17:41.923Z"
      },
      {
        "duration": 30,
        "start_time": "2022-03-25T09:17:41.934Z"
      },
      {
        "duration": 7,
        "start_time": "2022-03-25T09:17:41.966Z"
      },
      {
        "duration": 171,
        "start_time": "2022-03-25T09:17:41.975Z"
      },
      {
        "duration": 107,
        "start_time": "2022-03-25T09:17:42.148Z"
      },
      {
        "duration": 179,
        "start_time": "2022-03-25T09:17:42.258Z"
      },
      {
        "duration": 113,
        "start_time": "2022-03-25T09:17:42.439Z"
      },
      {
        "duration": 158,
        "start_time": "2022-03-25T09:17:42.555Z"
      },
      {
        "duration": 113,
        "start_time": "2022-03-25T09:17:42.714Z"
      },
      {
        "duration": 12,
        "start_time": "2022-03-25T09:17:42.829Z"
      },
      {
        "duration": 22,
        "start_time": "2022-03-25T09:17:42.843Z"
      },
      {
        "duration": 4,
        "start_time": "2022-03-25T09:17:42.867Z"
      },
      {
        "duration": 7,
        "start_time": "2022-03-25T09:17:42.873Z"
      },
      {
        "duration": 6,
        "start_time": "2022-03-25T09:17:42.881Z"
      },
      {
        "duration": 9,
        "start_time": "2022-03-25T09:17:42.889Z"
      },
      {
        "duration": 7,
        "start_time": "2022-03-25T09:17:42.900Z"
      },
      {
        "duration": 14,
        "start_time": "2022-03-25T09:17:42.908Z"
      },
      {
        "duration": 10,
        "start_time": "2022-03-25T09:17:42.924Z"
      },
      {
        "duration": 5,
        "start_time": "2022-03-25T09:17:42.962Z"
      },
      {
        "duration": 7,
        "start_time": "2022-03-25T09:17:42.969Z"
      },
      {
        "duration": 6,
        "start_time": "2022-03-25T09:17:42.977Z"
      },
      {
        "duration": 10,
        "start_time": "2022-03-25T09:17:42.984Z"
      },
      {
        "duration": 8,
        "start_time": "2022-03-25T09:17:42.995Z"
      },
      {
        "duration": 7,
        "start_time": "2022-03-25T09:17:43.005Z"
      },
      {
        "duration": 15,
        "start_time": "2022-03-25T09:31:52.166Z"
      },
      {
        "duration": 86,
        "start_time": "2022-03-25T09:32:11.483Z"
      },
      {
        "duration": 1343,
        "start_time": "2022-03-25T11:52:17.790Z"
      },
      {
        "duration": 33,
        "start_time": "2022-03-25T11:52:19.134Z"
      },
      {
        "duration": 12,
        "start_time": "2022-03-25T11:52:19.169Z"
      },
      {
        "duration": 24,
        "start_time": "2022-03-25T11:52:19.183Z"
      },
      {
        "duration": 57,
        "start_time": "2022-03-25T11:52:19.209Z"
      },
      {
        "duration": 21,
        "start_time": "2022-03-25T11:52:19.268Z"
      },
      {
        "duration": 36,
        "start_time": "2022-03-25T11:52:19.291Z"
      },
      {
        "duration": 162,
        "start_time": "2022-03-25T11:52:19.329Z"
      },
      {
        "duration": 24,
        "start_time": "2022-03-25T11:52:19.493Z"
      },
      {
        "duration": 115,
        "start_time": "2022-03-25T11:52:19.520Z"
      },
      {
        "duration": 27,
        "start_time": "2022-03-25T11:52:19.638Z"
      },
      {
        "duration": 142,
        "start_time": "2022-03-25T11:52:19.667Z"
      },
      {
        "duration": 31,
        "start_time": "2022-03-25T11:52:19.811Z"
      },
      {
        "duration": 69,
        "start_time": "2022-03-25T11:52:19.844Z"
      },
      {
        "duration": 40,
        "start_time": "2022-03-25T11:52:19.915Z"
      },
      {
        "duration": 102,
        "start_time": "2022-03-25T11:52:19.957Z"
      },
      {
        "duration": 19,
        "start_time": "2022-03-25T11:52:20.061Z"
      },
      {
        "duration": 71,
        "start_time": "2022-03-25T11:52:20.081Z"
      },
      {
        "duration": 15,
        "start_time": "2022-03-25T11:52:20.155Z"
      },
      {
        "duration": 20,
        "start_time": "2022-03-25T11:52:20.172Z"
      },
      {
        "duration": 75,
        "start_time": "2022-03-25T11:52:20.194Z"
      },
      {
        "duration": 11,
        "start_time": "2022-03-25T11:52:20.271Z"
      },
      {
        "duration": 142,
        "start_time": "2022-03-25T11:52:20.284Z"
      },
      {
        "duration": 64,
        "start_time": "2022-03-25T11:52:20.429Z"
      },
      {
        "duration": 9,
        "start_time": "2022-03-25T11:52:20.494Z"
      },
      {
        "duration": 24,
        "start_time": "2022-03-25T11:52:20.505Z"
      },
      {
        "duration": 8,
        "start_time": "2022-03-25T11:52:20.539Z"
      },
      {
        "duration": 19,
        "start_time": "2022-03-25T11:52:20.551Z"
      },
      {
        "duration": 16,
        "start_time": "2022-03-25T11:52:20.571Z"
      },
      {
        "duration": 10,
        "start_time": "2022-03-25T11:52:20.589Z"
      },
      {
        "duration": 26,
        "start_time": "2022-03-25T11:52:20.601Z"
      },
      {
        "duration": 17,
        "start_time": "2022-03-25T11:52:20.628Z"
      },
      {
        "duration": 106,
        "start_time": "2022-03-25T11:52:20.646Z"
      },
      {
        "duration": 18,
        "start_time": "2022-03-25T11:52:20.754Z"
      },
      {
        "duration": 13,
        "start_time": "2022-03-25T11:52:20.774Z"
      },
      {
        "duration": 33,
        "start_time": "2022-03-25T11:52:20.789Z"
      },
      {
        "duration": 8,
        "start_time": "2022-03-25T11:52:20.839Z"
      },
      {
        "duration": 19,
        "start_time": "2022-03-25T11:52:20.849Z"
      },
      {
        "duration": 18,
        "start_time": "2022-03-25T11:52:20.869Z"
      },
      {
        "duration": 32,
        "start_time": "2022-03-25T11:52:20.889Z"
      },
      {
        "duration": 200,
        "start_time": "2022-03-25T11:52:20.922Z"
      },
      {
        "duration": 118,
        "start_time": "2022-03-25T11:52:21.125Z"
      },
      {
        "duration": 194,
        "start_time": "2022-03-25T11:52:21.245Z"
      },
      {
        "duration": 138,
        "start_time": "2022-03-25T11:52:21.441Z"
      },
      {
        "duration": 182,
        "start_time": "2022-03-25T11:52:21.580Z"
      },
      {
        "duration": 125,
        "start_time": "2022-03-25T11:52:21.764Z"
      },
      {
        "duration": 14,
        "start_time": "2022-03-25T11:52:21.891Z"
      },
      {
        "duration": 31,
        "start_time": "2022-03-25T11:52:21.907Z"
      },
      {
        "duration": 6,
        "start_time": "2022-03-25T11:52:21.940Z"
      },
      {
        "duration": 10,
        "start_time": "2022-03-25T11:52:21.947Z"
      },
      {
        "duration": 8,
        "start_time": "2022-03-25T11:52:21.959Z"
      },
      {
        "duration": 10,
        "start_time": "2022-03-25T11:52:21.968Z"
      },
      {
        "duration": 7,
        "start_time": "2022-03-25T11:52:21.980Z"
      },
      {
        "duration": 15,
        "start_time": "2022-03-25T11:52:21.988Z"
      },
      {
        "duration": 40,
        "start_time": "2022-03-25T11:52:22.005Z"
      },
      {
        "duration": 11,
        "start_time": "2022-03-25T11:52:22.047Z"
      },
      {
        "duration": 12,
        "start_time": "2022-03-25T11:52:22.060Z"
      },
      {
        "duration": 14,
        "start_time": "2022-03-25T11:52:22.074Z"
      },
      {
        "duration": 11,
        "start_time": "2022-03-25T11:52:22.089Z"
      },
      {
        "duration": 15,
        "start_time": "2022-03-25T11:52:22.102Z"
      },
      {
        "duration": 21,
        "start_time": "2022-03-25T11:52:22.118Z"
      },
      {
        "duration": 1527,
        "start_time": "2022-03-25T15:18:22.994Z"
      },
      {
        "duration": 49,
        "start_time": "2022-03-25T15:18:24.523Z"
      },
      {
        "duration": 12,
        "start_time": "2022-03-25T15:18:24.574Z"
      },
      {
        "duration": 15,
        "start_time": "2022-03-25T15:18:24.588Z"
      },
      {
        "duration": 29,
        "start_time": "2022-03-25T15:18:24.605Z"
      },
      {
        "duration": 7,
        "start_time": "2022-03-25T15:18:24.636Z"
      },
      {
        "duration": 14,
        "start_time": "2022-03-25T15:18:24.645Z"
      },
      {
        "duration": 176,
        "start_time": "2022-03-25T15:18:24.661Z"
      },
      {
        "duration": 27,
        "start_time": "2022-03-25T15:18:24.838Z"
      },
      {
        "duration": 129,
        "start_time": "2022-03-25T15:18:24.869Z"
      },
      {
        "duration": 27,
        "start_time": "2022-03-25T15:18:25.001Z"
      },
      {
        "duration": 141,
        "start_time": "2022-03-25T15:18:25.030Z"
      },
      {
        "duration": 30,
        "start_time": "2022-03-25T15:18:25.173Z"
      },
      {
        "duration": 64,
        "start_time": "2022-03-25T15:18:25.204Z"
      },
      {
        "duration": 45,
        "start_time": "2022-03-25T15:18:25.270Z"
      },
      {
        "duration": 93,
        "start_time": "2022-03-25T15:18:25.316Z"
      },
      {
        "duration": 19,
        "start_time": "2022-03-25T15:18:25.410Z"
      },
      {
        "duration": 51,
        "start_time": "2022-03-25T15:18:25.431Z"
      },
      {
        "duration": 26,
        "start_time": "2022-03-25T15:18:25.483Z"
      },
      {
        "duration": 8,
        "start_time": "2022-03-25T15:18:25.511Z"
      },
      {
        "duration": 84,
        "start_time": "2022-03-25T15:18:25.521Z"
      },
      {
        "duration": 9,
        "start_time": "2022-03-25T15:18:25.607Z"
      },
      {
        "duration": 119,
        "start_time": "2022-03-25T15:18:25.618Z"
      },
      {
        "duration": 72,
        "start_time": "2022-03-25T15:18:25.738Z"
      },
      {
        "duration": 9,
        "start_time": "2022-03-25T15:18:25.812Z"
      },
      {
        "duration": 16,
        "start_time": "2022-03-25T15:18:25.823Z"
      },
      {
        "duration": 11,
        "start_time": "2022-03-25T15:18:25.841Z"
      },
      {
        "duration": 16,
        "start_time": "2022-03-25T15:18:25.856Z"
      },
      {
        "duration": 29,
        "start_time": "2022-03-25T15:18:25.874Z"
      },
      {
        "duration": 11,
        "start_time": "2022-03-25T15:18:25.905Z"
      },
      {
        "duration": 18,
        "start_time": "2022-03-25T15:18:25.918Z"
      },
      {
        "duration": 12,
        "start_time": "2022-03-25T15:18:25.938Z"
      },
      {
        "duration": 115,
        "start_time": "2022-03-25T15:18:25.952Z"
      },
      {
        "duration": 19,
        "start_time": "2022-03-25T15:18:26.069Z"
      },
      {
        "duration": 24,
        "start_time": "2022-03-25T15:18:26.089Z"
      },
      {
        "duration": 25,
        "start_time": "2022-03-25T15:18:26.115Z"
      },
      {
        "duration": 10,
        "start_time": "2022-03-25T15:18:26.142Z"
      },
      {
        "duration": 20,
        "start_time": "2022-03-25T15:18:26.154Z"
      },
      {
        "duration": 11,
        "start_time": "2022-03-25T15:18:26.202Z"
      },
      {
        "duration": 18,
        "start_time": "2022-03-25T15:18:26.215Z"
      },
      {
        "duration": 198,
        "start_time": "2022-03-25T15:18:26.234Z"
      },
      {
        "duration": 131,
        "start_time": "2022-03-25T15:18:26.433Z"
      },
      {
        "duration": 192,
        "start_time": "2022-03-25T15:18:26.566Z"
      },
      {
        "duration": 134,
        "start_time": "2022-03-25T15:18:26.760Z"
      },
      {
        "duration": 177,
        "start_time": "2022-03-25T15:18:26.896Z"
      },
      {
        "duration": 129,
        "start_time": "2022-03-25T15:18:27.074Z"
      },
      {
        "duration": 14,
        "start_time": "2022-03-25T15:18:27.204Z"
      },
      {
        "duration": 19,
        "start_time": "2022-03-25T15:18:27.220Z"
      },
      {
        "duration": 11,
        "start_time": "2022-03-25T15:18:27.240Z"
      },
      {
        "duration": 9,
        "start_time": "2022-03-25T15:18:27.253Z"
      },
      {
        "duration": 9,
        "start_time": "2022-03-25T15:18:27.264Z"
      },
      {
        "duration": 27,
        "start_time": "2022-03-25T15:18:27.275Z"
      },
      {
        "duration": 6,
        "start_time": "2022-03-25T15:18:27.304Z"
      },
      {
        "duration": 18,
        "start_time": "2022-03-25T15:18:27.311Z"
      },
      {
        "duration": 15,
        "start_time": "2022-03-25T15:18:27.331Z"
      },
      {
        "duration": 11,
        "start_time": "2022-03-25T15:18:27.348Z"
      },
      {
        "duration": 10,
        "start_time": "2022-03-25T15:18:27.361Z"
      },
      {
        "duration": 29,
        "start_time": "2022-03-25T15:18:27.373Z"
      },
      {
        "duration": 8,
        "start_time": "2022-03-25T15:18:27.404Z"
      },
      {
        "duration": 15,
        "start_time": "2022-03-25T15:18:27.413Z"
      },
      {
        "duration": 14,
        "start_time": "2022-03-25T15:18:27.430Z"
      },
      {
        "duration": 147,
        "start_time": "2022-03-27T11:02:28.015Z"
      },
      {
        "duration": 1625,
        "start_time": "2022-03-27T11:08:33.373Z"
      },
      {
        "duration": 32,
        "start_time": "2022-03-27T11:08:35.001Z"
      },
      {
        "duration": 17,
        "start_time": "2022-03-27T11:08:35.035Z"
      },
      {
        "duration": 28,
        "start_time": "2022-03-27T11:08:35.055Z"
      },
      {
        "duration": 21,
        "start_time": "2022-03-27T11:08:35.086Z"
      },
      {
        "duration": 7,
        "start_time": "2022-03-27T11:08:35.109Z"
      },
      {
        "duration": 7,
        "start_time": "2022-03-27T11:08:35.118Z"
      },
      {
        "duration": 222,
        "start_time": "2022-03-27T11:08:35.127Z"
      },
      {
        "duration": 48,
        "start_time": "2022-03-27T11:08:35.352Z"
      },
      {
        "duration": 151,
        "start_time": "2022-03-27T11:08:35.406Z"
      },
      {
        "duration": 44,
        "start_time": "2022-03-27T11:08:35.560Z"
      },
      {
        "duration": 158,
        "start_time": "2022-03-27T11:08:35.607Z"
      },
      {
        "duration": 33,
        "start_time": "2022-03-27T11:08:35.767Z"
      },
      {
        "duration": 112,
        "start_time": "2022-03-27T11:08:35.803Z"
      },
      {
        "duration": 33,
        "start_time": "2022-03-27T11:08:35.917Z"
      },
      {
        "duration": 122,
        "start_time": "2022-03-27T11:08:35.952Z"
      },
      {
        "duration": 24,
        "start_time": "2022-03-27T11:08:36.077Z"
      },
      {
        "duration": 79,
        "start_time": "2022-03-27T11:08:36.103Z"
      },
      {
        "duration": 19,
        "start_time": "2022-03-27T11:08:36.184Z"
      },
      {
        "duration": 12,
        "start_time": "2022-03-27T11:08:36.204Z"
      },
      {
        "duration": 99,
        "start_time": "2022-03-27T11:08:36.218Z"
      },
      {
        "duration": 14,
        "start_time": "2022-03-27T11:08:36.319Z"
      },
      {
        "duration": 155,
        "start_time": "2022-03-27T11:08:36.335Z"
      },
      {
        "duration": 21,
        "start_time": "2022-03-27T11:08:36.492Z"
      },
      {
        "duration": 89,
        "start_time": "2022-03-27T11:09:51.552Z"
      },
      {
        "duration": 91,
        "start_time": "2022-03-27T11:12:35.218Z"
      },
      {
        "duration": 77,
        "start_time": "2022-03-27T11:12:52.695Z"
      },
      {
        "duration": 76,
        "start_time": "2022-03-27T11:13:09.678Z"
      },
      {
        "duration": 76,
        "start_time": "2022-03-27T11:13:26.817Z"
      },
      {
        "duration": 79,
        "start_time": "2022-03-27T11:13:56.859Z"
      },
      {
        "duration": 74,
        "start_time": "2022-03-27T11:14:04.758Z"
      },
      {
        "duration": 13,
        "start_time": "2022-03-27T11:16:42.411Z"
      },
      {
        "duration": 13,
        "start_time": "2022-03-27T11:18:48.606Z"
      },
      {
        "duration": 157,
        "start_time": "2022-03-27T11:20:38.780Z"
      },
      {
        "duration": 4,
        "start_time": "2022-03-27T11:20:43.245Z"
      },
      {
        "duration": 33,
        "start_time": "2022-03-27T11:20:43.251Z"
      },
      {
        "duration": 15,
        "start_time": "2022-03-27T11:20:43.288Z"
      },
      {
        "duration": 7,
        "start_time": "2022-03-27T11:20:43.306Z"
      },
      {
        "duration": 19,
        "start_time": "2022-03-27T11:20:43.316Z"
      },
      {
        "duration": 49,
        "start_time": "2022-03-27T11:20:43.337Z"
      },
      {
        "duration": 10,
        "start_time": "2022-03-27T11:20:43.388Z"
      },
      {
        "duration": 209,
        "start_time": "2022-03-27T11:20:43.400Z"
      },
      {
        "duration": 33,
        "start_time": "2022-03-27T11:20:43.611Z"
      },
      {
        "duration": 152,
        "start_time": "2022-03-27T11:20:43.646Z"
      },
      {
        "duration": 29,
        "start_time": "2022-03-27T11:20:43.802Z"
      },
      {
        "duration": 177,
        "start_time": "2022-03-27T11:20:43.833Z"
      },
      {
        "duration": 28,
        "start_time": "2022-03-27T11:20:44.013Z"
      },
      {
        "duration": 116,
        "start_time": "2022-03-27T11:20:44.044Z"
      },
      {
        "duration": 47,
        "start_time": "2022-03-27T11:20:44.162Z"
      },
      {
        "duration": 113,
        "start_time": "2022-03-27T11:20:44.211Z"
      },
      {
        "duration": 23,
        "start_time": "2022-03-27T11:20:44.326Z"
      },
      {
        "duration": 72,
        "start_time": "2022-03-27T11:20:44.352Z"
      },
      {
        "duration": 19,
        "start_time": "2022-03-27T11:20:44.426Z"
      },
      {
        "duration": 35,
        "start_time": "2022-03-27T11:20:44.447Z"
      },
      {
        "duration": 82,
        "start_time": "2022-03-27T11:20:44.484Z"
      },
      {
        "duration": 16,
        "start_time": "2022-03-27T11:20:44.581Z"
      },
      {
        "duration": 174,
        "start_time": "2022-03-27T11:20:44.600Z"
      },
      {
        "duration": 108,
        "start_time": "2022-03-27T11:20:44.777Z"
      },
      {
        "duration": 15,
        "start_time": "2022-03-27T11:20:44.887Z"
      },
      {
        "duration": 14,
        "start_time": "2022-03-27T11:20:44.904Z"
      },
      {
        "duration": 6,
        "start_time": "2022-03-27T11:20:44.920Z"
      },
      {
        "duration": 57,
        "start_time": "2022-03-27T11:20:44.929Z"
      },
      {
        "duration": 19,
        "start_time": "2022-03-27T11:20:44.992Z"
      },
      {
        "duration": 39,
        "start_time": "2022-03-27T11:20:45.013Z"
      },
      {
        "duration": 29,
        "start_time": "2022-03-27T11:23:41.429Z"
      },
      {
        "duration": 18,
        "start_time": "2022-03-27T11:24:10.914Z"
      },
      {
        "duration": 7,
        "start_time": "2022-03-27T11:24:24.999Z"
      },
      {
        "duration": 9,
        "start_time": "2022-03-27T11:24:41.438Z"
      },
      {
        "duration": 13,
        "start_time": "2022-03-27T11:25:00.909Z"
      },
      {
        "duration": 7,
        "start_time": "2022-03-27T11:25:14.700Z"
      },
      {
        "duration": 18,
        "start_time": "2022-03-27T11:26:14.443Z"
      },
      {
        "duration": 25,
        "start_time": "2022-03-27T11:34:51.268Z"
      },
      {
        "duration": 20,
        "start_time": "2022-03-27T11:36:21.406Z"
      },
      {
        "duration": 5,
        "start_time": "2022-03-27T11:36:34.117Z"
      },
      {
        "duration": 32,
        "start_time": "2022-03-27T11:36:34.125Z"
      },
      {
        "duration": 15,
        "start_time": "2022-03-27T11:36:34.159Z"
      },
      {
        "duration": 14,
        "start_time": "2022-03-27T11:36:34.176Z"
      },
      {
        "duration": 36,
        "start_time": "2022-03-27T11:36:34.192Z"
      },
      {
        "duration": 7,
        "start_time": "2022-03-27T11:36:34.230Z"
      },
      {
        "duration": 7,
        "start_time": "2022-03-27T11:36:34.240Z"
      },
      {
        "duration": 223,
        "start_time": "2022-03-27T11:36:34.250Z"
      },
      {
        "duration": 38,
        "start_time": "2022-03-27T11:36:34.477Z"
      },
      {
        "duration": 134,
        "start_time": "2022-03-27T11:36:34.517Z"
      },
      {
        "duration": 43,
        "start_time": "2022-03-27T11:36:34.653Z"
      },
      {
        "duration": 163,
        "start_time": "2022-03-27T11:36:34.699Z"
      },
      {
        "duration": 43,
        "start_time": "2022-03-27T11:36:34.864Z"
      },
      {
        "duration": 104,
        "start_time": "2022-03-27T11:36:34.910Z"
      },
      {
        "duration": 33,
        "start_time": "2022-03-27T11:36:35.017Z"
      },
      {
        "duration": 132,
        "start_time": "2022-03-27T11:36:35.053Z"
      },
      {
        "duration": 30,
        "start_time": "2022-03-27T11:36:35.188Z"
      },
      {
        "duration": 84,
        "start_time": "2022-03-27T11:36:35.221Z"
      },
      {
        "duration": 19,
        "start_time": "2022-03-27T11:36:35.307Z"
      },
      {
        "duration": 12,
        "start_time": "2022-03-27T11:36:35.329Z"
      },
      {
        "duration": 109,
        "start_time": "2022-03-27T11:36:35.344Z"
      },
      {
        "duration": 13,
        "start_time": "2022-03-27T11:36:35.456Z"
      },
      {
        "duration": 164,
        "start_time": "2022-03-27T11:36:35.471Z"
      },
      {
        "duration": 106,
        "start_time": "2022-03-27T11:36:35.641Z"
      },
      {
        "duration": 13,
        "start_time": "2022-03-27T11:36:35.750Z"
      },
      {
        "duration": 42,
        "start_time": "2022-03-27T11:36:35.765Z"
      },
      {
        "duration": 8,
        "start_time": "2022-03-27T11:36:35.810Z"
      },
      {
        "duration": 17,
        "start_time": "2022-03-27T11:36:35.820Z"
      },
      {
        "duration": 20,
        "start_time": "2022-03-27T11:36:35.839Z"
      },
      {
        "duration": 36,
        "start_time": "2022-03-27T11:36:35.862Z"
      },
      {
        "duration": 8,
        "start_time": "2022-03-27T11:36:35.900Z"
      },
      {
        "duration": 18,
        "start_time": "2022-03-27T11:36:35.911Z"
      },
      {
        "duration": 62,
        "start_time": "2022-03-27T11:36:35.932Z"
      },
      {
        "duration": 21,
        "start_time": "2022-03-27T11:36:35.997Z"
      },
      {
        "duration": 2483,
        "start_time": "2022-03-27T11:39:14.769Z"
      },
      {
        "duration": 4,
        "start_time": "2022-03-27T11:39:28.230Z"
      },
      {
        "duration": 30,
        "start_time": "2022-03-27T11:39:28.240Z"
      },
      {
        "duration": 30,
        "start_time": "2022-03-27T11:39:28.273Z"
      },
      {
        "duration": 13,
        "start_time": "2022-03-27T11:39:28.311Z"
      },
      {
        "duration": 21,
        "start_time": "2022-03-27T11:39:28.327Z"
      },
      {
        "duration": 33,
        "start_time": "2022-03-27T11:39:28.352Z"
      },
      {
        "duration": 13,
        "start_time": "2022-03-27T11:39:28.391Z"
      },
      {
        "duration": 193,
        "start_time": "2022-03-27T11:39:28.406Z"
      },
      {
        "duration": 34,
        "start_time": "2022-03-27T11:39:28.603Z"
      },
      {
        "duration": 154,
        "start_time": "2022-03-27T11:39:28.639Z"
      },
      {
        "duration": 32,
        "start_time": "2022-03-27T11:39:28.795Z"
      },
      {
        "duration": 184,
        "start_time": "2022-03-27T11:39:28.830Z"
      },
      {
        "duration": 28,
        "start_time": "2022-03-27T11:39:29.017Z"
      },
      {
        "duration": 125,
        "start_time": "2022-03-27T11:39:29.047Z"
      },
      {
        "duration": 39,
        "start_time": "2022-03-27T11:39:29.177Z"
      },
      {
        "duration": 124,
        "start_time": "2022-03-27T11:39:29.218Z"
      },
      {
        "duration": 39,
        "start_time": "2022-03-27T11:39:29.345Z"
      },
      {
        "duration": 62,
        "start_time": "2022-03-27T11:39:29.386Z"
      },
      {
        "duration": 41,
        "start_time": "2022-03-27T11:39:29.451Z"
      },
      {
        "duration": 13,
        "start_time": "2022-03-27T11:39:29.494Z"
      },
      {
        "duration": 105,
        "start_time": "2022-03-27T11:39:29.509Z"
      },
      {
        "duration": 15,
        "start_time": "2022-03-27T11:39:29.618Z"
      },
      {
        "duration": 184,
        "start_time": "2022-03-27T11:39:29.636Z"
      },
      {
        "duration": 106,
        "start_time": "2022-03-27T11:39:29.823Z"
      },
      {
        "duration": 12,
        "start_time": "2022-03-27T11:39:29.932Z"
      },
      {
        "duration": 15,
        "start_time": "2022-03-27T11:39:29.947Z"
      },
      {
        "duration": 9,
        "start_time": "2022-03-27T11:39:29.985Z"
      },
      {
        "duration": 28,
        "start_time": "2022-03-27T11:39:29.995Z"
      },
      {
        "duration": 28,
        "start_time": "2022-03-27T11:39:30.026Z"
      },
      {
        "duration": 46,
        "start_time": "2022-03-27T11:39:30.056Z"
      },
      {
        "duration": 7,
        "start_time": "2022-03-27T11:39:30.105Z"
      },
      {
        "duration": 27,
        "start_time": "2022-03-27T11:39:30.114Z"
      },
      {
        "duration": 21,
        "start_time": "2022-03-27T11:39:30.143Z"
      },
      {
        "duration": 37,
        "start_time": "2022-03-27T11:39:30.166Z"
      },
      {
        "duration": 168,
        "start_time": "2022-03-27T11:39:30.206Z"
      },
      {
        "duration": 21,
        "start_time": "2022-03-27T11:39:30.383Z"
      },
      {
        "duration": 4,
        "start_time": "2022-03-27T11:43:16.046Z"
      },
      {
        "duration": 37,
        "start_time": "2022-03-27T11:43:16.052Z"
      },
      {
        "duration": 15,
        "start_time": "2022-03-27T11:43:16.092Z"
      },
      {
        "duration": 7,
        "start_time": "2022-03-27T11:43:16.109Z"
      },
      {
        "duration": 22,
        "start_time": "2022-03-27T11:43:16.119Z"
      },
      {
        "duration": 50,
        "start_time": "2022-03-27T11:43:16.143Z"
      },
      {
        "duration": 18,
        "start_time": "2022-03-27T11:43:16.198Z"
      },
      {
        "duration": 240,
        "start_time": "2022-03-27T11:43:16.219Z"
      },
      {
        "duration": 44,
        "start_time": "2022-03-27T11:43:16.461Z"
      },
      {
        "duration": 140,
        "start_time": "2022-03-27T11:43:16.507Z"
      },
      {
        "duration": 50,
        "start_time": "2022-03-27T11:43:16.653Z"
      },
      {
        "duration": 178,
        "start_time": "2022-03-27T11:43:16.705Z"
      },
      {
        "duration": 38,
        "start_time": "2022-03-27T11:43:16.885Z"
      },
      {
        "duration": 133,
        "start_time": "2022-03-27T11:43:16.925Z"
      },
      {
        "duration": 48,
        "start_time": "2022-03-27T11:43:17.060Z"
      },
      {
        "duration": 127,
        "start_time": "2022-03-27T11:43:17.110Z"
      },
      {
        "duration": 25,
        "start_time": "2022-03-27T11:43:17.239Z"
      },
      {
        "duration": 65,
        "start_time": "2022-03-27T11:43:17.285Z"
      },
      {
        "duration": 41,
        "start_time": "2022-03-27T11:43:17.352Z"
      },
      {
        "duration": 14,
        "start_time": "2022-03-27T11:43:17.395Z"
      },
      {
        "duration": 116,
        "start_time": "2022-03-27T11:43:17.412Z"
      },
      {
        "duration": 14,
        "start_time": "2022-03-27T11:43:17.530Z"
      },
      {
        "duration": 162,
        "start_time": "2022-03-27T11:43:17.546Z"
      },
      {
        "duration": 105,
        "start_time": "2022-03-27T11:43:17.710Z"
      },
      {
        "duration": 12,
        "start_time": "2022-03-27T11:43:17.817Z"
      },
      {
        "duration": 15,
        "start_time": "2022-03-27T11:43:17.832Z"
      },
      {
        "duration": 7,
        "start_time": "2022-03-27T11:43:17.849Z"
      },
      {
        "duration": 38,
        "start_time": "2022-03-27T11:43:17.858Z"
      },
      {
        "duration": 30,
        "start_time": "2022-03-27T11:43:17.904Z"
      },
      {
        "duration": 18,
        "start_time": "2022-03-27T11:43:17.936Z"
      },
      {
        "duration": 34,
        "start_time": "2022-03-27T11:43:17.957Z"
      },
      {
        "duration": 26,
        "start_time": "2022-03-27T11:43:17.993Z"
      },
      {
        "duration": 21,
        "start_time": "2022-03-27T11:43:18.021Z"
      },
      {
        "duration": 41,
        "start_time": "2022-03-27T11:43:18.047Z"
      },
      {
        "duration": 156,
        "start_time": "2022-03-27T11:43:18.091Z"
      },
      {
        "duration": 10,
        "start_time": "2022-03-27T11:43:18.249Z"
      },
      {
        "duration": 23,
        "start_time": "2022-03-27T11:43:18.281Z"
      },
      {
        "duration": 14,
        "start_time": "2022-03-27T11:43:56.356Z"
      },
      {
        "duration": 4,
        "start_time": "2022-03-27T11:49:17.610Z"
      },
      {
        "duration": 37,
        "start_time": "2022-03-27T11:49:17.617Z"
      },
      {
        "duration": 14,
        "start_time": "2022-03-27T11:49:17.657Z"
      },
      {
        "duration": 29,
        "start_time": "2022-03-27T11:49:17.674Z"
      },
      {
        "duration": 23,
        "start_time": "2022-03-27T11:49:17.706Z"
      },
      {
        "duration": 31,
        "start_time": "2022-03-27T11:49:17.731Z"
      },
      {
        "duration": 35,
        "start_time": "2022-03-27T11:49:17.765Z"
      },
      {
        "duration": 199,
        "start_time": "2022-03-27T11:49:17.802Z"
      },
      {
        "duration": 32,
        "start_time": "2022-03-27T11:49:18.003Z"
      },
      {
        "duration": 142,
        "start_time": "2022-03-27T11:49:18.037Z"
      },
      {
        "duration": 32,
        "start_time": "2022-03-27T11:49:18.185Z"
      },
      {
        "duration": 170,
        "start_time": "2022-03-27T11:49:18.219Z"
      },
      {
        "duration": 33,
        "start_time": "2022-03-27T11:49:18.391Z"
      },
      {
        "duration": 110,
        "start_time": "2022-03-27T11:49:18.426Z"
      },
      {
        "duration": 48,
        "start_time": "2022-03-27T11:49:18.539Z"
      },
      {
        "duration": 113,
        "start_time": "2022-03-27T11:49:18.595Z"
      },
      {
        "duration": 24,
        "start_time": "2022-03-27T11:49:18.710Z"
      },
      {
        "duration": 82,
        "start_time": "2022-03-27T11:49:18.737Z"
      },
      {
        "duration": 18,
        "start_time": "2022-03-27T11:49:18.822Z"
      },
      {
        "duration": 11,
        "start_time": "2022-03-27T11:49:18.842Z"
      },
      {
        "duration": 109,
        "start_time": "2022-03-27T11:49:18.856Z"
      },
      {
        "duration": 28,
        "start_time": "2022-03-27T11:49:18.968Z"
      },
      {
        "duration": 153,
        "start_time": "2022-03-27T11:49:18.999Z"
      },
      {
        "duration": 103,
        "start_time": "2022-03-27T11:49:19.155Z"
      },
      {
        "duration": 23,
        "start_time": "2022-03-27T11:49:19.260Z"
      },
      {
        "duration": 14,
        "start_time": "2022-03-27T11:49:19.291Z"
      },
      {
        "duration": 8,
        "start_time": "2022-03-27T11:49:19.307Z"
      },
      {
        "duration": 16,
        "start_time": "2022-03-27T11:49:19.317Z"
      },
      {
        "duration": 60,
        "start_time": "2022-03-27T11:49:19.340Z"
      },
      {
        "duration": 16,
        "start_time": "2022-03-27T11:49:19.403Z"
      },
      {
        "duration": 7,
        "start_time": "2022-03-27T11:49:19.421Z"
      },
      {
        "duration": 15,
        "start_time": "2022-03-27T11:49:19.431Z"
      },
      {
        "duration": 50,
        "start_time": "2022-03-27T11:49:19.449Z"
      },
      {
        "duration": 22,
        "start_time": "2022-03-27T11:49:19.502Z"
      },
      {
        "duration": 187,
        "start_time": "2022-03-27T11:49:19.527Z"
      },
      {
        "duration": 17,
        "start_time": "2022-03-27T11:49:19.716Z"
      },
      {
        "duration": 16,
        "start_time": "2022-03-27T11:49:19.735Z"
      },
      {
        "duration": 26,
        "start_time": "2022-03-27T11:49:19.786Z"
      },
      {
        "duration": 17,
        "start_time": "2022-03-27T11:49:19.815Z"
      },
      {
        "duration": 21,
        "start_time": "2022-03-27T11:49:19.834Z"
      },
      {
        "duration": 25,
        "start_time": "2022-03-27T11:53:48.981Z"
      },
      {
        "duration": 21,
        "start_time": "2022-03-27T11:54:00.085Z"
      },
      {
        "duration": 22,
        "start_time": "2022-03-27T11:54:11.590Z"
      },
      {
        "duration": 12,
        "start_time": "2022-03-27T11:56:25.918Z"
      },
      {
        "duration": 12,
        "start_time": "2022-03-27T11:56:30.427Z"
      },
      {
        "duration": 11,
        "start_time": "2022-03-27T11:56:45.271Z"
      },
      {
        "duration": 12,
        "start_time": "2022-03-27T11:56:45.761Z"
      },
      {
        "duration": 11,
        "start_time": "2022-03-27T11:56:51.121Z"
      },
      {
        "duration": 22,
        "start_time": "2022-03-27T12:04:32.940Z"
      },
      {
        "duration": 25,
        "start_time": "2022-03-27T12:05:27.404Z"
      },
      {
        "duration": 28,
        "start_time": "2022-03-27T12:12:22.242Z"
      },
      {
        "duration": 20,
        "start_time": "2022-03-27T12:12:33.756Z"
      },
      {
        "duration": 18,
        "start_time": "2022-03-27T12:13:38.835Z"
      },
      {
        "duration": 20,
        "start_time": "2022-03-27T12:13:55.542Z"
      },
      {
        "duration": 28,
        "start_time": "2022-03-27T12:14:11.139Z"
      },
      {
        "duration": 16,
        "start_time": "2022-03-27T12:17:31.049Z"
      },
      {
        "duration": 19,
        "start_time": "2022-03-27T12:18:01.423Z"
      },
      {
        "duration": 26,
        "start_time": "2022-03-27T12:19:22.194Z"
      },
      {
        "duration": 5,
        "start_time": "2022-03-27T12:20:20.296Z"
      },
      {
        "duration": 29,
        "start_time": "2022-03-27T12:20:37.357Z"
      },
      {
        "duration": 13,
        "start_time": "2022-03-27T12:21:30.371Z"
      },
      {
        "duration": 11,
        "start_time": "2022-03-27T12:21:37.464Z"
      },
      {
        "duration": 1391,
        "start_time": "2022-03-27T15:13:44.281Z"
      },
      {
        "duration": 49,
        "start_time": "2022-03-27T15:13:45.675Z"
      },
      {
        "duration": 12,
        "start_time": "2022-03-27T15:13:45.726Z"
      },
      {
        "duration": 15,
        "start_time": "2022-03-27T15:13:45.739Z"
      },
      {
        "duration": 18,
        "start_time": "2022-03-27T15:13:45.756Z"
      },
      {
        "duration": 6,
        "start_time": "2022-03-27T15:13:45.776Z"
      },
      {
        "duration": 6,
        "start_time": "2022-03-27T15:13:45.784Z"
      },
      {
        "duration": 175,
        "start_time": "2022-03-27T15:13:45.792Z"
      },
      {
        "duration": 29,
        "start_time": "2022-03-27T15:13:45.968Z"
      },
      {
        "duration": 125,
        "start_time": "2022-03-27T15:13:45.999Z"
      },
      {
        "duration": 32,
        "start_time": "2022-03-27T15:13:46.126Z"
      },
      {
        "duration": 143,
        "start_time": "2022-03-27T15:13:46.160Z"
      },
      {
        "duration": 37,
        "start_time": "2022-03-27T15:13:46.306Z"
      },
      {
        "duration": 67,
        "start_time": "2022-03-27T15:13:46.348Z"
      },
      {
        "duration": 41,
        "start_time": "2022-03-27T15:13:46.416Z"
      },
      {
        "duration": 100,
        "start_time": "2022-03-27T15:13:46.458Z"
      },
      {
        "duration": 20,
        "start_time": "2022-03-27T15:13:46.560Z"
      },
      {
        "duration": 63,
        "start_time": "2022-03-27T15:13:46.582Z"
      },
      {
        "duration": 21,
        "start_time": "2022-03-27T15:13:46.647Z"
      },
      {
        "duration": 9,
        "start_time": "2022-03-27T15:13:46.670Z"
      },
      {
        "duration": 76,
        "start_time": "2022-03-27T15:13:46.680Z"
      },
      {
        "duration": 11,
        "start_time": "2022-03-27T15:13:46.758Z"
      },
      {
        "duration": 126,
        "start_time": "2022-03-27T15:13:46.771Z"
      },
      {
        "duration": 82,
        "start_time": "2022-03-27T15:13:46.899Z"
      },
      {
        "duration": 11,
        "start_time": "2022-03-27T15:13:46.983Z"
      },
      {
        "duration": 12,
        "start_time": "2022-03-27T15:13:46.996Z"
      },
      {
        "duration": 23,
        "start_time": "2022-03-27T15:13:47.010Z"
      },
      {
        "duration": 15,
        "start_time": "2022-03-27T15:13:47.035Z"
      },
      {
        "duration": 20,
        "start_time": "2022-03-27T15:13:47.052Z"
      },
      {
        "duration": 10,
        "start_time": "2022-03-27T15:13:47.074Z"
      },
      {
        "duration": 4,
        "start_time": "2022-03-27T15:13:47.086Z"
      },
      {
        "duration": 15,
        "start_time": "2022-03-27T15:13:47.091Z"
      },
      {
        "duration": 13,
        "start_time": "2022-03-27T15:13:47.131Z"
      },
      {
        "duration": 16,
        "start_time": "2022-03-27T15:13:47.146Z"
      },
      {
        "duration": 113,
        "start_time": "2022-03-27T15:13:47.163Z"
      },
      {
        "duration": 11,
        "start_time": "2022-03-27T15:13:47.278Z"
      },
      {
        "duration": 11,
        "start_time": "2022-03-27T15:13:47.291Z"
      },
      {
        "duration": 43,
        "start_time": "2022-03-27T15:13:47.304Z"
      },
      {
        "duration": 9,
        "start_time": "2022-03-27T15:14:23.358Z"
      },
      {
        "duration": 9,
        "start_time": "2022-03-27T15:14:26.288Z"
      },
      {
        "duration": 9,
        "start_time": "2022-03-27T15:14:37.571Z"
      },
      {
        "duration": 9,
        "start_time": "2022-03-27T15:14:43.357Z"
      },
      {
        "duration": 13,
        "start_time": "2022-03-27T15:28:02.615Z"
      },
      {
        "duration": 13,
        "start_time": "2022-03-27T15:29:10.924Z"
      },
      {
        "duration": 2,
        "start_time": "2022-03-27T15:41:16.300Z"
      },
      {
        "duration": 66,
        "start_time": "2022-03-27T15:41:16.304Z"
      },
      {
        "duration": 10,
        "start_time": "2022-03-27T15:41:16.372Z"
      },
      {
        "duration": 7,
        "start_time": "2022-03-27T15:41:16.384Z"
      },
      {
        "duration": 19,
        "start_time": "2022-03-27T15:41:16.393Z"
      },
      {
        "duration": 12,
        "start_time": "2022-03-27T15:41:16.414Z"
      },
      {
        "duration": 10,
        "start_time": "2022-03-27T15:41:16.427Z"
      },
      {
        "duration": 172,
        "start_time": "2022-03-27T15:41:16.439Z"
      },
      {
        "duration": 43,
        "start_time": "2022-03-27T15:41:16.613Z"
      },
      {
        "duration": 110,
        "start_time": "2022-03-27T15:41:16.658Z"
      },
      {
        "duration": 28,
        "start_time": "2022-03-27T15:41:16.770Z"
      },
      {
        "duration": 144,
        "start_time": "2022-03-27T15:41:16.800Z"
      },
      {
        "duration": 26,
        "start_time": "2022-03-27T15:41:16.948Z"
      },
      {
        "duration": 84,
        "start_time": "2022-03-27T15:41:16.976Z"
      },
      {
        "duration": 29,
        "start_time": "2022-03-27T15:41:17.062Z"
      },
      {
        "duration": 96,
        "start_time": "2022-03-27T15:41:17.093Z"
      },
      {
        "duration": 21,
        "start_time": "2022-03-27T15:41:17.191Z"
      },
      {
        "duration": 63,
        "start_time": "2022-03-27T15:41:17.214Z"
      },
      {
        "duration": 21,
        "start_time": "2022-03-27T15:41:17.279Z"
      },
      {
        "duration": 10,
        "start_time": "2022-03-27T15:41:17.302Z"
      },
      {
        "duration": 59,
        "start_time": "2022-03-27T15:41:17.332Z"
      },
      {
        "duration": 12,
        "start_time": "2022-03-27T15:41:17.393Z"
      },
      {
        "duration": 138,
        "start_time": "2022-03-27T15:41:17.407Z"
      },
      {
        "duration": 70,
        "start_time": "2022-03-27T15:41:17.547Z"
      },
      {
        "duration": 21,
        "start_time": "2022-03-27T15:41:17.618Z"
      },
      {
        "duration": 13,
        "start_time": "2022-03-27T15:41:17.641Z"
      },
      {
        "duration": 5,
        "start_time": "2022-03-27T15:41:17.656Z"
      },
      {
        "duration": 13,
        "start_time": "2022-03-27T15:41:17.663Z"
      },
      {
        "duration": 16,
        "start_time": "2022-03-27T15:41:17.677Z"
      },
      {
        "duration": 39,
        "start_time": "2022-03-27T15:41:17.695Z"
      },
      {
        "duration": 5,
        "start_time": "2022-03-27T15:41:17.736Z"
      },
      {
        "duration": 12,
        "start_time": "2022-03-27T15:41:17.743Z"
      },
      {
        "duration": 16,
        "start_time": "2022-03-27T15:41:17.757Z"
      },
      {
        "duration": 16,
        "start_time": "2022-03-27T15:41:17.775Z"
      },
      {
        "duration": 131,
        "start_time": "2022-03-27T15:41:17.793Z"
      },
      {
        "duration": 15,
        "start_time": "2022-03-27T15:41:17.926Z"
      },
      {
        "duration": 12,
        "start_time": "2022-03-27T15:41:17.944Z"
      },
      {
        "duration": 14,
        "start_time": "2022-03-27T15:41:17.957Z"
      },
      {
        "duration": 9,
        "start_time": "2022-03-27T15:41:17.973Z"
      },
      {
        "duration": 49,
        "start_time": "2022-03-27T15:41:17.984Z"
      },
      {
        "duration": 9,
        "start_time": "2022-03-27T15:41:18.035Z"
      },
      {
        "duration": 8,
        "start_time": "2022-03-27T15:41:18.046Z"
      },
      {
        "duration": 231,
        "start_time": "2022-03-27T15:41:18.056Z"
      },
      {
        "duration": 129,
        "start_time": "2022-03-27T15:41:47.913Z"
      },
      {
        "duration": 190,
        "start_time": "2022-03-27T15:43:06.682Z"
      },
      {
        "duration": 120,
        "start_time": "2022-03-27T15:43:15.255Z"
      },
      {
        "duration": 190,
        "start_time": "2022-03-27T15:43:48.825Z"
      },
      {
        "duration": 121,
        "start_time": "2022-03-27T15:43:56.765Z"
      },
      {
        "duration": 205,
        "start_time": "2022-03-27T15:47:50.836Z"
      },
      {
        "duration": 190,
        "start_time": "2022-03-27T15:49:10.586Z"
      },
      {
        "duration": 291,
        "start_time": "2022-03-27T15:49:16.834Z"
      },
      {
        "duration": 217,
        "start_time": "2022-03-27T15:49:54.154Z"
      },
      {
        "duration": 217,
        "start_time": "2022-03-27T15:50:12.959Z"
      },
      {
        "duration": 125,
        "start_time": "2022-03-27T15:52:10.687Z"
      },
      {
        "duration": 124,
        "start_time": "2022-03-27T15:52:58.379Z"
      },
      {
        "duration": 1446,
        "start_time": "2022-03-28T08:49:54.922Z"
      },
      {
        "duration": 34,
        "start_time": "2022-03-28T08:49:56.370Z"
      },
      {
        "duration": 14,
        "start_time": "2022-03-28T08:49:56.405Z"
      },
      {
        "duration": 10,
        "start_time": "2022-03-28T08:49:56.422Z"
      },
      {
        "duration": 21,
        "start_time": "2022-03-28T08:49:56.435Z"
      },
      {
        "duration": 7,
        "start_time": "2022-03-28T08:49:56.460Z"
      },
      {
        "duration": 37,
        "start_time": "2022-03-28T08:49:56.468Z"
      },
      {
        "duration": 184,
        "start_time": "2022-03-28T08:49:56.508Z"
      },
      {
        "duration": 34,
        "start_time": "2022-03-28T08:49:56.694Z"
      },
      {
        "duration": 129,
        "start_time": "2022-03-28T08:49:56.731Z"
      },
      {
        "duration": 40,
        "start_time": "2022-03-28T08:49:56.862Z"
      },
      {
        "duration": 142,
        "start_time": "2022-03-28T08:49:56.904Z"
      },
      {
        "duration": 24,
        "start_time": "2022-03-28T08:49:57.048Z"
      },
      {
        "duration": 85,
        "start_time": "2022-03-28T08:49:57.075Z"
      },
      {
        "duration": 42,
        "start_time": "2022-03-28T08:49:57.162Z"
      },
      {
        "duration": 105,
        "start_time": "2022-03-28T08:49:57.205Z"
      },
      {
        "duration": 22,
        "start_time": "2022-03-28T08:49:57.312Z"
      },
      {
        "duration": 74,
        "start_time": "2022-03-28T08:49:57.336Z"
      },
      {
        "duration": 16,
        "start_time": "2022-03-28T08:49:57.412Z"
      },
      {
        "duration": 10,
        "start_time": "2022-03-28T08:49:57.430Z"
      },
      {
        "duration": 91,
        "start_time": "2022-03-28T08:49:57.441Z"
      },
      {
        "duration": 12,
        "start_time": "2022-03-28T08:49:57.534Z"
      },
      {
        "duration": 136,
        "start_time": "2022-03-28T08:49:57.549Z"
      },
      {
        "duration": 78,
        "start_time": "2022-03-28T08:49:57.687Z"
      },
      {
        "duration": 11,
        "start_time": "2022-03-28T08:49:57.767Z"
      },
      {
        "duration": 30,
        "start_time": "2022-03-28T08:49:57.780Z"
      },
      {
        "duration": 7,
        "start_time": "2022-03-28T08:49:57.811Z"
      },
      {
        "duration": 12,
        "start_time": "2022-03-28T08:49:57.822Z"
      },
      {
        "duration": 15,
        "start_time": "2022-03-28T08:49:57.837Z"
      },
      {
        "duration": 47,
        "start_time": "2022-03-28T08:49:57.854Z"
      },
      {
        "duration": 6,
        "start_time": "2022-03-28T08:49:57.903Z"
      },
      {
        "duration": 14,
        "start_time": "2022-03-28T08:49:57.911Z"
      },
      {
        "duration": 15,
        "start_time": "2022-03-28T08:49:57.927Z"
      },
      {
        "duration": 58,
        "start_time": "2022-03-28T08:49:57.944Z"
      },
      {
        "duration": 112,
        "start_time": "2022-03-28T08:49:58.004Z"
      },
      {
        "duration": 12,
        "start_time": "2022-03-28T08:49:58.118Z"
      },
      {
        "duration": 11,
        "start_time": "2022-03-28T08:49:58.132Z"
      },
      {
        "duration": 56,
        "start_time": "2022-03-28T08:49:58.146Z"
      },
      {
        "duration": 9,
        "start_time": "2022-03-28T08:49:58.204Z"
      },
      {
        "duration": 10,
        "start_time": "2022-03-28T08:49:58.214Z"
      },
      {
        "duration": 11,
        "start_time": "2022-03-28T08:49:58.226Z"
      },
      {
        "duration": 63,
        "start_time": "2022-03-28T08:49:58.240Z"
      },
      {
        "duration": 399,
        "start_time": "2022-03-28T08:49:58.306Z"
      },
      {
        "duration": 138,
        "start_time": "2022-03-28T08:49:58.707Z"
      },
      {
        "duration": 181,
        "start_time": "2022-03-28T08:49:58.846Z"
      },
      {
        "duration": 121,
        "start_time": "2022-03-28T08:49:59.029Z"
      },
      {
        "duration": 181,
        "start_time": "2022-03-28T08:49:59.153Z"
      },
      {
        "duration": 125,
        "start_time": "2022-03-28T08:49:59.337Z"
      },
      {
        "duration": 228,
        "start_time": "2022-03-28T08:49:59.464Z"
      },
      {
        "duration": 126,
        "start_time": "2022-03-28T08:49:59.701Z"
      },
      {
        "duration": 1850,
        "start_time": "2022-03-29T06:06:43.077Z"
      },
      {
        "duration": 247,
        "start_time": "2022-03-29T06:06:44.930Z"
      },
      {
        "duration": 0,
        "start_time": "2022-03-29T06:06:45.182Z"
      },
      {
        "duration": 0,
        "start_time": "2022-03-29T06:06:45.184Z"
      },
      {
        "duration": 0,
        "start_time": "2022-03-29T06:06:45.186Z"
      },
      {
        "duration": 0,
        "start_time": "2022-03-29T06:06:45.187Z"
      },
      {
        "duration": 0,
        "start_time": "2022-03-29T06:06:45.189Z"
      },
      {
        "duration": 0,
        "start_time": "2022-03-29T06:06:45.190Z"
      },
      {
        "duration": 0,
        "start_time": "2022-03-29T06:06:45.191Z"
      },
      {
        "duration": 0,
        "start_time": "2022-03-29T06:06:45.193Z"
      },
      {
        "duration": 0,
        "start_time": "2022-03-29T06:06:45.194Z"
      },
      {
        "duration": 0,
        "start_time": "2022-03-29T06:06:45.196Z"
      },
      {
        "duration": 0,
        "start_time": "2022-03-29T06:06:45.197Z"
      },
      {
        "duration": 0,
        "start_time": "2022-03-29T06:06:45.199Z"
      },
      {
        "duration": 0,
        "start_time": "2022-03-29T06:06:45.200Z"
      },
      {
        "duration": 0,
        "start_time": "2022-03-29T06:06:45.202Z"
      },
      {
        "duration": 0,
        "start_time": "2022-03-29T06:06:45.204Z"
      },
      {
        "duration": 0,
        "start_time": "2022-03-29T06:06:45.205Z"
      },
      {
        "duration": 0,
        "start_time": "2022-03-29T06:06:45.206Z"
      },
      {
        "duration": 0,
        "start_time": "2022-03-29T06:06:45.208Z"
      },
      {
        "duration": 0,
        "start_time": "2022-03-29T06:06:45.210Z"
      },
      {
        "duration": 0,
        "start_time": "2022-03-29T06:06:45.211Z"
      },
      {
        "duration": 0,
        "start_time": "2022-03-29T06:06:45.213Z"
      },
      {
        "duration": 0,
        "start_time": "2022-03-29T06:06:45.274Z"
      },
      {
        "duration": 0,
        "start_time": "2022-03-29T06:06:45.276Z"
      },
      {
        "duration": 0,
        "start_time": "2022-03-29T06:06:45.278Z"
      },
      {
        "duration": 0,
        "start_time": "2022-03-29T06:06:45.279Z"
      },
      {
        "duration": 0,
        "start_time": "2022-03-29T06:06:45.280Z"
      },
      {
        "duration": 0,
        "start_time": "2022-03-29T06:06:45.282Z"
      },
      {
        "duration": 0,
        "start_time": "2022-03-29T06:06:45.283Z"
      },
      {
        "duration": 0,
        "start_time": "2022-03-29T06:06:45.284Z"
      },
      {
        "duration": 0,
        "start_time": "2022-03-29T06:06:45.286Z"
      },
      {
        "duration": 0,
        "start_time": "2022-03-29T06:06:45.288Z"
      },
      {
        "duration": 0,
        "start_time": "2022-03-29T06:06:45.290Z"
      },
      {
        "duration": 0,
        "start_time": "2022-03-29T06:06:45.291Z"
      },
      {
        "duration": 0,
        "start_time": "2022-03-29T06:06:45.292Z"
      },
      {
        "duration": 0,
        "start_time": "2022-03-29T06:06:45.294Z"
      },
      {
        "duration": 0,
        "start_time": "2022-03-29T06:06:45.296Z"
      },
      {
        "duration": 0,
        "start_time": "2022-03-29T06:06:45.297Z"
      },
      {
        "duration": 0,
        "start_time": "2022-03-29T06:06:45.299Z"
      },
      {
        "duration": 0,
        "start_time": "2022-03-29T06:06:45.301Z"
      },
      {
        "duration": 0,
        "start_time": "2022-03-29T06:06:45.302Z"
      },
      {
        "duration": 0,
        "start_time": "2022-03-29T06:06:45.304Z"
      },
      {
        "duration": 0,
        "start_time": "2022-03-29T06:06:45.305Z"
      },
      {
        "duration": 0,
        "start_time": "2022-03-29T06:06:45.307Z"
      },
      {
        "duration": 0,
        "start_time": "2022-03-29T06:06:45.309Z"
      },
      {
        "duration": 0,
        "start_time": "2022-03-29T06:06:45.374Z"
      },
      {
        "duration": 0,
        "start_time": "2022-03-29T06:06:45.376Z"
      },
      {
        "duration": 0,
        "start_time": "2022-03-29T06:06:45.377Z"
      },
      {
        "duration": 0,
        "start_time": "2022-03-29T06:06:45.379Z"
      },
      {
        "duration": 0,
        "start_time": "2022-03-29T06:06:45.380Z"
      },
      {
        "duration": 0,
        "start_time": "2022-03-29T06:06:45.382Z"
      },
      {
        "duration": 0,
        "start_time": "2022-03-29T06:06:45.383Z"
      },
      {
        "duration": 0,
        "start_time": "2022-03-29T06:06:45.385Z"
      },
      {
        "duration": 0,
        "start_time": "2022-03-29T06:06:45.386Z"
      },
      {
        "duration": 0,
        "start_time": "2022-03-29T06:06:45.388Z"
      },
      {
        "duration": 0,
        "start_time": "2022-03-29T06:06:45.389Z"
      },
      {
        "duration": 1,
        "start_time": "2022-03-29T06:06:45.390Z"
      },
      {
        "duration": 0,
        "start_time": "2022-03-29T06:06:45.392Z"
      },
      {
        "duration": 0,
        "start_time": "2022-03-29T06:06:45.393Z"
      },
      {
        "duration": 0,
        "start_time": "2022-03-29T06:06:45.395Z"
      },
      {
        "duration": 0,
        "start_time": "2022-03-29T06:06:45.397Z"
      },
      {
        "duration": 0,
        "start_time": "2022-03-29T06:06:45.398Z"
      },
      {
        "duration": 0,
        "start_time": "2022-03-29T06:06:45.399Z"
      },
      {
        "duration": 0,
        "start_time": "2022-03-29T06:06:45.400Z"
      },
      {
        "duration": 0,
        "start_time": "2022-03-29T06:06:45.402Z"
      },
      {
        "duration": 0,
        "start_time": "2022-03-29T06:06:45.403Z"
      },
      {
        "duration": 40,
        "start_time": "2022-03-29T06:07:55.221Z"
      },
      {
        "duration": 208,
        "start_time": "2022-03-29T06:08:11.659Z"
      },
      {
        "duration": 1477,
        "start_time": "2022-03-29T06:08:33.100Z"
      },
      {
        "duration": 35,
        "start_time": "2022-03-29T06:08:34.579Z"
      },
      {
        "duration": 16,
        "start_time": "2022-03-29T06:08:34.616Z"
      },
      {
        "duration": 11,
        "start_time": "2022-03-29T06:08:34.635Z"
      },
      {
        "duration": 40,
        "start_time": "2022-03-29T06:08:34.649Z"
      },
      {
        "duration": 7,
        "start_time": "2022-03-29T06:08:34.692Z"
      },
      {
        "duration": 12,
        "start_time": "2022-03-29T06:08:34.701Z"
      },
      {
        "duration": 220,
        "start_time": "2022-03-29T06:08:34.715Z"
      },
      {
        "duration": 47,
        "start_time": "2022-03-29T06:08:34.938Z"
      },
      {
        "duration": 150,
        "start_time": "2022-03-29T06:08:34.990Z"
      },
      {
        "duration": 46,
        "start_time": "2022-03-29T06:08:35.142Z"
      },
      {
        "duration": 164,
        "start_time": "2022-03-29T06:08:35.190Z"
      },
      {
        "duration": 36,
        "start_time": "2022-03-29T06:08:35.356Z"
      },
      {
        "duration": 136,
        "start_time": "2022-03-29T06:08:35.394Z"
      },
      {
        "duration": 43,
        "start_time": "2022-03-29T06:08:35.532Z"
      },
      {
        "duration": 120,
        "start_time": "2022-03-29T06:08:35.577Z"
      },
      {
        "duration": 25,
        "start_time": "2022-03-29T06:08:35.700Z"
      },
      {
        "duration": 91,
        "start_time": "2022-03-29T06:08:35.727Z"
      },
      {
        "duration": 20,
        "start_time": "2022-03-29T06:08:35.821Z"
      },
      {
        "duration": 30,
        "start_time": "2022-03-29T06:08:35.844Z"
      },
      {
        "duration": 103,
        "start_time": "2022-03-29T06:08:35.876Z"
      },
      {
        "duration": 15,
        "start_time": "2022-03-29T06:08:35.982Z"
      },
      {
        "duration": 166,
        "start_time": "2022-03-29T06:08:36.000Z"
      },
      {
        "duration": 93,
        "start_time": "2022-03-29T06:08:36.168Z"
      },
      {
        "duration": 20,
        "start_time": "2022-03-29T06:08:36.263Z"
      },
      {
        "duration": 26,
        "start_time": "2022-03-29T06:08:36.285Z"
      },
      {
        "duration": 6,
        "start_time": "2022-03-29T06:08:36.313Z"
      },
      {
        "duration": 23,
        "start_time": "2022-03-29T06:08:36.325Z"
      },
      {
        "duration": 41,
        "start_time": "2022-03-29T06:08:36.351Z"
      },
      {
        "duration": 16,
        "start_time": "2022-03-29T06:08:36.394Z"
      },
      {
        "duration": 11,
        "start_time": "2022-03-29T06:08:36.412Z"
      },
      {
        "duration": 28,
        "start_time": "2022-03-29T06:08:36.425Z"
      },
      {
        "duration": 20,
        "start_time": "2022-03-29T06:08:36.474Z"
      },
      {
        "duration": 29,
        "start_time": "2022-03-29T06:08:36.497Z"
      },
      {
        "duration": 179,
        "start_time": "2022-03-29T06:08:36.529Z"
      },
      {
        "duration": 14,
        "start_time": "2022-03-29T06:08:36.710Z"
      },
      {
        "duration": 18,
        "start_time": "2022-03-29T06:08:36.726Z"
      },
      {
        "duration": 43,
        "start_time": "2022-03-29T06:08:36.746Z"
      },
      {
        "duration": 20,
        "start_time": "2022-03-29T06:08:36.791Z"
      },
      {
        "duration": 20,
        "start_time": "2022-03-29T06:08:36.814Z"
      },
      {
        "duration": 29,
        "start_time": "2022-03-29T06:08:36.836Z"
      },
      {
        "duration": 16,
        "start_time": "2022-03-29T06:08:36.867Z"
      },
      {
        "duration": 306,
        "start_time": "2022-03-29T06:08:36.885Z"
      },
      {
        "duration": 202,
        "start_time": "2022-03-29T06:08:37.193Z"
      },
      {
        "duration": 283,
        "start_time": "2022-03-29T06:08:37.397Z"
      },
      {
        "duration": 182,
        "start_time": "2022-03-29T06:08:37.682Z"
      },
      {
        "duration": 266,
        "start_time": "2022-03-29T06:08:37.867Z"
      },
      {
        "duration": 181,
        "start_time": "2022-03-29T06:08:38.135Z"
      },
      {
        "duration": 317,
        "start_time": "2022-03-29T06:08:38.318Z"
      },
      {
        "duration": 188,
        "start_time": "2022-03-29T06:08:38.637Z"
      },
      {
        "duration": 13,
        "start_time": "2022-03-29T06:08:38.827Z"
      },
      {
        "duration": 36,
        "start_time": "2022-03-29T06:08:38.843Z"
      },
      {
        "duration": 25,
        "start_time": "2022-03-29T06:08:38.881Z"
      },
      {
        "duration": 20,
        "start_time": "2022-03-29T06:08:38.908Z"
      },
      {
        "duration": 9,
        "start_time": "2022-03-29T06:08:38.930Z"
      },
      {
        "duration": 39,
        "start_time": "2022-03-29T06:08:38.942Z"
      },
      {
        "duration": 12,
        "start_time": "2022-03-29T06:08:38.983Z"
      },
      {
        "duration": 113,
        "start_time": "2022-03-29T06:08:38.998Z"
      },
      {
        "duration": 14,
        "start_time": "2022-03-29T06:08:39.114Z"
      },
      {
        "duration": 33,
        "start_time": "2022-03-29T06:08:39.131Z"
      },
      {
        "duration": 38,
        "start_time": "2022-03-29T06:08:39.167Z"
      },
      {
        "duration": 27,
        "start_time": "2022-03-29T06:08:39.208Z"
      },
      {
        "duration": 14,
        "start_time": "2022-03-29T06:08:39.238Z"
      },
      {
        "duration": 27,
        "start_time": "2022-03-29T06:08:39.255Z"
      },
      {
        "duration": 26,
        "start_time": "2022-03-29T06:08:39.284Z"
      },
      {
        "duration": 22,
        "start_time": "2022-03-29T06:08:39.312Z"
      },
      {
        "duration": 10,
        "start_time": "2022-03-29T06:08:39.336Z"
      },
      {
        "duration": 8,
        "start_time": "2022-03-29T06:30:19.360Z"
      },
      {
        "duration": 1541,
        "start_time": "2022-03-29T06:34:18.455Z"
      },
      {
        "duration": 36,
        "start_time": "2022-03-29T06:34:19.999Z"
      },
      {
        "duration": 17,
        "start_time": "2022-03-29T06:34:20.037Z"
      },
      {
        "duration": 9,
        "start_time": "2022-03-29T06:34:20.073Z"
      },
      {
        "duration": 28,
        "start_time": "2022-03-29T06:34:20.084Z"
      },
      {
        "duration": 8,
        "start_time": "2022-03-29T06:34:20.114Z"
      },
      {
        "duration": 19,
        "start_time": "2022-03-29T06:34:20.124Z"
      },
      {
        "duration": 207,
        "start_time": "2022-03-29T06:34:20.145Z"
      },
      {
        "duration": 41,
        "start_time": "2022-03-29T06:34:20.354Z"
      },
      {
        "duration": 162,
        "start_time": "2022-03-29T06:34:20.398Z"
      },
      {
        "duration": 43,
        "start_time": "2022-03-29T06:34:20.563Z"
      },
      {
        "duration": 185,
        "start_time": "2022-03-29T06:34:20.609Z"
      },
      {
        "duration": 30,
        "start_time": "2022-03-29T06:34:20.797Z"
      },
      {
        "duration": 152,
        "start_time": "2022-03-29T06:34:20.830Z"
      },
      {
        "duration": 35,
        "start_time": "2022-03-29T06:34:20.984Z"
      },
      {
        "duration": 135,
        "start_time": "2022-03-29T06:34:21.022Z"
      },
      {
        "duration": 32,
        "start_time": "2022-03-29T06:34:21.159Z"
      },
      {
        "duration": 81,
        "start_time": "2022-03-29T06:34:21.193Z"
      },
      {
        "duration": 19,
        "start_time": "2022-03-29T06:34:21.276Z"
      },
      {
        "duration": 17,
        "start_time": "2022-03-29T06:34:21.297Z"
      },
      {
        "duration": 108,
        "start_time": "2022-03-29T06:34:21.316Z"
      },
      {
        "duration": 14,
        "start_time": "2022-03-29T06:34:21.426Z"
      },
      {
        "duration": 166,
        "start_time": "2022-03-29T06:34:21.442Z"
      },
      {
        "duration": 101,
        "start_time": "2022-03-29T06:34:21.610Z"
      },
      {
        "duration": 13,
        "start_time": "2022-03-29T06:34:21.713Z"
      },
      {
        "duration": 27,
        "start_time": "2022-03-29T06:34:21.728Z"
      },
      {
        "duration": 29,
        "start_time": "2022-03-29T06:34:21.758Z"
      },
      {
        "duration": 21,
        "start_time": "2022-03-29T06:34:21.793Z"
      },
      {
        "duration": 21,
        "start_time": "2022-03-29T06:34:21.815Z"
      },
      {
        "duration": 16,
        "start_time": "2022-03-29T06:34:21.838Z"
      },
      {
        "duration": 22,
        "start_time": "2022-03-29T06:34:21.856Z"
      },
      {
        "duration": 20,
        "start_time": "2022-03-29T06:34:21.880Z"
      },
      {
        "duration": 16,
        "start_time": "2022-03-29T06:34:21.902Z"
      },
      {
        "duration": 55,
        "start_time": "2022-03-29T06:34:21.921Z"
      },
      {
        "duration": 168,
        "start_time": "2022-03-29T06:34:21.979Z"
      },
      {
        "duration": 29,
        "start_time": "2022-03-29T06:34:22.149Z"
      },
      {
        "duration": 16,
        "start_time": "2022-03-29T06:34:22.181Z"
      },
      {
        "duration": 19,
        "start_time": "2022-03-29T06:34:22.200Z"
      },
      {
        "duration": 54,
        "start_time": "2022-03-29T06:34:22.222Z"
      },
      {
        "duration": 12,
        "start_time": "2022-03-29T06:34:22.278Z"
      },
      {
        "duration": 16,
        "start_time": "2022-03-29T06:34:22.292Z"
      },
      {
        "duration": 11,
        "start_time": "2022-03-29T06:34:22.310Z"
      },
      {
        "duration": 341,
        "start_time": "2022-03-29T06:34:22.323Z"
      },
      {
        "duration": 198,
        "start_time": "2022-03-29T06:34:22.666Z"
      },
      {
        "duration": 284,
        "start_time": "2022-03-29T06:34:22.874Z"
      },
      {
        "duration": 186,
        "start_time": "2022-03-29T06:34:23.160Z"
      },
      {
        "duration": 275,
        "start_time": "2022-03-29T06:34:23.349Z"
      },
      {
        "duration": 183,
        "start_time": "2022-03-29T06:34:23.626Z"
      },
      {
        "duration": 335,
        "start_time": "2022-03-29T06:34:23.811Z"
      },
      {
        "duration": 183,
        "start_time": "2022-03-29T06:34:24.148Z"
      },
      {
        "duration": 13,
        "start_time": "2022-03-29T06:34:24.333Z"
      },
      {
        "duration": 31,
        "start_time": "2022-03-29T06:34:24.349Z"
      },
      {
        "duration": 18,
        "start_time": "2022-03-29T06:34:24.382Z"
      },
      {
        "duration": 16,
        "start_time": "2022-03-29T06:34:24.402Z"
      },
      {
        "duration": 8,
        "start_time": "2022-03-29T06:34:24.420Z"
      },
      {
        "duration": 49,
        "start_time": "2022-03-29T06:34:24.429Z"
      },
      {
        "duration": 7,
        "start_time": "2022-03-29T06:34:24.480Z"
      },
      {
        "duration": 117,
        "start_time": "2022-03-29T06:34:24.490Z"
      },
      {
        "duration": 9,
        "start_time": "2022-03-29T06:34:24.609Z"
      },
      {
        "duration": 8,
        "start_time": "2022-03-29T06:34:24.620Z"
      },
      {
        "duration": 44,
        "start_time": "2022-03-29T06:34:24.630Z"
      },
      {
        "duration": 18,
        "start_time": "2022-03-29T06:34:24.676Z"
      },
      {
        "duration": 8,
        "start_time": "2022-03-29T06:34:24.696Z"
      },
      {
        "duration": 11,
        "start_time": "2022-03-29T06:34:24.706Z"
      },
      {
        "duration": 8,
        "start_time": "2022-03-29T06:34:24.719Z"
      },
      {
        "duration": 49,
        "start_time": "2022-03-29T06:34:24.729Z"
      },
      {
        "duration": 11,
        "start_time": "2022-03-29T06:34:24.781Z"
      },
      {
        "duration": 9,
        "start_time": "2022-03-29T06:34:24.794Z"
      },
      {
        "duration": 1297,
        "start_time": "2022-03-29T16:41:51.608Z"
      },
      {
        "duration": 49,
        "start_time": "2022-03-29T16:41:52.907Z"
      },
      {
        "duration": 10,
        "start_time": "2022-03-29T16:41:52.958Z"
      },
      {
        "duration": 7,
        "start_time": "2022-03-29T16:41:52.970Z"
      },
      {
        "duration": 13,
        "start_time": "2022-03-29T16:41:52.978Z"
      },
      {
        "duration": 4,
        "start_time": "2022-03-29T16:41:52.993Z"
      },
      {
        "duration": 5,
        "start_time": "2022-03-29T16:41:52.999Z"
      },
      {
        "duration": 154,
        "start_time": "2022-03-29T16:41:53.006Z"
      },
      {
        "duration": 27,
        "start_time": "2022-03-29T16:41:53.161Z"
      },
      {
        "duration": 102,
        "start_time": "2022-03-29T16:41:53.190Z"
      },
      {
        "duration": 22,
        "start_time": "2022-03-29T16:41:53.294Z"
      },
      {
        "duration": 124,
        "start_time": "2022-03-29T16:41:53.318Z"
      },
      {
        "duration": 20,
        "start_time": "2022-03-29T16:41:53.444Z"
      },
      {
        "duration": 69,
        "start_time": "2022-03-29T16:41:53.465Z"
      },
      {
        "duration": 25,
        "start_time": "2022-03-29T16:41:53.535Z"
      },
      {
        "duration": 93,
        "start_time": "2022-03-29T16:41:53.561Z"
      },
      {
        "duration": 26,
        "start_time": "2022-03-29T16:41:53.655Z"
      },
      {
        "duration": 44,
        "start_time": "2022-03-29T16:41:53.683Z"
      },
      {
        "duration": 23,
        "start_time": "2022-03-29T16:41:53.729Z"
      },
      {
        "duration": 7,
        "start_time": "2022-03-29T16:41:53.754Z"
      },
      {
        "duration": 74,
        "start_time": "2022-03-29T16:41:53.763Z"
      },
      {
        "duration": 9,
        "start_time": "2022-03-29T16:41:53.838Z"
      },
      {
        "duration": 108,
        "start_time": "2022-03-29T16:41:53.848Z"
      },
      {
        "duration": 68,
        "start_time": "2022-03-29T16:41:53.957Z"
      },
      {
        "duration": 8,
        "start_time": "2022-03-29T16:41:54.027Z"
      },
      {
        "duration": 10,
        "start_time": "2022-03-29T16:41:54.037Z"
      },
      {
        "duration": 4,
        "start_time": "2022-03-29T16:41:54.049Z"
      },
      {
        "duration": 9,
        "start_time": "2022-03-29T16:41:54.081Z"
      },
      {
        "duration": 12,
        "start_time": "2022-03-29T16:41:54.092Z"
      },
      {
        "duration": 8,
        "start_time": "2022-03-29T16:41:54.105Z"
      },
      {
        "duration": 3,
        "start_time": "2022-03-29T16:41:54.115Z"
      },
      {
        "duration": 10,
        "start_time": "2022-03-29T16:41:54.120Z"
      },
      {
        "duration": 11,
        "start_time": "2022-03-29T16:41:54.132Z"
      },
      {
        "duration": 46,
        "start_time": "2022-03-29T16:41:54.144Z"
      },
      {
        "duration": 92,
        "start_time": "2022-03-29T16:41:54.191Z"
      },
      {
        "duration": 10,
        "start_time": "2022-03-29T16:41:54.284Z"
      },
      {
        "duration": 11,
        "start_time": "2022-03-29T16:41:54.296Z"
      },
      {
        "duration": 11,
        "start_time": "2022-03-29T16:41:54.309Z"
      },
      {
        "duration": 7,
        "start_time": "2022-03-29T16:41:54.321Z"
      },
      {
        "duration": 12,
        "start_time": "2022-03-29T16:41:54.330Z"
      },
      {
        "duration": 37,
        "start_time": "2022-03-29T16:41:54.344Z"
      },
      {
        "duration": 10,
        "start_time": "2022-03-29T16:41:54.383Z"
      },
      {
        "duration": 174,
        "start_time": "2022-03-29T16:41:54.394Z"
      },
      {
        "duration": 103,
        "start_time": "2022-03-29T16:41:54.570Z"
      },
      {
        "duration": 150,
        "start_time": "2022-03-29T16:41:54.675Z"
      },
      {
        "duration": 97,
        "start_time": "2022-03-29T16:41:54.826Z"
      },
      {
        "duration": 145,
        "start_time": "2022-03-29T16:41:54.925Z"
      },
      {
        "duration": 98,
        "start_time": "2022-03-29T16:41:55.071Z"
      },
      {
        "duration": 179,
        "start_time": "2022-03-29T16:41:55.171Z"
      },
      {
        "duration": 103,
        "start_time": "2022-03-29T16:41:55.352Z"
      },
      {
        "duration": 9,
        "start_time": "2022-03-29T16:41:55.457Z"
      },
      {
        "duration": 18,
        "start_time": "2022-03-29T16:41:55.467Z"
      },
      {
        "duration": 12,
        "start_time": "2022-03-29T16:41:55.487Z"
      },
      {
        "duration": 10,
        "start_time": "2022-03-29T16:41:55.501Z"
      },
      {
        "duration": 10,
        "start_time": "2022-03-29T16:41:55.513Z"
      },
      {
        "duration": 15,
        "start_time": "2022-03-29T16:41:55.525Z"
      },
      {
        "duration": 6,
        "start_time": "2022-03-29T16:41:55.542Z"
      },
      {
        "duration": 102,
        "start_time": "2022-03-29T16:41:55.550Z"
      },
      {
        "duration": 6,
        "start_time": "2022-03-29T16:41:55.654Z"
      },
      {
        "duration": 6,
        "start_time": "2022-03-29T16:41:55.661Z"
      },
      {
        "duration": 21,
        "start_time": "2022-03-29T16:41:55.668Z"
      },
      {
        "duration": 13,
        "start_time": "2022-03-29T16:41:55.691Z"
      },
      {
        "duration": 5,
        "start_time": "2022-03-29T16:41:55.706Z"
      },
      {
        "duration": 8,
        "start_time": "2022-03-29T16:41:55.712Z"
      },
      {
        "duration": 7,
        "start_time": "2022-03-29T16:41:55.722Z"
      },
      {
        "duration": 10,
        "start_time": "2022-03-29T16:41:55.731Z"
      },
      {
        "duration": 39,
        "start_time": "2022-03-29T16:41:55.743Z"
      },
      {
        "duration": 5,
        "start_time": "2022-03-29T16:41:55.783Z"
      },
      {
        "duration": 92,
        "start_time": "2022-03-29T17:32:12.988Z"
      },
      {
        "duration": 9,
        "start_time": "2022-03-29T17:32:55.990Z"
      },
      {
        "duration": 9,
        "start_time": "2022-03-29T17:34:58.565Z"
      },
      {
        "duration": 5,
        "start_time": "2022-03-29T17:35:36.674Z"
      },
      {
        "duration": 10,
        "start_time": "2022-03-29T17:51:12.293Z"
      },
      {
        "duration": 8,
        "start_time": "2022-03-29T17:51:45.795Z"
      },
      {
        "duration": 5,
        "start_time": "2022-03-29T17:53:34.366Z"
      }
    ],
    "colab": {
      "collapsed_sections": [],
      "toc_visible": true,
      "provenance": []
    },
    "kernelspec": {
      "display_name": "Python 3 (ipykernel)",
      "language": "python",
      "name": "python3"
    },
    "language_info": {
      "codemirror_mode": {
        "name": "ipython",
        "version": 3
      },
      "file_extension": ".py",
      "mimetype": "text/x-python",
      "name": "python",
      "nbconvert_exporter": "python",
      "pygments_lexer": "ipython3",
      "version": "3.9.5"
    },
    "toc": {
      "base_numbering": 1,
      "nav_menu": {},
      "number_sections": true,
      "sideBar": true,
      "skip_h1_title": true,
      "title_cell": "Table of Contents",
      "title_sidebar": "Contents",
      "toc_cell": false,
      "toc_position": {
        "height": "calc(100% - 180px)",
        "left": "10px",
        "top": "150px",
        "width": "384px"
      },
      "toc_section_display": true,
      "toc_window_display": true
    }
  },
  "nbformat": 4,
  "nbformat_minor": 0
}