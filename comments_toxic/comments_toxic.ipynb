{
  "cells": [
    {
      "cell_type": "markdown",
      "metadata": {
        "id": "hJjcZ3fLsHZY"
      },
      "source": [
        "# Модель для отслеживания комментариев"
      ]
    },
    {
      "cell_type": "markdown",
      "metadata": {
        "id": "iXPFHqO5sHZZ"
      },
      "source": [
        "Интернет-магазин запускает новый сервис. Теперь пользователи могут редактировать и дополнять описания товаров. То есть клиенты предлагают свои правки и комментируют изменения других. Магазину нужен инструмент, который будет искать токсичные комментарии и отправлять их на проверку. \n",
        "\n",
        "**Цель исследования** \n",
        "\n",
        "Обучить модель классифицировать комментарии на позитивные и негативные. \n",
        "\n",
        "**Ход исследования**\n",
        "\n",
        "В вашем распоряжении набор данных с разметкой о токсичности правок. Прежде чем приступить к построению модели, подготовим данные для обучения.\n",
        "\n",
        "Таким образом, исследование пройдёт в три этапа:\n",
        "1. Загрузить и подготовить данные.\n",
        "2. Обучить разные модели. \n",
        "3. Выполнить анализ моделей.\n",
        "\n",
        "Примечания:\n",
        "- Для оценки качества моделей применим метрику F1.\n",
        "- Значение метрики f1 должно быть не меньше 0.75."
      ]
    },
    {
      "cell_type": "markdown",
      "metadata": {
        "id": "I6qCk8rKsHZa"
      },
      "source": [
        "## Подготовка"
      ]
    },
    {
      "cell_type": "markdown",
      "metadata": {
        "id": "_SdPHsIQuvto"
      },
      "source": [
        "### Открытие файлов. Общее представление."
      ]
    },
    {
      "cell_type": "markdown",
      "metadata": {
        "id": "fsyHNedWX7vY"
      },
      "source": [
        "Импортируем библиотеки для работы в Питоне."
      ]
    },
    {
      "cell_type": "code",
      "execution_count": null,
      "metadata": {
        "id": "OXcmbX3sX7vZ"
      },
      "outputs": [],
      "source": [
        "import pandas as pd\n",
        "import numpy as np\n",
        "import matplotlib.pyplot as plt\n",
        "import re\n",
        "\n",
        "import nltk\n",
        "from nltk.corpus import stopwords as nltk_stopwords\n",
        "\n",
        "from sklearn.feature_extraction.text import TfidfVectorizer\n",
        "\n",
        "from sklearn.metrics import f1_score, roc_auc_score, roc_curve\n",
        "from sklearn.model_selection import train_test_split\n",
        "from sklearn.utils import shuffle\n",
        "\n",
        "from sklearn.ensemble import RandomForestClassifier\n",
        "from sklearn.linear_model import LogisticRegression \n",
        "from lightgbm import LGBMClassifier"
      ]
    },
    {
      "cell_type": "markdown",
      "metadata": {
        "id": "QOuTksyiwJCe"
      },
      "source": [
        "Откроем файл с данными и изучим общую информацию. Прочитаем файл и сохраним его в датасет. "
      ]
    },
    {
      "cell_type": "code",
      "execution_count": null,
      "metadata": {
        "colab": {
          "base_uri": "https://localhost:8080/",
          "height": 206
        },
        "id": "W6NzaVrqsc0d",
        "outputId": "f778732a-783d-4bc8-b9ee-0b75935faa86"
      },
      "outputs": [
        {
          "data": {
            "text/html": [
              "\n",
              "  <div id=\"df-3ccf3452-9e41-448d-b5a3-e7e991be9ddb\">\n",
              "    <div class=\"colab-df-container\">\n",
              "      <div>\n",
              "<style scoped>\n",
              "    .dataframe tbody tr th:only-of-type {\n",
              "        vertical-align: middle;\n",
              "    }\n",
              "\n",
              "    .dataframe tbody tr th {\n",
              "        vertical-align: top;\n",
              "    }\n",
              "\n",
              "    .dataframe thead th {\n",
              "        text-align: right;\n",
              "    }\n",
              "</style>\n",
              "<table border=\"1\" class=\"dataframe\">\n",
              "  <thead>\n",
              "    <tr style=\"text-align: right;\">\n",
              "      <th></th>\n",
              "      <th>text</th>\n",
              "      <th>toxic</th>\n",
              "    </tr>\n",
              "  </thead>\n",
              "  <tbody>\n",
              "    <tr>\n",
              "      <th>0</th>\n",
              "      <td>Explanation\\nWhy the edits made under my usern...</td>\n",
              "      <td>0</td>\n",
              "    </tr>\n",
              "    <tr>\n",
              "      <th>1</th>\n",
              "      <td>D'aww! He matches this background colour I'm s...</td>\n",
              "      <td>0</td>\n",
              "    </tr>\n",
              "    <tr>\n",
              "      <th>2</th>\n",
              "      <td>Hey man, I'm really not trying to edit war. It...</td>\n",
              "      <td>0</td>\n",
              "    </tr>\n",
              "    <tr>\n",
              "      <th>3</th>\n",
              "      <td>\"\\nMore\\nI can't make any real suggestions on ...</td>\n",
              "      <td>0</td>\n",
              "    </tr>\n",
              "    <tr>\n",
              "      <th>4</th>\n",
              "      <td>You, sir, are my hero. Any chance you remember...</td>\n",
              "      <td>0</td>\n",
              "    </tr>\n",
              "  </tbody>\n",
              "</table>\n",
              "</div>\n",
              "      <button class=\"colab-df-convert\" onclick=\"convertToInteractive('df-3ccf3452-9e41-448d-b5a3-e7e991be9ddb')\"\n",
              "              title=\"Convert this dataframe to an interactive table.\"\n",
              "              style=\"display:none;\">\n",
              "        \n",
              "  <svg xmlns=\"http://www.w3.org/2000/svg\" height=\"24px\"viewBox=\"0 0 24 24\"\n",
              "       width=\"24px\">\n",
              "    <path d=\"M0 0h24v24H0V0z\" fill=\"none\"/>\n",
              "    <path d=\"M18.56 5.44l.94 2.06.94-2.06 2.06-.94-2.06-.94-.94-2.06-.94 2.06-2.06.94zm-11 1L8.5 8.5l.94-2.06 2.06-.94-2.06-.94L8.5 2.5l-.94 2.06-2.06.94zm10 10l.94 2.06.94-2.06 2.06-.94-2.06-.94-.94-2.06-.94 2.06-2.06.94z\"/><path d=\"M17.41 7.96l-1.37-1.37c-.4-.4-.92-.59-1.43-.59-.52 0-1.04.2-1.43.59L10.3 9.45l-7.72 7.72c-.78.78-.78 2.05 0 2.83L4 21.41c.39.39.9.59 1.41.59.51 0 1.02-.2 1.41-.59l7.78-7.78 2.81-2.81c.8-.78.8-2.07 0-2.86zM5.41 20L4 18.59l7.72-7.72 1.47 1.35L5.41 20z\"/>\n",
              "  </svg>\n",
              "      </button>\n",
              "      \n",
              "  <style>\n",
              "    .colab-df-container {\n",
              "      display:flex;\n",
              "      flex-wrap:wrap;\n",
              "      gap: 12px;\n",
              "    }\n",
              "\n",
              "    .colab-df-convert {\n",
              "      background-color: #E8F0FE;\n",
              "      border: none;\n",
              "      border-radius: 50%;\n",
              "      cursor: pointer;\n",
              "      display: none;\n",
              "      fill: #1967D2;\n",
              "      height: 32px;\n",
              "      padding: 0 0 0 0;\n",
              "      width: 32px;\n",
              "    }\n",
              "\n",
              "    .colab-df-convert:hover {\n",
              "      background-color: #E2EBFA;\n",
              "      box-shadow: 0px 1px 2px rgba(60, 64, 67, 0.3), 0px 1px 3px 1px rgba(60, 64, 67, 0.15);\n",
              "      fill: #174EA6;\n",
              "    }\n",
              "\n",
              "    [theme=dark] .colab-df-convert {\n",
              "      background-color: #3B4455;\n",
              "      fill: #D2E3FC;\n",
              "    }\n",
              "\n",
              "    [theme=dark] .colab-df-convert:hover {\n",
              "      background-color: #434B5C;\n",
              "      box-shadow: 0px 1px 3px 1px rgba(0, 0, 0, 0.15);\n",
              "      filter: drop-shadow(0px 1px 2px rgba(0, 0, 0, 0.3));\n",
              "      fill: #FFFFFF;\n",
              "    }\n",
              "  </style>\n",
              "\n",
              "      <script>\n",
              "        const buttonEl =\n",
              "          document.querySelector('#df-3ccf3452-9e41-448d-b5a3-e7e991be9ddb button.colab-df-convert');\n",
              "        buttonEl.style.display =\n",
              "          google.colab.kernel.accessAllowed ? 'block' : 'none';\n",
              "\n",
              "        async function convertToInteractive(key) {\n",
              "          const element = document.querySelector('#df-3ccf3452-9e41-448d-b5a3-e7e991be9ddb');\n",
              "          const dataTable =\n",
              "            await google.colab.kernel.invokeFunction('convertToInteractive',\n",
              "                                                     [key], {});\n",
              "          if (!dataTable) return;\n",
              "\n",
              "          const docLinkHtml = 'Like what you see? Visit the ' +\n",
              "            '<a target=\"_blank\" href=https://colab.research.google.com/notebooks/data_table.ipynb>data table notebook</a>'\n",
              "            + ' to learn more about interactive tables.';\n",
              "          element.innerHTML = '';\n",
              "          dataTable['output_type'] = 'display_data';\n",
              "          await google.colab.output.renderOutput(dataTable, element);\n",
              "          const docLink = document.createElement('div');\n",
              "          docLink.innerHTML = docLinkHtml;\n",
              "          element.appendChild(docLink);\n",
              "        }\n",
              "      </script>\n",
              "    </div>\n",
              "  </div>\n",
              "  "
            ],
            "text/plain": [
              "                                                text  toxic\n",
              "0  Explanation\\nWhy the edits made under my usern...      0\n",
              "1  D'aww! He matches this background colour I'm s...      0\n",
              "2  Hey man, I'm really not trying to edit war. It...      0\n",
              "3  \"\\nMore\\nI can't make any real suggestions on ...      0\n",
              "4  You, sir, are my hero. Any chance you remember...      0"
            ]
          },
          "execution_count": 3,
          "metadata": {},
          "output_type": "execute_result"
        }
      ],
      "source": [
        "try: \n",
        "    toxic_comments = pd.read_csv('/datasets/toxic_comments.csv')\n",
        "except: \n",
        "    toxic_comments = pd.read_csv('toxic_comments.csv')\n",
        "\n",
        "toxic_comments.head(5)"
      ]
    },
    {
      "cell_type": "code",
      "execution_count": null,
      "metadata": {
        "colab": {
          "base_uri": "https://localhost:8080/"
        },
        "id": "XS9tkLEgscn0",
        "outputId": "adfd2e8b-c3d4-4f7d-d911-98abbb7465bc"
      },
      "outputs": [
        {
          "name": "stdout",
          "output_type": "stream",
          "text": [
            "<class 'pandas.core.frame.DataFrame'>\n",
            "RangeIndex: 159571 entries, 0 to 159570\n",
            "Data columns (total 2 columns):\n",
            " #   Column  Non-Null Count   Dtype \n",
            "---  ------  --------------   ----- \n",
            " 0   text    159571 non-null  object\n",
            " 1   toxic   159571 non-null  int64 \n",
            "dtypes: int64(1), object(1)\n",
            "memory usage: 2.4+ MB\n"
          ]
        }
      ],
      "source": [
        "toxic_comments.info()"
      ]
    },
    {
      "cell_type": "markdown",
      "metadata": {
        "id": "yutwNESiscdx"
      },
      "source": [
        "В наборе данных имеется 159571 запись. Столбец text в нём содержит текст комментария, а toxic — целевой признак.\n",
        "\n",
        "Рассмотрим подробнее столбец toxic. Проверим, как часто встречается класс «1» или «0». Количество уникальных значений подсчитаем методом value_counts()."
      ]
    },
    {
      "cell_type": "code",
      "execution_count": null,
      "metadata": {
        "colab": {
          "base_uri": "https://localhost:8080/"
        },
        "id": "JOAEAm-cscQw",
        "outputId": "89027de2-d45a-49a1-a633-8cd09ee81912"
      },
      "outputs": [
        {
          "data": {
            "text/plain": [
              "0    0.898321\n",
              "1    0.101679\n",
              "Name: toxic, dtype: float64"
            ]
          },
          "execution_count": 5,
          "metadata": {},
          "output_type": "execute_result"
        }
      ],
      "source": [
        "# ballance of target classes\n",
        "toxic_comments['toxic'].value_counts(normalize=True)"
      ]
    },
    {
      "cell_type": "markdown",
      "metadata": {
        "id": "_zS7AAS4hmNy"
      },
      "source": [
        "Классы не сбалансированы, когда их соотношение далеко от 1:1. Класс «1» встречается реже, доля составляет только 10.2%. "
      ]
    },
    {
      "cell_type": "markdown",
      "metadata": {
        "id": "OH1aCCtn1weF"
      },
      "source": [
        "### Лемматизация\n"
      ]
    },
    {
      "cell_type": "markdown",
      "metadata": {
        "id": "TjhflQXs17tt"
      },
      "source": [
        "Прежде чем извлечь признаки из текста, упростим его. Выполним этапы предобработки текста:\n",
        "\n",
        "-Токенизация (англ. tokenization) — разбиение текста на токены: отдельные фразы, слова, символы.\n",
        "\n",
        "-Лемматизация (англ. lemmatization) — приведение слова к начальной форме — лемме.\n",
        "\n",
        "От лишних символов текст очистят регулярные выражения (англ. regular expressions). re.sub - это инструмент для поиска слова или числа по шаблону. Он определяет, из каких частей состоит строка и какие в них символы. \n",
        "\n",
        "Создадим функцию с использованием spacy и re.sub, которая оставит в тексте только символы и пробелы, потом уберём лишние пробелы. На вход она принимает исходные данные, а возвращает очищенный текст. Проверим предобработку на одной строке."
      ]
    },
    {
      "cell_type": "code",
      "execution_count": null,
      "metadata": {
        "id": "jV-aJQzbywHI"
      },
      "outputs": [],
      "source": [
        "import spacy\n",
        "\n",
        "nlp = spacy.load(\"en_core_web_sm\", disable=['parser', 'ner'])"
      ]
    },
    {
      "cell_type": "code",
      "execution_count": null,
      "metadata": {
        "id": "ozHFDKqo1IAd"
      },
      "outputs": [],
      "source": [
        "def lemma_by_spacy_clear(text):\n",
        "    text = text.lower()\n",
        "    text=re.sub(r'[^a-zA-Z ]',' ',text)\n",
        "    doc = nlp(text)\n",
        "    doc=\" \".join([token.lemma_ for token in doc])\n",
        "           \n",
        "    return \" \".join(doc.split())"
      ]
    },
    {
      "cell_type": "code",
      "execution_count": null,
      "metadata": {
        "colab": {
          "base_uri": "https://localhost:8080/"
        },
        "id": "amxBAYLt1H5W",
        "outputId": "a68b03a3-7a24-41b9-b3ec-f48b802e43d2"
      },
      "outputs": [
        {
          "name": "stdout",
          "output_type": "stream",
          "text": [
            "Исходный текст: D'aww! He matches this background colour I'm seemingly stuck with. Thanks.  (talk) 21:51, January 11, 2016 (UTC)\n",
            "Лемматизированный текст: d aww he match this background colour I m seemingly stick with thank talk january utc\n"
          ]
        }
      ],
      "source": [
        "print(\"Исходный текст:\", toxic_comments['text'][1])\n",
        "print(\"Лемматизированный текст:\", lemma_by_spacy_clear(toxic_comments['text'][1]))"
      ]
    },
    {
      "cell_type": "markdown",
      "metadata": {
        "id": "cJ3iNxWIAZ_T"
      },
      "source": [
        "Функция работает корректно. Обновим исходные данные: применим функцию для Лемматизации и для очистки."
      ]
    },
    {
      "cell_type": "code",
      "execution_count": null,
      "metadata": {
        "id": "ALHNqFDv1H01"
      },
      "outputs": [],
      "source": [
        "# lemmatization of data\n",
        "toxic_comments['lemm_text'] = toxic_comments['text'].apply(lemma_by_spacy_clear)"
      ]
    },
    {
      "cell_type": "code",
      "execution_count": null,
      "metadata": {
        "colab": {
          "base_uri": "https://localhost:8080/",
          "height": 206
        },
        "id": "Yc_4Nigi1Hxe",
        "outputId": "9676b605-c82e-4844-913a-328d2d0f4705"
      },
      "outputs": [
        {
          "data": {
            "text/html": [
              "\n",
              "  <div id=\"df-847c9ca7-8ac6-4644-8156-954833a3b80c\">\n",
              "    <div class=\"colab-df-container\">\n",
              "      <div>\n",
              "<style scoped>\n",
              "    .dataframe tbody tr th:only-of-type {\n",
              "        vertical-align: middle;\n",
              "    }\n",
              "\n",
              "    .dataframe tbody tr th {\n",
              "        vertical-align: top;\n",
              "    }\n",
              "\n",
              "    .dataframe thead th {\n",
              "        text-align: right;\n",
              "    }\n",
              "</style>\n",
              "<table border=\"1\" class=\"dataframe\">\n",
              "  <thead>\n",
              "    <tr style=\"text-align: right;\">\n",
              "      <th></th>\n",
              "      <th>lemm_text</th>\n",
              "      <th>toxic</th>\n",
              "    </tr>\n",
              "  </thead>\n",
              "  <tbody>\n",
              "    <tr>\n",
              "      <th>0</th>\n",
              "      <td>explanation why the edit make under my usernam...</td>\n",
              "      <td>0</td>\n",
              "    </tr>\n",
              "    <tr>\n",
              "      <th>1</th>\n",
              "      <td>d aww he match this background colour I m seem...</td>\n",
              "      <td>0</td>\n",
              "    </tr>\n",
              "    <tr>\n",
              "      <th>2</th>\n",
              "      <td>hey man I m really not try to edit war it s ju...</td>\n",
              "      <td>0</td>\n",
              "    </tr>\n",
              "    <tr>\n",
              "      <th>3</th>\n",
              "      <td>more I can t make any real suggestion on impro...</td>\n",
              "      <td>0</td>\n",
              "    </tr>\n",
              "    <tr>\n",
              "      <th>4</th>\n",
              "      <td>you sir be my hero any chance you remember wha...</td>\n",
              "      <td>0</td>\n",
              "    </tr>\n",
              "  </tbody>\n",
              "</table>\n",
              "</div>\n",
              "      <button class=\"colab-df-convert\" onclick=\"convertToInteractive('df-847c9ca7-8ac6-4644-8156-954833a3b80c')\"\n",
              "              title=\"Convert this dataframe to an interactive table.\"\n",
              "              style=\"display:none;\">\n",
              "        \n",
              "  <svg xmlns=\"http://www.w3.org/2000/svg\" height=\"24px\"viewBox=\"0 0 24 24\"\n",
              "       width=\"24px\">\n",
              "    <path d=\"M0 0h24v24H0V0z\" fill=\"none\"/>\n",
              "    <path d=\"M18.56 5.44l.94 2.06.94-2.06 2.06-.94-2.06-.94-.94-2.06-.94 2.06-2.06.94zm-11 1L8.5 8.5l.94-2.06 2.06-.94-2.06-.94L8.5 2.5l-.94 2.06-2.06.94zm10 10l.94 2.06.94-2.06 2.06-.94-2.06-.94-.94-2.06-.94 2.06-2.06.94z\"/><path d=\"M17.41 7.96l-1.37-1.37c-.4-.4-.92-.59-1.43-.59-.52 0-1.04.2-1.43.59L10.3 9.45l-7.72 7.72c-.78.78-.78 2.05 0 2.83L4 21.41c.39.39.9.59 1.41.59.51 0 1.02-.2 1.41-.59l7.78-7.78 2.81-2.81c.8-.78.8-2.07 0-2.86zM5.41 20L4 18.59l7.72-7.72 1.47 1.35L5.41 20z\"/>\n",
              "  </svg>\n",
              "      </button>\n",
              "      \n",
              "  <style>\n",
              "    .colab-df-container {\n",
              "      display:flex;\n",
              "      flex-wrap:wrap;\n",
              "      gap: 12px;\n",
              "    }\n",
              "\n",
              "    .colab-df-convert {\n",
              "      background-color: #E8F0FE;\n",
              "      border: none;\n",
              "      border-radius: 50%;\n",
              "      cursor: pointer;\n",
              "      display: none;\n",
              "      fill: #1967D2;\n",
              "      height: 32px;\n",
              "      padding: 0 0 0 0;\n",
              "      width: 32px;\n",
              "    }\n",
              "\n",
              "    .colab-df-convert:hover {\n",
              "      background-color: #E2EBFA;\n",
              "      box-shadow: 0px 1px 2px rgba(60, 64, 67, 0.3), 0px 1px 3px 1px rgba(60, 64, 67, 0.15);\n",
              "      fill: #174EA6;\n",
              "    }\n",
              "\n",
              "    [theme=dark] .colab-df-convert {\n",
              "      background-color: #3B4455;\n",
              "      fill: #D2E3FC;\n",
              "    }\n",
              "\n",
              "    [theme=dark] .colab-df-convert:hover {\n",
              "      background-color: #434B5C;\n",
              "      box-shadow: 0px 1px 3px 1px rgba(0, 0, 0, 0.15);\n",
              "      filter: drop-shadow(0px 1px 2px rgba(0, 0, 0, 0.3));\n",
              "      fill: #FFFFFF;\n",
              "    }\n",
              "  </style>\n",
              "\n",
              "      <script>\n",
              "        const buttonEl =\n",
              "          document.querySelector('#df-847c9ca7-8ac6-4644-8156-954833a3b80c button.colab-df-convert');\n",
              "        buttonEl.style.display =\n",
              "          google.colab.kernel.accessAllowed ? 'block' : 'none';\n",
              "\n",
              "        async function convertToInteractive(key) {\n",
              "          const element = document.querySelector('#df-847c9ca7-8ac6-4644-8156-954833a3b80c');\n",
              "          const dataTable =\n",
              "            await google.colab.kernel.invokeFunction('convertToInteractive',\n",
              "                                                     [key], {});\n",
              "          if (!dataTable) return;\n",
              "\n",
              "          const docLinkHtml = 'Like what you see? Visit the ' +\n",
              "            '<a target=\"_blank\" href=https://colab.research.google.com/notebooks/data_table.ipynb>data table notebook</a>'\n",
              "            + ' to learn more about interactive tables.';\n",
              "          element.innerHTML = '';\n",
              "          dataTable['output_type'] = 'display_data';\n",
              "          await google.colab.output.renderOutput(dataTable, element);\n",
              "          const docLink = document.createElement('div');\n",
              "          docLink.innerHTML = docLinkHtml;\n",
              "          element.appendChild(docLink);\n",
              "        }\n",
              "      </script>\n",
              "    </div>\n",
              "  </div>\n",
              "  "
            ],
            "text/plain": [
              "                                           lemm_text  toxic\n",
              "0  explanation why the edit make under my usernam...      0\n",
              "1  d aww he match this background colour I m seem...      0\n",
              "2  hey man I m really not try to edit war it s ju...      0\n",
              "3  more I can t make any real suggestion on impro...      0\n",
              "4  you sir be my hero any chance you remember wha...      0"
            ]
          },
          "execution_count": 10,
          "metadata": {},
          "output_type": "execute_result"
        }
      ],
      "source": [
        "# updated data\n",
        "toxic_comments_upd = toxic_comments[['lemm_text', 'toxic']].copy()\n",
        "\n",
        "toxic_comments_upd.head()"
      ]
    },
    {
      "cell_type": "markdown",
      "metadata": {
        "id": "TmeW4sRlLKQM"
      },
      "source": [
        "Слова теперь в начальных формах. Функция выполнила лемматизацию корректно."
      ]
    },
    {
      "cell_type": "markdown",
      "metadata": {
        "id": "nP-dCh_SXkXw"
      },
      "source": [
        "### Определение выборок\n",
        "\n"
      ]
    },
    {
      "cell_type": "markdown",
      "metadata": {
        "id": "ZjXFsreGiMxE"
      },
      "source": [
        "Столбец 'clear_text' будем называть - признаки. Признак, который нужно предсказать, — целевой: в нашей задаче это колонка 'toxic'.\n",
        "\n",
        "Тестовой выборки нет. Значит, данные нужно разбить на две части: обучающую и тестовую. Сделаем тестовую выборку размером 25% от исходных данных. Определим параметр stratify, который сохранит пропорции классов для целевого признака во всех выборках. Зафиксируем псевдослучайность для алгоритма обучения, укажем параметр random_state."
      ]
    },
    {
      "cell_type": "code",
      "execution_count": null,
      "metadata": {
        "id": "_ynkRWFJiO45"
      },
      "outputs": [],
      "source": [
        "# train and valid sets for data\n",
        "features_train, features_valid, target_train, target_valid = train_test_split(toxic_comments_upd['lemm_text'], toxic_comments_upd['toxic'], \n",
        "                                                    test_size=0.4, stratify=toxic_comments_upd['toxic'], random_state=123)\n",
        "\n",
        "# test and valid sets for data\n",
        "features_valid, features_test, target_valid, target_test = train_test_split(features_valid, target_valid, test_size=0.5, \n",
        "                                                                  random_state=123, stratify=target_valid)"
      ]
    },
    {
      "cell_type": "markdown",
      "metadata": {
        "id": "UQP9FOnYH9Gk"
      },
      "source": [
        "### TF-IDF\n",
        "\n"
      ]
    },
    {
      "cell_type": "markdown",
      "metadata": {
        "id": "9L1HyJE3J7FD"
      },
      "source": [
        "Посмотрим, как часто уникальное слово встречается во всём корпусе и в отдельном его тексте. Оценка важности слова определяется величиной TF-IDF. То есть TF отвечает за количество упоминаний слова в отдельном тексте, а IDF отражает частоту его употребления во всём корпусе.\n",
        "\n",
        "Определим стоп-слова, то есть слова без смысловой нагрузки. После этого нам будет проще найти слова, важные для классификации текстов."
      ]
    },
    {
      "cell_type": "code",
      "execution_count": null,
      "metadata": {
        "colab": {
          "base_uri": "https://localhost:8080/"
        },
        "id": "Je2CHJavaRVC",
        "outputId": "9b543f79-5871-43bd-aab5-4155f93d2cb3"
      },
      "outputs": [
        {
          "name": "stderr",
          "output_type": "stream",
          "text": [
            "[nltk_data] Downloading package stopwords to /root/nltk_data...\n",
            "[nltk_data]   Package stopwords is already up-to-date!\n"
          ]
        }
      ],
      "source": [
        "# stopwords definition\n",
        "nltk.download('stopwords')\n",
        "stopwords = set(nltk_stopwords.words('english'))"
      ]
    },
    {
      "cell_type": "markdown",
      "metadata": {
        "id": "SW2FqBpeaQ57"
      },
      "source": [
        "Рассчитать TF-IDF можно и в библиотеке sklearn, класс TfidfVectorizer. Создадим счётчик, указав в нём стоп-слова, и вызовем функцию fit_transform(). Укажем параметр min_df=5, чтобы подсчет игнорировал редкие слова (редкие случаи - когда слова упоминаются менее, чем в 5 комментариях) ."
      ]
    },
    {
      "cell_type": "code",
      "execution_count": null,
      "metadata": {
        "id": "cPpzcSq-lCeV"
      },
      "outputs": [],
      "source": [
        "# counter tf-idf\n",
        "count_tf_idf = TfidfVectorizer(stop_words=stopwords, min_df=5)\n",
        "\n",
        "# tf-idf calculation\n",
        "tf_idf_train = count_tf_idf.fit_transform(features_train)"
      ]
    },
    {
      "cell_type": "markdown",
      "metadata": {
        "id": "bPkr-Py8XA7R"
      },
      "source": [
        "Проверим размер исходной выборки и после подсчета TF-IDF."
      ]
    },
    {
      "cell_type": "code",
      "execution_count": null,
      "metadata": {
        "colab": {
          "base_uri": "https://localhost:8080/"
        },
        "id": "n5D8wVZOlCar",
        "outputId": "6ff25653-3086-472f-99b6-84c4529a6fd8"
      },
      "outputs": [
        {
          "name": "stdout",
          "output_type": "stream",
          "text": [
            "(95742,)\n",
            "(95742, 20760)\n"
          ]
        }
      ],
      "source": [
        "# train features shape\n",
        "print(features_train.shape)\n",
        "print(tf_idf_train.shape)"
      ]
    },
    {
      "cell_type": "markdown",
      "metadata": {
        "id": "T4AjOnnclCTm"
      },
      "source": [
        "Количество строк совпадает - все признаки после подсчета сохранены.\n",
        "\n",
        "Функцию fit() запускаем только на обучающей. Иначе тестирование будет нечестным: в модели будут учтены частоты слов из валидационной выборки. Посчитаем TF-IDF для валидационной выборки, вызовем функцию transform(). "
      ]
    },
    {
      "cell_type": "code",
      "execution_count": null,
      "metadata": {
        "colab": {
          "base_uri": "https://localhost:8080/"
        },
        "id": "h4sSVw_6ZQAx",
        "outputId": "b6556c30-2304-4c24-b2f5-31b55744f855"
      },
      "outputs": [
        {
          "name": "stdout",
          "output_type": "stream",
          "text": [
            "(31914,)\n",
            "(31914, 20760)\n"
          ]
        }
      ],
      "source": [
        "# tf-idf calculation\n",
        "tf_idf_valid = count_tf_idf.transform(features_valid)\n",
        "\n",
        "# test features shape\n",
        "print(features_valid.shape)\n",
        "print(tf_idf_valid.shape)"
      ]
    },
    {
      "cell_type": "markdown",
      "metadata": {
        "id": "-6A_RUEWlCPX"
      },
      "source": [
        "Количество строк совпадает - все признаки после подсчета сохранены."
      ]
    },
    {
      "cell_type": "markdown",
      "metadata": {
        "id": "oIM45JRAaajd"
      },
      "source": [
        "### Вывод\n",
        "\n"
      ]
    },
    {
      "cell_type": "markdown",
      "metadata": {
        "id": "PBMj-0hylCMJ"
      },
      "source": [
        "Мы получили архив с комментариями пользователей. В наборе данных имеется 159571 запись. Столбец text в нём содержит текст комментария, а toxic — целевой признак.\n",
        "\n",
        "Классы целевого признака не сбалансированы. Класс «1» встречается реже, доля составляет только 10.2% от всех данных.\n",
        "\n",
        "Выполнены этапы предобработки текста: Лемматизация и очистка. \n",
        "\n",
        "Подготовили три вида набора данных (обучающая, валидационная и тестовая выборки) для создания будущей модели.\n",
        "\n",
        "Создали матрицы cо значениями TF-IDF для каждой выборки. Эти значения будем использовать как признаки для обучения/предсказания модели.\n",
        "\n",
        "Выполненная обработка данных поможет нам точнее и быстрее обучить модель."
      ]
    },
    {
      "cell_type": "markdown",
      "metadata": {
        "id": "a5heinFSsHZc"
      },
      "source": [
        "## Обучение"
      ]
    },
    {
      "cell_type": "markdown",
      "metadata": {
        "id": "V80DAoAqx4iW"
      },
      "source": [
        "#### Изменение порога"
      ]
    },
    {
      "cell_type": "markdown",
      "metadata": {
        "id": "F-w4DrK4tJ-P"
      },
      "source": [
        "Граница, где заканчивается отрицательный класс и начинается положительный, называется порогом. По умолчанию он равен 0.5. Изменим значение порога и посмотрим, какими станут метрики. В библиотеке sklearn вероятность классов вычисляет функция predict_proba(). На вход она получает признаки объектов, а возвращает вероятности. Создадим функцию для подбора порога для отбора лучшей метрики предсказаний модели."
      ]
    },
    {
      "cell_type": "code",
      "execution_count": null,
      "metadata": {
        "id": "qr1KOylJtUgK"
      },
      "outputs": [],
      "source": [
        "# function of threshold for f1 quality \n",
        "\n",
        "def thr(model, features_test, target_test):\n",
        "    \n",
        "    probabilities_test = model.predict_proba(features_test)\n",
        "    probabilities_one_test = probabilities_test[:, 1]\n",
        "\n",
        "    for threshold in np.arange(0, 0.8, 0.1):\n",
        "        predicted_test = probabilities_one_test > threshold\n",
        "    \n",
        "        result = f1_score(target_test, predicted_test)       \n",
        "        \n",
        "        print(\"Порог = {:.2f} | f1 = {:.5f},\".format(threshold, result))"
      ]
    },
    {
      "cell_type": "markdown",
      "metadata": {
        "id": "ccTt_mSVynkq"
      },
      "source": [
        "Исследуем качество моделей при разных порогах на валидационной выборке, используя полученную функцию."
      ]
    },
    {
      "cell_type": "markdown",
      "metadata": {
        "id": "k4woPHQeUq7U"
      },
      "source": [
        "#### Логистическая регрессия"
      ]
    },
    {
      "cell_type": "code",
      "execution_count": null,
      "metadata": {
        "colab": {
          "base_uri": "https://localhost:8080/"
        },
        "id": "9hX-mWq6j1i3",
        "outputId": "b1072892-337f-470a-81a7-d6873bef7be0"
      },
      "outputs": [
        {
          "name": "stdout",
          "output_type": "stream",
          "text": [
            "Порог = 0.00 | f1 = 0.18459,\n",
            "Порог = 0.10 | f1 = 0.68307,\n",
            "Порог = 0.20 | f1 = 0.77674,\n",
            "Порог = 0.30 | f1 = 0.78270,\n",
            "Порог = 0.40 | f1 = 0.76189,\n",
            "Порог = 0.50 | f1 = 0.74352,\n",
            "Порог = 0.60 | f1 = 0.71088,\n",
            "Порог = 0.70 | f1 = 0.67044,\n"
          ]
        }
      ],
      "source": [
        "# model\n",
        "model_log = LogisticRegression(solver='liblinear', random_state=123)\n",
        "\n",
        "# model fit\n",
        "model_log.fit(tf_idf_train, target_train)\n",
        "\n",
        "# definition of quality for threshold\n",
        "thr(model_log, tf_idf_valid, target_valid)"
      ]
    },
    {
      "cell_type": "markdown",
      "metadata": {
        "id": "poL-FNElVb0x"
      },
      "source": [
        "Качество модели максимально при пороге 0.3.\n",
        "\n",
        "Придадим объектам редкого класса больший вес. Поменяем параметр на сбалансирование, укажем class_weight='balanced'."
      ]
    },
    {
      "cell_type": "code",
      "execution_count": null,
      "metadata": {
        "colab": {
          "base_uri": "https://localhost:8080/"
        },
        "id": "o7F6axpFAVM4",
        "outputId": "660ce90e-9e63-48d2-a054-3824060429e3"
      },
      "outputs": [
        {
          "name": "stdout",
          "output_type": "stream",
          "text": [
            "Порог = 0.00 | f1 = 0.18459,\n",
            "Порог = 0.10 | f1 = 0.36733,\n",
            "Порог = 0.20 | f1 = 0.52181,\n",
            "Порог = 0.30 | f1 = 0.62984,\n",
            "Порог = 0.40 | f1 = 0.70334,\n",
            "Порог = 0.50 | f1 = 0.74815,\n",
            "Порог = 0.60 | f1 = 0.77325,\n",
            "Порог = 0.70 | f1 = 0.78162,\n"
          ]
        }
      ],
      "source": [
        "# model\n",
        "model_log_ballance = LogisticRegression(class_weight='balanced', solver='liblinear', random_state=123)\n",
        "\n",
        "\n",
        "# model fit\n",
        "model_log_ballance.fit(tf_idf_train, target_train)\n",
        "\n",
        "# definition of quality for threshold\n",
        "thr(model_log_ballance, tf_idf_valid, target_valid)"
      ]
    },
    {
      "cell_type": "markdown",
      "metadata": {
        "id": "3cmh_7HQj1Uz"
      },
      "source": [
        "Сбалансирование модели не дает лучшего качества."
      ]
    },
    {
      "cell_type": "markdown",
      "metadata": {
        "id": "F8UIWSxMX7wI"
      },
      "source": [
        "### LightGBM"
      ]
    },
    {
      "cell_type": "code",
      "execution_count": null,
      "metadata": {
        "colab": {
          "base_uri": "https://localhost:8080/"
        },
        "id": "W63dFfs02ApM",
        "outputId": "17724a41-d09d-42ef-c5fb-7208b3c39103"
      },
      "outputs": [
        {
          "name": "stdout",
          "output_type": "stream",
          "text": [
            "Порог = 0.00 | f1 = 0.18459,\n",
            "Порог = 0.10 | f1 = 0.72583,\n",
            "Порог = 0.20 | f1 = 0.77472,\n",
            "Порог = 0.30 | f1 = 0.78109,\n",
            "Порог = 0.40 | f1 = 0.76928,\n",
            "Порог = 0.50 | f1 = 0.75973,\n",
            "Порог = 0.60 | f1 = 0.73494,\n",
            "Порог = 0.70 | f1 = 0.71104,\n"
          ]
        }
      ],
      "source": [
        "# model\n",
        "model_LG = LGBMClassifier(random_state=123)\n",
        "\n",
        "# model fit\n",
        "model_LG.fit(tf_idf_train, target_train)\n",
        "\n",
        "# definition of quality for threshold\n",
        "thr(model_LG, tf_idf_valid, target_valid)"
      ]
    },
    {
      "cell_type": "markdown",
      "metadata": {
        "id": "ZEmGvsZw2ApO"
      },
      "source": [
        "Качество модели максимально при пороге 0.3."
      ]
    },
    {
      "cell_type": "markdown",
      "metadata": {
        "id": "nYn-9ZBPYFWF"
      },
      "source": [
        "Придадим объектам редкого класса больший вес. Поменяем параметр на сбалансирование, укажем class_weight='balanced'."
      ]
    },
    {
      "cell_type": "code",
      "execution_count": null,
      "metadata": {
        "colab": {
          "base_uri": "https://localhost:8080/"
        },
        "id": "XjCyamo5XydG",
        "outputId": "4e677c05-9afb-4fd7-ab05-57ea423d6a69"
      },
      "outputs": [
        {
          "name": "stdout",
          "output_type": "stream",
          "text": [
            "Порог = 0.00 | f1 = 0.18459,\n",
            "Порог = 0.10 | f1 = 0.27747,\n",
            "Порог = 0.20 | f1 = 0.39131,\n",
            "Порог = 0.30 | f1 = 0.51688,\n",
            "Порог = 0.40 | f1 = 0.69007,\n",
            "Порог = 0.50 | f1 = 0.74272,\n",
            "Порог = 0.60 | f1 = 0.76251,\n",
            "Порог = 0.70 | f1 = 0.76414,\n"
          ]
        }
      ],
      "source": [
        "# model\n",
        "model_LG_ballance = LGBMClassifier(class_weight='balanced', random_state=123)\n",
        "\n",
        "# model fit\n",
        "model_LG_ballance.fit(tf_idf_train, target_train)\n",
        "\n",
        "# definition of quality for threshold\n",
        "thr(model_LG_ballance, tf_idf_valid, target_valid)"
      ]
    },
    {
      "cell_type": "markdown",
      "metadata": {
        "id": "Kh8NexzSYMZV"
      },
      "source": [
        "Сбалансирование модели не дает лучшего качества."
      ]
    },
    {
      "cell_type": "markdown",
      "metadata": {
        "id": "IIy7xjmGUq7R"
      },
      "source": [
        "### Случайный лес"
      ]
    },
    {
      "cell_type": "code",
      "execution_count": null,
      "metadata": {
        "colab": {
          "base_uri": "https://localhost:8080/"
        },
        "id": "NI2XbvL496JZ",
        "outputId": "3623098d-cad7-4e25-ad80-b70c8e73ec44"
      },
      "outputs": [
        {
          "name": "stdout",
          "output_type": "stream",
          "text": [
            "Порог = 0.00 | f1 = 0.23328,\n",
            "Порог = 0.10 | f1 = 0.65057,\n",
            "Порог = 0.20 | f1 = 0.75416,\n",
            "Порог = 0.30 | f1 = 0.78533,\n",
            "Порог = 0.40 | f1 = 0.77759,\n",
            "Порог = 0.50 | f1 = 0.75632,\n",
            "Порог = 0.60 | f1 = 0.70910,\n",
            "Порог = 0.70 | f1 = 0.64400,\n"
          ]
        }
      ],
      "source": [
        "# model\n",
        "model_RF= RandomForestClassifier(random_state=123)\n",
        "\n",
        "# model fit\n",
        "model_RF.fit(tf_idf_train, target_train)\n",
        "\n",
        "# definition of quality for threshold\n",
        "thr(model_RF, tf_idf_valid, target_valid)"
      ]
    },
    {
      "cell_type": "markdown",
      "metadata": {
        "id": "Aic6xy6R_BWk"
      },
      "source": [
        "Качество модели максимально при пороге 0.3."
      ]
    },
    {
      "cell_type": "markdown",
      "metadata": {
        "id": "VPPj1gwYYYn4"
      },
      "source": [
        "Придадим объектам редкого класса больший вес. Поменяем параметр на сбалансирование, укажем class_weight='balanced'."
      ]
    },
    {
      "cell_type": "code",
      "execution_count": null,
      "metadata": {
        "colab": {
          "base_uri": "https://localhost:8080/"
        },
        "id": "cuc4wSw4YSxR",
        "outputId": "f7c6b6a5-2d41-4ed2-d113-93ebc0c044da"
      },
      "outputs": [
        {
          "name": "stdout",
          "output_type": "stream",
          "text": [
            "Порог = 0.00 | f1 = 0.21608,\n",
            "Порог = 0.10 | f1 = 0.59108,\n",
            "Порог = 0.20 | f1 = 0.70612,\n",
            "Порог = 0.30 | f1 = 0.73401,\n",
            "Порог = 0.40 | f1 = 0.71976,\n",
            "Порог = 0.50 | f1 = 0.67532,\n",
            "Порог = 0.60 | f1 = 0.62048,\n",
            "Порог = 0.70 | f1 = 0.51573,\n"
          ]
        }
      ],
      "source": [
        "# model\n",
        "model_RF_ballance = RandomForestClassifier(class_weight='balanced', random_state=123)\n",
        "\n",
        "# model fit\n",
        "model_RF_ballance.fit(tf_idf_train, target_train)\n",
        "\n",
        "# definition of quality for threshold\n",
        "thr(model_RF_ballance, tf_idf_valid, target_valid)"
      ]
    },
    {
      "cell_type": "markdown",
      "metadata": {
        "id": "QNxXfC9gYtTp"
      },
      "source": [
        "Сбалансирование модели не дает лучшего качества."
      ]
    },
    {
      "cell_type": "markdown",
      "metadata": {
        "id": "QMWnjkrnar20"
      },
      "source": [
        "### Вывод\n",
        "\n"
      ]
    },
    {
      "cell_type": "markdown",
      "metadata": {
        "id": "8a-ISZYfsHZd"
      },
      "source": [
        "Все рассматриваемые модели делают наиболее точные предсказания при пороге 0.3. Качество по метрике f1 около 0.78.\n",
        "\n",
        "Сбалансирование модели (class_weight='balanced') не дает лучшего качества предсказаний."
      ]
    },
    {
      "cell_type": "markdown",
      "metadata": {
        "id": "OkSI0dEUsHZe"
      },
      "source": [
        "## Тест и Анализ"
      ]
    },
    {
      "cell_type": "markdown",
      "metadata": {
        "id": "WkPlja_ThjnJ"
      },
      "source": [
        "### Объединенная выборка\n",
        "\n"
      ]
    },
    {
      "cell_type": "markdown",
      "metadata": {
        "id": "_17mBODTCgVh"
      },
      "source": [
        "Подбор порога моделей был выполнен, поэтому можем объединить тренировочный и валидационные выборки. Выбранная модель обучится на большем количестве данных, что положительно скажется на финальных метриках."
      ]
    },
    {
      "cell_type": "code",
      "execution_count": null,
      "metadata": {
        "colab": {
          "base_uri": "https://localhost:8080/"
        },
        "id": "VqPFeoyANTfU",
        "outputId": "8b8c8a4b-7b77-436c-a7b7-a9ce38e9b369"
      },
      "outputs": [
        {
          "name": "stdout",
          "output_type": "stream",
          "text": [
            "Размер объединенной выборки для признаков: (127656,)\n",
            "Размер объединенной выборки для целевого признака: (127656,)\n",
            "Размер исходной выборки для признаков: (95742,)\n"
          ]
        }
      ],
      "source": [
        "# concatenate train and valid sets\n",
        "features_train_upd = pd.concat([features_train, features_valid])\n",
        "target_train_upd = pd.concat([target_train, target_valid])\n",
        "    \n",
        "features_train_upd = shuffle(features_train_upd, random_state=123)\n",
        "target_train_upd = shuffle(target_train_upd, random_state=123)\n",
        "\n",
        "print(f'Размер объединенной выборки для признаков: {features_train_upd.shape}')\n",
        "print(f'Размер объединенной выборки для целевого признака: {target_train_upd.shape}')\n",
        "print(f'Размер исходной выборки для признаков: {features_train.shape}')"
      ]
    },
    {
      "cell_type": "markdown",
      "metadata": {
        "id": "YcZg30dHhP_e"
      },
      "source": [
        "Посчитаем TF-IDF для объединенной выборки."
      ]
    },
    {
      "cell_type": "code",
      "execution_count": null,
      "metadata": {
        "id": "BPdk3OkziCMw"
      },
      "outputs": [],
      "source": [
        "# tf-idf calculation\n",
        "tf_idf_train_upd = count_tf_idf.fit_transform(features_train_upd)"
      ]
    },
    {
      "cell_type": "markdown",
      "metadata": {
        "id": "oDJ58jAzrpk8"
      },
      "source": [
        "Функцию fit() запускаем только на обучающей. Иначе тестирование будет нечестным: в модели будут учтены частоты слов из тестовой выборки. Посчитаем TF-IDF для тестовой выборки, вызовем функцию transform(). "
      ]
    },
    {
      "cell_type": "code",
      "execution_count": null,
      "metadata": {
        "id": "M5ZNRmRerDhc"
      },
      "outputs": [],
      "source": [
        "# tf-idf calculation\n",
        "tf_idf_test = count_tf_idf.transform(features_test)"
      ]
    },
    {
      "cell_type": "markdown",
      "metadata": {
        "id": "MB_1ZjyUiCMy"
      },
      "source": [
        "Проверим размер исходной выборки и после подсчета TF-IDF."
      ]
    },
    {
      "cell_type": "code",
      "execution_count": null,
      "metadata": {
        "colab": {
          "base_uri": "https://localhost:8080/"
        },
        "id": "ko_aXlmliCMz",
        "outputId": "58710732-c412-45ce-d44d-69d9bb823027"
      },
      "outputs": [
        {
          "name": "stdout",
          "output_type": "stream",
          "text": [
            "(127656,)\n",
            "(127656, 24634)\n"
          ]
        }
      ],
      "source": [
        "# train features shape\n",
        "print(features_train_upd.shape)\n",
        "print(tf_idf_train_upd.shape)"
      ]
    },
    {
      "cell_type": "code",
      "execution_count": null,
      "metadata": {
        "colab": {
          "base_uri": "https://localhost:8080/"
        },
        "id": "fvtzHOh-sG7b",
        "outputId": "479747db-9baa-489a-e323-6dcd2b570f4f"
      },
      "outputs": [
        {
          "name": "stdout",
          "output_type": "stream",
          "text": [
            "(31915,)\n",
            "(31915, 24634)\n"
          ]
        }
      ],
      "source": [
        "# test features shape\n",
        "print(features_test.shape)\n",
        "print(tf_idf_test.shape)"
      ]
    },
    {
      "cell_type": "markdown",
      "metadata": {
        "id": "hVk71CuEiCM0"
      },
      "source": [
        "Количество строк совпадает - все признаки после подсчета сохранены."
      ]
    },
    {
      "cell_type": "markdown",
      "metadata": {
        "id": "_zGjq-mJimGI"
      },
      "source": [
        "### Тест моделей\n",
        "\n"
      ]
    },
    {
      "cell_type": "markdown",
      "metadata": {
        "id": "MuXLupKACgGF"
      },
      "source": [
        "Чтобы знать точно, как предсказывает модель, возьмём новый датасет — тестовый набор данных. Проверим, как модели при лучшем пороге справятся с ним.\n",
        "\n",
        "Создадим функцию для предсказания модели с полученным порогом для отбора лучшего качества по метрики f1."
      ]
    },
    {
      "cell_type": "code",
      "execution_count": null,
      "metadata": {
        "id": "lr5CjdmTCf8l"
      },
      "outputs": [],
      "source": [
        "# threshold with best model predict quality\n",
        "threshold = .3\n",
        "\n",
        "# function for model test\n",
        "def test(model, threshold, features_test, target_test):\n",
        "  pred_proba = model.predict_proba(features_test)\n",
        "  predicted = (pred_proba[:,1] >= threshold).astype('int')\n",
        "  \n",
        "  return f1_score(target_test, predicted)"
      ]
    },
    {
      "cell_type": "markdown",
      "metadata": {
        "id": "mbtwAnIPtIMs"
      },
      "source": [
        "#### Логистическая регрессия"
      ]
    },
    {
      "cell_type": "code",
      "execution_count": null,
      "metadata": {
        "colab": {
          "base_uri": "https://localhost:8080/"
        },
        "id": "le6V1Aknmoz9",
        "outputId": "aabfdf9e-b93c-4b94-fc71-b946a31f2d03"
      },
      "outputs": [
        {
          "name": "stdout",
          "output_type": "stream",
          "text": [
            "f1 на тесте равно 0.782380013149244\n",
            "CPU times: user 1.47 s, sys: 1.1 s, total: 2.58 s\n",
            "Wall time: 1.39 s\n"
          ]
        }
      ],
      "source": [
        "%%time\n",
        "\n",
        "# model fit\n",
        "model_log.fit(tf_idf_train_upd, target_train_upd)\n",
        "\n",
        "# model test, f1 metric\n",
        "f1_log = test(model_log, threshold, tf_idf_test, target_test)\n",
        "\n",
        "print('f1 на тесте равно', f1_log)"
      ]
    },
    {
      "cell_type": "markdown",
      "metadata": {
        "id": "W_kIxa_ftIM3"
      },
      "source": [
        "#### LightGBM"
      ]
    },
    {
      "cell_type": "code",
      "execution_count": null,
      "metadata": {
        "colab": {
          "base_uri": "https://localhost:8080/"
        },
        "id": "QDvffPRztclV",
        "outputId": "5f1b04f1-bfbf-4ca8-ab3b-6741267ded8e"
      },
      "outputs": [
        {
          "name": "stdout",
          "output_type": "stream",
          "text": [
            "f1 на тесте равно 0.7797277349516154\n",
            "CPU times: user 2min 6s, sys: 877 ms, total: 2min 7s\n",
            "Wall time: 1min 6s\n"
          ]
        }
      ],
      "source": [
        "%%time\n",
        "\n",
        "# model fit\n",
        "model_LG.fit(tf_idf_train_upd, target_train_upd)\n",
        "\n",
        "# model test, f1 metric\n",
        "f1_LG = test(model_LG, threshold, tf_idf_test, target_test)\n",
        "\n",
        "print('f1 на тесте равно', f1_LG)"
      ]
    },
    {
      "cell_type": "markdown",
      "metadata": {
        "id": "3tt37R7utIM3"
      },
      "source": [
        "#### Случайный лес"
      ]
    },
    {
      "cell_type": "code",
      "execution_count": null,
      "metadata": {
        "colab": {
          "base_uri": "https://localhost:8080/"
        },
        "id": "YysGwMrCt3xL",
        "outputId": "06f7886a-d3b8-46a0-bfdf-8553033ce742"
      },
      "outputs": [
        {
          "name": "stdout",
          "output_type": "stream",
          "text": [
            "f1 на тесте равно 0.7855822550831794\n",
            "CPU times: user 5min 37s, sys: 399 ms, total: 5min 38s\n",
            "Wall time: 5min 36s\n"
          ]
        }
      ],
      "source": [
        "%%time\n",
        "\n",
        "# model fit\n",
        "model_RF.fit(tf_idf_train_upd, target_train_upd)\n",
        "\n",
        "# model test, f1 metric\n",
        "f1_RF = test(model_RF, threshold, tf_idf_test, target_test)\n",
        "\n",
        "print('f1 на тесте равно', f1_RF)"
      ]
    },
    {
      "cell_type": "markdown",
      "metadata": {
        "id": "fAxpilZz0WBu"
      },
      "source": [
        "Лучше всего предсказывает модель, обученная методом Случайный лес. Качество по метрики f1 равно 0.786 на тестовой выборке."
      ]
    },
    {
      "cell_type": "markdown",
      "metadata": {
        "id": "3zBe8I6T3Nhm"
      },
      "source": [
        "### AUC-ROC \n",
        "\n"
      ]
    },
    {
      "cell_type": "markdown",
      "metadata": {
        "id": "Ko4YhIKW3Twy"
      },
      "source": [
        "В результате исследования мы получили модели с необходимой точностью по f1. Проведем анализ моделей с помощью метрики AUC-ROC, посчитаем площадь под ROC-кривой. Напишем функцию для подсчета AUC-ROC, которая вернет вероятность класса \"1\". "
      ]
    },
    {
      "cell_type": "code",
      "execution_count": null,
      "metadata": {
        "id": "dOowvCjZCfgJ"
      },
      "outputs": [],
      "source": [
        "# function for probabilities of class one\n",
        "\n",
        "def proba_one(model, features_test):\n",
        "  proba_test = model.predict_proba(features_test)\n",
        "  proba_one = proba_test[:, 1]\n",
        "  return proba_one"
      ]
    },
    {
      "cell_type": "code",
      "execution_count": null,
      "metadata": {
        "colab": {
          "base_uri": "https://localhost:8080/"
        },
        "id": "6cPCLED5CHVF",
        "outputId": "1619d362-5d38-4fc1-e5ef-14b5cc69faa6"
      },
      "outputs": [
        {
          "name": "stdout",
          "output_type": "stream",
          "text": [
            "Логистическая регрессия. AUC-ROC = 0.97165\n",
            "LightGBM. AUC-ROC = 0.96453\n",
            "Случайный лес. AUC-ROC = 0.96534\n"
          ]
        }
      ],
      "source": [
        "# score auc_roc for models\n",
        "\n",
        "proba_one_log = proba_one(model_log, tf_idf_test)\n",
        "auc_roc_log = roc_auc_score(target_test, proba_one_log)\n",
        "print(f'Логистическая регрессия. AUC-ROC = {auc_roc_log:.5}')\n",
        "\n",
        "proba_one_LG = proba_one(model_LG, tf_idf_test)\n",
        "auc_roc_LG = roc_auc_score(target_test, proba_one_LG)\n",
        "print(f'LightGBM. AUC-ROC = {auc_roc_LG:.5}')\n",
        "\n",
        "proba_one_RF = proba_one(model_RF, tf_idf_test)\n",
        "auc_roc_RF = roc_auc_score(target_test, proba_one_RF)\n",
        "print(f'Случайный лес. AUC-ROC = {auc_roc_RF:.5}')"
      ]
    },
    {
      "cell_type": "markdown",
      "metadata": {
        "id": "dFAQwb-vBYEC"
      },
      "source": [
        "Выполним построение ROC-кривой для каждой модели. Для модели, которая всегда отвечает случайно, ROC-кривая выглядит как прямая, идущая из левого нижнего угла в верхний правый."
      ]
    },
    {
      "cell_type": "code",
      "execution_count": null,
      "metadata": {
        "colab": {
          "base_uri": "https://localhost:8080/",
          "height": 404
        },
        "id": "ML_cilph_dft",
        "outputId": "a93c3223-d2e4-4749-9caf-4b251a6f3c97"
      },
      "outputs": [
        {
          "data": {
            "image/png": "[encoded data removed]",
            "text/plain": [
              "<Figure size 720x432 with 1 Axes>"
            ]
          },
          "metadata": {},
          "output_type": "display_data"
        }
      ],
      "source": [
        "# ROC-curve for random model\n",
        "plt.style.use('dark_background')\n",
        "plt.figure(figsize=[10,6])\n",
        "plt.plot([0, 1], [0, 1], linestyle='--')\n",
        "\n",
        "# ROC-curve for models\n",
        "\n",
        "fpr, tpr, thresholds = roc_curve(target_test, proba_one_log)\n",
        "plt.plot(fpr, tpr,  label='Логистическая регрессия')\n",
        "\n",
        "fpr, tpr, thresholds = roc_curve(target_test, proba_one_LG)\n",
        "plt.plot(fpr, tpr,  label='LightGBM')\n",
        "\n",
        "fpr, tpr, thresholds = roc_curve(target_test, proba_one_RF)\n",
        "plt.plot(fpr, tpr,  label='Случайный лес')\n",
        "\n",
        "\n",
        "# plot visual details\n",
        "\n",
        "plt.xlim([0.0, 1.0])\n",
        "plt.ylim([0.0, 1.0])\n",
        "\n",
        "plt.xlabel('False Positive Rate')\n",
        "plt.ylabel('True Positive Rate')\n",
        "\n",
        "plt.title('ROC-кривая')\n",
        "plt.legend(loc='lower right', fontsize='x-large')\n",
        "plt.show()"
      ]
    },
    {
      "cell_type": "markdown",
      "metadata": {
        "id": "oZrEAf5F_dPt"
      },
      "source": [
        "Логистическая регрессия лидер по метрике: AUC-ROC до 0.97."
      ]
    },
    {
      "cell_type": "markdown",
      "metadata": {
        "id": "-0EIZccpR9E6"
      },
      "source": [
        "## Вывод "
      ]
    },
    {
      "cell_type": "markdown",
      "metadata": {
        "id": "_IuR1zcV_dFL"
      },
      "source": [
        "Мы получили архив с комментариями пользователей. В наборе данных имеется 159571 запись. Столбец text в нём содержит текст комментария, а toxic — целевой признак.\n",
        "\n",
        "Выполнены этапы предобработки текста: Лемматизация и очистка.\n",
        "\n",
        "Создали матрицы cо значениями TF-IDF. Эти значения использовали как признаки для обучения/предсказания модели.\n",
        "\n",
        "Лучше всего предсказывает модель, обученная методом Случайный лес. Качество по метрики f1 равно 0.786 на тестовой выборке.\n",
        "\n",
        "Метрика f1 указывает на качество при конкретном пороге. Если показатели AUC-ROC и f1 высокие, то модель можно считать успешной. Скорость работы не менее значимый критерий. Сделаем сводную таблицу по результатам исследования."
      ]
    },
    {
      "cell_type": "code",
      "execution_count": null,
      "metadata": {
        "colab": {
          "base_uri": "https://localhost:8080/",
          "height": 143
        },
        "id": "ZeeWdn27NTfu",
        "outputId": "4e2d6946-79c2-4bad-8319-c9ed885e4423",
        "scrolled": true
      },
      "outputs": [
        {
          "data": {
            "text/html": [
              "\n",
              "  <div id=\"df-6ce04407-2c69-46d7-9a7d-7ef7bbe18502\">\n",
              "    <div class=\"colab-df-container\">\n",
              "      <div>\n",
              "<style scoped>\n",
              "    .dataframe tbody tr th:only-of-type {\n",
              "        vertical-align: middle;\n",
              "    }\n",
              "\n",
              "    .dataframe tbody tr th {\n",
              "        vertical-align: top;\n",
              "    }\n",
              "\n",
              "    .dataframe thead th {\n",
              "        text-align: right;\n",
              "    }\n",
              "</style>\n",
              "<table border=\"1\" class=\"dataframe\">\n",
              "  <thead>\n",
              "    <tr style=\"text-align: right;\">\n",
              "      <th></th>\n",
              "      <th>модель</th>\n",
              "      <th>f1</th>\n",
              "      <th>AUC-ROC</th>\n",
              "      <th>скорость</th>\n",
              "    </tr>\n",
              "  </thead>\n",
              "  <tbody>\n",
              "    <tr>\n",
              "      <th>0</th>\n",
              "      <td>Логистическая регрессия</td>\n",
              "      <td>0.782380</td>\n",
              "      <td>0.971646</td>\n",
              "      <td>высокая</td>\n",
              "    </tr>\n",
              "    <tr>\n",
              "      <th>1</th>\n",
              "      <td>LightGBM</td>\n",
              "      <td>0.779728</td>\n",
              "      <td>0.964526</td>\n",
              "      <td>средняя</td>\n",
              "    </tr>\n",
              "    <tr>\n",
              "      <th>2</th>\n",
              "      <td>Случайный лес</td>\n",
              "      <td>0.785582</td>\n",
              "      <td>0.965337</td>\n",
              "      <td>низкая</td>\n",
              "    </tr>\n",
              "  </tbody>\n",
              "</table>\n",
              "</div>\n",
              "      <button class=\"colab-df-convert\" onclick=\"convertToInteractive('df-6ce04407-2c69-46d7-9a7d-7ef7bbe18502')\"\n",
              "              title=\"Convert this dataframe to an interactive table.\"\n",
              "              style=\"display:none;\">\n",
              "        \n",
              "  <svg xmlns=\"http://www.w3.org/2000/svg\" height=\"24px\"viewBox=\"0 0 24 24\"\n",
              "       width=\"24px\">\n",
              "    <path d=\"M0 0h24v24H0V0z\" fill=\"none\"/>\n",
              "    <path d=\"M18.56 5.44l.94 2.06.94-2.06 2.06-.94-2.06-.94-.94-2.06-.94 2.06-2.06.94zm-11 1L8.5 8.5l.94-2.06 2.06-.94-2.06-.94L8.5 2.5l-.94 2.06-2.06.94zm10 10l.94 2.06.94-2.06 2.06-.94-2.06-.94-.94-2.06-.94 2.06-2.06.94z\"/><path d=\"M17.41 7.96l-1.37-1.37c-.4-.4-.92-.59-1.43-.59-.52 0-1.04.2-1.43.59L10.3 9.45l-7.72 7.72c-.78.78-.78 2.05 0 2.83L4 21.41c.39.39.9.59 1.41.59.51 0 1.02-.2 1.41-.59l7.78-7.78 2.81-2.81c.8-.78.8-2.07 0-2.86zM5.41 20L4 18.59l7.72-7.72 1.47 1.35L5.41 20z\"/>\n",
              "  </svg>\n",
              "      </button>\n",
              "      \n",
              "  <style>\n",
              "    .colab-df-container {\n",
              "      display:flex;\n",
              "      flex-wrap:wrap;\n",
              "      gap: 12px;\n",
              "    }\n",
              "\n",
              "    .colab-df-convert {\n",
              "      background-color: #E8F0FE;\n",
              "      border: none;\n",
              "      border-radius: 50%;\n",
              "      cursor: pointer;\n",
              "      display: none;\n",
              "      fill: #1967D2;\n",
              "      height: 32px;\n",
              "      padding: 0 0 0 0;\n",
              "      width: 32px;\n",
              "    }\n",
              "\n",
              "    .colab-df-convert:hover {\n",
              "      background-color: #E2EBFA;\n",
              "      box-shadow: 0px 1px 2px rgba(60, 64, 67, 0.3), 0px 1px 3px 1px rgba(60, 64, 67, 0.15);\n",
              "      fill: #174EA6;\n",
              "    }\n",
              "\n",
              "    [theme=dark] .colab-df-convert {\n",
              "      background-color: #3B4455;\n",
              "      fill: #D2E3FC;\n",
              "    }\n",
              "\n",
              "    [theme=dark] .colab-df-convert:hover {\n",
              "      background-color: #434B5C;\n",
              "      box-shadow: 0px 1px 3px 1px rgba(0, 0, 0, 0.15);\n",
              "      filter: drop-shadow(0px 1px 2px rgba(0, 0, 0, 0.3));\n",
              "      fill: #FFFFFF;\n",
              "    }\n",
              "  </style>\n",
              "\n",
              "      <script>\n",
              "        const buttonEl =\n",
              "          document.querySelector('#df-6ce04407-2c69-46d7-9a7d-7ef7bbe18502 button.colab-df-convert');\n",
              "        buttonEl.style.display =\n",
              "          google.colab.kernel.accessAllowed ? 'block' : 'none';\n",
              "\n",
              "        async function convertToInteractive(key) {\n",
              "          const element = document.querySelector('#df-6ce04407-2c69-46d7-9a7d-7ef7bbe18502');\n",
              "          const dataTable =\n",
              "            await google.colab.kernel.invokeFunction('convertToInteractive',\n",
              "                                                     [key], {});\n",
              "          if (!dataTable) return;\n",
              "\n",
              "          const docLinkHtml = 'Like what you see? Visit the ' +\n",
              "            '<a target=\"_blank\" href=https://colab.research.google.com/notebooks/data_table.ipynb>data table notebook</a>'\n",
              "            + ' to learn more about interactive tables.';\n",
              "          element.innerHTML = '';\n",
              "          dataTable['output_type'] = 'display_data';\n",
              "          await google.colab.output.renderOutput(dataTable, element);\n",
              "          const docLink = document.createElement('div');\n",
              "          docLink.innerHTML = docLinkHtml;\n",
              "          element.appendChild(docLink);\n",
              "        }\n",
              "      </script>\n",
              "    </div>\n",
              "  </div>\n",
              "  "
            ],
            "text/plain": [
              "                    модель        f1   AUC-ROC скорость\n",
              "0  Логистическая регрессия  0.782380  0.971646  высокая\n",
              "1                 LightGBM  0.779728  0.964526  средняя\n",
              "2            Случайный лес  0.785582  0.965337   низкая"
            ]
          },
          "execution_count": 35,
          "metadata": {},
          "output_type": "execute_result"
        }
      ],
      "source": [
        "pd.DataFrame({'модель':['Логистическая регрессия', 'LightGBM', \n",
        "                        'Случайный лес'],\n",
        "              'f1':[f1_log, f1_LG, f1_RF],\n",
        "              'AUC-ROC':[auc_roc_log, auc_roc_LG, auc_roc_RF],\n",
        "             'скорость':['высокая', 'средняя', 'низкая']})"
      ]
    }
  ],
  "metadata": {
    "colab": {
      "collapsed_sections": [],
      "provenance": [],
      "toc_visible": true
    },
    "kernelspec": {
      "display_name": "Python 3 (ipykernel)",
      "language": "python",
      "name": "python3"
    },
    "language_info": {
      "codemirror_mode": {
        "name": "ipython",
        "version": 3
      },
      "file_extension": ".py",
      "mimetype": "text/x-python",
      "name": "python",
      "nbconvert_exporter": "python",
      "pygments_lexer": "ipython3",
      "version": "3.9.5"
    },
    "toc": {
      "base_numbering": 1,
      "nav_menu": {},
      "number_sections": true,
      "sideBar": true,
      "skip_h1_title": true,
      "title_cell": "Содержание",
      "title_sidebar": "Contents",
      "toc_cell": true,
      "toc_position": {
        "height": "calc(100% - 180px)",
        "left": "10px",
        "top": "150px",
        "width": "302.391px"
      },
      "toc_section_display": true,
      "toc_window_display": false
    }
  },
  "nbformat": 4,
  "nbformat_minor": 0
}