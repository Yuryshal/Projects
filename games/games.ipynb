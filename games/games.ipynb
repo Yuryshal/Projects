{
  "cells": [
    {
      "cell_type": "markdown",
      "metadata": {
        "id": "iViCdydwlxMK"
      },
      "source": [
        "# Анализ успешности игры\n",
        "Нам доступны данные о продажах игр, оценки пользователей и экспертов, жанры и платформы (например, Xbox или PlayStation) до 2016 года. Нам нужно определить популярные игры для рекламной компании магазина.\n",
        "\n",
        "**Цель исследования** \n",
        "\n",
        "Необходимо провести предварительный анализ полученных данных и проверить гипотезы, чтобы выявить определяющие успешность игры закономерности. Это позволит сделать ставку на потенциально популярный продукт и спланировать рекламные кампании.\n",
        "\n",
        "Проверка гипотез:\n",
        "- Средние пользовательские рейтинги платформ Xbox One и PC одинаковые;\n",
        "- Средние пользовательские рейтинги жанров Action (англ. «действие», экшен-игры) и Sports (англ. «спортивные соревнования») разные.\n",
        "\n",
        "**Ход исследования**\n",
        "\n",
        "Входные данные — архив доступный из открытых источников. О качестве данных ничего не известно. Поэтому перед нашим исследованием понадобится обзор данных. Необходимо проверить данные на ошибки и оценить их влияние. Затем, на этапе предобработки нужно поискать возможность исправить самые критичные ошибки и подготовить данные к анализу. Кроме исследовательского анализа необходимо проверить закономерности внутри каждого региона пользователей.\n",
        "\n",
        "\n",
        "Таким образом, исследование пройдёт в пять этапов:\n",
        " 1. Обзор данных.\n",
        " 2. Предобработка данных.\n",
        " 3. Исследование данных.\n",
        " 4. Портрет пользователя региона.\n",
        " 5. Проверка гипотез."
      ]
    },
    {
      "cell_type": "markdown",
      "metadata": {
        "id": "jA2-UxjklxMM"
      },
      "source": [
        "## Обзор данных"
      ]
    },
    {
      "cell_type": "markdown",
      "metadata": {
        "id": "EsMYeUpslxMN"
      },
      "source": [
        "### Открытие файлов. Общее предоставление"
      ]
    },
    {
      "cell_type": "markdown",
      "metadata": {
        "id": "rXbt3SlzlxMO"
      },
      "source": [
        "Импортируем библиотеки для работы в Питоне."
      ]
    },
    {
      "cell_type": "code",
      "execution_count": null,
      "metadata": {
        "id": "0guiHlMQlxMO"
      },
      "outputs": [],
      "source": [
        "import pandas as pd\n",
        "import numpy as np\n",
        "import seaborn as sns\n",
        "import matplotlib.pyplot as plt\n",
        "from scipy import stats as st"
      ]
    },
    {
      "cell_type": "code",
      "source": [
        "pd.options.mode.chained_assignment = None  # default='warn'"
      ],
      "metadata": {
        "id": "P_CzIXt1ORLC"
      },
      "execution_count": null,
      "outputs": []
    },
    {
      "cell_type": "markdown",
      "metadata": {
        "id": "pVPYkZBUlxMR"
      },
      "source": [
        "Откроем файл с данными и изучим общую информацию. Прочитаем файл games.csv и сохраним его в датасете `games`:"
      ]
    },
    {
      "cell_type": "code",
      "execution_count": null,
      "metadata": {
        "id": "TRgoh0_AlxMR",
        "outputId": "c62d0b00-40e4-4a90-e447-9b2a326c935c",
        "colab": {
          "base_uri": "https://localhost:8080/",
          "height": 424
        }
      },
      "outputs": [
        {
          "output_type": "execute_result",
          "data": {
            "text/plain": [
              "                                Name Platform  Year_of_Release         Genre  \\\n",
              "0                         Wii Sports      Wii           2006.0        Sports   \n",
              "1                  Super Mario Bros.      NES           1985.0      Platform   \n",
              "2                     Mario Kart Wii      Wii           2008.0        Racing   \n",
              "3                  Wii Sports Resort      Wii           2009.0        Sports   \n",
              "4           Pokemon Red/Pokemon Blue       GB           1996.0  Role-Playing   \n",
              "...                              ...      ...              ...           ...   \n",
              "16710  Samurai Warriors: Sanada Maru      PS3           2016.0        Action   \n",
              "16711               LMA Manager 2007     X360           2006.0        Sports   \n",
              "16712        Haitaka no Psychedelica      PSV           2016.0     Adventure   \n",
              "16713               Spirits & Spells      GBA           2003.0      Platform   \n",
              "16714            Winning Post 8 2016      PSV           2016.0    Simulation   \n",
              "\n",
              "       NA_sales  EU_sales  JP_sales  Other_sales  Critic_Score User_Score  \\\n",
              "0         41.36     28.96      3.77         8.45          76.0          8   \n",
              "1         29.08      3.58      6.81         0.77           NaN        NaN   \n",
              "2         15.68     12.76      3.79         3.29          82.0        8.3   \n",
              "3         15.61     10.93      3.28         2.95          80.0          8   \n",
              "4         11.27      8.89     10.22         1.00           NaN        NaN   \n",
              "...         ...       ...       ...          ...           ...        ...   \n",
              "16710      0.00      0.00      0.01         0.00           NaN        NaN   \n",
              "16711      0.00      0.01      0.00         0.00           NaN        NaN   \n",
              "16712      0.00      0.00      0.01         0.00           NaN        NaN   \n",
              "16713      0.01      0.00      0.00         0.00           NaN        NaN   \n",
              "16714      0.00      0.00      0.01         0.00           NaN        NaN   \n",
              "\n",
              "      Rating  \n",
              "0          E  \n",
              "1        NaN  \n",
              "2          E  \n",
              "3          E  \n",
              "4        NaN  \n",
              "...      ...  \n",
              "16710    NaN  \n",
              "16711    NaN  \n",
              "16712    NaN  \n",
              "16713    NaN  \n",
              "16714    NaN  \n",
              "\n",
              "[16715 rows x 11 columns]"
            ],
            "text/html": [
              "\n",
              "  <div id=\"df-b7c6949f-f20c-4a90-9c6d-8d82fef90c23\">\n",
              "    <div class=\"colab-df-container\">\n",
              "      <div>\n",
              "<style scoped>\n",
              "    .dataframe tbody tr th:only-of-type {\n",
              "        vertical-align: middle;\n",
              "    }\n",
              "\n",
              "    .dataframe tbody tr th {\n",
              "        vertical-align: top;\n",
              "    }\n",
              "\n",
              "    .dataframe thead th {\n",
              "        text-align: right;\n",
              "    }\n",
              "</style>\n",
              "<table border=\"1\" class=\"dataframe\">\n",
              "  <thead>\n",
              "    <tr style=\"text-align: right;\">\n",
              "      <th></th>\n",
              "      <th>Name</th>\n",
              "      <th>Platform</th>\n",
              "      <th>Year_of_Release</th>\n",
              "      <th>Genre</th>\n",
              "      <th>NA_sales</th>\n",
              "      <th>EU_sales</th>\n",
              "      <th>JP_sales</th>\n",
              "      <th>Other_sales</th>\n",
              "      <th>Critic_Score</th>\n",
              "      <th>User_Score</th>\n",
              "      <th>Rating</th>\n",
              "    </tr>\n",
              "  </thead>\n",
              "  <tbody>\n",
              "    <tr>\n",
              "      <th>0</th>\n",
              "      <td>Wii Sports</td>\n",
              "      <td>Wii</td>\n",
              "      <td>2006.0</td>\n",
              "      <td>Sports</td>\n",
              "      <td>41.36</td>\n",
              "      <td>28.96</td>\n",
              "      <td>3.77</td>\n",
              "      <td>8.45</td>\n",
              "      <td>76.0</td>\n",
              "      <td>8</td>\n",
              "      <td>E</td>\n",
              "    </tr>\n",
              "    <tr>\n",
              "      <th>1</th>\n",
              "      <td>Super Mario Bros.</td>\n",
              "      <td>NES</td>\n",
              "      <td>1985.0</td>\n",
              "      <td>Platform</td>\n",
              "      <td>29.08</td>\n",
              "      <td>3.58</td>\n",
              "      <td>6.81</td>\n",
              "      <td>0.77</td>\n",
              "      <td>NaN</td>\n",
              "      <td>NaN</td>\n",
              "      <td>NaN</td>\n",
              "    </tr>\n",
              "    <tr>\n",
              "      <th>2</th>\n",
              "      <td>Mario Kart Wii</td>\n",
              "      <td>Wii</td>\n",
              "      <td>2008.0</td>\n",
              "      <td>Racing</td>\n",
              "      <td>15.68</td>\n",
              "      <td>12.76</td>\n",
              "      <td>3.79</td>\n",
              "      <td>3.29</td>\n",
              "      <td>82.0</td>\n",
              "      <td>8.3</td>\n",
              "      <td>E</td>\n",
              "    </tr>\n",
              "    <tr>\n",
              "      <th>3</th>\n",
              "      <td>Wii Sports Resort</td>\n",
              "      <td>Wii</td>\n",
              "      <td>2009.0</td>\n",
              "      <td>Sports</td>\n",
              "      <td>15.61</td>\n",
              "      <td>10.93</td>\n",
              "      <td>3.28</td>\n",
              "      <td>2.95</td>\n",
              "      <td>80.0</td>\n",
              "      <td>8</td>\n",
              "      <td>E</td>\n",
              "    </tr>\n",
              "    <tr>\n",
              "      <th>4</th>\n",
              "      <td>Pokemon Red/Pokemon Blue</td>\n",
              "      <td>GB</td>\n",
              "      <td>1996.0</td>\n",
              "      <td>Role-Playing</td>\n",
              "      <td>11.27</td>\n",
              "      <td>8.89</td>\n",
              "      <td>10.22</td>\n",
              "      <td>1.00</td>\n",
              "      <td>NaN</td>\n",
              "      <td>NaN</td>\n",
              "      <td>NaN</td>\n",
              "    </tr>\n",
              "    <tr>\n",
              "      <th>...</th>\n",
              "      <td>...</td>\n",
              "      <td>...</td>\n",
              "      <td>...</td>\n",
              "      <td>...</td>\n",
              "      <td>...</td>\n",
              "      <td>...</td>\n",
              "      <td>...</td>\n",
              "      <td>...</td>\n",
              "      <td>...</td>\n",
              "      <td>...</td>\n",
              "      <td>...</td>\n",
              "    </tr>\n",
              "    <tr>\n",
              "      <th>16710</th>\n",
              "      <td>Samurai Warriors: Sanada Maru</td>\n",
              "      <td>PS3</td>\n",
              "      <td>2016.0</td>\n",
              "      <td>Action</td>\n",
              "      <td>0.00</td>\n",
              "      <td>0.00</td>\n",
              "      <td>0.01</td>\n",
              "      <td>0.00</td>\n",
              "      <td>NaN</td>\n",
              "      <td>NaN</td>\n",
              "      <td>NaN</td>\n",
              "    </tr>\n",
              "    <tr>\n",
              "      <th>16711</th>\n",
              "      <td>LMA Manager 2007</td>\n",
              "      <td>X360</td>\n",
              "      <td>2006.0</td>\n",
              "      <td>Sports</td>\n",
              "      <td>0.00</td>\n",
              "      <td>0.01</td>\n",
              "      <td>0.00</td>\n",
              "      <td>0.00</td>\n",
              "      <td>NaN</td>\n",
              "      <td>NaN</td>\n",
              "      <td>NaN</td>\n",
              "    </tr>\n",
              "    <tr>\n",
              "      <th>16712</th>\n",
              "      <td>Haitaka no Psychedelica</td>\n",
              "      <td>PSV</td>\n",
              "      <td>2016.0</td>\n",
              "      <td>Adventure</td>\n",
              "      <td>0.00</td>\n",
              "      <td>0.00</td>\n",
              "      <td>0.01</td>\n",
              "      <td>0.00</td>\n",
              "      <td>NaN</td>\n",
              "      <td>NaN</td>\n",
              "      <td>NaN</td>\n",
              "    </tr>\n",
              "    <tr>\n",
              "      <th>16713</th>\n",
              "      <td>Spirits &amp; Spells</td>\n",
              "      <td>GBA</td>\n",
              "      <td>2003.0</td>\n",
              "      <td>Platform</td>\n",
              "      <td>0.01</td>\n",
              "      <td>0.00</td>\n",
              "      <td>0.00</td>\n",
              "      <td>0.00</td>\n",
              "      <td>NaN</td>\n",
              "      <td>NaN</td>\n",
              "      <td>NaN</td>\n",
              "    </tr>\n",
              "    <tr>\n",
              "      <th>16714</th>\n",
              "      <td>Winning Post 8 2016</td>\n",
              "      <td>PSV</td>\n",
              "      <td>2016.0</td>\n",
              "      <td>Simulation</td>\n",
              "      <td>0.00</td>\n",
              "      <td>0.00</td>\n",
              "      <td>0.01</td>\n",
              "      <td>0.00</td>\n",
              "      <td>NaN</td>\n",
              "      <td>NaN</td>\n",
              "      <td>NaN</td>\n",
              "    </tr>\n",
              "  </tbody>\n",
              "</table>\n",
              "<p>16715 rows × 11 columns</p>\n",
              "</div>\n",
              "      <button class=\"colab-df-convert\" onclick=\"convertToInteractive('df-b7c6949f-f20c-4a90-9c6d-8d82fef90c23')\"\n",
              "              title=\"Convert this dataframe to an interactive table.\"\n",
              "              style=\"display:none;\">\n",
              "        \n",
              "  <svg xmlns=\"http://www.w3.org/2000/svg\" height=\"24px\"viewBox=\"0 0 24 24\"\n",
              "       width=\"24px\">\n",
              "    <path d=\"M0 0h24v24H0V0z\" fill=\"none\"/>\n",
              "    <path d=\"M18.56 5.44l.94 2.06.94-2.06 2.06-.94-2.06-.94-.94-2.06-.94 2.06-2.06.94zm-11 1L8.5 8.5l.94-2.06 2.06-.94-2.06-.94L8.5 2.5l-.94 2.06-2.06.94zm10 10l.94 2.06.94-2.06 2.06-.94-2.06-.94-.94-2.06-.94 2.06-2.06.94z\"/><path d=\"M17.41 7.96l-1.37-1.37c-.4-.4-.92-.59-1.43-.59-.52 0-1.04.2-1.43.59L10.3 9.45l-7.72 7.72c-.78.78-.78 2.05 0 2.83L4 21.41c.39.39.9.59 1.41.59.51 0 1.02-.2 1.41-.59l7.78-7.78 2.81-2.81c.8-.78.8-2.07 0-2.86zM5.41 20L4 18.59l7.72-7.72 1.47 1.35L5.41 20z\"/>\n",
              "  </svg>\n",
              "      </button>\n",
              "      \n",
              "  <style>\n",
              "    .colab-df-container {\n",
              "      display:flex;\n",
              "      flex-wrap:wrap;\n",
              "      gap: 12px;\n",
              "    }\n",
              "\n",
              "    .colab-df-convert {\n",
              "      background-color: #E8F0FE;\n",
              "      border: none;\n",
              "      border-radius: 50%;\n",
              "      cursor: pointer;\n",
              "      display: none;\n",
              "      fill: #1967D2;\n",
              "      height: 32px;\n",
              "      padding: 0 0 0 0;\n",
              "      width: 32px;\n",
              "    }\n",
              "\n",
              "    .colab-df-convert:hover {\n",
              "      background-color: #E2EBFA;\n",
              "      box-shadow: 0px 1px 2px rgba(60, 64, 67, 0.3), 0px 1px 3px 1px rgba(60, 64, 67, 0.15);\n",
              "      fill: #174EA6;\n",
              "    }\n",
              "\n",
              "    [theme=dark] .colab-df-convert {\n",
              "      background-color: #3B4455;\n",
              "      fill: #D2E3FC;\n",
              "    }\n",
              "\n",
              "    [theme=dark] .colab-df-convert:hover {\n",
              "      background-color: #434B5C;\n",
              "      box-shadow: 0px 1px 3px 1px rgba(0, 0, 0, 0.15);\n",
              "      filter: drop-shadow(0px 1px 2px rgba(0, 0, 0, 0.3));\n",
              "      fill: #FFFFFF;\n",
              "    }\n",
              "  </style>\n",
              "\n",
              "      <script>\n",
              "        const buttonEl =\n",
              "          document.querySelector('#df-b7c6949f-f20c-4a90-9c6d-8d82fef90c23 button.colab-df-convert');\n",
              "        buttonEl.style.display =\n",
              "          google.colab.kernel.accessAllowed ? 'block' : 'none';\n",
              "\n",
              "        async function convertToInteractive(key) {\n",
              "          const element = document.querySelector('#df-b7c6949f-f20c-4a90-9c6d-8d82fef90c23');\n",
              "          const dataTable =\n",
              "            await google.colab.kernel.invokeFunction('convertToInteractive',\n",
              "                                                     [key], {});\n",
              "          if (!dataTable) return;\n",
              "\n",
              "          const docLinkHtml = 'Like what you see? Visit the ' +\n",
              "            '<a target=\"_blank\" href=https://colab.research.google.com/notebooks/data_table.ipynb>data table notebook</a>'\n",
              "            + ' to learn more about interactive tables.';\n",
              "          element.innerHTML = '';\n",
              "          dataTable['output_type'] = 'display_data';\n",
              "          await google.colab.output.renderOutput(dataTable, element);\n",
              "          const docLink = document.createElement('div');\n",
              "          docLink.innerHTML = docLinkHtml;\n",
              "          element.appendChild(docLink);\n",
              "        }\n",
              "      </script>\n",
              "    </div>\n",
              "  </div>\n",
              "  "
            ]
          },
          "metadata": {},
          "execution_count": 4
        }
      ],
      "source": [
        "try:\n",
        "    games = pd.read_csv('/content/drive/MyDrive/Yury/all/games.csv') \n",
        "except: \n",
        "    games = pd.read_csv('games.csv')\n",
        "\n",
        "games"
      ]
    },
    {
      "cell_type": "code",
      "execution_count": null,
      "metadata": {
        "id": "xG4DR2uLlxMV",
        "colab": {
          "base_uri": "https://localhost:8080/"
        },
        "outputId": "404608fb-c24d-475b-e6ce-a68275166e8a"
      },
      "outputs": [
        {
          "output_type": "stream",
          "name": "stdout",
          "text": [
            "<class 'pandas.core.frame.DataFrame'>\n",
            "RangeIndex: 16715 entries, 0 to 16714\n",
            "Data columns (total 11 columns):\n",
            " #   Column           Non-Null Count  Dtype  \n",
            "---  ------           --------------  -----  \n",
            " 0   Name             16713 non-null  object \n",
            " 1   Platform         16715 non-null  object \n",
            " 2   Year_of_Release  16446 non-null  float64\n",
            " 3   Genre            16713 non-null  object \n",
            " 4   NA_sales         16715 non-null  float64\n",
            " 5   EU_sales         16715 non-null  float64\n",
            " 6   JP_sales         16715 non-null  float64\n",
            " 7   Other_sales      16715 non-null  float64\n",
            " 8   Critic_Score     8137 non-null   float64\n",
            " 9   User_Score       10014 non-null  object \n",
            " 10  Rating           9949 non-null   object \n",
            "dtypes: float64(6), object(5)\n",
            "memory usage: 1.4+ MB\n"
          ]
        }
      ],
      "source": [
        "games.info()"
      ]
    },
    {
      "cell_type": "markdown",
      "metadata": {
        "id": "Hlc0kJ-JlxMV"
      },
      "source": [
        "**Описание данных.**\n",
        "\n",
        "Согласно документации к данным:\n",
        "\n",
        "- Name — название игры\n",
        "- Platform — платформа\n",
        "- Year_of_Release — год выпуска\n",
        "- Genre — жанр игры\n",
        "- NA_sales — продажи в Северной Америке (миллионы проданных копий)\n",
        "- EU_sales — продажи в Европе (миллионы проданных копий)\n",
        "- JP_sales — продажи в Японии (миллионы проданных копий)\n",
        "- Other_sales — продажи в других странах (миллионы проданных копий)\n",
        "- Critic_Score — оценка критиков (максимум 100)\n",
        "- User_Score — оценка пользователей (максимум 10)\n",
        "- Rating — рейтинг от организации ESRB (англ. Entertainment Software Rating Board). Эта ассоциация определяет рейтинг компьютерных игр и присваивает им подходящую возрастную категорию."
      ]
    },
    {
      "cell_type": "markdown",
      "metadata": {
        "id": "LammV6RwlxMW"
      },
      "source": [
        "В предоставленном файле архив для 16715 игр. Название колонок содержат прописные буквы. Год выпуска указан типом данных `float`, а для оценки пользователей использован `object`.\n",
        "\n",
        "Имеются пропуски в некоторых столбцах. Найдем их долю для каждой колонки."
      ]
    },
    {
      "cell_type": "code",
      "execution_count": null,
      "metadata": {
        "id": "2Ba_Xa6JlxMW",
        "colab": {
          "base_uri": "https://localhost:8080/"
        },
        "outputId": "e87dcdbb-5547-4077-cdfd-4a3e5f7c1e99"
      },
      "outputs": [
        {
          "output_type": "execute_result",
          "data": {
            "text/plain": [
              "Name               0.000120\n",
              "Platform           0.000000\n",
              "Year_of_Release    0.016093\n",
              "Genre              0.000120\n",
              "NA_sales           0.000000\n",
              "EU_sales           0.000000\n",
              "JP_sales           0.000000\n",
              "Other_sales        0.000000\n",
              "Critic_Score       0.513192\n",
              "User_Score         0.400897\n",
              "Rating             0.404786\n",
              "dtype: float64"
            ]
          },
          "metadata": {},
          "execution_count": 6
        }
      ],
      "source": [
        "# share of 'NaN'\n",
        "\n",
        "games.isna().mean()"
      ]
    },
    {
      "cell_type": "markdown",
      "metadata": {
        "id": "hY_JC2YFlxMX"
      },
      "source": [
        "Найдем количество явных дубликатов - `duplicated().sum()`."
      ]
    },
    {
      "cell_type": "code",
      "execution_count": null,
      "metadata": {
        "scrolled": true,
        "id": "Yw_1MZCzlxMX",
        "colab": {
          "base_uri": "https://localhost:8080/"
        },
        "outputId": "ee550568-1344-4a5d-c13e-da26a77a0762"
      },
      "outputs": [
        {
          "output_type": "stream",
          "name": "stdout",
          "text": [
            "Количество явных дубликатов: 0\n"
          ]
        }
      ],
      "source": [
        "print('Количество явных дубликатов:', games.duplicated().sum())"
      ]
    },
    {
      "cell_type": "markdown",
      "metadata": {
        "id": "xgBT8rH5lxMY"
      },
      "source": [
        "### Вывод"
      ]
    },
    {
      "cell_type": "markdown",
      "metadata": {
        "id": "yI-fKcf-lxMY"
      },
      "source": [
        "Мы получили данные в виде таблицы из 16715 строк и 11 столбцов. Явных дубликатов не выявлено. В данных были обнаружены проблемы, некоторые из них необходимо решить, чтобы привести информацию в форму более удобную для анализа:\n",
        "- прописные буквы в названии столбцов;\n",
        "- тип данных в столбцах год и оценка указан некорректно;\n",
        "- имеются пропуски в 6 столбцах.\n",
        "\n",
        "Возможно пропуски появились при переносе данных. Выполним преобразование данных в следующем разделе."
      ]
    },
    {
      "cell_type": "markdown",
      "metadata": {
        "id": "0jJbvYDnlxMZ"
      },
      "source": [
        "## Предобработка данных"
      ]
    },
    {
      "cell_type": "markdown",
      "metadata": {
        "id": "h7_TJUyHlxMZ"
      },
      "source": [
        "### Названия столбцов"
      ]
    },
    {
      "cell_type": "markdown",
      "metadata": {
        "id": "rxIQh3k3lxMa"
      },
      "source": [
        "Приведем название столбцов к нижнему регистру."
      ]
    },
    {
      "cell_type": "code",
      "execution_count": null,
      "metadata": {
        "id": "KQK0_73ElxMa",
        "colab": {
          "base_uri": "https://localhost:8080/"
        },
        "outputId": "6a550566-6b52-409b-d4b1-2ac4e838907e"
      },
      "outputs": [
        {
          "output_type": "execute_result",
          "data": {
            "text/plain": [
              "Index(['name', 'platform', 'year_of_release', 'genre', 'na_sales', 'eu_sales',\n",
              "       'jp_sales', 'other_sales', 'critic_score', 'user_score', 'rating'],\n",
              "      dtype='object')"
            ]
          },
          "metadata": {},
          "execution_count": 8
        }
      ],
      "source": [
        "# update columns name to lowercase\n",
        "\n",
        "games.columns = games.columns.str.lower()\n",
        "games.columns"
      ]
    },
    {
      "cell_type": "markdown",
      "metadata": {
        "id": "Gopip748lxMa"
      },
      "source": [
        "Исправление прошло корректно."
      ]
    },
    {
      "cell_type": "markdown",
      "metadata": {
        "id": "73d8QmpvlxMb"
      },
      "source": [
        "### Пропущенные значения"
      ]
    },
    {
      "cell_type": "markdown",
      "metadata": {
        "id": "ndWVrp3zlxMb"
      },
      "source": [
        "Заполнить пропуски в столбцах `'name', 'genre', 'year_of_release'` каким-либо методом не представляется возможным. Пропуски этих значений составляют менее 1%. Удалим такие строки и запишем результат в `games_upd`."
      ]
    },
    {
      "cell_type": "code",
      "execution_count": null,
      "metadata": {
        "id": "Kyfup0QklxMc"
      },
      "outputs": [],
      "source": [
        "# remove strings with NaN\n",
        "\n",
        "games_upd = games.dropna(subset = ['name', 'genre', 'year_of_release'])"
      ]
    },
    {
      "cell_type": "markdown",
      "metadata": {
        "id": "uy5gJ-CAlxMc"
      },
      "source": [
        "Выполним срез для строк с NaN в столбцах `'critic_score', 'user_score', 'rating'` в новый датасет. Рассмотрим объемы продаж для этих данных, изучим распределение значений в столбцах методом `describe()`. "
      ]
    },
    {
      "cell_type": "code",
      "execution_count": null,
      "metadata": {
        "id": "K6qSo2yElxMc",
        "colab": {
          "base_uri": "https://localhost:8080/",
          "height": 300
        },
        "outputId": "58591c6f-b4cd-4459-c364-edb1c7091773"
      },
      "outputs": [
        {
          "output_type": "execute_result",
          "data": {
            "text/plain": [
              "          na_sales     eu_sales     jp_sales  other_sales\n",
              "count  8566.000000  8566.000000  8566.000000  8566.000000\n",
              "mean      0.177686     0.085900     0.098979     0.023604\n",
              "std       0.716408     0.322397     0.344227     0.088759\n",
              "min       0.000000     0.000000     0.000000     0.000000\n",
              "25%       0.000000     0.000000     0.000000     0.000000\n",
              "50%       0.020000     0.000000     0.000000     0.000000\n",
              "75%       0.140000     0.050000     0.060000     0.020000\n",
              "max      29.080000    10.950000    10.220000     2.740000"
            ],
            "text/html": [
              "\n",
              "  <div id=\"df-64aaad2e-602f-490e-8f94-b03deb809a0c\">\n",
              "    <div class=\"colab-df-container\">\n",
              "      <div>\n",
              "<style scoped>\n",
              "    .dataframe tbody tr th:only-of-type {\n",
              "        vertical-align: middle;\n",
              "    }\n",
              "\n",
              "    .dataframe tbody tr th {\n",
              "        vertical-align: top;\n",
              "    }\n",
              "\n",
              "    .dataframe thead th {\n",
              "        text-align: right;\n",
              "    }\n",
              "</style>\n",
              "<table border=\"1\" class=\"dataframe\">\n",
              "  <thead>\n",
              "    <tr style=\"text-align: right;\">\n",
              "      <th></th>\n",
              "      <th>na_sales</th>\n",
              "      <th>eu_sales</th>\n",
              "      <th>jp_sales</th>\n",
              "      <th>other_sales</th>\n",
              "    </tr>\n",
              "  </thead>\n",
              "  <tbody>\n",
              "    <tr>\n",
              "      <th>count</th>\n",
              "      <td>8566.000000</td>\n",
              "      <td>8566.000000</td>\n",
              "      <td>8566.000000</td>\n",
              "      <td>8566.000000</td>\n",
              "    </tr>\n",
              "    <tr>\n",
              "      <th>mean</th>\n",
              "      <td>0.177686</td>\n",
              "      <td>0.085900</td>\n",
              "      <td>0.098979</td>\n",
              "      <td>0.023604</td>\n",
              "    </tr>\n",
              "    <tr>\n",
              "      <th>std</th>\n",
              "      <td>0.716408</td>\n",
              "      <td>0.322397</td>\n",
              "      <td>0.344227</td>\n",
              "      <td>0.088759</td>\n",
              "    </tr>\n",
              "    <tr>\n",
              "      <th>min</th>\n",
              "      <td>0.000000</td>\n",
              "      <td>0.000000</td>\n",
              "      <td>0.000000</td>\n",
              "      <td>0.000000</td>\n",
              "    </tr>\n",
              "    <tr>\n",
              "      <th>25%</th>\n",
              "      <td>0.000000</td>\n",
              "      <td>0.000000</td>\n",
              "      <td>0.000000</td>\n",
              "      <td>0.000000</td>\n",
              "    </tr>\n",
              "    <tr>\n",
              "      <th>50%</th>\n",
              "      <td>0.020000</td>\n",
              "      <td>0.000000</td>\n",
              "      <td>0.000000</td>\n",
              "      <td>0.000000</td>\n",
              "    </tr>\n",
              "    <tr>\n",
              "      <th>75%</th>\n",
              "      <td>0.140000</td>\n",
              "      <td>0.050000</td>\n",
              "      <td>0.060000</td>\n",
              "      <td>0.020000</td>\n",
              "    </tr>\n",
              "    <tr>\n",
              "      <th>max</th>\n",
              "      <td>29.080000</td>\n",
              "      <td>10.950000</td>\n",
              "      <td>10.220000</td>\n",
              "      <td>2.740000</td>\n",
              "    </tr>\n",
              "  </tbody>\n",
              "</table>\n",
              "</div>\n",
              "      <button class=\"colab-df-convert\" onclick=\"convertToInteractive('df-64aaad2e-602f-490e-8f94-b03deb809a0c')\"\n",
              "              title=\"Convert this dataframe to an interactive table.\"\n",
              "              style=\"display:none;\">\n",
              "        \n",
              "  <svg xmlns=\"http://www.w3.org/2000/svg\" height=\"24px\"viewBox=\"0 0 24 24\"\n",
              "       width=\"24px\">\n",
              "    <path d=\"M0 0h24v24H0V0z\" fill=\"none\"/>\n",
              "    <path d=\"M18.56 5.44l.94 2.06.94-2.06 2.06-.94-2.06-.94-.94-2.06-.94 2.06-2.06.94zm-11 1L8.5 8.5l.94-2.06 2.06-.94-2.06-.94L8.5 2.5l-.94 2.06-2.06.94zm10 10l.94 2.06.94-2.06 2.06-.94-2.06-.94-.94-2.06-.94 2.06-2.06.94z\"/><path d=\"M17.41 7.96l-1.37-1.37c-.4-.4-.92-.59-1.43-.59-.52 0-1.04.2-1.43.59L10.3 9.45l-7.72 7.72c-.78.78-.78 2.05 0 2.83L4 21.41c.39.39.9.59 1.41.59.51 0 1.02-.2 1.41-.59l7.78-7.78 2.81-2.81c.8-.78.8-2.07 0-2.86zM5.41 20L4 18.59l7.72-7.72 1.47 1.35L5.41 20z\"/>\n",
              "  </svg>\n",
              "      </button>\n",
              "      \n",
              "  <style>\n",
              "    .colab-df-container {\n",
              "      display:flex;\n",
              "      flex-wrap:wrap;\n",
              "      gap: 12px;\n",
              "    }\n",
              "\n",
              "    .colab-df-convert {\n",
              "      background-color: #E8F0FE;\n",
              "      border: none;\n",
              "      border-radius: 50%;\n",
              "      cursor: pointer;\n",
              "      display: none;\n",
              "      fill: #1967D2;\n",
              "      height: 32px;\n",
              "      padding: 0 0 0 0;\n",
              "      width: 32px;\n",
              "    }\n",
              "\n",
              "    .colab-df-convert:hover {\n",
              "      background-color: #E2EBFA;\n",
              "      box-shadow: 0px 1px 2px rgba(60, 64, 67, 0.3), 0px 1px 3px 1px rgba(60, 64, 67, 0.15);\n",
              "      fill: #174EA6;\n",
              "    }\n",
              "\n",
              "    [theme=dark] .colab-df-convert {\n",
              "      background-color: #3B4455;\n",
              "      fill: #D2E3FC;\n",
              "    }\n",
              "\n",
              "    [theme=dark] .colab-df-convert:hover {\n",
              "      background-color: #434B5C;\n",
              "      box-shadow: 0px 1px 3px 1px rgba(0, 0, 0, 0.15);\n",
              "      filter: drop-shadow(0px 1px 2px rgba(0, 0, 0, 0.3));\n",
              "      fill: #FFFFFF;\n",
              "    }\n",
              "  </style>\n",
              "\n",
              "      <script>\n",
              "        const buttonEl =\n",
              "          document.querySelector('#df-64aaad2e-602f-490e-8f94-b03deb809a0c button.colab-df-convert');\n",
              "        buttonEl.style.display =\n",
              "          google.colab.kernel.accessAllowed ? 'block' : 'none';\n",
              "\n",
              "        async function convertToInteractive(key) {\n",
              "          const element = document.querySelector('#df-64aaad2e-602f-490e-8f94-b03deb809a0c');\n",
              "          const dataTable =\n",
              "            await google.colab.kernel.invokeFunction('convertToInteractive',\n",
              "                                                     [key], {});\n",
              "          if (!dataTable) return;\n",
              "\n",
              "          const docLinkHtml = 'Like what you see? Visit the ' +\n",
              "            '<a target=\"_blank\" href=https://colab.research.google.com/notebooks/data_table.ipynb>data table notebook</a>'\n",
              "            + ' to learn more about interactive tables.';\n",
              "          element.innerHTML = '';\n",
              "          dataTable['output_type'] = 'display_data';\n",
              "          await google.colab.output.renderOutput(dataTable, element);\n",
              "          const docLink = document.createElement('div');\n",
              "          docLink.innerHTML = docLinkHtml;\n",
              "          element.appendChild(docLink);\n",
              "        }\n",
              "      </script>\n",
              "    </div>\n",
              "  </div>\n",
              "  "
            ]
          },
          "metadata": {},
          "execution_count": 10
        }
      ],
      "source": [
        "# query data with NaN to new datset\n",
        "nan = games_upd.query('(critic_score!=critic_score) or (rating!=rating) or (user_score!=user_score)')\n",
        "\n",
        "# describe of sales values\n",
        "nan[['na_sales','eu_sales','jp_sales', 'other_sales']].describe()"
      ]
    },
    {
      "cell_type": "code",
      "execution_count": null,
      "metadata": {
        "id": "5xmkEf1YlxMd",
        "colab": {
          "base_uri": "https://localhost:8080/"
        },
        "outputId": "0ae78315-dbc4-4548-ecf4-a6f3749bc075"
      },
      "outputs": [
        {
          "output_type": "execute_result",
          "data": {
            "text/plain": [
              "0.03537240252159701"
            ]
          },
          "metadata": {},
          "execution_count": 11
        }
      ],
      "source": [
        "# share of games sales with more than 1 million copies\n",
        "\n",
        "len(nan.query('na_sales>1'))/len(nan)"
      ]
    },
    {
      "cell_type": "markdown",
      "metadata": {
        "id": "oby7LbLJlxMd"
      },
      "source": [
        "Продажи минимальны для игр без оценок или без рейтинга ESRB. 75% всех значений по продажам не превышают 0.14 млн. копий, а медианные значения, вообще, равны нулю или не больше 0.02 млн. копий. Такие игры не очень популярны, поэтому большинство пользователей и критиков может просто о них не знать. Рейтинг ESRB более актуален для Сев. Америки, непопулярные игры могли и не выходить на продажу в штатах. Также имеется небольшое число игр, которые довольно популярные с числом продаж более 1 млн. копий, например, в Сев. Америке доля таких игр составляет 3.5%. Вряд ли такие игры могут быть без оценки или рейтинга ESRB. Вероятно, что для популярных игр ошибки могли появится из-за технической проблемы при переносе данных.\n",
        "\n",
        "Логически заполнить пропуски в оценке или рейтингах невозможно, т.к. каждая игра - это уникальный продукт, независимый от других игр или категорий. Доля этих значений от 40% до 50%, что очень существенно при оценке информации в исследовании. В нашем случае, внесение изменений в колонки с рейтингом могут привести к неадекватным результатам в блоке статистического анализа (ниже по проекту), так как статистические тесты очень чувствительны к каким-либо масштабным манипуляциям с данными. Какие-либо изменения в данных приведут к серьезным искажениям. Пропущенные значения здесь придется оставить. "
      ]
    },
    {
      "cell_type": "markdown",
      "metadata": {
        "id": "jqPv1sD7lxMe"
      },
      "source": [
        "### Тип данных"
      ]
    },
    {
      "cell_type": "markdown",
      "metadata": {
        "id": "MPosEcYwlxMe"
      },
      "source": [
        "Обратим внимание на столбец `user_score`. Выведем все варианты значений. Применим метод `unique()`, который проверит все вариации значений для колонки."
      ]
    },
    {
      "cell_type": "code",
      "execution_count": null,
      "metadata": {
        "scrolled": true,
        "id": "dSUacDxzlxMf",
        "colab": {
          "base_uri": "https://localhost:8080/"
        },
        "outputId": "473a470f-996e-4d55-dd56-b6cb9e305b6a"
      },
      "outputs": [
        {
          "output_type": "execute_result",
          "data": {
            "text/plain": [
              "array(['8', nan, '8.3', '8.5', '6.6', '8.4', '8.6', '7.7', '6.3', '7.4',\n",
              "       '8.2', '9', '7.9', '8.1', '8.7', '7.1', '3.4', '5.3', '4.8', '3.2',\n",
              "       '8.9', '6.4', '7.8', '7.5', '2.6', '7.2', '9.2', '7', '7.3', '4.3',\n",
              "       '7.6', '5.7', '5', '9.1', '6.5', 'tbd', '8.8', '6.9', '9.4', '6.8',\n",
              "       '6.1', '6.7', '5.4', '4', '4.9', '4.5', '9.3', '6.2', '4.2', '6',\n",
              "       '3.7', '4.1', '5.8', '5.6', '5.5', '4.4', '4.6', '5.9', '3.9',\n",
              "       '3.1', '2.9', '5.2', '3.3', '4.7', '5.1', '3.5', '2.5', '1.9', '3',\n",
              "       '2.7', '2.2', '2', '9.5', '2.1', '3.6', '2.8', '1.8', '3.8', '0',\n",
              "       '1.6', '9.6', '2.4', '1.7', '1.1', '0.3', '1.5', '0.7', '1.2',\n",
              "       '2.3', '0.5', '1.3', '0.2', '0.6', '1.4', '0.9', '1', '9.7'],\n",
              "      dtype=object)"
            ]
          },
          "metadata": {},
          "execution_count": 12
        }
      ],
      "source": [
        "games_upd['user_score'].unique()"
      ]
    },
    {
      "cell_type": "markdown",
      "metadata": {
        "id": "_g7dxAoVlxMf"
      },
      "source": [
        "Мы обнаружили запись \"tbd\" вместо оценки. Это аббревиатура на английском \"to be determined\", что значит в переводе \"подлежит определению\". Рейтинг для таких игр еще не определен, будет логично оставить пропуск вместо \"tbd\"."
      ]
    },
    {
      "cell_type": "code",
      "execution_count": null,
      "metadata": {
        "scrolled": true,
        "id": "VLWqapVYlxMf"
      },
      "outputs": [],
      "source": [
        "# replace 'tbd' to NaN\n",
        "\n",
        "games_upd['user_score'].replace('tbd', np.nan, inplace=True)"
      ]
    },
    {
      "cell_type": "markdown",
      "metadata": {
        "id": "IQx6mFwWlxMg"
      },
      "source": [
        "Переведм тип данных для столбца `user_score` в `float`, а `year_of_release` в `integer`."
      ]
    },
    {
      "cell_type": "code",
      "execution_count": null,
      "metadata": {
        "id": "A5_TQu6MlxMg"
      },
      "outputs": [],
      "source": [
        "# transfer type of columns\n",
        "\n",
        "games_upd = games_upd.astype({\n",
        "    'user_score': 'float',\n",
        "    'year_of_release': 'int'})"
      ]
    },
    {
      "cell_type": "markdown",
      "metadata": {
        "id": "ALkgGh1FlxMh"
      },
      "source": [
        "### Суммарные продажи"
      ]
    },
    {
      "cell_type": "markdown",
      "metadata": {
        "id": "EKSPTQWMlxMh"
      },
      "source": [
        "Посчитаем суммарные продажи во всех регионах и запишите их в отдельный столбец."
      ]
    },
    {
      "cell_type": "code",
      "execution_count": null,
      "metadata": {
        "id": "aV66bIvylxMi",
        "colab": {
          "base_uri": "https://localhost:8080/",
          "height": 206
        },
        "outputId": "a798bd44-e909-4bdb-a936-d6c964d63e7a"
      },
      "outputs": [
        {
          "output_type": "execute_result",
          "data": {
            "text/plain": [
              "                       name platform  year_of_release         genre  na_sales  \\\n",
              "0                Wii Sports      Wii             2006        Sports     41.36   \n",
              "1         Super Mario Bros.      NES             1985      Platform     29.08   \n",
              "2            Mario Kart Wii      Wii             2008        Racing     15.68   \n",
              "3         Wii Sports Resort      Wii             2009        Sports     15.61   \n",
              "4  Pokemon Red/Pokemon Blue       GB             1996  Role-Playing     11.27   \n",
              "\n",
              "   eu_sales  jp_sales  other_sales  critic_score  user_score rating  sum_sales  \n",
              "0     28.96      3.77         8.45          76.0         8.0      E      82.54  \n",
              "1      3.58      6.81         0.77           NaN         NaN    NaN      40.24  \n",
              "2     12.76      3.79         3.29          82.0         8.3      E      35.52  \n",
              "3     10.93      3.28         2.95          80.0         8.0      E      32.77  \n",
              "4      8.89     10.22         1.00           NaN         NaN    NaN      31.38  "
            ],
            "text/html": [
              "\n",
              "  <div id=\"df-ea786b1e-f658-4c92-8d39-85f036398085\">\n",
              "    <div class=\"colab-df-container\">\n",
              "      <div>\n",
              "<style scoped>\n",
              "    .dataframe tbody tr th:only-of-type {\n",
              "        vertical-align: middle;\n",
              "    }\n",
              "\n",
              "    .dataframe tbody tr th {\n",
              "        vertical-align: top;\n",
              "    }\n",
              "\n",
              "    .dataframe thead th {\n",
              "        text-align: right;\n",
              "    }\n",
              "</style>\n",
              "<table border=\"1\" class=\"dataframe\">\n",
              "  <thead>\n",
              "    <tr style=\"text-align: right;\">\n",
              "      <th></th>\n",
              "      <th>name</th>\n",
              "      <th>platform</th>\n",
              "      <th>year_of_release</th>\n",
              "      <th>genre</th>\n",
              "      <th>na_sales</th>\n",
              "      <th>eu_sales</th>\n",
              "      <th>jp_sales</th>\n",
              "      <th>other_sales</th>\n",
              "      <th>critic_score</th>\n",
              "      <th>user_score</th>\n",
              "      <th>rating</th>\n",
              "      <th>sum_sales</th>\n",
              "    </tr>\n",
              "  </thead>\n",
              "  <tbody>\n",
              "    <tr>\n",
              "      <th>0</th>\n",
              "      <td>Wii Sports</td>\n",
              "      <td>Wii</td>\n",
              "      <td>2006</td>\n",
              "      <td>Sports</td>\n",
              "      <td>41.36</td>\n",
              "      <td>28.96</td>\n",
              "      <td>3.77</td>\n",
              "      <td>8.45</td>\n",
              "      <td>76.0</td>\n",
              "      <td>8.0</td>\n",
              "      <td>E</td>\n",
              "      <td>82.54</td>\n",
              "    </tr>\n",
              "    <tr>\n",
              "      <th>1</th>\n",
              "      <td>Super Mario Bros.</td>\n",
              "      <td>NES</td>\n",
              "      <td>1985</td>\n",
              "      <td>Platform</td>\n",
              "      <td>29.08</td>\n",
              "      <td>3.58</td>\n",
              "      <td>6.81</td>\n",
              "      <td>0.77</td>\n",
              "      <td>NaN</td>\n",
              "      <td>NaN</td>\n",
              "      <td>NaN</td>\n",
              "      <td>40.24</td>\n",
              "    </tr>\n",
              "    <tr>\n",
              "      <th>2</th>\n",
              "      <td>Mario Kart Wii</td>\n",
              "      <td>Wii</td>\n",
              "      <td>2008</td>\n",
              "      <td>Racing</td>\n",
              "      <td>15.68</td>\n",
              "      <td>12.76</td>\n",
              "      <td>3.79</td>\n",
              "      <td>3.29</td>\n",
              "      <td>82.0</td>\n",
              "      <td>8.3</td>\n",
              "      <td>E</td>\n",
              "      <td>35.52</td>\n",
              "    </tr>\n",
              "    <tr>\n",
              "      <th>3</th>\n",
              "      <td>Wii Sports Resort</td>\n",
              "      <td>Wii</td>\n",
              "      <td>2009</td>\n",
              "      <td>Sports</td>\n",
              "      <td>15.61</td>\n",
              "      <td>10.93</td>\n",
              "      <td>3.28</td>\n",
              "      <td>2.95</td>\n",
              "      <td>80.0</td>\n",
              "      <td>8.0</td>\n",
              "      <td>E</td>\n",
              "      <td>32.77</td>\n",
              "    </tr>\n",
              "    <tr>\n",
              "      <th>4</th>\n",
              "      <td>Pokemon Red/Pokemon Blue</td>\n",
              "      <td>GB</td>\n",
              "      <td>1996</td>\n",
              "      <td>Role-Playing</td>\n",
              "      <td>11.27</td>\n",
              "      <td>8.89</td>\n",
              "      <td>10.22</td>\n",
              "      <td>1.00</td>\n",
              "      <td>NaN</td>\n",
              "      <td>NaN</td>\n",
              "      <td>NaN</td>\n",
              "      <td>31.38</td>\n",
              "    </tr>\n",
              "  </tbody>\n",
              "</table>\n",
              "</div>\n",
              "      <button class=\"colab-df-convert\" onclick=\"convertToInteractive('df-ea786b1e-f658-4c92-8d39-85f036398085')\"\n",
              "              title=\"Convert this dataframe to an interactive table.\"\n",
              "              style=\"display:none;\">\n",
              "        \n",
              "  <svg xmlns=\"http://www.w3.org/2000/svg\" height=\"24px\"viewBox=\"0 0 24 24\"\n",
              "       width=\"24px\">\n",
              "    <path d=\"M0 0h24v24H0V0z\" fill=\"none\"/>\n",
              "    <path d=\"M18.56 5.44l.94 2.06.94-2.06 2.06-.94-2.06-.94-.94-2.06-.94 2.06-2.06.94zm-11 1L8.5 8.5l.94-2.06 2.06-.94-2.06-.94L8.5 2.5l-.94 2.06-2.06.94zm10 10l.94 2.06.94-2.06 2.06-.94-2.06-.94-.94-2.06-.94 2.06-2.06.94z\"/><path d=\"M17.41 7.96l-1.37-1.37c-.4-.4-.92-.59-1.43-.59-.52 0-1.04.2-1.43.59L10.3 9.45l-7.72 7.72c-.78.78-.78 2.05 0 2.83L4 21.41c.39.39.9.59 1.41.59.51 0 1.02-.2 1.41-.59l7.78-7.78 2.81-2.81c.8-.78.8-2.07 0-2.86zM5.41 20L4 18.59l7.72-7.72 1.47 1.35L5.41 20z\"/>\n",
              "  </svg>\n",
              "      </button>\n",
              "      \n",
              "  <style>\n",
              "    .colab-df-container {\n",
              "      display:flex;\n",
              "      flex-wrap:wrap;\n",
              "      gap: 12px;\n",
              "    }\n",
              "\n",
              "    .colab-df-convert {\n",
              "      background-color: #E8F0FE;\n",
              "      border: none;\n",
              "      border-radius: 50%;\n",
              "      cursor: pointer;\n",
              "      display: none;\n",
              "      fill: #1967D2;\n",
              "      height: 32px;\n",
              "      padding: 0 0 0 0;\n",
              "      width: 32px;\n",
              "    }\n",
              "\n",
              "    .colab-df-convert:hover {\n",
              "      background-color: #E2EBFA;\n",
              "      box-shadow: 0px 1px 2px rgba(60, 64, 67, 0.3), 0px 1px 3px 1px rgba(60, 64, 67, 0.15);\n",
              "      fill: #174EA6;\n",
              "    }\n",
              "\n",
              "    [theme=dark] .colab-df-convert {\n",
              "      background-color: #3B4455;\n",
              "      fill: #D2E3FC;\n",
              "    }\n",
              "\n",
              "    [theme=dark] .colab-df-convert:hover {\n",
              "      background-color: #434B5C;\n",
              "      box-shadow: 0px 1px 3px 1px rgba(0, 0, 0, 0.15);\n",
              "      filter: drop-shadow(0px 1px 2px rgba(0, 0, 0, 0.3));\n",
              "      fill: #FFFFFF;\n",
              "    }\n",
              "  </style>\n",
              "\n",
              "      <script>\n",
              "        const buttonEl =\n",
              "          document.querySelector('#df-ea786b1e-f658-4c92-8d39-85f036398085 button.colab-df-convert');\n",
              "        buttonEl.style.display =\n",
              "          google.colab.kernel.accessAllowed ? 'block' : 'none';\n",
              "\n",
              "        async function convertToInteractive(key) {\n",
              "          const element = document.querySelector('#df-ea786b1e-f658-4c92-8d39-85f036398085');\n",
              "          const dataTable =\n",
              "            await google.colab.kernel.invokeFunction('convertToInteractive',\n",
              "                                                     [key], {});\n",
              "          if (!dataTable) return;\n",
              "\n",
              "          const docLinkHtml = 'Like what you see? Visit the ' +\n",
              "            '<a target=\"_blank\" href=https://colab.research.google.com/notebooks/data_table.ipynb>data table notebook</a>'\n",
              "            + ' to learn more about interactive tables.';\n",
              "          element.innerHTML = '';\n",
              "          dataTable['output_type'] = 'display_data';\n",
              "          await google.colab.output.renderOutput(dataTable, element);\n",
              "          const docLink = document.createElement('div');\n",
              "          docLink.innerHTML = docLinkHtml;\n",
              "          element.appendChild(docLink);\n",
              "        }\n",
              "      </script>\n",
              "    </div>\n",
              "  </div>\n",
              "  "
            ]
          },
          "metadata": {},
          "execution_count": 15
        }
      ],
      "source": [
        "# sum sales calculation\n",
        "games_upd['sum_sales'] = games_upd['na_sales'] + games_upd['eu_sales'] + games_upd['jp_sales'] + games_upd['other_sales']\n",
        "\n",
        "games_upd.head() # top 5 strings"
      ]
    },
    {
      "cell_type": "markdown",
      "metadata": {
        "id": "UUfFkaHvlxMi"
      },
      "source": [
        "Проверим, как информация изменилась в таблице."
      ]
    },
    {
      "cell_type": "code",
      "execution_count": null,
      "metadata": {
        "id": "bURAJ25clxMi",
        "colab": {
          "base_uri": "https://localhost:8080/"
        },
        "outputId": "8cd14946-0853-4aad-c709-f63cc16e9d1a"
      },
      "outputs": [
        {
          "output_type": "stream",
          "name": "stdout",
          "text": [
            "<class 'pandas.core.frame.DataFrame'>\n",
            "Int64Index: 16444 entries, 0 to 16714\n",
            "Data columns (total 12 columns):\n",
            " #   Column           Non-Null Count  Dtype  \n",
            "---  ------           --------------  -----  \n",
            " 0   name             16444 non-null  object \n",
            " 1   platform         16444 non-null  object \n",
            " 2   year_of_release  16444 non-null  int64  \n",
            " 3   genre            16444 non-null  object \n",
            " 4   na_sales         16444 non-null  float64\n",
            " 5   eu_sales         16444 non-null  float64\n",
            " 6   jp_sales         16444 non-null  float64\n",
            " 7   other_sales      16444 non-null  float64\n",
            " 8   critic_score     7983 non-null   float64\n",
            " 9   user_score       7463 non-null   float64\n",
            " 10  rating           9768 non-null   object \n",
            " 11  sum_sales        16444 non-null  float64\n",
            "dtypes: float64(7), int64(1), object(4)\n",
            "memory usage: 1.6+ MB\n"
          ]
        }
      ],
      "source": [
        "games_upd.info()"
      ]
    },
    {
      "cell_type": "markdown",
      "metadata": {
        "id": "9afHbnmQlxMj"
      },
      "source": [
        "Преобразования типов данных прошли корректно."
      ]
    },
    {
      "cell_type": "markdown",
      "metadata": {
        "id": "Ow2NNX81lxMj"
      },
      "source": [
        "### Вывод"
      ]
    },
    {
      "cell_type": "markdown",
      "metadata": {
        "id": "p9S6qRjxlxMj"
      },
      "source": [
        "На этапе предобработки были исправлены ошибки, выявленные раннее. Общие данные были приведены в форму более удобную для анализа:\n",
        "- Названия столбцов записаны с помощью нижнего регистра.\n",
        "- Удалили пропуски в столбцах `'name', 'genre', 'year_of_release'`. Исходные данные сократились на 1%.\n",
        "- Тип данных для колонок `'user_score' и 'year_of_release'` скорректирован.\n",
        "- Был добавлен столбец с указанием суммарных продаж во всех регионах.\n",
        "\n",
        "Ошибки в данных скорее всего появились по техническим причинам при переносе данных. Пропуски в столбцах `'critic_score', 'user_score', 'rating'` возможно связаны с низкой популярностью некоторых игр."
      ]
    },
    {
      "cell_type": "markdown",
      "metadata": {
        "id": "whaDxXsLlxMk"
      },
      "source": [
        "## Исследование данных"
      ]
    },
    {
      "cell_type": "markdown",
      "metadata": {
        "id": "k3NWBjXblxMk"
      },
      "source": [
        "### Год выпуска"
      ]
    },
    {
      "cell_type": "markdown",
      "metadata": {
        "id": "x6O5_QkalxMl"
      },
      "source": [
        "Посмотрим, сколько игр выпускалось в разные годы."
      ]
    },
    {
      "cell_type": "code",
      "source": [
        "# dark theme for plot\n",
        "plt.style.use('dark_background')\n",
        "\n",
        "plt.figure(figsize=(12,7))\n",
        "\n",
        "# plot of grouped games with sum_sales for year_of_release\n",
        "games_year_group = games_upd.groupby('year_of_release')['sum_sales'].sum()\n",
        "sns.barplot(x=games_year_group.index, y=games_year_group.values, palette='mako')\n",
        "\n",
        "plt.xticks(rotation = 90)\n",
        "plt.ylabel('Объем продаж, млн. копий')\n",
        "plt.xlabel('Год выпуска');"
      ],
      "metadata": {
        "colab": {
          "base_uri": "https://localhost:8080/",
          "height": 459
        },
        "id": "MW4mw7FLQrR0",
        "outputId": "1335a528-2720-40be-9a3b-a263183873a9"
      },
      "execution_count": null,
      "outputs": [
        {
          "output_type": "display_data",
          "data": {
            "text/plain": [
              "<Figure size 864x504 with 1 Axes>"
            ],
            "image/png": "[encoded data removed]"
          },
          "metadata": {}
        }
      ]
    },
    {
      "cell_type": "markdown",
      "metadata": {
        "id": "ccXle_eElxMl"
      },
      "source": [
        "Выпуск игр имеет волнообразный характер. На графике можно отследить, как эта индустрия развивалась на мировой арене. Выделим основные временные периоды по объему выпуска игр. Добавим характерное описание к полученным этапам, основываясь на данных из открытых источников.\n",
        "- 1980-1995. Начальный этап. Выпуск игр колеблется, не превышая 100 млн. копий в год. Домашние компьютеры и игровые платформы начинают набирать популярность. Появляется множество компаний, занимающихся исключительно разработкой игр. 1990-е годы были ознаменованы заметными инновациями в компьютерных играх. Основными достижениями называют переход от растровой графики к полностью полигональному 3D, снижение популярности аркадных игр и появление нескольких новых жанров - шутер от первого лица и стратегия в реальном времени.\n",
        "- 1996-2000. Расцвет видеоигр. Выпуск игр колеблется, не превышая 250 млн. копий в год. Развитие компьютерных технологий стимулирует разработку игр нового поколения. В 1996 году на свет появилась Voodoo I – первая видео карта с поддержкой 3D-графики. В этот период были выпущены игры Duke Nukem 3D и Quake – первые полностью трехмерные игры. Игры становятся всё более атмосферными, и сюжет играет уже далеко не последнюю роль. Появляются художественные фильмы, основанные на сюжете видеоигр.\n",
        "- 2001-2008. Пик популярности. Выпуск игр плавно растет, достигая 660 млн. копий в год. Игровая индустрия продолжает двигаться вперед вместе с цифровыми технологиями: более мощные процессоры создают реалистичную детализированную графику. В мире консолей на рынок выходят легендарные Playstation от Sony, Xbox от Microsoft, а Nintendo выпускает Wii. Игровые тенденции также быстро распространяются по Интернету. Появляются онлайн-игры, в которых взаимодействуют десятки тысяч игроков.\n",
        "- 2009-2016. Спад популярности. Выпуск игр планомерно снижается, достигая 120 млн. копий в год. Происходит перенасыщение рынка различными играми, рядовых покупателей уже тяжело удивить. Экономический кризис 2008 года значительно влияет на компании разработчиков, заставляя их экономить и сокращать бюджет. Также кризис снижает покупательскую способность пользователей. Рынок смартфонов и планшетов создает новый огромный субрынок для разработчиков игр. Бесплатные скачиваемые игры также становятся все более популярными, что отрицательно сказывается на выпуске видеоигр.\n",
        "\n",
        "В исследовании не важны данные за все периоды, т.к. нас интересует актуальная ситуация на современном рынке. В том числе, определение популярных игровых платформ в наши дни."
      ]
    },
    {
      "cell_type": "markdown",
      "metadata": {
        "id": "HuYxGjlwlxMm"
      },
      "source": [
        "### Игровые платформы"
      ]
    },
    {
      "cell_type": "markdown",
      "metadata": {
        "id": "Sb2dgRsslxMm"
      },
      "source": [
        "Рассмотрим платформы за период после 2000 года. Выберем число наиболее популярных, т.е. платформ с наибольшими суммарными продажами и запишем их в \"словарь\" `platform_top`."
      ]
    },
    {
      "cell_type": "code",
      "execution_count": null,
      "metadata": {
        "id": "aXGgIT78lxMn",
        "colab": {
          "base_uri": "https://localhost:8080/"
        },
        "outputId": "7f10a35d-ff3c-45cc-cde2-e94b3810f39d"
      },
      "outputs": [
        {
          "output_type": "execute_result",
          "data": {
            "text/plain": [
              "platform\n",
              "PS2     1233.56\n",
              "X360     961.24\n",
              "PS3      931.34\n",
              "Wii      891.18\n",
              "DS       802.76\n",
              "PS4      314.14\n",
              "GBA      312.88\n",
              "PSP      289.53\n",
              "3DS      257.81\n",
              "XB       251.57\n",
              "PC       205.72\n",
              "GC       196.73\n",
              "XOne     159.32\n",
              "PS       140.70\n",
              "WiiU      82.19\n",
              "PSV       53.81\n",
              "Name: sum_sales, dtype: float64"
            ]
          },
          "metadata": {},
          "execution_count": 18
        }
      ],
      "source": [
        "# query of games released after 2000\n",
        "games_year = games_upd.query('year_of_release>=2000').copy()\n",
        "\n",
        "# top of platforms with the largest volume of sales\n",
        "platform_top = games_year.groupby('platform')['sum_sales'].sum().sort_values(ascending=False).head(16)\n",
        "platform_top"
      ]
    },
    {
      "cell_type": "markdown",
      "metadata": {
        "id": "DZ-_CTqklxMn"
      },
      "source": [
        "Сгруппируем суммарный объем продаж по годам для каждой из популярных платформ."
      ]
    },
    {
      "cell_type": "code",
      "execution_count": null,
      "metadata": {
        "id": "wyLuAdjulxMp",
        "colab": {
          "base_uri": "https://localhost:8080/",
          "height": 238
        },
        "outputId": "e323c6db-ad02-41ad-d29a-4c23b742626d"
      },
      "outputs": [
        {
          "output_type": "execute_result",
          "data": {
            "text/plain": [
              "platform         3DS     DS    GBA     GC     PC     PS     PS2  PS3  PS4  \\\n",
              "year_of_release                                                             \n",
              "2000             NaN    NaN   0.07    NaN   4.66  96.37   39.17  NaN  NaN   \n",
              "2001             NaN    NaN  61.53  26.34   5.47  35.59  166.43  NaN  NaN   \n",
              "2002             NaN    NaN  74.16  51.81   8.57   6.67  205.38  NaN  NaN   \n",
              "2003             NaN    NaN  56.67  50.61   8.84   2.07  184.31  NaN  NaN   \n",
              "2004             NaN  17.27  77.91  28.82  10.39    NaN  211.81  NaN  NaN   \n",
              "\n",
              "platform          PSP  PSV  Wii  WiiU  X360     XB  XOne  \n",
              "year_of_release                                           \n",
              "2000              NaN  NaN  NaN   NaN   NaN   0.99   NaN  \n",
              "2001              NaN  NaN  NaN   NaN   NaN  22.26   NaN  \n",
              "2002              NaN  NaN  NaN   NaN   NaN  48.01   NaN  \n",
              "2003              NaN  NaN  NaN   NaN   NaN  55.04   NaN  \n",
              "2004             7.06  NaN  NaN   NaN   NaN  65.42   NaN  "
            ],
            "text/html": [
              "\n",
              "  <div id=\"df-1f71e467-aef3-4003-ae20-eb83e50bf425\">\n",
              "    <div class=\"colab-df-container\">\n",
              "      <div>\n",
              "<style scoped>\n",
              "    .dataframe tbody tr th:only-of-type {\n",
              "        vertical-align: middle;\n",
              "    }\n",
              "\n",
              "    .dataframe tbody tr th {\n",
              "        vertical-align: top;\n",
              "    }\n",
              "\n",
              "    .dataframe thead th {\n",
              "        text-align: right;\n",
              "    }\n",
              "</style>\n",
              "<table border=\"1\" class=\"dataframe\">\n",
              "  <thead>\n",
              "    <tr style=\"text-align: right;\">\n",
              "      <th>platform</th>\n",
              "      <th>3DS</th>\n",
              "      <th>DS</th>\n",
              "      <th>GBA</th>\n",
              "      <th>GC</th>\n",
              "      <th>PC</th>\n",
              "      <th>PS</th>\n",
              "      <th>PS2</th>\n",
              "      <th>PS3</th>\n",
              "      <th>PS4</th>\n",
              "      <th>PSP</th>\n",
              "      <th>PSV</th>\n",
              "      <th>Wii</th>\n",
              "      <th>WiiU</th>\n",
              "      <th>X360</th>\n",
              "      <th>XB</th>\n",
              "      <th>XOne</th>\n",
              "    </tr>\n",
              "    <tr>\n",
              "      <th>year_of_release</th>\n",
              "      <th></th>\n",
              "      <th></th>\n",
              "      <th></th>\n",
              "      <th></th>\n",
              "      <th></th>\n",
              "      <th></th>\n",
              "      <th></th>\n",
              "      <th></th>\n",
              "      <th></th>\n",
              "      <th></th>\n",
              "      <th></th>\n",
              "      <th></th>\n",
              "      <th></th>\n",
              "      <th></th>\n",
              "      <th></th>\n",
              "      <th></th>\n",
              "    </tr>\n",
              "  </thead>\n",
              "  <tbody>\n",
              "    <tr>\n",
              "      <th>2000</th>\n",
              "      <td>NaN</td>\n",
              "      <td>NaN</td>\n",
              "      <td>0.07</td>\n",
              "      <td>NaN</td>\n",
              "      <td>4.66</td>\n",
              "      <td>96.37</td>\n",
              "      <td>39.17</td>\n",
              "      <td>NaN</td>\n",
              "      <td>NaN</td>\n",
              "      <td>NaN</td>\n",
              "      <td>NaN</td>\n",
              "      <td>NaN</td>\n",
              "      <td>NaN</td>\n",
              "      <td>NaN</td>\n",
              "      <td>0.99</td>\n",
              "      <td>NaN</td>\n",
              "    </tr>\n",
              "    <tr>\n",
              "      <th>2001</th>\n",
              "      <td>NaN</td>\n",
              "      <td>NaN</td>\n",
              "      <td>61.53</td>\n",
              "      <td>26.34</td>\n",
              "      <td>5.47</td>\n",
              "      <td>35.59</td>\n",
              "      <td>166.43</td>\n",
              "      <td>NaN</td>\n",
              "      <td>NaN</td>\n",
              "      <td>NaN</td>\n",
              "      <td>NaN</td>\n",
              "      <td>NaN</td>\n",
              "      <td>NaN</td>\n",
              "      <td>NaN</td>\n",
              "      <td>22.26</td>\n",
              "      <td>NaN</td>\n",
              "    </tr>\n",
              "    <tr>\n",
              "      <th>2002</th>\n",
              "      <td>NaN</td>\n",
              "      <td>NaN</td>\n",
              "      <td>74.16</td>\n",
              "      <td>51.81</td>\n",
              "      <td>8.57</td>\n",
              "      <td>6.67</td>\n",
              "      <td>205.38</td>\n",
              "      <td>NaN</td>\n",
              "      <td>NaN</td>\n",
              "      <td>NaN</td>\n",
              "      <td>NaN</td>\n",
              "      <td>NaN</td>\n",
              "      <td>NaN</td>\n",
              "      <td>NaN</td>\n",
              "      <td>48.01</td>\n",
              "      <td>NaN</td>\n",
              "    </tr>\n",
              "    <tr>\n",
              "      <th>2003</th>\n",
              "      <td>NaN</td>\n",
              "      <td>NaN</td>\n",
              "      <td>56.67</td>\n",
              "      <td>50.61</td>\n",
              "      <td>8.84</td>\n",
              "      <td>2.07</td>\n",
              "      <td>184.31</td>\n",
              "      <td>NaN</td>\n",
              "      <td>NaN</td>\n",
              "      <td>NaN</td>\n",
              "      <td>NaN</td>\n",
              "      <td>NaN</td>\n",
              "      <td>NaN</td>\n",
              "      <td>NaN</td>\n",
              "      <td>55.04</td>\n",
              "      <td>NaN</td>\n",
              "    </tr>\n",
              "    <tr>\n",
              "      <th>2004</th>\n",
              "      <td>NaN</td>\n",
              "      <td>17.27</td>\n",
              "      <td>77.91</td>\n",
              "      <td>28.82</td>\n",
              "      <td>10.39</td>\n",
              "      <td>NaN</td>\n",
              "      <td>211.81</td>\n",
              "      <td>NaN</td>\n",
              "      <td>NaN</td>\n",
              "      <td>7.06</td>\n",
              "      <td>NaN</td>\n",
              "      <td>NaN</td>\n",
              "      <td>NaN</td>\n",
              "      <td>NaN</td>\n",
              "      <td>65.42</td>\n",
              "      <td>NaN</td>\n",
              "    </tr>\n",
              "  </tbody>\n",
              "</table>\n",
              "</div>\n",
              "      <button class=\"colab-df-convert\" onclick=\"convertToInteractive('df-1f71e467-aef3-4003-ae20-eb83e50bf425')\"\n",
              "              title=\"Convert this dataframe to an interactive table.\"\n",
              "              style=\"display:none;\">\n",
              "        \n",
              "  <svg xmlns=\"http://www.w3.org/2000/svg\" height=\"24px\"viewBox=\"0 0 24 24\"\n",
              "       width=\"24px\">\n",
              "    <path d=\"M0 0h24v24H0V0z\" fill=\"none\"/>\n",
              "    <path d=\"M18.56 5.44l.94 2.06.94-2.06 2.06-.94-2.06-.94-.94-2.06-.94 2.06-2.06.94zm-11 1L8.5 8.5l.94-2.06 2.06-.94-2.06-.94L8.5 2.5l-.94 2.06-2.06.94zm10 10l.94 2.06.94-2.06 2.06-.94-2.06-.94-.94-2.06-.94 2.06-2.06.94z\"/><path d=\"M17.41 7.96l-1.37-1.37c-.4-.4-.92-.59-1.43-.59-.52 0-1.04.2-1.43.59L10.3 9.45l-7.72 7.72c-.78.78-.78 2.05 0 2.83L4 21.41c.39.39.9.59 1.41.59.51 0 1.02-.2 1.41-.59l7.78-7.78 2.81-2.81c.8-.78.8-2.07 0-2.86zM5.41 20L4 18.59l7.72-7.72 1.47 1.35L5.41 20z\"/>\n",
              "  </svg>\n",
              "      </button>\n",
              "      \n",
              "  <style>\n",
              "    .colab-df-container {\n",
              "      display:flex;\n",
              "      flex-wrap:wrap;\n",
              "      gap: 12px;\n",
              "    }\n",
              "\n",
              "    .colab-df-convert {\n",
              "      background-color: #E8F0FE;\n",
              "      border: none;\n",
              "      border-radius: 50%;\n",
              "      cursor: pointer;\n",
              "      display: none;\n",
              "      fill: #1967D2;\n",
              "      height: 32px;\n",
              "      padding: 0 0 0 0;\n",
              "      width: 32px;\n",
              "    }\n",
              "\n",
              "    .colab-df-convert:hover {\n",
              "      background-color: #E2EBFA;\n",
              "      box-shadow: 0px 1px 2px rgba(60, 64, 67, 0.3), 0px 1px 3px 1px rgba(60, 64, 67, 0.15);\n",
              "      fill: #174EA6;\n",
              "    }\n",
              "\n",
              "    [theme=dark] .colab-df-convert {\n",
              "      background-color: #3B4455;\n",
              "      fill: #D2E3FC;\n",
              "    }\n",
              "\n",
              "    [theme=dark] .colab-df-convert:hover {\n",
              "      background-color: #434B5C;\n",
              "      box-shadow: 0px 1px 3px 1px rgba(0, 0, 0, 0.15);\n",
              "      filter: drop-shadow(0px 1px 2px rgba(0, 0, 0, 0.3));\n",
              "      fill: #FFFFFF;\n",
              "    }\n",
              "  </style>\n",
              "\n",
              "      <script>\n",
              "        const buttonEl =\n",
              "          document.querySelector('#df-1f71e467-aef3-4003-ae20-eb83e50bf425 button.colab-df-convert');\n",
              "        buttonEl.style.display =\n",
              "          google.colab.kernel.accessAllowed ? 'block' : 'none';\n",
              "\n",
              "        async function convertToInteractive(key) {\n",
              "          const element = document.querySelector('#df-1f71e467-aef3-4003-ae20-eb83e50bf425');\n",
              "          const dataTable =\n",
              "            await google.colab.kernel.invokeFunction('convertToInteractive',\n",
              "                                                     [key], {});\n",
              "          if (!dataTable) return;\n",
              "\n",
              "          const docLinkHtml = 'Like what you see? Visit the ' +\n",
              "            '<a target=\"_blank\" href=https://colab.research.google.com/notebooks/data_table.ipynb>data table notebook</a>'\n",
              "            + ' to learn more about interactive tables.';\n",
              "          element.innerHTML = '';\n",
              "          dataTable['output_type'] = 'display_data';\n",
              "          await google.colab.output.renderOutput(dataTable, element);\n",
              "          const docLink = document.createElement('div');\n",
              "          docLink.innerHTML = docLinkHtml;\n",
              "          element.appendChild(docLink);\n",
              "        }\n",
              "      </script>\n",
              "    </div>\n",
              "  </div>\n",
              "  "
            ]
          },
          "metadata": {},
          "execution_count": 19
        }
      ],
      "source": [
        "# pivot_table for top pltaforms with sum_sales and year_of_release\n",
        "platform_map = games_year.query('platform in @platform_top.index').pivot_table(\n",
        "    index = 'year_of_release', columns = 'platform',values= 'sum_sales', aggfunc='sum')\n",
        "\n",
        "platform_map.head()"
      ]
    },
    {
      "cell_type": "markdown",
      "source": [
        "Сводная таблица напоминает матрицу с определенным заполнением ячеек. Пропущенные значения запишем нулем и сбросим индекс для корректного построения графика."
      ],
      "metadata": {
        "id": "j5no7TT9mpAw"
      }
    },
    {
      "cell_type": "code",
      "source": [
        "# preparing for plot, fillna and reset index\n",
        "platform_plot = platform_map.fillna(0)\n",
        "platform_plot = platform_plot.reset_index()\n",
        "\n",
        "platform_plot.head(5)"
      ],
      "metadata": {
        "colab": {
          "base_uri": "https://localhost:8080/",
          "height": 206
        },
        "id": "IimXSPg8WZjT",
        "outputId": "77ef9a93-f435-484d-d94f-06f8155857d3"
      },
      "execution_count": null,
      "outputs": [
        {
          "output_type": "execute_result",
          "data": {
            "text/plain": [
              "platform  year_of_release  3DS     DS    GBA     GC     PC     PS     PS2  \\\n",
              "0                    2000  0.0   0.00   0.07   0.00   4.66  96.37   39.17   \n",
              "1                    2001  0.0   0.00  61.53  26.34   5.47  35.59  166.43   \n",
              "2                    2002  0.0   0.00  74.16  51.81   8.57   6.67  205.38   \n",
              "3                    2003  0.0   0.00  56.67  50.61   8.84   2.07  184.31   \n",
              "4                    2004  0.0  17.27  77.91  28.82  10.39   0.00  211.81   \n",
              "\n",
              "platform  PS3  PS4   PSP  PSV  Wii  WiiU  X360     XB  XOne  \n",
              "0         0.0  0.0  0.00  0.0  0.0   0.0   0.0   0.99   0.0  \n",
              "1         0.0  0.0  0.00  0.0  0.0   0.0   0.0  22.26   0.0  \n",
              "2         0.0  0.0  0.00  0.0  0.0   0.0   0.0  48.01   0.0  \n",
              "3         0.0  0.0  0.00  0.0  0.0   0.0   0.0  55.04   0.0  \n",
              "4         0.0  0.0  7.06  0.0  0.0   0.0   0.0  65.42   0.0  "
            ],
            "text/html": [
              "\n",
              "  <div id=\"df-15756472-362a-4eee-a3b2-583ec6cb28a9\">\n",
              "    <div class=\"colab-df-container\">\n",
              "      <div>\n",
              "<style scoped>\n",
              "    .dataframe tbody tr th:only-of-type {\n",
              "        vertical-align: middle;\n",
              "    }\n",
              "\n",
              "    .dataframe tbody tr th {\n",
              "        vertical-align: top;\n",
              "    }\n",
              "\n",
              "    .dataframe thead th {\n",
              "        text-align: right;\n",
              "    }\n",
              "</style>\n",
              "<table border=\"1\" class=\"dataframe\">\n",
              "  <thead>\n",
              "    <tr style=\"text-align: right;\">\n",
              "      <th>platform</th>\n",
              "      <th>year_of_release</th>\n",
              "      <th>3DS</th>\n",
              "      <th>DS</th>\n",
              "      <th>GBA</th>\n",
              "      <th>GC</th>\n",
              "      <th>PC</th>\n",
              "      <th>PS</th>\n",
              "      <th>PS2</th>\n",
              "      <th>PS3</th>\n",
              "      <th>PS4</th>\n",
              "      <th>PSP</th>\n",
              "      <th>PSV</th>\n",
              "      <th>Wii</th>\n",
              "      <th>WiiU</th>\n",
              "      <th>X360</th>\n",
              "      <th>XB</th>\n",
              "      <th>XOne</th>\n",
              "    </tr>\n",
              "  </thead>\n",
              "  <tbody>\n",
              "    <tr>\n",
              "      <th>0</th>\n",
              "      <td>2000</td>\n",
              "      <td>0.0</td>\n",
              "      <td>0.00</td>\n",
              "      <td>0.07</td>\n",
              "      <td>0.00</td>\n",
              "      <td>4.66</td>\n",
              "      <td>96.37</td>\n",
              "      <td>39.17</td>\n",
              "      <td>0.0</td>\n",
              "      <td>0.0</td>\n",
              "      <td>0.00</td>\n",
              "      <td>0.0</td>\n",
              "      <td>0.0</td>\n",
              "      <td>0.0</td>\n",
              "      <td>0.0</td>\n",
              "      <td>0.99</td>\n",
              "      <td>0.0</td>\n",
              "    </tr>\n",
              "    <tr>\n",
              "      <th>1</th>\n",
              "      <td>2001</td>\n",
              "      <td>0.0</td>\n",
              "      <td>0.00</td>\n",
              "      <td>61.53</td>\n",
              "      <td>26.34</td>\n",
              "      <td>5.47</td>\n",
              "      <td>35.59</td>\n",
              "      <td>166.43</td>\n",
              "      <td>0.0</td>\n",
              "      <td>0.0</td>\n",
              "      <td>0.00</td>\n",
              "      <td>0.0</td>\n",
              "      <td>0.0</td>\n",
              "      <td>0.0</td>\n",
              "      <td>0.0</td>\n",
              "      <td>22.26</td>\n",
              "      <td>0.0</td>\n",
              "    </tr>\n",
              "    <tr>\n",
              "      <th>2</th>\n",
              "      <td>2002</td>\n",
              "      <td>0.0</td>\n",
              "      <td>0.00</td>\n",
              "      <td>74.16</td>\n",
              "      <td>51.81</td>\n",
              "      <td>8.57</td>\n",
              "      <td>6.67</td>\n",
              "      <td>205.38</td>\n",
              "      <td>0.0</td>\n",
              "      <td>0.0</td>\n",
              "      <td>0.00</td>\n",
              "      <td>0.0</td>\n",
              "      <td>0.0</td>\n",
              "      <td>0.0</td>\n",
              "      <td>0.0</td>\n",
              "      <td>48.01</td>\n",
              "      <td>0.0</td>\n",
              "    </tr>\n",
              "    <tr>\n",
              "      <th>3</th>\n",
              "      <td>2003</td>\n",
              "      <td>0.0</td>\n",
              "      <td>0.00</td>\n",
              "      <td>56.67</td>\n",
              "      <td>50.61</td>\n",
              "      <td>8.84</td>\n",
              "      <td>2.07</td>\n",
              "      <td>184.31</td>\n",
              "      <td>0.0</td>\n",
              "      <td>0.0</td>\n",
              "      <td>0.00</td>\n",
              "      <td>0.0</td>\n",
              "      <td>0.0</td>\n",
              "      <td>0.0</td>\n",
              "      <td>0.0</td>\n",
              "      <td>55.04</td>\n",
              "      <td>0.0</td>\n",
              "    </tr>\n",
              "    <tr>\n",
              "      <th>4</th>\n",
              "      <td>2004</td>\n",
              "      <td>0.0</td>\n",
              "      <td>17.27</td>\n",
              "      <td>77.91</td>\n",
              "      <td>28.82</td>\n",
              "      <td>10.39</td>\n",
              "      <td>0.00</td>\n",
              "      <td>211.81</td>\n",
              "      <td>0.0</td>\n",
              "      <td>0.0</td>\n",
              "      <td>7.06</td>\n",
              "      <td>0.0</td>\n",
              "      <td>0.0</td>\n",
              "      <td>0.0</td>\n",
              "      <td>0.0</td>\n",
              "      <td>65.42</td>\n",
              "      <td>0.0</td>\n",
              "    </tr>\n",
              "  </tbody>\n",
              "</table>\n",
              "</div>\n",
              "      <button class=\"colab-df-convert\" onclick=\"convertToInteractive('df-15756472-362a-4eee-a3b2-583ec6cb28a9')\"\n",
              "              title=\"Convert this dataframe to an interactive table.\"\n",
              "              style=\"display:none;\">\n",
              "        \n",
              "  <svg xmlns=\"http://www.w3.org/2000/svg\" height=\"24px\"viewBox=\"0 0 24 24\"\n",
              "       width=\"24px\">\n",
              "    <path d=\"M0 0h24v24H0V0z\" fill=\"none\"/>\n",
              "    <path d=\"M18.56 5.44l.94 2.06.94-2.06 2.06-.94-2.06-.94-.94-2.06-.94 2.06-2.06.94zm-11 1L8.5 8.5l.94-2.06 2.06-.94-2.06-.94L8.5 2.5l-.94 2.06-2.06.94zm10 10l.94 2.06.94-2.06 2.06-.94-2.06-.94-.94-2.06-.94 2.06-2.06.94z\"/><path d=\"M17.41 7.96l-1.37-1.37c-.4-.4-.92-.59-1.43-.59-.52 0-1.04.2-1.43.59L10.3 9.45l-7.72 7.72c-.78.78-.78 2.05 0 2.83L4 21.41c.39.39.9.59 1.41.59.51 0 1.02-.2 1.41-.59l7.78-7.78 2.81-2.81c.8-.78.8-2.07 0-2.86zM5.41 20L4 18.59l7.72-7.72 1.47 1.35L5.41 20z\"/>\n",
              "  </svg>\n",
              "      </button>\n",
              "      \n",
              "  <style>\n",
              "    .colab-df-container {\n",
              "      display:flex;\n",
              "      flex-wrap:wrap;\n",
              "      gap: 12px;\n",
              "    }\n",
              "\n",
              "    .colab-df-convert {\n",
              "      background-color: #E8F0FE;\n",
              "      border: none;\n",
              "      border-radius: 50%;\n",
              "      cursor: pointer;\n",
              "      display: none;\n",
              "      fill: #1967D2;\n",
              "      height: 32px;\n",
              "      padding: 0 0 0 0;\n",
              "      width: 32px;\n",
              "    }\n",
              "\n",
              "    .colab-df-convert:hover {\n",
              "      background-color: #E2EBFA;\n",
              "      box-shadow: 0px 1px 2px rgba(60, 64, 67, 0.3), 0px 1px 3px 1px rgba(60, 64, 67, 0.15);\n",
              "      fill: #174EA6;\n",
              "    }\n",
              "\n",
              "    [theme=dark] .colab-df-convert {\n",
              "      background-color: #3B4455;\n",
              "      fill: #D2E3FC;\n",
              "    }\n",
              "\n",
              "    [theme=dark] .colab-df-convert:hover {\n",
              "      background-color: #434B5C;\n",
              "      box-shadow: 0px 1px 3px 1px rgba(0, 0, 0, 0.15);\n",
              "      filter: drop-shadow(0px 1px 2px rgba(0, 0, 0, 0.3));\n",
              "      fill: #FFFFFF;\n",
              "    }\n",
              "  </style>\n",
              "\n",
              "      <script>\n",
              "        const buttonEl =\n",
              "          document.querySelector('#df-15756472-362a-4eee-a3b2-583ec6cb28a9 button.colab-df-convert');\n",
              "        buttonEl.style.display =\n",
              "          google.colab.kernel.accessAllowed ? 'block' : 'none';\n",
              "\n",
              "        async function convertToInteractive(key) {\n",
              "          const element = document.querySelector('#df-15756472-362a-4eee-a3b2-583ec6cb28a9');\n",
              "          const dataTable =\n",
              "            await google.colab.kernel.invokeFunction('convertToInteractive',\n",
              "                                                     [key], {});\n",
              "          if (!dataTable) return;\n",
              "\n",
              "          const docLinkHtml = 'Like what you see? Visit the ' +\n",
              "            '<a target=\"_blank\" href=https://colab.research.google.com/notebooks/data_table.ipynb>data table notebook</a>'\n",
              "            + ' to learn more about interactive tables.';\n",
              "          element.innerHTML = '';\n",
              "          dataTable['output_type'] = 'display_data';\n",
              "          await google.colab.output.renderOutput(dataTable, element);\n",
              "          const docLink = document.createElement('div');\n",
              "          docLink.innerHTML = docLinkHtml;\n",
              "          element.appendChild(docLink);\n",
              "        }\n",
              "      </script>\n",
              "    </div>\n",
              "  </div>\n",
              "  "
            ]
          },
          "metadata": {},
          "execution_count": 20
        }
      ]
    },
    {
      "cell_type": "code",
      "source": [
        "# plot for platforms\n",
        "ax = platform_plot.plot(x='year_of_release' ,style='.-', figsize=(10,6))\n",
        "\n",
        "plt.ylabel('Объем продаж, млн. копий')\n",
        "plt.xlabel('Год выпуска')\n",
        "\n",
        "ax.legend(bbox_to_anchor=(1.0, 1.0));"
      ],
      "metadata": {
        "colab": {
          "base_uri": "https://localhost:8080/",
          "height": 388
        },
        "id": "nPNEJ1HmXHk-",
        "outputId": "38d1b3ef-18be-4bdb-d296-aa04e0252d75"
      },
      "execution_count": null,
      "outputs": [
        {
          "output_type": "display_data",
          "data": {
            "text/plain": [
              "<Figure size 720x432 with 1 Axes>"
            ],
            "image/png": "[encoded data removed]"
          },
          "metadata": {}
        }
      ]
    },
    {
      "cell_type": "markdown",
      "metadata": {
        "id": "hzBCrvBulxMq"
      },
      "source": [
        "Некоторые прямые сливаются на графике, сложно определить динамику продаж игр в рамках одной платформы. Построим для таблицы тепловую карту с помощью метода `heatmap` из библиотеки `seaborn`, чтобы получить более ясное представление для распределения суммарных продаж по годам."
      ]
    },
    {
      "cell_type": "code",
      "execution_count": null,
      "metadata": {
        "id": "AxT7aq78lxMq",
        "colab": {
          "base_uri": "https://localhost:8080/",
          "height": 442
        },
        "outputId": "144f3ff6-5397-4c3a-a984-0f0ba7e25bbd"
      },
      "outputs": [
        {
          "output_type": "display_data",
          "data": {
            "text/plain": [
              "<Figure size 720x504 with 2 Axes>"
            ],
            "image/png": "[encoded data removed]"
          },
          "metadata": {}
        }
      ],
      "source": [
        "# heatmap for top platforms with sum_sales\n",
        "\n",
        "plt.figure(figsize=(10,7))\n",
        "sns.heatmap(platform_map, linewidths=.01, cmap='coolwarm')\n",
        "plt.show()"
      ]
    },
    {
      "cell_type": "markdown",
      "metadata": {
        "id": "vuhqnWB1lxMr"
      },
      "source": [
        "Полученная карта за период после 2000 года показывает, что платформы редко заходят на рынок с высокими продажами видеоигр для них, исключение только для Wii от Nintendo (видимо была проведена мощная рекламная компания перед запуском). Можно также определить закономерность, что платформы актуальны в среднем в течение 8-10 лет. После этого периода пользователи выбирают новые, только выпущенные платформы, которые вытесняют старые с рынка. Все игры для ПК собраны вместе без какой-либо градации. Домашний компьютер актуален всегда, его можно легко модернизировать, лишь приобрести современное \"железо\".\n",
        "\n",
        "Определим, за какой характерный срок появляются новые и исчезают старые платформы. Сделаем выборку по годам выпуска игр, с указанием значений min и max. Посчитаем разницу `year_of_release` для каждой платформы из нашего списка. Результат запишем в новый столбец."
      ]
    },
    {
      "cell_type": "code",
      "execution_count": null,
      "metadata": {
        "scrolled": false,
        "id": "BQuR2vltlxMr",
        "colab": {
          "base_uri": "https://localhost:8080/",
          "height": 238
        },
        "outputId": "26f47d46-7077-438f-87d4-04d69a09180d"
      },
      "outputs": [
        {
          "output_type": "execute_result",
          "data": {
            "text/plain": [
              "          min_year_of_release  max_year_of_release  life\n",
              "platform                                                \n",
              "3DS                      2011                 2016     5\n",
              "DS                       2004                 2013     9\n",
              "GBA                      2000                 2007     7\n",
              "GC                       2001                 2007     6\n",
              "PC                       2000                 2016    16"
            ],
            "text/html": [
              "\n",
              "  <div id=\"df-0b52963d-51f9-47c1-a925-60202555f580\">\n",
              "    <div class=\"colab-df-container\">\n",
              "      <div>\n",
              "<style scoped>\n",
              "    .dataframe tbody tr th:only-of-type {\n",
              "        vertical-align: middle;\n",
              "    }\n",
              "\n",
              "    .dataframe tbody tr th {\n",
              "        vertical-align: top;\n",
              "    }\n",
              "\n",
              "    .dataframe thead th {\n",
              "        text-align: right;\n",
              "    }\n",
              "</style>\n",
              "<table border=\"1\" class=\"dataframe\">\n",
              "  <thead>\n",
              "    <tr style=\"text-align: right;\">\n",
              "      <th></th>\n",
              "      <th>min_year_of_release</th>\n",
              "      <th>max_year_of_release</th>\n",
              "      <th>life</th>\n",
              "    </tr>\n",
              "    <tr>\n",
              "      <th>platform</th>\n",
              "      <th></th>\n",
              "      <th></th>\n",
              "      <th></th>\n",
              "    </tr>\n",
              "  </thead>\n",
              "  <tbody>\n",
              "    <tr>\n",
              "      <th>3DS</th>\n",
              "      <td>2011</td>\n",
              "      <td>2016</td>\n",
              "      <td>5</td>\n",
              "    </tr>\n",
              "    <tr>\n",
              "      <th>DS</th>\n",
              "      <td>2004</td>\n",
              "      <td>2013</td>\n",
              "      <td>9</td>\n",
              "    </tr>\n",
              "    <tr>\n",
              "      <th>GBA</th>\n",
              "      <td>2000</td>\n",
              "      <td>2007</td>\n",
              "      <td>7</td>\n",
              "    </tr>\n",
              "    <tr>\n",
              "      <th>GC</th>\n",
              "      <td>2001</td>\n",
              "      <td>2007</td>\n",
              "      <td>6</td>\n",
              "    </tr>\n",
              "    <tr>\n",
              "      <th>PC</th>\n",
              "      <td>2000</td>\n",
              "      <td>2016</td>\n",
              "      <td>16</td>\n",
              "    </tr>\n",
              "  </tbody>\n",
              "</table>\n",
              "</div>\n",
              "      <button class=\"colab-df-convert\" onclick=\"convertToInteractive('df-0b52963d-51f9-47c1-a925-60202555f580')\"\n",
              "              title=\"Convert this dataframe to an interactive table.\"\n",
              "              style=\"display:none;\">\n",
              "        \n",
              "  <svg xmlns=\"http://www.w3.org/2000/svg\" height=\"24px\"viewBox=\"0 0 24 24\"\n",
              "       width=\"24px\">\n",
              "    <path d=\"M0 0h24v24H0V0z\" fill=\"none\"/>\n",
              "    <path d=\"M18.56 5.44l.94 2.06.94-2.06 2.06-.94-2.06-.94-.94-2.06-.94 2.06-2.06.94zm-11 1L8.5 8.5l.94-2.06 2.06-.94-2.06-.94L8.5 2.5l-.94 2.06-2.06.94zm10 10l.94 2.06.94-2.06 2.06-.94-2.06-.94-.94-2.06-.94 2.06-2.06.94z\"/><path d=\"M17.41 7.96l-1.37-1.37c-.4-.4-.92-.59-1.43-.59-.52 0-1.04.2-1.43.59L10.3 9.45l-7.72 7.72c-.78.78-.78 2.05 0 2.83L4 21.41c.39.39.9.59 1.41.59.51 0 1.02-.2 1.41-.59l7.78-7.78 2.81-2.81c.8-.78.8-2.07 0-2.86zM5.41 20L4 18.59l7.72-7.72 1.47 1.35L5.41 20z\"/>\n",
              "  </svg>\n",
              "      </button>\n",
              "      \n",
              "  <style>\n",
              "    .colab-df-container {\n",
              "      display:flex;\n",
              "      flex-wrap:wrap;\n",
              "      gap: 12px;\n",
              "    }\n",
              "\n",
              "    .colab-df-convert {\n",
              "      background-color: #E8F0FE;\n",
              "      border: none;\n",
              "      border-radius: 50%;\n",
              "      cursor: pointer;\n",
              "      display: none;\n",
              "      fill: #1967D2;\n",
              "      height: 32px;\n",
              "      padding: 0 0 0 0;\n",
              "      width: 32px;\n",
              "    }\n",
              "\n",
              "    .colab-df-convert:hover {\n",
              "      background-color: #E2EBFA;\n",
              "      box-shadow: 0px 1px 2px rgba(60, 64, 67, 0.3), 0px 1px 3px 1px rgba(60, 64, 67, 0.15);\n",
              "      fill: #174EA6;\n",
              "    }\n",
              "\n",
              "    [theme=dark] .colab-df-convert {\n",
              "      background-color: #3B4455;\n",
              "      fill: #D2E3FC;\n",
              "    }\n",
              "\n",
              "    [theme=dark] .colab-df-convert:hover {\n",
              "      background-color: #434B5C;\n",
              "      box-shadow: 0px 1px 3px 1px rgba(0, 0, 0, 0.15);\n",
              "      filter: drop-shadow(0px 1px 2px rgba(0, 0, 0, 0.3));\n",
              "      fill: #FFFFFF;\n",
              "    }\n",
              "  </style>\n",
              "\n",
              "      <script>\n",
              "        const buttonEl =\n",
              "          document.querySelector('#df-0b52963d-51f9-47c1-a925-60202555f580 button.colab-df-convert');\n",
              "        buttonEl.style.display =\n",
              "          google.colab.kernel.accessAllowed ? 'block' : 'none';\n",
              "\n",
              "        async function convertToInteractive(key) {\n",
              "          const element = document.querySelector('#df-0b52963d-51f9-47c1-a925-60202555f580');\n",
              "          const dataTable =\n",
              "            await google.colab.kernel.invokeFunction('convertToInteractive',\n",
              "                                                     [key], {});\n",
              "          if (!dataTable) return;\n",
              "\n",
              "          const docLinkHtml = 'Like what you see? Visit the ' +\n",
              "            '<a target=\"_blank\" href=https://colab.research.google.com/notebooks/data_table.ipynb>data table notebook</a>'\n",
              "            + ' to learn more about interactive tables.';\n",
              "          element.innerHTML = '';\n",
              "          dataTable['output_type'] = 'display_data';\n",
              "          await google.colab.output.renderOutput(dataTable, element);\n",
              "          const docLink = document.createElement('div');\n",
              "          docLink.innerHTML = docLinkHtml;\n",
              "          element.appendChild(docLink);\n",
              "        }\n",
              "      </script>\n",
              "    </div>\n",
              "  </div>\n",
              "  "
            ]
          },
          "metadata": {},
          "execution_count": 23
        }
      ],
      "source": [
        "# pivot_table for top platforms with min, max for year_of_release\n",
        "platform_life = games_year.query('platform in @platform_top.index').pivot_table(\n",
        "    index = 'platform',values= 'year_of_release', aggfunc=['min', 'max'])\n",
        "\n",
        "# reset of multi index\n",
        "platform_life.columns = ['_'.join(col).strip() for col in platform_life.columns.values]\n",
        "\n",
        "# calculation of top platforms life\n",
        "platform_life['life'] = platform_life['max_year_of_release'] - platform_life['min_year_of_release']\n",
        "platform_life.head()"
      ]
    },
    {
      "cell_type": "markdown",
      "metadata": {
        "id": "k7cLWzkPlxMr"
      },
      "source": [
        "Найдем среднее значение жизни популярных платформ. Консоли возрастом меньше 6 лет, только появились на рынке, маловероятно, что они исчезнут в следующем году. Уберем из расчета значения для ПК и платформы младше 6 лет, которые искажают результат."
      ]
    },
    {
      "cell_type": "code",
      "execution_count": null,
      "metadata": {
        "id": "P_TS225IlxMs",
        "colab": {
          "base_uri": "https://localhost:8080/"
        },
        "outputId": "6f11f81d-af07-42f6-a192-781611480f97"
      },
      "outputs": [
        {
          "output_type": "execute_result",
          "data": {
            "text/plain": [
              "9.625"
            ]
          },
          "metadata": {},
          "execution_count": 24
        }
      ],
      "source": [
        "platform_life.query('(life>6)&(platform!=\"PC\")')['life'].mean()"
      ]
    },
    {
      "cell_type": "markdown",
      "metadata": {
        "id": "FMUSqB9ilxMs"
      },
      "source": [
        "Округлим результат в меньшую сторону, т.к. обновление современного рынка происходит несколько быстрее, чем в прошлые года. В общем случае, 9 лет - это характерный период, за который появляются новые и исчезают старые платформы."
      ]
    },
    {
      "cell_type": "markdown",
      "metadata": {
        "id": "CtAH7CNdlxMt"
      },
      "source": [
        "### Актуальный период"
      ]
    },
    {
      "cell_type": "markdown",
      "metadata": {
        "id": "7n8FgW9zlxMt"
      },
      "source": [
        "По результатам исследования предыдущих вопросов определим актуальный период: с 2015 по 2016 гг. Основной фактор — информация за актуальный период поможет построить прогноз на 2017 год. Не будем учитывать в работе данные за предыдущие годы. Тепловая карта показывает, что общие продажи у всех платформ снижаются к настоящему моменту: ячейки имеют более темный цвет в разбивке по платформам к 2015-2016 г. Необходимо делать анализ игр, именно за период в этом тренде. Ситуация на рынке не очень позитивная, спрос на игры падает. Правильный выбор потенциально прибыльной игры для рекламы особенно критичен.\n",
        "\n",
        "Тепловая карта также показывает, что такие популярные консоли, как PS4, PSV, 3DS, Xone и WiiU считаются молодыми и возможно будут перспективными в будущем. Они на рынке 4-6 лет при средней длительности жизни платформ в 9 лет.\n",
        "\n",
        "Отфильтруем общие данные, возьмем игры только для актуального периода."
      ]
    },
    {
      "cell_type": "code",
      "execution_count": null,
      "metadata": {
        "id": "2SvNvp21lxMu",
        "colab": {
          "base_uri": "https://localhost:8080/"
        },
        "outputId": "c1ca631b-a307-4fc7-ffcc-c2494311f2a8"
      },
      "outputs": [
        {
          "output_type": "stream",
          "name": "stdout",
          "text": [
            "Количество проданных игр за актуальный период - 1108\n"
          ]
        }
      ],
      "source": [
        "# query of games released after 2015 - actual period\n",
        "games_actual = games_upd.query('year_of_release>=2015').copy()\n",
        "\n",
        "print('Количество проданных игр за актуальный период -', games_actual.shape[0])"
      ]
    },
    {
      "cell_type": "markdown",
      "metadata": {
        "id": "7UzVk_U6lxMv"
      },
      "source": [
        "### Потенциально прибыльные платформы"
      ]
    },
    {
      "cell_type": "markdown",
      "metadata": {
        "id": "BLw0MN34lxMv"
      },
      "source": [
        "Рассмотрим платформы за период после 2015 года. Посмотрим какие платформы попали в выборку."
      ]
    },
    {
      "cell_type": "code",
      "execution_count": null,
      "metadata": {
        "id": "4UKtzuvdlxMv",
        "colab": {
          "base_uri": "https://localhost:8080/"
        },
        "outputId": "46dbf7f9-d961-4783-d19e-739ee813cd23"
      },
      "outputs": [
        {
          "output_type": "execute_result",
          "data": {
            "text/plain": [
              "PS4     301\n",
              "PSV     195\n",
              "XOne    167\n",
              "3DS     132\n",
              "PS3     111\n",
              "PC      104\n",
              "X360     48\n",
              "WiiU     42\n",
              "Wii       5\n",
              "PSP       3\n",
              "Name: platform, dtype: int64"
            ]
          },
          "metadata": {},
          "execution_count": 26
        }
      ],
      "source": [
        "games_actual['platform'].value_counts()"
      ]
    },
    {
      "cell_type": "markdown",
      "metadata": {
        "id": "Xuh7hFZglxMw"
      },
      "source": [
        "Всего имеется 10 платформ. Для полноты сведений оставим их все."
      ]
    },
    {
      "cell_type": "markdown",
      "metadata": {
        "id": "2NkNiY3glxMx"
      },
      "source": [
        "Сгруппируем суммарный объем продаж по годам для каждой из платформ."
      ]
    },
    {
      "cell_type": "code",
      "execution_count": null,
      "metadata": {
        "scrolled": true,
        "id": "UFQYMzxQlxMx"
      },
      "outputs": [],
      "source": [
        "# actual period. pivot_table for top pltaforms with sum_sales and year_of_release\n",
        "platform_actual_top = games_actual.pivot_table(\n",
        "    index = 'year_of_release', columns = 'platform',values= 'sum_sales', aggfunc='sum')\n",
        "\n",
        "# reset multi index\n",
        "platform_actual_top = platform_actual_top.reset_index()"
      ]
    },
    {
      "cell_type": "code",
      "source": [
        "platform_actual_top"
      ],
      "metadata": {
        "colab": {
          "base_uri": "https://localhost:8080/",
          "height": 112
        },
        "id": "Q0sbhuiDuMQp",
        "outputId": "ebb20285-2ecd-4b11-cd7e-0cd318df936f"
      },
      "execution_count": null,
      "outputs": [
        {
          "output_type": "execute_result",
          "data": {
            "text/plain": [
              "platform  year_of_release    3DS    PC    PS3     PS4   PSP   PSV   Wii  \\\n",
              "0                    2015  27.78  8.52  16.82  118.90  0.12  6.25  1.14   \n",
              "1                    2016  15.14  5.25   3.60   69.25   NaN  4.25  0.18   \n",
              "\n",
              "platform   WiiU   X360   XOne  \n",
              "0         16.35  11.96  60.14  \n",
              "1          4.60   1.52  26.15  "
            ],
            "text/html": [
              "\n",
              "  <div id=\"df-84cedcd0-407d-4582-b86a-21afd859ed53\">\n",
              "    <div class=\"colab-df-container\">\n",
              "      <div>\n",
              "<style scoped>\n",
              "    .dataframe tbody tr th:only-of-type {\n",
              "        vertical-align: middle;\n",
              "    }\n",
              "\n",
              "    .dataframe tbody tr th {\n",
              "        vertical-align: top;\n",
              "    }\n",
              "\n",
              "    .dataframe thead th {\n",
              "        text-align: right;\n",
              "    }\n",
              "</style>\n",
              "<table border=\"1\" class=\"dataframe\">\n",
              "  <thead>\n",
              "    <tr style=\"text-align: right;\">\n",
              "      <th>platform</th>\n",
              "      <th>year_of_release</th>\n",
              "      <th>3DS</th>\n",
              "      <th>PC</th>\n",
              "      <th>PS3</th>\n",
              "      <th>PS4</th>\n",
              "      <th>PSP</th>\n",
              "      <th>PSV</th>\n",
              "      <th>Wii</th>\n",
              "      <th>WiiU</th>\n",
              "      <th>X360</th>\n",
              "      <th>XOne</th>\n",
              "    </tr>\n",
              "  </thead>\n",
              "  <tbody>\n",
              "    <tr>\n",
              "      <th>0</th>\n",
              "      <td>2015</td>\n",
              "      <td>27.78</td>\n",
              "      <td>8.52</td>\n",
              "      <td>16.82</td>\n",
              "      <td>118.90</td>\n",
              "      <td>0.12</td>\n",
              "      <td>6.25</td>\n",
              "      <td>1.14</td>\n",
              "      <td>16.35</td>\n",
              "      <td>11.96</td>\n",
              "      <td>60.14</td>\n",
              "    </tr>\n",
              "    <tr>\n",
              "      <th>1</th>\n",
              "      <td>2016</td>\n",
              "      <td>15.14</td>\n",
              "      <td>5.25</td>\n",
              "      <td>3.60</td>\n",
              "      <td>69.25</td>\n",
              "      <td>NaN</td>\n",
              "      <td>4.25</td>\n",
              "      <td>0.18</td>\n",
              "      <td>4.60</td>\n",
              "      <td>1.52</td>\n",
              "      <td>26.15</td>\n",
              "    </tr>\n",
              "  </tbody>\n",
              "</table>\n",
              "</div>\n",
              "      <button class=\"colab-df-convert\" onclick=\"convertToInteractive('df-84cedcd0-407d-4582-b86a-21afd859ed53')\"\n",
              "              title=\"Convert this dataframe to an interactive table.\"\n",
              "              style=\"display:none;\">\n",
              "        \n",
              "  <svg xmlns=\"http://www.w3.org/2000/svg\" height=\"24px\"viewBox=\"0 0 24 24\"\n",
              "       width=\"24px\">\n",
              "    <path d=\"M0 0h24v24H0V0z\" fill=\"none\"/>\n",
              "    <path d=\"M18.56 5.44l.94 2.06.94-2.06 2.06-.94-2.06-.94-.94-2.06-.94 2.06-2.06.94zm-11 1L8.5 8.5l.94-2.06 2.06-.94-2.06-.94L8.5 2.5l-.94 2.06-2.06.94zm10 10l.94 2.06.94-2.06 2.06-.94-2.06-.94-.94-2.06-.94 2.06-2.06.94z\"/><path d=\"M17.41 7.96l-1.37-1.37c-.4-.4-.92-.59-1.43-.59-.52 0-1.04.2-1.43.59L10.3 9.45l-7.72 7.72c-.78.78-.78 2.05 0 2.83L4 21.41c.39.39.9.59 1.41.59.51 0 1.02-.2 1.41-.59l7.78-7.78 2.81-2.81c.8-.78.8-2.07 0-2.86zM5.41 20L4 18.59l7.72-7.72 1.47 1.35L5.41 20z\"/>\n",
              "  </svg>\n",
              "      </button>\n",
              "      \n",
              "  <style>\n",
              "    .colab-df-container {\n",
              "      display:flex;\n",
              "      flex-wrap:wrap;\n",
              "      gap: 12px;\n",
              "    }\n",
              "\n",
              "    .colab-df-convert {\n",
              "      background-color: #E8F0FE;\n",
              "      border: none;\n",
              "      border-radius: 50%;\n",
              "      cursor: pointer;\n",
              "      display: none;\n",
              "      fill: #1967D2;\n",
              "      height: 32px;\n",
              "      padding: 0 0 0 0;\n",
              "      width: 32px;\n",
              "    }\n",
              "\n",
              "    .colab-df-convert:hover {\n",
              "      background-color: #E2EBFA;\n",
              "      box-shadow: 0px 1px 2px rgba(60, 64, 67, 0.3), 0px 1px 3px 1px rgba(60, 64, 67, 0.15);\n",
              "      fill: #174EA6;\n",
              "    }\n",
              "\n",
              "    [theme=dark] .colab-df-convert {\n",
              "      background-color: #3B4455;\n",
              "      fill: #D2E3FC;\n",
              "    }\n",
              "\n",
              "    [theme=dark] .colab-df-convert:hover {\n",
              "      background-color: #434B5C;\n",
              "      box-shadow: 0px 1px 3px 1px rgba(0, 0, 0, 0.15);\n",
              "      filter: drop-shadow(0px 1px 2px rgba(0, 0, 0, 0.3));\n",
              "      fill: #FFFFFF;\n",
              "    }\n",
              "  </style>\n",
              "\n",
              "      <script>\n",
              "        const buttonEl =\n",
              "          document.querySelector('#df-84cedcd0-407d-4582-b86a-21afd859ed53 button.colab-df-convert');\n",
              "        buttonEl.style.display =\n",
              "          google.colab.kernel.accessAllowed ? 'block' : 'none';\n",
              "\n",
              "        async function convertToInteractive(key) {\n",
              "          const element = document.querySelector('#df-84cedcd0-407d-4582-b86a-21afd859ed53');\n",
              "          const dataTable =\n",
              "            await google.colab.kernel.invokeFunction('convertToInteractive',\n",
              "                                                     [key], {});\n",
              "          if (!dataTable) return;\n",
              "\n",
              "          const docLinkHtml = 'Like what you see? Visit the ' +\n",
              "            '<a target=\"_blank\" href=https://colab.research.google.com/notebooks/data_table.ipynb>data table notebook</a>'\n",
              "            + ' to learn more about interactive tables.';\n",
              "          element.innerHTML = '';\n",
              "          dataTable['output_type'] = 'display_data';\n",
              "          await google.colab.output.renderOutput(dataTable, element);\n",
              "          const docLink = document.createElement('div');\n",
              "          docLink.innerHTML = docLinkHtml;\n",
              "          element.appendChild(docLink);\n",
              "        }\n",
              "      </script>\n",
              "    </div>\n",
              "  </div>\n",
              "  "
            ]
          },
          "metadata": {},
          "execution_count": 28
        }
      ]
    },
    {
      "cell_type": "markdown",
      "metadata": {
        "id": "eTjnrIdnlxMx"
      },
      "source": [
        "Построем график динамики продаж за актуальный период для каждой из платформ."
      ]
    },
    {
      "cell_type": "code",
      "execution_count": null,
      "metadata": {
        "scrolled": true,
        "id": "fFhJ3otklxMy",
        "colab": {
          "base_uri": "https://localhost:8080/",
          "height": 388
        },
        "outputId": "8b199969-b04c-4103-b42a-36263068a2cc"
      },
      "outputs": [
        {
          "output_type": "display_data",
          "data": {
            "text/plain": [
              "<Figure size 720x432 with 1 Axes>"
            ],
            "image/png": "[encoded data removed]"
          },
          "metadata": {}
        }
      ],
      "source": [
        "# plot for top platforms with sum_sales\n",
        "ax = platform_actual_top.plot(x='year_of_release',style='.-', figsize=(10,6))\n",
        "\n",
        "plt.ylabel('Объем продаж, млн. копий')\n",
        "plt.xlabel('Год выпуска игры')\n",
        "\n",
        "plt.xticks(range(2015,2017))\n",
        "\n",
        "ax.legend(bbox_to_anchor=(1.0, 1.0));"
      ]
    },
    {
      "cell_type": "markdown",
      "metadata": {
        "id": "6FlxW0salxMy"
      },
      "source": [
        "Тенденция продаж не очень позитивная за актуальный период. Пользователи, в общем случае, покупают игры с каждым годом все меньше. На фоне такого падения, можно выделить только тройку лучших по продажам за 2016 год - PS4, XOne и 3DS. Выберем эту тройку, как потенциально прибыльные платформы. Однако, отметим что данные за 2016 год неполные, возможно тогда произошли изменения."
      ]
    },
    {
      "cell_type": "markdown",
      "metadata": {
        "id": "XubfexXrlxMz"
      },
      "source": [
        "### Глобальные продажи"
      ]
    },
    {
      "cell_type": "markdown",
      "metadata": {
        "id": "Ffmgb21nlxMz"
      },
      "source": [
        "Исследуем глобальные продажи игр в разбивке по потенциально прибыльным платформам. Выполним выборку игр, только для таких платформ в рамках актуального периода."
      ]
    },
    {
      "cell_type": "code",
      "execution_count": null,
      "metadata": {
        "id": "mvG1WsiTlxMz"
      },
      "outputs": [],
      "source": [
        "# query of games for profitable platforms for actual period\n",
        "\n",
        "platform_profit = games_actual.query('(platform==\"PS4\")|(platform==\"XOne\")|(platform==\"3DS\")')"
      ]
    },
    {
      "cell_type": "markdown",
      "metadata": {
        "id": "74FiHKDVlxMz"
      },
      "source": [
        "Построим диаграммы размаха по глобальным продажам игр в разбивке по платформам."
      ]
    },
    {
      "cell_type": "code",
      "execution_count": null,
      "metadata": {
        "scrolled": true,
        "id": "XCby0BVYlxM0",
        "colab": {
          "base_uri": "https://localhost:8080/",
          "height": 279
        },
        "outputId": "20dc48d7-c326-417f-f999-1f942b759ca1"
      },
      "outputs": [
        {
          "output_type": "display_data",
          "data": {
            "text/plain": [
              "<Figure size 432x288 with 1 Axes>"
            ],
            "image/png": "[encoded data removed]"
          },
          "metadata": {}
        }
      ],
      "source": [
        "# boxplot for profitable platforms and sum_sales\n",
        "sns.boxplot(x=\"platform\", y=\"sum_sales\", data=platform_profit, showfliers=False);\n",
        "plt.ylabel('Глобальные продажи');"
      ]
    },
    {
      "cell_type": "markdown",
      "metadata": {
        "id": "mXLR1Dd-lxM0"
      },
      "source": [
        "Диаграмма показывает еще одну особенность для продаж у XOne за актуальный период. По размаху значений лидирует платформа XOne, чуть отстает PS4 и далеко от них 3DS:\n",
        "- дисперсия и размах значений больше для XOne;\n",
        "- медиана у двух лидеров одинаковая;\n",
        "- медиана меньше среднего у всех платформ, что говорит о скошенности вправо для распределения значений.\n",
        "\n",
        "Подробнее изучим распределение значений для лидеров PS4 и XOne методом `describe`."
      ]
    },
    {
      "cell_type": "code",
      "execution_count": null,
      "metadata": {
        "id": "ngG0y_ijlxM0",
        "colab": {
          "base_uri": "https://localhost:8080/"
        },
        "outputId": "ef938023-289a-4938-e502-2f89c8552e88"
      },
      "outputs": [
        {
          "output_type": "execute_result",
          "data": {
            "text/plain": [
              "count    301.000000\n",
              "mean       0.625083\n",
              "std        1.457063\n",
              "min        0.010000\n",
              "25%        0.050000\n",
              "50%        0.120000\n",
              "75%        0.420000\n",
              "max       14.630000\n",
              "Name: sum_sales, dtype: float64"
            ]
          },
          "metadata": {},
          "execution_count": 32
        }
      ],
      "source": [
        "platform_profit.query('platform==\"PS4\"')['sum_sales'].describe()"
      ]
    },
    {
      "cell_type": "code",
      "execution_count": null,
      "metadata": {
        "id": "RuOLFoLVlxM1",
        "colab": {
          "base_uri": "https://localhost:8080/"
        },
        "outputId": "2f78622c-d4fd-47bb-bdf5-ec084d9ce7f4"
      },
      "outputs": [
        {
          "output_type": "execute_result",
          "data": {
            "text/plain": [
              "count    167.000000\n",
              "mean       0.516707\n",
              "std        0.965940\n",
              "min        0.010000\n",
              "25%        0.035000\n",
              "50%        0.130000\n",
              "75%        0.555000\n",
              "max        7.390000\n",
              "Name: sum_sales, dtype: float64"
            ]
          },
          "metadata": {},
          "execution_count": 33
        }
      ],
      "source": [
        "platform_profit.query('platform==\"XOne\"')['sum_sales'].describe()"
      ]
    },
    {
      "cell_type": "markdown",
      "metadata": {
        "id": "wqcFcVTzlxM1"
      },
      "source": [
        "Распределение значений также говорит в пользу XOne. Хотя медиана у платформ почти одинаковая, третий квартиль (75% значений) и размах значений у XOne больше. Эти показатели говорят о большом числе прибыльных игр для XOne, у PS4 таких игр меньше. Абсолютные значения по продажам более высокие у игр для PS4 за счет большого ассортимента, но распределение значений и диаграммы размаха указывает также на большую популярность консоли XOne у пользователей. Следует выбрать эту пару, как потенциально наиболее прибыльные платформы."
      ]
    },
    {
      "cell_type": "markdown",
      "metadata": {
        "id": "IzTF3WDwlxM2"
      },
      "source": [
        "### Отзывы пользователей и критиков"
      ]
    },
    {
      "cell_type": "markdown",
      "metadata": {
        "id": "7YakSHNhlxM2"
      },
      "source": [
        "Посмотрим, как влияют на продажи внутри одной популярной платформы отзывы пользователей и критиков. Отфильтруем общие данные, возьмем игры только для PS4, а также такие игры с оценками от критиков и пользователей."
      ]
    },
    {
      "cell_type": "code",
      "execution_count": null,
      "metadata": {
        "id": "KAFD_bD2lxM3",
        "colab": {
          "base_uri": "https://localhost:8080/"
        },
        "outputId": "735aaad8-1223-4567-f7fb-faeca0999ce3"
      },
      "outputs": [
        {
          "output_type": "stream",
          "name": "stdout",
          "text": [
            "Доля игр для PS4 составляет 27%.\n",
            "Доля игр для PS4 с рейтингом составляет 64%.\n"
          ]
        }
      ],
      "source": [
        "# query of games for PS4\n",
        "ps4_total = games_actual.query('platform==\"PS4\"')\n",
        "\n",
        "# query of games for PS4 with scores\n",
        "ps4_score = ps4_total.query('(critic_score>0)|(user_score>0)')\n",
        "\n",
        "# share of PS4\n",
        "share_ps4 = len(ps4_total) / len(games_actual)\n",
        "print(f'Доля игр для PS4 составляет {share_ps4:.0%}.')\n",
        "\n",
        "# share of PS4 with scores\n",
        "share_ps4_score = len(ps4_score) / len(ps4_total)\n",
        "print(f'Доля игр для PS4 с рейтингом составляет {share_ps4_score:.0%}.')"
      ]
    },
    {
      "cell_type": "markdown",
      "metadata": {
        "id": "IIU8LetTlxM3"
      },
      "source": [
        "Доля проданных игр для PS4 составляет 27% от всех платформ за актуальный период, из них только 64% имеют рейтинг. Построим диаграмму рассеяния и посчитаем корреляцию между отзывами критиков и продажами."
      ]
    },
    {
      "cell_type": "code",
      "execution_count": null,
      "metadata": {
        "scrolled": false,
        "id": "9qS3ZvJ9lxM4",
        "colab": {
          "base_uri": "https://localhost:8080/",
          "height": 295
        },
        "outputId": "50aad011-bd47-4153-d406-e08f295090a5"
      },
      "outputs": [
        {
          "output_type": "display_data",
          "data": {
            "text/plain": [
              "<Figure size 432x288 with 1 Axes>"
            ],
            "image/png": "[encoded data removed]"
          },
          "metadata": {}
        }
      ],
      "source": [
        "# scatterplot for critic_score and sum_sales\n",
        "\n",
        "ps4_score.plot(x='critic_score', y='sum_sales', kind='scatter', alpha=.2)\n",
        "\n",
        "plt.title('Игры для PS4')\n",
        "plt.ylabel('Объем продаж, млн. копий')\n",
        "plt.xlabel('Оценка критиков');"
      ]
    },
    {
      "cell_type": "code",
      "execution_count": null,
      "metadata": {
        "id": "rPHJJo0BlxM5",
        "colab": {
          "base_uri": "https://localhost:8080/"
        },
        "outputId": "25db00a5-10db-40ea-8138-55758c66e46e"
      },
      "outputs": [
        {
          "output_type": "execute_result",
          "data": {
            "text/plain": [
              "0.3928485555130601"
            ]
          },
          "metadata": {},
          "execution_count": 36
        }
      ],
      "source": [
        "# correlation coefficient\n",
        "\n",
        "ps4_score['sum_sales'].corr(ps4_score['critic_score']) "
      ]
    },
    {
      "cell_type": "markdown",
      "metadata": {
        "id": "I6StrfF7lxM5"
      },
      "source": [
        "Диаграмма иллюстрирует определенную зависимость объема продаж от отзывов критиков. В общем случае, с увеличением оценки увеличиваются продажи. Коэффициент корреляции также подтверждает наличии связи этих параметров. Пользователи в основном покупают игры с оценкой критиков больше 70.\n",
        "\n",
        "Построим диаграмму рассеяния и посчитаем корреляцию между оценками пользователей и продажами."
      ]
    },
    {
      "cell_type": "code",
      "execution_count": null,
      "metadata": {
        "scrolled": true,
        "id": "Z8h9ZsW4lxM5",
        "colab": {
          "base_uri": "https://localhost:8080/",
          "height": 295
        },
        "outputId": "50efa528-5352-495b-b2d5-35a730c679e6"
      },
      "outputs": [
        {
          "output_type": "display_data",
          "data": {
            "text/plain": [
              "<Figure size 432x288 with 1 Axes>"
            ],
            "image/png": "[encoded data removed]"
          },
          "metadata": {}
        }
      ],
      "source": [
        "# scatterplot for user_score and sum_sales\n",
        "\n",
        "ps4_score.plot(x='user_score', y='sum_sales', kind='scatter', alpha=.2)\n",
        "\n",
        "plt.title('Игры для PS4')\n",
        "plt.ylabel('Объем продаж, млн. копий')\n",
        "plt.xlabel('Оценка пользователей');"
      ]
    },
    {
      "cell_type": "code",
      "execution_count": null,
      "metadata": {
        "id": "HagAZ7DMlxM6",
        "colab": {
          "base_uri": "https://localhost:8080/"
        },
        "outputId": "21c8e594-b4d4-4178-d670-5bf89e3fd410"
      },
      "outputs": [
        {
          "output_type": "execute_result",
          "data": {
            "text/plain": [
              "-0.05973845712638215"
            ]
          },
          "metadata": {},
          "execution_count": 38
        }
      ],
      "source": [
        "# correlation coefficient\n",
        "\n",
        "ps4_score['user_score'].corr(ps4_score['sum_sales']) "
      ]
    },
    {
      "cell_type": "markdown",
      "metadata": {
        "id": "PUAJNJv_lxM6"
      },
      "source": [
        "Ни диаграмма, ни коэффициент корреляции не показывает какой-либо зависимости. Продажи, в общем случае, не зависят от оценки пользователей для платформы. Но большинство игр покупается с оценкой пользователей от 6 до 8.5.\n",
        "\n",
        "Выполним анализ влияния отзывов на продажи для других популярных платформ. "
      ]
    },
    {
      "cell_type": "code",
      "execution_count": null,
      "metadata": {
        "id": "cCjNBI9mlxM6"
      },
      "outputs": [],
      "source": [
        "# query of games for top platforms with scores\n",
        "\n",
        "platform_score = games_actual.query('(platform!=\"PS4\")&((critic_score>0)|(user_score>0))')"
      ]
    },
    {
      "cell_type": "markdown",
      "metadata": {
        "id": "AFfvFdtwlxM6"
      },
      "source": [
        "Построим диаграмму рассеяния и посчитаем корреляцию между оценками пользователей и продажами. "
      ]
    },
    {
      "cell_type": "code",
      "execution_count": null,
      "metadata": {
        "scrolled": false,
        "id": "2XuxthW_lxM7",
        "colab": {
          "base_uri": "https://localhost:8080/",
          "height": 295
        },
        "outputId": "0b523410-cccf-48e6-ce16-bd6cdc1d28b6"
      },
      "outputs": [
        {
          "output_type": "display_data",
          "data": {
            "text/plain": [
              "<Figure size 432x288 with 1 Axes>"
            ],
            "image/png": "[encoded data removed]"
          },
          "metadata": {}
        }
      ],
      "source": [
        "# scatterplot for critic_score and sum_sales\n",
        "\n",
        "platform_score.plot(x='critic_score', y='sum_sales', kind='scatter', alpha=.2)\n",
        "\n",
        "plt.title('Игры для других платформ')\n",
        "plt.ylabel('Объем продаж, млн. копий')\n",
        "plt.xlabel('Оценка критиков');"
      ]
    },
    {
      "cell_type": "code",
      "execution_count": null,
      "metadata": {
        "id": "E5Wg_D2AlxM7",
        "colab": {
          "base_uri": "https://localhost:8080/"
        },
        "outputId": "d6bf2dcd-2748-43cc-a958-8baa12bc360c"
      },
      "outputs": [
        {
          "output_type": "execute_result",
          "data": {
            "text/plain": [
              "0.30324302098520883"
            ]
          },
          "metadata": {},
          "execution_count": 41
        }
      ],
      "source": [
        "# correlation coefficient\n",
        "\n",
        "platform_score['sum_sales'].corr(platform_score['critic_score']) "
      ]
    },
    {
      "cell_type": "markdown",
      "metadata": {
        "id": "GMndq6RIlxM7"
      },
      "source": [
        "Диаграмма иллюстрирует определенную зависимость объема продаж от отзывов критиков. Пользователи в основном покупают игры с оценкой критиков больше 70. Коэффициент корреляции также подтверждает наличии связи этих параметров. Зависимость для PS4 отслеживается примерно также.\n",
        "\n",
        "Построим диаграмму рассеяния и посчитаем корреляцию между оценками пользователей и продажами."
      ]
    },
    {
      "cell_type": "code",
      "execution_count": null,
      "metadata": {
        "scrolled": true,
        "id": "rIWIA1iJlxM8",
        "colab": {
          "base_uri": "https://localhost:8080/",
          "height": 295
        },
        "outputId": "c9ca8a3d-f09b-4f36-da9a-80eef08ea9df"
      },
      "outputs": [
        {
          "output_type": "display_data",
          "data": {
            "text/plain": [
              "<Figure size 432x288 with 1 Axes>"
            ],
            "image/png": "[encoded data removed]"
          },
          "metadata": {}
        }
      ],
      "source": [
        "# scatterplot for user_score and sum_sales\n",
        "\n",
        "platform_score.plot(x='user_score', y='sum_sales', kind='scatter', alpha=.2)\n",
        "\n",
        "plt.title('Игры для других платформ')\n",
        "plt.ylabel('Объем продаж, млн. копий')\n",
        "plt.xlabel('Оценка пользователей');"
      ]
    },
    {
      "cell_type": "code",
      "execution_count": null,
      "metadata": {
        "id": "Pybb3y78lxM8",
        "colab": {
          "base_uri": "https://localhost:8080/"
        },
        "outputId": "c0c6606b-70bd-43bf-e8e3-734b583c6dc2"
      },
      "outputs": [
        {
          "output_type": "execute_result",
          "data": {
            "text/plain": [
              "0.017521130656321507"
            ]
          },
          "metadata": {},
          "execution_count": 43
        }
      ],
      "source": [
        "# correlation coefficient\n",
        "\n",
        "platform_score['user_score'].corr(platform_score['sum_sales']) "
      ]
    },
    {
      "cell_type": "markdown",
      "metadata": {
        "id": "hjUidtxilxM8"
      },
      "source": [
        "Ни диаграмма, ни коэффициент корреляции не показывает какой-либо зависимости. Продажи, в общем случае, не зависят от оценки пользователей для платформы. Но большинство игр покупается с оценкой пользователей от 6 до 8.5. Зависимость для игр у PS4 представлена с такими же показателями.\n",
        "\n",
        "В общем случае, пользователи ориентируются на оценки критиков перед покупкой игр. Отзывы самих игроков не влияют на продажи игр."
      ]
    },
    {
      "cell_type": "markdown",
      "metadata": {
        "id": "jYTKFS9plxM9"
      },
      "source": [
        "### Жанр игры"
      ]
    },
    {
      "cell_type": "markdown",
      "metadata": {
        "id": "g5hA5GJxlxM9"
      },
      "source": [
        "Посмотрим на общее распределение игр по жанрам. Выполним группировку игр за актуальный период по жанрам. Посчитаем, сколько проданных игр представлено для каждого жанра, а также их общие продажи."
      ]
    },
    {
      "cell_type": "code",
      "execution_count": null,
      "metadata": {
        "scrolled": false,
        "id": "Uke24EUtlxM-",
        "colab": {
          "base_uri": "https://localhost:8080/",
          "height": 456
        },
        "outputId": "3b220a67-bd35-4714-f37e-0574da489192"
      },
      "outputs": [
        {
          "output_type": "display_data",
          "data": {
            "text/plain": [
              "<Figure size 864x432 with 1 Axes>"
            ],
            "image/png": "[encoded data removed]"
          },
          "metadata": {}
        }
      ],
      "source": [
        "# plot of grouped games with for genre\n",
        "ax = (games_actual.groupby('genre').\n",
        "    agg({'name': 'count', 'sum_sales': 'sum'}).\n",
        "    sort_values(by='sum_sales', ascending=False).\n",
        "    plot(kind='bar', figsize=(12,6)))\n",
        "\n",
        "ax.legend(['Количество проданных игр', 'Общие продажи, млн. копий'])\n",
        "plt.title('Жанры видеоигр');"
      ]
    },
    {
      "cell_type": "markdown",
      "metadata": {
        "id": "ZUXjMLkKlxM-"
      },
      "source": [
        "Построим диаграммы размаха для анализа значений по жанрам."
      ]
    },
    {
      "cell_type": "code",
      "execution_count": null,
      "metadata": {
        "id": "AG7oVB2elxM-",
        "colab": {
          "base_uri": "https://localhost:8080/",
          "height": 497
        },
        "outputId": "3e259c5c-aa10-4dc4-a2a6-46b2704fd31d"
      },
      "outputs": [
        {
          "output_type": "display_data",
          "data": {
            "text/plain": [
              "<Figure size 1080x576 with 1 Axes>"
            ],
            "image/png": "[encoded data removed]"
          },
          "metadata": {}
        }
      ],
      "source": [
        "# boxplot for games by genre\n",
        "plt.figure(figsize=(15,8))\n",
        "\n",
        "sns.boxplot(x=\"genre\", y=\"sum_sales\", data=games_actual, showfliers=False)\n",
        "\n",
        "plt.ylabel('Объем продаж, млн. копий');"
      ]
    },
    {
      "cell_type": "markdown",
      "metadata": {
        "id": "0_3Uh6KUlxM-"
      },
      "source": [
        "Составим рейтинг самых популярных игр у пользователей. Выделяются жанры с высокими продажами:\n",
        "1. Action. Сущность экшенов отражает их название – в переводе с английского оно означает «действие», и здесь игрок находится в самом центре действия и управляет им. Обычно в экшенах очень легко приступить к игре, поэтому они до сих пор остаются самыми популярными видеоиграми. Спрос рождает предложение, поэтому этот жанр также популярен и у разработчиков. Количество разнообразных игр данного жанра представлено очень широко в данных. Число таких игр в 3 раза больше ближайшего конкурента жанра Role-Playing. Небольшой размах значений говорит о скромных продажах отдельных игр, но разнообразие и огромный ассортимент внутри жанра дает такой высокий объем продаж - более 100 млн. копий. \n",
        "2. Shooter. Шутеры позволяют игрокам использовать в своих действиях оружие, обычно с целью уничтожить врагов или противоборствующих игроков. По своему характеру они очень похожи на экшн, отсюда и высокая популярность. Объем продаж - более 100 млн. копий. Диаграмма размаха и дисперсия также самые большие у этого жанра, что говорит о большом числе отдельных игр с высокими продажами. Шутер безоговорочный лидер и наиболее успешный жанр.\n",
        "3. Role-Playing. Ролевые игры, или RPG – второй по количеству представленных игр. Этот жанр наиболее похож на фэнтези, поэтому игры находятся в тренде и так широко распространены. Объем продаж - более 50 млн. копий. По размаху значений продаж жанр находится на третьем месте после Sports.\n",
        "4. Sports. Как и следует из названия, симулируют различные виды спорта. Симуляция различных командных спортивных игр – один из старейших игровых жанров. Также одни из наиболее популярных игр этой категории – гоночные симуляторы. Объем продаж - более 60 млн. копий. Диаграмма размаха и дисперсия большие у этого жанра, что говорит о большом числе отдельных игр с высокими продажами, уступая лишь шутерам.\n",
        "5. Остальные жанры представлены с низкими показателями по общим продажам (в среднем менее 20 млн. копий). Отметим жанр Adventure, игры которого находятся на 3м месте по количеству, но продажи отдельных игр очень низкие. Жанр Puzzle имеет относительно самые низкие продажи. Это жанр головоломок таких, как Тетрис и Angry Birds, который больше популярен на планшетах или смартфонах."
      ]
    },
    {
      "cell_type": "markdown",
      "metadata": {
        "id": "5fA-dOlrlxNA"
      },
      "source": [
        "### Вывод"
      ]
    },
    {
      "cell_type": "markdown",
      "metadata": {
        "id": "fgTo3vdhlxNA"
      },
      "source": [
        "Подведем итоги исследования на этом этапе. Отметим следующие закономерности и результаты:\n",
        "- Полученные данные содержат проданные игры за период с 1980 по 2016 год. Глобальные продажи игр имели тренд роста до 2008 года, затем показатели продаж планомерно падали по настоящее время. В исследовании не важны данные за все периоды, был определен актуальный период (с 2015 по 2016 год), для определения актуальной ситуации на современном рынке.\n",
        "- PS4, XOne и 3DS - это наиболее потенциально прибыльные платформы за актуальный период. PS4 - лидер по глобальным продажам, но у XOne есть определенный потенциал по числу игр с высокими продажами.\n",
        "- 9 лет - это характерный средний срок, за который появляются новые и исчезают старые платформы.\n",
        "- В общем случае, пользователи ориентируются на оценки критиков перед покупкой игр. Отзывы самих игроков не влияют на продажи.\n",
        "- Отдельные игры жанров Shooter и Sports самые прибыльные. \n",
        "\n",
        "Полученные результаты дают определение потенциально самой прибыльной игры. Видеоигра должна быть выпущена для консоли PS4 или XOne, жанр Shooter или Sport, оценка критиков от 70, оценка пользователей от 6. Жанр Sport был добавлен для полноты сведений ввиду тренда падения спроса, абсолютные продажи и число игр похожи на Shooter."
      ]
    },
    {
      "cell_type": "markdown",
      "metadata": {
        "id": "hk7PB0kOlxNB"
      },
      "source": [
        "## Портрет пользователя региона"
      ]
    },
    {
      "cell_type": "markdown",
      "metadata": {
        "id": "bSaaVT_UlxNB"
      },
      "source": [
        "В полученных данных представлены продажи игр для основных регионов рынка - Северная Америка, Европа, Япония. Выполним расчет, просуммируем продажи за каждый год в регионах."
      ]
    },
    {
      "cell_type": "code",
      "execution_count": null,
      "metadata": {
        "scrolled": false,
        "id": "J0foYJ3PlxNB",
        "colab": {
          "base_uri": "https://localhost:8080/",
          "height": 175
        },
        "outputId": "76299ffe-8b21-4640-ac9c-9b2743f9f05b"
      },
      "outputs": [
        {
          "output_type": "execute_result",
          "data": {
            "text/plain": [
              "                 na_sales  eu_sales  jp_sales  other_sales\n",
              "year_of_release                                           \n",
              "2015               106.86     96.72     34.09        30.31\n",
              "2016                44.93     51.22     19.31        14.48\n",
              "All                151.79    147.94     53.40        44.79"
            ],
            "text/html": [
              "\n",
              "  <div id=\"df-3c08379c-9f86-4055-a4b3-2cd14ca90c1f\">\n",
              "    <div class=\"colab-df-container\">\n",
              "      <div>\n",
              "<style scoped>\n",
              "    .dataframe tbody tr th:only-of-type {\n",
              "        vertical-align: middle;\n",
              "    }\n",
              "\n",
              "    .dataframe tbody tr th {\n",
              "        vertical-align: top;\n",
              "    }\n",
              "\n",
              "    .dataframe thead th {\n",
              "        text-align: right;\n",
              "    }\n",
              "</style>\n",
              "<table border=\"1\" class=\"dataframe\">\n",
              "  <thead>\n",
              "    <tr style=\"text-align: right;\">\n",
              "      <th></th>\n",
              "      <th>na_sales</th>\n",
              "      <th>eu_sales</th>\n",
              "      <th>jp_sales</th>\n",
              "      <th>other_sales</th>\n",
              "    </tr>\n",
              "    <tr>\n",
              "      <th>year_of_release</th>\n",
              "      <th></th>\n",
              "      <th></th>\n",
              "      <th></th>\n",
              "      <th></th>\n",
              "    </tr>\n",
              "  </thead>\n",
              "  <tbody>\n",
              "    <tr>\n",
              "      <th>2015</th>\n",
              "      <td>106.86</td>\n",
              "      <td>96.72</td>\n",
              "      <td>34.09</td>\n",
              "      <td>30.31</td>\n",
              "    </tr>\n",
              "    <tr>\n",
              "      <th>2016</th>\n",
              "      <td>44.93</td>\n",
              "      <td>51.22</td>\n",
              "      <td>19.31</td>\n",
              "      <td>14.48</td>\n",
              "    </tr>\n",
              "    <tr>\n",
              "      <th>All</th>\n",
              "      <td>151.79</td>\n",
              "      <td>147.94</td>\n",
              "      <td>53.40</td>\n",
              "      <td>44.79</td>\n",
              "    </tr>\n",
              "  </tbody>\n",
              "</table>\n",
              "</div>\n",
              "      <button class=\"colab-df-convert\" onclick=\"convertToInteractive('df-3c08379c-9f86-4055-a4b3-2cd14ca90c1f')\"\n",
              "              title=\"Convert this dataframe to an interactive table.\"\n",
              "              style=\"display:none;\">\n",
              "        \n",
              "  <svg xmlns=\"http://www.w3.org/2000/svg\" height=\"24px\"viewBox=\"0 0 24 24\"\n",
              "       width=\"24px\">\n",
              "    <path d=\"M0 0h24v24H0V0z\" fill=\"none\"/>\n",
              "    <path d=\"M18.56 5.44l.94 2.06.94-2.06 2.06-.94-2.06-.94-.94-2.06-.94 2.06-2.06.94zm-11 1L8.5 8.5l.94-2.06 2.06-.94-2.06-.94L8.5 2.5l-.94 2.06-2.06.94zm10 10l.94 2.06.94-2.06 2.06-.94-2.06-.94-.94-2.06-.94 2.06-2.06.94z\"/><path d=\"M17.41 7.96l-1.37-1.37c-.4-.4-.92-.59-1.43-.59-.52 0-1.04.2-1.43.59L10.3 9.45l-7.72 7.72c-.78.78-.78 2.05 0 2.83L4 21.41c.39.39.9.59 1.41.59.51 0 1.02-.2 1.41-.59l7.78-7.78 2.81-2.81c.8-.78.8-2.07 0-2.86zM5.41 20L4 18.59l7.72-7.72 1.47 1.35L5.41 20z\"/>\n",
              "  </svg>\n",
              "      </button>\n",
              "      \n",
              "  <style>\n",
              "    .colab-df-container {\n",
              "      display:flex;\n",
              "      flex-wrap:wrap;\n",
              "      gap: 12px;\n",
              "    }\n",
              "\n",
              "    .colab-df-convert {\n",
              "      background-color: #E8F0FE;\n",
              "      border: none;\n",
              "      border-radius: 50%;\n",
              "      cursor: pointer;\n",
              "      display: none;\n",
              "      fill: #1967D2;\n",
              "      height: 32px;\n",
              "      padding: 0 0 0 0;\n",
              "      width: 32px;\n",
              "    }\n",
              "\n",
              "    .colab-df-convert:hover {\n",
              "      background-color: #E2EBFA;\n",
              "      box-shadow: 0px 1px 2px rgba(60, 64, 67, 0.3), 0px 1px 3px 1px rgba(60, 64, 67, 0.15);\n",
              "      fill: #174EA6;\n",
              "    }\n",
              "\n",
              "    [theme=dark] .colab-df-convert {\n",
              "      background-color: #3B4455;\n",
              "      fill: #D2E3FC;\n",
              "    }\n",
              "\n",
              "    [theme=dark] .colab-df-convert:hover {\n",
              "      background-color: #434B5C;\n",
              "      box-shadow: 0px 1px 3px 1px rgba(0, 0, 0, 0.15);\n",
              "      filter: drop-shadow(0px 1px 2px rgba(0, 0, 0, 0.3));\n",
              "      fill: #FFFFFF;\n",
              "    }\n",
              "  </style>\n",
              "\n",
              "      <script>\n",
              "        const buttonEl =\n",
              "          document.querySelector('#df-3c08379c-9f86-4055-a4b3-2cd14ca90c1f button.colab-df-convert');\n",
              "        buttonEl.style.display =\n",
              "          google.colab.kernel.accessAllowed ? 'block' : 'none';\n",
              "\n",
              "        async function convertToInteractive(key) {\n",
              "          const element = document.querySelector('#df-3c08379c-9f86-4055-a4b3-2cd14ca90c1f');\n",
              "          const dataTable =\n",
              "            await google.colab.kernel.invokeFunction('convertToInteractive',\n",
              "                                                     [key], {});\n",
              "          if (!dataTable) return;\n",
              "\n",
              "          const docLinkHtml = 'Like what you see? Visit the ' +\n",
              "            '<a target=\"_blank\" href=https://colab.research.google.com/notebooks/data_table.ipynb>data table notebook</a>'\n",
              "            + ' to learn more about interactive tables.';\n",
              "          element.innerHTML = '';\n",
              "          dataTable['output_type'] = 'display_data';\n",
              "          await google.colab.output.renderOutput(dataTable, element);\n",
              "          const docLink = document.createElement('div');\n",
              "          docLink.innerHTML = docLinkHtml;\n",
              "          element.appendChild(docLink);\n",
              "        }\n",
              "      </script>\n",
              "    </div>\n",
              "  </div>\n",
              "  "
            ]
          },
          "metadata": {},
          "execution_count": 46
        }
      ],
      "source": [
        "# gruoping sales with year by regions\n",
        "regions_sum = games_actual.pivot_table(index='year_of_release',\n",
        "                                       values=['eu_sales', 'na_sales', 'jp_sales', 'other_sales'],\n",
        "                                       aggfunc='sum',margins=True)\n",
        "\n",
        "#columns order\n",
        "regions_sum = regions_sum[['na_sales', 'eu_sales', 'jp_sales', 'other_sales']]\n",
        "regions_sum"
      ]
    },
    {
      "cell_type": "code",
      "execution_count": null,
      "metadata": {
        "id": "mySq2bynlxNB",
        "colab": {
          "base_uri": "https://localhost:8080/",
          "height": 420
        },
        "outputId": "733e3f9b-4510-437d-c65d-f969d157d09a"
      },
      "outputs": [
        {
          "output_type": "display_data",
          "data": {
            "text/plain": [
              "<Figure size 720x432 with 1 Axes>"
            ],
            "image/png": "[encoded data removed]"
          },
          "metadata": {}
        }
      ],
      "source": [
        "# barplot for sales by regions \n",
        "ax = regions_sum.plot(kind='bar', figsize=(10,6), grid=True)\n",
        "ax.legend(['Сев. Америка', 'Европа', 'Япония', 'Другие'])\n",
        "plt.title('Продажи в регионах')\n",
        "plt.ylabel('Объем продаж, млн. копий');"
      ]
    },
    {
      "cell_type": "code",
      "execution_count": null,
      "metadata": {
        "id": "PvjwWdrSlxNC",
        "colab": {
          "base_uri": "https://localhost:8080/",
          "height": 175
        },
        "outputId": "bf1572d9-2488-4ead-ef20-d942fee6bcbc"
      },
      "outputs": [
        {
          "output_type": "execute_result",
          "data": {
            "text/plain": [
              "                 na_sales  eu_sales  jp_sales  other_sales\n",
              "year_of_release                                           \n",
              "2015               106.86     96.72     34.09        30.31\n",
              "2016                44.93     51.22     19.31        14.48\n",
              "All                151.79    147.94     53.40        44.79"
            ],
            "text/html": [
              "\n",
              "  <div id=\"df-8abd2017-450c-445b-8d3f-7b3cb812d629\">\n",
              "    <div class=\"colab-df-container\">\n",
              "      <div>\n",
              "<style scoped>\n",
              "    .dataframe tbody tr th:only-of-type {\n",
              "        vertical-align: middle;\n",
              "    }\n",
              "\n",
              "    .dataframe tbody tr th {\n",
              "        vertical-align: top;\n",
              "    }\n",
              "\n",
              "    .dataframe thead th {\n",
              "        text-align: right;\n",
              "    }\n",
              "</style>\n",
              "<table border=\"1\" class=\"dataframe\">\n",
              "  <thead>\n",
              "    <tr style=\"text-align: right;\">\n",
              "      <th></th>\n",
              "      <th>na_sales</th>\n",
              "      <th>eu_sales</th>\n",
              "      <th>jp_sales</th>\n",
              "      <th>other_sales</th>\n",
              "    </tr>\n",
              "    <tr>\n",
              "      <th>year_of_release</th>\n",
              "      <th></th>\n",
              "      <th></th>\n",
              "      <th></th>\n",
              "      <th></th>\n",
              "    </tr>\n",
              "  </thead>\n",
              "  <tbody>\n",
              "    <tr>\n",
              "      <th>2015</th>\n",
              "      <td>106.86</td>\n",
              "      <td>96.72</td>\n",
              "      <td>34.09</td>\n",
              "      <td>30.31</td>\n",
              "    </tr>\n",
              "    <tr>\n",
              "      <th>2016</th>\n",
              "      <td>44.93</td>\n",
              "      <td>51.22</td>\n",
              "      <td>19.31</td>\n",
              "      <td>14.48</td>\n",
              "    </tr>\n",
              "    <tr>\n",
              "      <th>All</th>\n",
              "      <td>151.79</td>\n",
              "      <td>147.94</td>\n",
              "      <td>53.40</td>\n",
              "      <td>44.79</td>\n",
              "    </tr>\n",
              "  </tbody>\n",
              "</table>\n",
              "</div>\n",
              "      <button class=\"colab-df-convert\" onclick=\"convertToInteractive('df-8abd2017-450c-445b-8d3f-7b3cb812d629')\"\n",
              "              title=\"Convert this dataframe to an interactive table.\"\n",
              "              style=\"display:none;\">\n",
              "        \n",
              "  <svg xmlns=\"http://www.w3.org/2000/svg\" height=\"24px\"viewBox=\"0 0 24 24\"\n",
              "       width=\"24px\">\n",
              "    <path d=\"M0 0h24v24H0V0z\" fill=\"none\"/>\n",
              "    <path d=\"M18.56 5.44l.94 2.06.94-2.06 2.06-.94-2.06-.94-.94-2.06-.94 2.06-2.06.94zm-11 1L8.5 8.5l.94-2.06 2.06-.94-2.06-.94L8.5 2.5l-.94 2.06-2.06.94zm10 10l.94 2.06.94-2.06 2.06-.94-2.06-.94-.94-2.06-.94 2.06-2.06.94z\"/><path d=\"M17.41 7.96l-1.37-1.37c-.4-.4-.92-.59-1.43-.59-.52 0-1.04.2-1.43.59L10.3 9.45l-7.72 7.72c-.78.78-.78 2.05 0 2.83L4 21.41c.39.39.9.59 1.41.59.51 0 1.02-.2 1.41-.59l7.78-7.78 2.81-2.81c.8-.78.8-2.07 0-2.86zM5.41 20L4 18.59l7.72-7.72 1.47 1.35L5.41 20z\"/>\n",
              "  </svg>\n",
              "      </button>\n",
              "      \n",
              "  <style>\n",
              "    .colab-df-container {\n",
              "      display:flex;\n",
              "      flex-wrap:wrap;\n",
              "      gap: 12px;\n",
              "    }\n",
              "\n",
              "    .colab-df-convert {\n",
              "      background-color: #E8F0FE;\n",
              "      border: none;\n",
              "      border-radius: 50%;\n",
              "      cursor: pointer;\n",
              "      display: none;\n",
              "      fill: #1967D2;\n",
              "      height: 32px;\n",
              "      padding: 0 0 0 0;\n",
              "      width: 32px;\n",
              "    }\n",
              "\n",
              "    .colab-df-convert:hover {\n",
              "      background-color: #E2EBFA;\n",
              "      box-shadow: 0px 1px 2px rgba(60, 64, 67, 0.3), 0px 1px 3px 1px rgba(60, 64, 67, 0.15);\n",
              "      fill: #174EA6;\n",
              "    }\n",
              "\n",
              "    [theme=dark] .colab-df-convert {\n",
              "      background-color: #3B4455;\n",
              "      fill: #D2E3FC;\n",
              "    }\n",
              "\n",
              "    [theme=dark] .colab-df-convert:hover {\n",
              "      background-color: #434B5C;\n",
              "      box-shadow: 0px 1px 3px 1px rgba(0, 0, 0, 0.15);\n",
              "      filter: drop-shadow(0px 1px 2px rgba(0, 0, 0, 0.3));\n",
              "      fill: #FFFFFF;\n",
              "    }\n",
              "  </style>\n",
              "\n",
              "      <script>\n",
              "        const buttonEl =\n",
              "          document.querySelector('#df-8abd2017-450c-445b-8d3f-7b3cb812d629 button.colab-df-convert');\n",
              "        buttonEl.style.display =\n",
              "          google.colab.kernel.accessAllowed ? 'block' : 'none';\n",
              "\n",
              "        async function convertToInteractive(key) {\n",
              "          const element = document.querySelector('#df-8abd2017-450c-445b-8d3f-7b3cb812d629');\n",
              "          const dataTable =\n",
              "            await google.colab.kernel.invokeFunction('convertToInteractive',\n",
              "                                                     [key], {});\n",
              "          if (!dataTable) return;\n",
              "\n",
              "          const docLinkHtml = 'Like what you see? Visit the ' +\n",
              "            '<a target=\"_blank\" href=https://colab.research.google.com/notebooks/data_table.ipynb>data table notebook</a>'\n",
              "            + ' to learn more about interactive tables.';\n",
              "          element.innerHTML = '';\n",
              "          dataTable['output_type'] = 'display_data';\n",
              "          await google.colab.output.renderOutput(dataTable, element);\n",
              "          const docLink = document.createElement('div');\n",
              "          docLink.innerHTML = docLinkHtml;\n",
              "          element.appendChild(docLink);\n",
              "        }\n",
              "      </script>\n",
              "    </div>\n",
              "  </div>\n",
              "  "
            ]
          },
          "metadata": {},
          "execution_count": 48
        }
      ],
      "source": [
        "regions_sum"
      ]
    },
    {
      "cell_type": "markdown",
      "metadata": {
        "id": "7JDtl2hIlxNC"
      },
      "source": [
        "Действительно основные регионы рынка определены корректно. Сумма всех продаж видеоигр за актуальный период составляет около 398 млн. копий, из них в других регионах было продано только 11% от этой суммы. Лидеры рынка - Сев. Америка и Европа, их доля 75%.\n",
        "\n",
        "Составим портрет пользователя каждого региона. Определим для них самые популярные платформы и самые популярные жанры. Выясним, влияет ли рейтинг ESRB на продажи."
      ]
    },
    {
      "cell_type": "markdown",
      "metadata": {
        "id": "WlIqVum8lxND"
      },
      "source": [
        "### Самые популярные платформы "
      ]
    },
    {
      "cell_type": "markdown",
      "metadata": {
        "id": "kXWfTedqlxND"
      },
      "source": [
        "Отфильтруем общие данные, возьмем продажи игр только для основных регионов за актуальный период. Создадим три датасета для определения пятерки популярных платформ каждого региона, затем объединим эти данные для построения общей диаграммы."
      ]
    },
    {
      "cell_type": "code",
      "execution_count": null,
      "metadata": {
        "scrolled": true,
        "id": "8wJ2gCz0lxND"
      },
      "outputs": [],
      "source": [
        "# grouping of top platforms with sales by regions\n",
        "platform_eu = games_actual.groupby('platform')['eu_sales'].agg('sum').sort_values(ascending=False).head(5).reset_index()\n",
        "platform_na = games_actual.groupby('platform')['na_sales'].agg('sum').sort_values(ascending=False).head(5).reset_index()\n",
        "platform_jp = games_actual.groupby('platform')['jp_sales'].agg('sum').sort_values(ascending=False).head(5).reset_index()\n",
        "\n",
        "# merge top platforms0\n",
        "platform_region = platform_eu.merge(platform_na, how='outer')\n",
        "platform_region = platform_region.merge(platform_jp, how='outer')"
      ]
    },
    {
      "cell_type": "code",
      "execution_count": null,
      "metadata": {
        "id": "9Y5TbHivlxND",
        "colab": {
          "base_uri": "https://localhost:8080/",
          "height": 421
        },
        "outputId": "ab4806c0-0b2c-453a-94d1-3082840475e4"
      },
      "outputs": [
        {
          "output_type": "display_data",
          "data": {
            "text/plain": [
              "<Figure size 864x432 with 1 Axes>"
            ],
            "image/png": "[encoded data removed]"
          },
          "metadata": {}
        }
      ],
      "source": [
        "# barplot for top platforms by regions \n",
        "ax = platform_region.plot(kind='bar', x='platform', figsize=(12,6))\n",
        "\n",
        "ax.legend(['Европа', 'Сев. Америка', 'Япония'])\n",
        "plt.title('Самые популярные платформы')\n",
        "plt.ylabel('Объем продаж, млн. копий');"
      ]
    },
    {
      "cell_type": "markdown",
      "metadata": {
        "id": "e11H1ciFlxNE"
      },
      "source": [
        "Рассмотрим топ-5 популярных платформ подробнее:\n",
        "\n",
        "- Платформа PS4 самая популярная в Европе и Сев. Америке, 3DS в Японии. Продажи игр для самой популярной платформы в Европе составляют 82 млн.копий, в Сев. Америке на 25% меньше, в Японии это значение в 4 раза меньше.\n",
        "- Второе место занимает платформа XOne в Сев. Америке и в Европе, PS4 в Японии. Продажи игр для второго места среди популярных платформ в Сев. Америке составляют 50 млн.копий, в Европе на 40% меньше, в Японии это значение в 4 раза меньше. Разница между лидером для Сев. Америки 20%, для Европы 65%, для Японии эта разница составляет 45%.\n",
        "- Третье место занимает платформа 3DS в Сев. Америке, PC в Европе, PSV в Японии. Продажи игр для третьего места среди популярных платформ у всех регионов примерно одинаковая от 8 до 10 млн. копий. Разница между лидером для Сев. Америки 85%, для Европы 90% и Японии эта разница составляет 65%.\n",
        "- Остальные платформы имеют похожие значения продаж - в Европе по 7 млн. копий, в Сев. Америке по 8 млн. копий, в Японии по 4 млн.копий. Трудно что-то выделить.\n",
        "\n",
        "Пользователи Сев. Америки и Европы предпочитают игры для PS4, следом идет XOne. Лидеры продаж в Японии - игры для 3DS, следом PS4, XOne не популярна."
      ]
    },
    {
      "cell_type": "markdown",
      "metadata": {
        "id": "DL_pnZShlxNF"
      },
      "source": [
        "### Самые популярные жанры"
      ]
    },
    {
      "cell_type": "markdown",
      "metadata": {
        "id": "_t8-M8lXlxNF"
      },
      "source": [
        "Определим также пятерку популярных жанров каждого региона. Объединим эти данные для построения общей диаграммы."
      ]
    },
    {
      "cell_type": "code",
      "execution_count": null,
      "metadata": {
        "scrolled": false,
        "id": "_hmNGoIelxNF",
        "colab": {
          "base_uri": "https://localhost:8080/",
          "height": 269
        },
        "outputId": "315a0fdc-330d-46e8-c5b1-6b11d20be064"
      },
      "outputs": [
        {
          "output_type": "execute_result",
          "data": {
            "text/plain": [
              "          genre  eu_sales  na_sales  jp_sales\n",
              "0       Shooter     40.28     48.18      3.79\n",
              "1        Action     34.82     33.68     23.05\n",
              "2        Sports     27.82     26.31       NaN\n",
              "3  Role-Playing     17.21     19.82     13.41\n",
              "4        Racing      6.52       NaN       NaN\n",
              "5          Misc       NaN      5.58      3.19\n",
              "6     Adventure       NaN       NaN      2.22"
            ],
            "text/html": [
              "\n",
              "  <div id=\"df-3ae634de-b306-4bd7-9a6e-94c61de9f274\">\n",
              "    <div class=\"colab-df-container\">\n",
              "      <div>\n",
              "<style scoped>\n",
              "    .dataframe tbody tr th:only-of-type {\n",
              "        vertical-align: middle;\n",
              "    }\n",
              "\n",
              "    .dataframe tbody tr th {\n",
              "        vertical-align: top;\n",
              "    }\n",
              "\n",
              "    .dataframe thead th {\n",
              "        text-align: right;\n",
              "    }\n",
              "</style>\n",
              "<table border=\"1\" class=\"dataframe\">\n",
              "  <thead>\n",
              "    <tr style=\"text-align: right;\">\n",
              "      <th></th>\n",
              "      <th>genre</th>\n",
              "      <th>eu_sales</th>\n",
              "      <th>na_sales</th>\n",
              "      <th>jp_sales</th>\n",
              "    </tr>\n",
              "  </thead>\n",
              "  <tbody>\n",
              "    <tr>\n",
              "      <th>0</th>\n",
              "      <td>Shooter</td>\n",
              "      <td>40.28</td>\n",
              "      <td>48.18</td>\n",
              "      <td>3.79</td>\n",
              "    </tr>\n",
              "    <tr>\n",
              "      <th>1</th>\n",
              "      <td>Action</td>\n",
              "      <td>34.82</td>\n",
              "      <td>33.68</td>\n",
              "      <td>23.05</td>\n",
              "    </tr>\n",
              "    <tr>\n",
              "      <th>2</th>\n",
              "      <td>Sports</td>\n",
              "      <td>27.82</td>\n",
              "      <td>26.31</td>\n",
              "      <td>NaN</td>\n",
              "    </tr>\n",
              "    <tr>\n",
              "      <th>3</th>\n",
              "      <td>Role-Playing</td>\n",
              "      <td>17.21</td>\n",
              "      <td>19.82</td>\n",
              "      <td>13.41</td>\n",
              "    </tr>\n",
              "    <tr>\n",
              "      <th>4</th>\n",
              "      <td>Racing</td>\n",
              "      <td>6.52</td>\n",
              "      <td>NaN</td>\n",
              "      <td>NaN</td>\n",
              "    </tr>\n",
              "    <tr>\n",
              "      <th>5</th>\n",
              "      <td>Misc</td>\n",
              "      <td>NaN</td>\n",
              "      <td>5.58</td>\n",
              "      <td>3.19</td>\n",
              "    </tr>\n",
              "    <tr>\n",
              "      <th>6</th>\n",
              "      <td>Adventure</td>\n",
              "      <td>NaN</td>\n",
              "      <td>NaN</td>\n",
              "      <td>2.22</td>\n",
              "    </tr>\n",
              "  </tbody>\n",
              "</table>\n",
              "</div>\n",
              "      <button class=\"colab-df-convert\" onclick=\"convertToInteractive('df-3ae634de-b306-4bd7-9a6e-94c61de9f274')\"\n",
              "              title=\"Convert this dataframe to an interactive table.\"\n",
              "              style=\"display:none;\">\n",
              "        \n",
              "  <svg xmlns=\"http://www.w3.org/2000/svg\" height=\"24px\"viewBox=\"0 0 24 24\"\n",
              "       width=\"24px\">\n",
              "    <path d=\"M0 0h24v24H0V0z\" fill=\"none\"/>\n",
              "    <path d=\"M18.56 5.44l.94 2.06.94-2.06 2.06-.94-2.06-.94-.94-2.06-.94 2.06-2.06.94zm-11 1L8.5 8.5l.94-2.06 2.06-.94-2.06-.94L8.5 2.5l-.94 2.06-2.06.94zm10 10l.94 2.06.94-2.06 2.06-.94-2.06-.94-.94-2.06-.94 2.06-2.06.94z\"/><path d=\"M17.41 7.96l-1.37-1.37c-.4-.4-.92-.59-1.43-.59-.52 0-1.04.2-1.43.59L10.3 9.45l-7.72 7.72c-.78.78-.78 2.05 0 2.83L4 21.41c.39.39.9.59 1.41.59.51 0 1.02-.2 1.41-.59l7.78-7.78 2.81-2.81c.8-.78.8-2.07 0-2.86zM5.41 20L4 18.59l7.72-7.72 1.47 1.35L5.41 20z\"/>\n",
              "  </svg>\n",
              "      </button>\n",
              "      \n",
              "  <style>\n",
              "    .colab-df-container {\n",
              "      display:flex;\n",
              "      flex-wrap:wrap;\n",
              "      gap: 12px;\n",
              "    }\n",
              "\n",
              "    .colab-df-convert {\n",
              "      background-color: #E8F0FE;\n",
              "      border: none;\n",
              "      border-radius: 50%;\n",
              "      cursor: pointer;\n",
              "      display: none;\n",
              "      fill: #1967D2;\n",
              "      height: 32px;\n",
              "      padding: 0 0 0 0;\n",
              "      width: 32px;\n",
              "    }\n",
              "\n",
              "    .colab-df-convert:hover {\n",
              "      background-color: #E2EBFA;\n",
              "      box-shadow: 0px 1px 2px rgba(60, 64, 67, 0.3), 0px 1px 3px 1px rgba(60, 64, 67, 0.15);\n",
              "      fill: #174EA6;\n",
              "    }\n",
              "\n",
              "    [theme=dark] .colab-df-convert {\n",
              "      background-color: #3B4455;\n",
              "      fill: #D2E3FC;\n",
              "    }\n",
              "\n",
              "    [theme=dark] .colab-df-convert:hover {\n",
              "      background-color: #434B5C;\n",
              "      box-shadow: 0px 1px 3px 1px rgba(0, 0, 0, 0.15);\n",
              "      filter: drop-shadow(0px 1px 2px rgba(0, 0, 0, 0.3));\n",
              "      fill: #FFFFFF;\n",
              "    }\n",
              "  </style>\n",
              "\n",
              "      <script>\n",
              "        const buttonEl =\n",
              "          document.querySelector('#df-3ae634de-b306-4bd7-9a6e-94c61de9f274 button.colab-df-convert');\n",
              "        buttonEl.style.display =\n",
              "          google.colab.kernel.accessAllowed ? 'block' : 'none';\n",
              "\n",
              "        async function convertToInteractive(key) {\n",
              "          const element = document.querySelector('#df-3ae634de-b306-4bd7-9a6e-94c61de9f274');\n",
              "          const dataTable =\n",
              "            await google.colab.kernel.invokeFunction('convertToInteractive',\n",
              "                                                     [key], {});\n",
              "          if (!dataTable) return;\n",
              "\n",
              "          const docLinkHtml = 'Like what you see? Visit the ' +\n",
              "            '<a target=\"_blank\" href=https://colab.research.google.com/notebooks/data_table.ipynb>data table notebook</a>'\n",
              "            + ' to learn more about interactive tables.';\n",
              "          element.innerHTML = '';\n",
              "          dataTable['output_type'] = 'display_data';\n",
              "          await google.colab.output.renderOutput(dataTable, element);\n",
              "          const docLink = document.createElement('div');\n",
              "          docLink.innerHTML = docLinkHtml;\n",
              "          element.appendChild(docLink);\n",
              "        }\n",
              "      </script>\n",
              "    </div>\n",
              "  </div>\n",
              "  "
            ]
          },
          "metadata": {},
          "execution_count": 51
        }
      ],
      "source": [
        "# grouping of top platforms with sales by regions\n",
        "genre_eu = games_actual.groupby('genre')['eu_sales'].agg('sum').sort_values(ascending=False).head(5).reset_index()\n",
        "genre_na = games_actual.groupby('genre')['na_sales'].agg('sum').sort_values(ascending=False).head(5).reset_index()\n",
        "genre_jp = games_actual.groupby('genre')['jp_sales'].agg('sum').sort_values(ascending=False).head(5).reset_index()\n",
        "\n",
        "# merge top platforms\n",
        "genre_region = genre_eu.merge(genre_na, how='outer')\n",
        "genre_region = genre_region.merge(genre_jp, how='outer')\n",
        "genre_region"
      ]
    },
    {
      "cell_type": "code",
      "execution_count": null,
      "metadata": {
        "id": "e7Z5VR5_lxNF",
        "colab": {
          "base_uri": "https://localhost:8080/",
          "height": 456
        },
        "outputId": "af997613-45ea-4e90-a671-4ed43811259b"
      },
      "outputs": [
        {
          "output_type": "display_data",
          "data": {
            "text/plain": [
              "<Figure size 864x432 with 1 Axes>"
            ],
            "image/png": "[encoded data removed]"
          },
          "metadata": {}
        }
      ],
      "source": [
        "# barplot for top platforms by regions \n",
        "ax = genre_region.plot(kind='bar', x='genre', figsize=(12,6))\n",
        "\n",
        "ax.legend(['Европа', 'Сев. Америка', 'Япония'])\n",
        "plt.title('Самые популярные жанры')\n",
        "plt.ylabel('Объем продаж, млн. копий');"
      ]
    },
    {
      "cell_type": "markdown",
      "metadata": {
        "id": "0-FSvvnJlxNG"
      },
      "source": [
        "Предпочтение жанров для видеоигр у пользователей Сев. Америки и Европы очень похожи. Пользователи Японии имеют некоторые особенности. Рассмотрим топ-5 популярных жанров подробнее:\n",
        "- Шутер лидирует по продажам в Европе и Сев. Америке. Особенно это заметно для покупателей в Сев. Америке, объем продаж там около 48 млн. копий, разница с экшн составляет 30%, эта же разница в Европе всего 14%. В Японии этот жанр заметно отстает - третье место.\n",
        "- Экшн популярен во всех основных регионах. Второе место по продажам в Сев.Америке и в Европе. Большинство Японцев покупают игры именно этого жанра, объем продаж - 23 млн. копий, разница с Role-Playing составляет 40%.\n",
        "- Спортивные симуляторы на третьем месте по полярности в Сев. Америке и Европе, разница с шутером 45% и 30% соответственно. Игры данного жанра не популярны в Японии.\n",
        "- Role-Playing идут следом. Этот жанр наиболее популярен в Японии, он занимает здесь второе место. В Сев. Америке и Европе только четвертое, отставание от лидера в этих странах около 60%.\n",
        "- Остальные жанры имеют похожие значения продаж - от 2 до 6 млн.копий. Трудно что-то выделить.\n",
        "\n",
        "Пользователи Сев. Америки больше всего предпочитают шутеры. Европейцы тоже, в общем случае, покупают игры этого жанра. Экшн особенно популярен в Японии, в Сев. Америке и в Европе он на втором месте. Спортивные симуляторы на третьем месте по популярности в Сев. Америке и Европе, но в Японии его даже нет в топ-5. Индивидуальность пользователей обусловлены национальными и культурными особенностями их регионов. Покупатели в Сев. Америке и в Европе похожи, а в Японии отличаются."
      ]
    },
    {
      "cell_type": "markdown",
      "metadata": {
        "id": "nb_jfEKzlxNH"
      },
      "source": [
        "### Влияние рейтинга ESRB"
      ]
    },
    {
      "cell_type": "markdown",
      "metadata": {
        "id": "dqgfzne8lxNH"
      },
      "source": [
        "Мы уже установили, что рейтинг ESRB указан не для всех игр в общих данных. Найдем долю таких случаев в выборке за актуальный период."
      ]
    },
    {
      "cell_type": "code",
      "execution_count": null,
      "metadata": {
        "id": "N6gsfUOllxNH",
        "colab": {
          "base_uri": "https://localhost:8080/"
        },
        "outputId": "875e3535-9b5c-462c-d54e-47fd165f76fa"
      },
      "outputs": [
        {
          "output_type": "stream",
          "name": "stdout",
          "text": [
            "Доля игр без рейтинга составляет 46%.\n"
          ]
        }
      ],
      "source": [
        "share_esrb = games_actual['rating'].isna().mean()\n",
        "print(f'Доля игр без рейтинга составляет {share_esrb:.0%}.')"
      ]
    },
    {
      "cell_type": "markdown",
      "metadata": {
        "id": "vunXrrPilxNI"
      },
      "source": [
        "Пропуски рейтинга имеются у довольно большого числа игр. Отметим эти позиции как \"NA\" - сокращение от \"not applicable\", с англ. неприменимо."
      ]
    },
    {
      "cell_type": "code",
      "execution_count": null,
      "metadata": {
        "id": "zzgKScVjlxNI"
      },
      "outputs": [],
      "source": [
        "games_actual['rating'] = games_actual['rating'].fillna('NA')"
      ]
    },
    {
      "cell_type": "markdown",
      "metadata": {
        "id": "tZTZfWrKlxNI"
      },
      "source": [
        "Выясним, как влияет рейтинг ESRB на продажи в отдельном регионе. Сгруппируем данные по рейтингу и построим общую диаграмму."
      ]
    },
    {
      "cell_type": "code",
      "execution_count": null,
      "metadata": {
        "scrolled": false,
        "id": "1wWX7cSdlxNI"
      },
      "outputs": [],
      "source": [
        "# grouping of top platforms with sales by regions\n",
        "esrb = games_actual.groupby('rating')[['na_sales', 'eu_sales', 'jp_sales']].agg('sum').reset_index()\n",
        "esrb = esrb.sort_values(by='na_sales',ascending=False)"
      ]
    },
    {
      "cell_type": "code",
      "execution_count": null,
      "metadata": {
        "id": "rGtFV8zhlxNJ",
        "colab": {
          "base_uri": "https://localhost:8080/",
          "height": 421
        },
        "outputId": "7877fec2-2cce-458c-c8a7-3d014a5519dc"
      },
      "outputs": [
        {
          "output_type": "display_data",
          "data": {
            "text/plain": [
              "<Figure size 720x432 with 1 Axes>"
            ],
            "image/png": "[encoded data removed]"
          },
          "metadata": {}
        }
      ],
      "source": [
        "# barplot for top platforms by regions \n",
        "ax = esrb.plot(kind='bar', x='rating', figsize=(10,6))\n",
        "\n",
        "ax.legend(['Сев. Америка', 'Европа', 'Япония'])\n",
        "plt.title('Влияние рейтинга ESRB')\n",
        "plt.ylabel('Объем продаж, млн. копий');"
      ]
    },
    {
      "cell_type": "markdown",
      "metadata": {
        "id": "UiLTGSAVlxNJ"
      },
      "source": [
        "«M» («Mature») — «Для взрослых»: Материалы игры не подходят для подростков младше 17 лет. Игры с таким рейтингом наиболее популярны у покупателей из Сев. Америки и Европы. Игры с рейтингом М находятся лишь на третьем месте по продажам в Японии.\n",
        "\n",
        "«E» («Everyone») — «Для всех»: Содержание вполне подходит для возрастной категории от 6 лет. Игры рассчитаны на широкую возрастную аудиторию, отсюда и такая большая популярность. Второе место по продажам во всех регионах.\n",
        "\n",
        "«T» («Teen») — «Подросткам»: Игра подходит для лиц от 13 лет. Игры с таким рейтингом самые популярные в Японии, для остальных регионах только третье место по продажам.\n",
        "\n",
        "«E10+» («Everyone 10 and older») — «Для всех от 10 лет и старше». Игры с рейтингом Е имеют самые низкие продажи в регионах.\n",
        "\n",
        "Пользователи Сев. Америки и Европы больше всего предпочитают игры рейтинга М и Е, а в Японии - рейтинга Т и Е.\n",
        "\n",
        "Продажи игр без рейтинга очень высокие. Они безусловные лидеры в Японии, продажи больше в 4 раза, чем у игр с рейтингом Т. В Сев. Америке и Европе такие позиции занимают второе место по абсолютным продажам.\n",
        "\n",
        "Построим диаграмму размаха, чтобы оценить влияние ESRB на глобальные продажи."
      ]
    },
    {
      "cell_type": "code",
      "execution_count": null,
      "metadata": {
        "id": "R4EXbaIalxNK",
        "colab": {
          "base_uri": "https://localhost:8080/",
          "height": 334
        },
        "outputId": "4ff199fd-0774-457a-ebc3-daf57bad2d13"
      },
      "outputs": [
        {
          "output_type": "display_data",
          "data": {
            "text/plain": [
              "<Figure size 576x360 with 1 Axes>"
            ],
            "image/png": "[encoded data removed]"
          },
          "metadata": {}
        }
      ],
      "source": [
        "# boxplot for rating and sum_sales\n",
        "plt.figure(figsize=(8,5))\n",
        "sns.boxplot(x=\"rating\", y=\"sum_sales\", data=games_actual, showfliers=False)\n",
        "plt.ylabel('Глобальные продажи');"
      ]
    },
    {
      "cell_type": "markdown",
      "metadata": {
        "id": "diL15f1klxNK"
      },
      "source": [
        "Пользователи во всех регионах, в общем случае, особенно предпочитают игры рейтинга М. Вероятно, что это обусловлено популярностью таких жанров как Shooter, где в определенном количестве присутствует насилие и возрастные ограничения. Рейтинг Е на втором месте.\n",
        "\n",
        "Отдельные игры без рейтинга ESRB самые непопулярные. Диаграмма размаха для них принимает минимальные значения по продажам. Возможно пропуски обусловлены низкой известностью таких игр в Сев. Америке и Европе, потому что все популярные игры проходят проверку и получают рейтинг ESRB - это важное условие у всех крупных центров продаж. В Японии же находятся региональные агентства по определению рейтинга и местные центры продаж не требуют ESRB. Можно сделать вывод, что рейтинг ESRB хотя и имеет региональный характер, но в общем случае, он отсутствует у непопулярных игр."
      ]
    },
    {
      "cell_type": "markdown",
      "metadata": {
        "id": "5PcYjDHDlxNL"
      },
      "source": [
        "### Вывод"
      ]
    },
    {
      "cell_type": "markdown",
      "metadata": {
        "id": "wAdDm4omlxNL"
      },
      "source": [
        "Платформа PS4, в общем случае, самая популярная платформа у основных регионов. Европейцы предпочитают ее другим консолям, даже больше чем американцы. Отрыв продаж игр в Европе для PS4 составляет целых 65% от XOne, у Сев. Америки эта разница всего лишь 20%. Японцы предпочитают игры на более старую 3DS, PS4 уступает ей здесь 45% по продажам.\n",
        "\n",
        "Пользователи Сев. Америки и Европы больше всего предпочитают шутеры. Экшн особенно популярен в Японии. Индивидуальность пользователей обусловлены национальными и культурными особенностями своих регионов. Покупатели в Сев. Америке и в Европе похожи, а в Японии отличаются.\n",
        "\n",
        "Пользователи Сев. Америки и Европы больше всего предпочитают игры рейтинга М, в Японии самые высокие продажи игр с рейтингом Т. На втором месте среди всех регионов - игры с рейтингом Е. Отдельные игры без рейтинга ESRB самые непопулярные в основных регионах. Рейтинг ESRB обязательное условие для продажи в Сев. Америке и Европе."
      ]
    },
    {
      "cell_type": "markdown",
      "metadata": {
        "id": "kqfXFacOlxNM"
      },
      "source": [
        "## Проверка гипотез"
      ]
    },
    {
      "cell_type": "markdown",
      "metadata": {
        "id": "d4OVwGUjlxNM"
      },
      "source": [
        "### Рейтинги платформ Xbox One и PC"
      ]
    },
    {
      "cell_type": "markdown",
      "metadata": {
        "id": "7SGjCoHdlxNN"
      },
      "source": [
        "Проверим гипотезу - средние пользовательские рейтинги платформ Xbox One и PC одинаковые. Создадим датасеты для анализа оценок каждой из платформ."
      ]
    },
    {
      "cell_type": "code",
      "execution_count": null,
      "metadata": {
        "id": "tbdgZqADlxNN",
        "colab": {
          "base_uri": "https://localhost:8080/",
          "height": 224
        },
        "outputId": "0a1c48bf-559a-46fc-b0c9-0aac93b07bad"
      },
      "outputs": [
        {
          "output_type": "display_data",
          "data": {
            "text/plain": [
              "   user_score\n",
              "0         6.4\n",
              "1         6.2\n",
              "2         7.5\n",
              "3         4.4\n",
              "4         5.5"
            ],
            "text/html": [
              "\n",
              "  <div id=\"df-a607f4c7-050e-4135-b319-0062588976d3\">\n",
              "    <div class=\"colab-df-container\">\n",
              "      <div>\n",
              "<style scoped>\n",
              "    .dataframe tbody tr th:only-of-type {\n",
              "        vertical-align: middle;\n",
              "    }\n",
              "\n",
              "    .dataframe tbody tr th {\n",
              "        vertical-align: top;\n",
              "    }\n",
              "\n",
              "    .dataframe thead th {\n",
              "        text-align: right;\n",
              "    }\n",
              "</style>\n",
              "<table border=\"1\" class=\"dataframe\">\n",
              "  <thead>\n",
              "    <tr style=\"text-align: right;\">\n",
              "      <th></th>\n",
              "      <th>user_score</th>\n",
              "    </tr>\n",
              "  </thead>\n",
              "  <tbody>\n",
              "    <tr>\n",
              "      <th>0</th>\n",
              "      <td>6.4</td>\n",
              "    </tr>\n",
              "    <tr>\n",
              "      <th>1</th>\n",
              "      <td>6.2</td>\n",
              "    </tr>\n",
              "    <tr>\n",
              "      <th>2</th>\n",
              "      <td>7.5</td>\n",
              "    </tr>\n",
              "    <tr>\n",
              "      <th>3</th>\n",
              "      <td>4.4</td>\n",
              "    </tr>\n",
              "    <tr>\n",
              "      <th>4</th>\n",
              "      <td>5.5</td>\n",
              "    </tr>\n",
              "  </tbody>\n",
              "</table>\n",
              "</div>\n",
              "      <button class=\"colab-df-convert\" onclick=\"convertToInteractive('df-a607f4c7-050e-4135-b319-0062588976d3')\"\n",
              "              title=\"Convert this dataframe to an interactive table.\"\n",
              "              style=\"display:none;\">\n",
              "        \n",
              "  <svg xmlns=\"http://www.w3.org/2000/svg\" height=\"24px\"viewBox=\"0 0 24 24\"\n",
              "       width=\"24px\">\n",
              "    <path d=\"M0 0h24v24H0V0z\" fill=\"none\"/>\n",
              "    <path d=\"M18.56 5.44l.94 2.06.94-2.06 2.06-.94-2.06-.94-.94-2.06-.94 2.06-2.06.94zm-11 1L8.5 8.5l.94-2.06 2.06-.94-2.06-.94L8.5 2.5l-.94 2.06-2.06.94zm10 10l.94 2.06.94-2.06 2.06-.94-2.06-.94-.94-2.06-.94 2.06-2.06.94z\"/><path d=\"M17.41 7.96l-1.37-1.37c-.4-.4-.92-.59-1.43-.59-.52 0-1.04.2-1.43.59L10.3 9.45l-7.72 7.72c-.78.78-.78 2.05 0 2.83L4 21.41c.39.39.9.59 1.41.59.51 0 1.02-.2 1.41-.59l7.78-7.78 2.81-2.81c.8-.78.8-2.07 0-2.86zM5.41 20L4 18.59l7.72-7.72 1.47 1.35L5.41 20z\"/>\n",
              "  </svg>\n",
              "      </button>\n",
              "      \n",
              "  <style>\n",
              "    .colab-df-container {\n",
              "      display:flex;\n",
              "      flex-wrap:wrap;\n",
              "      gap: 12px;\n",
              "    }\n",
              "\n",
              "    .colab-df-convert {\n",
              "      background-color: #E8F0FE;\n",
              "      border: none;\n",
              "      border-radius: 50%;\n",
              "      cursor: pointer;\n",
              "      display: none;\n",
              "      fill: #1967D2;\n",
              "      height: 32px;\n",
              "      padding: 0 0 0 0;\n",
              "      width: 32px;\n",
              "    }\n",
              "\n",
              "    .colab-df-convert:hover {\n",
              "      background-color: #E2EBFA;\n",
              "      box-shadow: 0px 1px 2px rgba(60, 64, 67, 0.3), 0px 1px 3px 1px rgba(60, 64, 67, 0.15);\n",
              "      fill: #174EA6;\n",
              "    }\n",
              "\n",
              "    [theme=dark] .colab-df-convert {\n",
              "      background-color: #3B4455;\n",
              "      fill: #D2E3FC;\n",
              "    }\n",
              "\n",
              "    [theme=dark] .colab-df-convert:hover {\n",
              "      background-color: #434B5C;\n",
              "      box-shadow: 0px 1px 3px 1px rgba(0, 0, 0, 0.15);\n",
              "      filter: drop-shadow(0px 1px 2px rgba(0, 0, 0, 0.3));\n",
              "      fill: #FFFFFF;\n",
              "    }\n",
              "  </style>\n",
              "\n",
              "      <script>\n",
              "        const buttonEl =\n",
              "          document.querySelector('#df-a607f4c7-050e-4135-b319-0062588976d3 button.colab-df-convert');\n",
              "        buttonEl.style.display =\n",
              "          google.colab.kernel.accessAllowed ? 'block' : 'none';\n",
              "\n",
              "        async function convertToInteractive(key) {\n",
              "          const element = document.querySelector('#df-a607f4c7-050e-4135-b319-0062588976d3');\n",
              "          const dataTable =\n",
              "            await google.colab.kernel.invokeFunction('convertToInteractive',\n",
              "                                                     [key], {});\n",
              "          if (!dataTable) return;\n",
              "\n",
              "          const docLinkHtml = 'Like what you see? Visit the ' +\n",
              "            '<a target=\"_blank\" href=https://colab.research.google.com/notebooks/data_table.ipynb>data table notebook</a>'\n",
              "            + ' to learn more about interactive tables.';\n",
              "          element.innerHTML = '';\n",
              "          dataTable['output_type'] = 'display_data';\n",
              "          await google.colab.output.renderOutput(dataTable, element);\n",
              "          const docLink = document.createElement('div');\n",
              "          docLink.innerHTML = docLinkHtml;\n",
              "          element.appendChild(docLink);\n",
              "        }\n",
              "      </script>\n",
              "    </div>\n",
              "  </div>\n",
              "  "
            ]
          },
          "metadata": {}
        },
        {
          "output_type": "stream",
          "name": "stdout",
          "text": [
            "Количество строк 121\n"
          ]
        }
      ],
      "source": [
        "# dataset for Xbox user_score\n",
        "xbox_score = games_actual.query('(platform==\"XOne\")&(user_score>0)')['user_score'].copy()\n",
        "xbox_score = xbox_score.reset_index()\n",
        "xbox_score = xbox_score.drop(columns = ['index'],axis = 1)\n",
        "display(xbox_score.head())\n",
        "print('Количество строк', xbox_score.shape[0])"
      ]
    },
    {
      "cell_type": "code",
      "execution_count": null,
      "metadata": {
        "id": "Ytql4nevlxNN",
        "colab": {
          "base_uri": "https://localhost:8080/",
          "height": 224
        },
        "outputId": "9be37efb-2b09-4148-e558-23fe61f1c8e2"
      },
      "outputs": [
        {
          "output_type": "display_data",
          "data": {
            "text/plain": [
              "   user_score\n",
              "0         5.4\n",
              "1         7.9\n",
              "2         9.3\n",
              "3         8.0\n",
              "4         6.8"
            ],
            "text/html": [
              "\n",
              "  <div id=\"df-44003349-051f-4960-ad02-2258a1af27ab\">\n",
              "    <div class=\"colab-df-container\">\n",
              "      <div>\n",
              "<style scoped>\n",
              "    .dataframe tbody tr th:only-of-type {\n",
              "        vertical-align: middle;\n",
              "    }\n",
              "\n",
              "    .dataframe tbody tr th {\n",
              "        vertical-align: top;\n",
              "    }\n",
              "\n",
              "    .dataframe thead th {\n",
              "        text-align: right;\n",
              "    }\n",
              "</style>\n",
              "<table border=\"1\" class=\"dataframe\">\n",
              "  <thead>\n",
              "    <tr style=\"text-align: right;\">\n",
              "      <th></th>\n",
              "      <th>user_score</th>\n",
              "    </tr>\n",
              "  </thead>\n",
              "  <tbody>\n",
              "    <tr>\n",
              "      <th>0</th>\n",
              "      <td>5.4</td>\n",
              "    </tr>\n",
              "    <tr>\n",
              "      <th>1</th>\n",
              "      <td>7.9</td>\n",
              "    </tr>\n",
              "    <tr>\n",
              "      <th>2</th>\n",
              "      <td>9.3</td>\n",
              "    </tr>\n",
              "    <tr>\n",
              "      <th>3</th>\n",
              "      <td>8.0</td>\n",
              "    </tr>\n",
              "    <tr>\n",
              "      <th>4</th>\n",
              "      <td>6.8</td>\n",
              "    </tr>\n",
              "  </tbody>\n",
              "</table>\n",
              "</div>\n",
              "      <button class=\"colab-df-convert\" onclick=\"convertToInteractive('df-44003349-051f-4960-ad02-2258a1af27ab')\"\n",
              "              title=\"Convert this dataframe to an interactive table.\"\n",
              "              style=\"display:none;\">\n",
              "        \n",
              "  <svg xmlns=\"http://www.w3.org/2000/svg\" height=\"24px\"viewBox=\"0 0 24 24\"\n",
              "       width=\"24px\">\n",
              "    <path d=\"M0 0h24v24H0V0z\" fill=\"none\"/>\n",
              "    <path d=\"M18.56 5.44l.94 2.06.94-2.06 2.06-.94-2.06-.94-.94-2.06-.94 2.06-2.06.94zm-11 1L8.5 8.5l.94-2.06 2.06-.94-2.06-.94L8.5 2.5l-.94 2.06-2.06.94zm10 10l.94 2.06.94-2.06 2.06-.94-2.06-.94-.94-2.06-.94 2.06-2.06.94z\"/><path d=\"M17.41 7.96l-1.37-1.37c-.4-.4-.92-.59-1.43-.59-.52 0-1.04.2-1.43.59L10.3 9.45l-7.72 7.72c-.78.78-.78 2.05 0 2.83L4 21.41c.39.39.9.59 1.41.59.51 0 1.02-.2 1.41-.59l7.78-7.78 2.81-2.81c.8-.78.8-2.07 0-2.86zM5.41 20L4 18.59l7.72-7.72 1.47 1.35L5.41 20z\"/>\n",
              "  </svg>\n",
              "      </button>\n",
              "      \n",
              "  <style>\n",
              "    .colab-df-container {\n",
              "      display:flex;\n",
              "      flex-wrap:wrap;\n",
              "      gap: 12px;\n",
              "    }\n",
              "\n",
              "    .colab-df-convert {\n",
              "      background-color: #E8F0FE;\n",
              "      border: none;\n",
              "      border-radius: 50%;\n",
              "      cursor: pointer;\n",
              "      display: none;\n",
              "      fill: #1967D2;\n",
              "      height: 32px;\n",
              "      padding: 0 0 0 0;\n",
              "      width: 32px;\n",
              "    }\n",
              "\n",
              "    .colab-df-convert:hover {\n",
              "      background-color: #E2EBFA;\n",
              "      box-shadow: 0px 1px 2px rgba(60, 64, 67, 0.3), 0px 1px 3px 1px rgba(60, 64, 67, 0.15);\n",
              "      fill: #174EA6;\n",
              "    }\n",
              "\n",
              "    [theme=dark] .colab-df-convert {\n",
              "      background-color: #3B4455;\n",
              "      fill: #D2E3FC;\n",
              "    }\n",
              "\n",
              "    [theme=dark] .colab-df-convert:hover {\n",
              "      background-color: #434B5C;\n",
              "      box-shadow: 0px 1px 3px 1px rgba(0, 0, 0, 0.15);\n",
              "      filter: drop-shadow(0px 1px 2px rgba(0, 0, 0, 0.3));\n",
              "      fill: #FFFFFF;\n",
              "    }\n",
              "  </style>\n",
              "\n",
              "      <script>\n",
              "        const buttonEl =\n",
              "          document.querySelector('#df-44003349-051f-4960-ad02-2258a1af27ab button.colab-df-convert');\n",
              "        buttonEl.style.display =\n",
              "          google.colab.kernel.accessAllowed ? 'block' : 'none';\n",
              "\n",
              "        async function convertToInteractive(key) {\n",
              "          const element = document.querySelector('#df-44003349-051f-4960-ad02-2258a1af27ab');\n",
              "          const dataTable =\n",
              "            await google.colab.kernel.invokeFunction('convertToInteractive',\n",
              "                                                     [key], {});\n",
              "          if (!dataTable) return;\n",
              "\n",
              "          const docLinkHtml = 'Like what you see? Visit the ' +\n",
              "            '<a target=\"_blank\" href=https://colab.research.google.com/notebooks/data_table.ipynb>data table notebook</a>'\n",
              "            + ' to learn more about interactive tables.';\n",
              "          element.innerHTML = '';\n",
              "          dataTable['output_type'] = 'display_data';\n",
              "          await google.colab.output.renderOutput(dataTable, element);\n",
              "          const docLink = document.createElement('div');\n",
              "          docLink.innerHTML = docLinkHtml;\n",
              "          element.appendChild(docLink);\n",
              "        }\n",
              "      </script>\n",
              "    </div>\n",
              "  </div>\n",
              "  "
            ]
          },
          "metadata": {}
        },
        {
          "output_type": "stream",
          "name": "stdout",
          "text": [
            "Количество строк 84\n"
          ]
        }
      ],
      "source": [
        "# dataset for Xbox user_score\n",
        "pc_score = games_actual.query('(platform==\"PC\")&(user_score>0)')['user_score'].copy()\n",
        "pc_score = pc_score.reset_index()\n",
        "pc_score = pc_score.drop(columns = ['index'],axis = 1)\n",
        "display(pc_score.head())\n",
        "print('Количество строк', pc_score.shape[0])"
      ]
    },
    {
      "cell_type": "markdown",
      "metadata": {
        "id": "z8nbraXYlxNN"
      },
      "source": [
        "Сформулируем нулевую гипотезу: cредние пользовательские рейтинги платформ Xbox One и PC одинаковые. Альтернативная гипотеза будет звучать противоположно: Средние пользовательские рейтинги платформ Xbox One и PC различаются. В исследовании необходимо доказать, что различия в выборке не случайны.\n",
        "\n",
        "Применим специальный метод `scipy.stats.ttest_ind` для проверки гипотезы о равенстве среднего двух совокупностей, он выдает значение `p-value`. Выборки по платформам имеют разный размер, найдем дисперсию для каждой. Датасеты — не вся совокупность, а выборка из неё, вместо дисперсии считают её оценку по имеющейся выборке, для этого в методе `var()` указываем параметр `ddof=1`."
      ]
    },
    {
      "cell_type": "code",
      "execution_count": null,
      "metadata": {
        "id": "22yJ3zuklxNO",
        "colab": {
          "base_uri": "https://localhost:8080/"
        },
        "outputId": "16b58d4f-286e-4571-a3d9-b6a5b0468691"
      },
      "outputs": [
        {
          "output_type": "execute_result",
          "data": {
            "text/plain": [
              "user_score    3.110951\n",
              "dtype: float64"
            ]
          },
          "metadata": {},
          "execution_count": 60
        }
      ],
      "source": [
        "pc_score.var(ddof=1)"
      ]
    },
    {
      "cell_type": "code",
      "execution_count": null,
      "metadata": {
        "id": "6Dy5FZ6flxNO",
        "colab": {
          "base_uri": "https://localhost:8080/"
        },
        "outputId": "8880700f-ef12-4f3a-cef8-0d08f2f17fc6"
      },
      "outputs": [
        {
          "output_type": "execute_result",
          "data": {
            "text/plain": [
              "user_score    2.125792\n",
              "dtype: float64"
            ]
          },
          "metadata": {},
          "execution_count": 61
        }
      ],
      "source": [
        "xbox_score.var(ddof=1)"
      ]
    },
    {
      "cell_type": "markdown",
      "metadata": {
        "id": "uYnbVmN4lxNO"
      },
      "source": [
        "Результат вычислений - дисперсии выборок разные. Выполним проверку нулевой гипотезы пользовательской оценки для совокупностей по платформам:\n",
        "- если выборки разного размера и дисперсии у этих совокупностей разные, то укажем `equal_var = False` при вызове метода `scipy.stats.ttest_ind()`.\n",
        "- критический уровень статистической значимости примем 5%, как `alpha = .05`. Такое значение является стандартным, у нас отсутствуют какие-либо условия, чтобы его скорректировать. \n",
        "- если `p-value` окажется меньше альфа - отвергнем гипотезу."
      ]
    },
    {
      "cell_type": "code",
      "execution_count": null,
      "metadata": {
        "id": "hi0CInRflxNO",
        "colab": {
          "base_uri": "https://localhost:8080/"
        },
        "outputId": "d9f8dde9-84a7-4157-f260-1c9a0c9412b6"
      },
      "outputs": [
        {
          "output_type": "stream",
          "name": "stdout",
          "text": [
            "p-значение:  [0.29463089]\n",
            "Не получилось отвергнуть нулевую гипотезу\n"
          ]
        }
      ],
      "source": [
        "# t-test for Xbox and PC\n",
        "\n",
        "alpha = 0.05\n",
        "\n",
        "results = st.ttest_ind(\n",
        "    xbox_score, \n",
        "    pc_score,\n",
        "    equal_var=False)\n",
        "\n",
        "print('p-значение: ', results.pvalue)\n",
        "\n",
        "if results.pvalue < alpha:\n",
        "    print(\"Отвергаем нулевую гипотезу\")\n",
        "else:\n",
        "    print(\"Не получилось отвергнуть нулевую гипотезу\")"
      ]
    },
    {
      "cell_type": "markdown",
      "metadata": {
        "id": "y2QbI-NglxNP"
      },
      "source": [
        "Нулевая гипотеза принимается, отсюда следует, что cредние пользовательские рейтинги платформ Xbox One не отличаются от средних оценок для PC. Проверим этот результат, посчитаем среднюю оценку для каждой платформы."
      ]
    },
    {
      "cell_type": "code",
      "execution_count": null,
      "metadata": {
        "scrolled": true,
        "id": "sWrOdwkJlxNP",
        "colab": {
          "base_uri": "https://localhost:8080/"
        },
        "outputId": "81abd06e-bcfe-4c8b-8da6-8c3a8c62c08c"
      },
      "outputs": [
        {
          "output_type": "execute_result",
          "data": {
            "text/plain": [
              "user_score    6.542149\n",
              "dtype: float64"
            ]
          },
          "metadata": {},
          "execution_count": 63
        }
      ],
      "source": [
        "# Xbox mean\n",
        "xbox_score.mean()"
      ]
    },
    {
      "cell_type": "code",
      "execution_count": null,
      "metadata": {
        "scrolled": false,
        "id": "wM9NQoywlxNP",
        "colab": {
          "base_uri": "https://localhost:8080/"
        },
        "outputId": "43f95e67-7091-4ce5-d98a-4e169147bd35"
      },
      "outputs": [
        {
          "output_type": "execute_result",
          "data": {
            "text/plain": [
              "user_score    6.296429\n",
              "dtype: float64"
            ]
          },
          "metadata": {},
          "execution_count": 64
        }
      ],
      "source": [
        "# PC mean\n",
        "pc_score.mean()"
      ]
    },
    {
      "cell_type": "markdown",
      "metadata": {
        "id": "oBfLvyGRlxNP"
      },
      "source": [
        "Действительно, средняя оценка видеоигр для платформы Xbox One почти не отличаются от средней оценки для PC, разница всего 4%.\n",
        "\n",
        "Полученные выборки не смогли опровергнуть гипотезу, что средняя оценка видеоигр для платформы Xbox One и PC не различаются."
      ]
    },
    {
      "cell_type": "markdown",
      "metadata": {
        "id": "zvTVZSTZlxNQ"
      },
      "source": [
        "### Рейтинги жанров Action и Sports"
      ]
    },
    {
      "cell_type": "markdown",
      "metadata": {
        "id": "s0uWXorMlxNR"
      },
      "source": [
        "Проверим гипотезу - средние пользовательские рейтинги жанров Action и Sports разные. Создадим датасеты для анализа оценок каждой из платформ."
      ]
    },
    {
      "cell_type": "code",
      "execution_count": null,
      "metadata": {
        "id": "gLmt14QBlxNR",
        "colab": {
          "base_uri": "https://localhost:8080/",
          "height": 224
        },
        "outputId": "e1c2f953-ffe7-44c0-e8eb-f106704ae08e"
      },
      "outputs": [
        {
          "output_type": "display_data",
          "data": {
            "text/plain": [
              "   user_score\n",
              "0         8.1\n",
              "1         7.6\n",
              "2         8.2\n",
              "3         6.8\n",
              "4         8.6"
            ],
            "text/html": [
              "\n",
              "  <div id=\"df-7c5be192-c0d9-4ff1-a280-86ce49399f72\">\n",
              "    <div class=\"colab-df-container\">\n",
              "      <div>\n",
              "<style scoped>\n",
              "    .dataframe tbody tr th:only-of-type {\n",
              "        vertical-align: middle;\n",
              "    }\n",
              "\n",
              "    .dataframe tbody tr th {\n",
              "        vertical-align: top;\n",
              "    }\n",
              "\n",
              "    .dataframe thead th {\n",
              "        text-align: right;\n",
              "    }\n",
              "</style>\n",
              "<table border=\"1\" class=\"dataframe\">\n",
              "  <thead>\n",
              "    <tr style=\"text-align: right;\">\n",
              "      <th></th>\n",
              "      <th>user_score</th>\n",
              "    </tr>\n",
              "  </thead>\n",
              "  <tbody>\n",
              "    <tr>\n",
              "      <th>0</th>\n",
              "      <td>8.1</td>\n",
              "    </tr>\n",
              "    <tr>\n",
              "      <th>1</th>\n",
              "      <td>7.6</td>\n",
              "    </tr>\n",
              "    <tr>\n",
              "      <th>2</th>\n",
              "      <td>8.2</td>\n",
              "    </tr>\n",
              "    <tr>\n",
              "      <th>3</th>\n",
              "      <td>6.8</td>\n",
              "    </tr>\n",
              "    <tr>\n",
              "      <th>4</th>\n",
              "      <td>8.6</td>\n",
              "    </tr>\n",
              "  </tbody>\n",
              "</table>\n",
              "</div>\n",
              "      <button class=\"colab-df-convert\" onclick=\"convertToInteractive('df-7c5be192-c0d9-4ff1-a280-86ce49399f72')\"\n",
              "              title=\"Convert this dataframe to an interactive table.\"\n",
              "              style=\"display:none;\">\n",
              "        \n",
              "  <svg xmlns=\"http://www.w3.org/2000/svg\" height=\"24px\"viewBox=\"0 0 24 24\"\n",
              "       width=\"24px\">\n",
              "    <path d=\"M0 0h24v24H0V0z\" fill=\"none\"/>\n",
              "    <path d=\"M18.56 5.44l.94 2.06.94-2.06 2.06-.94-2.06-.94-.94-2.06-.94 2.06-2.06.94zm-11 1L8.5 8.5l.94-2.06 2.06-.94-2.06-.94L8.5 2.5l-.94 2.06-2.06.94zm10 10l.94 2.06.94-2.06 2.06-.94-2.06-.94-.94-2.06-.94 2.06-2.06.94z\"/><path d=\"M17.41 7.96l-1.37-1.37c-.4-.4-.92-.59-1.43-.59-.52 0-1.04.2-1.43.59L10.3 9.45l-7.72 7.72c-.78.78-.78 2.05 0 2.83L4 21.41c.39.39.9.59 1.41.59.51 0 1.02-.2 1.41-.59l7.78-7.78 2.81-2.81c.8-.78.8-2.07 0-2.86zM5.41 20L4 18.59l7.72-7.72 1.47 1.35L5.41 20z\"/>\n",
              "  </svg>\n",
              "      </button>\n",
              "      \n",
              "  <style>\n",
              "    .colab-df-container {\n",
              "      display:flex;\n",
              "      flex-wrap:wrap;\n",
              "      gap: 12px;\n",
              "    }\n",
              "\n",
              "    .colab-df-convert {\n",
              "      background-color: #E8F0FE;\n",
              "      border: none;\n",
              "      border-radius: 50%;\n",
              "      cursor: pointer;\n",
              "      display: none;\n",
              "      fill: #1967D2;\n",
              "      height: 32px;\n",
              "      padding: 0 0 0 0;\n",
              "      width: 32px;\n",
              "    }\n",
              "\n",
              "    .colab-df-convert:hover {\n",
              "      background-color: #E2EBFA;\n",
              "      box-shadow: 0px 1px 2px rgba(60, 64, 67, 0.3), 0px 1px 3px 1px rgba(60, 64, 67, 0.15);\n",
              "      fill: #174EA6;\n",
              "    }\n",
              "\n",
              "    [theme=dark] .colab-df-convert {\n",
              "      background-color: #3B4455;\n",
              "      fill: #D2E3FC;\n",
              "    }\n",
              "\n",
              "    [theme=dark] .colab-df-convert:hover {\n",
              "      background-color: #434B5C;\n",
              "      box-shadow: 0px 1px 3px 1px rgba(0, 0, 0, 0.15);\n",
              "      filter: drop-shadow(0px 1px 2px rgba(0, 0, 0, 0.3));\n",
              "      fill: #FFFFFF;\n",
              "    }\n",
              "  </style>\n",
              "\n",
              "      <script>\n",
              "        const buttonEl =\n",
              "          document.querySelector('#df-7c5be192-c0d9-4ff1-a280-86ce49399f72 button.colab-df-convert');\n",
              "        buttonEl.style.display =\n",
              "          google.colab.kernel.accessAllowed ? 'block' : 'none';\n",
              "\n",
              "        async function convertToInteractive(key) {\n",
              "          const element = document.querySelector('#df-7c5be192-c0d9-4ff1-a280-86ce49399f72');\n",
              "          const dataTable =\n",
              "            await google.colab.kernel.invokeFunction('convertToInteractive',\n",
              "                                                     [key], {});\n",
              "          if (!dataTable) return;\n",
              "\n",
              "          const docLinkHtml = 'Like what you see? Visit the ' +\n",
              "            '<a target=\"_blank\" href=https://colab.research.google.com/notebooks/data_table.ipynb>data table notebook</a>'\n",
              "            + ' to learn more about interactive tables.';\n",
              "          element.innerHTML = '';\n",
              "          dataTable['output_type'] = 'display_data';\n",
              "          await google.colab.output.renderOutput(dataTable, element);\n",
              "          const docLink = document.createElement('div');\n",
              "          docLink.innerHTML = docLinkHtml;\n",
              "          element.appendChild(docLink);\n",
              "        }\n",
              "      </script>\n",
              "    </div>\n",
              "  </div>\n",
              "  "
            ]
          },
          "metadata": {}
        },
        {
          "output_type": "stream",
          "name": "stdout",
          "text": [
            "Количество строк 193\n"
          ]
        }
      ],
      "source": [
        "# dataset for Action user_score\n",
        "action_score = games_actual.query('(genre==\"Action\")&(user_score>0)')['user_score'].copy()\n",
        "action_score = action_score.reset_index()\n",
        "action_score = action_score.drop(columns = ['index'],axis = 1)\n",
        "display(action_score.head())\n",
        "print('Количество строк', action_score.shape[0])"
      ]
    },
    {
      "cell_type": "code",
      "execution_count": null,
      "metadata": {
        "scrolled": true,
        "id": "CgmD-Q3LlxNR",
        "colab": {
          "base_uri": "https://localhost:8080/",
          "height": 224
        },
        "outputId": "a1d375d2-de4d-43f8-f006-dda1c20846a3"
      },
      "outputs": [
        {
          "output_type": "display_data",
          "data": {
            "text/plain": [
              "   user_score\n",
              "0         4.3\n",
              "1         5.0\n",
              "2         6.7\n",
              "3         4.4\n",
              "4         5.9"
            ],
            "text/html": [
              "\n",
              "  <div id=\"df-80aedc8e-fd35-410a-8824-b7f6fc7ba709\">\n",
              "    <div class=\"colab-df-container\">\n",
              "      <div>\n",
              "<style scoped>\n",
              "    .dataframe tbody tr th:only-of-type {\n",
              "        vertical-align: middle;\n",
              "    }\n",
              "\n",
              "    .dataframe tbody tr th {\n",
              "        vertical-align: top;\n",
              "    }\n",
              "\n",
              "    .dataframe thead th {\n",
              "        text-align: right;\n",
              "    }\n",
              "</style>\n",
              "<table border=\"1\" class=\"dataframe\">\n",
              "  <thead>\n",
              "    <tr style=\"text-align: right;\">\n",
              "      <th></th>\n",
              "      <th>user_score</th>\n",
              "    </tr>\n",
              "  </thead>\n",
              "  <tbody>\n",
              "    <tr>\n",
              "      <th>0</th>\n",
              "      <td>4.3</td>\n",
              "    </tr>\n",
              "    <tr>\n",
              "      <th>1</th>\n",
              "      <td>5.0</td>\n",
              "    </tr>\n",
              "    <tr>\n",
              "      <th>2</th>\n",
              "      <td>6.7</td>\n",
              "    </tr>\n",
              "    <tr>\n",
              "      <th>3</th>\n",
              "      <td>4.4</td>\n",
              "    </tr>\n",
              "    <tr>\n",
              "      <th>4</th>\n",
              "      <td>5.9</td>\n",
              "    </tr>\n",
              "  </tbody>\n",
              "</table>\n",
              "</div>\n",
              "      <button class=\"colab-df-convert\" onclick=\"convertToInteractive('df-80aedc8e-fd35-410a-8824-b7f6fc7ba709')\"\n",
              "              title=\"Convert this dataframe to an interactive table.\"\n",
              "              style=\"display:none;\">\n",
              "        \n",
              "  <svg xmlns=\"http://www.w3.org/2000/svg\" height=\"24px\"viewBox=\"0 0 24 24\"\n",
              "       width=\"24px\">\n",
              "    <path d=\"M0 0h24v24H0V0z\" fill=\"none\"/>\n",
              "    <path d=\"M18.56 5.44l.94 2.06.94-2.06 2.06-.94-2.06-.94-.94-2.06-.94 2.06-2.06.94zm-11 1L8.5 8.5l.94-2.06 2.06-.94-2.06-.94L8.5 2.5l-.94 2.06-2.06.94zm10 10l.94 2.06.94-2.06 2.06-.94-2.06-.94-.94-2.06-.94 2.06-2.06.94z\"/><path d=\"M17.41 7.96l-1.37-1.37c-.4-.4-.92-.59-1.43-.59-.52 0-1.04.2-1.43.59L10.3 9.45l-7.72 7.72c-.78.78-.78 2.05 0 2.83L4 21.41c.39.39.9.59 1.41.59.51 0 1.02-.2 1.41-.59l7.78-7.78 2.81-2.81c.8-.78.8-2.07 0-2.86zM5.41 20L4 18.59l7.72-7.72 1.47 1.35L5.41 20z\"/>\n",
              "  </svg>\n",
              "      </button>\n",
              "      \n",
              "  <style>\n",
              "    .colab-df-container {\n",
              "      display:flex;\n",
              "      flex-wrap:wrap;\n",
              "      gap: 12px;\n",
              "    }\n",
              "\n",
              "    .colab-df-convert {\n",
              "      background-color: #E8F0FE;\n",
              "      border: none;\n",
              "      border-radius: 50%;\n",
              "      cursor: pointer;\n",
              "      display: none;\n",
              "      fill: #1967D2;\n",
              "      height: 32px;\n",
              "      padding: 0 0 0 0;\n",
              "      width: 32px;\n",
              "    }\n",
              "\n",
              "    .colab-df-convert:hover {\n",
              "      background-color: #E2EBFA;\n",
              "      box-shadow: 0px 1px 2px rgba(60, 64, 67, 0.3), 0px 1px 3px 1px rgba(60, 64, 67, 0.15);\n",
              "      fill: #174EA6;\n",
              "    }\n",
              "\n",
              "    [theme=dark] .colab-df-convert {\n",
              "      background-color: #3B4455;\n",
              "      fill: #D2E3FC;\n",
              "    }\n",
              "\n",
              "    [theme=dark] .colab-df-convert:hover {\n",
              "      background-color: #434B5C;\n",
              "      box-shadow: 0px 1px 3px 1px rgba(0, 0, 0, 0.15);\n",
              "      filter: drop-shadow(0px 1px 2px rgba(0, 0, 0, 0.3));\n",
              "      fill: #FFFFFF;\n",
              "    }\n",
              "  </style>\n",
              "\n",
              "      <script>\n",
              "        const buttonEl =\n",
              "          document.querySelector('#df-80aedc8e-fd35-410a-8824-b7f6fc7ba709 button.colab-df-convert');\n",
              "        buttonEl.style.display =\n",
              "          google.colab.kernel.accessAllowed ? 'block' : 'none';\n",
              "\n",
              "        async function convertToInteractive(key) {\n",
              "          const element = document.querySelector('#df-80aedc8e-fd35-410a-8824-b7f6fc7ba709');\n",
              "          const dataTable =\n",
              "            await google.colab.kernel.invokeFunction('convertToInteractive',\n",
              "                                                     [key], {});\n",
              "          if (!dataTable) return;\n",
              "\n",
              "          const docLinkHtml = 'Like what you see? Visit the ' +\n",
              "            '<a target=\"_blank\" href=https://colab.research.google.com/notebooks/data_table.ipynb>data table notebook</a>'\n",
              "            + ' to learn more about interactive tables.';\n",
              "          element.innerHTML = '';\n",
              "          dataTable['output_type'] = 'display_data';\n",
              "          await google.colab.output.renderOutput(dataTable, element);\n",
              "          const docLink = document.createElement('div');\n",
              "          docLink.innerHTML = docLinkHtml;\n",
              "          element.appendChild(docLink);\n",
              "        }\n",
              "      </script>\n",
              "    </div>\n",
              "  </div>\n",
              "  "
            ]
          },
          "metadata": {}
        },
        {
          "output_type": "stream",
          "name": "stdout",
          "text": [
            "Количество строк 82\n"
          ]
        }
      ],
      "source": [
        "# dataset for Sport user_score\n",
        "sport_score = games_actual.query('(genre==\"Sports\")&(user_score>0)')['user_score'].copy()\n",
        "sport_score = sport_score.reset_index()\n",
        "sport_score = sport_score.drop(columns = ['index'],axis = 1)\n",
        "display(sport_score.head())\n",
        "print('Количество строк', sport_score.shape[0])"
      ]
    },
    {
      "cell_type": "markdown",
      "metadata": {
        "id": "G01hLNyElxNR"
      },
      "source": [
        "Сформулируем нулевую гипотезу: средние пользовательские рейтинги видеоигр жанров Action и Sports одинаковые. Альтернативная гипотеза будет звучать противоположно: средние пользовательские рейтинги видеоигр жанров Action и Sports различаются. В исследовании необходимо доказать, что различия в выборке не случайны.\n",
        "\n",
        "Применим специальный метод `scipy.stats.ttest_ind` для проверки гипотезы о равенстве среднего двух совокупностей, он выдает значение `p-value`. Выборки по жанрам имеют разный размер, найдем дисперсию для каждого жанра. Датасеты — не вся совокупность, а выборка из неё, вместо дисперсии считают её оценку по имеющейся выборке, для этого в методе `var()` указываем параметр `ddof=1`."
      ]
    },
    {
      "cell_type": "code",
      "execution_count": null,
      "metadata": {
        "id": "1fmW3bUGlxNS",
        "colab": {
          "base_uri": "https://localhost:8080/"
        },
        "outputId": "2a741e26-e76d-423b-d36c-5f1138c80963"
      },
      "outputs": [
        {
          "output_type": "execute_result",
          "data": {
            "text/plain": [
              "user_score    1.813056\n",
              "dtype: float64"
            ]
          },
          "metadata": {},
          "execution_count": 67
        }
      ],
      "source": [
        "# variance for Action\n",
        "action_score.var(ddof=1)"
      ]
    },
    {
      "cell_type": "code",
      "execution_count": null,
      "metadata": {
        "id": "giUtLqaplxNS",
        "colab": {
          "base_uri": "https://localhost:8080/"
        },
        "outputId": "9f3fbdb6-2523-4b56-c022-a4c464b2656b"
      },
      "outputs": [
        {
          "output_type": "execute_result",
          "data": {
            "text/plain": [
              "user_score    3.872468\n",
              "dtype: float64"
            ]
          },
          "metadata": {},
          "execution_count": 68
        }
      ],
      "source": [
        "# variance for Sports\n",
        "sport_score.var(ddof=1)"
      ]
    },
    {
      "cell_type": "markdown",
      "metadata": {
        "id": "2rtK-cCRlxNT"
      },
      "source": [
        "Результат вычислений - дисперсии выборок разные. Выполним проверку нулевой гипотезы пользовательской оценки для совокупностей по жанрам:\n",
        "- если выборки разного размера и дисперсии у этих совокупностей разные, то укажем `equal_var = False` при вызове метода `scipy.stats.ttest_ind()`.\n",
        "- критический уровень статистической значимости примем 5%, как `alpha = .05`. Такое значение является стандартным, у нас отсутствуют какие-либо условия, чтобы его скорректировать. \n",
        "- если `p-value` окажется меньше альфа - отвергнем гипотезу."
      ]
    },
    {
      "cell_type": "code",
      "execution_count": null,
      "metadata": {
        "id": "vu5h3l6wlxNT",
        "colab": {
          "base_uri": "https://localhost:8080/"
        },
        "outputId": "87735678-90bf-4f86-fd0a-aed6edecd873"
      },
      "outputs": [
        {
          "output_type": "stream",
          "name": "stdout",
          "text": [
            "p-значение:  [5.9716355e-10]\n",
            "Отвергаем нулевую гипотезу\n"
          ]
        }
      ],
      "source": [
        "# t-test for Xbox and PC\n",
        "\n",
        "alpha = 0.05\n",
        "\n",
        "results = st.ttest_ind(\n",
        "    sport_score, \n",
        "    action_score,\n",
        "    equal_var=False)\n",
        "\n",
        "print('p-значение: ', results.pvalue)\n",
        "\n",
        "if results.pvalue < alpha:\n",
        "    print(\"Отвергаем нулевую гипотезу\")\n",
        "else:\n",
        "    print(\"Не получилось отвергнуть нулевую гипотезу\")"
      ]
    },
    {
      "cell_type": "code",
      "execution_count": null,
      "metadata": {
        "scrolled": true,
        "id": "aVc6c_-MlxNT",
        "colab": {
          "base_uri": "https://localhost:8080/"
        },
        "outputId": "566c2b6f-08a7-4ab5-f6a7-ad9d7135f340"
      },
      "outputs": [
        {
          "output_type": "execute_result",
          "data": {
            "text/plain": [
              "user_score    6.80829\n",
              "dtype: float64"
            ]
          },
          "metadata": {},
          "execution_count": 70
        }
      ],
      "source": [
        "# Action mean\n",
        "action_score.mean()"
      ]
    },
    {
      "cell_type": "code",
      "execution_count": null,
      "metadata": {
        "scrolled": true,
        "id": "x36yU3uQlxNT",
        "colab": {
          "base_uri": "https://localhost:8080/"
        },
        "outputId": "10888276-656d-4ecf-831c-148d3705591d"
      },
      "outputs": [
        {
          "output_type": "execute_result",
          "data": {
            "text/plain": [
              "user_score    5.19878\n",
              "dtype: float64"
            ]
          },
          "metadata": {},
          "execution_count": 71
        }
      ],
      "source": [
        "# Sports mean\n",
        "sport_score.mean()"
      ]
    },
    {
      "cell_type": "markdown",
      "metadata": {
        "id": "mbCThi3PlxNU"
      },
      "source": [
        "Можем убедиться, что p-значение принимает экстремально малое значение. Критерий проверки альфа можно выбрать намного меньше и все равно нулевая гипотеза будет отвергнута. Действительно средняя оценка игр жанра Action больше, чем у Sports на 24%.\n",
        "\n",
        "Полученные выборки подтверждают гипотезу, что средние пользовательские рейтинги видеоигр жанров Action и Sports различаются."
      ]
    },
    {
      "cell_type": "markdown",
      "metadata": {
        "id": "v5l6pBx0lxNU"
      },
      "source": [
        "### Вывод"
      ]
    },
    {
      "cell_type": "markdown",
      "metadata": {
        "id": "7d4_OByflxNU"
      },
      "source": [
        "Мы проверили гипотезы при помощи статистического теста с пороговым значением альфа 0.05%:\n",
        "1. Средние пользовательские рейтинги платформ Xbox One и PC одинаковые.\n",
        "2. Средние пользовательские рейтинги жанров Action и Sports разные.\n",
        "\n",
        "Первую гипотезу не получилось отвергнуть. Полученное значение p-value говорит о том, что вероятность случайно получить такое различие между оценками пользователей почти 30%, хотя и платформы совершенно разные. Это явно слишком большая вероятность случайности, чтобы делать вывод о значимом различии между рейтингом Xbox One и PC.\n",
        "\n",
        "Вторая гипотезу не получилось отвергнуть. Полученное значение p-value говорит о том, что вероятность случайно получить такое различие рейтингов жанров Action и Sports почти 0.001%. Средняя оценка статистически значимо отличается в зависимости от жанра. Исследование полученной выборки видеоигр с большой вероятностью говорит в пользу гипотезы.\n",
        "\n"
      ]
    },
    {
      "cell_type": "markdown",
      "metadata": {
        "id": "LNlWUzUAlxNU"
      },
      "source": [
        "## Вывод"
      ]
    },
    {
      "cell_type": "markdown",
      "metadata": {
        "id": "dsr17AVvlxNV"
      },
      "source": [
        "Полученные данные содержат проданные игры в количестве 16715 шт. за период с 1980 по 2016 год. На этапе предобработки были исправлены ошибки. Общие данные были приведены в форму более удобную для анализа:\n",
        "- Названия столбцов записаны с помощью нижнего регистра.\n",
        "- Удалили пропуски в столбцах `'name', 'genre', 'year_of_release'`. Исходные данные сократились на 1%.\n",
        "- Тип данных для колонок `'user_score' и 'year_of_release'` скорректирован.\n",
        "- Был добавлен столбец с указанием суммарных продаж во всех регионах.\n",
        "\n",
        "Ошибки в данных скорее всего появились по техническим причинам при переносе данных. Пропуски в столбцах `'critic_score', 'user_score', 'rating'` возможно связаны с низкой популярностью некоторых игр.\n",
        "\n",
        "Глобальные продажи игр имели тренд роста до 2008 года, затем показатели продаж планомерно падали по настоящее время. Ситуация на современном рынке не очень позитивная, спрос на игры падает. Правильный выбор потенциально прибыльной игры для рекламы особенно критичен. В исследовании не важны все данные, был определен актуальный период для отслеживания актуальной ситуации на современном рынке, чтобы более точно построить прогноз на 2017 год. Анализ был проведен для выборки с информацией о 1108 проданных игр за период с 2015 по 2016 год.\n",
        "\n",
        "Лидеры глобальных продаж - Сев. Америка и Европа, их доля составляет 75% от мирового рынка. Япония занимает лишь 14% глобальных продаж и ее особенности внутреннего рынка специфичны, иногда резко отличаются от общемировых трендов. Это обусловлено национальными и культурными отличиями японских пользователей. Следует ориентироваться в рекламных компаниях на лидирующие регионы.\n",
        "\n",
        "PS4 и XOne - это наиболее потенциально прибыльные платформы за актуальный период. Видеоигры для PS4 лидируют по глобальным продажам, но у XOne имеется большой потенциал по числу игр с выскоми продажами. \n",
        "\n",
        "Отдельные игры жанров Shooter и Sports самые прибыльные. У них сравнительно высокие продажи и меньший ассортимент, что упрощает выбор для рекламы и конкуренцию внутри жанра, чего не скажешь про Action. \n",
        "\n",
        "Статистический анализ совокупности данных проверил выдвинутые гипотезы:\n",
        "\n",
        "1. Средние пользовательские рейтинги платформ Xbox One и PC одинаковые.\n",
        "\n",
        "Гипотезу не получилось отвергнуть. Статистический тест определил, что имеется слишком большая вероятность случайности, почти 30%, чтобы делать вывод о значимом различии рассматриваемых платформ. Полученные средние также говорят в пользу гипотезы: средняя оценка видеоигр для платформы Xbox One почти не отличаются от средней оценки для PC, разница всего около 4%.\n",
        "\n",
        "2. Средние пользовательские рейтинги жанров Action и Sports разные.\n",
        "\n",
        "Гипотезу не получилось отвергнуть. Статистический тест определил, что средняя оценка значимо отличается (вероятность 99,9%) в зависимости от жанра Action или Sports. Полученные средние также говорят в пользу гипотезы: рейтинг игр жанра Action больше, чем у Sports на 24%. Фанатам жанра Sports труднее угодить, а любители жанра Action более лояльны в своих оценках.\n",
        "\n",
        "Несмотря на пользовательские рейтинги, исследование показало, что пользователи ориентируются на оценки критиков перед покупкой игр. Отзывы самих игроков не влияют на продажи. Наличие рейтинга ESRB - это обязательное условие для продажи топовых игр в Сев. Америке и Европе. \n",
        "\n",
        "Чтобы обеспечить большую вероятностью успеха, в рекламной компании потенциально популярного продукта (видеоигры) необходимо учесть выявленные закономерности: \n",
        "- более точный прогноз следует строить на основе анализа актуального периода продаж, т.е. с соблюдением условия \"жизни\" популярных платформ (сейчас длительность составляет 9 лет) и с условием отражения современной динамики продаж;\n",
        "- ориентироваться на рынки Сев. Америки и Европы;\n",
        "- выбрать видеоигру для платформы PS4 или XOne;\n",
        "- жанр Shooter или Sports;\n",
        "- обязательно наличие возрастного рейтинга ESRB, очень популярны игры с рейтингом \"М\" или \"Е\";\n",
        "- рейтинг критиков больше 70."
      ]
    }
  ],
  "metadata": {
    "ExecuteTimeLog": [
      {
        "duration": 1279,
        "start_time": "2022-03-31T08:10:41.274Z"
      },
      {
        "duration": 94,
        "start_time": "2022-03-31T08:25:22.860Z"
      },
      {
        "duration": 53,
        "start_time": "2022-03-31T08:25:32.765Z"
      },
      {
        "duration": 13,
        "start_time": "2022-03-31T08:25:51.325Z"
      },
      {
        "duration": 15,
        "start_time": "2022-03-31T08:31:27.182Z"
      },
      {
        "duration": 25,
        "start_time": "2022-03-31T08:36:28.502Z"
      },
      {
        "duration": 74,
        "start_time": "2022-03-31T11:32:00.991Z"
      },
      {
        "duration": 1410,
        "start_time": "2022-03-31T11:32:09.766Z"
      },
      {
        "duration": 66,
        "start_time": "2022-03-31T11:32:11.178Z"
      },
      {
        "duration": 14,
        "start_time": "2022-03-31T11:32:11.245Z"
      },
      {
        "duration": 9,
        "start_time": "2022-03-31T11:32:11.261Z"
      },
      {
        "duration": 35,
        "start_time": "2022-03-31T11:32:11.272Z"
      },
      {
        "duration": 3,
        "start_time": "2022-03-31T11:42:03.170Z"
      },
      {
        "duration": 5,
        "start_time": "2022-03-31T11:42:16.280Z"
      },
      {
        "duration": 64,
        "start_time": "2022-03-31T11:44:50.387Z"
      },
      {
        "duration": 16,
        "start_time": "2022-03-31T11:45:01.819Z"
      },
      {
        "duration": 9,
        "start_time": "2022-03-31T11:53:03.093Z"
      },
      {
        "duration": 14,
        "start_time": "2022-03-31T11:53:26.045Z"
      },
      {
        "duration": 10,
        "start_time": "2022-03-31T11:53:29.541Z"
      },
      {
        "duration": 3,
        "start_time": "2022-03-31T11:53:41.014Z"
      },
      {
        "duration": 64,
        "start_time": "2022-03-31T11:53:41.019Z"
      },
      {
        "duration": 15,
        "start_time": "2022-03-31T11:53:41.085Z"
      },
      {
        "duration": 10,
        "start_time": "2022-03-31T11:53:41.102Z"
      },
      {
        "duration": 15,
        "start_time": "2022-03-31T11:53:41.114Z"
      },
      {
        "duration": 5,
        "start_time": "2022-03-31T11:53:41.130Z"
      },
      {
        "duration": 9,
        "start_time": "2022-03-31T11:53:41.137Z"
      },
      {
        "duration": 6,
        "start_time": "2022-03-31T11:53:41.148Z"
      },
      {
        "duration": 9,
        "start_time": "2022-03-31T11:55:26.771Z"
      },
      {
        "duration": 4,
        "start_time": "2022-03-31T11:55:37.316Z"
      },
      {
        "duration": 83,
        "start_time": "2022-03-31T11:55:37.322Z"
      },
      {
        "duration": 19,
        "start_time": "2022-03-31T11:55:37.407Z"
      },
      {
        "duration": 16,
        "start_time": "2022-03-31T11:55:37.428Z"
      },
      {
        "duration": 34,
        "start_time": "2022-03-31T11:55:37.446Z"
      },
      {
        "duration": 18,
        "start_time": "2022-03-31T11:55:37.482Z"
      },
      {
        "duration": 20,
        "start_time": "2022-03-31T11:55:37.502Z"
      },
      {
        "duration": 28,
        "start_time": "2022-03-31T11:55:37.523Z"
      },
      {
        "duration": 6,
        "start_time": "2022-03-31T11:55:52.942Z"
      },
      {
        "duration": 8,
        "start_time": "2022-03-31T11:56:04.510Z"
      },
      {
        "duration": 8,
        "start_time": "2022-03-31T11:56:28.798Z"
      },
      {
        "duration": 10,
        "start_time": "2022-03-31T11:56:33.112Z"
      },
      {
        "duration": 5,
        "start_time": "2022-03-31T11:56:37.798Z"
      },
      {
        "duration": 8,
        "start_time": "2022-03-31T11:56:43.957Z"
      },
      {
        "duration": 3,
        "start_time": "2022-03-31T11:56:50.833Z"
      },
      {
        "duration": 66,
        "start_time": "2022-03-31T11:56:50.838Z"
      },
      {
        "duration": 19,
        "start_time": "2022-03-31T11:56:50.906Z"
      },
      {
        "duration": 13,
        "start_time": "2022-03-31T11:56:50.927Z"
      },
      {
        "duration": 20,
        "start_time": "2022-03-31T11:56:50.943Z"
      },
      {
        "duration": 5,
        "start_time": "2022-03-31T11:56:50.965Z"
      },
      {
        "duration": 11,
        "start_time": "2022-03-31T11:56:51.001Z"
      },
      {
        "duration": 6,
        "start_time": "2022-03-31T11:56:51.014Z"
      },
      {
        "duration": 12,
        "start_time": "2022-03-31T11:57:08.943Z"
      },
      {
        "duration": 6,
        "start_time": "2022-03-31T11:57:12.526Z"
      },
      {
        "duration": 3,
        "start_time": "2022-03-31T11:57:21.365Z"
      },
      {
        "duration": 9,
        "start_time": "2022-03-31T11:57:31.166Z"
      },
      {
        "duration": 4,
        "start_time": "2022-03-31T11:57:41.083Z"
      },
      {
        "duration": 51,
        "start_time": "2022-03-31T11:57:41.089Z"
      },
      {
        "duration": 12,
        "start_time": "2022-03-31T11:57:41.142Z"
      },
      {
        "duration": 8,
        "start_time": "2022-03-31T11:57:41.156Z"
      },
      {
        "duration": 16,
        "start_time": "2022-03-31T11:57:41.166Z"
      },
      {
        "duration": 22,
        "start_time": "2022-03-31T11:57:41.183Z"
      },
      {
        "duration": 10,
        "start_time": "2022-03-31T11:57:41.206Z"
      },
      {
        "duration": 9,
        "start_time": "2022-03-31T11:57:41.218Z"
      },
      {
        "duration": 15,
        "start_time": "2022-03-31T11:59:57.750Z"
      },
      {
        "duration": 8,
        "start_time": "2022-03-31T12:00:21.182Z"
      },
      {
        "duration": 9,
        "start_time": "2022-03-31T12:02:37.774Z"
      },
      {
        "duration": 3,
        "start_time": "2022-03-31T12:02:44.919Z"
      },
      {
        "duration": 51,
        "start_time": "2022-03-31T12:02:44.924Z"
      },
      {
        "duration": 14,
        "start_time": "2022-03-31T12:02:44.978Z"
      },
      {
        "duration": 11,
        "start_time": "2022-03-31T12:02:44.993Z"
      },
      {
        "duration": 8,
        "start_time": "2022-03-31T12:07:29.304Z"
      },
      {
        "duration": 5,
        "start_time": "2022-03-31T12:07:55.551Z"
      },
      {
        "duration": 9,
        "start_time": "2022-03-31T12:09:05.184Z"
      },
      {
        "duration": 8,
        "start_time": "2022-03-31T12:12:48.665Z"
      },
      {
        "duration": 25,
        "start_time": "2022-03-31T12:12:56.497Z"
      },
      {
        "duration": 9,
        "start_time": "2022-03-31T12:13:16.489Z"
      },
      {
        "duration": 5,
        "start_time": "2022-03-31T12:43:06.446Z"
      },
      {
        "duration": 6,
        "start_time": "2022-03-31T12:46:43.823Z"
      },
      {
        "duration": 7,
        "start_time": "2022-03-31T12:46:52.030Z"
      },
      {
        "duration": 9,
        "start_time": "2022-03-31T12:47:12.519Z"
      },
      {
        "duration": 6,
        "start_time": "2022-03-31T12:47:47.607Z"
      },
      {
        "duration": 16,
        "start_time": "2022-03-31T12:48:01.959Z"
      },
      {
        "duration": 6,
        "start_time": "2022-03-31T12:48:54.374Z"
      },
      {
        "duration": 5,
        "start_time": "2022-03-31T12:49:24.062Z"
      },
      {
        "duration": 5,
        "start_time": "2022-03-31T12:49:53.030Z"
      },
      {
        "duration": 22,
        "start_time": "2022-03-31T12:50:30.438Z"
      },
      {
        "duration": 13,
        "start_time": "2022-03-31T12:51:04.983Z"
      },
      {
        "duration": 7,
        "start_time": "2022-03-31T12:51:08.136Z"
      },
      {
        "duration": 52,
        "start_time": "2022-03-31T18:00:13.525Z"
      },
      {
        "duration": 1522,
        "start_time": "2022-03-31T18:00:20.169Z"
      },
      {
        "duration": 58,
        "start_time": "2022-03-31T18:00:21.694Z"
      },
      {
        "duration": 17,
        "start_time": "2022-03-31T18:00:21.754Z"
      },
      {
        "duration": 28,
        "start_time": "2022-03-31T18:00:21.774Z"
      },
      {
        "duration": 18,
        "start_time": "2022-03-31T18:00:21.804Z"
      },
      {
        "duration": 6,
        "start_time": "2022-03-31T18:00:21.824Z"
      },
      {
        "duration": 21,
        "start_time": "2022-03-31T18:00:21.832Z"
      },
      {
        "duration": 11,
        "start_time": "2022-03-31T18:00:21.855Z"
      },
      {
        "duration": 98,
        "start_time": "2022-03-31T18:00:21.868Z"
      },
      {
        "duration": 3,
        "start_time": "2022-03-31T18:00:46.298Z"
      },
      {
        "duration": 52,
        "start_time": "2022-03-31T18:00:46.309Z"
      },
      {
        "duration": 16,
        "start_time": "2022-03-31T18:00:46.363Z"
      },
      {
        "duration": 21,
        "start_time": "2022-03-31T18:00:46.381Z"
      },
      {
        "duration": 18,
        "start_time": "2022-03-31T18:00:46.405Z"
      },
      {
        "duration": 5,
        "start_time": "2022-03-31T18:00:46.425Z"
      },
      {
        "duration": 15,
        "start_time": "2022-03-31T18:00:46.432Z"
      },
      {
        "duration": 7,
        "start_time": "2022-03-31T18:00:46.449Z"
      },
      {
        "duration": 45,
        "start_time": "2022-03-31T18:00:46.458Z"
      },
      {
        "duration": 8,
        "start_time": "2022-03-31T18:01:01.516Z"
      },
      {
        "duration": 15,
        "start_time": "2022-03-31T18:01:05.581Z"
      },
      {
        "duration": 3,
        "start_time": "2022-03-31T18:01:10.953Z"
      },
      {
        "duration": 55,
        "start_time": "2022-03-31T18:01:10.958Z"
      },
      {
        "duration": 16,
        "start_time": "2022-03-31T18:01:11.014Z"
      },
      {
        "duration": 10,
        "start_time": "2022-03-31T18:01:11.032Z"
      },
      {
        "duration": 18,
        "start_time": "2022-03-31T18:01:11.043Z"
      },
      {
        "duration": 5,
        "start_time": "2022-03-31T18:01:11.063Z"
      },
      {
        "duration": 9,
        "start_time": "2022-03-31T18:01:11.102Z"
      },
      {
        "duration": 8,
        "start_time": "2022-03-31T18:01:11.112Z"
      },
      {
        "duration": 10,
        "start_time": "2022-03-31T18:01:11.122Z"
      },
      {
        "duration": 20,
        "start_time": "2022-03-31T18:01:11.134Z"
      },
      {
        "duration": 6,
        "start_time": "2022-03-31T18:01:37.831Z"
      },
      {
        "duration": 6,
        "start_time": "2022-03-31T18:02:47.100Z"
      },
      {
        "duration": 4,
        "start_time": "2022-03-31T18:02:53.398Z"
      },
      {
        "duration": 62,
        "start_time": "2022-03-31T18:02:53.404Z"
      },
      {
        "duration": 15,
        "start_time": "2022-03-31T18:02:53.468Z"
      },
      {
        "duration": 21,
        "start_time": "2022-03-31T18:02:53.485Z"
      },
      {
        "duration": 17,
        "start_time": "2022-03-31T18:02:53.509Z"
      },
      {
        "duration": 5,
        "start_time": "2022-03-31T18:02:53.528Z"
      },
      {
        "duration": 12,
        "start_time": "2022-03-31T18:02:53.534Z"
      },
      {
        "duration": 8,
        "start_time": "2022-03-31T18:02:53.548Z"
      },
      {
        "duration": 8,
        "start_time": "2022-03-31T18:02:53.557Z"
      },
      {
        "duration": 1285,
        "start_time": "2022-03-31T18:03:20.212Z"
      },
      {
        "duration": 65,
        "start_time": "2022-03-31T18:03:21.499Z"
      },
      {
        "duration": 16,
        "start_time": "2022-03-31T18:03:21.566Z"
      },
      {
        "duration": 22,
        "start_time": "2022-03-31T18:03:21.584Z"
      },
      {
        "duration": 22,
        "start_time": "2022-03-31T18:03:21.609Z"
      },
      {
        "duration": 5,
        "start_time": "2022-03-31T18:03:21.634Z"
      },
      {
        "duration": 12,
        "start_time": "2022-03-31T18:03:21.641Z"
      },
      {
        "duration": 14,
        "start_time": "2022-03-31T18:03:21.655Z"
      },
      {
        "duration": 31,
        "start_time": "2022-03-31T18:03:21.671Z"
      },
      {
        "duration": 215,
        "start_time": "2022-03-31T18:03:21.705Z"
      },
      {
        "duration": 0,
        "start_time": "2022-03-31T18:03:21.922Z"
      },
      {
        "duration": 4,
        "start_time": "2022-03-31T18:03:37.303Z"
      },
      {
        "duration": 9,
        "start_time": "2022-03-31T18:03:45.639Z"
      },
      {
        "duration": 3,
        "start_time": "2022-03-31T18:04:02.348Z"
      },
      {
        "duration": 63,
        "start_time": "2022-03-31T18:04:02.354Z"
      },
      {
        "duration": 15,
        "start_time": "2022-03-31T18:04:02.419Z"
      },
      {
        "duration": 44,
        "start_time": "2022-03-31T18:04:02.436Z"
      },
      {
        "duration": 26,
        "start_time": "2022-03-31T18:04:02.482Z"
      },
      {
        "duration": 26,
        "start_time": "2022-03-31T18:04:02.510Z"
      },
      {
        "duration": 22,
        "start_time": "2022-03-31T18:04:02.538Z"
      },
      {
        "duration": 16,
        "start_time": "2022-03-31T18:04:02.562Z"
      },
      {
        "duration": 22,
        "start_time": "2022-03-31T18:04:02.580Z"
      },
      {
        "duration": 135,
        "start_time": "2022-03-31T18:04:02.604Z"
      },
      {
        "duration": 4,
        "start_time": "2022-03-31T18:04:25.611Z"
      },
      {
        "duration": 52,
        "start_time": "2022-03-31T18:04:25.617Z"
      },
      {
        "duration": 15,
        "start_time": "2022-03-31T18:04:25.670Z"
      },
      {
        "duration": 21,
        "start_time": "2022-03-31T18:04:25.688Z"
      },
      {
        "duration": 16,
        "start_time": "2022-03-31T18:04:25.711Z"
      },
      {
        "duration": 5,
        "start_time": "2022-03-31T18:04:25.730Z"
      },
      {
        "duration": 11,
        "start_time": "2022-03-31T18:04:25.737Z"
      },
      {
        "duration": 7,
        "start_time": "2022-03-31T18:04:25.750Z"
      },
      {
        "duration": 8,
        "start_time": "2022-03-31T18:04:25.759Z"
      },
      {
        "duration": 11,
        "start_time": "2022-03-31T18:04:25.802Z"
      },
      {
        "duration": 4,
        "start_time": "2022-03-31T18:04:34.353Z"
      },
      {
        "duration": 8,
        "start_time": "2022-03-31T18:04:38.695Z"
      },
      {
        "duration": 21,
        "start_time": "2022-03-31T18:04:54.181Z"
      },
      {
        "duration": 16,
        "start_time": "2022-03-31T18:05:06.179Z"
      },
      {
        "duration": 14,
        "start_time": "2022-03-31T18:07:34.963Z"
      },
      {
        "duration": 4,
        "start_time": "2022-03-31T18:07:39.815Z"
      },
      {
        "duration": 51,
        "start_time": "2022-03-31T18:07:39.821Z"
      },
      {
        "duration": 17,
        "start_time": "2022-03-31T18:07:39.874Z"
      },
      {
        "duration": 17,
        "start_time": "2022-03-31T18:07:39.894Z"
      },
      {
        "duration": 18,
        "start_time": "2022-03-31T18:07:39.913Z"
      },
      {
        "duration": 5,
        "start_time": "2022-03-31T18:07:39.934Z"
      },
      {
        "duration": 14,
        "start_time": "2022-03-31T18:07:39.941Z"
      },
      {
        "duration": 7,
        "start_time": "2022-03-31T18:07:39.957Z"
      },
      {
        "duration": 25,
        "start_time": "2022-03-31T18:07:40.002Z"
      },
      {
        "duration": 7,
        "start_time": "2022-03-31T18:07:56.096Z"
      },
      {
        "duration": 37,
        "start_time": "2022-03-31T18:09:56.135Z"
      },
      {
        "duration": 26,
        "start_time": "2022-03-31T18:10:09.690Z"
      },
      {
        "duration": 23,
        "start_time": "2022-03-31T18:10:41.833Z"
      },
      {
        "duration": 11,
        "start_time": "2022-03-31T18:11:22.160Z"
      },
      {
        "duration": 11,
        "start_time": "2022-03-31T18:13:04.897Z"
      },
      {
        "duration": 13,
        "start_time": "2022-03-31T18:13:29.259Z"
      },
      {
        "duration": 3,
        "start_time": "2022-03-31T18:13:35.897Z"
      },
      {
        "duration": 51,
        "start_time": "2022-03-31T18:13:35.902Z"
      },
      {
        "duration": 15,
        "start_time": "2022-03-31T18:13:35.955Z"
      },
      {
        "duration": 38,
        "start_time": "2022-03-31T18:13:35.973Z"
      },
      {
        "duration": 18,
        "start_time": "2022-03-31T18:13:36.013Z"
      },
      {
        "duration": 5,
        "start_time": "2022-03-31T18:13:36.033Z"
      },
      {
        "duration": 13,
        "start_time": "2022-03-31T18:13:36.040Z"
      },
      {
        "duration": 15,
        "start_time": "2022-03-31T18:13:36.055Z"
      },
      {
        "duration": 33,
        "start_time": "2022-03-31T18:13:36.073Z"
      },
      {
        "duration": 11,
        "start_time": "2022-03-31T18:13:56.172Z"
      },
      {
        "duration": 4,
        "start_time": "2022-03-31T18:14:01.389Z"
      },
      {
        "duration": 101,
        "start_time": "2022-03-31T18:14:01.395Z"
      },
      {
        "duration": 17,
        "start_time": "2022-03-31T18:14:01.497Z"
      },
      {
        "duration": 15,
        "start_time": "2022-03-31T18:14:01.516Z"
      },
      {
        "duration": 26,
        "start_time": "2022-03-31T18:14:01.534Z"
      },
      {
        "duration": 7,
        "start_time": "2022-03-31T18:14:01.562Z"
      },
      {
        "duration": 21,
        "start_time": "2022-03-31T18:14:01.570Z"
      },
      {
        "duration": 12,
        "start_time": "2022-03-31T18:14:01.600Z"
      },
      {
        "duration": 28,
        "start_time": "2022-03-31T18:14:01.614Z"
      },
      {
        "duration": 6,
        "start_time": "2022-03-31T18:14:42.384Z"
      },
      {
        "duration": 22,
        "start_time": "2022-03-31T18:15:13.923Z"
      },
      {
        "duration": 13,
        "start_time": "2022-03-31T18:16:17.794Z"
      },
      {
        "duration": 23,
        "start_time": "2022-03-31T18:16:37.916Z"
      },
      {
        "duration": 23,
        "start_time": "2022-03-31T18:18:20.309Z"
      },
      {
        "duration": 22,
        "start_time": "2022-03-31T18:18:38.674Z"
      },
      {
        "duration": 22,
        "start_time": "2022-03-31T18:18:44.339Z"
      },
      {
        "duration": 28,
        "start_time": "2022-03-31T18:18:48.771Z"
      },
      {
        "duration": 22,
        "start_time": "2022-03-31T18:19:01.503Z"
      },
      {
        "duration": 23,
        "start_time": "2022-03-31T18:19:13.819Z"
      },
      {
        "duration": 1549,
        "start_time": "2022-04-01T06:31:14.308Z"
      },
      {
        "duration": 60,
        "start_time": "2022-04-01T06:31:15.859Z"
      },
      {
        "duration": 16,
        "start_time": "2022-04-01T06:31:15.921Z"
      },
      {
        "duration": 10,
        "start_time": "2022-04-01T06:31:15.940Z"
      },
      {
        "duration": 20,
        "start_time": "2022-04-01T06:31:15.952Z"
      },
      {
        "duration": 27,
        "start_time": "2022-04-01T06:31:15.974Z"
      },
      {
        "duration": 13,
        "start_time": "2022-04-01T06:31:16.003Z"
      },
      {
        "duration": 12,
        "start_time": "2022-04-01T06:31:16.017Z"
      },
      {
        "duration": 32,
        "start_time": "2022-04-01T06:31:16.030Z"
      },
      {
        "duration": 202,
        "start_time": "2022-04-01T06:31:16.065Z"
      },
      {
        "duration": 17,
        "start_time": "2022-04-01T06:37:16.466Z"
      },
      {
        "duration": 21,
        "start_time": "2022-04-01T06:38:13.681Z"
      },
      {
        "duration": 7,
        "start_time": "2022-04-01T06:40:28.418Z"
      },
      {
        "duration": 22,
        "start_time": "2022-04-01T06:40:31.352Z"
      },
      {
        "duration": 23,
        "start_time": "2022-04-01T06:41:02.032Z"
      },
      {
        "duration": 6,
        "start_time": "2022-04-01T06:43:23.769Z"
      },
      {
        "duration": 23,
        "start_time": "2022-04-01T06:43:49.231Z"
      },
      {
        "duration": 25,
        "start_time": "2022-04-01T06:46:09.405Z"
      },
      {
        "duration": 24,
        "start_time": "2022-04-01T07:50:06.573Z"
      },
      {
        "duration": 24,
        "start_time": "2022-04-01T07:52:39.635Z"
      },
      {
        "duration": 25,
        "start_time": "2022-04-01T07:54:39.301Z"
      },
      {
        "duration": 26,
        "start_time": "2022-04-01T07:55:36.693Z"
      },
      {
        "duration": 11,
        "start_time": "2022-04-01T07:57:34.165Z"
      },
      {
        "duration": 24,
        "start_time": "2022-04-01T08:01:24.609Z"
      },
      {
        "duration": 18,
        "start_time": "2022-04-01T08:01:33.921Z"
      },
      {
        "duration": 31,
        "start_time": "2022-04-01T08:03:37.049Z"
      },
      {
        "duration": 14,
        "start_time": "2022-04-01T08:03:45.354Z"
      },
      {
        "duration": 16,
        "start_time": "2022-04-01T08:05:33.315Z"
      },
      {
        "duration": 14,
        "start_time": "2022-04-01T08:05:43.058Z"
      },
      {
        "duration": 14,
        "start_time": "2022-04-01T08:05:53.450Z"
      },
      {
        "duration": 11,
        "start_time": "2022-04-01T08:07:30.546Z"
      },
      {
        "duration": 28,
        "start_time": "2022-04-01T08:09:30.261Z"
      },
      {
        "duration": 118,
        "start_time": "2022-04-01T08:10:05.636Z"
      },
      {
        "duration": 9,
        "start_time": "2022-04-01T08:10:22.830Z"
      },
      {
        "duration": 27,
        "start_time": "2022-04-01T08:11:14.573Z"
      },
      {
        "duration": 3,
        "start_time": "2022-04-01T08:11:29.981Z"
      },
      {
        "duration": 60,
        "start_time": "2022-04-01T08:11:29.986Z"
      },
      {
        "duration": 15,
        "start_time": "2022-04-01T08:11:30.048Z"
      },
      {
        "duration": 16,
        "start_time": "2022-04-01T08:11:30.065Z"
      },
      {
        "duration": 31,
        "start_time": "2022-04-01T08:11:30.084Z"
      },
      {
        "duration": 5,
        "start_time": "2022-04-01T08:11:30.117Z"
      },
      {
        "duration": 37,
        "start_time": "2022-04-01T08:11:30.123Z"
      },
      {
        "duration": 45,
        "start_time": "2022-04-01T08:11:30.162Z"
      },
      {
        "duration": 3,
        "start_time": "2022-04-01T08:13:06.159Z"
      },
      {
        "duration": 54,
        "start_time": "2022-04-01T08:13:06.164Z"
      },
      {
        "duration": 16,
        "start_time": "2022-04-01T08:13:06.220Z"
      },
      {
        "duration": 14,
        "start_time": "2022-04-01T08:13:06.238Z"
      },
      {
        "duration": 19,
        "start_time": "2022-04-01T08:13:06.255Z"
      },
      {
        "duration": 6,
        "start_time": "2022-04-01T08:13:06.276Z"
      },
      {
        "duration": 50,
        "start_time": "2022-04-01T08:13:06.283Z"
      },
      {
        "duration": 28,
        "start_time": "2022-04-01T08:13:06.335Z"
      },
      {
        "duration": 9,
        "start_time": "2022-04-01T08:13:38.343Z"
      },
      {
        "duration": 28,
        "start_time": "2022-04-01T08:16:33.593Z"
      },
      {
        "duration": 25,
        "start_time": "2022-04-01T08:29:57.652Z"
      },
      {
        "duration": 30,
        "start_time": "2022-04-01T08:30:05.437Z"
      },
      {
        "duration": 29,
        "start_time": "2022-04-01T08:31:32.943Z"
      },
      {
        "duration": 20,
        "start_time": "2022-04-01T08:34:41.633Z"
      },
      {
        "duration": 24,
        "start_time": "2022-04-01T08:35:02.329Z"
      },
      {
        "duration": 25,
        "start_time": "2022-04-01T08:35:41.704Z"
      },
      {
        "duration": 7,
        "start_time": "2022-04-01T08:35:58.921Z"
      },
      {
        "duration": 8,
        "start_time": "2022-04-01T08:38:22.080Z"
      },
      {
        "duration": 7,
        "start_time": "2022-04-01T08:38:32.864Z"
      },
      {
        "duration": 6,
        "start_time": "2022-04-01T08:42:05.946Z"
      },
      {
        "duration": 8,
        "start_time": "2022-04-01T08:45:25.067Z"
      },
      {
        "duration": 7,
        "start_time": "2022-04-01T08:45:34.307Z"
      },
      {
        "duration": 8,
        "start_time": "2022-04-01T08:45:41.115Z"
      },
      {
        "duration": 6,
        "start_time": "2022-04-01T08:45:48.355Z"
      },
      {
        "duration": 24,
        "start_time": "2022-04-01T09:01:27.705Z"
      },
      {
        "duration": 33,
        "start_time": "2022-04-01T09:01:35.775Z"
      },
      {
        "duration": 27,
        "start_time": "2022-04-01T09:09:52.009Z"
      },
      {
        "duration": 27,
        "start_time": "2022-04-01T09:11:08.800Z"
      },
      {
        "duration": 8,
        "start_time": "2022-04-01T09:11:10.535Z"
      },
      {
        "duration": 31,
        "start_time": "2022-04-01T09:13:51.695Z"
      },
      {
        "duration": 35,
        "start_time": "2022-04-01T09:14:22.552Z"
      },
      {
        "duration": 22,
        "start_time": "2022-04-01T09:14:44.360Z"
      },
      {
        "duration": 26,
        "start_time": "2022-04-01T09:15:12.806Z"
      },
      {
        "duration": 7,
        "start_time": "2022-04-01T09:15:30.743Z"
      },
      {
        "duration": 11,
        "start_time": "2022-04-01T09:19:40.734Z"
      },
      {
        "duration": 29,
        "start_time": "2022-04-01T09:19:48.830Z"
      },
      {
        "duration": 4,
        "start_time": "2022-04-01T09:37:41.284Z"
      },
      {
        "duration": 62,
        "start_time": "2022-04-01T09:37:41.291Z"
      },
      {
        "duration": 16,
        "start_time": "2022-04-01T09:37:41.356Z"
      },
      {
        "duration": 28,
        "start_time": "2022-04-01T09:37:41.374Z"
      },
      {
        "duration": 18,
        "start_time": "2022-04-01T09:37:41.405Z"
      },
      {
        "duration": 5,
        "start_time": "2022-04-01T09:37:41.425Z"
      },
      {
        "duration": 13,
        "start_time": "2022-04-01T09:37:41.432Z"
      },
      {
        "duration": 67,
        "start_time": "2022-04-01T09:37:41.447Z"
      },
      {
        "duration": 8,
        "start_time": "2022-04-01T09:37:41.516Z"
      },
      {
        "duration": 8,
        "start_time": "2022-04-01T09:37:41.526Z"
      },
      {
        "duration": 16,
        "start_time": "2022-04-01T09:37:41.537Z"
      },
      {
        "duration": 14,
        "start_time": "2022-04-01T09:37:41.555Z"
      },
      {
        "duration": 60,
        "start_time": "2022-04-01T09:37:41.572Z"
      },
      {
        "duration": 3,
        "start_time": "2022-04-01T09:38:10.846Z"
      },
      {
        "duration": 56,
        "start_time": "2022-04-01T09:38:10.852Z"
      },
      {
        "duration": 15,
        "start_time": "2022-04-01T09:38:10.911Z"
      },
      {
        "duration": 11,
        "start_time": "2022-04-01T09:38:10.927Z"
      },
      {
        "duration": 24,
        "start_time": "2022-04-01T09:38:10.941Z"
      },
      {
        "duration": 7,
        "start_time": "2022-04-01T09:38:10.967Z"
      },
      {
        "duration": 14,
        "start_time": "2022-04-01T09:38:11.000Z"
      },
      {
        "duration": 34,
        "start_time": "2022-04-01T09:38:11.016Z"
      },
      {
        "duration": 8,
        "start_time": "2022-04-01T09:38:11.053Z"
      },
      {
        "duration": 7,
        "start_time": "2022-04-01T09:38:11.063Z"
      },
      {
        "duration": 33,
        "start_time": "2022-04-01T09:38:11.073Z"
      },
      {
        "duration": 21,
        "start_time": "2022-04-01T09:38:11.108Z"
      },
      {
        "duration": 0,
        "start_time": "2022-04-01T09:38:11.131Z"
      },
      {
        "duration": 3,
        "start_time": "2022-04-01T09:38:38.036Z"
      },
      {
        "duration": 51,
        "start_time": "2022-04-01T09:38:38.042Z"
      },
      {
        "duration": 16,
        "start_time": "2022-04-01T09:38:38.095Z"
      },
      {
        "duration": 11,
        "start_time": "2022-04-01T09:38:38.113Z"
      },
      {
        "duration": 18,
        "start_time": "2022-04-01T09:38:38.127Z"
      },
      {
        "duration": 5,
        "start_time": "2022-04-01T09:38:38.147Z"
      },
      {
        "duration": 13,
        "start_time": "2022-04-01T09:38:38.154Z"
      },
      {
        "duration": 50,
        "start_time": "2022-04-01T09:38:38.168Z"
      },
      {
        "duration": 7,
        "start_time": "2022-04-01T09:38:38.220Z"
      },
      {
        "duration": 18,
        "start_time": "2022-04-01T09:38:38.228Z"
      },
      {
        "duration": 22,
        "start_time": "2022-04-01T09:38:38.248Z"
      },
      {
        "duration": 3,
        "start_time": "2022-04-01T09:38:56.542Z"
      },
      {
        "duration": 57,
        "start_time": "2022-04-01T09:38:56.546Z"
      },
      {
        "duration": 16,
        "start_time": "2022-04-01T09:38:56.605Z"
      },
      {
        "duration": 12,
        "start_time": "2022-04-01T09:38:56.623Z"
      },
      {
        "duration": 19,
        "start_time": "2022-04-01T09:38:56.638Z"
      },
      {
        "duration": 6,
        "start_time": "2022-04-01T09:38:56.659Z"
      },
      {
        "duration": 12,
        "start_time": "2022-04-01T09:38:56.702Z"
      },
      {
        "duration": 30,
        "start_time": "2022-04-01T09:38:56.716Z"
      },
      {
        "duration": 8,
        "start_time": "2022-04-01T09:38:56.748Z"
      },
      {
        "duration": 14,
        "start_time": "2022-04-01T09:38:56.758Z"
      },
      {
        "duration": 6,
        "start_time": "2022-04-01T09:38:56.800Z"
      },
      {
        "duration": 20,
        "start_time": "2022-04-01T09:38:56.809Z"
      },
      {
        "duration": 16,
        "start_time": "2022-04-01T09:38:56.831Z"
      },
      {
        "duration": 4,
        "start_time": "2022-04-01T09:40:35.665Z"
      },
      {
        "duration": 8,
        "start_time": "2022-04-01T09:40:47.784Z"
      },
      {
        "duration": 14,
        "start_time": "2022-04-01T09:40:50.880Z"
      },
      {
        "duration": 3,
        "start_time": "2022-04-01T09:41:40.411Z"
      },
      {
        "duration": 59,
        "start_time": "2022-04-01T09:41:40.417Z"
      },
      {
        "duration": 14,
        "start_time": "2022-04-01T09:41:40.479Z"
      },
      {
        "duration": 17,
        "start_time": "2022-04-01T09:41:40.495Z"
      },
      {
        "duration": 18,
        "start_time": "2022-04-01T09:41:40.514Z"
      },
      {
        "duration": 6,
        "start_time": "2022-04-01T09:41:40.533Z"
      },
      {
        "duration": 14,
        "start_time": "2022-04-01T09:41:40.541Z"
      },
      {
        "duration": 61,
        "start_time": "2022-04-01T09:41:40.557Z"
      },
      {
        "duration": 8,
        "start_time": "2022-04-01T09:41:40.621Z"
      },
      {
        "duration": 11,
        "start_time": "2022-04-01T09:41:40.631Z"
      },
      {
        "duration": 7,
        "start_time": "2022-04-01T09:41:40.645Z"
      },
      {
        "duration": 10,
        "start_time": "2022-04-01T09:41:40.654Z"
      },
      {
        "duration": 41,
        "start_time": "2022-04-01T09:41:40.666Z"
      },
      {
        "duration": 10,
        "start_time": "2022-04-01T09:42:40.473Z"
      },
      {
        "duration": 3,
        "start_time": "2022-04-01T09:43:51.201Z"
      },
      {
        "duration": 7,
        "start_time": "2022-04-01T09:43:57.186Z"
      },
      {
        "duration": 15,
        "start_time": "2022-04-01T09:44:02.761Z"
      },
      {
        "duration": 3,
        "start_time": "2022-04-01T09:44:24.946Z"
      },
      {
        "duration": 62,
        "start_time": "2022-04-01T09:44:24.952Z"
      },
      {
        "duration": 15,
        "start_time": "2022-04-01T09:44:25.016Z"
      },
      {
        "duration": 21,
        "start_time": "2022-04-01T09:44:25.033Z"
      },
      {
        "duration": 39,
        "start_time": "2022-04-01T09:44:25.056Z"
      },
      {
        "duration": 20,
        "start_time": "2022-04-01T09:44:25.097Z"
      },
      {
        "duration": 28,
        "start_time": "2022-04-01T09:44:25.119Z"
      },
      {
        "duration": 44,
        "start_time": "2022-04-01T09:44:25.149Z"
      },
      {
        "duration": 16,
        "start_time": "2022-04-01T09:44:25.196Z"
      },
      {
        "duration": 17,
        "start_time": "2022-04-01T09:44:25.213Z"
      },
      {
        "duration": 23,
        "start_time": "2022-04-01T09:44:25.232Z"
      },
      {
        "duration": 8,
        "start_time": "2022-04-01T09:44:47.193Z"
      },
      {
        "duration": 16,
        "start_time": "2022-04-01T09:45:20.265Z"
      },
      {
        "duration": 19,
        "start_time": "2022-04-01T09:45:51.082Z"
      },
      {
        "duration": 1219,
        "start_time": "2022-04-01T09:46:17.935Z"
      },
      {
        "duration": 57,
        "start_time": "2022-04-01T09:46:19.156Z"
      },
      {
        "duration": 16,
        "start_time": "2022-04-01T09:46:19.214Z"
      },
      {
        "duration": 12,
        "start_time": "2022-04-01T09:46:19.233Z"
      },
      {
        "duration": 17,
        "start_time": "2022-04-01T09:46:19.247Z"
      },
      {
        "duration": 4,
        "start_time": "2022-04-01T09:46:19.266Z"
      },
      {
        "duration": 39,
        "start_time": "2022-04-01T09:46:19.272Z"
      },
      {
        "duration": 29,
        "start_time": "2022-04-01T09:46:19.314Z"
      },
      {
        "duration": 9,
        "start_time": "2022-04-01T09:46:19.346Z"
      },
      {
        "duration": 6,
        "start_time": "2022-04-01T09:46:19.358Z"
      },
      {
        "duration": 45,
        "start_time": "2022-04-01T09:46:19.365Z"
      },
      {
        "duration": 17,
        "start_time": "2022-04-01T09:46:19.412Z"
      },
      {
        "duration": 19,
        "start_time": "2022-04-01T09:46:19.431Z"
      },
      {
        "duration": 3,
        "start_time": "2022-04-01T09:46:54.478Z"
      },
      {
        "duration": 60,
        "start_time": "2022-04-01T09:46:54.483Z"
      },
      {
        "duration": 14,
        "start_time": "2022-04-01T09:46:54.545Z"
      },
      {
        "duration": 10,
        "start_time": "2022-04-01T09:46:54.562Z"
      },
      {
        "duration": 40,
        "start_time": "2022-04-01T09:46:54.573Z"
      },
      {
        "duration": 5,
        "start_time": "2022-04-01T09:46:54.615Z"
      },
      {
        "duration": 12,
        "start_time": "2022-04-01T09:46:54.622Z"
      },
      {
        "duration": 28,
        "start_time": "2022-04-01T09:46:54.636Z"
      },
      {
        "duration": 7,
        "start_time": "2022-04-01T09:46:54.666Z"
      },
      {
        "duration": 32,
        "start_time": "2022-04-01T09:46:54.675Z"
      },
      {
        "duration": 19,
        "start_time": "2022-04-01T09:46:54.710Z"
      },
      {
        "duration": 8,
        "start_time": "2022-04-01T09:46:54.731Z"
      },
      {
        "duration": 23,
        "start_time": "2022-04-01T09:46:54.742Z"
      },
      {
        "duration": 3,
        "start_time": "2022-04-01T09:47:17.699Z"
      },
      {
        "duration": 55,
        "start_time": "2022-04-01T09:47:17.705Z"
      },
      {
        "duration": 16,
        "start_time": "2022-04-01T09:47:17.762Z"
      },
      {
        "duration": 28,
        "start_time": "2022-04-01T09:47:17.780Z"
      },
      {
        "duration": 17,
        "start_time": "2022-04-01T09:47:17.810Z"
      },
      {
        "duration": 6,
        "start_time": "2022-04-01T09:47:17.829Z"
      },
      {
        "duration": 12,
        "start_time": "2022-04-01T09:47:17.837Z"
      },
      {
        "duration": 62,
        "start_time": "2022-04-01T09:47:17.851Z"
      },
      {
        "duration": 7,
        "start_time": "2022-04-01T09:47:17.915Z"
      },
      {
        "duration": 12,
        "start_time": "2022-04-01T09:47:17.923Z"
      },
      {
        "duration": 6,
        "start_time": "2022-04-01T09:47:17.938Z"
      },
      {
        "duration": 21,
        "start_time": "2022-04-01T09:47:17.946Z"
      },
      {
        "duration": 260,
        "start_time": "2022-04-01T11:10:29.164Z"
      },
      {
        "duration": 7,
        "start_time": "2022-04-01T11:11:27.566Z"
      },
      {
        "duration": 16,
        "start_time": "2022-04-01T11:12:25.700Z"
      },
      {
        "duration": 20,
        "start_time": "2022-04-01T11:40:50.961Z"
      },
      {
        "duration": 176,
        "start_time": "2022-04-01T11:41:12.375Z"
      },
      {
        "duration": 19,
        "start_time": "2022-04-01T11:42:04.713Z"
      },
      {
        "duration": 713,
        "start_time": "2022-04-01T11:48:41.467Z"
      },
      {
        "duration": 289,
        "start_time": "2022-04-01T11:49:50.323Z"
      },
      {
        "duration": 320,
        "start_time": "2022-04-01T11:56:42.181Z"
      },
      {
        "duration": 14,
        "start_time": "2022-04-01T11:57:49.123Z"
      },
      {
        "duration": 13,
        "start_time": "2022-04-01T11:58:16.005Z"
      },
      {
        "duration": 10,
        "start_time": "2022-04-01T12:00:37.340Z"
      },
      {
        "duration": 388,
        "start_time": "2022-04-01T12:02:09.894Z"
      },
      {
        "duration": 302,
        "start_time": "2022-04-01T12:02:34.157Z"
      },
      {
        "duration": 13,
        "start_time": "2022-04-01T12:23:46.890Z"
      },
      {
        "duration": 13,
        "start_time": "2022-04-01T12:25:38.402Z"
      },
      {
        "duration": 15,
        "start_time": "2022-04-01T12:26:09.358Z"
      },
      {
        "duration": 66,
        "start_time": "2022-04-02T17:18:25.506Z"
      },
      {
        "duration": 1814,
        "start_time": "2022-04-02T17:18:30.133Z"
      },
      {
        "duration": 121,
        "start_time": "2022-04-02T17:18:31.950Z"
      },
      {
        "duration": 22,
        "start_time": "2022-04-02T17:18:32.073Z"
      },
      {
        "duration": 1484,
        "start_time": "2022-04-02T17:42:26.757Z"
      },
      {
        "duration": 80,
        "start_time": "2022-04-02T17:42:28.244Z"
      },
      {
        "duration": 22,
        "start_time": "2022-04-02T17:42:28.327Z"
      },
      {
        "duration": 12,
        "start_time": "2022-04-02T17:42:28.367Z"
      },
      {
        "duration": 19,
        "start_time": "2022-04-02T17:42:28.382Z"
      },
      {
        "duration": 7,
        "start_time": "2022-04-02T17:42:28.404Z"
      },
      {
        "duration": 13,
        "start_time": "2022-04-02T17:42:28.413Z"
      },
      {
        "duration": 38,
        "start_time": "2022-04-02T17:42:28.467Z"
      },
      {
        "duration": 10,
        "start_time": "2022-04-02T17:42:28.507Z"
      },
      {
        "duration": 7,
        "start_time": "2022-04-02T17:42:28.521Z"
      },
      {
        "duration": 40,
        "start_time": "2022-04-02T17:42:28.530Z"
      },
      {
        "duration": 12,
        "start_time": "2022-04-02T17:42:28.573Z"
      },
      {
        "duration": 419,
        "start_time": "2022-04-02T17:42:28.587Z"
      },
      {
        "duration": 20,
        "start_time": "2022-04-02T17:42:29.008Z"
      },
      {
        "duration": 539,
        "start_time": "2022-04-02T17:42:29.030Z"
      },
      {
        "duration": 526,
        "start_time": "2022-04-02T17:42:54.082Z"
      },
      {
        "duration": 4,
        "start_time": "2022-04-02T19:15:52.718Z"
      },
      {
        "duration": 9,
        "start_time": "2022-04-02T19:16:22.776Z"
      },
      {
        "duration": 10,
        "start_time": "2022-04-02T19:16:44.209Z"
      },
      {
        "duration": 246,
        "start_time": "2022-04-02T19:17:06.837Z"
      },
      {
        "duration": 13,
        "start_time": "2022-04-02T19:17:21.415Z"
      },
      {
        "duration": 12,
        "start_time": "2022-04-02T19:17:37.157Z"
      },
      {
        "duration": 12,
        "start_time": "2022-04-02T19:18:34.624Z"
      },
      {
        "duration": 40,
        "start_time": "2022-04-02T19:30:43.423Z"
      },
      {
        "duration": 12,
        "start_time": "2022-04-02T19:40:43.674Z"
      },
      {
        "duration": 11,
        "start_time": "2022-04-02T19:41:16.096Z"
      },
      {
        "duration": 45,
        "start_time": "2022-04-02T19:41:51.123Z"
      },
      {
        "duration": 15,
        "start_time": "2022-04-02T19:42:10.194Z"
      },
      {
        "duration": 81,
        "start_time": "2022-04-02T19:42:14.629Z"
      },
      {
        "duration": 55,
        "start_time": "2022-04-02T19:43:10.603Z"
      },
      {
        "duration": 102,
        "start_time": "2022-04-02T19:44:22.219Z"
      },
      {
        "duration": 87,
        "start_time": "2022-04-02T19:44:29.509Z"
      },
      {
        "duration": 432,
        "start_time": "2022-04-02T19:44:38.622Z"
      },
      {
        "duration": 108,
        "start_time": "2022-04-02T19:46:17.219Z"
      },
      {
        "duration": 431,
        "start_time": "2022-04-02T19:46:25.153Z"
      },
      {
        "duration": 512,
        "start_time": "2022-04-02T19:46:45.473Z"
      },
      {
        "duration": 16,
        "start_time": "2022-04-02T19:47:09.877Z"
      },
      {
        "duration": 578,
        "start_time": "2022-04-02T19:47:14.495Z"
      },
      {
        "duration": 479,
        "start_time": "2022-04-02T19:48:11.425Z"
      },
      {
        "duration": 421,
        "start_time": "2022-04-02T19:49:07.398Z"
      },
      {
        "duration": 12,
        "start_time": "2022-04-02T19:58:10.737Z"
      },
      {
        "duration": 738,
        "start_time": "2022-04-02T19:58:13.893Z"
      },
      {
        "duration": 16,
        "start_time": "2022-04-02T19:58:34.172Z"
      },
      {
        "duration": 398,
        "start_time": "2022-04-02T19:58:39.855Z"
      },
      {
        "duration": 450,
        "start_time": "2022-04-02T20:05:38.239Z"
      },
      {
        "duration": 403,
        "start_time": "2022-04-02T20:09:16.811Z"
      },
      {
        "duration": 541,
        "start_time": "2022-04-02T20:09:38.736Z"
      },
      {
        "duration": 444,
        "start_time": "2022-04-02T20:09:55.065Z"
      },
      {
        "duration": 404,
        "start_time": "2022-04-02T20:10:47.321Z"
      },
      {
        "duration": 405,
        "start_time": "2022-04-02T20:12:05.428Z"
      },
      {
        "duration": 45,
        "start_time": "2022-04-02T20:18:34.845Z"
      },
      {
        "duration": 32,
        "start_time": "2022-04-02T20:23:05.626Z"
      },
      {
        "duration": 51,
        "start_time": "2022-04-02T20:23:12.061Z"
      },
      {
        "duration": 618,
        "start_time": "2022-04-02T20:24:04.140Z"
      },
      {
        "duration": 182,
        "start_time": "2022-04-02T20:26:11.892Z"
      },
      {
        "duration": 282,
        "start_time": "2022-04-02T20:26:28.086Z"
      },
      {
        "duration": 717,
        "start_time": "2022-04-02T20:26:34.498Z"
      },
      {
        "duration": 727,
        "start_time": "2022-04-02T20:29:15.895Z"
      },
      {
        "duration": 735,
        "start_time": "2022-04-02T20:29:27.375Z"
      },
      {
        "duration": 853,
        "start_time": "2022-04-02T20:31:56.464Z"
      },
      {
        "duration": 887,
        "start_time": "2022-04-02T20:32:04.480Z"
      },
      {
        "duration": 808,
        "start_time": "2022-04-02T20:32:15.321Z"
      },
      {
        "duration": 809,
        "start_time": "2022-04-02T20:32:25.530Z"
      },
      {
        "duration": 728,
        "start_time": "2022-04-02T20:32:36.887Z"
      },
      {
        "duration": 792,
        "start_time": "2022-04-02T20:32:43.820Z"
      },
      {
        "duration": 832,
        "start_time": "2022-04-02T20:33:00.931Z"
      },
      {
        "duration": 846,
        "start_time": "2022-04-02T20:33:14.268Z"
      },
      {
        "duration": 854,
        "start_time": "2022-04-02T20:34:21.488Z"
      },
      {
        "duration": 778,
        "start_time": "2022-04-02T20:34:30.519Z"
      },
      {
        "duration": 667,
        "start_time": "2022-04-02T20:34:37.585Z"
      },
      {
        "duration": 901,
        "start_time": "2022-04-02T20:34:45.706Z"
      },
      {
        "duration": 925,
        "start_time": "2022-04-02T20:35:14.777Z"
      },
      {
        "duration": 740,
        "start_time": "2022-04-02T20:35:20.827Z"
      },
      {
        "duration": 644,
        "start_time": "2022-04-02T20:35:25.505Z"
      },
      {
        "duration": 943,
        "start_time": "2022-04-02T20:35:30.100Z"
      },
      {
        "duration": 631,
        "start_time": "2022-04-02T20:36:52.238Z"
      },
      {
        "duration": 37,
        "start_time": "2022-04-02T20:40:08.097Z"
      },
      {
        "duration": 146,
        "start_time": "2022-04-02T20:40:12.659Z"
      },
      {
        "duration": 51,
        "start_time": "2022-04-02T20:41:15.781Z"
      },
      {
        "duration": 49,
        "start_time": "2022-04-02T20:42:38.726Z"
      },
      {
        "duration": 52,
        "start_time": "2022-04-02T20:42:46.328Z"
      },
      {
        "duration": 32,
        "start_time": "2022-04-02T20:44:09.727Z"
      },
      {
        "duration": 40,
        "start_time": "2022-04-02T20:44:13.368Z"
      },
      {
        "duration": 51,
        "start_time": "2022-04-02T20:45:46.692Z"
      },
      {
        "duration": 5,
        "start_time": "2022-04-02T20:46:01.739Z"
      },
      {
        "duration": 91,
        "start_time": "2022-04-02T20:46:01.747Z"
      },
      {
        "duration": 30,
        "start_time": "2022-04-02T20:46:01.840Z"
      },
      {
        "duration": 14,
        "start_time": "2022-04-02T20:46:01.872Z"
      },
      {
        "duration": 24,
        "start_time": "2022-04-02T20:46:01.889Z"
      },
      {
        "duration": 7,
        "start_time": "2022-04-02T20:46:01.916Z"
      },
      {
        "duration": 44,
        "start_time": "2022-04-02T20:46:01.925Z"
      },
      {
        "duration": 69,
        "start_time": "2022-04-02T20:46:01.972Z"
      },
      {
        "duration": 12,
        "start_time": "2022-04-02T20:46:02.045Z"
      },
      {
        "duration": 23,
        "start_time": "2022-04-02T20:46:02.068Z"
      },
      {
        "duration": 13,
        "start_time": "2022-04-02T20:46:02.095Z"
      },
      {
        "duration": 18,
        "start_time": "2022-04-02T20:46:02.111Z"
      },
      {
        "duration": 724,
        "start_time": "2022-04-02T20:46:02.135Z"
      },
      {
        "duration": 30,
        "start_time": "2022-04-02T20:46:02.867Z"
      },
      {
        "duration": 781,
        "start_time": "2022-04-02T20:46:02.900Z"
      },
      {
        "duration": 16,
        "start_time": "2022-04-02T20:46:03.684Z"
      },
      {
        "duration": 1501,
        "start_time": "2022-04-02T20:46:03.703Z"
      },
      {
        "duration": 67,
        "start_time": "2022-04-02T20:46:05.206Z"
      },
      {
        "duration": 39,
        "start_time": "2022-04-02T20:46:53.309Z"
      },
      {
        "duration": 63,
        "start_time": "2022-04-02T20:47:19.069Z"
      },
      {
        "duration": 11,
        "start_time": "2022-04-02T20:47:38.307Z"
      },
      {
        "duration": 653,
        "start_time": "2022-04-02T20:47:40.937Z"
      },
      {
        "duration": 41,
        "start_time": "2022-04-02T20:47:44.054Z"
      },
      {
        "duration": 102,
        "start_time": "2022-04-02T20:49:22.087Z"
      },
      {
        "duration": 22,
        "start_time": "2022-04-02T20:49:33.433Z"
      },
      {
        "duration": 17,
        "start_time": "2022-04-02T20:49:39.005Z"
      },
      {
        "duration": 17,
        "start_time": "2022-04-02T20:49:55.515Z"
      },
      {
        "duration": 768,
        "start_time": "2022-04-02T20:49:59.273Z"
      },
      {
        "duration": 17,
        "start_time": "2022-04-02T20:50:32.113Z"
      },
      {
        "duration": 1280,
        "start_time": "2022-04-02T20:50:42.809Z"
      },
      {
        "duration": 54,
        "start_time": "2022-04-02T20:51:12.131Z"
      },
      {
        "duration": 24,
        "start_time": "2022-04-02T20:51:52.242Z"
      },
      {
        "duration": 20,
        "start_time": "2022-04-02T20:52:06.507Z"
      },
      {
        "duration": 807,
        "start_time": "2022-04-02T20:52:11.216Z"
      },
      {
        "duration": 19,
        "start_time": "2022-04-02T20:52:24.497Z"
      },
      {
        "duration": 798,
        "start_time": "2022-04-02T20:52:30.306Z"
      },
      {
        "duration": 947,
        "start_time": "2022-04-02T20:55:12.439Z"
      },
      {
        "duration": 40,
        "start_time": "2022-04-02T20:55:40.403Z"
      },
      {
        "duration": 19,
        "start_time": "2022-04-02T20:57:15.442Z"
      },
      {
        "duration": 847,
        "start_time": "2022-04-02T20:57:41.034Z"
      },
      {
        "duration": 666,
        "start_time": "2022-04-02T20:57:57.796Z"
      },
      {
        "duration": 61,
        "start_time": "2022-04-02T20:59:09.107Z"
      },
      {
        "duration": 63,
        "start_time": "2022-04-02T21:02:00.608Z"
      },
      {
        "duration": 11,
        "start_time": "2022-04-02T21:02:22.953Z"
      },
      {
        "duration": 10,
        "start_time": "2022-04-02T21:02:29.706Z"
      },
      {
        "duration": 1570,
        "start_time": "2022-04-02T21:05:20.895Z"
      },
      {
        "duration": 48,
        "start_time": "2022-04-02T21:05:40.403Z"
      },
      {
        "duration": 43,
        "start_time": "2022-04-02T21:06:01.996Z"
      },
      {
        "duration": 43,
        "start_time": "2022-04-02T21:06:42.761Z"
      },
      {
        "duration": 59,
        "start_time": "2022-04-02T21:07:23.251Z"
      },
      {
        "duration": 43,
        "start_time": "2022-04-02T21:07:32.507Z"
      },
      {
        "duration": 36,
        "start_time": "2022-04-02T21:07:40.747Z"
      },
      {
        "duration": 44,
        "start_time": "2022-04-02T21:07:43.411Z"
      },
      {
        "duration": 47,
        "start_time": "2022-04-02T21:07:52.469Z"
      },
      {
        "duration": 44,
        "start_time": "2022-04-02T21:07:55.901Z"
      },
      {
        "duration": 34,
        "start_time": "2022-04-02T21:09:38.605Z"
      },
      {
        "duration": 47,
        "start_time": "2022-04-02T21:09:42.773Z"
      },
      {
        "duration": 1734,
        "start_time": "2022-04-02T21:10:16.515Z"
      },
      {
        "duration": 30,
        "start_time": "2022-04-02T21:10:29.801Z"
      },
      {
        "duration": 36,
        "start_time": "2022-04-02T21:10:34.116Z"
      },
      {
        "duration": 58,
        "start_time": "2022-04-02T21:11:05.234Z"
      },
      {
        "duration": 14,
        "start_time": "2022-04-02T21:11:12.525Z"
      },
      {
        "duration": 13,
        "start_time": "2022-04-02T21:11:33.183Z"
      },
      {
        "duration": 8,
        "start_time": "2022-04-02T21:11:51.039Z"
      },
      {
        "duration": 9,
        "start_time": "2022-04-02T21:12:26.840Z"
      },
      {
        "duration": 12,
        "start_time": "2022-04-02T21:14:59.465Z"
      },
      {
        "duration": 12,
        "start_time": "2022-04-02T21:15:08.458Z"
      },
      {
        "duration": 20,
        "start_time": "2022-04-02T21:15:10.872Z"
      },
      {
        "duration": 626,
        "start_time": "2022-04-02T21:15:17.075Z"
      },
      {
        "duration": 608,
        "start_time": "2022-04-02T21:16:44.767Z"
      },
      {
        "duration": 39,
        "start_time": "2022-04-02T21:17:15.630Z"
      },
      {
        "duration": 10,
        "start_time": "2022-04-02T21:17:19.522Z"
      },
      {
        "duration": 14,
        "start_time": "2022-04-02T21:18:24.839Z"
      },
      {
        "duration": 18,
        "start_time": "2022-04-02T21:25:59.744Z"
      },
      {
        "duration": 12,
        "start_time": "2022-04-02T21:26:09.883Z"
      },
      {
        "duration": 10,
        "start_time": "2022-04-02T21:26:51.752Z"
      },
      {
        "duration": 12,
        "start_time": "2022-04-02T21:26:55.380Z"
      },
      {
        "duration": 755,
        "start_time": "2022-04-02T21:26:59.093Z"
      },
      {
        "duration": 11,
        "start_time": "2022-04-02T21:27:09.073Z"
      },
      {
        "duration": 13,
        "start_time": "2022-04-02T21:27:15.077Z"
      },
      {
        "duration": 12,
        "start_time": "2022-04-02T21:27:25.869Z"
      },
      {
        "duration": 610,
        "start_time": "2022-04-02T21:27:47.741Z"
      },
      {
        "duration": 40,
        "start_time": "2022-04-02T21:27:59.382Z"
      },
      {
        "duration": 10,
        "start_time": "2022-04-02T21:28:21.043Z"
      },
      {
        "duration": 10,
        "start_time": "2022-04-02T21:28:27.427Z"
      },
      {
        "duration": 11,
        "start_time": "2022-04-02T21:29:00.549Z"
      },
      {
        "duration": 10,
        "start_time": "2022-04-02T21:29:11.689Z"
      },
      {
        "duration": 6,
        "start_time": "2022-04-02T21:43:05.695Z"
      },
      {
        "duration": 68,
        "start_time": "2022-04-02T21:43:05.713Z"
      },
      {
        "duration": 19,
        "start_time": "2022-04-02T21:43:05.784Z"
      },
      {
        "duration": 13,
        "start_time": "2022-04-02T21:43:05.805Z"
      },
      {
        "duration": 50,
        "start_time": "2022-04-02T21:43:05.820Z"
      },
      {
        "duration": 7,
        "start_time": "2022-04-02T21:43:05.873Z"
      },
      {
        "duration": 17,
        "start_time": "2022-04-02T21:43:05.882Z"
      },
      {
        "duration": 73,
        "start_time": "2022-04-02T21:43:05.901Z"
      },
      {
        "duration": 9,
        "start_time": "2022-04-02T21:43:05.976Z"
      },
      {
        "duration": 7,
        "start_time": "2022-04-02T21:43:05.988Z"
      },
      {
        "duration": 7,
        "start_time": "2022-04-02T21:43:05.997Z"
      },
      {
        "duration": 13,
        "start_time": "2022-04-02T21:43:06.006Z"
      },
      {
        "duration": 465,
        "start_time": "2022-04-02T21:43:06.021Z"
      },
      {
        "duration": 19,
        "start_time": "2022-04-02T21:43:06.489Z"
      },
      {
        "duration": 523,
        "start_time": "2022-04-02T21:43:06.512Z"
      },
      {
        "duration": 11,
        "start_time": "2022-04-02T21:43:07.037Z"
      },
      {
        "duration": 37,
        "start_time": "2022-04-02T21:43:07.051Z"
      },
      {
        "duration": 665,
        "start_time": "2022-04-02T21:43:07.091Z"
      },
      {
        "duration": 44,
        "start_time": "2022-04-02T21:43:07.759Z"
      },
      {
        "duration": 11,
        "start_time": "2022-04-02T21:43:07.806Z"
      },
      {
        "duration": 1810,
        "start_time": "2022-04-03T09:31:19.719Z"
      },
      {
        "duration": 91,
        "start_time": "2022-04-03T09:31:21.532Z"
      },
      {
        "duration": 20,
        "start_time": "2022-04-03T09:31:21.625Z"
      },
      {
        "duration": 13,
        "start_time": "2022-04-03T09:31:21.647Z"
      },
      {
        "duration": 27,
        "start_time": "2022-04-03T09:31:21.663Z"
      },
      {
        "duration": 6,
        "start_time": "2022-04-03T09:31:21.692Z"
      },
      {
        "duration": 53,
        "start_time": "2022-04-03T09:31:21.700Z"
      },
      {
        "duration": 40,
        "start_time": "2022-04-03T09:31:21.755Z"
      },
      {
        "duration": 10,
        "start_time": "2022-04-03T09:31:21.797Z"
      },
      {
        "duration": 33,
        "start_time": "2022-04-03T09:31:21.810Z"
      },
      {
        "duration": 7,
        "start_time": "2022-04-03T09:31:21.845Z"
      },
      {
        "duration": 18,
        "start_time": "2022-04-03T09:31:21.855Z"
      },
      {
        "duration": 422,
        "start_time": "2022-04-03T09:31:21.875Z"
      },
      {
        "duration": 18,
        "start_time": "2022-04-03T09:31:22.301Z"
      },
      {
        "duration": 529,
        "start_time": "2022-04-03T09:31:22.321Z"
      },
      {
        "duration": 24,
        "start_time": "2022-04-03T09:31:22.852Z"
      },
      {
        "duration": 693,
        "start_time": "2022-04-03T09:31:22.879Z"
      },
      {
        "duration": 39,
        "start_time": "2022-04-03T09:31:23.574Z"
      },
      {
        "duration": 27,
        "start_time": "2022-04-03T09:31:23.616Z"
      },
      {
        "duration": 19,
        "start_time": "2022-04-03T09:35:54.188Z"
      },
      {
        "duration": 25,
        "start_time": "2022-04-03T09:38:33.852Z"
      },
      {
        "duration": 43,
        "start_time": "2022-04-03T09:38:56.207Z"
      },
      {
        "duration": 602,
        "start_time": "2022-04-03T09:51:25.906Z"
      },
      {
        "duration": 37,
        "start_time": "2022-04-03T09:59:34.029Z"
      },
      {
        "duration": 981,
        "start_time": "2022-04-03T10:28:18.225Z"
      },
      {
        "duration": 39,
        "start_time": "2022-04-03T10:28:41.314Z"
      },
      {
        "duration": 9,
        "start_time": "2022-04-03T10:30:22.075Z"
      },
      {
        "duration": 50,
        "start_time": "2022-04-03T13:46:10.662Z"
      },
      {
        "duration": 1399,
        "start_time": "2022-04-03T13:46:16.273Z"
      },
      {
        "duration": 68,
        "start_time": "2022-04-03T13:46:17.674Z"
      },
      {
        "duration": 17,
        "start_time": "2022-04-03T13:46:17.743Z"
      },
      {
        "duration": 14,
        "start_time": "2022-04-03T13:46:17.762Z"
      },
      {
        "duration": 17,
        "start_time": "2022-04-03T13:46:17.777Z"
      },
      {
        "duration": 5,
        "start_time": "2022-04-03T13:46:17.795Z"
      },
      {
        "duration": 34,
        "start_time": "2022-04-03T13:46:17.801Z"
      },
      {
        "duration": 29,
        "start_time": "2022-04-03T13:46:17.837Z"
      },
      {
        "duration": 8,
        "start_time": "2022-04-03T13:46:17.867Z"
      },
      {
        "duration": 9,
        "start_time": "2022-04-03T13:46:17.877Z"
      },
      {
        "duration": 8,
        "start_time": "2022-04-03T13:46:17.888Z"
      },
      {
        "duration": 40,
        "start_time": "2022-04-03T13:46:17.898Z"
      },
      {
        "duration": 255,
        "start_time": "2022-04-03T13:46:17.940Z"
      },
      {
        "duration": 13,
        "start_time": "2022-04-03T13:46:18.197Z"
      },
      {
        "duration": 343,
        "start_time": "2022-04-03T13:46:18.212Z"
      },
      {
        "duration": 15,
        "start_time": "2022-04-03T13:46:18.557Z"
      },
      {
        "duration": 34,
        "start_time": "2022-04-03T13:46:18.573Z"
      },
      {
        "duration": 527,
        "start_time": "2022-04-03T13:46:18.609Z"
      },
      {
        "duration": 28,
        "start_time": "2022-04-03T13:46:19.137Z"
      },
      {
        "duration": 7,
        "start_time": "2022-04-03T13:46:19.166Z"
      },
      {
        "duration": 8,
        "start_time": "2022-04-03T13:46:19.175Z"
      },
      {
        "duration": 8,
        "start_time": "2022-04-03T13:49:42.155Z"
      },
      {
        "duration": 7,
        "start_time": "2022-04-03T13:50:30.473Z"
      },
      {
        "duration": 17,
        "start_time": "2022-04-03T13:53:25.733Z"
      },
      {
        "duration": 2925,
        "start_time": "2022-04-03T13:55:17.093Z"
      },
      {
        "duration": 2963,
        "start_time": "2022-04-03T13:56:01.591Z"
      },
      {
        "duration": 16,
        "start_time": "2022-04-03T13:56:11.866Z"
      },
      {
        "duration": 30,
        "start_time": "2022-04-03T13:56:25.205Z"
      },
      {
        "duration": 29,
        "start_time": "2022-04-03T13:56:51.184Z"
      },
      {
        "duration": 2832,
        "start_time": "2022-04-03T13:57:01.051Z"
      },
      {
        "duration": 17,
        "start_time": "2022-04-03T13:57:10.112Z"
      },
      {
        "duration": 2760,
        "start_time": "2022-04-03T13:57:13.642Z"
      },
      {
        "duration": 30,
        "start_time": "2022-04-03T13:57:32.391Z"
      },
      {
        "duration": 294,
        "start_time": "2022-04-03T13:59:04.550Z"
      },
      {
        "duration": 304,
        "start_time": "2022-04-03T13:59:44.395Z"
      },
      {
        "duration": 307,
        "start_time": "2022-04-03T14:03:14.771Z"
      },
      {
        "duration": 346,
        "start_time": "2022-04-03T14:03:33.240Z"
      },
      {
        "duration": 297,
        "start_time": "2022-04-03T14:03:53.024Z"
      },
      {
        "duration": 312,
        "start_time": "2022-04-03T14:04:01.619Z"
      },
      {
        "duration": 288,
        "start_time": "2022-04-03T14:04:16.256Z"
      },
      {
        "duration": 292,
        "start_time": "2022-04-03T14:04:52.084Z"
      },
      {
        "duration": 288,
        "start_time": "2022-04-03T14:05:14.406Z"
      },
      {
        "duration": 7,
        "start_time": "2022-04-03T14:10:13.635Z"
      },
      {
        "duration": 8,
        "start_time": "2022-04-03T14:10:16.628Z"
      },
      {
        "duration": 29,
        "start_time": "2022-04-03T14:10:20.900Z"
      },
      {
        "duration": 361,
        "start_time": "2022-04-03T14:10:25.716Z"
      },
      {
        "duration": 6,
        "start_time": "2022-04-03T14:11:53.604Z"
      },
      {
        "duration": 8,
        "start_time": "2022-04-03T14:11:56.030Z"
      },
      {
        "duration": 6,
        "start_time": "2022-04-03T14:12:18.771Z"
      },
      {
        "duration": 8,
        "start_time": "2022-04-03T14:12:26.119Z"
      },
      {
        "duration": 29,
        "start_time": "2022-04-03T14:12:31.184Z"
      },
      {
        "duration": 284,
        "start_time": "2022-04-03T14:12:33.500Z"
      },
      {
        "duration": 17,
        "start_time": "2022-04-03T14:17:41.695Z"
      },
      {
        "duration": 161,
        "start_time": "2022-04-03T14:41:54.387Z"
      },
      {
        "duration": 276,
        "start_time": "2022-04-03T14:42:00.202Z"
      },
      {
        "duration": 276,
        "start_time": "2022-04-03T14:42:11.714Z"
      },
      {
        "duration": 328,
        "start_time": "2022-04-03T14:44:50.112Z"
      },
      {
        "duration": 317,
        "start_time": "2022-04-03T14:45:37.397Z"
      },
      {
        "duration": 297,
        "start_time": "2022-04-03T14:46:17.158Z"
      },
      {
        "duration": 5,
        "start_time": "2022-04-03T14:48:39.732Z"
      },
      {
        "duration": 15,
        "start_time": "2022-04-03T14:48:42.903Z"
      },
      {
        "duration": 15,
        "start_time": "2022-04-03T14:49:35.751Z"
      },
      {
        "duration": 15,
        "start_time": "2022-04-03T14:49:39.929Z"
      },
      {
        "duration": 3,
        "start_time": "2022-04-03T14:49:44.677Z"
      },
      {
        "duration": 74,
        "start_time": "2022-04-03T14:49:44.682Z"
      },
      {
        "duration": 14,
        "start_time": "2022-04-03T14:49:44.758Z"
      },
      {
        "duration": 10,
        "start_time": "2022-04-03T14:49:44.775Z"
      },
      {
        "duration": 15,
        "start_time": "2022-04-03T14:49:44.787Z"
      },
      {
        "duration": 30,
        "start_time": "2022-04-03T14:49:44.804Z"
      },
      {
        "duration": 14,
        "start_time": "2022-04-03T14:49:44.835Z"
      },
      {
        "duration": 32,
        "start_time": "2022-04-03T14:49:44.851Z"
      },
      {
        "duration": 6,
        "start_time": "2022-04-03T14:49:44.886Z"
      },
      {
        "duration": 6,
        "start_time": "2022-04-03T14:49:44.894Z"
      },
      {
        "duration": 7,
        "start_time": "2022-04-03T14:49:44.902Z"
      },
      {
        "duration": 116,
        "start_time": "2022-04-03T14:49:44.931Z"
      },
      {
        "duration": 261,
        "start_time": "2022-04-03T14:49:45.049Z"
      },
      {
        "duration": 19,
        "start_time": "2022-04-03T14:49:45.312Z"
      },
      {
        "duration": 297,
        "start_time": "2022-04-03T15:12:43.057Z"
      },
      {
        "duration": 307,
        "start_time": "2022-04-03T15:12:54.114Z"
      },
      {
        "duration": 285,
        "start_time": "2022-04-03T15:13:10.384Z"
      },
      {
        "duration": 290,
        "start_time": "2022-04-03T15:13:21.444Z"
      },
      {
        "duration": 7,
        "start_time": "2022-04-03T15:18:33.699Z"
      },
      {
        "duration": 25,
        "start_time": "2022-04-03T15:28:52.381Z"
      },
      {
        "duration": 7,
        "start_time": "2022-04-03T15:30:04.425Z"
      },
      {
        "duration": 157,
        "start_time": "2022-04-03T15:30:46.350Z"
      },
      {
        "duration": 150,
        "start_time": "2022-04-03T15:31:18.426Z"
      },
      {
        "duration": 25,
        "start_time": "2022-04-03T15:32:43.929Z"
      },
      {
        "duration": 17,
        "start_time": "2022-04-03T15:37:46.086Z"
      },
      {
        "duration": 11,
        "start_time": "2022-04-03T15:42:15.424Z"
      },
      {
        "duration": 11,
        "start_time": "2022-04-03T15:43:50.006Z"
      },
      {
        "duration": 7,
        "start_time": "2022-04-03T15:44:27.980Z"
      },
      {
        "duration": 135,
        "start_time": "2022-04-03T15:52:06.891Z"
      },
      {
        "duration": 10,
        "start_time": "2022-04-03T16:26:24.887Z"
      },
      {
        "duration": 10,
        "start_time": "2022-04-03T16:26:49.542Z"
      },
      {
        "duration": 27,
        "start_time": "2022-04-03T16:27:34.040Z"
      },
      {
        "duration": 15,
        "start_time": "2022-04-03T16:28:15.139Z"
      },
      {
        "duration": 7,
        "start_time": "2022-04-03T16:28:56.924Z"
      },
      {
        "duration": 160,
        "start_time": "2022-04-03T16:30:24.697Z"
      },
      {
        "duration": 255,
        "start_time": "2022-04-03T16:30:29.636Z"
      },
      {
        "duration": 163,
        "start_time": "2022-04-03T16:32:31.431Z"
      },
      {
        "duration": 165,
        "start_time": "2022-04-03T16:33:46.319Z"
      },
      {
        "duration": 160,
        "start_time": "2022-04-03T16:34:11.333Z"
      },
      {
        "duration": 154,
        "start_time": "2022-04-03T16:34:37.766Z"
      },
      {
        "duration": 146,
        "start_time": "2022-04-03T16:34:57.742Z"
      },
      {
        "duration": 159,
        "start_time": "2022-04-03T16:35:03.829Z"
      },
      {
        "duration": 157,
        "start_time": "2022-04-03T16:35:11.932Z"
      },
      {
        "duration": 9,
        "start_time": "2022-04-03T16:41:19.000Z"
      },
      {
        "duration": 3,
        "start_time": "2022-04-03T16:41:22.757Z"
      },
      {
        "duration": 61,
        "start_time": "2022-04-03T16:41:22.762Z"
      },
      {
        "duration": 15,
        "start_time": "2022-04-03T16:41:22.824Z"
      },
      {
        "duration": 15,
        "start_time": "2022-04-03T16:41:22.841Z"
      },
      {
        "duration": 18,
        "start_time": "2022-04-03T16:41:22.857Z"
      },
      {
        "duration": 5,
        "start_time": "2022-04-03T16:41:22.877Z"
      },
      {
        "duration": 15,
        "start_time": "2022-04-03T16:41:22.884Z"
      },
      {
        "duration": 55,
        "start_time": "2022-04-03T16:41:22.901Z"
      },
      {
        "duration": 7,
        "start_time": "2022-04-03T16:41:22.958Z"
      },
      {
        "duration": 8,
        "start_time": "2022-04-03T16:41:22.967Z"
      },
      {
        "duration": 11,
        "start_time": "2022-04-03T16:41:22.976Z"
      },
      {
        "duration": 13,
        "start_time": "2022-04-03T16:41:22.989Z"
      },
      {
        "duration": 278,
        "start_time": "2022-04-03T16:41:23.004Z"
      },
      {
        "duration": 13,
        "start_time": "2022-04-03T16:41:23.284Z"
      },
      {
        "duration": 354,
        "start_time": "2022-04-03T16:41:23.299Z"
      },
      {
        "duration": 14,
        "start_time": "2022-04-03T16:41:23.655Z"
      },
      {
        "duration": 32,
        "start_time": "2022-04-03T16:41:23.671Z"
      },
      {
        "duration": 499,
        "start_time": "2022-04-03T16:41:23.705Z"
      },
      {
        "duration": 37,
        "start_time": "2022-04-03T16:41:24.206Z"
      },
      {
        "duration": 8,
        "start_time": "2022-04-03T16:41:24.244Z"
      },
      {
        "duration": 8,
        "start_time": "2022-04-03T16:41:24.255Z"
      },
      {
        "duration": 9,
        "start_time": "2022-04-03T16:41:24.264Z"
      },
      {
        "duration": 17,
        "start_time": "2022-04-03T16:41:24.275Z"
      },
      {
        "duration": 421,
        "start_time": "2022-04-03T16:41:24.293Z"
      },
      {
        "duration": 7,
        "start_time": "2022-04-03T16:41:24.716Z"
      },
      {
        "duration": 145,
        "start_time": "2022-04-03T16:41:24.732Z"
      },
      {
        "duration": 11,
        "start_time": "2022-04-03T16:41:24.878Z"
      },
      {
        "duration": 12,
        "start_time": "2022-04-03T16:41:24.891Z"
      },
      {
        "duration": 8,
        "start_time": "2022-04-03T16:41:24.905Z"
      },
      {
        "duration": 175,
        "start_time": "2022-04-03T16:41:24.915Z"
      },
      {
        "duration": 160,
        "start_time": "2022-04-03T16:41:25.091Z"
      },
      {
        "duration": 5,
        "start_time": "2022-04-03T16:53:04.342Z"
      },
      {
        "duration": 5,
        "start_time": "2022-04-03T16:54:45.366Z"
      },
      {
        "duration": 5,
        "start_time": "2022-04-03T16:55:04.711Z"
      },
      {
        "duration": 160,
        "start_time": "2022-04-03T16:58:11.556Z"
      },
      {
        "duration": 5,
        "start_time": "2022-04-03T16:58:41.695Z"
      },
      {
        "duration": 172,
        "start_time": "2022-04-03T16:59:00.727Z"
      },
      {
        "duration": 166,
        "start_time": "2022-04-03T16:59:06.758Z"
      },
      {
        "duration": 152,
        "start_time": "2022-04-03T17:08:25.144Z"
      },
      {
        "duration": 2530,
        "start_time": "2022-04-04T06:45:03.223Z"
      },
      {
        "duration": 122,
        "start_time": "2022-04-04T06:45:05.757Z"
      },
      {
        "duration": 30,
        "start_time": "2022-04-04T06:45:05.882Z"
      },
      {
        "duration": 18,
        "start_time": "2022-04-04T06:45:05.915Z"
      },
      {
        "duration": 51,
        "start_time": "2022-04-04T06:45:05.936Z"
      },
      {
        "duration": 6,
        "start_time": "2022-04-04T06:45:05.989Z"
      },
      {
        "duration": 13,
        "start_time": "2022-04-04T06:45:05.998Z"
      },
      {
        "duration": 65,
        "start_time": "2022-04-04T06:45:06.013Z"
      },
      {
        "duration": 8,
        "start_time": "2022-04-04T06:45:06.081Z"
      },
      {
        "duration": 8,
        "start_time": "2022-04-04T06:45:06.093Z"
      },
      {
        "duration": 7,
        "start_time": "2022-04-04T06:45:06.103Z"
      },
      {
        "duration": 19,
        "start_time": "2022-04-04T06:45:06.113Z"
      },
      {
        "duration": 711,
        "start_time": "2022-04-04T06:45:06.134Z"
      },
      {
        "duration": 41,
        "start_time": "2022-04-04T06:45:06.847Z"
      },
      {
        "duration": 508,
        "start_time": "2022-04-04T06:45:06.891Z"
      },
      {
        "duration": 19,
        "start_time": "2022-04-04T06:45:07.401Z"
      },
      {
        "duration": 63,
        "start_time": "2022-04-04T06:45:07.422Z"
      },
      {
        "duration": 717,
        "start_time": "2022-04-04T06:45:07.487Z"
      },
      {
        "duration": 37,
        "start_time": "2022-04-04T06:45:08.207Z"
      },
      {
        "duration": 29,
        "start_time": "2022-04-04T06:45:08.246Z"
      },
      {
        "duration": 15,
        "start_time": "2022-04-04T06:45:08.277Z"
      },
      {
        "duration": 25,
        "start_time": "2022-04-04T06:45:08.294Z"
      },
      {
        "duration": 47,
        "start_time": "2022-04-04T06:45:08.321Z"
      },
      {
        "duration": 444,
        "start_time": "2022-04-04T06:45:08.370Z"
      },
      {
        "duration": 8,
        "start_time": "2022-04-04T06:45:08.817Z"
      },
      {
        "duration": 206,
        "start_time": "2022-04-04T06:45:08.827Z"
      },
      {
        "duration": 14,
        "start_time": "2022-04-04T06:45:09.035Z"
      },
      {
        "duration": 13,
        "start_time": "2022-04-04T06:45:09.074Z"
      },
      {
        "duration": 18,
        "start_time": "2022-04-04T06:45:09.089Z"
      },
      {
        "duration": 237,
        "start_time": "2022-04-04T06:45:09.110Z"
      },
      {
        "duration": 7,
        "start_time": "2022-04-04T06:45:09.349Z"
      },
      {
        "duration": 226,
        "start_time": "2022-04-04T06:45:09.373Z"
      },
      {
        "duration": 6,
        "start_time": "2022-04-04T06:45:09.601Z"
      },
      {
        "duration": 11,
        "start_time": "2022-04-04T06:58:58.665Z"
      },
      {
        "duration": 39,
        "start_time": "2022-04-04T06:59:10.669Z"
      },
      {
        "duration": 33,
        "start_time": "2022-04-04T06:59:28.782Z"
      },
      {
        "duration": 38,
        "start_time": "2022-04-04T07:01:07.214Z"
      },
      {
        "duration": 10,
        "start_time": "2022-04-04T07:02:18.334Z"
      },
      {
        "duration": 4,
        "start_time": "2022-04-04T07:08:52.499Z"
      },
      {
        "duration": 81,
        "start_time": "2022-04-04T07:08:52.506Z"
      },
      {
        "duration": 19,
        "start_time": "2022-04-04T07:08:52.589Z"
      },
      {
        "duration": 12,
        "start_time": "2022-04-04T07:08:52.610Z"
      },
      {
        "duration": 67,
        "start_time": "2022-04-04T07:08:52.625Z"
      },
      {
        "duration": 6,
        "start_time": "2022-04-04T07:08:52.694Z"
      },
      {
        "duration": 14,
        "start_time": "2022-04-04T07:08:52.702Z"
      },
      {
        "duration": 145,
        "start_time": "2022-04-04T07:08:52.718Z"
      },
      {
        "duration": 15,
        "start_time": "2022-04-04T07:08:52.865Z"
      },
      {
        "duration": 8,
        "start_time": "2022-04-04T07:08:52.882Z"
      },
      {
        "duration": 6,
        "start_time": "2022-04-04T07:08:52.893Z"
      },
      {
        "duration": 10,
        "start_time": "2022-04-04T07:08:52.901Z"
      },
      {
        "duration": 474,
        "start_time": "2022-04-04T07:08:52.914Z"
      },
      {
        "duration": 19,
        "start_time": "2022-04-04T07:08:53.390Z"
      },
      {
        "duration": 521,
        "start_time": "2022-04-04T07:08:53.411Z"
      },
      {
        "duration": 40,
        "start_time": "2022-04-04T07:08:53.935Z"
      },
      {
        "duration": 66,
        "start_time": "2022-04-04T07:08:53.978Z"
      },
      {
        "duration": 904,
        "start_time": "2022-04-04T07:08:54.046Z"
      },
      {
        "duration": 63,
        "start_time": "2022-04-04T07:08:54.953Z"
      },
      {
        "duration": 14,
        "start_time": "2022-04-04T07:08:55.019Z"
      },
      {
        "duration": 13,
        "start_time": "2022-04-04T07:08:55.036Z"
      },
      {
        "duration": 34,
        "start_time": "2022-04-04T07:08:55.051Z"
      },
      {
        "duration": 10,
        "start_time": "2022-04-04T07:08:55.090Z"
      },
      {
        "duration": 26,
        "start_time": "2022-04-04T07:09:01.913Z"
      },
      {
        "duration": 432,
        "start_time": "2022-04-04T07:09:07.083Z"
      },
      {
        "duration": 10,
        "start_time": "2022-04-04T08:05:49.234Z"
      },
      {
        "duration": 4,
        "start_time": "2022-04-04T08:06:32.746Z"
      },
      {
        "duration": 77,
        "start_time": "2022-04-04T08:06:32.754Z"
      },
      {
        "duration": 40,
        "start_time": "2022-04-04T08:06:32.834Z"
      },
      {
        "duration": 14,
        "start_time": "2022-04-04T08:06:32.876Z"
      },
      {
        "duration": 22,
        "start_time": "2022-04-04T08:06:32.893Z"
      },
      {
        "duration": 6,
        "start_time": "2022-04-04T08:06:32.917Z"
      },
      {
        "duration": 58,
        "start_time": "2022-04-04T08:06:32.925Z"
      },
      {
        "duration": 39,
        "start_time": "2022-04-04T08:06:32.985Z"
      },
      {
        "duration": 10,
        "start_time": "2022-04-04T08:06:33.027Z"
      },
      {
        "duration": 8,
        "start_time": "2022-04-04T08:06:33.073Z"
      },
      {
        "duration": 6,
        "start_time": "2022-04-04T08:06:33.085Z"
      },
      {
        "duration": 11,
        "start_time": "2022-04-04T08:06:33.093Z"
      },
      {
        "duration": 461,
        "start_time": "2022-04-04T08:06:33.107Z"
      },
      {
        "duration": 19,
        "start_time": "2022-04-04T08:06:33.574Z"
      },
      {
        "duration": 551,
        "start_time": "2022-04-04T08:06:33.595Z"
      },
      {
        "duration": 35,
        "start_time": "2022-04-04T08:06:34.148Z"
      },
      {
        "duration": 45,
        "start_time": "2022-04-04T08:06:34.186Z"
      },
      {
        "duration": 631,
        "start_time": "2022-04-04T08:06:34.234Z"
      },
      {
        "duration": 42,
        "start_time": "2022-04-04T08:06:34.867Z"
      },
      {
        "duration": 10,
        "start_time": "2022-04-04T08:06:34.911Z"
      },
      {
        "duration": 10,
        "start_time": "2022-04-04T08:06:34.923Z"
      },
      {
        "duration": 40,
        "start_time": "2022-04-04T08:06:34.935Z"
      },
      {
        "duration": 8,
        "start_time": "2022-04-04T08:06:34.977Z"
      },
      {
        "duration": 28,
        "start_time": "2022-04-04T08:06:34.987Z"
      },
      {
        "duration": 440,
        "start_time": "2022-04-04T08:06:35.018Z"
      },
      {
        "duration": 18,
        "start_time": "2022-04-04T08:06:35.460Z"
      },
      {
        "duration": 299,
        "start_time": "2022-04-04T08:06:35.481Z"
      },
      {
        "duration": 14,
        "start_time": "2022-04-04T08:06:35.782Z"
      },
      {
        "duration": 13,
        "start_time": "2022-04-04T08:06:35.803Z"
      },
      {
        "duration": 11,
        "start_time": "2022-04-04T08:06:35.819Z"
      },
      {
        "duration": 262,
        "start_time": "2022-04-04T08:06:35.832Z"
      },
      {
        "duration": 6,
        "start_time": "2022-04-04T08:06:36.097Z"
      },
      {
        "duration": 378,
        "start_time": "2022-04-04T08:06:36.106Z"
      },
      {
        "duration": 9,
        "start_time": "2022-04-04T08:06:36.487Z"
      },
      {
        "duration": 28,
        "start_time": "2022-04-04T08:06:36.499Z"
      },
      {
        "duration": 322,
        "start_time": "2022-04-04T08:07:11.035Z"
      },
      {
        "duration": 5,
        "start_time": "2022-04-04T08:07:57.479Z"
      },
      {
        "duration": 154,
        "start_time": "2022-04-04T08:07:57.487Z"
      },
      {
        "duration": 53,
        "start_time": "2022-04-04T08:07:57.646Z"
      },
      {
        "duration": 26,
        "start_time": "2022-04-04T08:07:57.702Z"
      },
      {
        "duration": 45,
        "start_time": "2022-04-04T08:07:57.731Z"
      },
      {
        "duration": 13,
        "start_time": "2022-04-04T08:07:57.779Z"
      },
      {
        "duration": 40,
        "start_time": "2022-04-04T08:07:57.795Z"
      },
      {
        "duration": 94,
        "start_time": "2022-04-04T08:07:57.838Z"
      },
      {
        "duration": 13,
        "start_time": "2022-04-04T08:07:57.936Z"
      },
      {
        "duration": 38,
        "start_time": "2022-04-04T08:07:57.952Z"
      },
      {
        "duration": 32,
        "start_time": "2022-04-04T08:07:57.994Z"
      },
      {
        "duration": 33,
        "start_time": "2022-04-04T08:07:58.030Z"
      },
      {
        "duration": 580,
        "start_time": "2022-04-04T08:07:58.066Z"
      },
      {
        "duration": 43,
        "start_time": "2022-04-04T08:07:58.648Z"
      },
      {
        "duration": 596,
        "start_time": "2022-04-04T08:07:58.694Z"
      },
      {
        "duration": 23,
        "start_time": "2022-04-04T08:07:59.293Z"
      },
      {
        "duration": 77,
        "start_time": "2022-04-04T08:07:59.319Z"
      },
      {
        "duration": 742,
        "start_time": "2022-04-04T08:07:59.399Z"
      },
      {
        "duration": 54,
        "start_time": "2022-04-04T08:08:00.144Z"
      },
      {
        "duration": 12,
        "start_time": "2022-04-04T08:08:00.203Z"
      },
      {
        "duration": 28,
        "start_time": "2022-04-04T08:08:00.218Z"
      },
      {
        "duration": 28,
        "start_time": "2022-04-04T08:08:00.250Z"
      },
      {
        "duration": 27,
        "start_time": "2022-04-04T08:08:00.281Z"
      },
      {
        "duration": 39,
        "start_time": "2022-04-04T08:08:00.310Z"
      },
      {
        "duration": 493,
        "start_time": "2022-04-04T08:08:00.352Z"
      },
      {
        "duration": 12,
        "start_time": "2022-04-04T08:08:00.848Z"
      },
      {
        "duration": 234,
        "start_time": "2022-04-04T08:08:00.875Z"
      },
      {
        "duration": 16,
        "start_time": "2022-04-04T08:08:01.111Z"
      },
      {
        "duration": 56,
        "start_time": "2022-04-04T08:08:01.132Z"
      },
      {
        "duration": 36,
        "start_time": "2022-04-04T08:08:01.190Z"
      },
      {
        "duration": 249,
        "start_time": "2022-04-04T08:08:01.228Z"
      },
      {
        "duration": 7,
        "start_time": "2022-04-04T08:08:01.479Z"
      },
      {
        "duration": 505,
        "start_time": "2022-04-04T08:08:01.488Z"
      },
      {
        "duration": 7,
        "start_time": "2022-04-04T08:08:01.995Z"
      },
      {
        "duration": 62,
        "start_time": "2022-04-04T08:08:02.004Z"
      },
      {
        "duration": 38,
        "start_time": "2022-04-04T08:09:48.444Z"
      },
      {
        "duration": 9,
        "start_time": "2022-04-04T08:10:58.092Z"
      },
      {
        "duration": 9,
        "start_time": "2022-04-04T08:11:41.715Z"
      },
      {
        "duration": 192,
        "start_time": "2022-04-04T08:14:24.363Z"
      },
      {
        "duration": 7,
        "start_time": "2022-04-04T08:14:44.107Z"
      },
      {
        "duration": 184,
        "start_time": "2022-04-04T08:18:32.516Z"
      },
      {
        "duration": 187,
        "start_time": "2022-04-04T08:18:44.668Z"
      },
      {
        "duration": 184,
        "start_time": "2022-04-04T08:19:03.644Z"
      },
      {
        "duration": 184,
        "start_time": "2022-04-04T08:19:13.549Z"
      },
      {
        "duration": 223,
        "start_time": "2022-04-04T08:22:12.878Z"
      },
      {
        "duration": 223,
        "start_time": "2022-04-04T08:22:59.245Z"
      },
      {
        "duration": 188,
        "start_time": "2022-04-04T08:32:09.272Z"
      },
      {
        "duration": 14,
        "start_time": "2022-04-04T08:32:20.733Z"
      },
      {
        "duration": 6,
        "start_time": "2022-04-04T08:32:35.046Z"
      },
      {
        "duration": 1495,
        "start_time": "2022-04-04T08:37:45.779Z"
      },
      {
        "duration": 76,
        "start_time": "2022-04-04T08:37:47.277Z"
      },
      {
        "duration": 29,
        "start_time": "2022-04-04T08:37:47.355Z"
      },
      {
        "duration": 13,
        "start_time": "2022-04-04T08:37:47.386Z"
      },
      {
        "duration": 22,
        "start_time": "2022-04-04T08:37:47.401Z"
      },
      {
        "duration": 6,
        "start_time": "2022-04-04T08:37:47.425Z"
      },
      {
        "duration": 46,
        "start_time": "2022-04-04T08:37:47.433Z"
      },
      {
        "duration": 38,
        "start_time": "2022-04-04T08:37:47.481Z"
      },
      {
        "duration": 9,
        "start_time": "2022-04-04T08:37:47.522Z"
      },
      {
        "duration": 40,
        "start_time": "2022-04-04T08:37:47.535Z"
      },
      {
        "duration": 11,
        "start_time": "2022-04-04T08:37:47.578Z"
      },
      {
        "duration": 11,
        "start_time": "2022-04-04T08:37:47.592Z"
      },
      {
        "duration": 434,
        "start_time": "2022-04-04T08:37:47.606Z"
      },
      {
        "duration": 18,
        "start_time": "2022-04-04T08:37:48.043Z"
      },
      {
        "duration": 523,
        "start_time": "2022-04-04T08:37:48.074Z"
      },
      {
        "duration": 19,
        "start_time": "2022-04-04T08:37:48.599Z"
      },
      {
        "duration": 72,
        "start_time": "2022-04-04T08:37:48.620Z"
      },
      {
        "duration": 639,
        "start_time": "2022-04-04T08:37:48.694Z"
      },
      {
        "duration": 53,
        "start_time": "2022-04-04T08:37:49.335Z"
      },
      {
        "duration": 9,
        "start_time": "2022-04-04T08:37:49.390Z"
      },
      {
        "duration": 13,
        "start_time": "2022-04-04T08:37:49.401Z"
      },
      {
        "duration": 10,
        "start_time": "2022-04-04T08:37:49.416Z"
      },
      {
        "duration": 22,
        "start_time": "2022-04-04T08:37:49.428Z"
      },
      {
        "duration": 36,
        "start_time": "2022-04-04T08:37:49.452Z"
      },
      {
        "duration": 456,
        "start_time": "2022-04-04T08:37:49.490Z"
      },
      {
        "duration": 10,
        "start_time": "2022-04-04T08:37:49.948Z"
      },
      {
        "duration": 204,
        "start_time": "2022-04-04T08:37:49.961Z"
      },
      {
        "duration": 15,
        "start_time": "2022-04-04T08:37:50.174Z"
      },
      {
        "duration": 14,
        "start_time": "2022-04-04T08:37:50.191Z"
      },
      {
        "duration": 8,
        "start_time": "2022-04-04T08:37:50.207Z"
      },
      {
        "duration": 263,
        "start_time": "2022-04-04T08:37:50.217Z"
      },
      {
        "duration": 7,
        "start_time": "2022-04-04T08:37:50.482Z"
      },
      {
        "duration": 237,
        "start_time": "2022-04-04T08:37:50.492Z"
      },
      {
        "duration": 6,
        "start_time": "2022-04-04T08:37:50.731Z"
      },
      {
        "duration": 12,
        "start_time": "2022-04-04T08:37:50.740Z"
      },
      {
        "duration": 289,
        "start_time": "2022-04-04T08:37:50.754Z"
      },
      {
        "duration": 7,
        "start_time": "2022-04-04T08:37:51.045Z"
      },
      {
        "duration": 211,
        "start_time": "2022-04-04T08:37:51.054Z"
      },
      {
        "duration": 12,
        "start_time": "2022-04-04T08:37:51.267Z"
      },
      {
        "duration": 38,
        "start_time": "2022-04-04T08:43:37.569Z"
      },
      {
        "duration": 17,
        "start_time": "2022-04-04T08:43:54.329Z"
      },
      {
        "duration": 358,
        "start_time": "2022-04-04T08:49:13.585Z"
      },
      {
        "duration": 143,
        "start_time": "2022-04-04T08:49:50.177Z"
      },
      {
        "duration": 128,
        "start_time": "2022-04-04T08:50:00.440Z"
      },
      {
        "duration": 356,
        "start_time": "2022-04-04T08:50:49.402Z"
      },
      {
        "duration": 472,
        "start_time": "2022-04-04T08:51:34.729Z"
      },
      {
        "duration": 355,
        "start_time": "2022-04-04T08:52:16.258Z"
      },
      {
        "duration": 378,
        "start_time": "2022-04-04T08:53:41.066Z"
      },
      {
        "duration": 366,
        "start_time": "2022-04-04T08:54:19.427Z"
      },
      {
        "duration": 377,
        "start_time": "2022-04-04T08:56:25.683Z"
      },
      {
        "duration": 381,
        "start_time": "2022-04-04T09:02:08.003Z"
      },
      {
        "duration": 391,
        "start_time": "2022-04-04T09:02:28.012Z"
      },
      {
        "duration": 452,
        "start_time": "2022-04-04T09:02:45.916Z"
      },
      {
        "duration": 387,
        "start_time": "2022-04-04T09:02:58.772Z"
      },
      {
        "duration": 1582,
        "start_time": "2022-04-04T12:26:27.927Z"
      },
      {
        "duration": 77,
        "start_time": "2022-04-04T12:26:29.512Z"
      },
      {
        "duration": 20,
        "start_time": "2022-04-04T12:26:29.591Z"
      },
      {
        "duration": 12,
        "start_time": "2022-04-04T12:26:29.614Z"
      },
      {
        "duration": 49,
        "start_time": "2022-04-04T12:26:29.628Z"
      },
      {
        "duration": 6,
        "start_time": "2022-04-04T12:26:29.679Z"
      },
      {
        "duration": 16,
        "start_time": "2022-04-04T12:26:29.687Z"
      },
      {
        "duration": 39,
        "start_time": "2022-04-04T12:26:29.705Z"
      },
      {
        "duration": 10,
        "start_time": "2022-04-04T12:26:29.774Z"
      },
      {
        "duration": 7,
        "start_time": "2022-04-04T12:26:29.787Z"
      },
      {
        "duration": 11,
        "start_time": "2022-04-04T12:26:29.796Z"
      },
      {
        "duration": 11,
        "start_time": "2022-04-04T12:26:29.810Z"
      },
      {
        "duration": 461,
        "start_time": "2022-04-04T12:26:29.823Z"
      },
      {
        "duration": 19,
        "start_time": "2022-04-04T12:26:30.286Z"
      },
      {
        "duration": 554,
        "start_time": "2022-04-04T12:26:30.307Z"
      },
      {
        "duration": 24,
        "start_time": "2022-04-04T12:26:30.863Z"
      },
      {
        "duration": 48,
        "start_time": "2022-04-04T12:26:30.889Z"
      },
      {
        "duration": 669,
        "start_time": "2022-04-04T12:26:30.939Z"
      },
      {
        "duration": 40,
        "start_time": "2022-04-04T12:26:31.610Z"
      },
      {
        "duration": 29,
        "start_time": "2022-04-04T12:26:31.653Z"
      },
      {
        "duration": 14,
        "start_time": "2022-04-04T12:26:31.684Z"
      },
      {
        "duration": 21,
        "start_time": "2022-04-04T12:26:31.700Z"
      },
      {
        "duration": 15,
        "start_time": "2022-04-04T12:26:31.723Z"
      },
      {
        "duration": 42,
        "start_time": "2022-04-04T12:26:31.740Z"
      },
      {
        "duration": 502,
        "start_time": "2022-04-04T12:26:31.784Z"
      },
      {
        "duration": 11,
        "start_time": "2022-04-04T12:26:32.289Z"
      },
      {
        "duration": 206,
        "start_time": "2022-04-04T12:26:32.302Z"
      },
      {
        "duration": 14,
        "start_time": "2022-04-04T12:26:32.514Z"
      },
      {
        "duration": 16,
        "start_time": "2022-04-04T12:26:32.531Z"
      },
      {
        "duration": 35,
        "start_time": "2022-04-04T12:26:32.550Z"
      },
      {
        "duration": 251,
        "start_time": "2022-04-04T12:26:32.587Z"
      },
      {
        "duration": 9,
        "start_time": "2022-04-04T12:26:32.841Z"
      },
      {
        "duration": 245,
        "start_time": "2022-04-04T12:26:32.852Z"
      },
      {
        "duration": 8,
        "start_time": "2022-04-04T12:26:33.100Z"
      },
      {
        "duration": 11,
        "start_time": "2022-04-04T12:26:33.110Z"
      },
      {
        "duration": 311,
        "start_time": "2022-04-04T12:26:33.124Z"
      },
      {
        "duration": 8,
        "start_time": "2022-04-04T12:26:33.438Z"
      },
      {
        "duration": 212,
        "start_time": "2022-04-04T12:26:33.448Z"
      },
      {
        "duration": 12,
        "start_time": "2022-04-04T12:26:33.663Z"
      },
      {
        "duration": 404,
        "start_time": "2022-04-04T12:26:33.677Z"
      },
      {
        "duration": 380,
        "start_time": "2022-04-04T12:59:26.922Z"
      },
      {
        "duration": 1845,
        "start_time": "2022-04-04T18:37:00.271Z"
      },
      {
        "duration": 103,
        "start_time": "2022-04-04T18:37:02.119Z"
      },
      {
        "duration": 29,
        "start_time": "2022-04-04T18:37:02.224Z"
      },
      {
        "duration": 40,
        "start_time": "2022-04-04T18:37:02.258Z"
      },
      {
        "duration": 42,
        "start_time": "2022-04-04T18:37:02.300Z"
      },
      {
        "duration": 8,
        "start_time": "2022-04-04T18:37:02.344Z"
      },
      {
        "duration": 49,
        "start_time": "2022-04-04T18:37:02.355Z"
      },
      {
        "duration": 40,
        "start_time": "2022-04-04T18:37:02.407Z"
      },
      {
        "duration": 13,
        "start_time": "2022-04-04T18:37:02.450Z"
      },
      {
        "duration": 22,
        "start_time": "2022-04-04T18:37:02.468Z"
      },
      {
        "duration": 11,
        "start_time": "2022-04-04T18:37:02.492Z"
      },
      {
        "duration": 14,
        "start_time": "2022-04-04T18:37:02.505Z"
      },
      {
        "duration": 442,
        "start_time": "2022-04-04T18:37:02.522Z"
      },
      {
        "duration": 34,
        "start_time": "2022-04-04T18:37:02.967Z"
      },
      {
        "duration": 731,
        "start_time": "2022-04-04T18:37:03.003Z"
      },
      {
        "duration": 22,
        "start_time": "2022-04-04T18:37:03.737Z"
      },
      {
        "duration": 66,
        "start_time": "2022-04-04T18:37:03.762Z"
      },
      {
        "duration": 986,
        "start_time": "2022-04-04T18:37:03.831Z"
      },
      {
        "duration": 71,
        "start_time": "2022-04-04T18:37:04.820Z"
      },
      {
        "duration": 11,
        "start_time": "2022-04-04T18:37:04.893Z"
      },
      {
        "duration": 11,
        "start_time": "2022-04-04T18:37:04.906Z"
      },
      {
        "duration": 13,
        "start_time": "2022-04-04T18:37:04.919Z"
      },
      {
        "duration": 53,
        "start_time": "2022-04-04T18:37:04.935Z"
      },
      {
        "duration": 27,
        "start_time": "2022-04-04T18:37:04.991Z"
      },
      {
        "duration": 558,
        "start_time": "2022-04-04T18:37:05.021Z"
      },
      {
        "duration": 10,
        "start_time": "2022-04-04T18:37:05.583Z"
      },
      {
        "duration": 224,
        "start_time": "2022-04-04T18:37:05.595Z"
      },
      {
        "duration": 15,
        "start_time": "2022-04-04T18:37:05.824Z"
      },
      {
        "duration": 41,
        "start_time": "2022-04-04T18:37:05.841Z"
      },
      {
        "duration": 11,
        "start_time": "2022-04-04T18:37:05.885Z"
      },
      {
        "duration": 252,
        "start_time": "2022-04-04T18:37:05.900Z"
      },
      {
        "duration": 7,
        "start_time": "2022-04-04T18:37:06.155Z"
      },
      {
        "duration": 278,
        "start_time": "2022-04-04T18:37:06.164Z"
      },
      {
        "duration": 7,
        "start_time": "2022-04-04T18:37:06.444Z"
      },
      {
        "duration": 32,
        "start_time": "2022-04-04T18:37:06.453Z"
      },
      {
        "duration": 301,
        "start_time": "2022-04-04T18:37:06.488Z"
      },
      {
        "duration": 8,
        "start_time": "2022-04-04T18:37:06.792Z"
      },
      {
        "duration": 269,
        "start_time": "2022-04-04T18:37:06.803Z"
      },
      {
        "duration": 13,
        "start_time": "2022-04-04T18:37:07.074Z"
      },
      {
        "duration": 420,
        "start_time": "2022-04-04T18:37:07.089Z"
      },
      {
        "duration": 439,
        "start_time": "2022-04-04T18:37:07.513Z"
      },
      {
        "duration": 146,
        "start_time": "2022-04-04T18:47:09.927Z"
      },
      {
        "duration": 35,
        "start_time": "2022-04-04T18:55:11.861Z"
      },
      {
        "duration": 25,
        "start_time": "2022-04-04T18:57:27.096Z"
      },
      {
        "duration": 25,
        "start_time": "2022-04-04T18:58:46.680Z"
      },
      {
        "duration": 35,
        "start_time": "2022-04-04T19:02:01.262Z"
      },
      {
        "duration": 23,
        "start_time": "2022-04-04T19:02:11.825Z"
      },
      {
        "duration": 23,
        "start_time": "2022-04-04T19:02:28.871Z"
      },
      {
        "duration": 12,
        "start_time": "2022-04-04T19:03:09.133Z"
      },
      {
        "duration": 11,
        "start_time": "2022-04-04T19:03:31.552Z"
      },
      {
        "duration": 183,
        "start_time": "2022-04-04T19:04:05.970Z"
      },
      {
        "duration": 5,
        "start_time": "2022-04-04T19:04:36.038Z"
      },
      {
        "duration": 137,
        "start_time": "2022-04-04T19:04:36.047Z"
      },
      {
        "duration": 32,
        "start_time": "2022-04-04T19:04:36.187Z"
      },
      {
        "duration": 19,
        "start_time": "2022-04-04T19:04:36.223Z"
      },
      {
        "duration": 65,
        "start_time": "2022-04-04T19:04:36.245Z"
      },
      {
        "duration": 9,
        "start_time": "2022-04-04T19:04:36.313Z"
      },
      {
        "duration": 16,
        "start_time": "2022-04-04T19:04:36.325Z"
      },
      {
        "duration": 87,
        "start_time": "2022-04-04T19:04:36.344Z"
      },
      {
        "duration": 13,
        "start_time": "2022-04-04T19:04:36.438Z"
      },
      {
        "duration": 11,
        "start_time": "2022-04-04T19:04:36.482Z"
      },
      {
        "duration": 8,
        "start_time": "2022-04-04T19:04:36.496Z"
      },
      {
        "duration": 17,
        "start_time": "2022-04-04T19:04:36.507Z"
      },
      {
        "duration": 750,
        "start_time": "2022-04-04T19:04:36.527Z"
      },
      {
        "duration": 32,
        "start_time": "2022-04-04T19:04:37.283Z"
      },
      {
        "duration": 784,
        "start_time": "2022-04-04T19:04:37.319Z"
      },
      {
        "duration": 25,
        "start_time": "2022-04-04T19:04:38.106Z"
      },
      {
        "duration": 94,
        "start_time": "2022-04-04T19:04:38.135Z"
      },
      {
        "duration": 885,
        "start_time": "2022-04-04T19:04:38.232Z"
      },
      {
        "duration": 64,
        "start_time": "2022-04-04T19:04:39.120Z"
      },
      {
        "duration": 13,
        "start_time": "2022-04-04T19:04:39.187Z"
      },
      {
        "duration": 11,
        "start_time": "2022-04-04T19:04:39.202Z"
      },
      {
        "duration": 12,
        "start_time": "2022-04-04T19:04:39.215Z"
      },
      {
        "duration": 10,
        "start_time": "2022-04-04T19:04:39.230Z"
      },
      {
        "duration": 55,
        "start_time": "2022-04-04T19:04:39.245Z"
      },
      {
        "duration": 447,
        "start_time": "2022-04-04T19:04:39.302Z"
      },
      {
        "duration": 11,
        "start_time": "2022-04-04T19:04:39.753Z"
      },
      {
        "duration": 287,
        "start_time": "2022-04-04T19:04:39.782Z"
      },
      {
        "duration": 21,
        "start_time": "2022-04-04T19:04:40.071Z"
      },
      {
        "duration": 13,
        "start_time": "2022-04-04T19:04:40.095Z"
      },
      {
        "duration": 9,
        "start_time": "2022-04-04T19:04:40.111Z"
      },
      {
        "duration": 246,
        "start_time": "2022-04-04T19:04:40.122Z"
      },
      {
        "duration": 13,
        "start_time": "2022-04-04T19:04:40.371Z"
      },
      {
        "duration": 357,
        "start_time": "2022-04-04T19:04:40.387Z"
      },
      {
        "duration": 9,
        "start_time": "2022-04-04T19:04:40.747Z"
      },
      {
        "duration": 31,
        "start_time": "2022-04-04T19:04:40.759Z"
      },
      {
        "duration": 318,
        "start_time": "2022-04-04T19:04:40.794Z"
      },
      {
        "duration": 9,
        "start_time": "2022-04-04T19:04:41.115Z"
      },
      {
        "duration": 313,
        "start_time": "2022-04-04T19:04:41.127Z"
      },
      {
        "duration": 11,
        "start_time": "2022-04-04T19:04:41.443Z"
      },
      {
        "duration": 389,
        "start_time": "2022-04-04T19:04:41.456Z"
      },
      {
        "duration": 36,
        "start_time": "2022-04-04T19:04:41.847Z"
      },
      {
        "duration": 184,
        "start_time": "2022-04-04T19:04:41.885Z"
      },
      {
        "duration": 11,
        "start_time": "2022-04-04T19:05:12.810Z"
      },
      {
        "duration": 172,
        "start_time": "2022-04-04T19:05:36.337Z"
      },
      {
        "duration": 142,
        "start_time": "2022-04-04T19:08:46.197Z"
      },
      {
        "duration": 29,
        "start_time": "2022-04-04T19:09:14.464Z"
      },
      {
        "duration": 6,
        "start_time": "2022-04-04T19:10:29.755Z"
      },
      {
        "duration": 278,
        "start_time": "2022-04-04T19:10:44.484Z"
      },
      {
        "duration": 529,
        "start_time": "2022-04-04T19:11:03.671Z"
      },
      {
        "duration": 9,
        "start_time": "2022-04-04T19:20:09.026Z"
      },
      {
        "duration": 23,
        "start_time": "2022-04-04T19:21:30.386Z"
      },
      {
        "duration": 37,
        "start_time": "2022-04-04T19:23:04.822Z"
      },
      {
        "duration": 40,
        "start_time": "2022-04-04T19:24:45.573Z"
      },
      {
        "duration": 39,
        "start_time": "2022-04-04T19:25:22.342Z"
      },
      {
        "duration": 45,
        "start_time": "2022-04-04T19:25:28.694Z"
      },
      {
        "duration": 7,
        "start_time": "2022-04-04T19:26:02.255Z"
      },
      {
        "duration": 413,
        "start_time": "2022-04-04T19:26:08.972Z"
      },
      {
        "duration": 143,
        "start_time": "2022-04-04T19:34:30.635Z"
      },
      {
        "duration": 10,
        "start_time": "2022-04-04T19:34:35.834Z"
      },
      {
        "duration": 35,
        "start_time": "2022-04-04T19:35:08.477Z"
      },
      {
        "duration": 14,
        "start_time": "2022-04-04T19:36:27.719Z"
      },
      {
        "duration": 17,
        "start_time": "2022-04-04T19:36:48.083Z"
      },
      {
        "duration": 6,
        "start_time": "2022-04-04T19:37:17.039Z"
      },
      {
        "duration": 10,
        "start_time": "2022-04-04T19:37:19.910Z"
      },
      {
        "duration": 11,
        "start_time": "2022-04-04T19:37:38.648Z"
      },
      {
        "duration": 10,
        "start_time": "2022-04-04T19:38:09.593Z"
      },
      {
        "duration": 18,
        "start_time": "2022-04-04T19:38:22.746Z"
      },
      {
        "duration": 18,
        "start_time": "2022-04-04T19:38:36.356Z"
      },
      {
        "duration": 18,
        "start_time": "2022-04-04T19:38:44.251Z"
      },
      {
        "duration": 21,
        "start_time": "2022-04-04T19:42:13.795Z"
      },
      {
        "duration": 16,
        "start_time": "2022-04-04T19:42:27.143Z"
      },
      {
        "duration": 11,
        "start_time": "2022-04-04T19:42:36.797Z"
      },
      {
        "duration": 12,
        "start_time": "2022-04-04T19:42:51.379Z"
      },
      {
        "duration": 18,
        "start_time": "2022-04-04T19:43:05.422Z"
      },
      {
        "duration": 17,
        "start_time": "2022-04-04T19:43:14.475Z"
      },
      {
        "duration": 26,
        "start_time": "2022-04-04T19:43:19.802Z"
      },
      {
        "duration": 123,
        "start_time": "2022-04-04T19:44:32.268Z"
      },
      {
        "duration": 27,
        "start_time": "2022-04-04T19:44:55.336Z"
      },
      {
        "duration": 38,
        "start_time": "2022-04-04T19:44:59.862Z"
      },
      {
        "duration": 340,
        "start_time": "2022-04-04T19:45:23.965Z"
      },
      {
        "duration": 35,
        "start_time": "2022-04-04T19:46:06.326Z"
      },
      {
        "duration": 137,
        "start_time": "2022-04-04T19:46:31.643Z"
      },
      {
        "duration": 367,
        "start_time": "2022-04-04T19:46:38.279Z"
      },
      {
        "duration": 345,
        "start_time": "2022-04-04T19:48:48.223Z"
      },
      {
        "duration": 512,
        "start_time": "2022-04-04T20:01:26.151Z"
      },
      {
        "duration": 4,
        "start_time": "2022-04-04T20:01:48.365Z"
      },
      {
        "duration": 86,
        "start_time": "2022-04-04T20:01:48.372Z"
      },
      {
        "duration": 27,
        "start_time": "2022-04-04T20:01:48.461Z"
      },
      {
        "duration": 13,
        "start_time": "2022-04-04T20:01:48.490Z"
      },
      {
        "duration": 33,
        "start_time": "2022-04-04T20:01:48.507Z"
      },
      {
        "duration": 6,
        "start_time": "2022-04-04T20:01:48.542Z"
      },
      {
        "duration": 42,
        "start_time": "2022-04-04T20:01:48.550Z"
      },
      {
        "duration": 52,
        "start_time": "2022-04-04T20:01:48.595Z"
      },
      {
        "duration": 9,
        "start_time": "2022-04-04T20:01:48.649Z"
      },
      {
        "duration": 10,
        "start_time": "2022-04-04T20:01:48.682Z"
      },
      {
        "duration": 6,
        "start_time": "2022-04-04T20:01:48.696Z"
      },
      {
        "duration": 15,
        "start_time": "2022-04-04T20:01:48.704Z"
      },
      {
        "duration": 430,
        "start_time": "2022-04-04T20:01:48.721Z"
      },
      {
        "duration": 31,
        "start_time": "2022-04-04T20:01:49.154Z"
      },
      {
        "duration": 496,
        "start_time": "2022-04-04T20:01:49.188Z"
      },
      {
        "duration": 18,
        "start_time": "2022-04-04T20:01:49.687Z"
      },
      {
        "duration": 44,
        "start_time": "2022-04-04T20:01:49.707Z"
      },
      {
        "duration": 636,
        "start_time": "2022-04-04T20:01:49.754Z"
      },
      {
        "duration": 37,
        "start_time": "2022-04-04T20:01:50.393Z"
      },
      {
        "duration": 10,
        "start_time": "2022-04-04T20:01:50.433Z"
      },
      {
        "duration": 37,
        "start_time": "2022-04-04T20:01:50.445Z"
      },
      {
        "duration": 534,
        "start_time": "2022-04-04T20:01:50.484Z"
      },
      {
        "duration": 26,
        "start_time": "2022-04-04T20:05:13.556Z"
      },
      {
        "duration": 67,
        "start_time": "2022-04-04T20:05:33.367Z"
      },
      {
        "duration": 5,
        "start_time": "2022-04-04T20:07:52.271Z"
      },
      {
        "duration": 80,
        "start_time": "2022-04-04T20:07:52.278Z"
      },
      {
        "duration": 36,
        "start_time": "2022-04-04T20:07:52.360Z"
      },
      {
        "duration": 13,
        "start_time": "2022-04-04T20:07:52.399Z"
      },
      {
        "duration": 23,
        "start_time": "2022-04-04T20:07:52.414Z"
      },
      {
        "duration": 44,
        "start_time": "2022-04-04T20:07:52.440Z"
      },
      {
        "duration": 12,
        "start_time": "2022-04-04T20:07:52.487Z"
      },
      {
        "duration": 38,
        "start_time": "2022-04-04T20:07:52.502Z"
      },
      {
        "duration": 50,
        "start_time": "2022-04-04T20:07:52.544Z"
      },
      {
        "duration": 9,
        "start_time": "2022-04-04T20:07:52.597Z"
      },
      {
        "duration": 8,
        "start_time": "2022-04-04T20:07:52.609Z"
      },
      {
        "duration": 13,
        "start_time": "2022-04-04T20:07:52.620Z"
      },
      {
        "duration": 430,
        "start_time": "2022-04-04T20:07:52.636Z"
      },
      {
        "duration": 27,
        "start_time": "2022-04-04T20:07:53.069Z"
      },
      {
        "duration": 492,
        "start_time": "2022-04-04T20:07:53.098Z"
      },
      {
        "duration": 20,
        "start_time": "2022-04-04T20:07:53.592Z"
      },
      {
        "duration": 69,
        "start_time": "2022-04-04T20:07:53.614Z"
      },
      {
        "duration": 697,
        "start_time": "2022-04-04T20:07:53.685Z"
      },
      {
        "duration": 37,
        "start_time": "2022-04-04T20:07:54.384Z"
      },
      {
        "duration": 9,
        "start_time": "2022-04-04T20:07:54.423Z"
      },
      {
        "duration": 51,
        "start_time": "2022-04-04T20:07:54.434Z"
      },
      {
        "duration": 505,
        "start_time": "2022-04-04T20:07:54.487Z"
      },
      {
        "duration": 2306,
        "start_time": "2022-04-04T20:08:07.697Z"
      },
      {
        "duration": 46,
        "start_time": "2022-04-04T20:09:13.867Z"
      },
      {
        "duration": 7,
        "start_time": "2022-04-04T20:11:04.930Z"
      },
      {
        "duration": 8,
        "start_time": "2022-04-04T20:11:12.286Z"
      },
      {
        "duration": 8,
        "start_time": "2022-04-04T20:13:31.525Z"
      },
      {
        "duration": 11,
        "start_time": "2022-04-04T20:13:36.966Z"
      },
      {
        "duration": 8,
        "start_time": "2022-04-04T20:13:58.716Z"
      },
      {
        "duration": 3,
        "start_time": "2022-04-04T20:14:04.436Z"
      },
      {
        "duration": 73,
        "start_time": "2022-04-04T20:14:04.442Z"
      },
      {
        "duration": 20,
        "start_time": "2022-04-04T20:14:04.517Z"
      },
      {
        "duration": 44,
        "start_time": "2022-04-04T20:14:04.540Z"
      },
      {
        "duration": 23,
        "start_time": "2022-04-04T20:14:04.586Z"
      },
      {
        "duration": 7,
        "start_time": "2022-04-04T20:14:04.611Z"
      },
      {
        "duration": 12,
        "start_time": "2022-04-04T20:14:04.620Z"
      },
      {
        "duration": 76,
        "start_time": "2022-04-04T20:14:04.635Z"
      },
      {
        "duration": 10,
        "start_time": "2022-04-04T20:14:04.715Z"
      },
      {
        "duration": 9,
        "start_time": "2022-04-04T20:14:04.727Z"
      },
      {
        "duration": 8,
        "start_time": "2022-04-04T20:14:04.738Z"
      },
      {
        "duration": 44,
        "start_time": "2022-04-04T20:14:04.748Z"
      },
      {
        "duration": 425,
        "start_time": "2022-04-04T20:14:04.794Z"
      },
      {
        "duration": 21,
        "start_time": "2022-04-04T20:14:05.222Z"
      },
      {
        "duration": 499,
        "start_time": "2022-04-04T20:14:05.245Z"
      },
      {
        "duration": 36,
        "start_time": "2022-04-04T20:14:05.747Z"
      },
      {
        "duration": 47,
        "start_time": "2022-04-04T20:14:05.785Z"
      },
      {
        "duration": 651,
        "start_time": "2022-04-04T20:14:05.835Z"
      },
      {
        "duration": 40,
        "start_time": "2022-04-04T20:14:06.488Z"
      },
      {
        "duration": 11,
        "start_time": "2022-04-04T20:14:06.530Z"
      },
      {
        "duration": 39,
        "start_time": "2022-04-04T20:14:06.543Z"
      },
      {
        "duration": 10,
        "start_time": "2022-04-04T20:14:06.585Z"
      },
      {
        "duration": 15,
        "start_time": "2022-04-04T20:14:06.598Z"
      },
      {
        "duration": 22,
        "start_time": "2022-04-04T20:14:06.619Z"
      },
      {
        "duration": 432,
        "start_time": "2022-04-04T20:14:06.643Z"
      },
      {
        "duration": 5,
        "start_time": "2022-04-04T20:14:44.078Z"
      },
      {
        "duration": 98,
        "start_time": "2022-04-04T20:14:44.086Z"
      },
      {
        "duration": 21,
        "start_time": "2022-04-04T20:14:44.186Z"
      },
      {
        "duration": 12,
        "start_time": "2022-04-04T20:14:44.210Z"
      },
      {
        "duration": 63,
        "start_time": "2022-04-04T20:14:44.224Z"
      },
      {
        "duration": 6,
        "start_time": "2022-04-04T20:14:44.289Z"
      },
      {
        "duration": 15,
        "start_time": "2022-04-04T20:14:44.298Z"
      },
      {
        "duration": 41,
        "start_time": "2022-04-04T20:14:44.316Z"
      },
      {
        "duration": 10,
        "start_time": "2022-04-04T20:14:44.384Z"
      },
      {
        "duration": 8,
        "start_time": "2022-04-04T20:14:44.396Z"
      },
      {
        "duration": 10,
        "start_time": "2022-04-04T20:14:44.406Z"
      },
      {
        "duration": 18,
        "start_time": "2022-04-04T20:14:44.418Z"
      },
      {
        "duration": 453,
        "start_time": "2022-04-04T20:14:44.439Z"
      },
      {
        "duration": 20,
        "start_time": "2022-04-04T20:14:44.894Z"
      },
      {
        "duration": 512,
        "start_time": "2022-04-04T20:14:44.917Z"
      },
      {
        "duration": 19,
        "start_time": "2022-04-04T20:14:45.432Z"
      },
      {
        "duration": 66,
        "start_time": "2022-04-04T20:14:45.454Z"
      },
      {
        "duration": 632,
        "start_time": "2022-04-04T20:14:45.523Z"
      },
      {
        "duration": 47,
        "start_time": "2022-04-04T20:14:46.158Z"
      },
      {
        "duration": 10,
        "start_time": "2022-04-04T20:14:46.207Z"
      },
      {
        "duration": 9,
        "start_time": "2022-04-04T20:14:46.219Z"
      },
      {
        "duration": 9,
        "start_time": "2022-04-04T20:14:46.231Z"
      },
      {
        "duration": 45,
        "start_time": "2022-04-04T20:14:46.242Z"
      },
      {
        "duration": 18,
        "start_time": "2022-04-04T20:14:46.291Z"
      },
      {
        "duration": 391,
        "start_time": "2022-04-04T20:14:46.311Z"
      },
      {
        "duration": 10,
        "start_time": "2022-04-04T20:14:46.705Z"
      },
      {
        "duration": 308,
        "start_time": "2022-04-04T20:14:46.717Z"
      },
      {
        "duration": 4,
        "start_time": "2022-04-04T20:15:54.022Z"
      },
      {
        "duration": 74,
        "start_time": "2022-04-04T20:15:54.029Z"
      },
      {
        "duration": 20,
        "start_time": "2022-04-04T20:15:54.105Z"
      },
      {
        "duration": 15,
        "start_time": "2022-04-04T20:15:54.129Z"
      },
      {
        "duration": 55,
        "start_time": "2022-04-04T20:15:54.146Z"
      },
      {
        "duration": 7,
        "start_time": "2022-04-04T20:15:54.203Z"
      },
      {
        "duration": 12,
        "start_time": "2022-04-04T20:15:54.213Z"
      },
      {
        "duration": 72,
        "start_time": "2022-04-04T20:15:54.227Z"
      },
      {
        "duration": 10,
        "start_time": "2022-04-04T20:15:54.303Z"
      },
      {
        "duration": 10,
        "start_time": "2022-04-04T20:15:54.315Z"
      },
      {
        "duration": 7,
        "start_time": "2022-04-04T20:15:54.328Z"
      },
      {
        "duration": 52,
        "start_time": "2022-04-04T20:15:54.337Z"
      },
      {
        "duration": 412,
        "start_time": "2022-04-04T20:15:54.392Z"
      },
      {
        "duration": 22,
        "start_time": "2022-04-04T20:15:54.806Z"
      },
      {
        "duration": 519,
        "start_time": "2022-04-04T20:15:54.830Z"
      },
      {
        "duration": 19,
        "start_time": "2022-04-04T20:15:55.351Z"
      },
      {
        "duration": 45,
        "start_time": "2022-04-04T20:15:55.382Z"
      },
      {
        "duration": 643,
        "start_time": "2022-04-04T20:15:55.429Z"
      },
      {
        "duration": 43,
        "start_time": "2022-04-04T20:15:56.075Z"
      },
      {
        "duration": 10,
        "start_time": "2022-04-04T20:15:56.120Z"
      },
      {
        "duration": 9,
        "start_time": "2022-04-04T20:15:56.133Z"
      },
      {
        "duration": 40,
        "start_time": "2022-04-04T20:15:56.144Z"
      },
      {
        "duration": 11,
        "start_time": "2022-04-04T20:15:56.186Z"
      },
      {
        "duration": 21,
        "start_time": "2022-04-04T20:15:56.202Z"
      },
      {
        "duration": 397,
        "start_time": "2022-04-04T20:15:56.225Z"
      },
      {
        "duration": 10,
        "start_time": "2022-04-04T20:15:56.625Z"
      },
      {
        "duration": 296,
        "start_time": "2022-04-04T20:15:56.638Z"
      },
      {
        "duration": 20,
        "start_time": "2022-04-04T20:15:56.937Z"
      },
      {
        "duration": 33,
        "start_time": "2022-04-04T20:15:56.959Z"
      },
      {
        "duration": 10,
        "start_time": "2022-04-04T20:15:56.995Z"
      },
      {
        "duration": 223,
        "start_time": "2022-04-04T20:15:57.008Z"
      },
      {
        "duration": 6,
        "start_time": "2022-04-04T20:15:57.234Z"
      },
      {
        "duration": 256,
        "start_time": "2022-04-04T20:15:57.243Z"
      },
      {
        "duration": 6,
        "start_time": "2022-04-04T20:15:57.502Z"
      },
      {
        "duration": 9,
        "start_time": "2022-04-04T20:15:57.511Z"
      },
      {
        "duration": 213,
        "start_time": "2022-04-04T20:15:57.523Z"
      },
      {
        "duration": 7,
        "start_time": "2022-04-04T20:15:57.738Z"
      },
      {
        "duration": 198,
        "start_time": "2022-04-04T20:15:57.747Z"
      },
      {
        "duration": 7,
        "start_time": "2022-04-04T20:15:57.947Z"
      },
      {
        "duration": 372,
        "start_time": "2022-04-04T20:15:57.956Z"
      },
      {
        "duration": 4,
        "start_time": "2022-04-04T20:16:42.721Z"
      },
      {
        "duration": 70,
        "start_time": "2022-04-04T20:16:42.728Z"
      },
      {
        "duration": 25,
        "start_time": "2022-04-04T20:16:42.803Z"
      },
      {
        "duration": 58,
        "start_time": "2022-04-04T20:16:42.831Z"
      },
      {
        "duration": 30,
        "start_time": "2022-04-04T20:16:42.893Z"
      },
      {
        "duration": 8,
        "start_time": "2022-04-04T20:16:42.926Z"
      },
      {
        "duration": 50,
        "start_time": "2022-04-04T20:16:42.937Z"
      },
      {
        "duration": 38,
        "start_time": "2022-04-04T20:16:42.989Z"
      },
      {
        "duration": 9,
        "start_time": "2022-04-04T20:16:43.029Z"
      },
      {
        "duration": 9,
        "start_time": "2022-04-04T20:16:43.041Z"
      },
      {
        "duration": 6,
        "start_time": "2022-04-04T20:16:43.083Z"
      },
      {
        "duration": 137,
        "start_time": "2022-04-04T20:16:43.092Z"
      },
      {
        "duration": 416,
        "start_time": "2022-04-04T20:16:43.232Z"
      },
      {
        "duration": 32,
        "start_time": "2022-04-04T20:16:43.651Z"
      },
      {
        "duration": 498,
        "start_time": "2022-04-04T20:16:43.686Z"
      },
      {
        "duration": 21,
        "start_time": "2022-04-04T20:16:44.187Z"
      },
      {
        "duration": 72,
        "start_time": "2022-04-04T20:16:44.211Z"
      },
      {
        "duration": 592,
        "start_time": "2022-04-04T20:16:44.286Z"
      },
      {
        "duration": 37,
        "start_time": "2022-04-04T20:16:44.884Z"
      },
      {
        "duration": 11,
        "start_time": "2022-04-04T20:16:44.924Z"
      },
      {
        "duration": 10,
        "start_time": "2022-04-04T20:16:44.938Z"
      },
      {
        "duration": 13,
        "start_time": "2022-04-04T20:16:44.983Z"
      },
      {
        "duration": 22,
        "start_time": "2022-04-04T20:16:44.999Z"
      },
      {
        "duration": 28,
        "start_time": "2022-04-04T20:16:45.023Z"
      },
      {
        "duration": 389,
        "start_time": "2022-04-04T20:16:45.053Z"
      },
      {
        "duration": 11,
        "start_time": "2022-04-04T20:16:45.444Z"
      },
      {
        "duration": 202,
        "start_time": "2022-04-04T20:16:45.457Z"
      },
      {
        "duration": 27,
        "start_time": "2022-04-04T20:16:45.661Z"
      },
      {
        "duration": 17,
        "start_time": "2022-04-04T20:16:45.695Z"
      },
      {
        "duration": 10,
        "start_time": "2022-04-04T20:16:45.715Z"
      },
      {
        "duration": 223,
        "start_time": "2022-04-04T20:16:45.727Z"
      },
      {
        "duration": 7,
        "start_time": "2022-04-04T20:16:45.952Z"
      },
      {
        "duration": 208,
        "start_time": "2022-04-04T20:16:45.982Z"
      },
      {
        "duration": 7,
        "start_time": "2022-04-04T20:16:46.194Z"
      },
      {
        "duration": 12,
        "start_time": "2022-04-04T20:16:46.203Z"
      },
      {
        "duration": 230,
        "start_time": "2022-04-04T20:16:46.217Z"
      },
      {
        "duration": 8,
        "start_time": "2022-04-04T20:16:46.450Z"
      },
      {
        "duration": 203,
        "start_time": "2022-04-04T20:16:46.461Z"
      },
      {
        "duration": 7,
        "start_time": "2022-04-04T20:16:46.666Z"
      },
      {
        "duration": 372,
        "start_time": "2022-04-04T20:16:46.675Z"
      },
      {
        "duration": 591,
        "start_time": "2022-04-04T20:16:47.050Z"
      },
      {
        "duration": 15,
        "start_time": "2022-04-04T20:21:35.766Z"
      },
      {
        "duration": 14,
        "start_time": "2022-04-04T20:21:39.291Z"
      },
      {
        "duration": 1768,
        "start_time": "2022-04-05T06:07:22.248Z"
      },
      {
        "duration": 77,
        "start_time": "2022-04-05T06:07:24.019Z"
      },
      {
        "duration": 23,
        "start_time": "2022-04-05T06:07:24.098Z"
      },
      {
        "duration": 13,
        "start_time": "2022-04-05T06:07:24.125Z"
      },
      {
        "duration": 52,
        "start_time": "2022-04-05T06:07:24.141Z"
      },
      {
        "duration": 8,
        "start_time": "2022-04-05T06:07:24.196Z"
      },
      {
        "duration": 15,
        "start_time": "2022-04-05T06:07:24.206Z"
      },
      {
        "duration": 74,
        "start_time": "2022-04-05T06:07:24.223Z"
      },
      {
        "duration": 10,
        "start_time": "2022-04-05T06:07:24.300Z"
      },
      {
        "duration": 9,
        "start_time": "2022-04-05T06:07:24.315Z"
      },
      {
        "duration": 10,
        "start_time": "2022-04-05T06:07:24.326Z"
      },
      {
        "duration": 49,
        "start_time": "2022-04-05T06:07:24.338Z"
      },
      {
        "duration": 394,
        "start_time": "2022-04-05T06:07:24.390Z"
      },
      {
        "duration": 18,
        "start_time": "2022-04-05T06:07:24.786Z"
      },
      {
        "duration": 492,
        "start_time": "2022-04-05T06:07:24.806Z"
      },
      {
        "duration": 18,
        "start_time": "2022-04-05T06:07:25.300Z"
      },
      {
        "duration": 64,
        "start_time": "2022-04-05T06:07:25.320Z"
      },
      {
        "duration": 602,
        "start_time": "2022-04-05T06:07:25.386Z"
      },
      {
        "duration": 36,
        "start_time": "2022-04-05T06:07:25.990Z"
      },
      {
        "duration": 9,
        "start_time": "2022-04-05T06:07:26.028Z"
      },
      {
        "duration": 17,
        "start_time": "2022-04-05T06:07:26.040Z"
      },
      {
        "duration": 28,
        "start_time": "2022-04-05T06:07:26.059Z"
      },
      {
        "duration": 8,
        "start_time": "2022-04-05T06:07:26.089Z"
      },
      {
        "duration": 33,
        "start_time": "2022-04-05T06:07:26.099Z"
      },
      {
        "duration": 374,
        "start_time": "2022-04-05T06:07:26.134Z"
      },
      {
        "duration": 4,
        "start_time": "2022-04-05T06:07:45.658Z"
      },
      {
        "duration": 70,
        "start_time": "2022-04-05T06:07:45.666Z"
      },
      {
        "duration": 43,
        "start_time": "2022-04-05T06:07:45.739Z"
      },
      {
        "duration": 15,
        "start_time": "2022-04-05T06:07:45.784Z"
      },
      {
        "duration": 18,
        "start_time": "2022-04-05T06:07:45.802Z"
      },
      {
        "duration": 6,
        "start_time": "2022-04-05T06:07:45.822Z"
      },
      {
        "duration": 14,
        "start_time": "2022-04-05T06:07:45.830Z"
      },
      {
        "duration": 67,
        "start_time": "2022-04-05T06:07:45.847Z"
      },
      {
        "duration": 8,
        "start_time": "2022-04-05T06:07:45.916Z"
      },
      {
        "duration": 11,
        "start_time": "2022-04-05T06:07:45.926Z"
      },
      {
        "duration": 8,
        "start_time": "2022-04-05T06:07:45.940Z"
      },
      {
        "duration": 10,
        "start_time": "2022-04-05T06:07:45.982Z"
      },
      {
        "duration": 390,
        "start_time": "2022-04-05T06:07:45.995Z"
      },
      {
        "duration": 18,
        "start_time": "2022-04-05T06:07:46.387Z"
      },
      {
        "duration": 467,
        "start_time": "2022-04-05T06:07:46.407Z"
      },
      {
        "duration": 22,
        "start_time": "2022-04-05T06:07:46.876Z"
      },
      {
        "duration": 42,
        "start_time": "2022-04-05T06:07:46.900Z"
      },
      {
        "duration": 618,
        "start_time": "2022-04-05T06:07:46.944Z"
      },
      {
        "duration": 47,
        "start_time": "2022-04-05T06:07:47.564Z"
      },
      {
        "duration": 9,
        "start_time": "2022-04-05T06:07:47.613Z"
      },
      {
        "duration": 11,
        "start_time": "2022-04-05T06:07:47.624Z"
      },
      {
        "duration": 10,
        "start_time": "2022-04-05T06:07:47.637Z"
      },
      {
        "duration": 40,
        "start_time": "2022-04-05T06:07:47.648Z"
      },
      {
        "duration": 92,
        "start_time": "2022-04-05T06:07:47.690Z"
      },
      {
        "duration": 378,
        "start_time": "2022-04-05T06:07:47.784Z"
      },
      {
        "duration": 19,
        "start_time": "2022-04-05T06:07:48.164Z"
      },
      {
        "duration": 197,
        "start_time": "2022-04-05T06:07:48.185Z"
      },
      {
        "duration": 5,
        "start_time": "2022-04-05T06:07:57.652Z"
      },
      {
        "duration": 69,
        "start_time": "2022-04-05T06:07:57.660Z"
      },
      {
        "duration": 18,
        "start_time": "2022-04-05T06:07:57.732Z"
      },
      {
        "duration": 13,
        "start_time": "2022-04-05T06:07:57.783Z"
      },
      {
        "duration": 21,
        "start_time": "2022-04-05T06:07:57.799Z"
      },
      {
        "duration": 6,
        "start_time": "2022-04-05T06:07:57.822Z"
      },
      {
        "duration": 12,
        "start_time": "2022-04-05T06:07:57.830Z"
      },
      {
        "duration": 36,
        "start_time": "2022-04-05T06:07:57.882Z"
      },
      {
        "duration": 8,
        "start_time": "2022-04-05T06:07:57.920Z"
      },
      {
        "duration": 7,
        "start_time": "2022-04-05T06:07:57.931Z"
      },
      {
        "duration": 47,
        "start_time": "2022-04-05T06:07:57.942Z"
      },
      {
        "duration": 18,
        "start_time": "2022-04-05T06:07:57.991Z"
      },
      {
        "duration": 416,
        "start_time": "2022-04-05T06:07:58.011Z"
      },
      {
        "duration": 18,
        "start_time": "2022-04-05T06:07:58.429Z"
      },
      {
        "duration": 463,
        "start_time": "2022-04-05T06:07:58.449Z"
      },
      {
        "duration": 17,
        "start_time": "2022-04-05T06:07:58.915Z"
      },
      {
        "duration": 67,
        "start_time": "2022-04-05T06:07:58.934Z"
      },
      {
        "duration": 581,
        "start_time": "2022-04-05T06:07:59.003Z"
      },
      {
        "duration": 34,
        "start_time": "2022-04-05T06:07:59.586Z"
      },
      {
        "duration": 9,
        "start_time": "2022-04-05T06:07:59.623Z"
      },
      {
        "duration": 11,
        "start_time": "2022-04-05T06:07:59.634Z"
      },
      {
        "duration": 41,
        "start_time": "2022-04-05T06:07:59.647Z"
      },
      {
        "duration": 15,
        "start_time": "2022-04-05T06:07:59.690Z"
      },
      {
        "duration": 19,
        "start_time": "2022-04-05T06:07:59.707Z"
      },
      {
        "duration": 405,
        "start_time": "2022-04-05T06:07:59.728Z"
      },
      {
        "duration": 12,
        "start_time": "2022-04-05T06:08:00.136Z"
      },
      {
        "duration": 215,
        "start_time": "2022-04-05T06:08:00.150Z"
      },
      {
        "duration": 28,
        "start_time": "2022-04-05T06:08:00.368Z"
      },
      {
        "duration": 26,
        "start_time": "2022-04-05T06:08:00.402Z"
      },
      {
        "duration": 5,
        "start_time": "2022-04-05T06:08:45.950Z"
      },
      {
        "duration": 78,
        "start_time": "2022-04-05T06:08:45.958Z"
      },
      {
        "duration": 45,
        "start_time": "2022-04-05T06:08:46.040Z"
      },
      {
        "duration": 15,
        "start_time": "2022-04-05T06:08:46.087Z"
      },
      {
        "duration": 20,
        "start_time": "2022-04-05T06:08:46.105Z"
      },
      {
        "duration": 7,
        "start_time": "2022-04-05T06:08:46.127Z"
      },
      {
        "duration": 50,
        "start_time": "2022-04-05T06:08:46.136Z"
      },
      {
        "duration": 35,
        "start_time": "2022-04-05T06:08:46.188Z"
      },
      {
        "duration": 9,
        "start_time": "2022-04-05T06:08:46.225Z"
      },
      {
        "duration": 8,
        "start_time": "2022-04-05T06:08:46.236Z"
      },
      {
        "duration": 35,
        "start_time": "2022-04-05T06:08:46.248Z"
      },
      {
        "duration": 11,
        "start_time": "2022-04-05T06:08:46.286Z"
      },
      {
        "duration": 403,
        "start_time": "2022-04-05T06:08:46.299Z"
      },
      {
        "duration": 18,
        "start_time": "2022-04-05T06:08:46.704Z"
      },
      {
        "duration": 536,
        "start_time": "2022-04-05T06:08:46.724Z"
      },
      {
        "duration": 26,
        "start_time": "2022-04-05T06:08:47.262Z"
      },
      {
        "duration": 44,
        "start_time": "2022-04-05T06:08:47.290Z"
      },
      {
        "duration": 616,
        "start_time": "2022-04-05T06:08:47.336Z"
      },
      {
        "duration": 48,
        "start_time": "2022-04-05T06:08:47.955Z"
      },
      {
        "duration": 9,
        "start_time": "2022-04-05T06:08:48.005Z"
      },
      {
        "duration": 9,
        "start_time": "2022-04-05T06:08:48.016Z"
      },
      {
        "duration": 9,
        "start_time": "2022-04-05T06:08:48.027Z"
      },
      {
        "duration": 4,
        "start_time": "2022-04-05T06:08:58.286Z"
      },
      {
        "duration": 74,
        "start_time": "2022-04-05T06:08:58.294Z"
      },
      {
        "duration": 22,
        "start_time": "2022-04-05T06:08:58.384Z"
      },
      {
        "duration": 18,
        "start_time": "2022-04-05T06:08:58.408Z"
      },
      {
        "duration": 55,
        "start_time": "2022-04-05T06:08:58.430Z"
      },
      {
        "duration": 7,
        "start_time": "2022-04-05T06:08:58.487Z"
      },
      {
        "duration": 15,
        "start_time": "2022-04-05T06:08:58.496Z"
      },
      {
        "duration": 34,
        "start_time": "2022-04-05T06:08:58.513Z"
      },
      {
        "duration": 35,
        "start_time": "2022-04-05T06:08:58.549Z"
      },
      {
        "duration": 6,
        "start_time": "2022-04-05T06:08:58.586Z"
      },
      {
        "duration": 6,
        "start_time": "2022-04-05T06:08:58.596Z"
      },
      {
        "duration": 12,
        "start_time": "2022-04-05T06:08:58.604Z"
      },
      {
        "duration": 412,
        "start_time": "2022-04-05T06:08:58.619Z"
      },
      {
        "duration": 19,
        "start_time": "2022-04-05T06:08:59.033Z"
      },
      {
        "duration": 498,
        "start_time": "2022-04-05T06:08:59.054Z"
      },
      {
        "duration": 30,
        "start_time": "2022-04-05T06:08:59.554Z"
      },
      {
        "duration": 42,
        "start_time": "2022-04-05T06:08:59.587Z"
      },
      {
        "duration": 599,
        "start_time": "2022-04-05T06:08:59.631Z"
      },
      {
        "duration": 36,
        "start_time": "2022-04-05T06:09:00.232Z"
      },
      {
        "duration": 9,
        "start_time": "2022-04-05T06:09:00.283Z"
      },
      {
        "duration": 24,
        "start_time": "2022-04-05T06:09:00.294Z"
      },
      {
        "duration": 12,
        "start_time": "2022-04-05T06:09:00.320Z"
      },
      {
        "duration": 13,
        "start_time": "2022-04-05T06:09:00.334Z"
      },
      {
        "duration": 36,
        "start_time": "2022-04-05T06:09:00.349Z"
      },
      {
        "duration": 371,
        "start_time": "2022-04-05T06:09:00.387Z"
      },
      {
        "duration": 5,
        "start_time": "2022-04-05T06:09:17.271Z"
      },
      {
        "duration": 75,
        "start_time": "2022-04-05T06:09:17.278Z"
      },
      {
        "duration": 44,
        "start_time": "2022-04-05T06:09:17.357Z"
      },
      {
        "duration": 16,
        "start_time": "2022-04-05T06:09:17.404Z"
      },
      {
        "duration": 60,
        "start_time": "2022-04-05T06:09:17.425Z"
      },
      {
        "duration": 7,
        "start_time": "2022-04-05T06:09:17.488Z"
      },
      {
        "duration": 14,
        "start_time": "2022-04-05T06:09:17.498Z"
      },
      {
        "duration": 36,
        "start_time": "2022-04-05T06:09:17.514Z"
      },
      {
        "duration": 39,
        "start_time": "2022-04-05T06:09:17.552Z"
      },
      {
        "duration": 9,
        "start_time": "2022-04-05T06:09:17.594Z"
      },
      {
        "duration": 8,
        "start_time": "2022-04-05T06:09:17.608Z"
      },
      {
        "duration": 13,
        "start_time": "2022-04-05T06:09:17.618Z"
      },
      {
        "duration": 455,
        "start_time": "2022-04-05T06:09:17.633Z"
      },
      {
        "duration": 19,
        "start_time": "2022-04-05T06:09:18.091Z"
      },
      {
        "duration": 490,
        "start_time": "2022-04-05T06:09:18.112Z"
      },
      {
        "duration": 18,
        "start_time": "2022-04-05T06:09:18.605Z"
      },
      {
        "duration": 67,
        "start_time": "2022-04-05T06:09:18.625Z"
      },
      {
        "duration": 695,
        "start_time": "2022-04-05T06:09:18.695Z"
      },
      {
        "duration": 41,
        "start_time": "2022-04-05T06:09:19.393Z"
      },
      {
        "duration": 11,
        "start_time": "2022-04-05T06:09:19.437Z"
      },
      {
        "duration": 10,
        "start_time": "2022-04-05T06:09:19.482Z"
      },
      {
        "duration": 13,
        "start_time": "2022-04-05T06:09:19.494Z"
      },
      {
        "duration": 9,
        "start_time": "2022-04-05T06:09:19.510Z"
      },
      {
        "duration": 23,
        "start_time": "2022-04-05T06:09:19.522Z"
      },
      {
        "duration": 495,
        "start_time": "2022-04-05T06:09:19.547Z"
      },
      {
        "duration": 10,
        "start_time": "2022-04-05T06:09:20.044Z"
      },
      {
        "duration": 198,
        "start_time": "2022-04-05T06:09:20.056Z"
      },
      {
        "duration": 14,
        "start_time": "2022-04-05T06:09:20.256Z"
      },
      {
        "duration": 14,
        "start_time": "2022-04-05T06:09:20.285Z"
      },
      {
        "duration": 1444,
        "start_time": "2022-04-05T06:11:07.596Z"
      },
      {
        "duration": 78,
        "start_time": "2022-04-05T06:11:09.043Z"
      },
      {
        "duration": 21,
        "start_time": "2022-04-05T06:11:09.123Z"
      },
      {
        "duration": 39,
        "start_time": "2022-04-05T06:11:09.148Z"
      },
      {
        "duration": 26,
        "start_time": "2022-04-05T06:11:09.190Z"
      },
      {
        "duration": 7,
        "start_time": "2022-04-05T06:11:09.218Z"
      },
      {
        "duration": 17,
        "start_time": "2022-04-05T06:11:09.228Z"
      },
      {
        "duration": 61,
        "start_time": "2022-04-05T06:11:09.248Z"
      },
      {
        "duration": 9,
        "start_time": "2022-04-05T06:11:09.311Z"
      },
      {
        "duration": 8,
        "start_time": "2022-04-05T06:11:09.324Z"
      },
      {
        "duration": 47,
        "start_time": "2022-04-05T06:11:09.335Z"
      },
      {
        "duration": 15,
        "start_time": "2022-04-05T06:11:09.385Z"
      },
      {
        "duration": 400,
        "start_time": "2022-04-05T06:11:09.402Z"
      },
      {
        "duration": 20,
        "start_time": "2022-04-05T06:11:09.805Z"
      },
      {
        "duration": 495,
        "start_time": "2022-04-05T06:11:09.828Z"
      },
      {
        "duration": 20,
        "start_time": "2022-04-05T06:11:10.326Z"
      },
      {
        "duration": 63,
        "start_time": "2022-04-05T06:11:10.349Z"
      },
      {
        "duration": 650,
        "start_time": "2022-04-05T06:11:10.415Z"
      },
      {
        "duration": 50,
        "start_time": "2022-04-05T06:11:11.068Z"
      },
      {
        "duration": 10,
        "start_time": "2022-04-05T06:11:11.121Z"
      },
      {
        "duration": 9,
        "start_time": "2022-04-05T06:11:11.133Z"
      },
      {
        "duration": 49,
        "start_time": "2022-04-05T06:11:11.144Z"
      },
      {
        "duration": 14,
        "start_time": "2022-04-05T06:11:11.195Z"
      },
      {
        "duration": 19,
        "start_time": "2022-04-05T06:11:11.211Z"
      },
      {
        "duration": 407,
        "start_time": "2022-04-05T06:11:11.232Z"
      },
      {
        "duration": 11,
        "start_time": "2022-04-05T06:11:11.642Z"
      },
      {
        "duration": 207,
        "start_time": "2022-04-05T06:11:11.656Z"
      },
      {
        "duration": 23,
        "start_time": "2022-04-05T06:11:11.868Z"
      },
      {
        "duration": 12,
        "start_time": "2022-04-05T06:11:11.893Z"
      },
      {
        "duration": 10,
        "start_time": "2022-04-05T06:11:11.908Z"
      },
      {
        "duration": 211,
        "start_time": "2022-04-05T06:11:11.920Z"
      },
      {
        "duration": 6,
        "start_time": "2022-04-05T06:11:12.134Z"
      },
      {
        "duration": 309,
        "start_time": "2022-04-05T06:11:12.142Z"
      },
      {
        "duration": 7,
        "start_time": "2022-04-05T06:11:12.453Z"
      },
      {
        "duration": 23,
        "start_time": "2022-04-05T06:11:12.462Z"
      },
      {
        "duration": 262,
        "start_time": "2022-04-05T06:11:12.487Z"
      },
      {
        "duration": 7,
        "start_time": "2022-04-05T06:11:12.751Z"
      },
      {
        "duration": 190,
        "start_time": "2022-04-05T06:11:12.760Z"
      },
      {
        "duration": 6,
        "start_time": "2022-04-05T06:11:12.952Z"
      },
      {
        "duration": 380,
        "start_time": "2022-04-05T06:11:12.960Z"
      },
      {
        "duration": 373,
        "start_time": "2022-04-05T06:11:13.342Z"
      },
      {
        "duration": 332,
        "start_time": "2022-04-05T06:11:27.275Z"
      },
      {
        "duration": 331,
        "start_time": "2022-04-05T06:11:47.057Z"
      },
      {
        "duration": 356,
        "start_time": "2022-04-05T06:44:30.791Z"
      },
      {
        "duration": 354,
        "start_time": "2022-04-05T06:44:38.605Z"
      },
      {
        "duration": 6,
        "start_time": "2022-04-05T07:09:22.361Z"
      },
      {
        "duration": 10,
        "start_time": "2022-04-05T07:09:36.585Z"
      },
      {
        "duration": 204,
        "start_time": "2022-04-05T07:16:45.092Z"
      },
      {
        "duration": 223,
        "start_time": "2022-04-05T07:17:49.652Z"
      },
      {
        "duration": 348,
        "start_time": "2022-04-05T07:18:33.876Z"
      },
      {
        "duration": 279,
        "start_time": "2022-04-05T07:23:28.740Z"
      },
      {
        "duration": 202,
        "start_time": "2022-04-05T07:23:39.167Z"
      },
      {
        "duration": 216,
        "start_time": "2022-04-05T07:25:09.294Z"
      },
      {
        "duration": 201,
        "start_time": "2022-04-05T07:25:48.516Z"
      },
      {
        "duration": 206,
        "start_time": "2022-04-05T07:26:35.276Z"
      },
      {
        "duration": 355,
        "start_time": "2022-04-05T07:29:20.148Z"
      },
      {
        "duration": 338,
        "start_time": "2022-04-05T07:29:58.050Z"
      },
      {
        "duration": 331,
        "start_time": "2022-04-05T07:30:06.535Z"
      },
      {
        "duration": 339,
        "start_time": "2022-04-05T07:54:27.033Z"
      },
      {
        "duration": 355,
        "start_time": "2022-04-05T07:55:32.019Z"
      },
      {
        "duration": 340,
        "start_time": "2022-04-05T08:17:09.045Z"
      },
      {
        "duration": 377,
        "start_time": "2022-04-05T08:18:33.134Z"
      },
      {
        "duration": 345,
        "start_time": "2022-04-05T08:19:02.070Z"
      },
      {
        "duration": 195,
        "start_time": "2022-04-05T08:19:33.734Z"
      },
      {
        "duration": 12,
        "start_time": "2022-04-05T08:19:50.248Z"
      },
      {
        "duration": 298,
        "start_time": "2022-04-05T08:26:28.527Z"
      },
      {
        "duration": 379,
        "start_time": "2022-04-05T08:29:30.024Z"
      },
      {
        "duration": 387,
        "start_time": "2022-04-05T08:29:47.730Z"
      },
      {
        "duration": 565,
        "start_time": "2022-04-05T08:52:39.460Z"
      },
      {
        "duration": 365,
        "start_time": "2022-04-05T08:52:54.820Z"
      },
      {
        "duration": 14,
        "start_time": "2022-04-05T09:23:51.797Z"
      },
      {
        "duration": 39,
        "start_time": "2022-04-05T09:48:01.110Z"
      },
      {
        "duration": 521,
        "start_time": "2022-04-05T09:48:07.798Z"
      },
      {
        "duration": 39,
        "start_time": "2022-04-05T09:53:51.892Z"
      },
      {
        "duration": 39,
        "start_time": "2022-04-05T09:54:22.167Z"
      },
      {
        "duration": 5223,
        "start_time": "2022-04-05T10:31:01.577Z"
      },
      {
        "duration": 438,
        "start_time": "2022-04-05T10:31:35.394Z"
      },
      {
        "duration": 22,
        "start_time": "2022-04-05T10:49:39.912Z"
      },
      {
        "duration": 39,
        "start_time": "2022-04-05T10:49:44.640Z"
      },
      {
        "duration": 37,
        "start_time": "2022-04-05T10:50:13.952Z"
      },
      {
        "duration": 160,
        "start_time": "2022-04-05T10:51:28.905Z"
      },
      {
        "duration": 24,
        "start_time": "2022-04-05T10:53:47.385Z"
      },
      {
        "duration": 23,
        "start_time": "2022-04-05T10:53:59.464Z"
      },
      {
        "duration": 33,
        "start_time": "2022-04-05T10:56:28.594Z"
      },
      {
        "duration": 6,
        "start_time": "2022-04-05T10:57:11.218Z"
      },
      {
        "duration": 6,
        "start_time": "2022-04-05T10:57:28.450Z"
      },
      {
        "duration": 7,
        "start_time": "2022-04-05T10:57:34.905Z"
      },
      {
        "duration": 11,
        "start_time": "2022-04-05T10:58:33.346Z"
      },
      {
        "duration": 28,
        "start_time": "2022-04-05T10:58:49.275Z"
      },
      {
        "duration": 9,
        "start_time": "2022-04-05T10:59:11.050Z"
      },
      {
        "duration": 8,
        "start_time": "2022-04-05T10:59:20.570Z"
      },
      {
        "duration": 13,
        "start_time": "2022-04-05T10:59:32.826Z"
      },
      {
        "duration": 9,
        "start_time": "2022-04-05T10:59:39.418Z"
      },
      {
        "duration": 9,
        "start_time": "2022-04-05T11:03:52.516Z"
      },
      {
        "duration": 17,
        "start_time": "2022-04-05T11:04:19.563Z"
      },
      {
        "duration": 13,
        "start_time": "2022-04-05T11:05:38.958Z"
      },
      {
        "duration": 17,
        "start_time": "2022-04-05T11:06:25.205Z"
      },
      {
        "duration": 30,
        "start_time": "2022-04-05T11:10:37.365Z"
      },
      {
        "duration": 23,
        "start_time": "2022-04-05T11:11:11.398Z"
      },
      {
        "duration": 32,
        "start_time": "2022-04-05T11:11:39.808Z"
      },
      {
        "duration": 4319,
        "start_time": "2022-04-05T11:12:12.566Z"
      },
      {
        "duration": 31,
        "start_time": "2022-04-05T11:13:32.578Z"
      },
      {
        "duration": 4950,
        "start_time": "2022-04-05T11:13:48.550Z"
      },
      {
        "duration": 46,
        "start_time": "2022-04-05T11:14:41.055Z"
      },
      {
        "duration": 42,
        "start_time": "2022-04-05T11:15:09.407Z"
      },
      {
        "duration": 5884,
        "start_time": "2022-04-05T11:15:58.743Z"
      },
      {
        "duration": 276,
        "start_time": "2022-04-05T11:16:09.655Z"
      },
      {
        "duration": 270,
        "start_time": "2022-04-05T11:18:15.544Z"
      },
      {
        "duration": 33,
        "start_time": "2022-04-05T11:18:24.402Z"
      },
      {
        "duration": 26,
        "start_time": "2022-04-05T11:22:28.114Z"
      },
      {
        "duration": 31,
        "start_time": "2022-04-05T11:23:26.306Z"
      },
      {
        "duration": 31,
        "start_time": "2022-04-05T11:27:14.414Z"
      },
      {
        "duration": 31,
        "start_time": "2022-04-05T11:27:42.467Z"
      },
      {
        "duration": 301,
        "start_time": "2022-04-05T11:27:55.266Z"
      },
      {
        "duration": 241,
        "start_time": "2022-04-05T11:28:16.715Z"
      },
      {
        "duration": 258,
        "start_time": "2022-04-05T11:29:31.004Z"
      },
      {
        "duration": 258,
        "start_time": "2022-04-05T11:30:41.667Z"
      },
      {
        "duration": 245,
        "start_time": "2022-04-05T11:31:46.443Z"
      },
      {
        "duration": 262,
        "start_time": "2022-04-05T11:32:30.660Z"
      },
      {
        "duration": 272,
        "start_time": "2022-04-05T11:32:52.164Z"
      },
      {
        "duration": 387,
        "start_time": "2022-04-05T11:33:20.085Z"
      },
      {
        "duration": 449,
        "start_time": "2022-04-05T11:34:03.037Z"
      },
      {
        "duration": 43,
        "start_time": "2022-04-05T11:35:23.398Z"
      },
      {
        "duration": 331,
        "start_time": "2022-04-05T11:38:04.254Z"
      },
      {
        "duration": 367,
        "start_time": "2022-04-05T11:38:39.919Z"
      },
      {
        "duration": 505,
        "start_time": "2022-04-05T11:39:11.225Z"
      },
      {
        "duration": 511,
        "start_time": "2022-04-05T11:40:23.593Z"
      },
      {
        "duration": 16,
        "start_time": "2022-04-05T11:41:38.687Z"
      },
      {
        "duration": 312,
        "start_time": "2022-04-05T12:00:24.981Z"
      },
      {
        "duration": 36,
        "start_time": "2022-04-05T12:00:48.253Z"
      },
      {
        "duration": 28,
        "start_time": "2022-04-05T12:01:53.694Z"
      },
      {
        "duration": 322,
        "start_time": "2022-04-05T12:02:01.724Z"
      },
      {
        "duration": 349,
        "start_time": "2022-04-05T12:02:17.839Z"
      },
      {
        "duration": 525,
        "start_time": "2022-04-05T12:02:35.237Z"
      },
      {
        "duration": 312,
        "start_time": "2022-04-05T12:02:54.798Z"
      },
      {
        "duration": 337,
        "start_time": "2022-04-05T12:03:20.406Z"
      },
      {
        "duration": 19,
        "start_time": "2022-04-05T12:09:56.138Z"
      },
      {
        "duration": 27,
        "start_time": "2022-04-05T12:56:55.050Z"
      },
      {
        "duration": 262,
        "start_time": "2022-04-05T12:56:57.720Z"
      },
      {
        "duration": 268,
        "start_time": "2022-04-05T12:57:13.367Z"
      },
      {
        "duration": 319,
        "start_time": "2022-04-05T12:58:48.120Z"
      },
      {
        "duration": 370,
        "start_time": "2022-04-05T12:59:19.449Z"
      },
      {
        "duration": 254,
        "start_time": "2022-04-05T12:59:29.457Z"
      },
      {
        "duration": 251,
        "start_time": "2022-04-05T12:59:34.699Z"
      },
      {
        "duration": 280,
        "start_time": "2022-04-05T13:00:12.308Z"
      },
      {
        "duration": 347,
        "start_time": "2022-04-05T13:00:36.881Z"
      },
      {
        "duration": 1457,
        "start_time": "2022-04-05T13:01:57.910Z"
      },
      {
        "duration": 71,
        "start_time": "2022-04-05T13:01:59.369Z"
      },
      {
        "duration": 20,
        "start_time": "2022-04-05T13:01:59.442Z"
      },
      {
        "duration": 28,
        "start_time": "2022-04-05T13:01:59.464Z"
      },
      {
        "duration": 20,
        "start_time": "2022-04-05T13:01:59.495Z"
      },
      {
        "duration": 6,
        "start_time": "2022-04-05T13:01:59.518Z"
      },
      {
        "duration": 13,
        "start_time": "2022-04-05T13:01:59.526Z"
      },
      {
        "duration": 67,
        "start_time": "2022-04-05T13:01:59.541Z"
      },
      {
        "duration": 9,
        "start_time": "2022-04-05T13:01:59.609Z"
      },
      {
        "duration": 7,
        "start_time": "2022-04-05T13:01:59.622Z"
      },
      {
        "duration": 7,
        "start_time": "2022-04-05T13:01:59.631Z"
      },
      {
        "duration": 48,
        "start_time": "2022-04-05T13:01:59.640Z"
      },
      {
        "duration": 399,
        "start_time": "2022-04-05T13:01:59.691Z"
      },
      {
        "duration": 26,
        "start_time": "2022-04-05T13:02:00.092Z"
      },
      {
        "duration": 528,
        "start_time": "2022-04-05T13:02:00.121Z"
      },
      {
        "duration": 37,
        "start_time": "2022-04-05T13:02:00.652Z"
      },
      {
        "duration": 48,
        "start_time": "2022-04-05T13:02:00.691Z"
      },
      {
        "duration": 642,
        "start_time": "2022-04-05T13:02:00.742Z"
      },
      {
        "duration": 36,
        "start_time": "2022-04-05T13:02:01.386Z"
      },
      {
        "duration": 20,
        "start_time": "2022-04-05T13:02:01.424Z"
      },
      {
        "duration": 24,
        "start_time": "2022-04-05T13:02:01.446Z"
      },
      {
        "duration": 32,
        "start_time": "2022-04-05T13:02:01.472Z"
      },
      {
        "duration": 16,
        "start_time": "2022-04-05T13:02:01.507Z"
      },
      {
        "duration": 29,
        "start_time": "2022-04-05T13:02:01.525Z"
      },
      {
        "duration": 391,
        "start_time": "2022-04-05T13:02:01.556Z"
      },
      {
        "duration": 9,
        "start_time": "2022-04-05T13:02:01.950Z"
      },
      {
        "duration": 210,
        "start_time": "2022-04-05T13:02:01.961Z"
      },
      {
        "duration": 14,
        "start_time": "2022-04-05T13:02:02.181Z"
      },
      {
        "duration": 54,
        "start_time": "2022-04-05T13:02:02.197Z"
      },
      {
        "duration": 38,
        "start_time": "2022-04-05T13:02:02.254Z"
      },
      {
        "duration": 211,
        "start_time": "2022-04-05T13:02:02.294Z"
      },
      {
        "duration": 7,
        "start_time": "2022-04-05T13:02:02.507Z"
      },
      {
        "duration": 218,
        "start_time": "2022-04-05T13:02:02.516Z"
      },
      {
        "duration": 6,
        "start_time": "2022-04-05T13:02:02.736Z"
      },
      {
        "duration": 15,
        "start_time": "2022-04-05T13:02:02.744Z"
      },
      {
        "duration": 293,
        "start_time": "2022-04-05T13:02:02.761Z"
      },
      {
        "duration": 7,
        "start_time": "2022-04-05T13:02:03.056Z"
      },
      {
        "duration": 203,
        "start_time": "2022-04-05T13:02:03.065Z"
      },
      {
        "duration": 11,
        "start_time": "2022-04-05T13:02:03.271Z"
      },
      {
        "duration": 347,
        "start_time": "2022-04-05T13:02:03.284Z"
      },
      {
        "duration": 54,
        "start_time": "2022-04-05T13:02:03.634Z"
      },
      {
        "duration": 300,
        "start_time": "2022-04-05T13:02:03.691Z"
      },
      {
        "duration": 13,
        "start_time": "2022-04-05T13:02:03.993Z"
      },
      {
        "duration": 26,
        "start_time": "2022-04-05T13:02:04.008Z"
      },
      {
        "duration": 370,
        "start_time": "2022-04-05T13:02:04.036Z"
      },
      {
        "duration": 26,
        "start_time": "2022-04-05T13:02:04.408Z"
      },
      {
        "duration": 327,
        "start_time": "2022-04-05T13:02:04.436Z"
      },
      {
        "duration": 20,
        "start_time": "2022-04-05T13:02:04.765Z"
      },
      {
        "duration": 27,
        "start_time": "2022-04-05T13:02:04.788Z"
      },
      {
        "duration": 285,
        "start_time": "2022-04-05T13:02:04.817Z"
      },
      {
        "duration": 13,
        "start_time": "2022-04-05T13:04:01.440Z"
      },
      {
        "duration": 11,
        "start_time": "2022-04-05T13:05:13.040Z"
      },
      {
        "duration": 220,
        "start_time": "2022-04-05T13:05:15.768Z"
      },
      {
        "duration": 213,
        "start_time": "2022-04-05T13:05:26.656Z"
      },
      {
        "duration": 190,
        "start_time": "2022-04-05T13:05:43.808Z"
      },
      {
        "duration": 197,
        "start_time": "2022-04-05T13:06:02.172Z"
      },
      {
        "duration": 279,
        "start_time": "2022-04-05T13:06:15.312Z"
      },
      {
        "duration": 69,
        "start_time": "2022-04-05T16:50:10.045Z"
      },
      {
        "duration": 2205,
        "start_time": "2022-04-05T16:50:22.606Z"
      },
      {
        "duration": 86,
        "start_time": "2022-04-05T16:50:24.814Z"
      },
      {
        "duration": 25,
        "start_time": "2022-04-05T16:50:24.903Z"
      },
      {
        "duration": 30,
        "start_time": "2022-04-05T16:50:24.932Z"
      },
      {
        "duration": 108,
        "start_time": "2022-04-05T16:50:24.964Z"
      },
      {
        "duration": 22,
        "start_time": "2022-04-05T16:50:25.074Z"
      },
      {
        "duration": 40,
        "start_time": "2022-04-05T16:50:25.098Z"
      },
      {
        "duration": 64,
        "start_time": "2022-04-05T16:50:25.141Z"
      },
      {
        "duration": 11,
        "start_time": "2022-04-05T16:50:25.207Z"
      },
      {
        "duration": 25,
        "start_time": "2022-04-05T16:50:25.221Z"
      },
      {
        "duration": 13,
        "start_time": "2022-04-05T16:50:25.248Z"
      },
      {
        "duration": 31,
        "start_time": "2022-04-05T16:50:25.263Z"
      },
      {
        "duration": 417,
        "start_time": "2022-04-05T16:50:25.296Z"
      },
      {
        "duration": 20,
        "start_time": "2022-04-05T16:50:25.715Z"
      },
      {
        "duration": 541,
        "start_time": "2022-04-05T16:50:25.737Z"
      },
      {
        "duration": 20,
        "start_time": "2022-04-05T16:50:26.283Z"
      },
      {
        "duration": 47,
        "start_time": "2022-04-05T16:50:26.305Z"
      },
      {
        "duration": 684,
        "start_time": "2022-04-05T16:50:26.354Z"
      },
      {
        "duration": 47,
        "start_time": "2022-04-05T16:50:27.040Z"
      },
      {
        "duration": 11,
        "start_time": "2022-04-05T16:50:27.089Z"
      },
      {
        "duration": 18,
        "start_time": "2022-04-05T16:50:27.102Z"
      },
      {
        "duration": 11,
        "start_time": "2022-04-05T16:50:27.123Z"
      },
      {
        "duration": 8,
        "start_time": "2022-04-05T16:50:27.136Z"
      },
      {
        "duration": 48,
        "start_time": "2022-04-05T16:50:27.147Z"
      },
      {
        "duration": 406,
        "start_time": "2022-04-05T16:50:27.197Z"
      },
      {
        "duration": 10,
        "start_time": "2022-04-05T16:50:27.605Z"
      },
      {
        "duration": 217,
        "start_time": "2022-04-05T16:50:27.617Z"
      },
      {
        "duration": 14,
        "start_time": "2022-04-05T16:50:27.840Z"
      },
      {
        "duration": 31,
        "start_time": "2022-04-05T16:50:27.856Z"
      },
      {
        "duration": 14,
        "start_time": "2022-04-05T16:50:27.889Z"
      },
      {
        "duration": 235,
        "start_time": "2022-04-05T16:50:27.905Z"
      },
      {
        "duration": 7,
        "start_time": "2022-04-05T16:50:28.142Z"
      },
      {
        "duration": 244,
        "start_time": "2022-04-05T16:50:28.151Z"
      },
      {
        "duration": 6,
        "start_time": "2022-04-05T16:50:28.397Z"
      },
      {
        "duration": 14,
        "start_time": "2022-04-05T16:50:28.405Z"
      },
      {
        "duration": 335,
        "start_time": "2022-04-05T16:50:28.421Z"
      },
      {
        "duration": 7,
        "start_time": "2022-04-05T16:50:28.759Z"
      },
      {
        "duration": 228,
        "start_time": "2022-04-05T16:50:28.768Z"
      },
      {
        "duration": 7,
        "start_time": "2022-04-05T16:50:28.998Z"
      },
      {
        "duration": 390,
        "start_time": "2022-04-05T16:50:29.007Z"
      },
      {
        "duration": 37,
        "start_time": "2022-04-05T16:50:29.399Z"
      },
      {
        "duration": 428,
        "start_time": "2022-04-05T16:50:29.438Z"
      },
      {
        "duration": 21,
        "start_time": "2022-04-05T16:50:29.868Z"
      },
      {
        "duration": 31,
        "start_time": "2022-04-05T16:50:29.891Z"
      },
      {
        "duration": 394,
        "start_time": "2022-04-05T16:50:29.925Z"
      },
      {
        "duration": 27,
        "start_time": "2022-04-05T16:50:30.322Z"
      },
      {
        "duration": 359,
        "start_time": "2022-04-05T16:50:30.351Z"
      },
      {
        "duration": 14,
        "start_time": "2022-04-05T16:50:30.713Z"
      },
      {
        "duration": 19,
        "start_time": "2022-04-05T16:50:30.731Z"
      },
      {
        "duration": 233,
        "start_time": "2022-04-05T16:50:30.753Z"
      },
      {
        "duration": 11,
        "start_time": "2022-04-05T16:50:30.989Z"
      },
      {
        "duration": 2536,
        "start_time": "2022-04-05T16:50:31.003Z"
      },
      {
        "duration": 176,
        "start_time": "2022-04-05T16:51:01.317Z"
      },
      {
        "duration": 174,
        "start_time": "2022-04-05T16:51:08.011Z"
      },
      {
        "duration": 8,
        "start_time": "2022-04-05T16:57:05.681Z"
      },
      {
        "duration": 15,
        "start_time": "2022-04-05T16:57:37.155Z"
      },
      {
        "duration": 12,
        "start_time": "2022-04-05T16:57:44.656Z"
      },
      {
        "duration": 8,
        "start_time": "2022-04-05T16:58:15.949Z"
      },
      {
        "duration": 8,
        "start_time": "2022-04-05T16:58:55.755Z"
      },
      {
        "duration": 37,
        "start_time": "2022-04-05T16:59:41.156Z"
      },
      {
        "duration": 8,
        "start_time": "2022-04-05T16:59:49.115Z"
      },
      {
        "duration": 181,
        "start_time": "2022-04-05T17:00:03.109Z"
      },
      {
        "duration": 298,
        "start_time": "2022-04-05T17:00:09.988Z"
      },
      {
        "duration": 214,
        "start_time": "2022-04-05T17:04:17.166Z"
      },
      {
        "duration": 16,
        "start_time": "2022-04-05T17:09:23.950Z"
      },
      {
        "duration": 10,
        "start_time": "2022-04-05T17:09:36.838Z"
      },
      {
        "duration": 19,
        "start_time": "2022-04-05T17:09:46.418Z"
      },
      {
        "duration": 229,
        "start_time": "2022-04-05T17:09:55.182Z"
      },
      {
        "duration": 244,
        "start_time": "2022-04-05T17:10:00.023Z"
      },
      {
        "duration": 13,
        "start_time": "2022-04-05T17:11:31.393Z"
      },
      {
        "duration": 18,
        "start_time": "2022-04-05T17:12:00.310Z"
      },
      {
        "duration": 18,
        "start_time": "2022-04-05T17:12:13.991Z"
      },
      {
        "duration": 11,
        "start_time": "2022-04-05T17:12:24.169Z"
      },
      {
        "duration": 242,
        "start_time": "2022-04-05T17:12:27.330Z"
      },
      {
        "duration": 276,
        "start_time": "2022-04-05T17:13:15.739Z"
      },
      {
        "duration": 279,
        "start_time": "2022-04-05T17:14:03.174Z"
      },
      {
        "duration": 283,
        "start_time": "2022-04-05T17:14:52.584Z"
      },
      {
        "duration": 13,
        "start_time": "2022-04-05T17:15:56.643Z"
      },
      {
        "duration": 277,
        "start_time": "2022-04-05T17:16:00.492Z"
      },
      {
        "duration": 13,
        "start_time": "2022-04-05T17:17:02.476Z"
      },
      {
        "duration": 109,
        "start_time": "2022-04-05T17:23:21.760Z"
      },
      {
        "duration": 139,
        "start_time": "2022-04-05T17:23:44.121Z"
      },
      {
        "duration": 16,
        "start_time": "2022-04-05T17:23:53.356Z"
      },
      {
        "duration": 468,
        "start_time": "2022-04-05T17:25:22.896Z"
      },
      {
        "duration": 288,
        "start_time": "2022-04-05T17:25:38.332Z"
      },
      {
        "duration": 199,
        "start_time": "2022-04-05T17:25:52.879Z"
      },
      {
        "duration": 368,
        "start_time": "2022-04-05T17:26:07.131Z"
      },
      {
        "duration": 410,
        "start_time": "2022-04-05T17:28:59.659Z"
      },
      {
        "duration": 107,
        "start_time": "2022-04-05T17:30:04.311Z"
      },
      {
        "duration": 180,
        "start_time": "2022-04-05T17:30:26.256Z"
      },
      {
        "duration": 119,
        "start_time": "2022-04-05T17:30:33.376Z"
      },
      {
        "duration": 386,
        "start_time": "2022-04-05T17:30:44.144Z"
      },
      {
        "duration": 400,
        "start_time": "2022-04-05T17:30:59.811Z"
      },
      {
        "duration": 573,
        "start_time": "2022-04-05T17:31:17.812Z"
      },
      {
        "duration": 454,
        "start_time": "2022-04-05T17:31:24.887Z"
      },
      {
        "duration": 430,
        "start_time": "2022-04-05T17:31:31.268Z"
      },
      {
        "duration": 478,
        "start_time": "2022-04-05T17:40:55.270Z"
      },
      {
        "duration": 485,
        "start_time": "2022-04-05T17:41:17.329Z"
      },
      {
        "duration": 519,
        "start_time": "2022-04-05T17:42:03.065Z"
      },
      {
        "duration": 610,
        "start_time": "2022-04-05T17:42:11.534Z"
      },
      {
        "duration": 499,
        "start_time": "2022-04-05T17:42:25.715Z"
      },
      {
        "duration": 53,
        "start_time": "2022-04-05T19:16:42.945Z"
      },
      {
        "duration": 14,
        "start_time": "2022-04-05T19:17:00.641Z"
      },
      {
        "duration": 11,
        "start_time": "2022-04-05T19:18:02.365Z"
      },
      {
        "duration": 20,
        "start_time": "2022-04-05T19:18:09.178Z"
      },
      {
        "duration": 20,
        "start_time": "2022-04-05T19:18:33.243Z"
      },
      {
        "duration": 23,
        "start_time": "2022-04-05T19:19:03.315Z"
      },
      {
        "duration": 19,
        "start_time": "2022-04-05T19:19:14.680Z"
      },
      {
        "duration": 19,
        "start_time": "2022-04-05T19:22:24.125Z"
      },
      {
        "duration": 5,
        "start_time": "2022-04-05T19:29:00.567Z"
      },
      {
        "duration": 12,
        "start_time": "2022-04-05T19:34:58.600Z"
      },
      {
        "duration": 8,
        "start_time": "2022-04-05T19:35:20.897Z"
      },
      {
        "duration": 8,
        "start_time": "2022-04-05T19:36:48.542Z"
      },
      {
        "duration": 8,
        "start_time": "2022-04-05T19:37:07.082Z"
      },
      {
        "duration": 8,
        "start_time": "2022-04-05T20:00:25.772Z"
      },
      {
        "duration": 8,
        "start_time": "2022-04-05T20:01:08.573Z"
      },
      {
        "duration": 9,
        "start_time": "2022-04-05T20:01:17.705Z"
      },
      {
        "duration": 18,
        "start_time": "2022-04-05T20:18:58.271Z"
      },
      {
        "duration": 17,
        "start_time": "2022-04-05T20:19:48.265Z"
      },
      {
        "duration": 17,
        "start_time": "2022-04-05T20:21:03.472Z"
      },
      {
        "duration": 15,
        "start_time": "2022-04-05T20:21:38.617Z"
      },
      {
        "duration": 4,
        "start_time": "2022-04-05T20:22:31.590Z"
      },
      {
        "duration": 90,
        "start_time": "2022-04-05T20:22:31.597Z"
      },
      {
        "duration": 20,
        "start_time": "2022-04-05T20:22:31.689Z"
      },
      {
        "duration": 17,
        "start_time": "2022-04-05T20:22:31.712Z"
      },
      {
        "duration": 59,
        "start_time": "2022-04-05T20:22:31.731Z"
      },
      {
        "duration": 7,
        "start_time": "2022-04-05T20:22:31.793Z"
      },
      {
        "duration": 28,
        "start_time": "2022-04-05T20:22:31.803Z"
      },
      {
        "duration": 53,
        "start_time": "2022-04-05T20:22:31.833Z"
      },
      {
        "duration": 10,
        "start_time": "2022-04-05T20:22:31.890Z"
      },
      {
        "duration": 17,
        "start_time": "2022-04-05T20:22:31.902Z"
      },
      {
        "duration": 16,
        "start_time": "2022-04-05T20:22:31.921Z"
      },
      {
        "duration": 34,
        "start_time": "2022-04-05T20:22:31.940Z"
      },
      {
        "duration": 428,
        "start_time": "2022-04-05T20:22:31.976Z"
      },
      {
        "duration": 21,
        "start_time": "2022-04-05T20:22:32.407Z"
      },
      {
        "duration": 670,
        "start_time": "2022-04-05T20:22:32.430Z"
      },
      {
        "duration": 21,
        "start_time": "2022-04-05T20:22:33.102Z"
      },
      {
        "duration": 74,
        "start_time": "2022-04-05T20:22:33.125Z"
      },
      {
        "duration": 728,
        "start_time": "2022-04-05T20:22:33.202Z"
      },
      {
        "duration": 53,
        "start_time": "2022-04-05T20:22:33.932Z"
      },
      {
        "duration": 10,
        "start_time": "2022-04-05T20:22:33.988Z"
      },
      {
        "duration": 12,
        "start_time": "2022-04-05T20:22:34.000Z"
      },
      {
        "duration": 15,
        "start_time": "2022-04-05T20:22:34.014Z"
      },
      {
        "duration": 8,
        "start_time": "2022-04-05T20:22:34.031Z"
      },
      {
        "duration": 54,
        "start_time": "2022-04-05T20:22:34.045Z"
      },
      {
        "duration": 462,
        "start_time": "2022-04-05T20:22:34.101Z"
      },
      {
        "duration": 22,
        "start_time": "2022-04-05T20:22:34.566Z"
      },
      {
        "duration": 222,
        "start_time": "2022-04-05T20:22:34.590Z"
      },
      {
        "duration": 15,
        "start_time": "2022-04-05T20:22:34.815Z"
      },
      {
        "duration": 16,
        "start_time": "2022-04-05T20:22:34.833Z"
      },
      {
        "duration": 38,
        "start_time": "2022-04-05T20:22:34.851Z"
      },
      {
        "duration": 295,
        "start_time": "2022-04-05T20:22:34.891Z"
      },
      {
        "duration": 8,
        "start_time": "2022-04-05T20:22:35.188Z"
      },
      {
        "duration": 422,
        "start_time": "2022-04-05T20:22:35.198Z"
      },
      {
        "duration": 6,
        "start_time": "2022-04-05T20:22:35.623Z"
      },
      {
        "duration": 14,
        "start_time": "2022-04-05T20:22:35.631Z"
      },
      {
        "duration": 297,
        "start_time": "2022-04-05T20:22:35.647Z"
      },
      {
        "duration": 8,
        "start_time": "2022-04-05T20:22:35.946Z"
      },
      {
        "duration": 284,
        "start_time": "2022-04-05T20:22:35.957Z"
      },
      {
        "duration": 9,
        "start_time": "2022-04-05T20:22:36.244Z"
      },
      {
        "duration": 457,
        "start_time": "2022-04-05T20:22:36.256Z"
      },
      {
        "duration": 503,
        "start_time": "2022-04-05T20:22:36.715Z"
      },
      {
        "duration": 37,
        "start_time": "2022-04-05T20:22:37.220Z"
      },
      {
        "duration": 352,
        "start_time": "2022-04-05T20:22:37.260Z"
      },
      {
        "duration": 13,
        "start_time": "2022-04-05T20:22:37.615Z"
      },
      {
        "duration": 31,
        "start_time": "2022-04-05T20:22:37.630Z"
      },
      {
        "duration": 432,
        "start_time": "2022-04-05T20:22:37.663Z"
      },
      {
        "duration": 28,
        "start_time": "2022-04-05T20:22:38.098Z"
      },
      {
        "duration": 387,
        "start_time": "2022-04-05T20:22:38.128Z"
      },
      {
        "duration": 13,
        "start_time": "2022-04-05T20:22:38.518Z"
      },
      {
        "duration": 333,
        "start_time": "2022-04-05T20:22:38.533Z"
      },
      {
        "duration": 26,
        "start_time": "2022-04-05T20:22:38.869Z"
      },
      {
        "duration": 20,
        "start_time": "2022-04-05T20:22:38.897Z"
      },
      {
        "duration": 13,
        "start_time": "2022-04-05T20:22:38.919Z"
      },
      {
        "duration": 12,
        "start_time": "2022-04-05T20:22:38.934Z"
      },
      {
        "duration": 39,
        "start_time": "2022-04-05T20:22:38.947Z"
      },
      {
        "duration": 20,
        "start_time": "2022-04-05T20:22:38.988Z"
      },
      {
        "duration": 12,
        "start_time": "2022-04-05T20:22:39.010Z"
      },
      {
        "duration": 23,
        "start_time": "2022-04-05T20:22:39.024Z"
      },
      {
        "duration": 41,
        "start_time": "2022-04-05T20:22:39.049Z"
      },
      {
        "duration": 18,
        "start_time": "2022-04-05T20:22:39.093Z"
      },
      {
        "duration": 21,
        "start_time": "2022-04-05T20:33:21.576Z"
      },
      {
        "duration": 5,
        "start_time": "2022-04-05T20:33:26.603Z"
      },
      {
        "duration": 81,
        "start_time": "2022-04-05T20:33:26.611Z"
      },
      {
        "duration": 21,
        "start_time": "2022-04-05T20:33:26.695Z"
      },
      {
        "duration": 13,
        "start_time": "2022-04-05T20:33:26.718Z"
      },
      {
        "duration": 59,
        "start_time": "2022-04-05T20:33:26.734Z"
      },
      {
        "duration": 7,
        "start_time": "2022-04-05T20:33:26.795Z"
      },
      {
        "duration": 16,
        "start_time": "2022-04-05T20:33:26.804Z"
      },
      {
        "duration": 62,
        "start_time": "2022-04-05T20:33:26.823Z"
      },
      {
        "duration": 10,
        "start_time": "2022-04-05T20:33:26.887Z"
      },
      {
        "duration": 23,
        "start_time": "2022-04-05T20:33:26.899Z"
      },
      {
        "duration": 24,
        "start_time": "2022-04-05T20:33:26.925Z"
      },
      {
        "duration": 18,
        "start_time": "2022-04-05T20:33:26.951Z"
      },
      {
        "duration": 430,
        "start_time": "2022-04-05T20:33:26.972Z"
      },
      {
        "duration": 21,
        "start_time": "2022-04-05T20:33:27.406Z"
      },
      {
        "duration": 781,
        "start_time": "2022-04-05T20:33:27.430Z"
      },
      {
        "duration": 19,
        "start_time": "2022-04-05T20:33:28.213Z"
      },
      {
        "duration": 70,
        "start_time": "2022-04-05T20:33:28.234Z"
      },
      {
        "duration": 677,
        "start_time": "2022-04-05T20:33:28.306Z"
      },
      {
        "duration": 39,
        "start_time": "2022-04-05T20:33:28.986Z"
      },
      {
        "duration": 11,
        "start_time": "2022-04-05T20:33:29.027Z"
      },
      {
        "duration": 48,
        "start_time": "2022-04-05T20:33:29.041Z"
      },
      {
        "duration": 8,
        "start_time": "2022-04-05T20:33:40.530Z"
      },
      {
        "duration": 20,
        "start_time": "2022-04-05T20:33:57.427Z"
      },
      {
        "duration": 8,
        "start_time": "2022-04-05T20:36:53.335Z"
      },
      {
        "duration": 9,
        "start_time": "2022-04-05T20:37:02.024Z"
      },
      {
        "duration": 8,
        "start_time": "2022-04-05T20:37:58.300Z"
      },
      {
        "duration": 8,
        "start_time": "2022-04-05T20:40:42.892Z"
      },
      {
        "duration": 8,
        "start_time": "2022-04-05T20:41:09.466Z"
      },
      {
        "duration": 1574,
        "start_time": "2022-04-05T20:46:07.056Z"
      },
      {
        "duration": 83,
        "start_time": "2022-04-05T20:46:08.632Z"
      },
      {
        "duration": 21,
        "start_time": "2022-04-05T20:46:08.718Z"
      },
      {
        "duration": 15,
        "start_time": "2022-04-05T20:46:08.742Z"
      },
      {
        "duration": 22,
        "start_time": "2022-04-05T20:46:08.784Z"
      },
      {
        "duration": 7,
        "start_time": "2022-04-05T20:46:08.809Z"
      },
      {
        "duration": 19,
        "start_time": "2022-04-05T20:46:08.818Z"
      },
      {
        "duration": 72,
        "start_time": "2022-04-05T20:46:08.839Z"
      },
      {
        "duration": 9,
        "start_time": "2022-04-05T20:46:08.913Z"
      },
      {
        "duration": 9,
        "start_time": "2022-04-05T20:46:08.926Z"
      },
      {
        "duration": 10,
        "start_time": "2022-04-05T20:46:08.937Z"
      },
      {
        "duration": 42,
        "start_time": "2022-04-05T20:46:08.949Z"
      },
      {
        "duration": 419,
        "start_time": "2022-04-05T20:46:08.993Z"
      },
      {
        "duration": 19,
        "start_time": "2022-04-05T20:46:09.415Z"
      },
      {
        "duration": 531,
        "start_time": "2022-04-05T20:46:09.436Z"
      },
      {
        "duration": 29,
        "start_time": "2022-04-05T20:46:09.970Z"
      },
      {
        "duration": 47,
        "start_time": "2022-04-05T20:46:10.001Z"
      },
      {
        "duration": 655,
        "start_time": "2022-04-05T20:46:10.051Z"
      },
      {
        "duration": 38,
        "start_time": "2022-04-05T20:46:10.708Z"
      },
      {
        "duration": 10,
        "start_time": "2022-04-05T20:46:10.748Z"
      },
      {
        "duration": 9,
        "start_time": "2022-04-05T20:46:10.784Z"
      },
      {
        "duration": 13,
        "start_time": "2022-04-05T20:46:10.796Z"
      },
      {
        "duration": 10,
        "start_time": "2022-04-05T20:46:10.811Z"
      },
      {
        "duration": 25,
        "start_time": "2022-04-05T20:46:10.823Z"
      },
      {
        "duration": 434,
        "start_time": "2022-04-05T20:46:10.850Z"
      },
      {
        "duration": 10,
        "start_time": "2022-04-05T20:46:11.287Z"
      },
      {
        "duration": 210,
        "start_time": "2022-04-05T20:46:11.299Z"
      },
      {
        "duration": 15,
        "start_time": "2022-04-05T20:46:11.514Z"
      },
      {
        "duration": 23,
        "start_time": "2022-04-05T20:46:11.531Z"
      },
      {
        "duration": 43,
        "start_time": "2022-04-05T20:46:11.556Z"
      },
      {
        "duration": 230,
        "start_time": "2022-04-05T20:46:11.601Z"
      },
      {
        "duration": 7,
        "start_time": "2022-04-05T20:46:11.833Z"
      },
      {
        "duration": 247,
        "start_time": "2022-04-05T20:46:11.842Z"
      },
      {
        "duration": 7,
        "start_time": "2022-04-05T20:46:12.092Z"
      },
      {
        "duration": 13,
        "start_time": "2022-04-05T20:46:12.101Z"
      },
      {
        "duration": 331,
        "start_time": "2022-04-05T20:46:12.117Z"
      },
      {
        "duration": 8,
        "start_time": "2022-04-05T20:46:12.450Z"
      },
      {
        "duration": 226,
        "start_time": "2022-04-05T20:46:12.460Z"
      },
      {
        "duration": 8,
        "start_time": "2022-04-05T20:46:12.689Z"
      },
      {
        "duration": 390,
        "start_time": "2022-04-05T20:46:12.699Z"
      },
      {
        "duration": 515,
        "start_time": "2022-04-05T20:46:13.092Z"
      },
      {
        "duration": 39,
        "start_time": "2022-04-05T20:46:13.610Z"
      },
      {
        "duration": 356,
        "start_time": "2022-04-05T20:46:13.652Z"
      },
      {
        "duration": 13,
        "start_time": "2022-04-05T20:46:14.011Z"
      },
      {
        "duration": 58,
        "start_time": "2022-04-05T20:46:14.028Z"
      },
      {
        "duration": 405,
        "start_time": "2022-04-05T20:46:14.089Z"
      },
      {
        "duration": 31,
        "start_time": "2022-04-05T20:46:14.497Z"
      },
      {
        "duration": 480,
        "start_time": "2022-04-05T20:46:14.530Z"
      },
      {
        "duration": 12,
        "start_time": "2022-04-05T20:46:15.013Z"
      },
      {
        "duration": 319,
        "start_time": "2022-04-05T20:46:15.027Z"
      },
      {
        "duration": 18,
        "start_time": "2022-04-05T20:46:15.348Z"
      },
      {
        "duration": 28,
        "start_time": "2022-04-05T20:46:15.384Z"
      },
      {
        "duration": 25,
        "start_time": "2022-04-05T20:46:15.414Z"
      },
      {
        "duration": 19,
        "start_time": "2022-04-05T20:46:15.441Z"
      },
      {
        "duration": 19,
        "start_time": "2022-04-05T20:46:15.462Z"
      },
      {
        "duration": 23,
        "start_time": "2022-04-05T20:46:15.483Z"
      },
      {
        "duration": 30,
        "start_time": "2022-04-05T20:46:15.508Z"
      },
      {
        "duration": 41,
        "start_time": "2022-04-05T20:46:15.540Z"
      },
      {
        "duration": 30,
        "start_time": "2022-04-05T20:46:15.584Z"
      },
      {
        "duration": 29,
        "start_time": "2022-04-05T20:46:15.616Z"
      },
      {
        "duration": 27,
        "start_time": "2022-04-05T20:46:15.647Z"
      },
      {
        "duration": 31,
        "start_time": "2022-04-05T20:46:15.676Z"
      },
      {
        "duration": 36,
        "start_time": "2022-04-05T20:46:15.709Z"
      },
      {
        "duration": 16,
        "start_time": "2022-04-05T20:46:15.748Z"
      },
      {
        "duration": 1751,
        "start_time": "2022-04-06T07:44:49.274Z"
      },
      {
        "duration": 80,
        "start_time": "2022-04-06T07:44:51.028Z"
      },
      {
        "duration": 34,
        "start_time": "2022-04-06T07:44:51.110Z"
      },
      {
        "duration": 12,
        "start_time": "2022-04-06T07:44:51.147Z"
      },
      {
        "duration": 28,
        "start_time": "2022-04-06T07:44:51.160Z"
      },
      {
        "duration": 6,
        "start_time": "2022-04-06T07:44:51.190Z"
      },
      {
        "duration": 25,
        "start_time": "2022-04-06T07:44:51.198Z"
      },
      {
        "duration": 38,
        "start_time": "2022-04-06T07:44:51.242Z"
      },
      {
        "duration": 9,
        "start_time": "2022-04-06T07:44:51.282Z"
      },
      {
        "duration": 10,
        "start_time": "2022-04-06T07:44:51.294Z"
      },
      {
        "duration": 38,
        "start_time": "2022-04-06T07:44:51.306Z"
      },
      {
        "duration": 11,
        "start_time": "2022-04-06T07:44:51.346Z"
      },
      {
        "duration": 403,
        "start_time": "2022-04-06T07:44:51.360Z"
      },
      {
        "duration": 19,
        "start_time": "2022-04-06T07:44:51.765Z"
      },
      {
        "duration": 515,
        "start_time": "2022-04-06T07:44:51.786Z"
      },
      {
        "duration": 19,
        "start_time": "2022-04-06T07:44:52.304Z"
      },
      {
        "duration": 64,
        "start_time": "2022-04-06T07:44:52.325Z"
      },
      {
        "duration": 679,
        "start_time": "2022-04-06T07:44:52.391Z"
      },
      {
        "duration": 37,
        "start_time": "2022-04-06T07:44:53.072Z"
      },
      {
        "duration": 10,
        "start_time": "2022-04-06T07:44:53.111Z"
      },
      {
        "duration": 25,
        "start_time": "2022-04-06T07:44:53.123Z"
      },
      {
        "duration": 22,
        "start_time": "2022-04-06T07:44:53.151Z"
      },
      {
        "duration": 23,
        "start_time": "2022-04-06T07:44:53.175Z"
      },
      {
        "duration": 26,
        "start_time": "2022-04-06T07:44:53.200Z"
      },
      {
        "duration": 386,
        "start_time": "2022-04-06T07:44:53.228Z"
      },
      {
        "duration": 10,
        "start_time": "2022-04-06T07:44:53.616Z"
      },
      {
        "duration": 198,
        "start_time": "2022-04-06T07:44:53.628Z"
      },
      {
        "duration": 25,
        "start_time": "2022-04-06T07:44:53.831Z"
      },
      {
        "duration": 16,
        "start_time": "2022-04-06T07:44:53.858Z"
      },
      {
        "duration": 10,
        "start_time": "2022-04-06T07:44:53.876Z"
      },
      {
        "duration": 229,
        "start_time": "2022-04-06T07:44:53.888Z"
      },
      {
        "duration": 7,
        "start_time": "2022-04-06T07:44:54.119Z"
      },
      {
        "duration": 217,
        "start_time": "2022-04-06T07:44:54.143Z"
      },
      {
        "duration": 6,
        "start_time": "2022-04-06T07:44:54.362Z"
      },
      {
        "duration": 12,
        "start_time": "2022-04-06T07:44:54.370Z"
      },
      {
        "duration": 313,
        "start_time": "2022-04-06T07:44:54.384Z"
      },
      {
        "duration": 7,
        "start_time": "2022-04-06T07:44:54.698Z"
      },
      {
        "duration": 201,
        "start_time": "2022-04-06T07:44:54.707Z"
      },
      {
        "duration": 7,
        "start_time": "2022-04-06T07:44:54.910Z"
      },
      {
        "duration": 353,
        "start_time": "2022-04-06T07:44:54.919Z"
      },
      {
        "duration": 440,
        "start_time": "2022-04-06T07:44:55.275Z"
      },
      {
        "duration": 436,
        "start_time": "2022-04-06T07:45:15.342Z"
      },
      {
        "duration": 142,
        "start_time": "2022-04-06T07:45:27.030Z"
      },
      {
        "duration": 1470,
        "start_time": "2022-04-06T07:45:35.257Z"
      },
      {
        "duration": 75,
        "start_time": "2022-04-06T07:45:36.730Z"
      },
      {
        "duration": 18,
        "start_time": "2022-04-06T07:45:36.808Z"
      },
      {
        "duration": 12,
        "start_time": "2022-04-06T07:45:36.842Z"
      },
      {
        "duration": 20,
        "start_time": "2022-04-06T07:45:36.856Z"
      },
      {
        "duration": 7,
        "start_time": "2022-04-06T07:45:36.878Z"
      },
      {
        "duration": 21,
        "start_time": "2022-04-06T07:45:36.888Z"
      },
      {
        "duration": 66,
        "start_time": "2022-04-06T07:45:36.911Z"
      },
      {
        "duration": 9,
        "start_time": "2022-04-06T07:45:36.979Z"
      },
      {
        "duration": 15,
        "start_time": "2022-04-06T07:45:36.992Z"
      },
      {
        "duration": 34,
        "start_time": "2022-04-06T07:45:37.009Z"
      },
      {
        "duration": 12,
        "start_time": "2022-04-06T07:45:37.045Z"
      },
      {
        "duration": 399,
        "start_time": "2022-04-06T07:45:37.059Z"
      },
      {
        "duration": 18,
        "start_time": "2022-04-06T07:45:37.460Z"
      },
      {
        "duration": 496,
        "start_time": "2022-04-06T07:45:37.480Z"
      },
      {
        "duration": 20,
        "start_time": "2022-04-06T07:45:37.978Z"
      },
      {
        "duration": 62,
        "start_time": "2022-04-06T07:45:38.000Z"
      },
      {
        "duration": 626,
        "start_time": "2022-04-06T07:45:38.064Z"
      },
      {
        "duration": 52,
        "start_time": "2022-04-06T07:45:38.692Z"
      },
      {
        "duration": 10,
        "start_time": "2022-04-06T07:45:38.746Z"
      },
      {
        "duration": 18,
        "start_time": "2022-04-06T07:45:38.758Z"
      },
      {
        "duration": 10,
        "start_time": "2022-04-06T07:45:38.778Z"
      },
      {
        "duration": 11,
        "start_time": "2022-04-06T07:45:38.790Z"
      },
      {
        "duration": 41,
        "start_time": "2022-04-06T07:45:38.803Z"
      },
      {
        "duration": 372,
        "start_time": "2022-04-06T07:45:38.846Z"
      },
      {
        "duration": 10,
        "start_time": "2022-04-06T07:45:39.220Z"
      },
      {
        "duration": 190,
        "start_time": "2022-04-06T07:45:39.243Z"
      },
      {
        "duration": 14,
        "start_time": "2022-04-06T07:45:39.447Z"
      },
      {
        "duration": 51,
        "start_time": "2022-04-06T07:45:39.463Z"
      },
      {
        "duration": 21,
        "start_time": "2022-04-06T07:45:39.516Z"
      },
      {
        "duration": 207,
        "start_time": "2022-04-06T07:45:39.539Z"
      },
      {
        "duration": 8,
        "start_time": "2022-04-06T07:45:39.748Z"
      },
      {
        "duration": 222,
        "start_time": "2022-04-06T07:45:39.758Z"
      },
      {
        "duration": 7,
        "start_time": "2022-04-06T07:45:39.983Z"
      },
      {
        "duration": 11,
        "start_time": "2022-04-06T07:45:39.992Z"
      },
      {
        "duration": 286,
        "start_time": "2022-04-06T07:45:40.005Z"
      },
      {
        "duration": 7,
        "start_time": "2022-04-06T07:45:40.293Z"
      },
      {
        "duration": 210,
        "start_time": "2022-04-06T07:45:40.302Z"
      },
      {
        "duration": 7,
        "start_time": "2022-04-06T07:45:40.514Z"
      },
      {
        "duration": 360,
        "start_time": "2022-04-06T07:45:40.542Z"
      },
      {
        "duration": 478,
        "start_time": "2022-04-06T07:45:40.904Z"
      },
      {
        "duration": 37,
        "start_time": "2022-04-06T07:45:41.385Z"
      },
      {
        "duration": 326,
        "start_time": "2022-04-06T07:45:41.444Z"
      },
      {
        "duration": 13,
        "start_time": "2022-04-06T07:45:41.772Z"
      },
      {
        "duration": 56,
        "start_time": "2022-04-06T07:45:41.788Z"
      },
      {
        "duration": 375,
        "start_time": "2022-04-06T07:45:41.847Z"
      },
      {
        "duration": 45,
        "start_time": "2022-04-06T07:45:42.225Z"
      },
      {
        "duration": 439,
        "start_time": "2022-04-06T07:45:42.273Z"
      },
      {
        "duration": 10,
        "start_time": "2022-04-06T07:45:42.714Z"
      },
      {
        "duration": 295,
        "start_time": "2022-04-06T07:45:42.743Z"
      },
      {
        "duration": 21,
        "start_time": "2022-04-06T07:45:43.041Z"
      },
      {
        "duration": 19,
        "start_time": "2022-04-06T07:45:43.065Z"
      },
      {
        "duration": 18,
        "start_time": "2022-04-06T07:45:43.087Z"
      },
      {
        "duration": 8,
        "start_time": "2022-04-06T07:45:43.143Z"
      },
      {
        "duration": 12,
        "start_time": "2022-04-06T07:45:43.153Z"
      },
      {
        "duration": 9,
        "start_time": "2022-04-06T07:45:43.168Z"
      },
      {
        "duration": 13,
        "start_time": "2022-04-06T07:45:43.179Z"
      },
      {
        "duration": 62,
        "start_time": "2022-04-06T07:45:43.194Z"
      },
      {
        "duration": 19,
        "start_time": "2022-04-06T07:45:43.258Z"
      },
      {
        "duration": 9,
        "start_time": "2022-04-06T07:45:43.279Z"
      },
      {
        "duration": 11,
        "start_time": "2022-04-06T07:45:43.290Z"
      },
      {
        "duration": 7,
        "start_time": "2022-04-06T07:45:43.344Z"
      },
      {
        "duration": 11,
        "start_time": "2022-04-06T07:45:43.353Z"
      },
      {
        "duration": 8,
        "start_time": "2022-04-06T07:45:43.366Z"
      },
      {
        "duration": 10,
        "start_time": "2022-04-06T07:49:23.520Z"
      },
      {
        "duration": 7,
        "start_time": "2022-04-06T07:49:57.321Z"
      },
      {
        "duration": 10,
        "start_time": "2022-04-06T07:53:58.848Z"
      },
      {
        "duration": 9,
        "start_time": "2022-04-06T07:54:15.073Z"
      },
      {
        "duration": 199,
        "start_time": "2022-04-06T09:21:47.873Z"
      },
      {
        "duration": 184,
        "start_time": "2022-04-06T09:24:15.257Z"
      },
      {
        "duration": 293,
        "start_time": "2022-04-06T09:28:59.466Z"
      },
      {
        "duration": 314,
        "start_time": "2022-04-06T09:29:38.297Z"
      },
      {
        "duration": 224,
        "start_time": "2022-04-06T09:31:37.874Z"
      },
      {
        "duration": 221,
        "start_time": "2022-04-06T09:31:46.242Z"
      },
      {
        "duration": 203,
        "start_time": "2022-04-06T09:31:50.650Z"
      },
      {
        "duration": 1702,
        "start_time": "2022-04-06T10:37:56.684Z"
      },
      {
        "duration": 91,
        "start_time": "2022-04-06T10:37:58.388Z"
      },
      {
        "duration": 20,
        "start_time": "2022-04-06T10:37:58.481Z"
      },
      {
        "duration": 13,
        "start_time": "2022-04-06T10:37:58.504Z"
      },
      {
        "duration": 43,
        "start_time": "2022-04-06T10:37:58.519Z"
      },
      {
        "duration": 7,
        "start_time": "2022-04-06T10:37:58.564Z"
      },
      {
        "duration": 14,
        "start_time": "2022-04-06T10:37:58.572Z"
      },
      {
        "duration": 69,
        "start_time": "2022-04-06T10:37:58.588Z"
      },
      {
        "duration": 9,
        "start_time": "2022-04-06T10:37:58.659Z"
      },
      {
        "duration": 7,
        "start_time": "2022-04-06T10:37:58.673Z"
      },
      {
        "duration": 10,
        "start_time": "2022-04-06T10:37:58.683Z"
      },
      {
        "duration": 12,
        "start_time": "2022-04-06T10:37:58.695Z"
      },
      {
        "duration": 437,
        "start_time": "2022-04-06T10:37:58.709Z"
      },
      {
        "duration": 22,
        "start_time": "2022-04-06T10:37:59.149Z"
      },
      {
        "duration": 585,
        "start_time": "2022-04-06T10:37:59.173Z"
      },
      {
        "duration": 22,
        "start_time": "2022-04-06T10:37:59.761Z"
      },
      {
        "duration": 76,
        "start_time": "2022-04-06T10:37:59.786Z"
      },
      {
        "duration": 710,
        "start_time": "2022-04-06T10:37:59.864Z"
      },
      {
        "duration": 42,
        "start_time": "2022-04-06T10:38:00.577Z"
      },
      {
        "duration": 32,
        "start_time": "2022-04-06T10:38:00.621Z"
      },
      {
        "duration": 16,
        "start_time": "2022-04-06T10:38:00.656Z"
      },
      {
        "duration": 12,
        "start_time": "2022-04-06T10:38:00.674Z"
      },
      {
        "duration": 9,
        "start_time": "2022-04-06T10:38:00.688Z"
      },
      {
        "duration": 51,
        "start_time": "2022-04-06T10:38:00.700Z"
      },
      {
        "duration": 455,
        "start_time": "2022-04-06T10:38:00.754Z"
      },
      {
        "duration": 10,
        "start_time": "2022-04-06T10:38:01.212Z"
      },
      {
        "duration": 224,
        "start_time": "2022-04-06T10:38:01.225Z"
      },
      {
        "duration": 15,
        "start_time": "2022-04-06T10:38:01.458Z"
      },
      {
        "duration": 43,
        "start_time": "2022-04-06T10:38:01.476Z"
      },
      {
        "duration": 77,
        "start_time": "2022-04-06T10:38:01.522Z"
      },
      {
        "duration": 244,
        "start_time": "2022-04-06T10:38:01.601Z"
      },
      {
        "duration": 7,
        "start_time": "2022-04-06T10:38:01.847Z"
      },
      {
        "duration": 246,
        "start_time": "2022-04-06T10:38:01.856Z"
      },
      {
        "duration": 9,
        "start_time": "2022-04-06T10:38:02.105Z"
      },
      {
        "duration": 93,
        "start_time": "2022-04-06T10:38:02.116Z"
      },
      {
        "duration": 366,
        "start_time": "2022-04-06T10:38:02.212Z"
      },
      {
        "duration": 6,
        "start_time": "2022-04-06T10:38:02.580Z"
      },
      {
        "duration": 229,
        "start_time": "2022-04-06T10:38:02.588Z"
      },
      {
        "duration": 23,
        "start_time": "2022-04-06T10:38:02.820Z"
      },
      {
        "duration": 424,
        "start_time": "2022-04-06T10:38:02.845Z"
      },
      {
        "duration": 455,
        "start_time": "2022-04-06T10:38:03.272Z"
      },
      {
        "duration": 43,
        "start_time": "2022-04-06T10:38:03.729Z"
      },
      {
        "duration": 313,
        "start_time": "2022-04-06T10:38:03.775Z"
      },
      {
        "duration": 12,
        "start_time": "2022-04-06T10:38:04.090Z"
      },
      {
        "duration": 49,
        "start_time": "2022-04-06T10:38:04.104Z"
      },
      {
        "duration": 366,
        "start_time": "2022-04-06T10:38:04.155Z"
      },
      {
        "duration": 37,
        "start_time": "2022-04-06T10:38:04.524Z"
      },
      {
        "duration": 343,
        "start_time": "2022-04-06T10:38:04.563Z"
      },
      {
        "duration": 10,
        "start_time": "2022-04-06T10:38:04.909Z"
      },
      {
        "duration": 297,
        "start_time": "2022-04-06T10:38:04.922Z"
      },
      {
        "duration": 267,
        "start_time": "2022-04-06T10:38:05.222Z"
      },
      {
        "duration": 24,
        "start_time": "2022-04-06T10:38:05.492Z"
      },
      {
        "duration": 19,
        "start_time": "2022-04-06T10:38:05.543Z"
      },
      {
        "duration": 23,
        "start_time": "2022-04-06T10:38:05.564Z"
      },
      {
        "duration": 13,
        "start_time": "2022-04-06T10:38:05.590Z"
      },
      {
        "duration": 14,
        "start_time": "2022-04-06T10:38:05.605Z"
      },
      {
        "duration": 11,
        "start_time": "2022-04-06T10:38:05.643Z"
      },
      {
        "duration": 14,
        "start_time": "2022-04-06T10:38:05.657Z"
      },
      {
        "duration": 18,
        "start_time": "2022-04-06T10:38:05.674Z"
      },
      {
        "duration": 51,
        "start_time": "2022-04-06T10:38:05.694Z"
      },
      {
        "duration": 8,
        "start_time": "2022-04-06T10:38:05.747Z"
      },
      {
        "duration": 14,
        "start_time": "2022-04-06T10:38:05.758Z"
      },
      {
        "duration": 12,
        "start_time": "2022-04-06T10:38:05.774Z"
      },
      {
        "duration": 14,
        "start_time": "2022-04-06T10:38:05.788Z"
      },
      {
        "duration": 44,
        "start_time": "2022-04-06T10:38:05.804Z"
      },
      {
        "duration": 1471,
        "start_time": "2022-04-06T10:42:45.790Z"
      },
      {
        "duration": 91,
        "start_time": "2022-04-06T10:42:47.263Z"
      },
      {
        "duration": 30,
        "start_time": "2022-04-06T10:42:47.357Z"
      },
      {
        "duration": 37,
        "start_time": "2022-04-06T10:42:47.391Z"
      },
      {
        "duration": 24,
        "start_time": "2022-04-06T10:42:47.431Z"
      },
      {
        "duration": 7,
        "start_time": "2022-04-06T10:42:47.457Z"
      },
      {
        "duration": 15,
        "start_time": "2022-04-06T10:42:47.466Z"
      },
      {
        "duration": 75,
        "start_time": "2022-04-06T10:42:47.483Z"
      },
      {
        "duration": 10,
        "start_time": "2022-04-06T10:42:47.561Z"
      },
      {
        "duration": 7,
        "start_time": "2022-04-06T10:42:47.577Z"
      },
      {
        "duration": 10,
        "start_time": "2022-04-06T10:42:47.587Z"
      },
      {
        "duration": 57,
        "start_time": "2022-04-06T10:42:47.599Z"
      },
      {
        "duration": 410,
        "start_time": "2022-04-06T10:42:47.658Z"
      },
      {
        "duration": 21,
        "start_time": "2022-04-06T10:42:48.071Z"
      },
      {
        "duration": 518,
        "start_time": "2022-04-06T10:42:48.094Z"
      },
      {
        "duration": 33,
        "start_time": "2022-04-06T10:42:48.614Z"
      },
      {
        "duration": 46,
        "start_time": "2022-04-06T10:42:48.650Z"
      },
      {
        "duration": 636,
        "start_time": "2022-04-06T10:42:48.698Z"
      },
      {
        "duration": 44,
        "start_time": "2022-04-06T10:42:49.336Z"
      },
      {
        "duration": 9,
        "start_time": "2022-04-06T10:42:49.382Z"
      },
      {
        "duration": 13,
        "start_time": "2022-04-06T10:42:49.393Z"
      },
      {
        "duration": 41,
        "start_time": "2022-04-06T10:42:49.408Z"
      },
      {
        "duration": 8,
        "start_time": "2022-04-06T10:42:49.451Z"
      },
      {
        "duration": 19,
        "start_time": "2022-04-06T10:42:49.461Z"
      },
      {
        "duration": 400,
        "start_time": "2022-04-06T10:42:49.482Z"
      },
      {
        "duration": 10,
        "start_time": "2022-04-06T10:42:49.885Z"
      },
      {
        "duration": 204,
        "start_time": "2022-04-06T10:42:49.897Z"
      },
      {
        "duration": 14,
        "start_time": "2022-04-06T10:42:50.108Z"
      },
      {
        "duration": 23,
        "start_time": "2022-04-06T10:42:50.125Z"
      },
      {
        "duration": 12,
        "start_time": "2022-04-06T10:42:50.150Z"
      },
      {
        "duration": 231,
        "start_time": "2022-04-06T10:42:50.164Z"
      },
      {
        "duration": 8,
        "start_time": "2022-04-06T10:42:50.398Z"
      },
      {
        "duration": 219,
        "start_time": "2022-04-06T10:42:50.408Z"
      },
      {
        "duration": 15,
        "start_time": "2022-04-06T10:42:50.630Z"
      },
      {
        "duration": 11,
        "start_time": "2022-04-06T10:42:50.647Z"
      },
      {
        "duration": 298,
        "start_time": "2022-04-06T10:42:50.661Z"
      },
      {
        "duration": 7,
        "start_time": "2022-04-06T10:42:50.961Z"
      },
      {
        "duration": 202,
        "start_time": "2022-04-06T10:42:50.970Z"
      },
      {
        "duration": 7,
        "start_time": "2022-04-06T10:42:51.174Z"
      },
      {
        "duration": 466,
        "start_time": "2022-04-06T10:42:51.183Z"
      },
      {
        "duration": 430,
        "start_time": "2022-04-06T10:42:51.651Z"
      },
      {
        "duration": 32,
        "start_time": "2022-04-06T10:42:52.083Z"
      },
      {
        "duration": 312,
        "start_time": "2022-04-06T10:42:52.117Z"
      },
      {
        "duration": 17,
        "start_time": "2022-04-06T10:42:52.431Z"
      },
      {
        "duration": 26,
        "start_time": "2022-04-06T10:42:52.450Z"
      },
      {
        "duration": 468,
        "start_time": "2022-04-06T10:42:52.478Z"
      },
      {
        "duration": 29,
        "start_time": "2022-04-06T10:42:52.948Z"
      },
      {
        "duration": 346,
        "start_time": "2022-04-06T10:42:52.979Z"
      },
      {
        "duration": 20,
        "start_time": "2022-04-06T10:42:53.327Z"
      },
      {
        "duration": 373,
        "start_time": "2022-04-06T10:42:53.349Z"
      },
      {
        "duration": 215,
        "start_time": "2022-04-06T10:42:53.724Z"
      },
      {
        "duration": 18,
        "start_time": "2022-04-06T10:42:53.943Z"
      },
      {
        "duration": 24,
        "start_time": "2022-04-06T10:42:53.963Z"
      },
      {
        "duration": 10,
        "start_time": "2022-04-06T10:42:53.989Z"
      },
      {
        "duration": 49,
        "start_time": "2022-04-06T10:42:54.001Z"
      },
      {
        "duration": 10,
        "start_time": "2022-04-06T10:42:54.053Z"
      },
      {
        "duration": 8,
        "start_time": "2022-04-06T10:42:54.066Z"
      },
      {
        "duration": 9,
        "start_time": "2022-04-06T10:42:54.076Z"
      },
      {
        "duration": 21,
        "start_time": "2022-04-06T10:42:54.087Z"
      },
      {
        "duration": 47,
        "start_time": "2022-04-06T10:42:54.110Z"
      },
      {
        "duration": 10,
        "start_time": "2022-04-06T10:42:54.159Z"
      },
      {
        "duration": 16,
        "start_time": "2022-04-06T10:42:54.171Z"
      },
      {
        "duration": 8,
        "start_time": "2022-04-06T10:42:54.189Z"
      },
      {
        "duration": 45,
        "start_time": "2022-04-06T10:42:54.199Z"
      },
      {
        "duration": 8,
        "start_time": "2022-04-06T10:42:54.247Z"
      },
      {
        "duration": 1075,
        "start_time": "2022-04-16T17:35:23.509Z"
      },
      {
        "duration": 54,
        "start_time": "2022-04-16T17:35:24.586Z"
      },
      {
        "duration": 13,
        "start_time": "2022-04-16T17:35:24.642Z"
      },
      {
        "duration": 22,
        "start_time": "2022-04-16T17:35:24.657Z"
      },
      {
        "duration": 15,
        "start_time": "2022-04-16T17:35:24.681Z"
      },
      {
        "duration": 5,
        "start_time": "2022-04-16T17:35:24.698Z"
      },
      {
        "duration": 13,
        "start_time": "2022-04-16T17:35:24.704Z"
      },
      {
        "duration": 55,
        "start_time": "2022-04-16T17:35:24.719Z"
      },
      {
        "duration": 7,
        "start_time": "2022-04-16T17:35:24.776Z"
      },
      {
        "duration": 11,
        "start_time": "2022-04-16T17:35:24.786Z"
      },
      {
        "duration": 8,
        "start_time": "2022-04-16T17:35:24.799Z"
      },
      {
        "duration": 10,
        "start_time": "2022-04-16T17:35:24.808Z"
      },
      {
        "duration": 254,
        "start_time": "2022-04-16T17:35:24.820Z"
      },
      {
        "duration": 12,
        "start_time": "2022-04-16T17:35:25.076Z"
      },
      {
        "duration": 310,
        "start_time": "2022-04-16T17:35:25.090Z"
      },
      {
        "duration": 14,
        "start_time": "2022-04-16T17:35:25.402Z"
      },
      {
        "duration": 29,
        "start_time": "2022-04-16T17:35:25.418Z"
      },
      {
        "duration": 448,
        "start_time": "2022-04-16T17:35:25.449Z"
      },
      {
        "duration": 23,
        "start_time": "2022-04-16T17:35:25.899Z"
      },
      {
        "duration": 7,
        "start_time": "2022-04-16T17:35:25.923Z"
      },
      {
        "duration": 8,
        "start_time": "2022-04-16T17:35:25.931Z"
      },
      {
        "duration": 6,
        "start_time": "2022-04-16T17:35:25.941Z"
      },
      {
        "duration": 6,
        "start_time": "2022-04-16T17:35:25.974Z"
      },
      {
        "duration": 20,
        "start_time": "2022-04-16T17:35:25.981Z"
      },
      {
        "duration": 242,
        "start_time": "2022-04-16T17:35:26.003Z"
      },
      {
        "duration": 7,
        "start_time": "2022-04-16T17:35:26.247Z"
      },
      {
        "duration": 126,
        "start_time": "2022-04-16T17:35:26.255Z"
      },
      {
        "duration": 9,
        "start_time": "2022-04-16T17:35:26.385Z"
      },
      {
        "duration": 11,
        "start_time": "2022-04-16T17:35:26.395Z"
      },
      {
        "duration": 9,
        "start_time": "2022-04-16T17:35:26.407Z"
      },
      {
        "duration": 150,
        "start_time": "2022-04-16T17:35:26.418Z"
      },
      {
        "duration": 5,
        "start_time": "2022-04-16T17:35:26.572Z"
      },
      {
        "duration": 137,
        "start_time": "2022-04-16T17:35:26.578Z"
      },
      {
        "duration": 5,
        "start_time": "2022-04-16T17:35:26.717Z"
      },
      {
        "duration": 8,
        "start_time": "2022-04-16T17:35:26.723Z"
      },
      {
        "duration": 221,
        "start_time": "2022-04-16T17:35:26.732Z"
      },
      {
        "duration": 4,
        "start_time": "2022-04-16T17:35:26.955Z"
      },
      {
        "duration": 132,
        "start_time": "2022-04-16T17:35:26.973Z"
      },
      {
        "duration": 4,
        "start_time": "2022-04-16T17:35:27.107Z"
      },
      {
        "duration": 226,
        "start_time": "2022-04-16T17:35:27.113Z"
      },
      {
        "duration": 257,
        "start_time": "2022-04-16T17:35:27.341Z"
      },
      {
        "duration": 22,
        "start_time": "2022-04-16T17:35:27.599Z"
      },
      {
        "duration": 190,
        "start_time": "2022-04-16T17:35:27.623Z"
      },
      {
        "duration": 8,
        "start_time": "2022-04-16T17:35:27.815Z"
      },
      {
        "duration": 24,
        "start_time": "2022-04-16T17:35:27.825Z"
      },
      {
        "duration": 218,
        "start_time": "2022-04-16T17:35:27.851Z"
      },
      {
        "duration": 17,
        "start_time": "2022-04-16T17:35:28.072Z"
      },
      {
        "duration": 198,
        "start_time": "2022-04-16T17:35:28.091Z"
      },
      {
        "duration": 7,
        "start_time": "2022-04-16T17:35:28.291Z"
      },
      {
        "duration": 168,
        "start_time": "2022-04-16T17:35:28.299Z"
      },
      {
        "duration": 130,
        "start_time": "2022-04-16T17:35:28.472Z"
      },
      {
        "duration": 12,
        "start_time": "2022-04-16T17:35:28.604Z"
      },
      {
        "duration": 13,
        "start_time": "2022-04-16T17:35:28.617Z"
      },
      {
        "duration": 7,
        "start_time": "2022-04-16T17:35:28.632Z"
      },
      {
        "duration": 7,
        "start_time": "2022-04-16T17:35:28.640Z"
      },
      {
        "duration": 28,
        "start_time": "2022-04-16T17:35:28.648Z"
      },
      {
        "duration": 7,
        "start_time": "2022-04-16T17:35:28.677Z"
      },
      {
        "duration": 6,
        "start_time": "2022-04-16T17:35:28.686Z"
      },
      {
        "duration": 14,
        "start_time": "2022-04-16T17:35:28.694Z"
      },
      {
        "duration": 20,
        "start_time": "2022-04-16T17:35:28.709Z"
      },
      {
        "duration": 6,
        "start_time": "2022-04-16T17:35:28.731Z"
      },
      {
        "duration": 6,
        "start_time": "2022-04-16T17:35:28.739Z"
      },
      {
        "duration": 29,
        "start_time": "2022-04-16T17:35:28.747Z"
      },
      {
        "duration": 8,
        "start_time": "2022-04-16T17:35:28.778Z"
      },
      {
        "duration": 7,
        "start_time": "2022-04-16T17:35:28.787Z"
      },
      {
        "duration": 3,
        "start_time": "2022-04-16T17:55:35.485Z"
      },
      {
        "duration": 1411,
        "start_time": "2022-04-18T05:56:46.603Z"
      },
      {
        "duration": 68,
        "start_time": "2022-04-18T05:56:48.016Z"
      },
      {
        "duration": 14,
        "start_time": "2022-04-18T05:56:48.086Z"
      },
      {
        "duration": 11,
        "start_time": "2022-04-18T05:56:48.103Z"
      },
      {
        "duration": 16,
        "start_time": "2022-04-18T05:56:48.116Z"
      },
      {
        "duration": 8,
        "start_time": "2022-04-18T05:56:48.134Z"
      },
      {
        "duration": 8,
        "start_time": "2022-04-18T05:56:48.143Z"
      },
      {
        "duration": 23,
        "start_time": "2022-04-18T05:56:48.153Z"
      },
      {
        "duration": 6,
        "start_time": "2022-04-18T05:56:48.177Z"
      },
      {
        "duration": 37,
        "start_time": "2022-04-18T05:56:48.185Z"
      },
      {
        "duration": 9,
        "start_time": "2022-04-18T05:56:48.224Z"
      },
      {
        "duration": 10,
        "start_time": "2022-04-18T05:56:48.235Z"
      },
      {
        "duration": 255,
        "start_time": "2022-04-18T05:56:48.247Z"
      },
      {
        "duration": 21,
        "start_time": "2022-04-18T05:56:48.503Z"
      },
      {
        "duration": 306,
        "start_time": "2022-04-18T05:56:48.527Z"
      },
      {
        "duration": 16,
        "start_time": "2022-04-18T05:56:48.835Z"
      },
      {
        "duration": 27,
        "start_time": "2022-04-18T05:56:48.852Z"
      },
      {
        "duration": 498,
        "start_time": "2022-04-18T05:56:48.881Z"
      },
      {
        "duration": 25,
        "start_time": "2022-04-18T05:56:49.380Z"
      },
      {
        "duration": 17,
        "start_time": "2022-04-18T05:56:49.406Z"
      },
      {
        "duration": 15,
        "start_time": "2022-04-18T05:56:49.426Z"
      },
      {
        "duration": 18,
        "start_time": "2022-04-18T05:56:49.442Z"
      },
      {
        "duration": 11,
        "start_time": "2022-04-18T05:56:49.461Z"
      },
      {
        "duration": 24,
        "start_time": "2022-04-18T05:56:49.473Z"
      },
      {
        "duration": 216,
        "start_time": "2022-04-18T05:56:49.498Z"
      },
      {
        "duration": 9,
        "start_time": "2022-04-18T05:56:49.716Z"
      },
      {
        "duration": 119,
        "start_time": "2022-04-18T05:56:49.726Z"
      },
      {
        "duration": 8,
        "start_time": "2022-04-18T05:56:49.849Z"
      },
      {
        "duration": 10,
        "start_time": "2022-04-18T05:56:49.859Z"
      },
      {
        "duration": 7,
        "start_time": "2022-04-18T05:56:49.870Z"
      },
      {
        "duration": 135,
        "start_time": "2022-04-18T05:56:49.878Z"
      },
      {
        "duration": 16,
        "start_time": "2022-04-18T05:56:50.014Z"
      },
      {
        "duration": 131,
        "start_time": "2022-04-18T05:56:50.032Z"
      },
      {
        "duration": 4,
        "start_time": "2022-04-18T05:56:50.165Z"
      },
      {
        "duration": 6,
        "start_time": "2022-04-18T05:56:50.171Z"
      },
      {
        "duration": 216,
        "start_time": "2022-04-18T05:56:50.178Z"
      },
      {
        "duration": 5,
        "start_time": "2022-04-18T05:56:50.395Z"
      },
      {
        "duration": 153,
        "start_time": "2022-04-18T05:56:50.402Z"
      },
      {
        "duration": 5,
        "start_time": "2022-04-18T05:56:50.556Z"
      },
      {
        "duration": 233,
        "start_time": "2022-04-18T05:56:50.563Z"
      },
      {
        "duration": 270,
        "start_time": "2022-04-18T05:56:50.798Z"
      },
      {
        "duration": 22,
        "start_time": "2022-04-18T05:56:51.070Z"
      },
      {
        "duration": 187,
        "start_time": "2022-04-18T05:56:51.094Z"
      },
      {
        "duration": 7,
        "start_time": "2022-04-18T05:56:51.283Z"
      },
      {
        "duration": 16,
        "start_time": "2022-04-18T05:56:51.292Z"
      },
      {
        "duration": 220,
        "start_time": "2022-04-18T05:56:51.310Z"
      },
      {
        "duration": 18,
        "start_time": "2022-04-18T05:56:51.533Z"
      },
      {
        "duration": 203,
        "start_time": "2022-04-18T05:56:51.552Z"
      },
      {
        "duration": 7,
        "start_time": "2022-04-18T05:56:51.756Z"
      },
      {
        "duration": 158,
        "start_time": "2022-04-18T05:56:51.764Z"
      },
      {
        "duration": 135,
        "start_time": "2022-04-18T05:56:51.925Z"
      },
      {
        "duration": 12,
        "start_time": "2022-04-18T05:56:52.062Z"
      },
      {
        "duration": 11,
        "start_time": "2022-04-18T05:56:52.075Z"
      },
      {
        "duration": 5,
        "start_time": "2022-04-18T05:56:52.087Z"
      },
      {
        "duration": 31,
        "start_time": "2022-04-18T05:56:52.093Z"
      },
      {
        "duration": 13,
        "start_time": "2022-04-18T05:56:52.126Z"
      },
      {
        "duration": 8,
        "start_time": "2022-04-18T05:56:52.141Z"
      },
      {
        "duration": 6,
        "start_time": "2022-04-18T05:56:52.150Z"
      },
      {
        "duration": 11,
        "start_time": "2022-04-18T05:56:52.157Z"
      },
      {
        "duration": 12,
        "start_time": "2022-04-18T05:56:52.170Z"
      },
      {
        "duration": 8,
        "start_time": "2022-04-18T05:56:52.184Z"
      },
      {
        "duration": 30,
        "start_time": "2022-04-18T05:56:52.194Z"
      },
      {
        "duration": 7,
        "start_time": "2022-04-18T05:56:52.226Z"
      },
      {
        "duration": 7,
        "start_time": "2022-04-18T05:56:52.236Z"
      },
      {
        "duration": 10,
        "start_time": "2022-04-18T05:56:52.244Z"
      },
      {
        "duration": 1213,
        "start_time": "2022-04-18T05:58:50.219Z"
      },
      {
        "duration": 67,
        "start_time": "2022-04-18T05:58:51.435Z"
      },
      {
        "duration": 13,
        "start_time": "2022-04-18T05:58:51.503Z"
      },
      {
        "duration": 14,
        "start_time": "2022-04-18T05:58:51.518Z"
      },
      {
        "duration": 13,
        "start_time": "2022-04-18T05:58:51.534Z"
      },
      {
        "duration": 4,
        "start_time": "2022-04-18T05:58:51.549Z"
      },
      {
        "duration": 8,
        "start_time": "2022-04-18T05:58:51.554Z"
      },
      {
        "duration": 22,
        "start_time": "2022-04-18T05:58:51.563Z"
      },
      {
        "duration": 6,
        "start_time": "2022-04-18T05:58:51.586Z"
      },
      {
        "duration": 32,
        "start_time": "2022-04-18T05:58:51.594Z"
      },
      {
        "duration": 9,
        "start_time": "2022-04-18T05:58:51.628Z"
      },
      {
        "duration": 8,
        "start_time": "2022-04-18T05:58:51.639Z"
      },
      {
        "duration": 261,
        "start_time": "2022-04-18T05:58:51.648Z"
      },
      {
        "duration": 19,
        "start_time": "2022-04-18T05:58:51.911Z"
      },
      {
        "duration": 297,
        "start_time": "2022-04-18T05:58:51.933Z"
      },
      {
        "duration": 14,
        "start_time": "2022-04-18T05:58:52.233Z"
      },
      {
        "duration": 27,
        "start_time": "2022-04-18T05:58:52.248Z"
      },
      {
        "duration": 469,
        "start_time": "2022-04-18T05:58:52.277Z"
      },
      {
        "duration": 23,
        "start_time": "2022-04-18T05:58:52.748Z"
      },
      {
        "duration": 7,
        "start_time": "2022-04-18T05:58:52.772Z"
      },
      {
        "duration": 8,
        "start_time": "2022-04-18T05:58:52.780Z"
      },
      {
        "duration": 6,
        "start_time": "2022-04-18T05:58:52.790Z"
      },
      {
        "duration": 32,
        "start_time": "2022-04-18T05:58:52.797Z"
      },
      {
        "duration": 17,
        "start_time": "2022-04-18T05:58:52.831Z"
      },
      {
        "duration": 236,
        "start_time": "2022-04-18T05:58:52.849Z"
      },
      {
        "duration": 6,
        "start_time": "2022-04-18T05:58:53.087Z"
      },
      {
        "duration": 128,
        "start_time": "2022-04-18T05:58:53.095Z"
      },
      {
        "duration": 13,
        "start_time": "2022-04-18T05:58:53.228Z"
      },
      {
        "duration": 35,
        "start_time": "2022-04-18T05:58:53.242Z"
      },
      {
        "duration": 22,
        "start_time": "2022-04-18T05:58:53.279Z"
      },
      {
        "duration": 144,
        "start_time": "2022-04-18T05:58:53.303Z"
      },
      {
        "duration": 4,
        "start_time": "2022-04-18T05:58:53.449Z"
      },
      {
        "duration": 132,
        "start_time": "2022-04-18T05:58:53.455Z"
      },
      {
        "duration": 5,
        "start_time": "2022-04-18T05:58:53.589Z"
      },
      {
        "duration": 24,
        "start_time": "2022-04-18T05:58:53.595Z"
      },
      {
        "duration": 212,
        "start_time": "2022-04-18T05:58:53.621Z"
      },
      {
        "duration": 6,
        "start_time": "2022-04-18T05:58:53.834Z"
      },
      {
        "duration": 130,
        "start_time": "2022-04-18T05:58:53.842Z"
      },
      {
        "duration": 4,
        "start_time": "2022-04-18T05:58:53.974Z"
      },
      {
        "duration": 217,
        "start_time": "2022-04-18T05:58:53.980Z"
      },
      {
        "duration": 254,
        "start_time": "2022-04-18T05:58:54.199Z"
      },
      {
        "duration": 21,
        "start_time": "2022-04-18T05:58:54.454Z"
      },
      {
        "duration": 185,
        "start_time": "2022-04-18T05:58:54.477Z"
      },
      {
        "duration": 8,
        "start_time": "2022-04-18T05:58:54.663Z"
      },
      {
        "duration": 27,
        "start_time": "2022-04-18T05:58:54.672Z"
      },
      {
        "duration": 208,
        "start_time": "2022-04-18T05:58:54.700Z"
      },
      {
        "duration": 21,
        "start_time": "2022-04-18T05:58:54.910Z"
      },
      {
        "duration": 207,
        "start_time": "2022-04-18T05:58:54.934Z"
      },
      {
        "duration": 6,
        "start_time": "2022-04-18T05:58:55.143Z"
      },
      {
        "duration": 160,
        "start_time": "2022-04-18T05:58:55.150Z"
      },
      {
        "duration": 137,
        "start_time": "2022-04-18T05:58:55.312Z"
      },
      {
        "duration": 11,
        "start_time": "2022-04-18T05:58:55.451Z"
      },
      {
        "duration": 40,
        "start_time": "2022-04-18T05:58:55.464Z"
      },
      {
        "duration": 28,
        "start_time": "2022-04-18T05:58:55.505Z"
      },
      {
        "duration": 21,
        "start_time": "2022-04-18T05:58:55.535Z"
      },
      {
        "duration": 24,
        "start_time": "2022-04-18T05:58:55.557Z"
      },
      {
        "duration": 24,
        "start_time": "2022-04-18T05:58:55.583Z"
      },
      {
        "duration": 29,
        "start_time": "2022-04-18T05:58:55.609Z"
      },
      {
        "duration": 26,
        "start_time": "2022-04-18T05:58:55.640Z"
      },
      {
        "duration": 26,
        "start_time": "2022-04-18T05:58:55.669Z"
      },
      {
        "duration": 22,
        "start_time": "2022-04-18T05:58:55.697Z"
      },
      {
        "duration": 28,
        "start_time": "2022-04-18T05:58:55.720Z"
      },
      {
        "duration": 27,
        "start_time": "2022-04-18T05:58:55.750Z"
      },
      {
        "duration": 50,
        "start_time": "2022-04-18T05:58:55.779Z"
      },
      {
        "duration": 24,
        "start_time": "2022-04-18T05:58:55.830Z"
      },
      {
        "duration": 73,
        "start_time": "2022-04-18T06:00:23.168Z"
      },
      {
        "duration": 8,
        "start_time": "2022-04-18T06:24:41.105Z"
      },
      {
        "duration": 13,
        "start_time": "2022-04-18T06:33:48.184Z"
      },
      {
        "duration": 246,
        "start_time": "2022-04-18T06:34:00.497Z"
      },
      {
        "duration": 251,
        "start_time": "2022-04-18T06:34:13.712Z"
      },
      {
        "duration": 7,
        "start_time": "2022-04-18T06:34:45.842Z"
      },
      {
        "duration": 6,
        "start_time": "2022-04-18T06:35:05.570Z"
      },
      {
        "duration": 146,
        "start_time": "2022-04-18T06:35:09.207Z"
      },
      {
        "duration": 8,
        "start_time": "2022-04-18T06:48:34.811Z"
      },
      {
        "duration": 7,
        "start_time": "2022-04-18T06:49:19.709Z"
      },
      {
        "duration": 200,
        "start_time": "2022-04-18T06:53:24.934Z"
      },
      {
        "duration": 14,
        "start_time": "2022-04-18T06:53:44.823Z"
      },
      {
        "duration": 11,
        "start_time": "2022-04-18T06:56:03.606Z"
      },
      {
        "duration": 11,
        "start_time": "2022-04-18T06:58:37.757Z"
      },
      {
        "duration": 11,
        "start_time": "2022-04-18T06:58:50.615Z"
      },
      {
        "duration": 11,
        "start_time": "2022-04-18T06:59:05.958Z"
      },
      {
        "duration": 10,
        "start_time": "2022-04-18T06:59:10.587Z"
      },
      {
        "duration": 15,
        "start_time": "2022-04-18T06:59:20.050Z"
      },
      {
        "duration": 18,
        "start_time": "2022-04-18T06:59:33.126Z"
      },
      {
        "duration": 9,
        "start_time": "2022-04-18T07:00:32.007Z"
      },
      {
        "duration": 9,
        "start_time": "2022-04-18T07:02:15.095Z"
      },
      {
        "duration": 226,
        "start_time": "2022-04-18T07:04:18.739Z"
      },
      {
        "duration": 275,
        "start_time": "2022-04-18T07:04:18.967Z"
      },
      {
        "duration": 24,
        "start_time": "2022-04-18T07:04:19.244Z"
      },
      {
        "duration": 197,
        "start_time": "2022-04-18T07:04:19.270Z"
      },
      {
        "duration": 8,
        "start_time": "2022-04-18T07:04:19.469Z"
      },
      {
        "duration": 18,
        "start_time": "2022-04-18T07:04:19.478Z"
      },
      {
        "duration": 235,
        "start_time": "2022-04-18T07:04:19.498Z"
      },
      {
        "duration": 19,
        "start_time": "2022-04-18T07:04:19.735Z"
      },
      {
        "duration": 217,
        "start_time": "2022-04-18T07:04:19.755Z"
      },
      {
        "duration": 8,
        "start_time": "2022-04-18T07:04:19.974Z"
      },
      {
        "duration": 172,
        "start_time": "2022-04-18T07:04:19.984Z"
      },
      {
        "duration": 133,
        "start_time": "2022-04-18T07:04:20.157Z"
      },
      {
        "duration": 12,
        "start_time": "2022-04-18T07:04:20.292Z"
      },
      {
        "duration": 22,
        "start_time": "2022-04-18T07:04:20.322Z"
      },
      {
        "duration": 25,
        "start_time": "2022-04-18T07:04:20.345Z"
      },
      {
        "duration": 17,
        "start_time": "2022-04-18T07:04:20.372Z"
      },
      {
        "duration": 15,
        "start_time": "2022-04-18T07:04:20.391Z"
      },
      {
        "duration": 40,
        "start_time": "2022-04-18T07:04:20.408Z"
      },
      {
        "duration": 12,
        "start_time": "2022-04-18T07:04:20.449Z"
      },
      {
        "duration": 28,
        "start_time": "2022-04-18T07:04:20.462Z"
      },
      {
        "duration": 32,
        "start_time": "2022-04-18T07:04:20.492Z"
      },
      {
        "duration": 27,
        "start_time": "2022-04-18T07:04:20.526Z"
      },
      {
        "duration": 28,
        "start_time": "2022-04-18T07:04:20.555Z"
      },
      {
        "duration": 22,
        "start_time": "2022-04-18T07:04:20.585Z"
      },
      {
        "duration": 12,
        "start_time": "2022-04-18T07:04:20.608Z"
      },
      {
        "duration": 27,
        "start_time": "2022-04-18T07:04:20.621Z"
      },
      {
        "duration": 5,
        "start_time": "2022-04-18T07:04:31.709Z"
      },
      {
        "duration": 77,
        "start_time": "2022-04-18T07:04:31.716Z"
      },
      {
        "duration": 14,
        "start_time": "2022-04-18T07:04:31.794Z"
      },
      {
        "duration": 20,
        "start_time": "2022-04-18T07:04:31.809Z"
      },
      {
        "duration": 19,
        "start_time": "2022-04-18T07:04:31.832Z"
      },
      {
        "duration": 6,
        "start_time": "2022-04-18T07:04:31.853Z"
      },
      {
        "duration": 10,
        "start_time": "2022-04-18T07:04:31.860Z"
      },
      {
        "duration": 60,
        "start_time": "2022-04-18T07:04:31.872Z"
      },
      {
        "duration": 9,
        "start_time": "2022-04-18T07:04:31.934Z"
      },
      {
        "duration": 17,
        "start_time": "2022-04-18T07:04:31.944Z"
      },
      {
        "duration": 6,
        "start_time": "2022-04-18T07:04:31.963Z"
      },
      {
        "duration": 17,
        "start_time": "2022-04-18T07:04:31.971Z"
      },
      {
        "duration": 278,
        "start_time": "2022-04-18T07:04:31.989Z"
      },
      {
        "duration": 12,
        "start_time": "2022-04-18T07:04:32.270Z"
      },
      {
        "duration": 437,
        "start_time": "2022-04-18T07:04:32.284Z"
      },
      {
        "duration": 21,
        "start_time": "2022-04-18T07:04:32.723Z"
      },
      {
        "duration": 33,
        "start_time": "2022-04-18T07:04:32.746Z"
      },
      {
        "duration": 504,
        "start_time": "2022-04-18T07:04:32.781Z"
      },
      {
        "duration": 35,
        "start_time": "2022-04-18T07:04:33.287Z"
      },
      {
        "duration": 10,
        "start_time": "2022-04-18T07:04:33.324Z"
      },
      {
        "duration": 10,
        "start_time": "2022-04-18T07:04:33.336Z"
      },
      {
        "duration": 6,
        "start_time": "2022-04-18T07:04:33.348Z"
      },
      {
        "duration": 18,
        "start_time": "2022-04-18T07:04:33.356Z"
      },
      {
        "duration": 293,
        "start_time": "2022-04-18T07:04:33.376Z"
      },
      {
        "duration": 8,
        "start_time": "2022-04-18T07:04:33.671Z"
      },
      {
        "duration": 142,
        "start_time": "2022-04-18T07:04:33.681Z"
      },
      {
        "duration": 14,
        "start_time": "2022-04-18T07:04:33.825Z"
      },
      {
        "duration": 12,
        "start_time": "2022-04-18T07:04:33.841Z"
      },
      {
        "duration": 10,
        "start_time": "2022-04-18T07:04:33.856Z"
      },
      {
        "duration": 216,
        "start_time": "2022-04-18T07:04:33.868Z"
      },
      {
        "duration": 5,
        "start_time": "2022-04-18T07:04:34.086Z"
      },
      {
        "duration": 163,
        "start_time": "2022-04-18T07:04:34.093Z"
      },
      {
        "duration": 5,
        "start_time": "2022-04-18T07:04:34.257Z"
      },
      {
        "duration": 8,
        "start_time": "2022-04-18T07:04:34.263Z"
      },
      {
        "duration": 147,
        "start_time": "2022-04-18T07:04:34.272Z"
      },
      {
        "duration": 6,
        "start_time": "2022-04-18T07:04:34.421Z"
      },
      {
        "duration": 183,
        "start_time": "2022-04-18T07:04:34.432Z"
      },
      {
        "duration": 8,
        "start_time": "2022-04-18T07:04:34.617Z"
      },
      {
        "duration": 5,
        "start_time": "2022-04-18T07:26:22.732Z"
      },
      {
        "duration": 6,
        "start_time": "2022-04-18T07:27:01.089Z"
      },
      {
        "duration": 5,
        "start_time": "2022-04-18T07:28:05.301Z"
      },
      {
        "duration": 8,
        "start_time": "2022-04-18T07:28:17.994Z"
      },
      {
        "duration": 165,
        "start_time": "2022-04-18T07:28:21.180Z"
      },
      {
        "duration": 4,
        "start_time": "2022-04-18T07:28:40.036Z"
      },
      {
        "duration": 7,
        "start_time": "2022-04-18T07:28:43.316Z"
      },
      {
        "duration": 159,
        "start_time": "2022-04-18T07:28:46.044Z"
      },
      {
        "duration": 241,
        "start_time": "2022-04-18T07:29:16.669Z"
      },
      {
        "duration": 6,
        "start_time": "2022-04-18T07:36:21.102Z"
      },
      {
        "duration": 104,
        "start_time": "2022-04-18T07:37:33.205Z"
      },
      {
        "duration": 5,
        "start_time": "2022-04-18T07:44:09.270Z"
      },
      {
        "duration": 4,
        "start_time": "2022-04-18T07:44:35.055Z"
      },
      {
        "duration": 6,
        "start_time": "2022-04-18T07:45:07.023Z"
      },
      {
        "duration": 4,
        "start_time": "2022-04-18T07:45:52.527Z"
      },
      {
        "duration": 2,
        "start_time": "2022-04-18T07:47:04.661Z"
      },
      {
        "duration": 70,
        "start_time": "2022-04-18T07:47:04.668Z"
      },
      {
        "duration": 14,
        "start_time": "2022-04-18T07:47:04.740Z"
      },
      {
        "duration": 11,
        "start_time": "2022-04-18T07:47:04.756Z"
      },
      {
        "duration": 16,
        "start_time": "2022-04-18T07:47:04.769Z"
      },
      {
        "duration": 4,
        "start_time": "2022-04-18T07:47:04.787Z"
      },
      {
        "duration": 38,
        "start_time": "2022-04-18T07:47:04.793Z"
      },
      {
        "duration": 27,
        "start_time": "2022-04-18T07:47:04.833Z"
      },
      {
        "duration": 7,
        "start_time": "2022-04-18T07:47:04.861Z"
      },
      {
        "duration": 7,
        "start_time": "2022-04-18T07:47:04.869Z"
      },
      {
        "duration": 4,
        "start_time": "2022-04-18T07:47:04.878Z"
      },
      {
        "duration": 46,
        "start_time": "2022-04-18T07:47:04.884Z"
      },
      {
        "duration": 266,
        "start_time": "2022-04-18T07:47:04.932Z"
      },
      {
        "duration": 14,
        "start_time": "2022-04-18T07:47:05.199Z"
      },
      {
        "duration": 296,
        "start_time": "2022-04-18T07:47:05.222Z"
      },
      {
        "duration": 12,
        "start_time": "2022-04-18T07:47:05.520Z"
      },
      {
        "duration": 38,
        "start_time": "2022-04-18T07:47:05.534Z"
      },
      {
        "duration": 424,
        "start_time": "2022-04-18T07:47:05.574Z"
      },
      {
        "duration": 35,
        "start_time": "2022-04-18T07:47:05.999Z"
      },
      {
        "duration": 7,
        "start_time": "2022-04-18T07:47:06.036Z"
      },
      {
        "duration": 14,
        "start_time": "2022-04-18T07:47:06.045Z"
      },
      {
        "duration": 20,
        "start_time": "2022-04-18T07:47:06.060Z"
      },
      {
        "duration": 25,
        "start_time": "2022-04-18T07:47:06.082Z"
      },
      {
        "duration": 229,
        "start_time": "2022-04-18T07:47:06.109Z"
      },
      {
        "duration": 7,
        "start_time": "2022-04-18T07:47:06.340Z"
      },
      {
        "duration": 128,
        "start_time": "2022-04-18T07:47:06.349Z"
      },
      {
        "duration": 10,
        "start_time": "2022-04-18T07:47:06.479Z"
      },
      {
        "duration": 14,
        "start_time": "2022-04-18T07:47:06.493Z"
      },
      {
        "duration": 18,
        "start_time": "2022-04-18T07:47:06.509Z"
      },
      {
        "duration": 138,
        "start_time": "2022-04-18T07:47:06.528Z"
      },
      {
        "duration": 5,
        "start_time": "2022-04-18T07:47:06.667Z"
      },
      {
        "duration": 144,
        "start_time": "2022-04-18T07:47:06.674Z"
      },
      {
        "duration": 5,
        "start_time": "2022-04-18T07:47:06.822Z"
      },
      {
        "duration": 32,
        "start_time": "2022-04-18T07:47:06.829Z"
      },
      {
        "duration": 250,
        "start_time": "2022-04-18T07:47:06.863Z"
      },
      {
        "duration": 10,
        "start_time": "2022-04-18T07:47:07.114Z"
      },
      {
        "duration": 128,
        "start_time": "2022-04-18T07:47:07.126Z"
      },
      {
        "duration": 4,
        "start_time": "2022-04-18T07:47:07.256Z"
      },
      {
        "duration": 212,
        "start_time": "2022-04-18T07:47:07.261Z"
      },
      {
        "duration": 250,
        "start_time": "2022-04-18T07:47:07.474Z"
      },
      {
        "duration": 21,
        "start_time": "2022-04-18T07:47:07.725Z"
      },
      {
        "duration": 185,
        "start_time": "2022-04-18T07:47:07.748Z"
      },
      {
        "duration": 8,
        "start_time": "2022-04-18T07:47:07.935Z"
      },
      {
        "duration": 21,
        "start_time": "2022-04-18T07:47:07.945Z"
      },
      {
        "duration": 221,
        "start_time": "2022-04-18T07:47:07.968Z"
      },
      {
        "duration": 17,
        "start_time": "2022-04-18T07:47:08.190Z"
      },
      {
        "duration": 208,
        "start_time": "2022-04-18T07:47:08.209Z"
      },
      {
        "duration": 4,
        "start_time": "2022-04-18T07:47:08.422Z"
      },
      {
        "duration": 122,
        "start_time": "2022-04-18T08:01:44.186Z"
      },
      {
        "duration": 3,
        "start_time": "2022-04-18T08:01:49.895Z"
      },
      {
        "duration": 60,
        "start_time": "2022-04-18T08:01:49.902Z"
      },
      {
        "duration": 15,
        "start_time": "2022-04-18T08:01:49.963Z"
      },
      {
        "duration": 10,
        "start_time": "2022-04-18T08:01:49.979Z"
      },
      {
        "duration": 35,
        "start_time": "2022-04-18T08:01:49.991Z"
      },
      {
        "duration": 6,
        "start_time": "2022-04-18T08:01:50.028Z"
      },
      {
        "duration": 11,
        "start_time": "2022-04-18T08:01:50.035Z"
      },
      {
        "duration": 27,
        "start_time": "2022-04-18T08:01:50.047Z"
      },
      {
        "duration": 6,
        "start_time": "2022-04-18T08:01:50.076Z"
      },
      {
        "duration": 43,
        "start_time": "2022-04-18T08:01:50.083Z"
      },
      {
        "duration": 5,
        "start_time": "2022-04-18T08:01:50.130Z"
      },
      {
        "duration": 9,
        "start_time": "2022-04-18T08:01:50.136Z"
      },
      {
        "duration": 301,
        "start_time": "2022-04-18T08:01:50.147Z"
      },
      {
        "duration": 14,
        "start_time": "2022-04-18T08:01:50.449Z"
      },
      {
        "duration": 310,
        "start_time": "2022-04-18T08:01:50.465Z"
      },
      {
        "duration": 13,
        "start_time": "2022-04-18T08:01:50.777Z"
      },
      {
        "duration": 47,
        "start_time": "2022-04-18T08:01:50.792Z"
      },
      {
        "duration": 540,
        "start_time": "2022-04-18T08:01:50.841Z"
      },
      {
        "duration": 41,
        "start_time": "2022-04-18T08:01:51.382Z"
      },
      {
        "duration": 8,
        "start_time": "2022-04-18T08:01:51.425Z"
      },
      {
        "duration": 8,
        "start_time": "2022-04-18T08:01:51.434Z"
      },
      {
        "duration": 10,
        "start_time": "2022-04-18T08:01:51.444Z"
      },
      {
        "duration": 14,
        "start_time": "2022-04-18T08:01:51.456Z"
      },
      {
        "duration": 253,
        "start_time": "2022-04-18T08:01:51.471Z"
      },
      {
        "duration": 7,
        "start_time": "2022-04-18T08:01:51.725Z"
      },
      {
        "duration": 127,
        "start_time": "2022-04-18T08:01:51.733Z"
      },
      {
        "duration": 10,
        "start_time": "2022-04-18T08:01:51.861Z"
      },
      {
        "duration": 36,
        "start_time": "2022-04-18T08:01:51.872Z"
      },
      {
        "duration": 9,
        "start_time": "2022-04-18T08:01:51.911Z"
      },
      {
        "duration": 153,
        "start_time": "2022-04-18T08:01:51.921Z"
      },
      {
        "duration": 5,
        "start_time": "2022-04-18T08:01:52.075Z"
      },
      {
        "duration": 135,
        "start_time": "2022-04-18T08:01:52.082Z"
      },
      {
        "duration": 5,
        "start_time": "2022-04-18T08:01:52.221Z"
      },
      {
        "duration": 29,
        "start_time": "2022-04-18T08:01:52.228Z"
      },
      {
        "duration": 142,
        "start_time": "2022-04-18T08:01:52.259Z"
      },
      {
        "duration": 5,
        "start_time": "2022-04-18T08:01:52.403Z"
      },
      {
        "duration": 143,
        "start_time": "2022-04-18T08:01:52.410Z"
      },
      {
        "duration": 5,
        "start_time": "2022-04-18T08:01:52.554Z"
      },
      {
        "duration": 222,
        "start_time": "2022-04-18T08:01:52.561Z"
      },
      {
        "duration": 258,
        "start_time": "2022-04-18T08:01:52.784Z"
      },
      {
        "duration": 23,
        "start_time": "2022-04-18T08:01:53.044Z"
      },
      {
        "duration": 269,
        "start_time": "2022-04-18T08:01:53.068Z"
      },
      {
        "duration": 8,
        "start_time": "2022-04-18T08:01:53.339Z"
      },
      {
        "duration": 22,
        "start_time": "2022-04-18T08:01:53.349Z"
      },
      {
        "duration": 238,
        "start_time": "2022-04-18T08:01:53.373Z"
      },
      {
        "duration": 23,
        "start_time": "2022-04-18T08:01:53.613Z"
      },
      {
        "duration": 203,
        "start_time": "2022-04-18T08:01:53.638Z"
      },
      {
        "duration": 4,
        "start_time": "2022-04-18T08:01:53.843Z"
      },
      {
        "duration": 5,
        "start_time": "2022-04-18T08:01:53.849Z"
      },
      {
        "duration": 8,
        "start_time": "2022-04-18T08:01:53.856Z"
      },
      {
        "duration": 179,
        "start_time": "2022-04-18T08:01:53.865Z"
      },
      {
        "duration": 134,
        "start_time": "2022-04-18T08:01:54.045Z"
      },
      {
        "duration": 1617,
        "start_time": "2022-04-18T09:04:40.956Z"
      },
      {
        "duration": 214,
        "start_time": "2022-04-18T09:04:42.576Z"
      },
      {
        "duration": 0,
        "start_time": "2022-04-18T09:04:42.795Z"
      },
      {
        "duration": 0,
        "start_time": "2022-04-18T09:04:42.796Z"
      },
      {
        "duration": 0,
        "start_time": "2022-04-18T09:04:42.798Z"
      },
      {
        "duration": 0,
        "start_time": "2022-04-18T09:04:42.799Z"
      },
      {
        "duration": 0,
        "start_time": "2022-04-18T09:04:42.801Z"
      },
      {
        "duration": 0,
        "start_time": "2022-04-18T09:04:42.802Z"
      },
      {
        "duration": 0,
        "start_time": "2022-04-18T09:04:42.803Z"
      },
      {
        "duration": 0,
        "start_time": "2022-04-18T09:04:42.804Z"
      },
      {
        "duration": 0,
        "start_time": "2022-04-18T09:04:42.806Z"
      },
      {
        "duration": 0,
        "start_time": "2022-04-18T09:04:42.824Z"
      },
      {
        "duration": 0,
        "start_time": "2022-04-18T09:04:42.826Z"
      },
      {
        "duration": 0,
        "start_time": "2022-04-18T09:04:42.827Z"
      },
      {
        "duration": 0,
        "start_time": "2022-04-18T09:04:42.829Z"
      },
      {
        "duration": 0,
        "start_time": "2022-04-18T09:04:42.831Z"
      },
      {
        "duration": 0,
        "start_time": "2022-04-18T09:04:42.832Z"
      },
      {
        "duration": 0,
        "start_time": "2022-04-18T09:04:42.834Z"
      },
      {
        "duration": 0,
        "start_time": "2022-04-18T09:04:42.835Z"
      },
      {
        "duration": 0,
        "start_time": "2022-04-18T09:04:42.837Z"
      },
      {
        "duration": 0,
        "start_time": "2022-04-18T09:04:42.839Z"
      },
      {
        "duration": 0,
        "start_time": "2022-04-18T09:04:42.840Z"
      },
      {
        "duration": 0,
        "start_time": "2022-04-18T09:04:42.842Z"
      },
      {
        "duration": 0,
        "start_time": "2022-04-18T09:04:42.843Z"
      },
      {
        "duration": 0,
        "start_time": "2022-04-18T09:04:42.845Z"
      },
      {
        "duration": 0,
        "start_time": "2022-04-18T09:04:42.846Z"
      },
      {
        "duration": 0,
        "start_time": "2022-04-18T09:04:42.848Z"
      },
      {
        "duration": 0,
        "start_time": "2022-04-18T09:04:42.850Z"
      },
      {
        "duration": 0,
        "start_time": "2022-04-18T09:04:42.851Z"
      },
      {
        "duration": 1,
        "start_time": "2022-04-18T09:04:42.852Z"
      },
      {
        "duration": 0,
        "start_time": "2022-04-18T09:04:42.854Z"
      },
      {
        "duration": 0,
        "start_time": "2022-04-18T09:04:42.856Z"
      },
      {
        "duration": 0,
        "start_time": "2022-04-18T09:04:42.857Z"
      },
      {
        "duration": 0,
        "start_time": "2022-04-18T09:04:42.859Z"
      },
      {
        "duration": 0,
        "start_time": "2022-04-18T09:04:42.860Z"
      },
      {
        "duration": 0,
        "start_time": "2022-04-18T09:04:42.862Z"
      },
      {
        "duration": 0,
        "start_time": "2022-04-18T09:04:42.863Z"
      },
      {
        "duration": 0,
        "start_time": "2022-04-18T09:04:42.865Z"
      },
      {
        "duration": 0,
        "start_time": "2022-04-18T09:04:42.922Z"
      },
      {
        "duration": 0,
        "start_time": "2022-04-18T09:04:42.924Z"
      },
      {
        "duration": 0,
        "start_time": "2022-04-18T09:04:42.925Z"
      },
      {
        "duration": 0,
        "start_time": "2022-04-18T09:04:42.927Z"
      },
      {
        "duration": 0,
        "start_time": "2022-04-18T09:04:42.929Z"
      },
      {
        "duration": 0,
        "start_time": "2022-04-18T09:04:42.930Z"
      },
      {
        "duration": 0,
        "start_time": "2022-04-18T09:04:42.931Z"
      },
      {
        "duration": 0,
        "start_time": "2022-04-18T09:04:42.933Z"
      },
      {
        "duration": 0,
        "start_time": "2022-04-18T09:04:42.934Z"
      },
      {
        "duration": 0,
        "start_time": "2022-04-18T09:04:42.935Z"
      },
      {
        "duration": 0,
        "start_time": "2022-04-18T09:04:42.936Z"
      },
      {
        "duration": 0,
        "start_time": "2022-04-18T09:04:42.938Z"
      },
      {
        "duration": 0,
        "start_time": "2022-04-18T09:04:42.939Z"
      },
      {
        "duration": 0,
        "start_time": "2022-04-18T09:04:42.940Z"
      },
      {
        "duration": 0,
        "start_time": "2022-04-18T09:04:42.941Z"
      },
      {
        "duration": 0,
        "start_time": "2022-04-18T09:04:42.942Z"
      },
      {
        "duration": 0,
        "start_time": "2022-04-18T09:04:42.944Z"
      },
      {
        "duration": 0,
        "start_time": "2022-04-18T09:04:42.945Z"
      },
      {
        "duration": 0,
        "start_time": "2022-04-18T09:04:42.946Z"
      },
      {
        "duration": 0,
        "start_time": "2022-04-18T09:04:42.947Z"
      },
      {
        "duration": 0,
        "start_time": "2022-04-18T09:04:42.948Z"
      },
      {
        "duration": 0,
        "start_time": "2022-04-18T09:04:42.949Z"
      },
      {
        "duration": 0,
        "start_time": "2022-04-18T09:04:42.950Z"
      },
      {
        "duration": 0,
        "start_time": "2022-04-18T09:04:42.951Z"
      },
      {
        "duration": 0,
        "start_time": "2022-04-18T09:04:42.953Z"
      },
      {
        "duration": 0,
        "start_time": "2022-04-18T09:04:42.954Z"
      },
      {
        "duration": 0,
        "start_time": "2022-04-18T09:04:42.955Z"
      },
      {
        "duration": 0,
        "start_time": "2022-04-18T09:04:42.956Z"
      },
      {
        "duration": 4,
        "start_time": "2022-04-18T09:05:48.927Z"
      },
      {
        "duration": 96,
        "start_time": "2022-04-18T09:05:51.255Z"
      },
      {
        "duration": 1330,
        "start_time": "2022-04-18T09:06:01.038Z"
      },
      {
        "duration": 69,
        "start_time": "2022-04-18T09:06:02.370Z"
      },
      {
        "duration": 25,
        "start_time": "2022-04-18T09:06:02.441Z"
      },
      {
        "duration": 13,
        "start_time": "2022-04-18T09:06:02.469Z"
      },
      {
        "duration": 41,
        "start_time": "2022-04-18T09:06:02.483Z"
      },
      {
        "duration": 7,
        "start_time": "2022-04-18T09:06:02.526Z"
      },
      {
        "duration": 12,
        "start_time": "2022-04-18T09:06:02.535Z"
      },
      {
        "duration": 25,
        "start_time": "2022-04-18T09:06:02.550Z"
      },
      {
        "duration": 7,
        "start_time": "2022-04-18T09:06:02.577Z"
      },
      {
        "duration": 64,
        "start_time": "2022-04-18T09:06:02.587Z"
      },
      {
        "duration": 11,
        "start_time": "2022-04-18T09:06:02.653Z"
      },
      {
        "duration": 25,
        "start_time": "2022-04-18T09:06:02.665Z"
      },
      {
        "duration": 263,
        "start_time": "2022-04-18T09:06:02.692Z"
      },
      {
        "duration": 14,
        "start_time": "2022-04-18T09:06:02.956Z"
      },
      {
        "duration": 317,
        "start_time": "2022-04-18T09:06:02.971Z"
      },
      {
        "duration": 15,
        "start_time": "2022-04-18T09:06:03.289Z"
      },
      {
        "duration": 47,
        "start_time": "2022-04-18T09:06:03.305Z"
      },
      {
        "duration": 456,
        "start_time": "2022-04-18T09:06:03.353Z"
      },
      {
        "duration": 43,
        "start_time": "2022-04-18T09:06:03.811Z"
      },
      {
        "duration": 7,
        "start_time": "2022-04-18T09:06:03.856Z"
      },
      {
        "duration": 18,
        "start_time": "2022-04-18T09:06:03.865Z"
      },
      {
        "duration": 15,
        "start_time": "2022-04-18T09:06:03.885Z"
      },
      {
        "duration": 30,
        "start_time": "2022-04-18T09:06:03.901Z"
      },
      {
        "duration": 374,
        "start_time": "2022-04-18T09:06:03.933Z"
      },
      {
        "duration": 17,
        "start_time": "2022-04-18T09:06:04.308Z"
      },
      {
        "duration": 133,
        "start_time": "2022-04-18T09:06:04.328Z"
      },
      {
        "duration": 11,
        "start_time": "2022-04-18T09:06:04.463Z"
      },
      {
        "duration": 26,
        "start_time": "2022-04-18T09:06:04.478Z"
      },
      {
        "duration": 29,
        "start_time": "2022-04-18T09:06:04.506Z"
      },
      {
        "duration": 173,
        "start_time": "2022-04-18T09:06:04.537Z"
      },
      {
        "duration": 5,
        "start_time": "2022-04-18T09:06:04.713Z"
      },
      {
        "duration": 149,
        "start_time": "2022-04-18T09:06:04.723Z"
      },
      {
        "duration": 5,
        "start_time": "2022-04-18T09:06:04.873Z"
      },
      {
        "duration": 9,
        "start_time": "2022-04-18T09:06:04.880Z"
      },
      {
        "duration": 235,
        "start_time": "2022-04-18T09:06:04.890Z"
      },
      {
        "duration": 6,
        "start_time": "2022-04-18T09:06:05.128Z"
      },
      {
        "duration": 146,
        "start_time": "2022-04-18T09:06:05.137Z"
      },
      {
        "duration": 5,
        "start_time": "2022-04-18T09:06:05.285Z"
      },
      {
        "duration": 351,
        "start_time": "2022-04-18T09:06:05.292Z"
      },
      {
        "duration": 409,
        "start_time": "2022-04-18T09:06:05.645Z"
      },
      {
        "duration": 35,
        "start_time": "2022-04-18T09:06:06.056Z"
      },
      {
        "duration": 292,
        "start_time": "2022-04-18T09:06:06.094Z"
      },
      {
        "duration": 12,
        "start_time": "2022-04-18T09:06:06.389Z"
      },
      {
        "duration": 40,
        "start_time": "2022-04-18T09:06:06.403Z"
      },
      {
        "duration": 247,
        "start_time": "2022-04-18T09:06:06.445Z"
      },
      {
        "duration": 30,
        "start_time": "2022-04-18T09:06:06.694Z"
      },
      {
        "duration": 314,
        "start_time": "2022-04-18T09:06:06.726Z"
      },
      {
        "duration": 5,
        "start_time": "2022-04-18T09:06:07.043Z"
      },
      {
        "duration": 21,
        "start_time": "2022-04-18T09:06:07.050Z"
      },
      {
        "duration": 28,
        "start_time": "2022-04-18T09:06:07.072Z"
      },
      {
        "duration": 197,
        "start_time": "2022-04-18T09:06:07.102Z"
      },
      {
        "duration": 149,
        "start_time": "2022-04-18T09:06:07.302Z"
      },
      {
        "duration": 14,
        "start_time": "2022-04-18T09:06:07.453Z"
      },
      {
        "duration": 35,
        "start_time": "2022-04-18T09:06:07.469Z"
      },
      {
        "duration": 19,
        "start_time": "2022-04-18T09:06:07.505Z"
      },
      {
        "duration": 25,
        "start_time": "2022-04-18T09:06:07.526Z"
      },
      {
        "duration": 25,
        "start_time": "2022-04-18T09:06:07.552Z"
      },
      {
        "duration": 13,
        "start_time": "2022-04-18T09:06:07.579Z"
      },
      {
        "duration": 23,
        "start_time": "2022-04-18T09:06:07.594Z"
      },
      {
        "duration": 32,
        "start_time": "2022-04-18T09:06:07.618Z"
      },
      {
        "duration": 37,
        "start_time": "2022-04-18T09:06:07.652Z"
      },
      {
        "duration": 16,
        "start_time": "2022-04-18T09:06:07.691Z"
      },
      {
        "duration": 10,
        "start_time": "2022-04-18T09:06:07.709Z"
      },
      {
        "duration": 22,
        "start_time": "2022-04-18T09:06:07.720Z"
      },
      {
        "duration": 30,
        "start_time": "2022-04-18T09:06:07.744Z"
      },
      {
        "duration": 14,
        "start_time": "2022-04-18T09:06:07.777Z"
      },
      {
        "duration": 2143,
        "start_time": "2022-05-01T15:26:17.299Z"
      },
      {
        "duration": 157,
        "start_time": "2022-05-01T15:26:19.444Z"
      },
      {
        "duration": 13,
        "start_time": "2022-05-01T15:26:19.605Z"
      },
      {
        "duration": 8,
        "start_time": "2022-05-01T15:26:19.619Z"
      },
      {
        "duration": 75,
        "start_time": "2022-05-01T15:26:19.629Z"
      },
      {
        "duration": 5,
        "start_time": "2022-05-01T15:26:19.706Z"
      },
      {
        "duration": 13,
        "start_time": "2022-05-01T15:26:19.712Z"
      },
      {
        "duration": 93,
        "start_time": "2022-05-01T15:26:19.727Z"
      },
      {
        "duration": 7,
        "start_time": "2022-05-01T15:26:19.823Z"
      },
      {
        "duration": 7,
        "start_time": "2022-05-01T15:26:19.832Z"
      },
      {
        "duration": 61,
        "start_time": "2022-05-01T15:26:19.841Z"
      },
      {
        "duration": 10,
        "start_time": "2022-05-01T15:26:19.904Z"
      },
      {
        "duration": 699,
        "start_time": "2022-05-01T15:26:19.916Z"
      },
      {
        "duration": 16,
        "start_time": "2022-05-01T15:26:20.617Z"
      },
      {
        "duration": 882,
        "start_time": "2022-05-01T15:26:20.635Z"
      },
      {
        "duration": 16,
        "start_time": "2022-05-01T15:26:21.519Z"
      },
      {
        "duration": 94,
        "start_time": "2022-05-01T15:26:21.537Z"
      },
      {
        "duration": 905,
        "start_time": "2022-05-01T15:26:21.633Z"
      },
      {
        "duration": 82,
        "start_time": "2022-05-01T15:26:22.540Z"
      },
      {
        "duration": 8,
        "start_time": "2022-05-01T15:26:22.624Z"
      },
      {
        "duration": 7,
        "start_time": "2022-05-01T15:26:22.634Z"
      },
      {
        "duration": 5,
        "start_time": "2022-05-01T15:26:22.701Z"
      },
      {
        "duration": 12,
        "start_time": "2022-05-01T15:26:22.707Z"
      },
      {
        "duration": 413,
        "start_time": "2022-05-01T15:26:22.721Z"
      },
      {
        "duration": 6,
        "start_time": "2022-05-01T15:26:23.136Z"
      },
      {
        "duration": 203,
        "start_time": "2022-05-01T15:26:23.200Z"
      },
      {
        "duration": 8,
        "start_time": "2022-05-01T15:26:23.407Z"
      },
      {
        "duration": 10,
        "start_time": "2022-05-01T15:26:23.417Z"
      },
      {
        "duration": 9,
        "start_time": "2022-05-01T15:26:23.428Z"
      },
      {
        "duration": 231,
        "start_time": "2022-05-01T15:26:23.500Z"
      },
      {
        "duration": 4,
        "start_time": "2022-05-01T15:26:23.733Z"
      },
      {
        "duration": 275,
        "start_time": "2022-05-01T15:26:23.739Z"
      },
      {
        "duration": 5,
        "start_time": "2022-05-01T15:26:24.015Z"
      },
      {
        "duration": 9,
        "start_time": "2022-05-01T15:26:24.021Z"
      },
      {
        "duration": 387,
        "start_time": "2022-05-01T15:26:24.031Z"
      },
      {
        "duration": 4,
        "start_time": "2022-05-01T15:26:24.419Z"
      },
      {
        "duration": 278,
        "start_time": "2022-05-01T15:26:24.425Z"
      },
      {
        "duration": 5,
        "start_time": "2022-05-01T15:26:24.705Z"
      },
      {
        "duration": 395,
        "start_time": "2022-05-01T15:26:24.712Z"
      },
      {
        "duration": 438,
        "start_time": "2022-05-01T15:26:25.109Z"
      },
      {
        "duration": 69,
        "start_time": "2022-05-01T15:26:25.549Z"
      },
      {
        "duration": 319,
        "start_time": "2022-05-01T15:26:25.620Z"
      },
      {
        "duration": 61,
        "start_time": "2022-05-01T15:26:25.941Z"
      },
      {
        "duration": 20,
        "start_time": "2022-05-01T15:26:26.004Z"
      },
      {
        "duration": 398,
        "start_time": "2022-05-01T15:26:26.026Z"
      },
      {
        "duration": 16,
        "start_time": "2022-05-01T15:26:26.425Z"
      },
      {
        "duration": 383,
        "start_time": "2022-05-01T15:26:26.442Z"
      },
      {
        "duration": 4,
        "start_time": "2022-05-01T15:26:26.827Z"
      },
      {
        "duration": 5,
        "start_time": "2022-05-01T15:26:26.833Z"
      },
      {
        "duration": 65,
        "start_time": "2022-05-01T15:26:26.839Z"
      },
      {
        "duration": 296,
        "start_time": "2022-05-01T15:26:26.906Z"
      },
      {
        "duration": 219,
        "start_time": "2022-05-01T15:26:27.204Z"
      },
      {
        "duration": 12,
        "start_time": "2022-05-01T15:26:27.424Z"
      },
      {
        "duration": 69,
        "start_time": "2022-05-01T15:26:27.437Z"
      },
      {
        "duration": 5,
        "start_time": "2022-05-01T15:26:27.508Z"
      },
      {
        "duration": 9,
        "start_time": "2022-05-01T15:26:27.515Z"
      },
      {
        "duration": 7,
        "start_time": "2022-05-01T15:26:27.525Z"
      },
      {
        "duration": 67,
        "start_time": "2022-05-01T15:26:27.533Z"
      },
      {
        "duration": 5,
        "start_time": "2022-05-01T15:26:27.602Z"
      },
      {
        "duration": 12,
        "start_time": "2022-05-01T15:26:27.608Z"
      },
      {
        "duration": 11,
        "start_time": "2022-05-01T15:26:27.622Z"
      },
      {
        "duration": 67,
        "start_time": "2022-05-01T15:26:27.634Z"
      },
      {
        "duration": 5,
        "start_time": "2022-05-01T15:26:27.703Z"
      },
      {
        "duration": 5,
        "start_time": "2022-05-01T15:26:27.710Z"
      },
      {
        "duration": 8,
        "start_time": "2022-05-01T15:26:27.717Z"
      },
      {
        "duration": 10,
        "start_time": "2022-05-01T15:26:27.726Z"
      },
      {
        "duration": 35,
        "start_time": "2022-05-01T15:26:50.367Z"
      },
      {
        "duration": 132,
        "start_time": "2022-05-01T15:27:36.811Z"
      },
      {
        "duration": 7,
        "start_time": "2022-05-01T15:27:44.801Z"
      },
      {
        "duration": 105,
        "start_time": "2022-05-01T15:30:15.760Z"
      },
      {
        "duration": 28,
        "start_time": "2022-05-01T15:30:28.997Z"
      },
      {
        "duration": 11,
        "start_time": "2022-05-01T15:30:44.411Z"
      },
      {
        "duration": 22,
        "start_time": "2022-05-01T15:30:55.988Z"
      },
      {
        "duration": 11,
        "start_time": "2022-05-01T15:31:15.291Z"
      },
      {
        "duration": 11,
        "start_time": "2022-05-01T15:31:37.836Z"
      },
      {
        "duration": 21,
        "start_time": "2022-05-01T15:31:42.512Z"
      },
      {
        "duration": 21,
        "start_time": "2022-05-01T15:32:28.002Z"
      },
      {
        "duration": 32,
        "start_time": "2022-05-01T15:32:44.995Z"
      },
      {
        "duration": 67,
        "start_time": "2022-05-04T18:52:18.150Z"
      },
      {
        "duration": 1838,
        "start_time": "2022-05-04T18:52:29.788Z"
      },
      {
        "duration": 84,
        "start_time": "2022-05-04T18:52:31.629Z"
      },
      {
        "duration": 22,
        "start_time": "2022-05-04T18:52:31.715Z"
      },
      {
        "duration": 13,
        "start_time": "2022-05-04T18:52:31.739Z"
      },
      {
        "duration": 53,
        "start_time": "2022-05-04T18:52:31.754Z"
      },
      {
        "duration": 14,
        "start_time": "2022-05-04T18:52:31.809Z"
      },
      {
        "duration": 19,
        "start_time": "2022-05-04T18:52:31.825Z"
      },
      {
        "duration": 48,
        "start_time": "2022-05-04T18:52:31.846Z"
      },
      {
        "duration": 9,
        "start_time": "2022-05-04T18:52:31.896Z"
      },
      {
        "duration": 10,
        "start_time": "2022-05-04T18:52:31.909Z"
      },
      {
        "duration": 9,
        "start_time": "2022-05-04T18:52:31.921Z"
      },
      {
        "duration": 13,
        "start_time": "2022-05-04T18:52:31.932Z"
      },
      {
        "duration": 432,
        "start_time": "2022-05-04T18:52:31.947Z"
      },
      {
        "duration": 23,
        "start_time": "2022-05-04T18:52:32.381Z"
      },
      {
        "duration": 497,
        "start_time": "2022-05-04T18:52:32.406Z"
      },
      {
        "duration": 20,
        "start_time": "2022-05-04T18:52:32.905Z"
      },
      {
        "duration": 70,
        "start_time": "2022-05-04T18:52:32.927Z"
      },
      {
        "duration": 640,
        "start_time": "2022-05-04T18:52:32.999Z"
      },
      {
        "duration": 51,
        "start_time": "2022-05-04T18:52:33.641Z"
      },
      {
        "duration": 10,
        "start_time": "2022-05-04T18:52:33.694Z"
      },
      {
        "duration": 12,
        "start_time": "2022-05-04T18:52:33.706Z"
      },
      {
        "duration": 8,
        "start_time": "2022-05-04T18:52:33.720Z"
      },
      {
        "duration": 19,
        "start_time": "2022-05-04T18:52:33.730Z"
      },
      {
        "duration": 432,
        "start_time": "2022-05-04T18:52:33.751Z"
      },
      {
        "duration": 9,
        "start_time": "2022-05-04T18:52:34.193Z"
      },
      {
        "duration": 293,
        "start_time": "2022-05-04T18:52:34.204Z"
      },
      {
        "duration": 14,
        "start_time": "2022-05-04T18:52:34.499Z"
      },
      {
        "duration": 14,
        "start_time": "2022-05-04T18:52:34.519Z"
      },
      {
        "duration": 12,
        "start_time": "2022-05-04T18:52:34.536Z"
      },
      {
        "duration": 256,
        "start_time": "2022-05-04T18:52:34.550Z"
      },
      {
        "duration": 7,
        "start_time": "2022-05-04T18:52:34.809Z"
      },
      {
        "duration": 241,
        "start_time": "2022-05-04T18:52:34.818Z"
      },
      {
        "duration": 7,
        "start_time": "2022-05-04T18:52:35.061Z"
      },
      {
        "duration": 25,
        "start_time": "2022-05-04T18:52:35.070Z"
      },
      {
        "duration": 302,
        "start_time": "2022-05-04T18:52:35.097Z"
      },
      {
        "duration": 8,
        "start_time": "2022-05-04T18:52:35.401Z"
      },
      {
        "duration": 238,
        "start_time": "2022-05-04T18:52:35.412Z"
      },
      {
        "duration": 9,
        "start_time": "2022-05-04T18:52:35.653Z"
      },
      {
        "duration": 381,
        "start_time": "2022-05-04T18:52:35.664Z"
      },
      {
        "duration": 428,
        "start_time": "2022-05-04T18:52:36.047Z"
      },
      {
        "duration": 42,
        "start_time": "2022-05-04T18:52:36.477Z"
      },
      {
        "duration": 299,
        "start_time": "2022-05-04T18:52:36.522Z"
      },
      {
        "duration": 12,
        "start_time": "2022-05-04T18:52:36.823Z"
      },
      {
        "duration": 25,
        "start_time": "2022-05-04T18:52:36.837Z"
      },
      {
        "duration": 367,
        "start_time": "2022-05-04T18:52:36.864Z"
      },
      {
        "duration": 27,
        "start_time": "2022-05-04T18:52:37.233Z"
      },
      {
        "duration": 353,
        "start_time": "2022-05-04T18:52:37.262Z"
      },
      {
        "duration": 6,
        "start_time": "2022-05-04T18:52:37.617Z"
      },
      {
        "duration": 10,
        "start_time": "2022-05-04T18:52:37.625Z"
      },
      {
        "duration": 12,
        "start_time": "2022-05-04T18:52:37.637Z"
      },
      {
        "duration": 297,
        "start_time": "2022-05-04T18:52:37.651Z"
      },
      {
        "duration": 229,
        "start_time": "2022-05-04T18:52:37.950Z"
      },
      {
        "duration": 23,
        "start_time": "2022-05-04T18:52:38.181Z"
      },
      {
        "duration": 19,
        "start_time": "2022-05-04T18:52:38.206Z"
      },
      {
        "duration": 14,
        "start_time": "2022-05-04T18:52:38.227Z"
      },
      {
        "duration": 10,
        "start_time": "2022-05-04T18:52:38.243Z"
      },
      {
        "duration": 42,
        "start_time": "2022-05-04T18:52:38.255Z"
      },
      {
        "duration": 15,
        "start_time": "2022-05-04T18:52:38.300Z"
      },
      {
        "duration": 12,
        "start_time": "2022-05-04T18:52:38.317Z"
      },
      {
        "duration": 20,
        "start_time": "2022-05-04T18:52:38.331Z"
      },
      {
        "duration": 51,
        "start_time": "2022-05-04T18:52:38.353Z"
      },
      {
        "duration": 8,
        "start_time": "2022-05-04T18:52:38.406Z"
      },
      {
        "duration": 21,
        "start_time": "2022-05-04T18:52:38.416Z"
      },
      {
        "duration": 10,
        "start_time": "2022-05-04T18:52:38.440Z"
      },
      {
        "duration": 40,
        "start_time": "2022-05-04T18:52:38.453Z"
      },
      {
        "duration": 9,
        "start_time": "2022-05-04T18:52:38.495Z"
      },
      {
        "duration": 34,
        "start_time": "2022-05-04T18:52:38.507Z"
      },
      {
        "duration": 96,
        "start_time": "2022-05-04T18:52:38.544Z"
      }
    ],
    "kernelspec": {
      "display_name": "Python 3 (ipykernel)",
      "language": "python",
      "name": "python3"
    },
    "language_info": {
      "codemirror_mode": {
        "name": "ipython",
        "version": 3
      },
      "file_extension": ".py",
      "mimetype": "text/x-python",
      "name": "python",
      "nbconvert_exporter": "python",
      "pygments_lexer": "ipython3",
      "version": "3.9.5"
    },
    "toc": {
      "base_numbering": 1,
      "nav_menu": {},
      "number_sections": true,
      "sideBar": true,
      "skip_h1_title": true,
      "title_cell": "Table of Contents",
      "title_sidebar": "Contents",
      "toc_cell": false,
      "toc_position": {
        "height": "calc(100% - 180px)",
        "left": "10px",
        "top": "150px",
        "width": "165px"
      },
      "toc_section_display": true,
      "toc_window_display": true
    },
    "colab": {
      "provenance": [],
      "toc_visible": true
    }
  },
  "nbformat": 4,
  "nbformat_minor": 0
}